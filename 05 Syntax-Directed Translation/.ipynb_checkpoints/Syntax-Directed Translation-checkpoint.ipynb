{
 "cells": [
  {
   "cell_type": "markdown",
   "metadata": {
    "slideshow": {
     "slide_type": "slide"
    }
   },
   "source": [
    "---\n",
    "\n",
    "# 5. Syntax-Directed Translation\n",
    "**[Emil Sekerinski](http://www.cas.mcmaster.ca/~emil/), McMaster University, February 2024**\n",
    "\n",
    "---"
   ]
  },
  {
   "cell_type": "markdown",
   "metadata": {
    "slideshow": {
     "slide_type": "-"
    }
   },
   "source": [
    "> This notebook contains [type hints](https://www.python.org/dev/peps/pep-0484/) that allow type-checking with [mypy](http://mypy-lang.org/). See also this [introduction](https://www.python.org/dev/peps/pep-0483/), the Python [typing](https://docs.python.org/3/library/typing.html) library, and this [cheat sheet](https://mypy.readthedocs.io/en/stable/cheat_sheet_py3.html). The [nb_mypy](https://pypi.org/project/nb-mypy/) notebook extension type-checks notebook cells with mypy as they are executed. The extension can be installed by `python3 -m pip install nb_mypy`, which also installs mypy, and then has to be enabled by running the line magic below. "
   ]
  },
  {
   "cell_type": "code",
   "execution_count": null,
   "metadata": {},
   "outputs": [],
   "source": [
    "%load_ext nb_mypy"
   ]
  },
  {
   "cell_type": "markdown",
   "metadata": {
    "slideshow": {
     "slide_type": "slide"
    }
   },
   "source": [
    "### Attribute Grammars"
   ]
  },
  {
   "cell_type": "markdown",
   "metadata": {
    "slideshow": {
     "slide_type": "-"
    }
   },
   "source": [
    "So far, we were only concerned with accepting or rejecting the input according to a grammar. The goal is, of course, to produce eventually output, in the case of a compiler to generate machine code. To this end, we use _attribute grammars_. These attach computation to a parse tree. Attribute grammars extend context-free grammars by\n",
    "- associating a set of named _attributes_ with each symbol and\n",
    "- augmenting productions with *attribute evaluation rules*."
   ]
  },
  {
   "cell_type": "markdown",
   "metadata": {
    "slideshow": {
     "slide_type": "slide"
    }
   },
   "source": [
    "To every symbol `X` of a grammar, a computation is associated that computes the attributes of `X`. Productions are of the form\n",
    "\n",
    "    X(s₁,s₂) → … Y(t₁, t₂) … Z(u₁, u₂) …\n",
    "\n",
    "where `s₁, s₂, t₁, t₂, u₁, u₂` are the attributes associated with the corresponding symbols. The computation, in its simplest form, is a function that computes the attributes on the left-hand side of a production from the attributes on the right-hand side:\n",
    "\n",
    "    (s₁, s₂) = f(t₁, t₂, u₁, u₂)\n",
    "\n",
    "With an implementation in mind, we allow mathematical functions and programming language statements to express the computation."
   ]
  },
  {
   "attachments": {
    "synthesized.svg": {
     "image/svg+xml": [
      "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"
     ]
    }
   },
   "cell_type": "markdown",
   "metadata": {
    "slideshow": {
     "slide_type": "slide"
    }
   },
   "source": [
    " If a symbol appears multiple times in a production, its attributes are given unique names. For example, consider a grammar for binary numbers with productions:\n",
    "\n",
    "    binary → binary digit\n",
    "    binary → digit\n",
    "    digit → '0'\n",
    "    digit → '1'\n",
    "\n",
    "<img style=\"width:14em;float:right;border-left:10px solid white\" src=\"img/synthesized.svg\"></img>\n",
    "For computing the value of a binary number, one integer attribute is associated with `digit` and one integer attribute with `binary`. An attribute grammar computing the value is:\n",
    "\n",
    "| production                          | attribute rule      |\n",
    "|:------------------------------------|:--------------------|\n",
    "| `binary(v₀) → binary(v₁) digit(v₂)` | `v₀ := 2 × v₁ + v₂` |\n",
    "| `binary(v₀) → digit(v₁)`            | `v₀ := v₁`          |\n",
    "| `digit(v) → '0'`                    | `v := 0`            |\n",
    "| `digit(v) → '1'`                    | `v := 1`            |\n",
    "\n",
    "In the parse tree, the attributes are evaluated bottom-up, indicated by the green arrows in the figure to the right. The meaning of a sentence is given by the attributes of the start symbol from which it is derived."
   ]
  },
  {
   "cell_type": "markdown",
   "metadata": {
    "slideshow": {
     "slide_type": "slide"
    }
   },
   "source": [
    "The above grammar has a left-recursive production, making it unsuitable for recursive descent parsing. An equivalent grammar in EBNF is:\n",
    "\n",
    "    binary → digit { digit }\n",
    "    digit → '0' | '1'\n",
    "\n",
    "With EBNF, the attribute rules are placed \"inside\" the productions to express that a rule will be executed after the preceding nonterminal is recognized, as would be with the plain grammar. The attribute rules are delineated by `«` and `»`:\n",
    "\n",
    "    binary(v₀) → digit(v₁) « v₀ := v₁ » { digit(v₂) « v₀ := 2 × v₀ + v₂ » }\n",
    "    digit(v) → '0' « v := 0 » | '1' « v := 1 »\n",
    "\n",
    "As the assignment `v₀ := v₁` only copies a value, it can be omitted by renaming the attributes. Now, the first `digit` in the productions for `binary` assigns the initial value of `v`:\n",
    "\n",
    "    binary(v) → digit(v) { digit(w) « v := 2 × v + w » }\n",
    "    digit(v) → '0' « v := 0 » | '1' « v := 1 »"
   ]
  },
  {
   "cell_type": "markdown",
   "metadata": {
    "slideshow": {
     "slide_type": "slide"
    }
   },
   "source": [
    "Let us define the EBNF of EBNF with attributes:\n",
    "\n",
    "    grammar  →  production {'\\n' production }\n",
    "    production  →  identifier attributes '→' expression\n",
    "    expression  →  term { '|' term }\n",
    "    term  →  factor { ' ' factor }\n",
    "    factor  →  (identifier attributes | string | '(' expression ')' | '[' expression ']' | '{' expression '}') [rule]\n",
    "    rule  →  '«' statement '»'\n",
    "    attributes  →  [ '(' identifier {',' identifier} ')' ]\n",
    "    identifier  →  letter { letter | digit }\n",
    "    letter  →  'A' | … | 'Z'\n",
    "    digit  →  '0' | … | '9'\n",
    "    string  →  '\\'' { char } '\\''\n",
    "\n",
    "When constructing a recursive descent parser, the attributes become the result parameters of the parsing procedures. (The notation `procedure p(v₁, v₂) → (r₁, r₂)` is used for a procedure with value parameters `v₁`, `v₂` and result parameters `r₁`, `r₂`.) The rule for constructing parsing procedures is extended by having productions with a list of attributes, `as` below:\n",
    "\n",
    "\n",
    "| `p`             | `pr(p)`                             |\n",
    "|:----------------|:------------------------------------|\n",
    "| `B(as) → E`     | `procedure B() → (as)` <br> `pr(E)` |\n",
    "\n",
    "The rules for constructing `pr(E)` are extended to include attribute evaluation rules:\n",
    "\n",
    "| `E`             | `pr(E)` |\n",
    "|:----------------|:--------|\n",
    "| `«stat»`        | `stat`  |"
   ]
  },
  {
   "cell_type": "markdown",
   "metadata": {
    "slideshow": {
     "slide_type": "slide"
    }
   },
   "source": [
    "As Python does not have named result parameters, local variables for the attributes are introduced and returned at the end of each parsing procedure. Here is the parser for the above grammar, first without attribute rules:"
   ]
  },
  {
   "cell_type": "code",
   "execution_count": null,
   "metadata": {
    "slideshow": {
     "slide_type": "-"
    }
   },
   "outputs": [],
   "source": [
    "src: str; pos: int; sym: str\n",
    "\n",
    "def nxt():\n",
    "    global pos, sym\n",
    "    if pos < len(src): sym, pos = src[pos], pos + 1\n",
    "    else: sym = chr(0) # end of input symbol\n",
    "\n",
    "def binary(): # binary → digit { digit }\n",
    "    digit()\n",
    "    while sym in '01': digit()\n",
    "\n",
    "def digit(): # digit → '0' | '1'\n",
    "    if sym == '0': nxt()\n",
    "    elif sym == '1': nxt()\n",
    "    else: raise Exception(\"invalid character at \" + str(pos))\n",
    "\n",
    "def parse(s: str):\n",
    "    global src, pos;\n",
    "    src, pos = s, 0; nxt(); binary()\n",
    "    if sym != chr(0): raise Exception(\"unexpected character at \" + str(pos))"
   ]
  },
  {
   "cell_type": "markdown",
   "metadata": {},
   "source": [
    "A trace of the calling sequence is given in case of incorrect input; otherwise, there is no effect:"
   ]
  },
  {
   "cell_type": "code",
   "execution_count": null,
   "metadata": {},
   "outputs": [],
   "source": [
    "# parse(\"2\") # invalid character at 1\n",
    "# parse(\"0x1\") # unexpected character at 2\n",
    "parse(\"101\")"
   ]
  },
  {
   "cell_type": "markdown",
   "metadata": {
    "slideshow": {
     "slide_type": "slide"
    }
   },
   "source": [
    "Here is the parser with attribute rules added:"
   ]
  },
  {
   "cell_type": "markdown",
   "metadata": {},
   "source": [
    "    binary(v) → digit(v) { digit(w) « v := 2 × v + w » }\n",
    "    digit(v) → '0' « v := 0 » | '1' « v := 1 »"
   ]
  },
  {
   "cell_type": "code",
   "execution_count": null,
   "metadata": {},
   "outputs": [],
   "source": [
    "src: str; pos: int; sym: str\n",
    "\n",
    "def nxt():\n",
    "    global pos, sym\n",
    "    if pos < len(src): sym, pos = src[pos], pos + 1\n",
    "    else: sym = chr(0) # end of input symbol\n",
    "\n",
    "def binary() -> int: # binary(v) → digit(v) { digit(w) « v := 2 × v + w » }\n",
    "    v = digit()\n",
    "    while sym in '01': w = digit(); v = v * 2 + w\n",
    "    return v\n",
    "\n",
    "def digit() -> int: # digit(v) → '0' « v := 0 » | '1' « v := 1 »\n",
    "    if sym == '0': nxt(); w = 0\n",
    "    elif sym == '1': nxt(); w = 1\n",
    "    else: raise Exception(\"invalid character at \" + str(pos))\n",
    "    return w\n",
    "\n",
    "def evaluate(s: str) -> int:\n",
    "    global src, pos;\n",
    "    src, pos = s, 0; nxt(); v = binary()\n",
    "    if sym != chr(0): raise Exception(\"unexpected character at \" + str(pos))\n",
    "    return v"
   ]
  },
  {
   "cell_type": "code",
   "execution_count": null,
   "metadata": {},
   "outputs": [],
   "source": [
    "assert evaluate(\"101\") == 5"
   ]
  },
  {
   "cell_type": "markdown",
   "metadata": {
    "slideshow": {
     "slide_type": "slide"
    }
   },
   "source": [
    "### Evaluating Arithmetic Expressions"
   ]
  },
  {
   "cell_type": "markdown",
   "metadata": {
    "slideshow": {
     "slide_type": "-"
    }
   },
   "source": [
    "Consider _evaluating arithmetic expressions_ over constant integers. In the following EBNF grammar, the symbols are characters and white space (`ws`) is allowed around operators and integers:\n",
    "\n",
    "    expression → ws term { '+' ws term }\n",
    "    term → factor { '*' ws factor }\n",
    "    factor → integer | '(' expression ')' ws\n",
    "    integer → digit { digit } ws\n",
    "    digit → '0' | '1' | '2' | '3' | '4' | '5' | '6' | '7' | '8' | '9'\n",
    "    ws → { ' ' }"
   ]
  },
  {
   "cell_type": "markdown",
   "metadata": {
    "slideshow": {
     "slide_type": "slide"
    }
   },
   "source": [
    "Attribute rules are added for evaluating expressions:\n",
    "\n",
    "    expression(v) → ws term(v) { '+' ws term(w) « v := v + w » }\n",
    "    term(v) → factor(v) { '*' ws factor(w) « v := v × w » }\n",
    "    factor(v) → integer(v) | '(' expression(v) ')' ws\n",
    "    integer(v) → digit(v) { digit(w) « v := 10 × v + w » } ws\n",
    "    digit(v) → '0' « v := 0 » | … | '9' « v := 9 » \n",
    "    ws → { ' ' }\n",
    "\n",
    "The implementation below contains several simplifications:\n",
    "- the test `sym ∈ {'0', '1', … '9'}` is implemented by `'0' <= sym <= '9'`,\n",
    "- if `sym` is a digit, it is converted to an integer by `ord(sym) - ord('0')`."
   ]
  },
  {
   "cell_type": "code",
   "execution_count": null,
   "metadata": {},
   "outputs": [],
   "source": [
    "src: str; pos: int; sym: str\n",
    "\n",
    "def nxt():\n",
    "    global pos, sym\n",
    "    if pos < len(src): sym, pos = src[pos], pos + 1\n",
    "    else: sym = chr(0) # end of input symbol\n",
    "\n",
    "def expression() -> int: # expression → ws term { '+' ws term }\n",
    "    ws(); v = term()\n",
    "    while sym == '+': nxt(); ws(); w = term(); v = v + w\n",
    "    return v\n",
    "\n",
    "def term() -> int: # term → factor { '*' ws factor }\n",
    "    v = factor()\n",
    "    while sym == '*': nxt(); ws(); w = factor(); v = v * w\n",
    "    return v\n",
    "\n",
    "def factor() -> int: # factor → integer | '(' expression ')' ws\n",
    "    if '0' <= sym <= '9': v = integer()\n",
    "    elif sym == '(':\n",
    "        nxt(); v = expression()\n",
    "        if sym == ')': nxt(); ws()\n",
    "        else: raise Exception(\"')' expected at \" + str(pos))\n",
    "    else: raise Exception(\"invalid character at \" + str(pos))\n",
    "    return v\n",
    "\n",
    "def integer() -> int: # integer(v) → digit(v) { digit(w) « v := 10 * v + w » } ws\n",
    "    # '0' <= sym <= '9'\n",
    "    v = digit()\n",
    "    while '0' <= sym <= '9': v = 10 * v + digit()\n",
    "    ws()\n",
    "    return v\n",
    "\n",
    "def digit() -> int: # integer → digit { digit } ws\n",
    "    # '0' <= sym <= '9'\n",
    "    v = ord(sym) - ord('0'); nxt()\n",
    "    return v\n",
    "\n",
    "def ws(): # ws → { ' ' }\n",
    "    while sym == ' ': nxt()\n",
    "\n",
    "def evaluate(s: str) -> int:\n",
    "    global src, pos;\n",
    "    src, pos = s, 0; nxt(); v = expression()\n",
    "    if sym != chr(0): raise Exception(\"unexpected character at \" + str(pos))\n",
    "    return v"
   ]
  },
  {
   "cell_type": "code",
   "execution_count": null,
   "metadata": {},
   "outputs": [],
   "source": [
    "#evaluate(\"(2 + 3\") # ')' expected at 6\n",
    "#evaluate(\"2 + x\") # invalid character at 5\n",
    "#evaluate(\"2 + 3!\") # unexpected character at 6\n",
    "assert evaluate(\"(2 + 3) * 4 + 5\") == 25"
   ]
  },
  {
   "cell_type": "markdown",
   "metadata": {
    "slideshow": {
     "slide_type": "slide"
    }
   },
   "source": [
    "### Type-checking"
   ]
  },
  {
   "cell_type": "markdown",
   "metadata": {
    "slideshow": {
     "slide_type": "-"
    }
   },
   "source": [
    "Attribute grammars can be used for _type-checking_. To illustrate this, relational operators `=`, `<` and boolean operators `&` (conjunction), `|` (disjunction) are introduced:\n",
    "\n",
    "    expression → ws simpleExpression [ ( '=' | '<' ) ws simpleExpression]\n",
    "    simpleExpression → ws term { ('+' | '|' ) ws term }\n",
    "    term → factor { ( '*' | '&' ) ws factor }\n",
    "    factor → integer | '(' expression ')' ws\n",
    "    integer → digit { digit } ws\n",
    "    digit → '0' | '1' | '2' | '3' | '4' | '5' | '6' | '7' | '8' | '9'\n",
    "    ws → { ' ' }"
   ]
  },
  {
   "cell_type": "markdown",
   "metadata": {},
   "source": [
    "Values are of type `int` or `bool`. Operators are of the following types, where `t` is either `int` or `bool`:\n",
    "\n",
    "    = : t × t → bool\n",
    "    < : int × int → bool\n",
    "    + : int × int → int\n",
    "    * : int × int → int\n",
    "    | : bool × bool → bool\n",
    "    & : bool × bool → bool\n",
    "\n",
    "The attribute grammar below checks the types and either evaluates the expression if it is type-correct or flags an error:"
   ]
  },
  {
   "cell_type": "markdown",
   "metadata": {
    "slideshow": {
     "slide_type": "slide"
    }
   },
   "source": [
    "    expression(v) → ws simpleExpr(v)\n",
    "        [ '=' ws simpleExpr(w) «if type(v) = type(w) then v := v = w else error»\n",
    "        | '<' ws simpleExpr(w) «if type(v) = int = type(w) then v := v < w else error» ]\n",
    "    simpleExpr(v) → term(v)\n",
    "        { '+' ws term(w) «if type(v) = int = type(w) then v := v + w else error»\n",
    "        | '|' ws term(w) «if type(v) = bool = type(w) then v := v or w else error» }\n",
    "    term(v) → factor(v)\n",
    "        { '*' ws factor(w) «if type(v) = int = type(w) then v := v * w else error»\n",
    "        | '&' ws factor(w) «if type(v) = bool = type(w) then v := v and w else error» }\n",
    "    factor(v) → integer(v) | '(' expression(v) ')' ws\n",
    "    integer(v) → digit(v) { digit(w) « v := 10 * v + w » } ws\n",
    "    digit(v) → '0' « v := 0 » | … | '9' « v := 9 » \n",
    "    ws → { ' ' }\n",
    "\n",
    "Attribute rules can also express conversions between types, e.g. from integer to floating point."
   ]
  },
  {
   "cell_type": "markdown",
   "metadata": {
    "slideshow": {
     "slide_type": "slide"
    }
   },
   "source": [
    "In the implementation, the type annotation now specifies that the value returned by `expression`, `simpleExpr`, `term`, and `factor` is either `int` or `bool`:"
   ]
  },
  {
   "cell_type": "code",
   "execution_count": null,
   "metadata": {},
   "outputs": [],
   "source": [
    "from typing import Union\n",
    "\n",
    "pos: int; sym: str; src: str\n",
    "\n",
    "def nxt():\n",
    "    global pos, sym\n",
    "    if pos < len(src): sym, pos = src[pos], pos + 1\n",
    "    else: sym = chr(0) # end of input symbol\n",
    "\n",
    "def expression() -> Union[bool, int]: \n",
    "    # expression → ws simpleExpression [ ( '=' | '<' ) ws simpleExpression]\n",
    "    ws(); v = simpleExpr()\n",
    "    if sym == '=':\n",
    "        nxt(); ws(); w = simpleExpr()\n",
    "        if type(v) == type(w): v = v == w\n",
    "        else: raise Exception(\"incompatible operands of '=' at \" + str(pos))\n",
    "    elif sym == '<':\n",
    "        nxt(); ws(); w = simpleExpr()\n",
    "        if type(v) == int == type(w): v = v < w\n",
    "        else: raise Exception(\"not int operands of '<' at \" + str(pos))\n",
    "    return v\n",
    "\n",
    "def simpleExpr() -> Union[bool, int]:\n",
    "    # simpleExpression → ws term { ('+' | '|' ) ws term }\n",
    "    v = term()\n",
    "    while sym in '+|':\n",
    "        if sym == '+':\n",
    "            nxt(); ws(); w = term()\n",
    "            if type(v) == int == type(w): v = v + w\n",
    "            else: raise Exception(\"not int operands of '+' at \" + str(pos))\n",
    "        else: # sym == '|'\n",
    "            nxt(); ws(); w = term()\n",
    "            if type(v) == bool == type(w): v = v or w\n",
    "            else: raise Exception(\"not bool operands of '|' at \" + str(pos))\n",
    "    return v\n",
    "\n",
    "def term() -> Union[bool, int]:\n",
    "    # term → factor { ( '*' | '&' ) ws factor }\n",
    "    v = factor()\n",
    "    while sym in '*&':\n",
    "        if sym == '*':\n",
    "            nxt(); ws(); w = factor()\n",
    "            if type(v) == int == type(w): v = v * w\n",
    "            else: raise Exception(\"not int operands of '*' at \" + str(pos))\n",
    "        else: # sym == '&'\n",
    "            nxt(); ws(); w = factor()\n",
    "            if type(v) == bool == type(w): v = v and w\n",
    "            else: raise Exception(\"not bool operands of '&' at \" + str(pos))\n",
    "    return v\n",
    "\n",
    "def factor() -> Union[bool, int]:\n",
    "    # factor → integer | '(' expression ')' ws\n",
    "    if '0' <= sym <= '9': v = integer()\n",
    "    elif sym == '(':\n",
    "        nxt(); v = expression()\n",
    "        if sym == ')': nxt(); ws()\n",
    "        else: raise Exception(\"')' expected at \" + str(pos))\n",
    "    else: raise Exception(\"invalid character at \" + str(pos))\n",
    "    return v\n",
    "\n",
    "def integer() -> int:\n",
    "    # integer → digit { digit } ws\n",
    "    # '0' <= sym <= '9'\n",
    "    v = digit()\n",
    "    while '0' <= sym <= '9': v = 10 * v + digit()\n",
    "    ws()\n",
    "    return v\n",
    "\n",
    "def digit() -> int:\n",
    "    # digit → '0' | '1' | '2' | '3' | '4' | '5' | '6' | '7' | '8' | '9'\n",
    "    # '0' <= sym <= '9'\n",
    "    v = ord(sym) - ord('0'); nxt()\n",
    "    return v\n",
    "\n",
    "def ws(): # ws → { ' ' }\n",
    "    while sym == ' ': nxt()\n",
    "\n",
    "def evaluate(s: str) -> int:\n",
    "    global src, pos;\n",
    "    src, pos = s, 0; nxt(); v = expression()\n",
    "    if sym != chr(0): raise Exception(\"unexpected characters at \" + str(pos))\n",
    "    return v"
   ]
  },
  {
   "cell_type": "code",
   "execution_count": null,
   "metadata": {},
   "outputs": [],
   "source": [
    "#evaluate(\"2 = (3 < 4)\") # incompatible operands of '=' at 11\n",
    "#evaluate(\"2 < (3 = 4)\") # not int operands of '<' at 11\n",
    "#evaluate(\"(2 = 3) + 4\") # not int operands of '+' at 11\n",
    "#evaluate(\"2 | 3\") # not bool operands of '|' at 5\n",
    "#evaluate(\"2 + (3 < 4) * 8\") # not int operands of '*' at 11\n",
    "#evaluate(\"2 & 3\") # not bool operands of '&' at 5\n",
    "assert evaluate(\"(2 < 3) = (3 < 4)\") # returns True"
   ]
  },
  {
   "cell_type": "markdown",
   "metadata": {
    "slideshow": {
     "slide_type": "slide"
    }
   },
   "source": [
    "### Infix to Postfix"
   ]
  },
  {
   "cell_type": "markdown",
   "metadata": {
    "slideshow": {
     "slide_type": "-"
    }
   },
   "source": [
    "In the _postfix_ notation (or _RPN_, _Reverse Polish Notation_) for expressions, operators are written after the operands. Expressions are evaluated by first pushing the operands on a stack and, when applying an operator, popping the operands from the stack and pushing the result on the stack again. Postfix notation does not need parentheses.\n",
    "\n",
    "| infix notation      | postfix notation |\n",
    "|:--------------------|:-----------------|\n",
    "| `2 + 3`             | `2 3 +`          |\n",
    "| `2 * 3 + 4`         | `2 3 * 4 +`      |\n",
    "| `2 + 3 * 4`         | `2 3 4 * +`      |\n",
    "| `(5 – 4) * (3 + 2)` | `5 4 – 3 2 + *`  |\n",
    "\n",
    "Some dedicated programming languages like Postscript and Forth, a series of HP calculators, and some calculator apps use postfix notation. Some processors support the evaluation of postfix expressions by providing a stack and instructions which operate this way on the stack (\"zero address instructions\"), in particular some CISC processors and virtual machines (JVM, .NET, WebAssembly)."
   ]
  },
  {
   "cell_type": "markdown",
   "metadata": {
    "slideshow": {
     "slide_type": "slide"
    }
   },
   "source": [
    "In the attribute grammar below, all attributes are strings and `+` is used for concatenation:\n",
    "\n",
    "    expression(p) → term(p) { '+' ws term(q) « p := p + ' ' + q + ' +' » }\n",
    "    term(p) → factor(p) { '*' ws factor(q) « p := p + ' ' + q + ' *' » }\n",
    "    factor(p) → (integer(p) | '(' expression(p) ')' ) ws\n",
    "    integer(p) → digit(p) { digit(q) « q := q + p» } ws\n",
    "    digit(p) → '0' « p := '0' » | ... | '9' « p := '9' »\n",
    "    ws → { ' ' }"
   ]
  },
  {
   "cell_type": "markdown",
   "metadata": {
    "slideshow": {
     "slide_type": "slide"
    }
   },
   "source": [
    "The implementation follows the same principles as the previous one:"
   ]
  },
  {
   "cell_type": "code",
   "execution_count": null,
   "metadata": {
    "slideshow": {
     "slide_type": "-"
    }
   },
   "outputs": [],
   "source": [
    "pos: int; sym: str; src: str\n",
    "\n",
    "def nxt():\n",
    "    global pos, sym\n",
    "    if pos < len(src): sym, pos = src[pos], pos + 1\n",
    "    else: sym = chr(0) # end of input symbol\n",
    "\n",
    "def expression() -> str: # expression → ws term { '+' ws term }\n",
    "    ws(); p = term()\n",
    "    while sym == '+': nxt(); ws(); p += ' ' + term() + ' +'\n",
    "    return p\n",
    "\n",
    "def term() -> str: # term → factor { '*' ws factor }\n",
    "    p = factor()\n",
    "    while sym == '*': nxt(); ws(); p += ' ' + factor() + ' *'\n",
    "    return p\n",
    "\n",
    "def factor() -> str: # factor → (integer | '(' expression ')' ) ws\n",
    "    if '0' <= sym <= '9': p = integer()\n",
    "    elif sym == '(':\n",
    "        nxt(); p = expression()\n",
    "        if sym == ')': nxt(); ws()\n",
    "        else: raise Exception(\"')' expected at \" + str(pos))\n",
    "    else: raise Exception(\"invalid character at \" + str(pos))\n",
    "    return p\n",
    "\n",
    "def integer() -> str: # integer → digit { digit }\n",
    "    p = digit()\n",
    "    while '0' <= sym <= '9': p += digit()\n",
    "    ws()\n",
    "    return p\n",
    "\n",
    "def digit() -> str: # digit → '0' | ... | '9'\n",
    "    # '0' <= sym <= '9'\n",
    "    p = sym; nxt()\n",
    "    return p\n",
    "\n",
    "def ws(): # ws → { ' ' }\n",
    "    while sym == ' ': nxt()\n",
    "\n",
    "def convert(s) -> str:\n",
    "    global src, pos;\n",
    "    src, pos = s, 0; nxt(); v = expression()\n",
    "    if sym != chr(0): raise Exception(\"unexpected character at \" + str(pos))\n",
    "    return v"
   ]
  },
  {
   "cell_type": "code",
   "execution_count": null,
   "metadata": {},
   "outputs": [],
   "source": [
    "assert convert(\"2 * 3 + 4\") == '2 3 * 4 +'"
   ]
  },
  {
   "cell_type": "code",
   "execution_count": null,
   "metadata": {},
   "outputs": [],
   "source": [
    "assert convert(\"2 + 3 * 4\") == '2 3 4 * +'"
   ]
  },
  {
   "cell_type": "code",
   "execution_count": null,
   "metadata": {},
   "outputs": [],
   "source": [
    "assert convert(\"(2 + 3) * 4 + 5\") == '2 3 + 4 * 5 +'"
   ]
  },
  {
   "cell_type": "markdown",
   "metadata": {
    "slideshow": {
     "slide_type": "slide"
    }
   },
   "source": [
    "### Abstract Syntax Tree"
   ]
  },
  {
   "cell_type": "markdown",
   "metadata": {
    "slideshow": {
     "slide_type": "-"
    }
   },
   "source": [
    "Consider constructing an abstract syntax tree for arithmetic expressions over identifiers and operators for negation, addition, and multiplication. An inductive type definition concisely captures an abstract syntax tree,\n",
    "\n",
    "    Expr = Ident(str) | Minus(Expr) | Plus(Expr, Expr) | Times(Expr, Expr)\n",
    "\n",
    "where `Ident`, `Minus`, `Plus`, `Times` are constructors. For example, the abstract syntax tree of `- (a + b)` is `Minus(Plus('a', 'b'))`. A grammar suitable for parsing is:\n",
    "\n",
    "    expression → ws term { '+' ws term }\n",
    "    term → factor { '*' ws factor }\n",
    "    factor → [ '-' ws ] atom\n",
    "    atom → identifier | '(' expression ')' ws\n",
    "    identfier → letter { letter } ws\n",
    "    letter(t) → 'a' | … | 'z'\n",
    "    ws → { ' ' }\n",
    "\n",
    "(The word `atom` for something composed may seem odd.) The grammar is extended with attribute rules that construct the abstract syntax tree. The attribute `t` of `expression`, `term`, `factor`, and `atom` is of type `Expr`:\n",
    "\n",
    "    expression(t) → ws term(t) { '+' ws term(u) « t := Plus(t, u) » }\n",
    "    term(t) → factor(t) { '*' ws factor(u) « t := Times(t, u) » }\n",
    "    factor(t) →  '-' ws atom(t) « t := Minus(t) » | atom(t)\n",
    "    atom(t) → identifier(i) « t := Ident(i) » | '(' expression(t) ')' ws\n",
    "    identfier(i) → letter(i) { letter(l) « i := i + l » } ws\n",
    "    letter(l) → 'a' « l := 'a' » | … | 'z' « l := 'z' »\n",
    "    ws → { ' ' }\n",
    "\n",
    "Note how the production of `factor` was reformulated without `[…]`."
   ]
  },
  {
   "cell_type": "markdown",
   "metadata": {
    "slideshow": {
     "slide_type": "slide"
    }
   },
   "source": [
    "In Python, the type `Expr` can be expressed by a class and the constructors `Ident`, `Minus`, `Plus`, `Times` by subclasses of that class."
   ]
  },
  {
   "cell_type": "code",
   "execution_count": null,
   "metadata": {
    "slideshow": {
     "slide_type": "-"
    }
   },
   "outputs": [],
   "source": [
    "from textwrap import indent\n",
    "\n",
    "class Expr: pass\n",
    "\n",
    "class Ident(Expr):\n",
    "    def __init__(self, ident: str):\n",
    "        self.ident = ident\n",
    "    def __str__(self) -> str:\n",
    "        return self.ident\n",
    "\n",
    "class Minus(Expr):\n",
    "    def __init__(self, arg: Expr):\n",
    "        self.arg = arg\n",
    "    def __str__(self) -> str:\n",
    "        return '-\\n' + indent(str(self.arg), '  ')\n",
    "\n",
    "class Times(Expr):\n",
    "    def __init__(self, left: Expr, right: Expr):\n",
    "        self.left, self.right = left, right\n",
    "    def __str__(self) -> str:\n",
    "        return '*\\n' + indent(str(self.left), '  ') + '\\n' + indent(str(self.right), '  ')\n",
    "\n",
    "class Plus(Expr):\n",
    "    def __init__(self, left: Expr, right: Expr):\n",
    "        self.left, self.right = left, right\n",
    "    def __str__(self) -> str:\n",
    "        return '+\\n' + indent(str(self.left), '  ') + '\\n' + indent(str(self.right), '  ')\n",
    "\n",
    "pos: int; sym: str; src: str\n",
    "\n",
    "def nxt():\n",
    "    global pos, sym\n",
    "    if pos < len(src): sym, pos = src[pos], pos + 1\n",
    "    else: sym = chr(0) # end of input symbol\n",
    "\n",
    "def expression() -> Expr: # expression → ws term { '+' ws term }\n",
    "    ws(); t = term()\n",
    "    while sym == '+': nxt(); ws(); t = Plus(t, term())\n",
    "    return t\n",
    "\n",
    "def term() -> Expr: # term → factor { '*' ws factor }\n",
    "    t = factor()\n",
    "    while sym == '*': nxt(); ws(); t = Times(t, factor())\n",
    "    return t\n",
    "\n",
    "def factor() -> Expr: # factor → [ '-' ws ] atom\n",
    "    if sym == '-': nxt(); ws(); t: Expr = Minus(atom())\n",
    "    else: t = atom()\n",
    "    return t\n",
    "\n",
    "def atom() -> Expr: # atom → integer | '(' expression ')' ws\n",
    "    if 'a' <= sym <= 'z': t: Expr = Ident(identifier())\n",
    "    elif sym == '(':\n",
    "        nxt(); t = expression()\n",
    "        if sym == ')': nxt(); ws()\n",
    "        else: raise Exception(\"')' expected at \" + str(pos))\n",
    "    else: raise Exception(\"invalid character at \" + str(pos))\n",
    "    return t\n",
    "\n",
    "def identifier() -> str:\n",
    "    # identfier(i) → letter(i) { letter(l) « i := i + l » } ws\n",
    "    i = letter()\n",
    "    while 'a' <= sym <= 'z': i += letter()\n",
    "    ws()\n",
    "    return i\n",
    "\n",
    "def letter() -> str: # identfier → letter { letter } ws\n",
    "    # 'a' <= sym <= 'z'\n",
    "    l = sym; nxt()\n",
    "    return l\n",
    "\n",
    "def ws(): # ws → { ' ' }\n",
    "    while sym == ' ': nxt()\n",
    "\n",
    "def ast(s) -> Expr:\n",
    "    global src, pos;\n",
    "    src, pos = s, 0; nxt(); t = expression()\n",
    "    if sym != chr(0): raise Exception(\"unexpected character at \" + str(pos))\n",
    "    return t"
   ]
  },
  {
   "cell_type": "markdown",
   "metadata": {},
   "source": [
    "A method `__str__` is defined in `Expr` and each subclass to allow the abstract syntax tree to be printed sideways, for example:"
   ]
  },
  {
   "cell_type": "code",
   "execution_count": null,
   "metadata": {},
   "outputs": [],
   "source": [
    "print(ast('a + b * c'))"
   ]
  },
  {
   "cell_type": "code",
   "execution_count": null,
   "metadata": {},
   "outputs": [],
   "source": [
    "print(ast('- (a + b) * c'))"
   ]
  },
  {
   "cell_type": "markdown",
   "metadata": {
    "slideshow": {
     "slide_type": "slide"
    }
   },
   "source": [
    "### Synthesized and Inherited Attributes"
   ]
  },
  {
   "attachments": {
    "inherited.svg": {
     "image/svg+xml": [
      "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"
     ]
    }
   },
   "cell_type": "markdown",
   "metadata": {
    "slideshow": {
     "slide_type": "-"
    }
   },
   "source": [
    "All attributes so far are called _synthesized_ as they are computed \"bottom-up\": values are passed from the right-hand side of productions to the nonterminal on the left-hand side. The dual are called _inherited_ attributes as they are computed \"top-down\": values are passed from the nonterminal on the left-hand side to the right-hand side. Both are written in parentheses after the symbol.\n",
    "\n",
    "<img style=\"width:34em;float:right\" src=\"img/inherited.svg\"></img>\n",
    "For example, consider adding constant declarations of the form `[a = 3; 2 * a]`, with the scope explicitly written in square brackets. A suitable grammar, without white space, is:\n",
    "\n",
    "    expression → term { '+' term }\n",
    "    term → factor { '*' factor }\n",
    "    factor → integer | identifier | '(' expression ')' |\n",
    "        '[' declaration expression ']'\n",
    "    declaration → 'identifier '=' expression ';'\n",
    "    identifier → letter { letter }\n",
    "    letter → 'a' | … | 'z'\n",
    "    integer → digit { digit }\n",
    "    digit → '0' | … | '9'\n",
    "\n",
    "Here, the declaration before `;` would synthesize the pair with `'a'` and `3`, which is then inherited when evaluating `2 * a`. Since there can be more than one declaration, pairs are kept in a list, which is used as a stack: each declaration adds a pair to the front of the list. In the case of nested declarations, the same identifier for a constant can appear multiple times. The auxiliary function `lookup(d, i)` searches for the first occurrence of `i` in the list `d` of declarations: \n",
    "\n",
    "    expression(d, v) → term(d, v) { '+' term(d, w) « v := v + w » }\n",
    "    term(d, v) → factor(d, v) { '*' factor(d, f) « v := v × f }\n",
    "    factor(d, v) → integer(v) | identifier(i) « v ← lookup(d, i) » | '(' expression(d, v) ')' |\n",
    "        '[' declaration(d, i, w) expression([(i, w)] + d, v) ']'\n",
    "    declaration(d, i, v) → identifier(i) '=' expression(d, v) ';'\n",
    "    identifier(i) → letter(i) { letter(l) « i := i + l » }\n",
    "    letter(l) → 'a' « l := 'a' » | … | 'z' « l := 'z' »\n",
    "    integer(i) → digit(i) { digit(d) « i := 10 × i + d » }\n",
    "    digit(d) → '0' « d := 0 » | … | '9' « d := 9 »\n",
    "\n",
    "The start symbol is now `expression([], v)`: initially, the list of declarations is empty."
   ]
  },
  {
   "cell_type": "markdown",
   "metadata": {
    "slideshow": {
     "slide_type": "slide"
    }
   },
   "source": [
    "The rule for constructing parsing procedures is extended by having inherited attributes, `ai` below, and synthesized attributes, `as` below:\n",
    "\n",
    "| `p`                 | `pr(p)`                               |\n",
    "|:--------------------|:--------------------------------------|\n",
    "| `B(ai; as) → E`     | `procedure B(ai) → (as)` <br> `pr(E)` |\n",
    "\n",
    "In Python, inherited attributes become parameters, e.g. for the above grammar:"
   ]
  },
  {
   "cell_type": "code",
   "execution_count": null,
   "metadata": {
    "slideshow": {
     "slide_type": "slide"
    }
   },
   "outputs": [],
   "source": [
    "from typing import List, Tuple\n",
    "\n",
    "pos: int; sym: str; src: str\n",
    "\n",
    "def nxt():\n",
    "    global pos, sym\n",
    "    if pos < len(src): sym, pos = src[pos], pos + 1\n",
    "    else: sym = chr(0) # end of input symbol\n",
    "\n",
    "def lookup(d: List[Tuple[str, int]], i: str) -> int:\n",
    "    for j, v in d:\n",
    "        if i == j: return v\n",
    "    raise Exception(\"undefined identifier at \" + str(pos))\n",
    "\n",
    "def expression(d: List[Tuple[str, int]]) -> int:\n",
    "    # expression(d, v) → term(d, v) { '+' term(d, w) « v := v + w » }\n",
    "    v = term(d)\n",
    "    while sym == '+': nxt(); w = term(d); v = v + w\n",
    "    return v\n",
    "\n",
    "def term(d: List[Tuple[str, int]]) -> int:\n",
    "    # term(d, v) → factor(d, v) { '*' factor(d, f) « v := v * f }\n",
    "    v = factor(d)\n",
    "    while sym == '*': nxt(); w = factor(d); v = v * w\n",
    "    return v\n",
    "\n",
    "def factor(d: List[Tuple[str, int]]) -> int:\n",
    "    # factor(d, v) → integer(v) | identifier(i) « v ← lookup(d, i) » | '(' expression(d, v) ')' |\n",
    "    #     '[' declaration(d, i, w) expression([(i, w)] + d, v) ']'\n",
    "    if '0' <= sym <= '9': v = integer()\n",
    "    elif 'a' <= sym <= 'z': i = identifier(); v = lookup(d, i)\n",
    "    elif sym == '(':\n",
    "        nxt(); v = expression(d)\n",
    "        if sym == ')': nxt()\n",
    "        else: raise Exception(\"')' expected at \" + str(pos))\n",
    "    elif sym == '[':\n",
    "        nxt(); i, w = declaration(d)\n",
    "        v = expression([(i, w)] + d)\n",
    "        if sym == ']': nxt()\n",
    "    else: raise Exception(\"invalid character at \" + str(pos))\n",
    "    return v\n",
    "\n",
    "def declaration(d: List[Tuple[str, int]]) -> Tuple[str, int]:\n",
    "    # declaration(d, i, v) → identifier(i) '=' expression(d, v) ';'\n",
    "    i = identifier()\n",
    "    if sym == '=': nxt()\n",
    "    else: raise Exception(\"'=' expected at \" + str(pos))\n",
    "    v = expression(d)\n",
    "    if sym == ';': nxt()\n",
    "    else: raise Exception(\"';' expected at \" + str(pos))\n",
    "    return (i, v)\n",
    "\n",
    "def identifier() -> str:\n",
    "    # identifier(i) → letter(i) { letter(l) « i := i + l » }\n",
    "    i = letter()\n",
    "    while 'a' <= sym <= 'z': i = i + letter()\n",
    "    return i\n",
    "\n",
    "def letter() -> str:\n",
    "    # letter(l) → 'a' « l := 'a' » | … | 'z' « l := 'z' »\n",
    "    if 'a' <= sym <= 'z': l = sym; nxt()\n",
    "    else: raise Exception(\"letter expected at \" + str(pos))\n",
    "    return l\n",
    "\n",
    "def integer() -> int:\n",
    "    # integer(i) → digit(i) { digit(d) « i := 10 × i + d » }\n",
    "    # '0' <= sym <= '9'\n",
    "    i = digit()\n",
    "    while '0' <= sym <= '9': i = 10 * i + digit()\n",
    "    return i\n",
    "\n",
    "def digit() -> int:\n",
    "    # digit(d) → '0' « d := 0 » | … | '9' « d := 9 »\n",
    "    # '0' <= sym <= '9'\n",
    "    d = ord(sym) - ord('0'); nxt()\n",
    "    return d\n",
    "\n",
    "def evaluate(s):\n",
    "    global src, pos;\n",
    "    src, pos = s, 0; nxt(); v = expression([])\n",
    "    if sym != chr(0): raise Exception(\"unexpected character at \" + str(pos))\n",
    "    return v"
   ]
  },
  {
   "cell_type": "code",
   "execution_count": null,
   "metadata": {},
   "outputs": [],
   "source": [
    "#evaluate(\"[a=3;a]+a\") # undefined identifier at 14\n",
    "#evaluate(\"[a+2]\") # '=' expected at 3\n",
    "#evaluate(\"[a=2]\") # ';' expected at 7\n",
    "#evaluate(\"[1=2]\") # letter expected at 2\n",
    "assert evaluate(\"(2+[pi=3;2*pi])*2\") == 16\n",
    "assert evaluate(\"(2+[pi=3;[pi=1;pi*2]*pi])*2\") == 16\n",
    "assert evaluate(\"[a=2;[a=a+1;a]]\") == 3"
   ]
  },
  {
   "cell_type": "markdown",
   "metadata": {},
   "source": [
    "Note that the result of `3` for the last example is indeed correct: the inner declaration of `a` evaluates the `a + 1` with the outer value of `a`."
   ]
  },
  {
   "cell_type": "markdown",
   "metadata": {
    "slideshow": {
     "slide_type": "slide"
    }
   },
   "source": [
    "### Historic Notes and Further Reading"
   ]
  },
  {
   "cell_type": "markdown",
   "metadata": {},
   "source": [
    "Attribute grammars were suggested by Donald Knuth for assigning semantics to context-free languages [(Knuth 1968)](#Knuth68); he also provides a fascinating recollection of the origins [(Knuth 1990)](#Knuth90). In the common definition of an attribute grammar, attributes are functions over symbols, so `a(X)`, `b(X)` refer to attributes `a`, `b` of `X`. We write instead `X(a, b)` for brevity and because of the close correspondence to an implementation in a programming language.\n",
    "\n",
    "The original proposal allows for arbitrary dependencies among synthesized and inherited attributes. This may lead to circular dependencies, so a check for well-formedness is necessary. Consider a grammar in which nonterminal `A` is defined by a set of productions of the form\n",
    "\n",
    "    A → X₁ X₂ …\n",
    "\n",
    "where each `Xᵢ` is a terminal or nonterminal. If each inherited attribute of `Xᵢ` depends only on attributes of `X₁, …, Xᵢ₋₁` and the inherited attributes of A, then the attribute grammar is called _L-attributed_. This condition guarantees the absence of a circular dependency of attributes. In implementation terms, the value parameters of parsing procedure `Xᵢ` have to depend only on parameters of `X₁, …, Xᵢ₋₁` and the value parameters of `A`. The attribute grammars in these notes are all L-attributed. This allows the attribute rules to be directly embedded in the parsing procedures; there is no need to build the parse tree as a data structure in which nodes have to be revisited. A classification of attribute grammars is given in [(Paakki 1995)](#Paakki95).\n",
    "\n",
    "\n",
    "The example of type-checking shows how attribute grammars can express context dependencies, which could, in principle, be achieved with context-sensitive grammars. However, since the computation of attributes can involve arbitrary functions, anything computable can be expressed with attribute grammars; hence, they have the same expressiveness as unrestricted grammars, which are equivalent to Turing machines.\n",
    "\n",
    "Since the conception of attribute grammars, numerous tools have been developed that take an attribute grammar as input and generate a parser for a specific language, essentially automating the manual implementation of the previous examples. Such tools are known for generating less efficient parsers than hand-written ones; from a practical point of view, a drawback is the dependence on such a tool. An intriguing alternative is to express the whole attribute grammar as an executable (functional) program [(Viera et al. 2009)](#VieraEtAl09); we leave it to the reader to judge the simplicity and efficiency of that approach."
   ]
  },
  {
   "cell_type": "markdown",
   "metadata": {
    "slideshow": {
     "slide_type": "slide"
    }
   },
   "source": [
    "### Bibliography"
   ]
  },
  {
   "cell_type": "markdown",
   "metadata": {},
   "source": [
    "<div style=\"margin-left: 2em; text-indent:-2em;\">\n",
    "  <a id='Knuth68'></a><div>Knuth, Donald E. 1968. “Semantics of Context-Free Languages.” <i>Mathematical Systems Theory</i> 2 (2): 127–45. <a href=\"https://doi.org/10.1007/BF01692511\">https://doi.org/10.1007/BF01692511</a>.</div>\n",
    "  <a id='Knuth90'></a><div>———. 1990. “The Genesis of Attribute Grammars.” In <i>Attribute Grammars and Their Applications</i>, edited by P. Deransart and M. Jourdan, 1–12. Lecture Notes in Computer Science. Springer Berlin Heidelberg. <a href=\"https://doi.org/10.1007/3-540-53101-7_1\">https://doi.org/10.1007/3-540-53101-7_1</a>.</div>\n",
    "  <a id='Paakki95'></a><div>Paakki, Jukka. 1995. “Attribute Grammar Paradigms—a High-Level Methodology in Language Implementation.” <i>ACM Computing Surveys</i> 27 (2): 196–255. <a href=\"https://doi.org/10.1145/210376.197409\">https://doi.org/10.1145/210376.197409</a>.</div>\n",
    "  <a id='VieraEtAl09'></a><div><div>Viera, Marcos, S. Doaitse Swierstra, and Wouter Swierstra. 2009. “Attribute Grammars Fly First-Class: How to Do Aspect Oriented Programming in Haskell.” In <i>Proceedings of the 14th ACM SIGPLAN International Conference on Functional Programming</i>, 245–56. ICFP ’09. New York, NY, USA: ACM. <a href=\"https://doi.org/10.1145/1596550.1596586\">https://doi.org/10.1145/1596550.1596586</a>.</div>\n",
    "</div>"
   ]
  }
 ],
 "metadata": {
  "kernelspec": {
   "display_name": "Python 3 (ipykernel)",
   "language": "python",
   "name": "python3"
  },
  "language_info": {
   "codemirror_mode": {
    "name": "ipython",
    "version": 3
   },
   "file_extension": ".py",
   "mimetype": "text/x-python",
   "name": "python",
   "nbconvert_exporter": "python",
   "pygments_lexer": "ipython3",
   "version": "3.11.1"
  },
  "livereveal": {
   "scroll": true
  },
  "rise": {
   "enable_chalkboard": true
  }
 },
 "nbformat": 4,
 "nbformat_minor": 4
}
