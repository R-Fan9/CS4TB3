{
 "cells": [
  {
   "cell_type": "markdown",
   "metadata": {
    "deletable": false,
    "editable": false,
    "nbgrader": {
     "cell_type": "markdown",
     "checksum": "7d2c5d71c70c798d279df82c0b1d2038",
     "grade": false,
     "grade_id": "cell-15757005c1003e38",
     "locked": true,
     "schema_version": 3,
     "solution": false,
     "task": false
    }
   },
   "source": [
    "#### Modifying Linear Search (WASM)"
   ]
  },
  {
   "cell_type": "code",
   "execution_count": null,
   "metadata": {},
   "outputs": [],
   "source": [
    "def runwasm(wasmfile):\n",
    "    from IPython.display import display, Javascript\n",
    "    display(Javascript(\"\"\"\n",
    "    const params = {\n",
    "        P0lib: {\n",
    "            write: i => element.append(i + ' '),\n",
    "            writeln: () => element.append(document.createElement('br')),\n",
    "            read: () => window.prompt()\n",
    "        }\n",
    "    }\n",
    "    \n",
    "    var wasmByteString = \\\"\"\"\" + str(open(wasmfile, \"rb\").read()) + \"\"\"\\\"; // pass the wasm file to JavaScript as byte string\n",
    "    wasmByteString = wasmByteString.substring(2, wasmByteString.length - 1); // remove the byte literals b'...'\n",
    "    const wasmArrayBuffer = new Uint8Array(wasmByteString.length); // convert the binary string to ArrayBuffer\n",
    "    for (let i = 0; i < wasmByteString.length; i++)\n",
    "      wasmArrayBuffer[i] = wasmByteString.charCodeAt(i);\n",
    "    \n",
    "    WebAssembly.compile(wasmArrayBuffer.buffer) // compile (sharable) code\n",
    "        .then(module => WebAssembly.instantiate(module, params)) // create an instance with memory\n",
    "        // .then(instance => instance.exports.program()); // run the main program; not needed if a start function is specified\n",
    "     \"\"\"))"
   ]
  },
  {
   "cell_type": "code",
   "execution_count": null,
   "metadata": {
    "slideshow": {
     "slide_type": "-"
    }
   },
   "outputs": [],
   "source": [
    "def runpywasm(wasmfile):\n",
    "    import pywasm\n",
    "    def write(s, i): print(i, end=' ')\n",
    "    def writeln(s): print()\n",
    "    def read(s): return int(input())\n",
    "    vm = pywasm.load(wasmfile, {'P0lib': {'write': write, 'writeln': writeln, 'read': read}})"
   ]
  },
  {
   "cell_type": "code",
   "execution_count": null,
   "metadata": {},
   "outputs": [],
   "source": [
    "from wasmer import engine, Store, Module, Instance, ImportObject, Function\n",
    "from wasmer_compiler_cranelift import Compiler\n",
    "\n",
    "def runwasmer(wasmfile):\n",
    "    def write(i: int): print(i, end=' ')\n",
    "    def writeln(): print()\n",
    "    def read() -> int: return int(input()) \n",
    "    store = Store(engine.JIT(Compiler))\n",
    "    module = Module(store, open(wasmfile, 'rb').read())\n",
    "    import_object = ImportObject()\n",
    "    import_object.register(\"P0lib\", {\"write\": Function(store, write),\n",
    "                                     \"writeln\": Function(store, writeln),\"read\": Function(store, read)})\n",
    "    instance = Instance(module, import_object)"
   ]
  },
  {
   "cell_type": "markdown",
   "metadata": {},
   "source": [
    "---"
   ]
  },
  {
   "cell_type": "markdown",
   "metadata": {},
   "source": [
    "Compile the P0 program below by running the next two cells:"
   ]
  },
  {
   "cell_type": "code",
   "execution_count": null,
   "metadata": {},
   "outputs": [],
   "source": [
    "import nbimporter; nbimporter.options[\"only_defs\"] = False\n",
    "from P0 import compileString"
   ]
  },
  {
   "cell_type": "code",
   "execution_count": null,
   "metadata": {},
   "outputs": [],
   "source": [
    "compileString(\"\"\"\n",
    "const N = 5\n",
    "var a: [1 .. N] → integer\n",
    "program linearsearch\n",
    "    var i, x: integer\n",
    "        x ← read(); i := 0 // read number to be searched\n",
    "        while i < N do i := i + 1; a[i] ← read()  // read array elements\n",
    "        while (i > 0) and (a[i] ≠ x) do i := i - 1\n",
    "        writeln(); write(i) // write index of last occurrence of x or 0 if not found\n",
    "\"\"\", 'linearsearch.wat')"
   ]
  },
  {
   "cell_type": "markdown",
   "metadata": {
    "deletable": false,
    "editable": false,
    "nbgrader": {
     "cell_type": "markdown",
     "checksum": "40f770dbac84b939364e13fea2fb1915",
     "grade": false,
     "grade_id": "cell-4c782353ca263eab",
     "locked": true,
     "schema_version": 3,
     "solution": false,
     "task": false
    }
   },
   "source": [
    " You can convert `linearsearch.wat` to a binary file and run it using one of the three methods above for running WebAssembly in Jupyter:"
   ]
  },
  {
   "cell_type": "code",
   "execution_count": null,
   "metadata": {},
   "outputs": [],
   "source": [
    "!wat2wasm linearsearch.wat"
   ]
  },
  {
   "cell_type": "code",
   "execution_count": null,
   "metadata": {},
   "outputs": [],
   "source": [
    "runwasm(\"linearsearch.wasm\")"
   ]
  },
  {
   "cell_type": "code",
   "execution_count": null,
   "metadata": {},
   "outputs": [],
   "source": [
    "runpywasm(\"linearsearch.wasm\")"
   ]
  },
  {
   "cell_type": "code",
   "execution_count": null,
   "metadata": {},
   "outputs": [],
   "source": [
    "runwasmer(\"linearsearch.wasm\")"
   ]
  },
  {
   "cell_type": "markdown",
   "metadata": {
    "deletable": false,
    "editable": false,
    "nbgrader": {
     "cell_type": "markdown",
     "checksum": "0db2fd14192781118ce96609224d94b7",
     "grade": false,
     "grade_id": "cell-7486526ca4310a3b",
     "locked": true,
     "schema_version": 3,
     "solution": false,
     "task": false
    }
   },
   "source": [
    "Now inspect the generated code by running the cell below or leaving out the last parameter of `compileString` and using `print` to print the resulting string. Explain the role of each line!"
   ]
  },
  {
   "cell_type": "code",
   "execution_count": null,
   "metadata": {},
   "outputs": [],
   "source": [
    "!cat linearsearch.wat"
   ]
  },
  {
   "cell_type": "markdown",
   "metadata": {},
   "source": [
    "Your answer here."
   ]
  },
  {
   "cell_type": "markdown",
   "metadata": {
    "tags": []
   },
   "source": [
    "*Instructor's Answer:*\n",
    "```\n",
    "(module\n",
    "(import \"P0lib\" \"write\" (func $write (param i32))) ;; import standard library functions\n",
    "(import \"P0lib\" \"writeln\" (func $writeln))\n",
    "(import \"P0lib\" \"read\" (func $read (result i32)))\n",
    "(global $_memsize (mut i32) i32.const 20) ;; initialize memory pointer\n",
    "(func $program\n",
    "(local $i i32) ;; declare local variables\n",
    "(local $x i32)\n",
    "(local $0 i32)\n",
    "call $read \n",
    "local.set $x ;; x ← read();\n",
    "i32.const 0 \n",
    "local.set $i ;; i := 0\n",
    "loop ;; declare loop\n",
    "local.get $i\n",
    "i32.const 5\n",
    "i32.lt_s ;; i < N\n",
    "if\n",
    "local.get $i\n",
    "i32.const 1\n",
    "i32.add\n",
    "local.set $i ;; i := i + 1\n",
    "local.get $i\n",
    "i32.const 1\n",
    "i32.sub ;; subtract 1 from i (because array starts at 1)\n",
    "i32.const 4\n",
    "i32.mul ;; multiply i by 4\n",
    "i32.const 0 ;; offset of 0\n",
    "i32.add ;; calculate address of a[i]\n",
    "call $read\n",
    "i32.store ;;  a[i] ← read()\n",
    "br 1\n",
    "end\n",
    "end\n",
    "loop\n",
    "local.get $i\n",
    "i32.const 0\n",
    "i32.gt_s ;; i > 0\n",
    "if (result i32) ;; declare if statement with i32 return type\n",
    "local.get $i\n",
    "i32.const 1\n",
    "i32.sub ;; i - 1\n",
    "i32.const 4\n",
    "i32.mul\n",
    "i32.const 0\n",
    "i32.add\n",
    "i32.load ;; a[i]\n",
    "local.get $x\n",
    "i32.ne ;; a[i] ≠ x\n",
    "else\n",
    "i32.const 0\n",
    "end\n",
    "if\n",
    "local.get $i\n",
    "i32.const 1\n",
    "i32.sub\n",
    "local.set $i ;; i := i - 1\n",
    "br 1\n",
    "end\n",
    "end\n",
    "call $writeln ;; writeln()\n",
    "local.get $i\n",
    "call $write ;; write(i)\n",
    ")\n",
    "(memory 1) ;; set up memory size \n",
    "(start $program) ;; call main program\n",
    ")\n",
    "```"
   ]
  },
  {
   "cell_type": "markdown",
   "metadata": {
    "deletable": false,
    "editable": false,
    "nbgrader": {
     "cell_type": "markdown",
     "checksum": "d9d3f23cfae363f5f595e0d21a8e46a2",
     "grade": false,
     "grade_id": "cell-a2459bd41126cb38",
     "locked": true,
     "schema_version": 3,
     "solution": false,
     "task": false
    }
   },
   "source": [
    "Perform the following modifications of the above program; it is repeated below:\n",
    "\n",
    "1. Make variables `i` and `x` global rather than local to the main program. What changes do you observe in the generated code?\n",
    "2. Make array `a` a local variable of the main program. What changes do you observe in the generated code?\n",
    "3. Make constant `N` a local constant of the main program. What changes do you observe in the generated code?"
   ]
  },
  {
   "cell_type": "code",
   "execution_count": null,
   "metadata": {},
   "outputs": [],
   "source": [
    "wasm = compileString(\"\"\"\n",
    "const N = 5\n",
    "var a: [1 .. N] → integer\n",
    "program linearsearch\n",
    "    var i, x: integer\n",
    "        x ← read(); i := 0 // read number to be searched\n",
    "        while i < N do i := i + 1; a[i] ← read()  // read array elements\n",
    "        while (i > 0) and (a[i] ≠ x) do i := i - 1\n",
    "        writeln(); write(i) // write index of last occurrence of x or 0 if not found\n",
    "\"\"\")\n",
    "print(wasm)"
   ]
  },
  {
   "cell_type": "markdown",
   "metadata": {},
   "source": [
    "Your answer here."
   ]
  },
  {
   "cell_type": "markdown",
   "metadata": {},
   "source": [
    "*Instructor's Answer.*\n",
    "\n",
    "1. When `i` and `x` are local to the main program, they are declared in WebAssembly as local variables to `func $program`, i.e. space for the variables is allocated on the stack when `func $program` is called. When `i` and `x` are global variables, they are declared as `global` in WebAssembly, i.e. space for them is allocated when the a WebAssembly instance of the module is created.\n",
    "2. In both variants, array `a` is allocated in WebAssembly memory, i.e. on the heap. When `a` is a global variable, its address is determined statically by the compiler and `memsize` is initialized to the size of all statically allocated variables; as `a` is the only global variable, `memsize` is initially the size of `a`. When `a` is a local variable, the space for `a` is allocated dynamically when the main program starts by incrementing `memsize`, which is initialized to `0` instead.\n",
    "3. There is no change, in P0 constant names are replaced by their values when the code is generated."
   ]
  }
 ],
 "metadata": {
  "kernelspec": {
   "display_name": "Python 3 (ipykernel)",
   "language": "python",
   "name": "python3"
  },
  "language_info": {
   "codemirror_mode": {
    "name": "ipython",
    "version": 3
   },
   "file_extension": ".py",
   "mimetype": "text/x-python",
   "name": "python",
   "nbconvert_exporter": "python",
   "pygments_lexer": "ipython3",
   "version": "3.11.1"
  }
 },
 "nbformat": 4,
 "nbformat_minor": 4
}
