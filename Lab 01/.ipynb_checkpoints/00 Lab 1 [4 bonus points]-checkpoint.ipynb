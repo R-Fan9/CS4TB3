{
 "cells": [
  {
   "cell_type": "markdown",
   "metadata": {},
   "source": [
    "### COMPSCI 3TB3/4TB3/6TB3 Syntax-Directed Tools and Compilers, 2023/24, McMaster University, Lab 1 & Assignment 1"
   ]
  },
  {
   "cell_type": "markdown",
   "metadata": {},
   "source": [
    "**Emil Sekerinski (instructor), Jin Xu, Khoa Bui (TAs)**\n",
    "\n",
    "Lab 1 is covered and Assignment 1 is introduced at the following sessions:\n",
    "- L01 on Wednesday, January 10\n",
    "- L05 on Thursday, January 11\n",
    "- L02 on Friday, January 12\n",
    "- L04 on Friday, January 12\n",
    "- L03 on Monday, January 15\n",
    "\n",
    "**Lab 1 is due at the end of your lab session [4 bonus points].** \n",
    "- You can collaborate during the lab session on the lab questions.\n",
    "- You receive 4 bonus points for attempting all questions.\n",
    "  \n",
    "**Assignment 1 is due Wednesday, January 17, 11 pm [24 points].**\n",
    "- You must work on this assignment on your own. You are encouraged to get a common understanding with fellow students, but the submission must be yours.\n",
    "- Answers to the assignment questions are presented at the following week's labs.\n",
    "- The bonus points of the lab count towards the points of the assignments, up to a maximum of 24 points.\n",
    "\n",
    "The purpose of this lab and assignment is to\n",
    "- make you familiar with fetching and submitting Jupyter notebooks, and editing notebooks with markdown, math symbols, and graphics. \n",
    "- review the theory of formal languages,\n",
    "- motivate formal languages through their origin in analyzing natural languages.\n",
    "\n",
    "*Instructions:*\n",
    "- Do not copy and paste graded cells, as that corrupts the notebook's metadata and automatic grading fails.\n",
    "- Edit code only where it says YOUR CODE HERE; do not change the names of functions, methods, and classes; do not change the number or types of parameters; remove `raise NotImplementedError()`. Otherwise, the automatic grading fails, which may result in a deduction.\n",
    "- If a notebook uses Python, before submitting, \"Restart Kernel\" and run the Python code from the beginning to clear the state of the kernel and to check that the output is as expected. When notebooks are graded, they are run with a freshly initialized kernel.\n",
    "- Log files may be created when your program crashes. These log files may become so large that they prevent submission. Delete all log files and submit a cleaned-up folder.\n",
    "- You are asked to write well-structured and readable source code. The source code is always used for grading in addition to the test results. Your program passing the provided does not guarantee that your program is correct and that you will receive full (or any) marks."
   ]
  },
  {
   "cell_type": "markdown",
   "metadata": {
    "tags": []
   },
   "source": [
    "Bonus for attempting to complete all lab questions at your lab session:\n",
    "\n",
    "> By signing this, I certify that I have attended one of the above labs and attempted to complete all lab questions. I am aware that making a wrong statement is considered to be Academic Dishonesty.\n",
    "\n",
    "Please write your name in the field below in lieu of a signature [4 bonus points]:"
   ]
  },
  {
   "cell_type": "markdown",
   "metadata": {
    "deletable": false,
    "nbgrader": {
     "cell_type": "markdown",
     "checksum": "572a9ba1178bfe06a1e0d1e2278eebb4",
     "grade": true,
     "grade_id": "cell-47c051de6316702c",
     "locked": false,
     "points": 0,
     "schema_version": 3,
     "solution": true,
     "task": false
    },
    "tags": []
   },
   "source": [
    "YOUR ANSWER HERE"
   ]
  }
 ],
 "metadata": {
  "kernelspec": {
   "display_name": "Python 3 (ipykernel)",
   "language": "python",
   "name": "python3"
  },
  "language_info": {
   "codemirror_mode": {
    "name": "ipython",
    "version": 3
   },
   "file_extension": ".py",
   "mimetype": "text/x-python",
   "name": "python",
   "nbconvert_exporter": "python",
   "pygments_lexer": "ipython3",
   "version": "3.11.1"
  },
  "latex_envs": {
   "LaTeX_envs_menu_present": true,
   "autoclose": false,
   "autocomplete": true,
   "bibliofile": "biblio.bib",
   "cite_by": "apalike",
   "current_citInitial": 1,
   "eqLabelWithNumbers": true,
   "eqNumInitial": 1,
   "hotkeys": {
    "equation": "Ctrl-E",
    "itemize": "Ctrl-I"
   },
   "labels_anchors": false,
   "latex_user_defs": false,
   "report_style_numbering": false,
   "user_envs_cfg": false
  }
 },
 "nbformat": 4,
 "nbformat_minor": 4
}
