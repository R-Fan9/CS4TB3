{
 "cells": [
  {
   "cell_type": "markdown",
   "metadata": {},
   "source": [
    "### Basic Blocks and Common Subexpressions"
   ]
  },
  {
   "cell_type": "code",
   "execution_count": 1,
   "metadata": {},
   "outputs": [],
   "source": [
    "import nbimporter; nbimporter.options[\"only_defs\"] = False\n",
    "from P0 import compileString"
   ]
  },
  {
   "cell_type": "markdown",
   "metadata": {},
   "source": [
    "*Common subexpression elimination* is a code optimization technique that is suitable for register-based architectures. The algorithm for eliminating common subexpressions, while parsing the input from left to right, builds a directed acyclic graph that is represented by a table. The table numbers each subexpression. Each time a new expression is recognized, it is looked up in the table and if it is not present, it is assigned a new number. The key is that subexpressions are referred to by their number. For example, when in \n",
    "\n",
    "    a × (a + b) + (a + b) × c\n",
    "\n",
    "the first `a` is recognized, it gets the number `$1`; when the second `a` is recognized, nothing changes as `a` has been given a number already; when `b` is recognized, it gets the number `$2`. Now `a + b` is recognized, the operands are replaced with their number (by looking them up in the table constructed so far) and `$1 + $2` is given a new number. This process continues until the end of the expression. \n",
    "\n",
    "| expression | number |\n",
    "|:-----------|:-------|\n",
    "| `a`        | `$1`   |\n",
    "| `b`        | `$2`   |\n",
    "| `$1 + $2`  | `$3`   |\n",
    "| `$1 × $3`  | `$4`   |\n",
    "| `c`        | `$5`   |\n",
    "| `$3 × $5`  | `$6`   |\n",
    "| `$4 + $6`  | `$7`   |\n",
    "\n",
    "*Three-address code* is an abstract representation of machine code consisting of:\n",
    "\n",
    "- `$r := c`, loading constant `c` to register `$r`\n",
    "- `$r := x`, loading the memory at location `x` to register `$r`\n",
    "- `x := $r`, storing register `$r` to memory at location `x`\n",
    "- `$r := *$s`, loading the memory at `$s` to register `$r`\n",
    "- `*$r := $s`, storing register `$s` to memory at `$r`\n",
    "- `$r := $s ⊕ $t`, binary operation `⊕` with three registers\n",
    "- `goto L`, unconditional jump to instruction with label `L`\n",
    "- `if $r goto L`, `ifnot $r goto L`, `if $r ⊜ $s goto L`, conditional jump to `L` with relation `⊜`\n",
    "\n",
    "Formally, if `M` is the memory,\n",
    "```\n",
    "x := *y   stands for   x := M[y]\n",
    "*x := y   stands for   M[x] := y\n",
    "```\n",
    "\n",
    "Three-address code assumes that there are arbitrarilly many registers available. Three-address code is used as an intermediate representation between the front-end and back-end, for example by [LLVM](http://llvm.org/). Typically, it includes instructions for parameter passing and procedure calls as well, which we don't consider here.\n",
    "\n",
    "Above table for the DAG of expression `a × (a + b) + (a + b) × c` corresponds line-by-line to three-address code:\n",
    "\n",
    "```\n",
    "$1 := a\n",
    "$2 := b\n",
    "$3 := $1 + $2\n",
    "$4 := $1 × $3\n",
    "$5 := c\n",
    "$6 := $3 × $5\n",
    "$7 := $4 + $6\n",
    "```\n",
    "\n",
    "This in turn translates immediately to RISC-V code or other RISC code:\n",
    "\n",
    "```\n",
    "lw $1, a\n",
    "lw $2, b\n",
    "add $3, $1, $2\n",
    "mul $4, $1, $3\n",
    "lw $5, c\n",
    "mul $6, $3, $5\n",
    "add $7, $4, $6\n",
    "```"
   ]
  },
  {
   "cell_type": "markdown",
   "metadata": {},
   "source": [
    "The same way as the parse tree is not explicitly constructed, the DAG here does not need to be explicitly constructed. Perhaps surprisingly, common subexpressions can be eliminated in a one-pass compiler like P0. The implementation in P0 is rather simple:\n",
    "- Set `regs` records which registers are currently in use.\n",
    "- Dictionary `reguse` records which three-address code is stored in which register.\n",
    "For example, while parsing program `x := a × (a + b) + (a + b) × c`, the dictionary `reguse` could be:\n",
    "```Python\n",
    "<ST.Var object at 0x7f45666b5450>: 's11',\n",
    "<ST.Var object at 0x7f45666b7ad0>: 's3',\n",
    "('add', 's11', 's3'): 's2',\n",
    "('mul', 's11', 's2'): 's6',\n",
    "<ST.Var object at 0x7f45666b6190>: 's7',\n",
    "('mul', 's2', 's7'): 's8',\n",
    "('add', 's6', 's8'): 's5'}\n",
    "```\n",
    "In `put` of `CGriscv`, each time when a new register is used, its use is recorded in `reguse`; before generating an instruction, `reguse` is checked to see if the result of that instruction is already in a register. With `cd` being the instruction and `x`, `y` the operands, `put` contains:\n",
    "\n",
    "```Python\n",
    "        if (cd, x.reg, y.reg) in reguse: x.reg = reguse[(cd, x.reg, y.reg)]\n",
    "        else:\n",
    "            x.reg, r = obtainReg(), x.reg # r is source, x.reg is destination\n",
    "            putOp(cd, x.reg, r, y.reg)#; releaseReg(y.reg)\n",
    "            reguse[(cd, r, y.reg)] = x.reg\n",
    "```"
   ]
  },
  {
   "cell_type": "markdown",
   "metadata": {},
   "source": [
    "A *basic block* is a sequence of three-address code instructions where only the first instruction can be the target of a goto instruction. A block may contain conditional goto instructions anywhere but can have an unconditional goto or a procedure call only as a the last instruction. (Note that other definitions of basic blocks may differ.) Analyze the code generated for `p1`:"
   ]
  },
  {
   "cell_type": "code",
   "execution_count": 2,
   "metadata": {
    "scrolled": true
   },
   "outputs": [
    {
     "name": "stdout",
     "output_type": "stream",
     "text": [
      "\t.data\n",
      "a_:\t.space 4\n",
      "b_:\t.space 4\n",
      "c_:\t.space 4\n",
      "\t.text\n",
      "\t.globl main\n",
      "main:\t\n",
      "\tjal ra, p1\n",
      "\taddi a0, zero, 0\n",
      "\taddi a7, zero, 93\n",
      "\tscall\n",
      "\t.globl p1\n",
      "p1:\t\n",
      "\taddi sp, sp, -16\n",
      "\tsw ra, 12(sp)\n",
      "\tsw s0, 8(sp)\n",
      "\taddi s0, sp, 16\n",
      "\taddi s3, zero, 1\n",
      "\tla s11, a_\n",
      "\tsw s3, 0(s11)\n",
      "\tla s8, b_\n",
      "\tlw s6, 0(s8)\n",
      "\taddi s9, zero, 2\n",
      "\tbeq s6, s9, L2\n",
      "L1:\t\n",
      "\tla s4, c_\n",
      "\tlw s9, 0(s4)\n",
      "\taddi s5, zero, 3\n",
      "\tbne s9, s5, L3\n",
      "L4:\t\n",
      "L2:\t\n",
      "\taddi s3, zero, 4\n",
      "\tla s11, a_\n",
      "\tsw s3, 0(s11)\n",
      "\taddi s6, zero, 5\n",
      "\tla s8, b_\n",
      "\tsw s6, 0(s8)\n",
      "\tj L5\n",
      "L3:\t\n",
      "\taddi s3, zero, 6\n",
      "\tla s11, a_\n",
      "\tsw s3, 0(s11)\n",
      "L5:\t\n",
      "\taddi s3, zero, 7\n",
      "\tla s11, b_\n",
      "\tsw s3, 0(s11)\n",
      "\tlw ra, 12(sp)\n",
      "\tlw s0, 8(sp)\n",
      "\taddi sp, sp, 16\n",
      "\tret\n"
     ]
    }
   ],
   "source": [
    "compileString(\"\"\"\n",
    "var a, b, c: integer\n",
    "program p1\n",
    "  a := 1\n",
    "  if (b = 2) or (c = 3) then\n",
    "      a := 4; b := 5\n",
    "  else a := 6\n",
    "  b := 7\n",
    "\"\"\", target = 'riscv')"
   ]
  },
  {
   "cell_type": "markdown",
   "metadata": {},
   "source": [
    "The basic blocks are delineated by labels. There are in total six basic blocks. "
   ]
  },
  {
   "cell_type": "markdown",
   "metadata": {},
   "source": [
    "Identify the basic blocks of `p2` and explain them in terms of the source code!"
   ]
  },
  {
   "cell_type": "code",
   "execution_count": 3,
   "metadata": {
    "scrolled": true
   },
   "outputs": [
    {
     "name": "stdout",
     "output_type": "stream",
     "text": [
      "\t.data\n",
      "x_:\t.space 4\n",
      "y_:\t.space 4\n",
      "\t.text\n",
      "\t.globl main\n",
      "main:\t\n",
      "\tjal ra, p2\n",
      "\taddi a0, zero, 0\n",
      "\taddi a7, zero, 93\n",
      "\tscall\n",
      "\t.globl p2\n",
      "p2:\t\n",
      "\taddi sp, sp, -16\n",
      "\tsw ra, 12(sp)\n",
      "\tsw s0, 8(sp)\n",
      "\taddi s0, sp, 16\n",
      "\taddi s3, zero, 1\n",
      "\tla s11, x_\n",
      "\tsw s3, 0(s11)\n",
      "L1:\t\n",
      "\tla s11, y_\n",
      "\tlw s3, 0(s11)\n",
      "\taddi s6, zero, 2\n",
      "\tbge s3, s6, L2\n",
      "L3:\t\n",
      "\tla s11, x_\n",
      "\tlw s3, 0(s11)\n",
      "\taddi s6, s3, 3\n",
      "\tla s8, x_\n",
      "\tsw s6, 0(s8)\n",
      "\tj L1\n",
      "L2:\t\n",
      "\tlw ra, 12(sp)\n",
      "\tlw s0, 8(sp)\n",
      "\taddi sp, sp, 16\n",
      "\tret\n"
     ]
    }
   ],
   "source": [
    "compileString(\"\"\"\n",
    "var x, y: integer\n",
    "program p2\n",
    "  x := 1\n",
    "  while y < 2 do\n",
    "      x := x + 3\n",
    "\"\"\", target = 'riscv')"
   ]
  },
  {
   "cell_type": "markdown",
   "metadata": {
    "deletable": false,
    "nbgrader": {
     "cell_type": "markdown",
     "checksum": "9b921787a7215762ed15bbbc6322c7e7",
     "grade": true,
     "grade_id": "cell-7556ca9f4da34a85",
     "locked": false,
     "points": 4,
     "schema_version": 3,
     "solution": true,
     "task": false
    }
   },
   "source": [
    "Block 1:\n",
    "<pre style=\"font-family:monospace;color:royalblue\">\n",
    "addi sp, sp, -16\n",
    "sw ra, 12(sp)\n",
    "sw s0, 8(sp)\n",
    "addi s0, sp, 16\n",
    "addi s3, zero, 1\n",
    "la s11, x_\n",
    "sw s3, 0(s11)    \n",
    "</pre>\n",
    "This block initializes the stack frame and sets up the initial value of variable x to 1. It corresponds to the initialization part of the source code.\n",
    "\n",
    "Block 2:\n",
    "<pre style=\"font-family:monospace;color:royalblue\">\n",
    "L1:\n",
    "la s11, y_\n",
    "lw s3, 0(s11)\n",
    "addi s6, zero, 2\n",
    "bge s3, s6, L2  \n",
    "</pre>\n",
    "This block checks the loop condition `y < 2`. If `y` is greater than or equal to `2`, it branches to `L2`, otherwise, it continues execution in the loop. It corresponds to the loop condition check in the source code.\n",
    "\n",
    "Block 3:\n",
    "<pre style=\"font-family:monospace;color:royalblue\">\n",
    "L3:\n",
    "la s11, x_\n",
    "lw s3, 0(s11)\n",
    "addi s6, s3, 3\n",
    "la s8, x_\n",
    "sw s6, 0(s8)\n",
    "j L1\n",
    "</pre>\n",
    "This block represents the body of the loop. It increments the value of `x` by `3` in each iteration and then jumps back to `L1` to re-evaluate the loop condition. It corresponds to the loop body in the source code.\n",
    "\n",
    "Block 4:\n",
    "<pre style=\"font-family:monospace;color:royalblue\">\n",
    "L2:\n",
    "lw ra, 12(sp)\n",
    "lw s0, 8(sp)\n",
    "addi sp, sp, 16\n",
    "ret\n",
    "</pre>\n",
    "This block handles the exit from the procedure. It restores the saved register values from the stack frame and returns control to the caller. It corresponds to the exit part of the source code."
   ]
  },
  {
   "cell_type": "markdown",
   "metadata": {},
   "source": [
    "The RISC-V code generator eliminates common subexpressions only within a basic block. Consider `p4`:"
   ]
  },
  {
   "cell_type": "code",
   "execution_count": 4,
   "metadata": {},
   "outputs": [
    {
     "name": "stdout",
     "output_type": "stream",
     "text": [
      "\t.data\n",
      "x_:\t.space 4\n",
      "y_:\t.space 4\n",
      "\t.text\n",
      "\t.globl main\n",
      "main:\t\n",
      "\tjal ra, p4\n",
      "\taddi a0, zero, 0\n",
      "\taddi a7, zero, 93\n",
      "\tscall\n",
      "\t.globl p4\n",
      "p4:\t\n",
      "\taddi sp, sp, -16\n",
      "\tsw ra, 12(sp)\n",
      "\tsw s0, 8(sp)\n",
      "\taddi s0, sp, 16\n",
      "L1:\t\n",
      "\tla s11, x_\n",
      "\tlw s3, 0(s11)\n",
      "\tla s8, y_\n",
      "\tlw s6, 0(s8)\n",
      "\tadd s9, s3, s6\n",
      "\taddi s4, zero, 3\n",
      "\tbge s9, s4, L2\n",
      "L3:\t\n",
      "\tla s11, x_\n",
      "\tlw s3, 0(s11)\n",
      "\tla s8, y_\n",
      "\tlw s6, 0(s8)\n",
      "\tadd s9, s3, s6\n",
      "\tla s4, x_\n",
      "\tsw s9, 0(s4)\n",
      "\tj L1\n",
      "L2:\t\n",
      "\tlw ra, 12(sp)\n",
      "\tlw s0, 8(sp)\n",
      "\taddi sp, sp, 16\n",
      "\tret\n"
     ]
    }
   ],
   "source": [
    "compileString(\"\"\"\n",
    "var x, y: integer\n",
    "program p4\n",
    "  while x + y < 3 do\n",
    "    x := x + y\n",
    "\"\"\", target = 'riscv')"
   ]
  },
  {
   "cell_type": "markdown",
   "metadata": {},
   "source": [
    "The expression `x + y` is evaluated only once, as the two occurrences are in one basic block. Now consider `p5`:"
   ]
  },
  {
   "cell_type": "code",
   "execution_count": 5,
   "metadata": {},
   "outputs": [
    {
     "name": "stdout",
     "output_type": "stream",
     "text": [
      "\t.data\n",
      "x_:\t.space 4\n",
      "y_:\t.space 4\n",
      "\t.text\n",
      "\t.globl main\n",
      "main:\t\n",
      "\tjal ra, p5\n",
      "\taddi a0, zero, 0\n",
      "\taddi a7, zero, 93\n",
      "\tscall\n",
      "\t.globl p5\n",
      "p5:\t\n",
      "\taddi sp, sp, -16\n",
      "\tsw ra, 12(sp)\n",
      "\tsw s0, 8(sp)\n",
      "\taddi s0, sp, 16\n",
      "\tla s11, x_\n",
      "\tlw s3, 0(s11)\n",
      "\taddi s6, s3, 3\n",
      "\tla s8, y_\n",
      "\tsw s6, 0(s8)\n",
      "\tla s4, y_\n",
      "\tlw s9, 0(s4)\n",
      "\tbge zero, s9, L1\n",
      "L2:\t\n",
      "\tla s11, x_\n",
      "\tlw s3, 0(s11)\n",
      "\taddi s6, s3, 3\n",
      "\tla s8, y_\n",
      "\tsw s6, 0(s8)\n",
      "\tj L3\n",
      "L1:\t\n",
      "\tla s11, x_\n",
      "\tlw s3, 0(s11)\n",
      "\taddi s6, s3, 3\n",
      "\tla s8, y_\n",
      "\tsw s6, 0(s8)\n",
      "L3:\t\n",
      "\tlw ra, 12(sp)\n",
      "\tlw s0, 8(sp)\n",
      "\taddi sp, sp, 16\n",
      "\tret\n"
     ]
    }
   ],
   "source": [
    "compileString(\"\"\"\n",
    "var x, y: integer\n",
    "program p5\n",
    "  y := x + 3\n",
    "  if y > 0 then\n",
    "    y := x + 3\n",
    "  else\n",
    "    y := x + 3\n",
    "\"\"\", target = 'riscv')"
   ]
  },
  {
   "cell_type": "markdown",
   "metadata": {},
   "source": [
    "The first two occurrences of `x + y` are in the same basic bloc, so are shared, the last occurrence is in a different basic block, so is evaluated again, even though that is here unnecessary. Eliminating such unnecessary evaluations would require a *global analysis*, which is beyond a one-pass compiler."
   ]
  },
  {
   "cell_type": "markdown",
   "metadata": {},
   "source": [
    "If within a basic block a variable is overwritten, the earlier expressions in which that variable occurred are no longer valid. For example, in `p6`, the value of `x + 3` is kept in a register but must not be used in the second occurrence:"
   ]
  },
  {
   "cell_type": "code",
   "execution_count": 6,
   "metadata": {},
   "outputs": [
    {
     "name": "stdout",
     "output_type": "stream",
     "text": [
      "\t.data\n",
      "x_:\t.space 4\n",
      "y_:\t.space 4\n",
      "\t.text\n",
      "\t.globl main\n",
      "main:\t\n",
      "\tjal ra, p6\n",
      "\taddi a0, zero, 0\n",
      "\taddi a7, zero, 93\n",
      "\tscall\n",
      "\t.globl p6\n",
      "p6:\t\n",
      "\taddi sp, sp, -16\n",
      "\tsw ra, 12(sp)\n",
      "\tsw s0, 8(sp)\n",
      "\taddi s0, sp, 16\n",
      "\tla s11, x_\n",
      "\tlw s3, 0(s11)\n",
      "\taddi s6, s3, 3\n",
      "\tla s8, x_\n",
      "\tsw s6, 0(s8)\n",
      "\tla s4, x_\n",
      "\tlw s9, 0(s4)\n",
      "\taddi s5, s9, 3\n",
      "\tla s10, x_\n",
      "\tsw s5, 0(s10)\n",
      "\tlw ra, 12(sp)\n",
      "\tlw s0, 8(sp)\n",
      "\taddi sp, sp, 16\n",
      "\tret\n"
     ]
    }
   ],
   "source": [
    "compileString(\"\"\"\n",
    "var x, y: integer\n",
    "program p6\n",
    "  x := x + 3\n",
    "  x := x + 3\n",
    "\"\"\", target = 'riscv')"
   ]
  },
  {
   "cell_type": "markdown",
   "metadata": {},
   "source": [
    "The solution in P0 is that at an assignment to, say, `x`, the entry in `reguse` that did hold the register of `x` is deleted. Thus the new value of `x` has to be loaded in a new register again. Note that compilers may instead *rename variables* such that each variable is assigned only once, leading to an intermediate form called *single static assignment* (SSA)."
   ]
  }
 ],
 "metadata": {
  "kernelspec": {
   "display_name": "Python 3 (ipykernel)",
   "language": "python",
   "name": "python3"
  },
  "language_info": {
   "codemirror_mode": {
    "name": "ipython",
    "version": 3
   },
   "file_extension": ".py",
   "mimetype": "text/x-python",
   "name": "python",
   "nbconvert_exporter": "python",
   "pygments_lexer": "ipython3",
   "version": "3.11.1"
  }
 },
 "nbformat": 4,
 "nbformat_minor": 4
}
