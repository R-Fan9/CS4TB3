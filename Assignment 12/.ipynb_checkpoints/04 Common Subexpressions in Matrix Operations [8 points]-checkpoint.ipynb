{
 "cells": [
  {
   "cell_type": "markdown",
   "metadata": {},
   "source": [
    "### Common Subexpressions in Matrix Operations"
   ]
  },
  {
   "cell_type": "markdown",
   "metadata": {},
   "source": [
    "Suppose `a`, `b` are of type `[0 .. N - 1] → integer` and consider the expression\n",
    "```\n",
    "a[i] + b[i]\n",
    "```\n",
    "Making the address calculation explicit, and assuming that `size(integer) = 4`, the expression is equivalent to\n",
    "```\n",
    "*(adr(a) + i × 4) + *(adr(b) + i × 4)\n",
    "```\n",
    "The table for eliminating common subexpressions is:\n",
    "\n",
    "| expression | number |\n",
    "|:-----------|:-------|\n",
    "| `adr(a)`   | `$1`   |\n",
    "| `i`        | `$2`   |\n",
    "| `4`        | `$3`   |\n",
    "| `$2 × $3`  | `$4`   |\n",
    "| `$1 + $4`  | `$5`   |\n",
    "| `* $5`     | `$6`   |\n",
    "| `adr(b)`   | `$7`   |\n",
    "| `$7 + $4`  | `$8`   |\n",
    "| `* $8`     | `$9`   |\n",
    "| `$6 + $9`  | `$10`  |\n",
    "\n",
    "\n",
    "The resulting three-address code is:\n",
    "```\n",
    "$1 := adr(a)\n",
    "$2 := i\n",
    "$3 := 4\n",
    "$3 := $2 × $3\n",
    "$5 := $1 + $4\n",
    "$6 := * $5\n",
    "$7 := adr(b)\n",
    "$8 := $7 + $4\n",
    "$9 := * $8\n",
    "$10 := $6 + $9\n",
    "```"
   ]
  },
  {
   "cell_type": "markdown",
   "metadata": {},
   "source": [
    "Suppose now that matrices `a`, `b`, `c` are all of type `[0 .. N - 1] × [0 .. N - 1] → integer`, or equivalently `[0 .. N - 1] → [0 .. N - 1] → integer`, and consider the expression\n",
    "```\n",
    "c[i, j] + a[i, k] × b[k, j]\n",
    "```\n",
    "or equivalently\n",
    "```\n",
    "c[i][j] + a[i][k] × b[k][j]\n",
    "```\n",
    "Matrix multiplication would involve such an expression.\n",
    "- Write an equivalent expression using `adr(c)` etc. that makes the address calculation explicit (as for `a[i] + b[i]` above)!\n",
    "- Construct a table that represents the DAG with sharing of common subexpressions!"
   ]
  },
  {
   "cell_type": "markdown",
   "metadata": {
    "deletable": false,
    "nbgrader": {
     "cell_type": "markdown",
     "checksum": "45a0b363ab891310d692d15f36176fa6",
     "grade": true,
     "grade_id": "cell-3d7417e2d7ff845f",
     "locked": false,
     "points": 8,
     "schema_version": 3,
     "solution": true,
     "task": false
    }
   },
   "source": [
    "Assuming that `size(integer) = 4`, the expression \n",
    "```\n",
    "c[i][j] + a[i][k] × b[k][j]\n",
    "```\n",
    "is equivalent to\n",
    "```\n",
    "*(adr(c) + i × (N × 4) + (j × 4)) + *(adr(a) + i × (N × 4) + (k × 4)) × *(adr(b) + k × (N × 4) + (j × 4))\n",
    "```\n",
    "The table for eliminating common subexpressions is:\n",
    "\n",
    "| expression | number |\n",
    "|:-----------|:-------|\n",
    "| `adr(c)`   | `$1`   |\n",
    "| `i`        | `$2`   |\n",
    "| `N`        | `$3`   |\n",
    "| `4`        | `$4`   |\n",
    "| `j`        | `$5`   |\n",
    "| `$3 × $4`  | `$6`   |\n",
    "| `$2 × $6`  | `$7`   |\n",
    "| `$1 + $7`  | `$8`   |\n",
    "| `$5 × $4`  | `$9`   |\n",
    "| `$8 + $9`  | `$10`  |\n",
    "| `* $10`    | `$11`  |\n",
    "| `adr(a)`   | `$12`  |\n",
    "| `k`        | `$13`  |\n",
    "| `$13 × $4` | `$14`  |\n",
    "| `$7 + $14` | `$15`  |\n",
    "| `$12 + $15`| `$16`  |\n",
    "| `* $16`    | `$17`  |\n",
    "| `adr(b)`   | `$18`  |\n",
    "| `$13 × $6` | `$19`  |\n",
    "| `$5 × $4`  | `$20`  |\n",
    "| `$19 + $20`| `$21`  |\n",
    "| `$18 + $21`| `$22`  |\n",
    "| `* $22`    | `$23`  |\n",
    "| `$17 × $23`| `$24`  |\n",
    "| `$11 + $24`| `$25`  |"
   ]
  }
 ],
 "metadata": {
  "kernelspec": {
   "display_name": "Python 3 (ipykernel)",
   "language": "python",
   "name": "python3"
  },
  "language_info": {
   "codemirror_mode": {
    "name": "ipython",
    "version": 3
   },
   "file_extension": ".py",
   "mimetype": "text/x-python",
   "name": "python",
   "nbconvert_exporter": "python",
   "pygments_lexer": "ipython3",
   "version": "3.11.1"
  }
 },
 "nbformat": 4,
 "nbformat_minor": 4
}
