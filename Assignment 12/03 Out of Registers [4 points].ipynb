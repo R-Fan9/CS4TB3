{
 "cells": [
  {
   "cell_type": "markdown",
   "metadata": {},
   "source": [
    "### Out of Registers"
   ]
  },
  {
   "cell_type": "markdown",
   "metadata": {},
   "source": [
    "The P0 compiler keeps all subexpressions of a basic block in registers and does not free registers even if the value they hold is no longer needed. Thus it is possible to run out of registers. Write the simplest possible P0 program that, with common subexpression elimination, will cause the compiler to stop with \"RISC-V: out of registers\"!"
   ]
  },
  {
   "cell_type": "code",
   "execution_count": 18,
   "metadata": {},
   "outputs": [],
   "source": [
    "import nbimporter; nbimporter.options[\"only_defs\"] = False\n",
    "from P0 import compileString"
   ]
  },
  {
   "cell_type": "code",
   "execution_count": 19,
   "metadata": {
    "deletable": false,
    "nbgrader": {
     "cell_type": "code",
     "checksum": "5801426e66073f699ef52cc0165265fb",
     "grade": true,
     "grade_id": "cell-404c1f931025b053",
     "locked": false,
     "points": 4,
     "schema_version": 3,
     "solution": true,
     "task": false
    }
   },
   "outputs": [
    {
     "name": "stdout",
     "output_type": "stream",
     "text": [
      "mark exception: line 4 pos 38 RISC-V: out of registers\n"
     ]
    }
   ],
   "source": [
    "compileString(\"\"\"\n",
    "var a, b, c, d, e, f, g: integer\n",
    "program p1\n",
    "  a := (b + (c + (d + (e + (f + g)))))\n",
    "\"\"\", target = 'riscv')"
   ]
  },
  {
   "cell_type": "markdown",
   "metadata": {},
   "source": [
    "As a note, compilers can perform a *liveness analysis* to determine when a register becomes \"dead\" and can be reused."
   ]
  }
 ],
 "metadata": {
  "kernelspec": {
   "display_name": "Python 3 (ipykernel)",
   "language": "python",
   "name": "python3"
  },
  "language_info": {
   "codemirror_mode": {
    "name": "ipython",
    "version": 3
   },
   "file_extension": ".py",
   "mimetype": "text/x-python",
   "name": "python",
   "nbconvert_exporter": "python",
   "pygments_lexer": "ipython3",
   "version": "3.11.1"
  }
 },
 "nbformat": 4,
 "nbformat_minor": 4
}
