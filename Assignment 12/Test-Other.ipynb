{
 "cells": [
  {
   "cell_type": "code",
   "execution_count": 1,
   "metadata": {},
   "outputs": [],
   "source": [
    "import nbimporter; nbimporter.options[\"only_defs\"] = False\n",
    "from P0 import compileString"
   ]
  },
  {
   "cell_type": "code",
   "execution_count": 2,
   "metadata": {},
   "outputs": [
    {
     "name": "stdout",
     "output_type": "stream",
     "text": [
      "\t.data\n",
      "\t.text\n",
      "\t.globl main\n",
      "main:\t\n",
      "\tjal ra, p\n",
      "\taddi a0, zero, 0\n",
      "\taddi a7, zero, 93\n",
      "\tscall\n",
      "\t.globl p\n",
      "p:\t\n",
      "\taddi sp, sp, -32\n",
      "\tsw ra, 28(sp)\n",
      "\tsw s0, 24(sp)\n",
      "\taddi s0, sp, 32\n",
      "\tsw zero, -12(s0)\n",
      "\tlw s10, -12(s0)\n",
      "L1:\t\n",
      "L2:\t\n",
      "\tsub s5, s10, zero\n",
      "\tsltiu s5, s5, 1\n",
      "\tsw s5, -16(s0)\n",
      "\tlw ra, 28(sp)\n",
      "\tlw s0, 24(sp)\n",
      "\taddi sp, sp, 32\n",
      "\tret\n"
     ]
    }
   ],
   "source": [
    "compileString(\"\"\"\n",
    "program p\n",
    "    var x, y, z : boolean\n",
    "    x := false\n",
    "    y := ¬ ¬ ¬  x\n",
    "\"\"\", target = 'riscv')"
   ]
  },
  {
   "cell_type": "markdown",
   "metadata": {},
   "source": [
    "Multiple Indentations"
   ]
  },
  {
   "cell_type": "code",
   "execution_count": null,
   "metadata": {},
   "outputs": [],
   "source": [
    "compileString(\"\"\"\n",
    "procedure q()\n",
    "  var b: boolean\n",
    "    b := true\n",
    "    if b then write(3)\n",
    "    else write(5)\n",
    "    if ¬b then write(5)\n",
    "    else if b then write(7)\n",
    "    else write(9)\n",
    "    while b do\n",
    "      if b then\n",
    "        b := false; write(1)\n",
    "program p\n",
    "  if 3 > 4 then writeln() else\n",
    "    q()\n",
    "  write(1);writeln()\n",
    "  if 3 < 4 then writeln() else\n",
    "    q()\n",
    "  write(2);writeln()\n",
    "  if 3 ≥ 4 then writeln() else\n",
    "    q()\n",
    "  write(3);writeln()\n",
    "  if 3 ≤ 4 then writeln() else\n",
    "    q()\n",
    "  write(4)\n",
    "\"\"\", \"AssemblyFiles/RISCV-other1.s\", target = 'riscv')\n",
    "# 3711\n",
    "#\n",
    "# 2\n",
    "# 3713\n",
    "#\n",
    "# 4"
   ]
  },
  {
   "cell_type": "code",
   "execution_count": null,
   "metadata": {},
   "outputs": [],
   "source": [
    "!python3 -m riscemu AssemblyFiles/RISCV-other1.s"
   ]
  },
  {
   "cell_type": "markdown",
   "metadata": {},
   "source": [
    "Booleans and conditions"
   ]
  },
  {
   "cell_type": "code",
   "execution_count": null,
   "metadata": {},
   "outputs": [],
   "source": [
    "compileString(\"\"\"\n",
    "program p\n",
    "  const five = 5\n",
    "  const seven = 7\n",
    "  const always = true\n",
    "  const never = false\n",
    "  var x, y, z: integer\n",
    "  var b, t, f: boolean\n",
    "    x := seven; y := 9; z := 11; t := true; f := false\n",
    "    if true then write(7) else write(9)    {writes 7}\n",
    "    if false then write(7) else write(9)   {writes 9}\n",
    "    if t then write(7) else write(9)       {writes 7}\n",
    "    if f then write(7) else write(9)       {writes 9}\n",
    "    if ¬ t then write(7) else write(9)     {writes 9}\n",
    "    if ¬ f then write(7) else write(9)     {writes 7}\n",
    "    if t or t then write(7) else write(9)  {writes 7}\n",
    "    if t or f then write(7) else write(9)  {writes 7}\n",
    "    if f or t then write(7) else write(9)  {writes 7}\n",
    "    if f or f then write(7) else write(9)  {writes 9}\n",
    "    if t and t then write(7) else write(9) {writes 7}\n",
    "    if t and f then write(7) else write(9) {writes 9}\n",
    "    if f and t then write(7) else write(9) {writes 9}\n",
    "    if f and f then write(7) else write(9) {writes 9}\n",
    "    writeln()\n",
    "    b := true\n",
    "    if b then write(3) else write(5) {writes 3}\n",
    "    b := false\n",
    "    if b then write(3) else write(5) {writes 5}\n",
    "    b := x < y\n",
    "    if b then write(x) else write(y) {writes 7}\n",
    "    b := (x > y) or t\n",
    "    if b then write(3) else write(5) {writes 3}\n",
    "    b := (x > y) or f\n",
    "    if b then write(3) else write(5) {writes 5}\n",
    "    b := (x = y) or (x > y)\n",
    "    if b then write(3) else write(5) {writes 5}\n",
    "    b := (x = y) or (x < y)\n",
    "    if b then write(3) else write(5) {writes 3}\n",
    "    b := f and (x ≥ y)\n",
    "    if b then write(3) else write(5) {writes 5}\n",
    "    writeln()\n",
    "    while y > 3 do                   {writes 9, 8, 7, 6, 5, 4}\n",
    "      write(y); y := y - 1\n",
    "    write(y); writeln()              {writes 3}\n",
    "    if ¬(x < y) and t then\n",
    "      write(x)                       {writes 7}\n",
    "\"\"\", 'AssemblyFiles/RISCV-other2.s', target = 'riscv')\n",
    "# 79799777797999\n",
    "# 35735535\n",
    "# 9876543\n",
    "# 7"
   ]
  },
  {
   "cell_type": "code",
   "execution_count": null,
   "metadata": {},
   "outputs": [],
   "source": [
    "!python3 -m riscemu AssemblyFiles/RISCV-other2.s"
   ]
  },
  {
   "cell_type": "markdown",
   "metadata": {},
   "source": [
    "Constant Folding, Local & Global Variables"
   ]
  },
  {
   "cell_type": "code",
   "execution_count": null,
   "metadata": {},
   "outputs": [],
   "source": [
    "compileString(\"\"\"\n",
    "const seven = (9 mod 3 + 5 × 3) div 2\n",
    "type int = integer\n",
    "var x, y: integer\n",
    "procedure q()\n",
    "  const sotrue = true and true\n",
    "  const sofalse = false and true\n",
    "  const alsotrue = false or true\n",
    "  const alsofalse = false or false\n",
    "  var x: int\n",
    "    x := 3\n",
    "    if sotrue then y := x else y := seven\n",
    "    write(y) {writes 3}\n",
    "    if sofalse then y := x else y := seven\n",
    "    write(y) {writes 7}\n",
    "    if alsotrue then y := x else y := seven\n",
    "    write(y) {writes 3}\n",
    "    if alsofalse then y := x else y := seven\n",
    "    write(y) {writes 7}\n",
    "    if ¬(true or false) then write(5) else write(9)\n",
    "program p\n",
    "  x := 7; q(); write(x) {writes 7}\n",
    "\"\"\", 'AssemblyFiles/RISCV-other3.s', target = 'riscv')\n",
    "#373797"
   ]
  },
  {
   "cell_type": "code",
   "execution_count": null,
   "metadata": {},
   "outputs": [],
   "source": [
    "!python3 -m riscemu AssemblyFiles/RISCV-other3.s"
   ]
  },
  {
   "cell_type": "markdown",
   "metadata": {},
   "source": [
    "Procedures"
   ]
  },
  {
   "cell_type": "code",
   "execution_count": null,
   "metadata": {},
   "outputs": [],
   "source": [
    "compileString(\"\"\"\n",
    "var g: integer          {global variable}\n",
    "procedure q(v: integer) {value parameter}\n",
    "  var l: integer        {local variable}\n",
    "    l := 9\n",
    "    if l > v then write(l)\n",
    "    else write(g)\n",
    "program p\n",
    "  g := 5; q(7)          {writes 9}\n",
    "\"\"\", 'AssemblyFiles/RISCV-other4.s', target = 'riscv')\n",
    "#9"
   ]
  },
  {
   "cell_type": "code",
   "execution_count": null,
   "metadata": {},
   "outputs": [],
   "source": [
    "!python3 -m riscemu AssemblyFiles/RISCV-other4.s"
   ]
  },
  {
   "cell_type": "markdown",
   "metadata": {},
   "source": [
    "Nested procedures"
   ]
  },
  {
   "cell_type": "code",
   "execution_count": null,
   "metadata": {},
   "outputs": [],
   "source": [
    "compileString(\"\"\"\n",
    "var b: boolean\n",
    "program p\n",
    "  var i: integer\n",
    "  procedure q(z: boolean)\n",
    "    var y: integer\n",
    "    procedure r(x: integer)\n",
    "      b := false; x := x + 1\n",
    "    z := true; y := 4; r(i)\n",
    "    write(y); writeln()\n",
    "  q(b)\n",
    "\"\"\", 'AssemblyFiles/RISCV-other5.s', target = 'riscv')"
   ]
  },
  {
   "cell_type": "code",
   "execution_count": null,
   "metadata": {},
   "outputs": [],
   "source": [
    "!python3 -m riscemu AssemblyFiles/RISCV-other5.s"
   ]
  },
  {
   "cell_type": "markdown",
   "metadata": {},
   "source": [
    "Input and output"
   ]
  },
  {
   "cell_type": "code",
   "execution_count": null,
   "metadata": {},
   "outputs": [],
   "source": [
    "#read not working!!!\n",
    "compileString(\"\"\"\n",
    "program p\n",
    "  var x: integer\n",
    "    x ← read()\n",
    "    x := 3 × x\n",
    "    write(x)\n",
    "    writeln()\n",
    "    writeln()\n",
    "    write(x × 5)\n",
    "\"\"\", 'AssemblyFiles/RISCV-other6.s', target = 'riscv')"
   ]
  },
  {
   "cell_type": "code",
   "execution_count": null,
   "metadata": {},
   "outputs": [],
   "source": [
    "#!python3 -m riscemu AssemblyFiles/RISCV-other6.s"
   ]
  },
  {
   "cell_type": "markdown",
   "metadata": {},
   "source": [
    "Two-dimensional Array"
   ]
  },
  {
   "cell_type": "code",
   "execution_count": null,
   "metadata": {},
   "outputs": [],
   "source": [
    "compileString(\"\"\"\n",
    "type R = integer\n",
    "type S = [1..11] → R\n",
    "type T = [3..9] → S\n",
    "var x: T\n",
    "var y: integer\n",
    "var b: boolean\n",
    "program p\n",
    "    var i, j : integer\n",
    "    i := 3\n",
    "    while i < 10 do\n",
    "        j := 1\n",
    "        while j < 12 do\n",
    "            x[i][j] := (i + j) mod 10\n",
    "            write(x[i][j])\n",
    "            j := j + 1\n",
    "        i := i + 1\n",
    "        writeln()\n",
    "    i := 3\n",
    "    while i < 10 do\n",
    "        j := 1\n",
    "        while j < 12 do\n",
    "            write(x[i][j])\n",
    "            j := j + 1\n",
    "        i := i + 1\n",
    "        writeln()\n",
    "\"\"\", 'AssemblyFiles/RISCV-other7.s', target = 'riscv')"
   ]
  },
  {
   "cell_type": "code",
   "execution_count": null,
   "metadata": {},
   "outputs": [],
   "source": [
    "!python3 -m riscemu AssemblyFiles/RISCV-other7.s"
   ]
  },
  {
   "cell_type": "markdown",
   "metadata": {},
   "source": [
    "Parameter Passing"
   ]
  },
  {
   "cell_type": "code",
   "execution_count": null,
   "metadata": {},
   "outputs": [],
   "source": [
    "compileString(\"\"\"\n",
    "type T = [1..10] → integer\n",
    "var x: integer\n",
    "var z: T\n",
    "procedure q({-4($sp)} a: integer {4($fp)}, {-8($sp)} b: integer {($fp)})\n",
    "  var y: integer {-12($fp)}\n",
    "    y := a; write(y); writeln() {writes 7}\n",
    "    a := b; write(x); write(a); writeln() {writes 5, 5}\n",
    "    b := y; write(b); write(x); writeln() {writes 7, 5}\n",
    "    write(y); writeln() {writes 7}\n",
    "    write(z[4]) {writes 0}\n",
    "program p\n",
    "  x := 5; q(7, x)\n",
    "\"\"\", 'AssemblyFiles/RISCV-other8.s', target = 'riscv')\n",
    "# 7\n",
    "# 55\n",
    "# 75\n",
    "# 7\n",
    "# 0"
   ]
  },
  {
   "cell_type": "code",
   "execution_count": null,
   "metadata": {},
   "outputs": [],
   "source": [
    "!python3 -m riscemu AssemblyFiles/RISCV-other8.s"
   ]
  },
  {
   "cell_type": "code",
   "execution_count": null,
   "metadata": {},
   "outputs": [],
   "source": []
  }
 ],
 "metadata": {
  "kernelspec": {
   "display_name": "Python 3 (ipykernel)",
   "language": "python",
   "name": "python3"
  },
  "language_info": {
   "codemirror_mode": {
    "name": "ipython",
    "version": 3
   },
   "file_extension": ".py",
   "mimetype": "text/x-python",
   "name": "python",
   "nbconvert_exporter": "python",
   "pygments_lexer": "ipython3",
   "version": "3.11.1"
  }
 },
 "nbformat": 4,
 "nbformat_minor": 4
}
