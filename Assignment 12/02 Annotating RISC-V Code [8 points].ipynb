{
 "cells": [
  {
   "cell_type": "markdown",
   "metadata": {
    "tags": []
   },
   "source": [
    "#### Annotating RISC-V Code"
   ]
  },
  {
   "cell_type": "code",
   "execution_count": 1,
   "metadata": {},
   "outputs": [],
   "source": [
    "import nbimporter; nbimporter.options[\"only_defs\"] = False\n",
    "from P0 import compileString"
   ]
  },
  {
   "cell_type": "markdown",
   "metadata": {
    "tags": []
   },
   "source": [
    "Generate the RISC-V assembly code of the following P0 program:"
   ]
  },
  {
   "cell_type": "code",
   "execution_count": 2,
   "metadata": {},
   "outputs": [
    {
     "name": "stdout",
     "output_type": "stream",
     "text": [
      "\t.data\n",
      "x_:\t.space 4\n",
      "y_:\t.space 4\n",
      "z_:\t.space 4\n",
      "\t.text\n",
      "\t.globl main\n",
      "main:\t\n",
      "\tjal ra, p1\n",
      "\taddi a0, zero, 0\n",
      "\taddi a7, zero, 93\n",
      "\tscall\n",
      "\t.globl p1\n",
      "p1:\t\n",
      "\taddi sp, sp, -16\n",
      "\tsw ra, 12(sp)\n",
      "\tsw s0, 8(sp)\n",
      "\taddi s0, sp, 16\n",
      "\tla s3, x_\n",
      "\tlw s7, 0(s3)\n",
      "\taddi s6, s7, 3\n",
      "\tla s5, z_\n",
      "\tsw s6, 0(s5)\n",
      "\tla s8, y_\n",
      "\tlw s9, 0(s8)\n",
      "\tadd s11, s7, s9\n",
      "\tmul s10, s11, s6\n",
      "\tadd s4, s10, s11\n",
      "\tla s2, x_\n",
      "\tsw s4, 0(s2)\n",
      "\tlw ra, 12(sp)\n",
      "\tlw s0, 8(sp)\n",
      "\taddi sp, sp, 16\n",
      "\tret\n"
     ]
    }
   ],
   "source": [
    "compileString(\"\"\"\n",
    "var x, y, z: integer\n",
    "program p1\n",
    "  z := x + 3\n",
    "  x := (x + y) × (x + 3) + (x + y)\n",
    "\"\"\", target = 'riscv')"
   ]
  },
  {
   "cell_type": "markdown",
   "metadata": {
    "tags": []
   },
   "source": [
    "Annotate each line of the generated RISC-V code with an assignment or brief description what the instruction does, using names rather than offsets and addresses. Explain the effect of common subexpression elimination!"
   ]
  },
  {
   "cell_type": "markdown",
   "metadata": {
    "deletable": false,
    "nbgrader": {
     "cell_type": "markdown",
     "checksum": "70b6442891ce24f35c24f7f6e68465b8",
     "grade": true,
     "grade_id": "cell-ce50af18ddec380c",
     "locked": false,
     "points": 8,
     "schema_version": 3,
     "solution": true,
     "task": false
    }
   },
   "source": [
    "<pre style=\"font-family:monospace;color:royalblue\">\n",
    ".data                    ; Indicates the start of the data segment  \n",
    "x_:    .space 4          ; Reserves 4 bytes of space for variable x_  \n",
    "y_:    .space 4          ; Reserves 4 bytes of space for variable y_  \n",
    "z_:    .space 4          ; Reserves 4 bytes of space for variable z_  \n",
    ".text                    ; Indicates the start of the text segment  \n",
    ".globl main              ; Marks 'main' as a global symbol (entry point)  \n",
    "main:                    ; Main function starts here  \n",
    "\tjal ra, p1            ; Jumps and links to function 'p1'  \n",
    "\taddi a0, zero, 0      ; Sets a0 register to 0 (return code)  \n",
    "\taddi a7, zero, 93     ; Sets a7 register to 93 (exit syscall number)  \n",
    "\tscall                 ; System call to exit the program  \n",
    "\t.globl p1             ; Marks 'p1' as a global symbol  \n",
    "p1:                       ; Function 'p1' starts here  \n",
    "\taddi sp, sp, -16      ; Allocates 16 bytes of space on the stack  \n",
    "\tsw ra, 12(sp)         ; Stores the return address in the stack frame  \n",
    "\tsw s0, 8(sp)          ; Stores the value of s0 register in the stack frame  \n",
    "\taddi s0, sp, 16       ; Sets s0 to point to the start of the stack frame  \n",
    "\tla s3, x_             ; Loads the address of variable x_ into s3  \n",
    "\tlw s7, 0(s3)          ; Loads the value of x_ into s7  \n",
    "\taddi s6, s7, 3        ; Adds 3 to the value of x_ and stores in s6  \n",
    "\tla s5, z_             ; Loads the address of variable z_ into s5  \n",
    "\tsw s6, 0(s5)          ; Stores the value of s6 into z_  \n",
    "\tla s8, y_             ; Loads the address of variable y_ into s8  \n",
    "\tlw s9, 0(s8)          ; Loads the value of y_ into s9  \n",
    "\tadd s11, s7, s9       ; Adds the values of x_ and y_ and stores in s11  \n",
    "\tmul s10, s11, s6      ; Multiplies the values of s11 and s6 and stores in s10  \n",
    "\tadd s4, s10, s11      ; Adds s10 and s11 and stores in s4  \n",
    "\tla s2, x_             ; Loads the address of variable x_ into s2  \n",
    "\tsw s4, 0(s2)          ; Stores the value of s4 into x_  \n",
    "\tlw ra, 12(sp)         ; Restores the return address from the stack  \n",
    "\tlw s0, 8(sp)          ; Restores the value of s0 register from the stack  \n",
    "\taddi sp, sp, 16       ; Deallocates the stack frame  \n",
    "\tret                   ; Returns from the function  \n",
    "</pre>\n",
    "\n",
    "Utilizing common subexpression elimination significantly streamlines the computational process, minimizing redundancy within the code. Within the provided program, we observe that register `s6` holds the value of `x + 3`, while register `s11` contains the value of `x + y`. When tasked with evaluating `(x + y) × (x + 3)`, we can directly leverage the precomputed values stored in registers `s11` and `s6`, obviating the need to reload variables from memory and execute redundant arithmetic operations. Following the computation of `(x + y) × (x + 3)`, the program stores the result in register `s10`, which subsequently facilitates the final computation of `(x + y) × (x + 3) + (x + y)`. This optimization not only enhances efficiency but also ensures a more concise and optimized implementation, which can positively impact overall program performance."
   ]
  }
 ],
 "metadata": {
  "kernelspec": {
   "display_name": "Python 3 (ipykernel)",
   "language": "python",
   "name": "python3"
  },
  "language_info": {
   "codemirror_mode": {
    "name": "ipython",
    "version": 3
   },
   "file_extension": ".py",
   "mimetype": "text/x-python",
   "name": "python",
   "nbconvert_exporter": "python",
   "pygments_lexer": "ipython3",
   "version": "3.11.1"
  }
 },
 "nbformat": 4,
 "nbformat_minor": 4
}
