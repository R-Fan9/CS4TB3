{
 "cells": [
  {
   "cell_type": "markdown",
   "metadata": {
    "tags": []
   },
   "source": [
    "####  Extending P0 with Bitwise Set Operations (WASM)"
   ]
  },
  {
   "cell_type": "code",
   "execution_count": 1,
   "metadata": {
    "slideshow": {
     "slide_type": "-"
    }
   },
   "outputs": [],
   "source": [
    "def runwasm(wasmfile):\n",
    "    from IPython.display import display, Javascript\n",
    "    display(Javascript(\"\"\"\n",
    "    const params = {\n",
    "        P0lib: {\n",
    "            write: i => element.append(i + ' '),\n",
    "            writeln: () => element.append(document.createElement('br')),\n",
    "            read: () => window.prompt()\n",
    "        }\n",
    "    }\n",
    "    \n",
    "    var wasmByteString = \\\"\"\"\" + str(open(wasmfile, \"rb\").read()) + \"\"\"\\\"; // pass the wasm file to JavaScript as byte string\n",
    "    wasmByteString = wasmByteString.substring(2, wasmByteString.length - 1); // remove the byte literals b'...'\n",
    "    const wasmArrayBuffer = new Uint8Array(wasmByteString.length); // convert the binary string to ArrayBuffer\n",
    "    for (let i = 0; i < wasmByteString.length; i++)\n",
    "      wasmArrayBuffer[i] = wasmByteString.charCodeAt(i);\n",
    "    \n",
    "    WebAssembly.compile(wasmArrayBuffer.buffer) // compile (sharable) code\n",
    "        .then(module => WebAssembly.instantiate(module, params)) // create an instance with memory\n",
    "        // .then(instance => instance.exports.program()); // run the main program; not needed if a start function is specified\n",
    "     \"\"\"))"
   ]
  },
  {
   "cell_type": "code",
   "execution_count": 2,
   "metadata": {},
   "outputs": [],
   "source": [
    "def runpywasm(wasmfile):\n",
    "    import pywasm\n",
    "    def write(s, i): print(i, end=' ')\n",
    "    def writeln(s): print()\n",
    "    def read(s): return int(input())\n",
    "    vm = pywasm.load(wasmfile, {'P0lib': {'write': write, 'writeln': writeln, 'read': read}})"
   ]
  },
  {
   "cell_type": "code",
   "execution_count": 3,
   "metadata": {},
   "outputs": [],
   "source": [
    "from wasmer import engine, Store, Module, Instance, ImportObject, Function\n",
    "from wasmer_compiler_cranelift import Compiler\n",
    "\n",
    "def runwasmer(wasmfile):\n",
    "    def write(i: int): print(i, end=' ')\n",
    "    def writeln(): print()\n",
    "    def read() -> int: return int(input()) \n",
    "    store = Store(engine.JIT(Compiler))\n",
    "    module = Module(store, open(wasmfile, 'rb').read())\n",
    "    import_object = ImportObject()\n",
    "    import_object.register(\"P0lib\", {\"write\": Function(store, write),\n",
    "                                     \"writeln\": Function(store, writeln),\"read\": Function(store, read)})\n",
    "    instance = Instance(module, import_object)"
   ]
  },
  {
   "cell_type": "code",
   "execution_count": 4,
   "metadata": {
    "scrolled": true
   },
   "outputs": [],
   "source": [
    "import nbimporter; nbimporter.options[\"only_defs\"] = False\n",
    "from P0 import compileString"
   ]
  },
  {
   "cell_type": "markdown",
   "metadata": {
    "tags": []
   },
   "source": [
    "Extend P0 with two binary operators, `∉` (Unicode U+2209, not an element of) and `∖` (Unicode U+2216, set minus), defined by:\n",
    "* `i ∉ s ≡ ¬(i ∈ s)`, where `i` is an integer and `s` is a set \n",
    "* `s ∖ t = s ∩ ∁t`, where `s`, `t` are sets\n",
    "\n",
    "The following P0 program illustrates the use of these operators; you can use it to test your implementation:"
   ]
  },
  {
   "cell_type": "code",
   "execution_count": 5,
   "metadata": {
    "scrolled": true
   },
   "outputs": [],
   "source": [
    "compileString(\"\"\"\n",
    "const N = 32\n",
    "const R = 5 // ⌊√N⌋\n",
    "type S = set [0 .. N - 1]\n",
    "procedure eratosthenes() → (p: S)\n",
    "    var i, j: integer\n",
    "        p := ∁ {} // set of all integers \n",
    "        i := 2;\n",
    "        while i ≤ R do\n",
    "            if i ∈ p then\n",
    "                j := i × i\n",
    "                while j < N do\n",
    "                    p, j := p ∖ {j}, j + i\n",
    "            i := i + 1\n",
    "program primes\n",
    "    var p: S\n",
    "    var j: integer\n",
    "        p ← eratosthenes()\n",
    "        j := 2 // print all primes up to N\n",
    "        while j < N do\n",
    "            if j ∈ p then write(j)\n",
    "            j := j + 1\n",
    "        writeln(); j := 2 // print all non-primes up to N\n",
    "        while j < N do\n",
    "            if j ∉ p then write(j)\n",
    "            j := j + 1\n",
    "\"\"\", 'primes.wat', target = 'wat')"
   ]
  },
  {
   "cell_type": "code",
   "execution_count": 6,
   "metadata": {},
   "outputs": [],
   "source": [
    "!wat2wasm primes.wat"
   ]
  },
  {
   "cell_type": "code",
   "execution_count": 7,
   "metadata": {},
   "outputs": [
    {
     "name": "stdout",
     "output_type": "stream",
     "text": [
      "2 3 5 7 11 13 17 19 23 29 31 \n",
      "4 6 8 9 10 12 14 15 16 18 20 21 22 24 25 26 27 28 30 "
     ]
    }
   ],
   "source": [
    "runpywasm(\"primes.wasm\")"
   ]
  },
  {
   "cell_type": "markdown",
   "metadata": {},
   "source": [
    "The output is supposed to be:\n",
    "```\n",
    "2 3 5 7 11 13 17 19 23 29 31 \n",
    "4 6 8 9 10 12 14 15 16 18 20 21 22 24 25 26 27 28 30\n",
    "```"
   ]
  },
  {
   "cell_type": "markdown",
   "metadata": {
    "tags": []
   },
   "source": [
    "##### Part A (Extending the Scanner) [4 points]"
   ]
  },
  {
   "cell_type": "markdown",
   "metadata": {
    "tags": []
   },
   "source": [
    "- In `SC.ipynb`, introduce new integer constants `NOTELEMENT` and `DIFFERENCE` for `∉` and `∖`.\n",
    "- Extend the production of `symbol` in the text cell above `getSym()` to include  `∉` and `∖`.\n",
    "- Extend `getSym()` to return `NOTELEMENT` and `DIFFERENCE` when recognizing  `∉` and `∖`.\n",
    "\n",
    "The cell below serves only for grading and testing."
   ]
  },
  {
   "cell_type": "code",
   "execution_count": 8,
   "metadata": {
    "deletable": false,
    "editable": false,
    "nbgrader": {
     "cell_type": "code",
     "checksum": "458c423d35a30001b782f939f39cf7dc",
     "grade": true,
     "grade_id": "cell-0da64eab88c93c50",
     "locked": true,
     "points": 4,
     "schema_version": 3,
     "solution": false,
     "task": false
    },
    "tags": []
   },
   "outputs": [],
   "source": [
    "import SC\n",
    "\n",
    "def scanString(src):\n",
    "    SC.init(src); syms = [(SC.sym, SC.val)]\n",
    "    while SC.sym != SC.EOF:\n",
    "        SC.getSym()\n",
    "        syms.append((SC.sym, SC.val))\n",
    "    return syms\n",
    "\n",
    "assert scanString('5 ∉ {3}') == [(SC.NUMBER, 5), (SC.NOTELEMENT, 5), (SC.LBRACE, 5), \n",
    "                                 (SC.NUMBER, 3), (SC.RBRACE, 3), (SC.EOF, 3)]\n",
    "assert scanString('s ∖ t') == [(SC.IDENT, 's'), (SC.DIFFERENCE, 's'), (SC.IDENT, 't'), (SC.EOF, 't')]\n",
    "    "
   ]
  },
  {
   "cell_type": "markdown",
   "metadata": {
    "tags": []
   },
   "source": [
    "##### Part B (Extending the Parser) [8 points]"
   ]
  },
  {
   "cell_type": "markdown",
   "metadata": {
    "tags": []
   },
   "source": [
    "1. In `P0.ipynb`, extend the imports with `NOTELEMENT` and `DIFFERENCE`.\n",
    "2. Extend the grammar at two places, in the section \"The P0 Grammar\" and before the parsing procedures for each nonterminal: `∖` has to bind as tight as `∩` and `∉` has to bind as tight as `∈`. That is, `a ∉ b ∖ c ∪ d` is parsed like `a ∉ ((b ∖ c) ∪ d)`.\n",
    "3. If the first sets need to be modified, modify them.\n",
    "4. Extend the parsing procedures accordingly. Add type-checking: when parsing `a ∉ b`, if `a` is not an integer, the error `bad type` should be generated; if `b` is not a set, the error `set expected` should be generated. When parsing `(a ∖ b)`, the error `bad type` should be generated if not both `a` and `b` are sets.\n",
    "5. In `CGast.ipynb`, extend the imports with `NOTELEMENT` and `DIFFERENCE`.\n",
    "6. Extend method `__str(self)__` of class `BinaryOp` such that `∉` is returned for `NOTELEMENT` and `∖` is returned for `DIFFERENCE`.\n",
    "\n",
    "The cell below serves only for grading and testing."
   ]
  },
  {
   "cell_type": "code",
   "execution_count": 9,
   "metadata": {
    "deletable": false,
    "editable": false,
    "nbgrader": {
     "cell_type": "code",
     "checksum": "6c93f08d640dcab3c4bb02dee93765d9",
     "grade": true,
     "grade_id": "cell-aabc48f8be6182a2",
     "locked": true,
     "points": 4,
     "schema_version": 3,
     "solution": false,
     "task": false
    },
    "tags": []
   },
   "outputs": [],
   "source": [
    "assert compileString(\"\"\"\n",
    "program bitsets\n",
    "  var a, b: set [1 .. 5]\n",
    "  var c: boolean\n",
    "    c := (2 ∈ a) or (2 ∉ a)\n",
    "    a := ∁ a ∩ b ∖ a ∪ b\n",
    "\"\"\", target='ast') == \"\"\"\\\n",
    "seq\n",
    "  :=\n",
    "    Var(name = c, lev = 1, tp = <class 'ST.Bool'>)\n",
    "    or\n",
    "      ∈\n",
    "        Const(name = , tp = <class 'ST.Int'>, val = 2)\n",
    "        Var(name = a, lev = 1, tp = Set(lower = 1, length = 5))\n",
    "      ∉\n",
    "        Const(name = , tp = <class 'ST.Int'>, val = 2)\n",
    "        Var(name = a, lev = 1, tp = Set(lower = 1, length = 5))\n",
    "  :=\n",
    "    Var(name = a, lev = 1, tp = Set(lower = 1, length = 5))\n",
    "    ∪\n",
    "      ∖\n",
    "        ∩\n",
    "          ∁\n",
    "            Var(name = a, lev = 1, tp = Set(lower = 1, length = 5))\n",
    "          Var(name = b, lev = 1, tp = Set(lower = 1, length = 5))\n",
    "        Var(name = a, lev = 1, tp = Set(lower = 1, length = 5))\n",
    "      Var(name = b, lev = 1, tp = Set(lower = 1, length = 5))\"\"\""
   ]
  },
  {
   "cell_type": "markdown",
   "metadata": {
    "tags": []
   },
   "source": [
    "The following programs should all produce error messages:"
   ]
  },
  {
   "cell_type": "code",
   "execution_count": 10,
   "metadata": {
    "deletable": false,
    "editable": false,
    "nbgrader": {
     "cell_type": "code",
     "checksum": "68d19c71802ffbce70462c5c4ff5a491",
     "grade": true,
     "grade_id": "cell-44aeecb458d96abe",
     "locked": true,
     "points": 1,
     "schema_version": 3,
     "solution": false,
     "task": false
    },
    "tags": []
   },
   "outputs": [],
   "source": [
    "try:\n",
    "    compileString(\"\"\"\n",
    "program bitsets\n",
    "  var a, b: set [1 .. 5]\n",
    "  var c: boolean\n",
    "    c := a ∉ b\n",
    "\"\"\", target='ast')\n",
    "    raise\n",
    "except Exception as e:\n",
    "    assert str(e) == \"line 5 pos 14 bad type\""
   ]
  },
  {
   "cell_type": "code",
   "execution_count": 11,
   "metadata": {
    "deletable": false,
    "editable": false,
    "nbgrader": {
     "cell_type": "code",
     "checksum": "555e3b37e009be2eb5f043afa007cd77",
     "grade": true,
     "grade_id": "cell-e5a2c27d57f53c55",
     "locked": true,
     "points": 1,
     "schema_version": 3,
     "solution": false,
     "task": false
    },
    "tags": []
   },
   "outputs": [],
   "source": [
    "try:\n",
    "    compileString(\"\"\"\n",
    "program bitsets\n",
    "  var a, b: set [1 .. 5]\n",
    "  var c: boolean\n",
    "    c := 2 ∉ c\n",
    "\"\"\", target='ast')\n",
    "    raise\n",
    "except Exception as e:\n",
    "    assert str(e) == \"line 5 pos 14 set expected\""
   ]
  },
  {
   "cell_type": "code",
   "execution_count": 12,
   "metadata": {
    "deletable": false,
    "editable": false,
    "nbgrader": {
     "cell_type": "code",
     "checksum": "614a2ea83f13467767e626863dd0c161",
     "grade": true,
     "grade_id": "cell-1b384057a546d060",
     "locked": true,
     "points": 1,
     "schema_version": 3,
     "solution": false,
     "task": false
    },
    "tags": []
   },
   "outputs": [
    {
     "name": "stdout",
     "output_type": "stream",
     "text": [
      "Var(name = c, lev = 1, tp = <class 'ST.Bool'>) Var(name = b, lev = 1, tp = Set(lower = 1, length = 5))\n"
     ]
    }
   ],
   "source": [
    "try:\n",
    "    compileString(\"\"\"\n",
    "program bitsets\n",
    "  var a, b: set [1 .. 5]\n",
    "  var c: boolean\n",
    "    a := c ∖ b\n",
    "\"\"\", target='ast')\n",
    "    raise\n",
    "except Exception as e:\n",
    "    assert str(e) == \"line 5 pos 14 bad type\""
   ]
  },
  {
   "cell_type": "code",
   "execution_count": 13,
   "metadata": {
    "deletable": false,
    "editable": false,
    "nbgrader": {
     "cell_type": "code",
     "checksum": "afd19c3daed46af6c05d50a54b4bd028",
     "grade": true,
     "grade_id": "cell-8b13b62785e70a76",
     "locked": true,
     "points": 1,
     "schema_version": 3,
     "solution": false,
     "task": false
    },
    "tags": []
   },
   "outputs": [
    {
     "name": "stdout",
     "output_type": "stream",
     "text": [
      "Var(name = b, lev = 1, tp = Set(lower = 1, length = 5)) Const(name = , tp = <class 'ST.Int'>, val = 3)\n"
     ]
    }
   ],
   "source": [
    "try:\n",
    "    compileString(\"\"\"\n",
    "program bitsets\n",
    "  var a, b: set [1 .. 5]\n",
    "    a := b ∖ 3\n",
    "\"\"\", target='ast')\n",
    "    raise\n",
    "except Exception as e:\n",
    "    assert str(e) == \"line 4 pos 14 bad type\""
   ]
  },
  {
   "cell_type": "markdown",
   "metadata": {
    "tags": []
   },
   "source": [
    "##### Part C (Extending the Code Generator) [8 points]"
   ]
  },
  {
   "cell_type": "markdown",
   "metadata": {
    "tags": []
   },
   "source": [
    "In `CGwat.ipynb`, extend `genUnaryOp` and `genBinaryOp` to generate code for `∉` and `∖`.\n",
    "\n",
    "The cell below serves only for grading and testing. *Hint:* when generating code for `a ∖ b` in `genBinaryOp`, load first `b` on the stack, complement it, then load `a` on the stack and bitwise-and the top two elements on the stack."
   ]
  },
  {
   "cell_type": "code",
   "execution_count": 14,
   "metadata": {
    "deletable": false,
    "editable": false,
    "nbgrader": {
     "cell_type": "code",
     "checksum": "09870490cdbe833d189874ca3fc39abc",
     "grade": true,
     "grade_id": "cell-b51981ebfdfc36c7",
     "locked": true,
     "points": 8,
     "schema_version": 3,
     "solution": false,
     "task": false
    },
    "tags": []
   },
   "outputs": [],
   "source": [
    "import nbimporter; nbimporter.options[\"only_defs\"] = False\n",
    "import P0\n",
    "\n",
    "compileString(\"\"\"\n",
    "program bitsets\n",
    "  var a, b: set [1 .. 11]\n",
    "  var i: integer\n",
    "    i, a := 1, {3, 5, 7}\n",
    "    if i ∉ a then a := a ∖ {7, 9}\n",
    "    while i < 12 do\n",
    "      if i ∈ a then write(i)\n",
    "      i := i + 1\n",
    "\"\"\", 'bitsets.wat', target = 'wat')\n",
    "\n",
    "assert open('bitsets.wat').read() == \"\"\"\\\n",
    "(module\n",
    "(import \"P0lib\" \"write\" (func $write (param i32)))\n",
    "(import \"P0lib\" \"writeln\" (func $writeln))\n",
    "(import \"P0lib\" \"read\" (func $read (result i32)))\n",
    "(global $_memsize (mut i32) i32.const 0)\n",
    "(func $program\n",
    "(local $a i32)\n",
    "(local $b i32)\n",
    "(local $i i32)\n",
    "(local $0 i32)\n",
    "i32.const 1\n",
    "i32.const 3\n",
    "local.set $0\n",
    "i32.const 1\n",
    "local.get $0\n",
    "i32.shl\n",
    "i32.const 5\n",
    "local.set $0\n",
    "i32.const 1\n",
    "local.get $0\n",
    "i32.shl\n",
    "i32.or\n",
    "i32.const 7\n",
    "local.set $0\n",
    "i32.const 1\n",
    "local.get $0\n",
    "i32.shl\n",
    "i32.or\n",
    "local.set $a\n",
    "local.set $i\n",
    "local.get $i\n",
    "local.set $0\n",
    "i32.const 1\n",
    "local.get $0\n",
    "i32.shl\n",
    "local.get $a\n",
    "i32.and\n",
    "i32.eqz\n",
    "if\n",
    "i32.const 7\n",
    "local.set $0\n",
    "i32.const 1\n",
    "local.get $0\n",
    "i32.shl\n",
    "i32.const 9\n",
    "local.set $0\n",
    "i32.const 1\n",
    "local.get $0\n",
    "i32.shl\n",
    "i32.or\n",
    "i32.const 0xffe\n",
    "i32.xor\n",
    "local.get $a\n",
    "i32.and\n",
    "local.set $a\n",
    "end\n",
    "loop\n",
    "local.get $i\n",
    "i32.const 12\n",
    "i32.lt_s\n",
    "if\n",
    "local.get $i\n",
    "local.set $0\n",
    "i32.const 1\n",
    "local.get $0\n",
    "i32.shl\n",
    "local.get $a\n",
    "i32.and\n",
    "if\n",
    "local.get $i\n",
    "call $write\n",
    "end\n",
    "local.get $i\n",
    "i32.const 1\n",
    "i32.add\n",
    "local.set $i\n",
    "br 1\n",
    "end\n",
    "end\n",
    ")\n",
    "(memory 1)\n",
    "(start $program)\n",
    ")\"\"\"\n"
   ]
  },
  {
   "cell_type": "markdown",
   "metadata": {
    "tags": []
   },
   "source": [
    "The first if-statement should translate to:\n",
    "```\n",
    "local.get $i\n",
    "local.set $0\n",
    "i32.const 1\n",
    "local.get $0\n",
    "i32.shl\n",
    "local.get $a\n",
    "i32.and\n",
    "i32.eqz\n",
    "if\n",
    "i32.const 7\n",
    "local.set $0\n",
    "i32.const 1\n",
    "local.get $0\n",
    "i32.shl\n",
    "i32.const 9\n",
    "local.set $0\n",
    "i32.const 1\n",
    "local.get $0\n",
    "i32.shl\n",
    "i32.or\n",
    "i32.const 0xffe\n",
    "i32.xor\n",
    "local.get $a\n",
    "i32.and\n",
    "local.set $a\n",
    "end\n",
    "```"
   ]
  },
  {
   "cell_type": "markdown",
   "metadata": {
    "tags": []
   },
   "source": [
    "Running the program should print `3 5`:"
   ]
  },
  {
   "cell_type": "code",
   "execution_count": 15,
   "metadata": {},
   "outputs": [],
   "source": [
    "!wat2wasm bitsets.wat"
   ]
  },
  {
   "cell_type": "code",
   "execution_count": 16,
   "metadata": {
    "slideshow": {
     "slide_type": "-"
    }
   },
   "outputs": [
    {
     "name": "stdout",
     "output_type": "stream",
     "text": [
      "3 5 "
     ]
    }
   ],
   "source": [
    "runpywasm(\"bitsets.wasm\")"
   ]
  },
  {
   "cell_type": "markdown",
   "metadata": {
    "tags": []
   },
   "source": [
    "##### Part D (Evaluating the Implementation) [4 points]."
   ]
  },
  {
   "cell_type": "markdown",
   "metadata": {
    "tags": []
   },
   "source": [
    "The task is to compare the efficiency of 4 implementations of the Sieve of Eratosthenes with sets:\n",
    "- P0 using pywasm, the Python interpreter of WebAssembly,\n",
    "- P0 using the JavaScript host of WebAssembly in your web browser,\n",
    "- Python using the standard CPython implementation,\n",
    "- Java using the standard Oracle JVM.\n",
    "\n",
    "The P0, Python, and Java implementations are already provided. To keep it simple, the [Jupyter time cell magic](https://ipython.readthedocs.io/en/stable/interactive/magics.html) is used rather than printing the start and end time within the programs. That command measures the *wall clock time*. This means that the time for loading and compilation is included in the measured time. We, therefore, aim at execution times above 1 second to make the time for loading and compiling negligible. For this, the Sieve of Eratosthenes is repeatedly run. The times will vary with each run. Longer times typically result from an unrelated CPU load and should be disregarded. The best is to run the code at times of the day when there is as little interference as possible. Vary the number of repetitions. Document your observations and explain!  "
   ]
  },
  {
   "cell_type": "markdown",
   "metadata": {
    "deletable": false,
    "nbgrader": {
     "cell_type": "markdown",
     "checksum": "2bb36b719312840d519863fbe89781f2",
     "grade": true,
     "grade_id": "cell-7598160d2170eec5",
     "locked": false,
     "points": 4,
     "schema_version": 3,
     "solution": true,
     "task": false
    },
    "slideshow": {
     "slide_type": "slide"
    }
   },
   "source": [
    "**10000 Repetitions:**\n",
    "> P0 runpywasm: wall time: 8.92 s\n",
    "\n",
    "> P0 runwasm wall time: 2.41 ms\n",
    "\n",
    "> Python implementation wall time: 52.4 ms\n",
    "\n",
    "> Java implementation wall time: 236 ms\n",
    "\n",
    "**1000000 Repetitions:**\n",
    "> P0 runpywasm: wall time: 14min 46s\n",
    "\n",
    "> P0 runwasm wall time: 4.82 ms\n",
    "\n",
    "> Python implementation wall time: 5.15 s\n",
    "\n",
    "> Java implementation wall time: 920 ms\n",
    "\n",
    "**100000000 Repetitions:**\n",
    "> P0 runpywasm: wall time: > 1 hour (too long)\n",
    "> \n",
    "> P0 runwasm wall time: 4.69 s\n",
    "\n",
    "> Python implementation wall time: 8min 33s\n",
    "\n",
    "> Java implementation wall time: 57.2 s\n",
    "\n",
    "From the above test results, we can observe that Python initially outperforms Java under 10000 repetitions, but its performance diminishes significantly beyond this threshold, becoming the slowest of all implementations. Conversely, Java's execution time remains relatively stable across repetitions. Notably, programs executed with the JavaScript host of WebAssembly consistently exhibit superior performance compared to Python and Java across all tests. However, it is evident that the Python interpreter of WebAssembly (pywasm) appears to significantly underperform compare other implementations when the repetition counts exceed 1000000.\n",
    "\n",
    "The observed differences in performance can be attributed to several factors. Firstly, WebAssembly is specifically designed for efficient cross-platform execution, leveraging JIT compilation and integration with modern JavaScript engines to achieve near-native performance. However, when executed using the Python interpreter, WebAssembly incurs overhead associated with interpretation within the Python runtime environment, leading to decreased performance. Moreover, both Python and Java incur runtime overhead due to interpretation or JVM execution, compounded by Python's dynamic typing and automatic memory management, as well as Java's garbage collection. Furthermore, Java's compiled nature and optimized execution environment contribute to its superior performance, particularly evident at larger scales compared to Python's interpreted nature."
   ]
  },
  {
   "cell_type": "code",
   "execution_count": 36,
   "metadata": {},
   "outputs": [],
   "source": [
    "compileString(\"\"\"\n",
    "const N = 32\n",
    "const R = 5 // ⌊√N⌋\n",
    "type S = set [2 .. 31]\n",
    "procedure eratosthenes() → (p: S)\n",
    "    var i, j: integer\n",
    "        p := ∁ {} // set of all integers \n",
    "        i := 2;\n",
    "        while i ≤ R do\n",
    "            if i ∈ p then\n",
    "                j := i × i\n",
    "                while j < N do\n",
    "                    p, j := p ∖ {j}, j + i\n",
    "            i := i + 1\n",
    "program repeatprimes\n",
    "    var p: S\n",
    "    var j: integer\n",
    "        j := 0\n",
    "        while j < 10000 do\n",
    "            p ← eratosthenes(); j := j + 1\n",
    "\"\"\", 'repeatprimes.wat', target = 'wat')"
   ]
  },
  {
   "cell_type": "code",
   "execution_count": 37,
   "metadata": {},
   "outputs": [],
   "source": [
    "!wat2wasm repeatprimes.wat"
   ]
  },
  {
   "cell_type": "code",
   "execution_count": null,
   "metadata": {
    "slideshow": {
     "slide_type": "-"
    }
   },
   "outputs": [],
   "source": [
    "time runpywasm(\"repeatprimes.wasm\")"
   ]
  },
  {
   "cell_type": "code",
   "execution_count": null,
   "metadata": {},
   "outputs": [],
   "source": [
    "time runwasm(\"repeatprimes.wasm\")"
   ]
  },
  {
   "cell_type": "code",
   "execution_count": null,
   "metadata": {},
   "outputs": [],
   "source": [
    "time runwasmer(\"repeatprimes.wasm\")"
   ]
  },
  {
   "cell_type": "code",
   "execution_count": 61,
   "metadata": {},
   "outputs": [],
   "source": [
    "def eratosthenes():\n",
    "    N, R = 32, 5\n",
    "    p = {i for i in range(2, N)}\n",
    "    for i in range(2, R):\n",
    "        if i in p:\n",
    "            for j in range(i * i, N, i): p -= {j}\n",
    "    return p\n",
    "\n",
    "def repeatprimes():\n",
    "    for _ in range(100000000): eratosthenes()"
   ]
  },
  {
   "cell_type": "code",
   "execution_count": null,
   "metadata": {},
   "outputs": [],
   "source": [
    "time repeatprimes()"
   ]
  },
  {
   "cell_type": "code",
   "execution_count": null,
   "metadata": {},
   "outputs": [],
   "source": [
    "%%writefile repeatprimes.java\n",
    "import java.util.*;\n",
    "class RepeatPrimes {\n",
    "    static final int N = 32;\n",
    "    static final int R = 5;\n",
    "    static Set<Integer> eratosthenes() {\n",
    "        Set<Integer> p = new HashSet<Integer>();\n",
    "        for (int i = 2; i < N; i++) p.add(i);\n",
    "        for (int i = 2; i < R; i++)\n",
    "            if (p.contains(i))\n",
    "                for (int j = i * i; j < N; j = j + i)\n",
    "                    p.remove(j);\n",
    "        return p;\n",
    "    }\n",
    "    public static void main(String[] args) {\n",
    "        for (int i = 0; i < 100000000; i++) eratosthenes();\n",
    "    }\n",
    "}"
   ]
  },
  {
   "cell_type": "code",
   "execution_count": 59,
   "metadata": {},
   "outputs": [],
   "source": [
    "!javac repeatprimes.java"
   ]
  },
  {
   "cell_type": "code",
   "execution_count": null,
   "metadata": {},
   "outputs": [],
   "source": [
    "time !java RepeatPrimes"
   ]
  }
 ],
 "metadata": {
  "kernelspec": {
   "display_name": "Python 3 (ipykernel)",
   "language": "python",
   "name": "python3"
  },
  "language_info": {
   "codemirror_mode": {
    "name": "ipython",
    "version": 3
   },
   "file_extension": ".py",
   "mimetype": "text/x-python",
   "name": "python",
   "nbconvert_exporter": "python",
   "pygments_lexer": "ipython3",
   "version": "3.11.1"
  }
 },
 "nbformat": 4,
 "nbformat_minor": 4
}
