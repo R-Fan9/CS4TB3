{
 "cells": [
  {
   "cell_type": "markdown",
   "metadata": {
    "tags": []
   },
   "source": [
    "#### Sanitizing Pathnames (Flex)"
   ]
  },
  {
   "cell_type": "markdown",
   "metadata": {
    "tags": []
   },
   "source": [
    "In Posix pathnames, _components_ are separated by `/`. Consecutive multiple `/` have the same meaning as a single `/`. A final `/` has no meaning, but an initial `/` is significant. Leading and trailing spaces are allowed but have no significance. A component consists of `a-z`, `A-Z`, `0-9`, and `.` (dot), with two special cases: a component with a single `.` component refers to the current directory and a `..` component refers to the parent directory. Note that `.` can also be part of a component. Portable pathnames restrict each component to having at most 14 characters, and the whole pathname can have at most 255 characters.\n",
    "\n",
    "Implement a sanitizer for pathnames using Flex and C. Your implementation should read from standard input and produce a sanitized portable pathname on standard output or an error message on standard error. The implementation has to use the regular expression facilities of flex to check for the well-formedness of the input.\n",
    "\n",
    "| standard input       | standard output |\n",
    "|:---------------------|:----------------|\n",
    "| `/aaa//bb/c/`        | `/aaa/bb/c`     |\n",
    "| `aaa/b.b/../cc/./dd` | `aaa/cc/dd`     |\n",
    "\n",
    "The sanitizer should read the input line by line from standard input until the end of the file. For each line, the sanitizer should either produce one line with the sanitized pathname on standard output or an error message on standard error and terminate immediately:\n",
    "\n",
    "| standard input        | standard error       |\n",
    "|:----------------------|:---------------------|\n",
    "| `/a//b/#/c`           | `invalid character`  |\n",
    "| `/012345678901234/bb` | `component too long` |\n",
    "| `aa/../..`            | `malformed pathname` |\n",
    "| `/this/is/a/path/name/that/is/really/too/long/.../way/too/long/` | `pathname too long` |\n",
    "\n",
    "\n",
    "Hint: use the regular expression features of flex to check for invalid characters, too long components, and to \"swallow\" leading and trailing spaces, multiple consecutive `/`, and `.` components."
   ]
  },
  {
   "cell_type": "code",
   "execution_count": 62,
   "metadata": {
    "deletable": false,
    "nbgrader": {
     "cell_type": "code",
     "checksum": "b681a7efef77ef27068912bc7b976b6a",
     "grade": false,
     "grade_id": "cell-fc40055ace53e2a6",
     "locked": false,
     "schema_version": 3,
     "solution": true,
     "task": false
    },
    "tags": []
   },
   "outputs": [
    {
     "name": "stdout",
     "output_type": "stream",
     "text": [
      "Overwriting spn.l\n"
     ]
    }
   ],
   "source": [
    "%%writefile spn.l\n",
    "%option noyywrap\n",
    "%{\n",
    "#include <stdio.h>\n",
    "#include <stdbool.h>\n",
    "#include <string.h>\n",
    "\n",
    "#define MAX_COMPONENT_LENGTH 14\n",
    "#define MAX_PATHNAME_LENGTH 255\n",
    "\n",
    "int error_flag = 0;\n",
    "\n",
    "typedef struct Node {\n",
    "    char* data;\n",
    "    struct Node* next;\n",
    "} Node;\n",
    "\n",
    "Node* stack = NULL;\n",
    "\n",
    "int total_char_count = 0;\n",
    "bool last_was_slash = false;\n",
    "\n",
    "void print_error(const char *msg) {\n",
    "    fprintf(stderr, \"%s\", msg);\n",
    "    error_flag = 1;\n",
    "}\n",
    "\n",
    "Node* create_node(const char* data){\n",
    "    Node* new_node = (Node*)malloc(sizeof(Node));\n",
    "    new_node->data = (char*)malloc(strlen(data) + 1);\n",
    "    strcpy(new_node->data, data);\n",
    "    new_node->next = NULL;\n",
    "    return new_node;\n",
    "}\n",
    "\n",
    "void push(const char* data){\n",
    "    Node* new_node = create_node(data);\n",
    "    if(stack == NULL){\n",
    "        stack = new_node;\n",
    "        return;\n",
    "    }\n",
    "    new_node->next = stack;\n",
    "    stack = new_node;\n",
    "}\n",
    "\n",
    "void pop(){\n",
    "    if(stack == NULL){\n",
    "        print_error(\"malformed pathname\");\n",
    "        return;\n",
    "    }\n",
    "    Node* tmp = stack;\n",
    "    stack = stack->next;\n",
    "    free(tmp);\n",
    "}\n",
    "\n",
    "void clear_stack(){\n",
    "    free(stack);\n",
    "    stack = NULL;\n",
    "}\n",
    "\n",
    "void print_node(Node* node){\n",
    "    if(node == NULL){\n",
    "        return;\n",
    "    }\n",
    "    print_node(node->next);\n",
    "    printf(\"%s\", node->data);\n",
    "}\n",
    "\n",
    "void print_sanitized_pathname(){\n",
    "    print_node(stack);\n",
    "    printf(\"\\n\");\n",
    "}\n",
    "\n",
    "char* concat_to_front(const char c, char* str) {\n",
    "    size_t len = strlen(str);\n",
    "    char* result = (char*)malloc(len + 2);\n",
    "    strcpy(result + 1, str);\n",
    "    result[0] = c;\n",
    "    result[len + 1] = '\\0';\n",
    "    return result;\n",
    "}\n",
    "\n",
    "%}\n",
    "\n",
    "%%\n",
    "\n",
    "[\\t ]+            ; // Ignore leading and trailing spaces\n",
    "\n",
    "\\.\\/*             ; // Ignore \n",
    "    \n",
    "\\/                { // Forward slash found\n",
    "                    if(error_flag){\n",
    "                        continue;\n",
    "                    }\n",
    "                    total_char_count++;\n",
    "                    last_was_slash = true;\n",
    "                  }\n",
    "\n",
    "[a-zA-Z0-9\\.]+    { // Component found\n",
    "                    if(error_flag){\n",
    "                        continue;\n",
    "                    }\n",
    "    \n",
    "                    int len = strlen(yytext);\n",
    "                    total_char_count += len;\n",
    "\n",
    "                    if(strcmp(yytext, \"..\") == 0){\n",
    "                        pop();\n",
    "                        continue;\n",
    "                    }\n",
    "                    if(len > MAX_COMPONENT_LENGTH){\n",
    "                        print_error(\"component too long\");\n",
    "                    }\n",
    "                    if(total_char_count > MAX_PATHNAME_LENGTH){\n",
    "                        print_error(\"pathname too long\");\n",
    "                    }\n",
    "                    yytext = last_was_slash ? concat_to_front('/', yytext) : yytext;\n",
    "                    push(yytext);\n",
    "                    last_was_slash = false;\n",
    "                  }\n",
    "\n",
    "\\n                {\n",
    "                    if(!error_flag){\n",
    "                        print_sanitized_pathname();\n",
    "                    }\n",
    "                    clear_stack();\n",
    "                    total_char_count = 0;\n",
    "                    error_flag = 0;\n",
    "                    last_was_slash = false;\n",
    "                  }\n",
    "\n",
    ".                 { // Invalid character\n",
    "                    if(error_flag){\n",
    "                        continue;\n",
    "                    }\n",
    "                    print_error(\"invalid character\");\n",
    "                  }\n",
    "\n",
    "%%\n",
    "\n",
    "int main() {\n",
    "    yylex();\n",
    "    printf(\"\\n\");\n",
    "    return 0;\n",
    "}"
   ]
  },
  {
   "cell_type": "code",
   "execution_count": 63,
   "metadata": {
    "tags": []
   },
   "outputs": [],
   "source": [
    "!flex spn.l"
   ]
  },
  {
   "cell_type": "code",
   "execution_count": 64,
   "metadata": {
    "tags": []
   },
   "outputs": [],
   "source": [
    "!cc -o spn -std=c99 lex.yy.c -D_POSIX_C_SOURCE=1"
   ]
  },
  {
   "cell_type": "markdown",
   "metadata": {
    "tags": []
   },
   "source": [
    "The file `goodpaths.txt` contains a set of paths to test. The extra newline is needed as the `%%writefile` trims a trailing newline if it is at the end of the input."
   ]
  },
  {
   "cell_type": "code",
   "execution_count": 65,
   "metadata": {
    "tags": []
   },
   "outputs": [
    {
     "name": "stdout",
     "output_type": "stream",
     "text": [
      "Overwriting goodpaths.txt\n"
     ]
    }
   ],
   "source": [
    "%%writefile goodpaths.txt\n",
    "/aaa//bb/c/\n",
    "aaa/b.b/../cc/./dd\n",
    "a45/b.b/../cc/./dd/.\n",
    "./////def/ghi///jkl//mno/pqr/../../././../../ghi/./jkl////\n",
    "/.../.abc/./123/456/789/../../\n",
    "./test/ing\n"
   ]
  },
  {
   "cell_type": "code",
   "execution_count": 66,
   "metadata": {},
   "outputs": [
    {
     "name": "stdout",
     "output_type": "stream",
     "text": [
      "/aaa//bb/c/\n",
      "aaa/b.b/../cc/./dd\n",
      "a45/b.b/../cc/./dd/.\n",
      "./////def/ghi///jkl//mno/pqr/../../././../../ghi/./jkl////\n",
      "/.../.abc/./123/456/789/../../\n",
      "./test/ing\n"
     ]
    }
   ],
   "source": [
    "!cat goodpaths.txt"
   ]
  },
  {
   "cell_type": "code",
   "execution_count": 67,
   "metadata": {
    "tags": []
   },
   "outputs": [],
   "source": [
    "%%capture output\n",
    "!cat goodpaths.txt | ./spn\n",
    "# Should output\n",
    "#/aaa/bb/c\n",
    "#aaa/cc/dd\n",
    "#a45/cc/dd\n",
    "#def/ghi/jkl\n",
    "#/.../.abc/123\n",
    "#test/ing\n",
    "#"
   ]
  },
  {
   "cell_type": "code",
   "execution_count": 68,
   "metadata": {},
   "outputs": [
    {
     "name": "stdout",
     "output_type": "stream",
     "text": [
      "/aaa/bb/c\n",
      "aaa/cc/dd\n",
      "a45/cc/dd\n",
      "def/ghi/jkl\n",
      "/.../.abc/123\n",
      "test/ing\n",
      "\n",
      "\n"
     ]
    }
   ],
   "source": [
    "print(output) # for testing purposes"
   ]
  },
  {
   "cell_type": "code",
   "execution_count": 69,
   "metadata": {
    "deletable": false,
    "editable": false,
    "nbgrader": {
     "cell_type": "code",
     "checksum": "82cd42d93fdb51eda2ad84e14ba226bc",
     "grade": true,
     "grade_id": "cell-3aa02c17f37759cc",
     "locked": true,
     "points": 2,
     "schema_version": 3,
     "solution": false,
     "task": false
    },
    "tags": []
   },
   "outputs": [
    {
     "name": "stdout",
     "output_type": "stream",
     "text": [
      "'/aaa/bb/c\\r\\naaa/cc/dd\\r\\na45/cc/dd\\r\\ndef/ghi/jkl\\r\\n/.../.abc/123\\r\\ntest/ing\\r\\n\\r\\n'\n",
      "'/aaa/bb/c\\r\\naaa/cc/dd\\r\\na45/cc/dd\\r\\ndef/ghi/jkl\\r\\n/.../.abc/123\\r\\ntest/ing\\r\\n\\r\\n'\n"
     ]
    }
   ],
   "source": [
    "expected =  \"\"\"/aaa/bb/c\\r\n",
    "aaa/cc/dd\\r\n",
    "a45/cc/dd\\r\n",
    "def/ghi/jkl\\r\n",
    "/.../.abc/123\\r\n",
    "test/ing\\r\n",
    "\\r\n",
    "\"\"\"\n",
    "actual = str(output)\n",
    "# Use these outputs to help debug line endings if needed\n",
    "print(repr(actual))\n",
    "print(repr(expected))\n",
    "assert actual == expected"
   ]
  },
  {
   "cell_type": "code",
   "execution_count": 70,
   "metadata": {
    "tags": []
   },
   "outputs": [],
   "source": [
    "%%capture output\n",
    "!echo \"/a//b/#/c\" | ./spn # Should output `invalid character`"
   ]
  },
  {
   "cell_type": "code",
   "execution_count": 71,
   "metadata": {},
   "outputs": [
    {
     "name": "stdout",
     "output_type": "stream",
     "text": [
      "invalid character\n",
      "\n"
     ]
    }
   ],
   "source": [
    "print(output) # for testing purposes"
   ]
  },
  {
   "cell_type": "code",
   "execution_count": 72,
   "metadata": {
    "deletable": false,
    "editable": false,
    "nbgrader": {
     "cell_type": "code",
     "checksum": "316e22ca95c0b74c8f83e81d00e6ab52",
     "grade": true,
     "grade_id": "cell-c0a9b438539a0d28",
     "locked": true,
     "points": 1,
     "schema_version": 3,
     "solution": false,
     "task": false
    },
    "tags": []
   },
   "outputs": [],
   "source": [
    "assert str(output) == 'invalid character\\r\\n'"
   ]
  },
  {
   "cell_type": "code",
   "execution_count": 73,
   "metadata": {
    "tags": []
   },
   "outputs": [],
   "source": [
    "%%capture output\n",
    "!echo \"/012345678901234/bb\" | ./spn # Should output `component too long`"
   ]
  },
  {
   "cell_type": "code",
   "execution_count": 74,
   "metadata": {},
   "outputs": [
    {
     "name": "stdout",
     "output_type": "stream",
     "text": [
      "component too long\n",
      "\n"
     ]
    }
   ],
   "source": [
    "print(output) # for testing purposes"
   ]
  },
  {
   "cell_type": "code",
   "execution_count": 75,
   "metadata": {
    "deletable": false,
    "editable": false,
    "nbgrader": {
     "cell_type": "code",
     "checksum": "a91d88bdf7be6b0b25407ee28094d32e",
     "grade": true,
     "grade_id": "cell-1091fd25ee021903",
     "locked": true,
     "points": 1,
     "schema_version": 3,
     "solution": false,
     "task": false
    },
    "tags": []
   },
   "outputs": [],
   "source": [
    "assert str(output) == 'component too long\\r\\n'"
   ]
  },
  {
   "cell_type": "code",
   "execution_count": 76,
   "metadata": {
    "tags": []
   },
   "outputs": [],
   "source": [
    "%%capture output\n",
    "!echo \"aa/../..\" | ./spn # Should output `malformed pathname`"
   ]
  },
  {
   "cell_type": "code",
   "execution_count": 77,
   "metadata": {},
   "outputs": [
    {
     "name": "stdout",
     "output_type": "stream",
     "text": [
      "malformed pathname\n",
      "\n"
     ]
    }
   ],
   "source": [
    "print(output) # for testing purposes"
   ]
  },
  {
   "cell_type": "code",
   "execution_count": 78,
   "metadata": {
    "deletable": false,
    "editable": false,
    "nbgrader": {
     "cell_type": "code",
     "checksum": "1a6cf7d7fd13005d2366751eadef17f3",
     "grade": true,
     "grade_id": "cell-1ae5bcd54a1a2353",
     "locked": true,
     "points": 1,
     "schema_version": 3,
     "solution": false,
     "task": false
    },
    "tags": []
   },
   "outputs": [],
   "source": [
    "assert str(output) == 'malformed pathname\\r\\n'"
   ]
  },
  {
   "cell_type": "code",
   "execution_count": 79,
   "metadata": {
    "tags": []
   },
   "outputs": [],
   "source": [
    "%%capture output\n",
    "#long_path = '/'.join(['0123456789' for _ in range(26)])\n",
    "long_path = '/'.join(['0123456789' for _ in range(26)]) + '/'.join(['..' for _ in range(23)])\n",
    "!echo $long_path | ./spn # should output `pathname too long`"
   ]
  },
  {
   "cell_type": "code",
   "execution_count": 80,
   "metadata": {},
   "outputs": [
    {
     "name": "stdout",
     "output_type": "stream",
     "text": [
      "pathname too long\n",
      "\n"
     ]
    }
   ],
   "source": [
    "print(output) # for testing purposes"
   ]
  },
  {
   "cell_type": "code",
   "execution_count": 81,
   "metadata": {
    "deletable": false,
    "editable": false,
    "nbgrader": {
     "cell_type": "code",
     "checksum": "af80f4e885fbf52403b444b2b95923fb",
     "grade": true,
     "grade_id": "cell-21d063e548c5c894",
     "locked": true,
     "points": 1,
     "schema_version": 3,
     "solution": false,
     "task": false
    },
    "tags": []
   },
   "outputs": [],
   "source": [
    "assert str(output) == 'pathname too long\\r\\n'"
   ]
  },
  {
   "cell_type": "code",
   "execution_count": 82,
   "metadata": {
    "tags": []
   },
   "outputs": [],
   "source": [
    "%%capture output\n",
    "!echo \"/abc/123/abcdefghijklmno\" | ./spn # Should output `component too long`"
   ]
  },
  {
   "cell_type": "code",
   "execution_count": 83,
   "metadata": {},
   "outputs": [
    {
     "name": "stdout",
     "output_type": "stream",
     "text": [
      "component too long\n",
      "\n"
     ]
    }
   ],
   "source": [
    "print(output) # for testing purposes"
   ]
  },
  {
   "cell_type": "code",
   "execution_count": 84,
   "metadata": {
    "deletable": false,
    "editable": false,
    "nbgrader": {
     "cell_type": "code",
     "checksum": "6c884ea01441fa2f9be157d9d26c3fc4",
     "grade": true,
     "grade_id": "cell-db15c2342418db2a",
     "locked": true,
     "points": 1,
     "schema_version": 3,
     "solution": false,
     "task": false
    },
    "tags": []
   },
   "outputs": [],
   "source": [
    "assert str(output) == 'component too long\\r\\n'"
   ]
  },
  {
   "cell_type": "code",
   "execution_count": 85,
   "metadata": {
    "tags": []
   },
   "outputs": [],
   "source": [
    "%%capture output\n",
    "!echo \"/abc/def\\xE2\\x98\\xA0/\" | ./spn # Should output `invalid character`"
   ]
  },
  {
   "cell_type": "code",
   "execution_count": 86,
   "metadata": {},
   "outputs": [
    {
     "name": "stdout",
     "output_type": "stream",
     "text": [
      "invalid character\n",
      "\n"
     ]
    }
   ],
   "source": [
    "print(output) # for testing purposes"
   ]
  },
  {
   "cell_type": "code",
   "execution_count": 87,
   "metadata": {
    "deletable": false,
    "editable": false,
    "nbgrader": {
     "cell_type": "code",
     "checksum": "330da0bf4d29e192612788e6cc71e0b2",
     "grade": true,
     "grade_id": "cell-14024e27dd50afd8",
     "locked": true,
     "points": 1,
     "schema_version": 3,
     "solution": false,
     "task": false
    },
    "tags": []
   },
   "outputs": [],
   "source": [
    "assert str(output) == 'invalid character\\r\\n'"
   ]
  },
  {
   "cell_type": "code",
   "execution_count": 88,
   "metadata": {
    "tags": []
   },
   "outputs": [],
   "source": [
    "%%capture output\n",
    "!echo \"abcdef/./def/../../..\" | ./spn # Should output `malformed pathname`"
   ]
  },
  {
   "cell_type": "code",
   "execution_count": 89,
   "metadata": {},
   "outputs": [
    {
     "name": "stdout",
     "output_type": "stream",
     "text": [
      "malformed pathname\n",
      "\n"
     ]
    }
   ],
   "source": [
    "print(output) # for testing purposes"
   ]
  },
  {
   "cell_type": "code",
   "execution_count": 90,
   "metadata": {
    "deletable": false,
    "editable": false,
    "nbgrader": {
     "cell_type": "code",
     "checksum": "717834bc7da5f64385bd51e88c276157",
     "grade": true,
     "grade_id": "cell-bbfb3f2aad41c2a3",
     "locked": true,
     "points": 1,
     "schema_version": 3,
     "solution": false,
     "task": false
    },
    "tags": []
   },
   "outputs": [],
   "source": [
    "assert str(output) == 'malformed pathname\\r\\n'"
   ]
  }
 ],
 "metadata": {
  "kernelspec": {
   "display_name": "Python 3 (ipykernel)",
   "language": "python",
   "name": "python3"
  },
  "language_info": {
   "codemirror_mode": {
    "name": "ipython",
    "version": 3
   },
   "file_extension": ".py",
   "mimetype": "text/x-python",
   "name": "python",
   "nbconvert_exporter": "python",
   "pygments_lexer": "ipython3",
   "version": "3.11.1"
  }
 },
 "nbformat": 4,
 "nbformat_minor": 4
}
