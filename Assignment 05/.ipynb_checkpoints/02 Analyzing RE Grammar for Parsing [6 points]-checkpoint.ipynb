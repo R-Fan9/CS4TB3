{
 "cells": [
  {
   "cell_type": "markdown",
   "metadata": {},
   "source": [
    "#### Analyzing Regular Expression Grammar for Parsing [6 points]"
   ]
  },
  {
   "cell_type": "markdown",
   "metadata": {},
   "source": [
    "Consider the grammar of regular expressions from the course notes:\n",
    "\n",
    "    expression  →  term { '|' term }\n",
    "    term  →  factor { factor }\n",
    "    factor → atom [ '*' | '+' | '?' ]\n",
    "    atom  →  plainchar | escapedchar | '(' expression ')'\n",
    "    plainchar  →  ' ' | '!' | '\"' | '#' | '$' | '%' | '&' | '\\'' | ',' | '-' | '.' | '/' |\n",
    "         '0' | '1' | '2' | '3' | '4' | '5' | '6' | '7' | '8' | '9' | ':' | ';' | '<' | '=' | '>' | \n",
    "         '@' | 'A' | 'B' | 'C' | 'D' | 'E' | 'F' | 'G' | 'H' | 'I' | 'J' | 'K' | 'L' | 'M' | 'N' | 'O' |\n",
    "         'P' | 'Q' | 'R' | 'S' | 'T' | 'U' | 'V' | 'W' | 'X' | 'Y' | 'Z' | '[' | ']' | '^' | '_' |\n",
    "         '`' | 'a' | 'b' | 'c' | 'd' | 'e' | 'f' | 'g' | 'h' | 'i' | 'j' | 'k' | 'l' | 'm' | 'n' | 'o' |\n",
    "         'p' | 'q' | 'r' | 's' | 't' | 'u' | 'v' | 'w' | 'x' | 'y' | 'z' | '{' | '}' | '~'\n",
    "    escapedchar  → '\\\\' ( '(' | ')' | '*' | '+' | '?' | '\\\\' | '|' )\n",
    "\n",
    "Recall that `{…}` is used both for repetitions in EBNF and for sets. We consider recursive descent parsing with a one-symbol lookahead."
   ]
  },
  {
   "cell_type": "markdown",
   "metadata": {
    "tags": []
   },
   "source": [
    "1. What are the conditions for parsing EBNF expression `factor { factor }`? Argue that these hold! [2 points]"
   ]
  },
  {
   "cell_type": "markdown",
   "metadata": {
    "deletable": false,
    "nbgrader": {
     "cell_type": "markdown",
     "checksum": "5deef35f8923c0c669df99c88931d0b8",
     "grade": true,
     "grade_id": "cell-2355a2c670a719be",
     "locked": false,
     "points": 2,
     "schema_version": 3,
     "solution": true,
     "task": false
    }
   },
   "source": [
    "For parsing EBNF expression `factor { factor }`, the conditions are:\n",
    "\n",
    "1. `first(factor) ∩ first({factor}) = {}` if `factor` is nullable; as `factor` is not nullable, the condition holds,\n",
    "2. `first(factor) ∩ follow({factor}) = {}`\n",
    "\n",
    "        first(factor) = {' ' , '!' , '\"' , '#' , '$' , '%' , '&' , '\\'' , ',' , '-' , '.' , '/' , '0' , '1' , '2' , '3' , '4' , '5' , '6' , '7' , '8' , '9' , ':' , ';' , '<' , '=' , '>' , '@' , 'A' , 'B' , 'C' , 'D' , 'E' , 'F' , 'G' , 'H' , 'I' , 'J' , 'K' , 'L' , 'M' , 'N' , 'O' ,'P' , 'Q' , 'R' , 'S' , 'T' , 'U' , 'V' , 'W' , 'X' , 'Y' , 'Z' , '[' , ']' , '^' , '_' , '`' , 'a' , 'b' , 'c' , 'd' , 'e' , 'f' , 'g' , 'h' , 'i' , 'j' , 'k' , 'l' , 'm' , 'n' , 'o' , 'p' , 'q' , 'r' , 's' , 't' , 'u' , 'v' , 'w' , 'x' , 'y' , 'z' , '{' , '}' , '~', '\\\\', '('}\n",
    "\n",
    "        follow(term) = {'|'}.\n",
    "\n",
    "   Therefore, the second condition holds as `first(factor) ∩ follow(term) = {}`\n",
    "   "
   ]
  },
  {
   "cell_type": "markdown",
   "metadata": {},
   "source": [
    "2. What are the conditions for parsing EBNF expression `atom [ '*' | '+' | '?' ]`? Argue that these hold! [2 points]"
   ]
  },
  {
   "cell_type": "markdown",
   "metadata": {
    "deletable": false,
    "nbgrader": {
     "cell_type": "markdown",
     "checksum": "dc18ed34faafdd168da182dfe8667fbd",
     "grade": true,
     "grade_id": "cell-1325a26752fe01b0",
     "locked": false,
     "points": 2,
     "schema_version": 3,
     "solution": true,
     "task": false
    }
   },
   "source": [
    "For parsing EBNF expression `atom [ '*' | '+' | '?' ]`, the conditions are\n",
    "\n",
    "1. `first(atom) ∩ first([ '*' | '+' | '?' ])` if `atom` is nullable; as `atom` is not nullable, the condition holds.\n",
    "2. `first('*' | '+' | '?') ∩ follow([ '*' | '+' | '?' ]) = {}`\n",
    "\n",
    "       first('*' | '+' | '?') = {'*' | '+' | '?'}\n",
    "       follow([ '*' | '+' | '?' ]) = {' ' , '!' , '\"' , '#' , '$' , '%' , '&' , '\\'' , ',' , '-' , '.' , '/' , '0' , '1' , '2' , '3' , '4' , '5' , '6' , '7' , '8' , '9' , ':' , ';' , '<' , '=' , '>' , '@' , 'A' , 'B' , 'C' , 'D' , 'E' , 'F' , 'G' , 'H' , 'I' , 'J' , 'K' , 'L' , 'M' , 'N' , 'O' ,'P' , 'Q' , 'R' , 'S' , 'T' , 'U' , 'V' , 'W' , 'X' , 'Y' , 'Z' , '[' , ']' , '^' , '_' , '`' , 'a' , 'b' , 'c' , 'd' , 'e' , 'f' , 'g' , 'h' , 'i' , 'j' , 'k' , 'l' , 'm' , 'n' , 'o' , 'p' , 'q' , 'r' , 's' , 't' , 'u' , 'v' , 'w' , 'x' , 'y' , 'z' , '{' , '}' , '~', '\\\\', '('}\n",
    "\n",
    "   Therefore, the second condition holds as `first('*' | '+' | '?') ∩ follow([ '*' | '+' | '?' ]) = {}`.\n",
    "\n",
    "3. `first('*') ∩ first('+') = {}`; as `{'*'} ∩ {'+'} = {}`, the condition holds.\n",
    "4. `first('*') ∩ first('?') = {}`; as `{'*'} ∩ {'?'} = {}`, the condition holds.\n",
    "5. `first('+') ∩ first('?') = {}`; as `{'+'} ∩ {'?'} = {}`, the condition holds."
   ]
  },
  {
   "cell_type": "markdown",
   "metadata": {},
   "source": [
    "3. What are the conditions for parsing EBNF expression `plainchar | escapedchar | '(' expression ')'`? Argue that these hold! [2 points]"
   ]
  },
  {
   "cell_type": "markdown",
   "metadata": {
    "deletable": false,
    "nbgrader": {
     "cell_type": "markdown",
     "checksum": "60ece38e6703f337522dba9336233d89",
     "grade": true,
     "grade_id": "cell-d81c0104f91d50e1",
     "locked": false,
     "points": 2,
     "schema_version": 3,
     "solution": true,
     "task": false
    }
   },
   "source": [
    "For parsing EBNF expression `plainchar | escapedchar | '(' expression ')'`, the conditions are\n",
    "\n",
    "1. `first(plainchar) ∩ first(escapedchar) = {}`\n",
    "\n",
    "        first(plainchar) = {' ' , '!' , '\"' , '#' , '$' , '%' , '&' , '\\'' , ',' , '-' , '.' , '/' , '0' , '1' , '2' , '3' , '4' , '5' , '6' , '7' , '8' , '9' , ':' , ';' , '<' , '=' , '>' , '@' , 'A' , 'B' , 'C' , 'D' , 'E' , 'F' , 'G' , 'H' , 'I' , 'J' , 'K' , 'L' , 'M' , 'N' , 'O' ,'P' , 'Q' , 'R' , 'S' , 'T' , 'U' , 'V' , 'W' , 'X' , 'Y' , 'Z' , '[' , ']' , '^' , '_' , '`' , 'a' , 'b' , 'c' , 'd' , 'e' , 'f' , 'g' , 'h' , 'i' , 'j' , 'k' , 'l' , 'm' , 'n' , 'o' , 'p' , 'q' , 'r' , 's' , 't' , 'u' , 'v' , 'w' , 'x' , 'y' , 'z' , '{' , '}' , '~',}\n",
    "        first(escapedchar) = {'\\\\'}\n",
    "   \n",
    "   Therefore, the condition `first(plainchar) ∩ first(escapedchar) = {}` holds.\n",
    "   \n",
    "3. `first(plainchar) ∩ first('(' expression ')') = {}`\n",
    "   \n",
    "        first(plainchar) = {' ' , '!' , '\"' , '#' , '$' , '%' , '&' , '\\'' , ',' , '-' , '.' , '/' , '0' , '1' , '2' , '3' , '4' , '5' , '6' , '7' , '8' , '9' , ':' , ';' , '<' , '=' , '>' , '@' , 'A' , 'B' , 'C' , 'D' , 'E' , 'F' , 'G' , 'H' , 'I' , 'J' , 'K' , 'L' , 'M' , 'N' , 'O' ,'P' , 'Q' , 'R' , 'S' , 'T' , 'U' , 'V' , 'W' , 'X' , 'Y' , 'Z' , '[' , ']' , '^' , '_' , '`' , 'a' , 'b' , 'c' , 'd' , 'e' , 'f' , 'g' , 'h' , 'i' , 'j' , 'k' , 'l' , 'm' , 'n' , 'o' , 'p' , 'q' , 'r' , 's' , 't' , 'u' , 'v' , 'w' , 'x' , 'y' , 'z' , '{' , '}' , '~',}\n",
    "        first('(' expression ')') = {'('}\n",
    "   \n",
    "   Therefore, the condition `first(plainchar) ∩ first('(' expression ')') = {}` holds.\n",
    "   \n",
    "5. `first(escapedchar) ∩ first('(' expression ')') = {}`\n",
    "\n",
    "        first(escapedchar) = {'\\\\'}\n",
    "        first('(' expression ')') = {'('}\n",
    "   \n",
    "   Therefore, the condition `first(escapedchar) ∩ first('(' expression ')') = {}` holds.\n",
    "\n",
    "7. `first('(') ∩ first(expression ')')` if `'('` is nullable; as `'('` is not nullable, the condition holds.\n",
    "8. `first(expression) ∩ first(')')` if `expression` is nullable; as `expression` is not nullable, the condition holds."
   ]
  }
 ],
 "metadata": {
  "kernelspec": {
   "display_name": "Python 3 (ipykernel)",
   "language": "python",
   "name": "python3"
  },
  "language_info": {
   "codemirror_mode": {
    "name": "ipython",
    "version": 3
   },
   "file_extension": ".py",
   "mimetype": "text/x-python",
   "name": "python",
   "nbconvert_exporter": "python",
   "pygments_lexer": "ipython3",
   "version": "3.11.1"
  }
 },
 "nbformat": 4,
 "nbformat_minor": 4
}
