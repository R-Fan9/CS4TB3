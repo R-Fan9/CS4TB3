{
 "cells": [
  {
   "cell_type": "markdown",
   "metadata": {
    "tags": []
   },
   "source": [
    "#### Regular Expressions with Counted Repetitions"
   ]
  },
  {
   "cell_type": "markdown",
   "metadata": {
    "tags": []
   },
   "source": [
    "Consider the constructors of the abstract syntax tree for regular expressions from Chapter 2:"
   ]
  },
  {
   "cell_type": "code",
   "execution_count": 1,
   "metadata": {},
   "outputs": [],
   "source": [
    "class Choice:\n",
    "    def __init__(self, e1, e2): self.e1, self.e2 = e1, e2\n",
    "    def __repr__(self): return '(' + str(self.e1) + '|' + str(self.e2) + ')'\n",
    "\n",
    "class Conc:\n",
    "    def __init__(self, e1, e2): self.e1, self.e2 = e1, e2\n",
    "    def __repr__(self): return '(' + str(self.e1) + str(self.e2) + ')'\n",
    "\n",
    "class Star:\n",
    "    def __init__(self, e): self.e = e\n",
    "    def __repr__(self): return '(' + str(self.e) + ')*'"
   ]
  },
  {
   "cell_type": "markdown",
   "metadata": {
    "tags": []
   },
   "source": [
    "Let us build a parser that constructs the abstract syntax tree of regular expressions. The attribute grammar for this is as follows, with `plainchar` and `escapedchar` containing all the characters as in Chapter 4:\n",
    "\n",
    "    expression(e)  →  term(e) { '|' term(f) « e := Choice(e, f) »  }\n",
    "    term(e)  →  factor(e) { factor(f) « e := Conc(e, f) » }\n",
    "    factor(e) → atom(e) [ '*' « e := Star(e) » | '+' « e := Conc(e, Star(e)) » | '?' « e := Choice(e, '') » ]\n",
    "    atom(e)  →  plainchar(e) | escapedchar(e) | '(' expression(e) ')'\n",
    "    plainchar(e)  →  ' ' « e := ' ' » | ... | '~' « e := '~' »\n",
    "    escapedchar(e)  → '\\\\' ( '(' « e := '(' » | ')' | ... | '|' « e := '|' »)\n",
    "\n",
    "Extend the parser from Chapter 4 with attribute evaluation rules such that `parse` returns the abstract syntax tree. For convenience, here is the parser from Chapter 4 [4 points]:"
   ]
  },
  {
   "cell_type": "code",
   "execution_count": 2,
   "metadata": {},
   "outputs": [],
   "source": [
    "PlainChars = ' !\"#$%&\\',-./0123456789:;<=>@ABCDEFGHIJKLMNO' + \\\n",
    "             'PQRSTUVWXYZ[]^_`abcdefghijklmnopqrstuvwxyz{}~'\n",
    "EscapedChars = '()*+?\\\\|'\n",
    "FirstFactor = PlainChars + '\\\\('\n",
    "\n",
    "def nxt():\n",
    "    global pos, sym\n",
    "    if pos < len(src): sym, pos = src[pos], pos+1\n",
    "    else: sym = chr(0) # end of input symbol\n",
    "\n",
    "def expression():\n",
    "    term()\n",
    "    while sym == '|': nxt(); term()\n",
    "\n",
    "def term():\n",
    "    factor()\n",
    "    while sym in FirstFactor: factor()\n",
    "\n",
    "def factor():\n",
    "    atom()\n",
    "    if sym in '*+?': nxt()\n",
    "\n",
    "def atom():\n",
    "    if sym in PlainChars: nxt()\n",
    "    elif sym == '\\\\':\n",
    "        nxt()\n",
    "        if sym in EscapedChars: nxt()\n",
    "        else: raise Exception(\"invalid escaped character at \" + str(pos))\n",
    "    elif sym == '(':\n",
    "        nxt(); expression()\n",
    "        if sym == ')': nxt()\n",
    "        else: raise Exception(\"')' expected at \" + str(pos))\n",
    "    else: raise Exception(\"invalid character at \" + str(pos))\n",
    "\n",
    "def parse(s: str):\n",
    "    global src, pos;\n",
    "    src, pos = s, 0; nxt(); expression()\n",
    "    if sym != chr(0): raise Exception(\"unexpected character at \" + str(pos))\n",
    "\n",
    "#parse(\"a\\$\") # Exception: invalid escaped character at 3\n",
    "#parse(\"a(b\") # Exception: ')' expected at 3\n",
    "#parse(\"a(\" + chr(5) + \")\") # invalid character at 3\n",
    "#parse(\"a\" + chr(5)) # unexpected character at 2\n",
    "parse(\"(a*)*abcc\")"
   ]
  },
  {
   "cell_type": "code",
   "execution_count": 3,
   "metadata": {
    "deletable": false,
    "nbgrader": {
     "cell_type": "code",
     "checksum": "69603fe8486e207a0494367edc64f66a",
     "grade": true,
     "grade_id": "cell-49b26738b12e2dc9",
     "locked": false,
     "points": 2,
     "schema_version": 3,
     "solution": true,
     "task": false
    },
    "tags": []
   },
   "outputs": [],
   "source": [
    "PlainChars = ' !\"#$%&\\',-./0123456789:;<=>@ABCDEFGHIJKLMNO' + \\\n",
    "                       'PQRSTUVWXYZ[]^_`abcdefghijklmnopqrstuvwxyz{}~'\n",
    "EscapedChars = '()*+?\\\\|'\n",
    "FirstFactor = PlainChars + '\\\\('\n",
    "\n",
    "src: str; pos: int; sym: str\n",
    "\n",
    "def nxt():\n",
    "    global pos, sym\n",
    "    if pos < len(src): sym, pos = src[pos], pos+1\n",
    "    else: sym = chr(0) # end-of-input symbol\n",
    "\n",
    "def expression(): # expression → term(e) { '|' term(f) « e := Choice(e, f) »  }\n",
    "    e = term()\n",
    "    while sym == '|': nxt(); e = Choice(e, term())\n",
    "    return e\n",
    "\n",
    "def term(): # term → factor(e) { factor(f) « e := Conc(e, f) » }\n",
    "    e = factor()\n",
    "    while sym in FirstFactor: e = Conc(e, factor())\n",
    "    return e\n",
    "\n",
    "def factor(): # factor → atom(e) [ '*' « e := Star(e) » | '+' « e := Conc(e, Star(e)) » | '?' « e := Choice(e, '') » ]\n",
    "    e = atom()\n",
    "    if sym == '*': nxt(); e = Star(e)\n",
    "    elif sym == '+': nxt(); e = Conc(e, Star(e))\n",
    "    elif sym == '?': nxt(); e = Choice(e, '')\n",
    "    return e\n",
    "\n",
    "def atom(): # atom → plainchar(e) | escapedchar(e) | '(' expression(e) ')'\n",
    "    e = sym\n",
    "    if e in PlainChars: nxt(); return e\n",
    "    elif e == '\\\\':\n",
    "        nxt(); e = sym\n",
    "        if e in EscapedChars: nxt(); return e\n",
    "        else: raise Exception(\"invalid escaped character at \" + str(pos))\n",
    "    elif sym == '(':\n",
    "        nxt(); e = expression()\n",
    "        if sym == ')': nxt(); return e\n",
    "        else: raise Exception(\"')' expected at \" + str(pos))\n",
    "    else: raise Exception(\"invalid character at \" + str(pos))\n",
    "\n",
    "def parse(s: str):\n",
    "    global src, pos;\n",
    "    src, pos = s, 0; nxt(); e = expression()\n",
    "    if sym != chr(0): raise Exception(\"unexpected character at \" + str(pos))\n",
    "    return e"
   ]
  },
  {
   "cell_type": "markdown",
   "metadata": {
    "tags": []
   },
   "source": [
    "Here are some test cases:"
   ]
  },
  {
   "cell_type": "code",
   "execution_count": 4,
   "metadata": {
    "deletable": false,
    "editable": false,
    "nbgrader": {
     "cell_type": "code",
     "checksum": "a6d4d24b8867d54cbf9b2fc3a2167419",
     "grade": true,
     "grade_id": "cell-a3921e1e9a558626",
     "locked": true,
     "points": 2,
     "schema_version": 3,
     "solution": false,
     "task": false
    }
   },
   "outputs": [],
   "source": [
    "#parse(\"a\\$\") # Exception: invalid escaped character at 3\n",
    "#parse(\"a(b\") # Exception: ')' expected at 3\n",
    "#parse(\"a(\" + chr(5) + \")\") # invalid character at 3\n",
    "#parse(\"a\" + chr(5)) # unexpected character at 2\n",
    "assert str(parse(\"(a*)*abcc\")) == '((((((a)*)*a)b)c)c)'\n",
    "assert str(parse(\"a|b*c\")) == '(a|((b)*c))'"
   ]
  },
  {
   "cell_type": "markdown",
   "metadata": {
    "tags": []
   },
   "source": [
    "Let's have some fun and use this to check the equivalence of regular expression. Following cells contain code from Chapters 2 and 4:"
   ]
  },
  {
   "cell_type": "code",
   "execution_count": 5,
   "metadata": {},
   "outputs": [],
   "source": [
    "class set(frozenset):\n",
    "    def __repr__(self):\n",
    "        return '{' + ', '.join(str(e) for e in self) + '}'\n",
    "\n",
    "class FiniteStateAutomaton:\n",
    "    def __init__(self, T, Q, R, q0, F):\n",
    "        self.T, self.Q, self.R, self.q0, self.F = T, Q, R, q0, F\n",
    "    def __repr__(self):\n",
    "        return str(self.q0) + '\\n' + ' '.join(str(f) for f in self.F) + '\\n' + \\\n",
    "               '\\n'.join(str(q) + ' ' + a + ' → ' + str(r) for (q, a, r) in self.R)\n",
    "\n",
    "def REToFSA(re) -> FiniteStateAutomaton:\n",
    "    global QC\n",
    "    if re == '': q = QC; QC += 1; return FiniteStateAutomaton(set(), {q}, set(), q, {q})\n",
    "    elif type(re) == str:\n",
    "        q = QC; QC += 1; r = QC; QC += 1\n",
    "        return FiniteStateAutomaton({re}, {q, r}, {(q, re, r)}, q, {r})\n",
    "    elif type(re) == Choice:\n",
    "        A1, A2 = REToFSA(re.e1), REToFSA(re.e2)\n",
    "        R2 = {(A1.q0 if q == A2.q0 else q, a, r) for (q, a, r) in A2.R} # A2.q0 renamed to A1.q0 in A2.R\n",
    "        F2 = {A1.q0 if q == A2.q0 else q for q in A2.F} # A2.q0 renamed to A1.q0 in A2.F\n",
    "        return FiniteStateAutomaton(A1.T | A2.T, A1.Q | A2.Q, A1.R | R2, A1.q0, A1.F | F2)\n",
    "    elif type(re) == Conc:\n",
    "        A1, A2 = REToFSA(re.e1), REToFSA(re.e2)\n",
    "        R = A1.R | {(f, a, r) for (q, a, r) in A2.R if q == A2.q0 for f in A1.F} | \\\n",
    "            {(q, a, r) for (q, a, r) in A2.R if q != A2.q0}\n",
    "        F = (A2.F - {A2.q0}) | (A1.F if A2.q0 in A2.F else set())\n",
    "        return FiniteStateAutomaton(A1.T | A2.T, A1.Q | A2.Q, R, A1.q0, F)\n",
    "    elif type(re) == Star:\n",
    "        A = REToFSA(re.e)\n",
    "        R = A.R | {(f, a, r) for (q, a, r) in A.R if q == A.q0 for f in A.F}\n",
    "        return FiniteStateAutomaton(A.T, A.Q, R, A.q0, {A.q0} | A.F)\n",
    "    else: raise Exception('not a regular expression')\n",
    "\n",
    "def convertRegExToFSA(re) -> FiniteStateAutomaton:\n",
    "    global QC; QC = 0\n",
    "    return REToFSA(re)"
   ]
  },
  {
   "cell_type": "code",
   "execution_count": 6,
   "metadata": {},
   "outputs": [],
   "source": [
    "def deterministicFSA(fsa: FiniteStateAutomaton, trace = False) -> FiniteStateAutomaton:\n",
    "    qʹ0 = set({fsa.q0})\n",
    "    Qʹ, Rʹ, visited = {qʹ0}, set(), set()\n",
    "    if trace: print(Qʹ, Rʹ, visited)\n",
    "    while visited != Qʹ:\n",
    "        qʹ = (Qʹ - visited).pop(); visited |= {qʹ}\n",
    "        for t in fsa.T:\n",
    "            rʹ = {r for (q, u, r) in fsa.R if u == t and q in qʹ}\n",
    "            if rʹ != set(): Qʹ |= {set(rʹ)}; Rʹ |= {(qʹ, t, set(rʹ))}\n",
    "        if trace: print(Qʹ, Rʹ, visited)\n",
    "    Fʹ = {qʹ for qʹ in Qʹ for f in fsa.F if f in qʹ}\n",
    "    return FiniteStateAutomaton(fsa.T, Qʹ, Rʹ, qʹ0, Fʹ)\n",
    "\n",
    "def accepts(fsa: FiniteStateAutomaton, τ: str) -> bool:\n",
    "    δ = {(q, a): r for (q, a, r) in fsa.R}\n",
    "    q = fsa.q0\n",
    "    for t in τ:\n",
    "        if (q, t) in δ: q = δ[q, t]\n",
    "        else: return False\n",
    "    return q in fsa.F"
   ]
  },
  {
   "cell_type": "markdown",
   "metadata": {
    "tags": []
   },
   "source": [
    "Now we add one boolean function, `equalRegEx`, that takes two strings, parses them as regular expressions, converts them to finite state machines, makes those deterministic, minimizes them, and finally compares them for equivalence."
   ]
  },
  {
   "cell_type": "code",
   "execution_count": 7,
   "metadata": {},
   "outputs": [],
   "source": [
    "def minimizeFSA(fsa: FiniteStateAutomaton) -> FiniteStateAutomaton:\n",
    "    δ = {(q, a): r for (q, a, r) in fsa.R}\n",
    "    dist = {(q, r) for q in fsa.Q for r in fsa.Q if q != r and (q in fsa.F) != (r in fsa.F)}\n",
    "    done = False\n",
    "    while not done:\n",
    "        done = True #; print(dist)\n",
    "        for q in fsa.Q:\n",
    "            for r in fsa.Q:\n",
    "                if q != r and (q, r) not in dist and any(((q, u) in δ) != ((r, u) in δ) or \\\n",
    "                    ((q, u) in δ) and ((δ[(q, u)], δ[(r, u)]) in dist) for u in fsa.T):\n",
    "                    dist |= {(q, r)}; done = False #; print('adding', q, r)\n",
    "    Qʹ = {set({q} | {r for r in fsa.Q if (q, r) not in dist}) for q in fsa.Q}\n",
    "    Rʹ = {(qʹ, u, rʹ) for qʹ in Qʹ for rʹ in Qʹ for u in fsa.T if any((q, u, r) in fsa.R for q in qʹ for r in rʹ)}\n",
    "    qʹ0 = {qʹ for qʹ in Qʹ if fsa.q0 in qʹ}.pop()\n",
    "    Fʹ = {qʹ for qʹ in Qʹ if (qʹ & fsa.F) != set()}\n",
    "    return FiniteStateAutomaton(fsa.T, Qʹ, Rʹ, qʹ0, Fʹ)\n",
    "\n",
    "def totalFSA(A: FiniteStateAutomaton, t = -1) -> FiniteStateAutomaton:\n",
    "    T = set('abcdefghijklmnopqrstuvwxyz') # T is vocabulary, t is trap state\n",
    "    R = A.R | {(q, a, t) for q in A.Q for a in T if all((q, a, r) not in A.R for r in A.Q)}\n",
    "    if any(r == t for (q, a, r) in R): # transition to t exists\n",
    "        Q = A.Q | {t}\n",
    "        R = R | {(t, a, t) for a in T}\n",
    "    else: Q = A.Q\n",
    "    return FiniteStateAutomaton(T, Q, R, A.q0, A.F)\n",
    "\n",
    "def equivalentFSA(a: FiniteStateAutomaton, aʹ: FiniteStateAutomaton, printMap = False) -> bool:\n",
    "    a = totalFSA(minimizeFSA(a))\n",
    "    aʹ = totalFSA(minimizeFSA(aʹ))\n",
    "    δ = {(q, u): r for (q, u, r) in a.R}\n",
    "    δʹ = {(q, u): r for (q, u, r) in aʹ.R}\n",
    "    m, v = {a.q0: aʹ.q0}, {a.q0}\n",
    "    while v != set():\n",
    "        q = v.pop(); qʹ = m[q]\n",
    "        for u in a.T:\n",
    "            r, rʹ = δ[(q, u)], δʹ[(qʹ, u)]\n",
    "            if r in m:\n",
    "                if m[r] != rʹ: return False\n",
    "            elif rʹ in m.values(): return False\n",
    "            else: v.add(r); m[r] = rʹ\n",
    "    if printMap: print(m) \n",
    "    return aʹ.F == {m[q] for q in a.F}"
   ]
  },
  {
   "cell_type": "code",
   "execution_count": 8,
   "metadata": {},
   "outputs": [],
   "source": [
    "def equalRegEx(E1, E2):\n",
    "    a1 = deterministicFSA(convertRegExToFSA(parse(E1)))\n",
    "    a2 = deterministicFSA(convertRegExToFSA(parse(E2)))\n",
    "    return equivalentFSA(a1, a2)"
   ]
  },
  {
   "cell_type": "markdown",
   "metadata": {
    "tags": []
   },
   "source": [
    "You may use the test cases below to check your implementation of `parse`:"
   ]
  },
  {
   "cell_type": "code",
   "execution_count": 9,
   "metadata": {},
   "outputs": [],
   "source": [
    "assert equalRegEx('a+', '(a+)+')\n",
    "assert equalRegEx('(a+)*', '(a*)+')\n",
    "assert equalRegEx('(a+)*', 'a*')\n",
    "assert equalRegEx('aa*', 'a*a')\n",
    "assert equalRegEx('a*', '(a+)?')\n",
    "assert equalRegEx('a*', '(a?)+')\n",
    "assert equalRegEx('a?', '(a?)?')\n",
    "assert equalRegEx('(a*b*)*', '(a|b)*')\n",
    "assert not equalRegEx('a*b*', '(a|b)*')"
   ]
  },
  {
   "cell_type": "markdown",
   "metadata": {
    "tags": []
   },
   "source": [
    "Let us extend regular expressions with counted repetitions, for example:\n",
    "- `a{3}` is `a` repeated 3 times, i.e. `aaa`;\n",
    "- `a{3,}` is `a` repeated at least 3 times, i.e. `aaaa*`\n",
    "- `a{2,4}` is `a` repeated 2, 3, or 4 times, i.e. `aa | aaa | aaaa`.\n",
    "\n",
    "JupyterLab supports counted repetitions: you can try this out by selecting `Find...` and then clicking on `Use regex`. "
   ]
  },
  {
   "cell_type": "markdown",
   "metadata": {
    "tags": []
   },
   "source": [
    "We let `{...}` bind like the other postfix operators, `*`, `+`, and `?`. That is:\n",
    "\n",
    "    E₁|E₂{d} = E₁|(E₂{d})\n",
    "    E₁ E₂{d} = E₁ (E₂{d})\n",
    "\n",
    "In the extended grammar, `{` and `}` are now escaped characters:\n",
    "\n",
    "    expression  →  term { '|' term }\n",
    "    term  →  factor { factor }\n",
    "    factor → atom [ '*' | '+' | '?' | '{' integer [',' [integer]] '}' ]\n",
    "    atom  →  plainchar | escapedchar | '(' expression ')'\n",
    "    plainchar  →  ' ' | '!' | '\"' | '#' | '$' | '%' | '&' | '\\'' | ',' | '-' | '.' | '/' |\n",
    "         '0' | '1' | '2' | '3' | '4' | '5' | '6' | '7' | '8' | '9' | ':' | ';' | '<' | '=' | '>' | \n",
    "         '@' | 'A' | 'B' | 'C' | 'D' | 'E' | 'F' | 'G' | 'H' | 'I' | 'J' | 'K' | 'L' | 'M' | 'N' | 'O' |\n",
    "         'P' | 'Q' | 'R' | 'S' | 'T' | 'U' | 'V' | 'W' | 'X' | 'Y' | 'Z' | '[' | ']' | '^' | '_' |\n",
    "         '`' | 'a' | 'b' | 'c' | 'd' | 'e' | 'f' | 'g' | 'h' | 'i' | 'j' | 'k' | 'l' | 'm' | 'n' | 'o' |\n",
    "         'p' | 'q' | 'r' | 's' | 't' | 'u' | 'v' | 'w' | 'x' | 'y' | 'z' | '~'\n",
    "    escapedchar  → '\\\\' ( '(' | ')' | '*' | '+' | '?' | '\\\\' | '|' | '{' | '}' )\n",
    "    integer  →  digit {digit}\n",
    "    digit  →  '0' | '1' | '2' | '3' | '4' | '5' | '6' | '7' | '8' | '9'"
   ]
  },
  {
   "cell_type": "markdown",
   "metadata": {
    "tags": []
   },
   "source": [
    "Extend the attribute grammar above to construct an abstract syntax tree of extended regular expressions. The type of the nodes does not need to be extended. Rather, counted repetitions are expanded while parsing, similarly to `+`. As a hint, for EBNF expression `[E]` attribute rules can be added by `(E «S» | «T»)`, meaning that attributes are calculated according to `S` if `E` is present and according to `T` otherwise. [2 points]"
   ]
  },
  {
   "cell_type": "markdown",
   "metadata": {
    "deletable": false,
    "nbgrader": {
     "cell_type": "markdown",
     "checksum": "55ad88d1f8e9d2154e02def41aad249f",
     "grade": true,
     "grade_id": "cell-1f79b910af9f300d",
     "locked": false,
     "points": 2,
     "schema_version": 3,
     "solution": true,
     "task": false
    }
   },
   "source": [
    "    expression(e)  →  term(e) { '|' term(f) « e := Choice(e, f) »  }\n",
    "    term(e)  →  factor(e) { factor(f) « e := Conc(e, f) » }\n",
    "    factor(e) → atom(e) [ '*' « e := Star(e) » | '+' « e := Conc(e, Star(e)) » | '?' « e := Choice(e, '') » | '{' integer(n) [(',' « [(integer(m) « e := repeat_nm(e, n, m) » | « e := Conc(repeat_n(e, n), Star(e)) »)] | « e := repeat_n(e, n) »)] '}']\n",
    "    atom(e)  →  plainchar(e) | escapedchar(e) | '(' expression(e) ')'\n",
    "    plainchar(e)  →  ' ' « e := ' ' » | ... | '~' « e := '~' »\n",
    "    escapedchar(e)  → '\\\\' ( '(' « e := '(' » | ')' | ... | '|' « e := '|' »)\n",
    "    integer(n) → digit(n) {digit(d) « n := nd » }\n",
    "    digit(d) → '0' « d := 0 » | … | '9' « d := 9 »\n",
    "\n",
    " - The auxiliary function `repeat_n(e, n)` creates concatenation `Conc()` of expression `e` `n` number of times.\n",
    " - The auxiliary function `repeat_nm(e, n, m)` creates choice `Choice()` of expressions `e` repeated from `n` to `m` times."
   ]
  },
  {
   "cell_type": "markdown",
   "metadata": {
    "tags": []
   },
   "source": [
    "Now extend the parser to constructed the abstract syntax tree of extended regular expressions [4 points]"
   ]
  },
  {
   "cell_type": "code",
   "execution_count": 14,
   "metadata": {
    "deletable": false,
    "nbgrader": {
     "cell_type": "code",
     "checksum": "3298e9cd9540a71092adcfd031bef290",
     "grade": true,
     "grade_id": "cell-bd9514ca01b78f25",
     "locked": false,
     "points": 2,
     "schema_version": 3,
     "solution": true,
     "task": false
    },
    "tags": []
   },
   "outputs": [],
   "source": [
    "PlainChars = ' !\"#$%&\\',-./0123456789:;<=>@ABCDEFGHIJKLMNO' + \\\n",
    "                       'PQRSTUVWXYZ[]^_`abcdefghijklmnopqrstuvwxyz{}~'\n",
    "EscapedChars = '()*+?\\\\|'\n",
    "FirstFactor = PlainChars + '\\\\('\n",
    "Digits = '0123456789'\n",
    "\n",
    "src: str; pos: int; sym: str\n",
    "\n",
    "def nxt():\n",
    "    global pos, sym\n",
    "    if pos < len(src): sym, pos = src[pos], pos+1\n",
    "    else: sym = chr(0) # end-of-input symbol\n",
    "\n",
    "def expression():\n",
    "    e = term()\n",
    "    while sym == '|': nxt(); e = Choice(e, term())\n",
    "    return e\n",
    "\n",
    "def term(): \n",
    "    e = factor()\n",
    "    while sym in FirstFactor: e = Conc(e, factor())\n",
    "    return e\n",
    "\n",
    "def factor():\n",
    "    e = atom()\n",
    "    if sym == '*': nxt(); return Star(e)\n",
    "    elif sym == '+': nxt(); return Conc(e, Star(e))\n",
    "    elif sym == '?': nxt(); return Choice(e, '')\n",
    "    elif sym == '{':\n",
    "        nxt();\n",
    "        if sym in Digits:\n",
    "            n = int(integer()); m = n\n",
    "            if sym == ',':\n",
    "                nxt(); m = -1\n",
    "                if sym in Digits: m = int(integer())\n",
    "            if sym == '}': \n",
    "                if n == m: nxt(); return repeat_n(e, n) \n",
    "                elif m == -1: nxt(); return Conc(repeat_n(e, n), Star(e))\n",
    "                elif n < m: nxt(); return repeat_nm(e, n, m)\n",
    "                else: raise Exception(\"quantifier range is out of order\")\n",
    "            else: raise Exception(\"'}' expected at \" + str(pos))\n",
    "        else: raise Exception(\"invalid character at \" + str(pos))\n",
    "    return e\n",
    "\n",
    "def atom():\n",
    "    e = sym\n",
    "    if e in PlainChars: nxt(); return e\n",
    "    elif e == '\\\\':\n",
    "        nxt()\n",
    "        e = sym\n",
    "        if e in EscapedChars: nxt(); return e\n",
    "        else: raise Exception(\"invalid escaped character at \" + str(pos))\n",
    "    elif sym == '(':\n",
    "        nxt(); e = expression()\n",
    "        if sym == ')': nxt(); return e\n",
    "        else: raise Exception(\"')' expected at \" + str(pos))\n",
    "    else: raise Exception(\"invalid character at \" + str(pos))\n",
    "\n",
    "def repeat_nm(e, n: int, m: int):\n",
    "    if n == m: return repeat_n(e, n)\n",
    "    return Choice(repeat_n(e, n), repeat_nm(e, n + 1, m))\n",
    "\n",
    "def integer():\n",
    "    n = ''\n",
    "    while sym in Digits: n += sym; nxt()\n",
    "    return n\n",
    "\n",
    "def repeat_n(e, n: int):\n",
    "    if n == 0: return ''\n",
    "    return Conc(repeat_n(e, n - 1), e)\n",
    "\n",
    "def parse(s: str):\n",
    "    global src, pos;\n",
    "    src, pos = s, 0; nxt(); e = expression()\n",
    "    if sym != chr(0): raise Exception(\"unexpected character at \" + str(pos))\n",
    "    return e"
   ]
  },
  {
   "cell_type": "markdown",
   "metadata": {
    "tags": []
   },
   "source": [
    "Here are some test cases:"
   ]
  },
  {
   "cell_type": "code",
   "execution_count": 15,
   "metadata": {
    "deletable": false,
    "editable": false,
    "nbgrader": {
     "cell_type": "code",
     "checksum": "69525e4baab908dc1550ed6d34d699aa",
     "grade": true,
     "grade_id": "cell-16cf1864f5bcc44c",
     "locked": true,
     "points": 2,
     "schema_version": 3,
     "solution": false,
     "task": false
    }
   },
   "outputs": [],
   "source": [
    "assert str(parse('a{0}')) == ''\n",
    "assert str(parse('a{1}')) == '(a)'\n",
    "assert str(parse('a{10}')) == '((((((((((a)a)a)a)a)a)a)a)a)a)'\n",
    "assert str(parse('(ab){2}')) == '(((ab))(ab))'\n",
    "assert str(parse('a{1,2}')) == '((a)|((a)a))'\n",
    "assert str(parse('a{2,}')) == '(((a)a)(a)*)'\n",
    "\n",
    "assert equalRegEx('a{0,}', 'a*')\n",
    "assert equalRegEx('a{1,}', 'a+')\n",
    "assert equalRegEx('a{1,1}', 'a')\n",
    "assert equalRegEx('a{0,1}', 'a?')\n",
    "assert equalRegEx('a{0,1}', 'a?')\n",
    "assert equalRegEx('a{0,2}', 'a?|aa')\n",
    "assert equalRegEx('a{1,3}', 'a|aa|aaa')\n",
    "\n",
    "GhostSpeak = deterministicFSA(convertRegExToFSA(parse('bo{3,}h')))\n",
    "assert not accepts(GhostSpeak, 'booo')\n",
    "assert not accepts(GhostSpeak, 'booh')\n",
    "assert accepts(GhostSpeak, 'boooh')\n",
    "assert accepts(GhostSpeak, 'booooooooh')\n",
    "assert not accepts(GhostSpeak, 'bboooohhh')\n",
    "assert not accepts(GhostSpeak, 'booh boooh')"
   ]
  }
 ],
 "metadata": {
  "kernelspec": {
   "display_name": "Python 3 (ipykernel)",
   "language": "python",
   "name": "python3"
  },
  "language_info": {
   "codemirror_mode": {
    "name": "ipython",
    "version": 3
   },
   "file_extension": ".py",
   "mimetype": "text/x-python",
   "name": "python",
   "nbconvert_exporter": "python",
   "pygments_lexer": "ipython3",
   "version": "3.11.1"
  }
 },
 "nbformat": 4,
 "nbformat_minor": 4
}
