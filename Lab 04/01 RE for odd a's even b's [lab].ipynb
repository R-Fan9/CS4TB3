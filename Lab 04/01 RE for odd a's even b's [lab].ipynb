{
 "cells": [
  {
   "cell_type": "markdown",
   "metadata": {
    "tags": []
   },
   "source": [
    "### Regular Expression for odd `a`'s and even `b`'s"
   ]
  },
  {
   "cell_type": "markdown",
   "metadata": {},
   "source": [
    "Write a regular expression for sequences over `{a, b}` with an odd number of `a`'s and an even number of `b`'s. If you can't find such an expression right away, do following steps:\n",
    "\n",
    "1. Write an FSA that accepts such sequences\n",
    "2. Convert the FSA to an equivalent regular grammar\n",
    "3. Convert the regular grammar to a regular expression"
   ]
  },
  {
   "cell_type": "markdown",
   "metadata": {},
   "source": [
    "1. Write an FSA that accepts such sequences\n",
    "\n",
    "2. Convert the FSA to an equivalent regular grammar  \n",
    "   0 -> a 2  \n",
    "   0 -> b 1  \n",
    "   1 -> a 3  \n",
    "   1 -> b 0  \n",
    "   2 -> b 0  \n",
    "   2 -> b 3  \n",
    "   3 -> a 1  \n",
    "   3 -> b 2  \n",
    "   2 -> ε  \n",
    "\n",
    "    0 -> a 2 | b 1  \n",
    "    1 -> a 3 | b 0  \n",
    "    2 -> a 0 | b 3 | ε  \n",
    "    3 -> a 1 | b 2  \n",
    "4. Convert the regular grammar to a regular expression\n",
    "   0 -> a (a 0 | b 3 | ε) | b1\n",
    "   1 -> a 3 | b a\n",
    "   3 -> a 1 | b (a 0 | b 3 | ε)\n",
    "\n",
    "   0 -> aa 0 | ab 3 | a | b 1\n",
    "   1 -> a 3 | b 0\n",
    "   3 -> a 1 | ba 0 | bb 3 | b\n",
    "\n",
    "   0 -> aa 0 | ab 3 | a | b (a 3 | b 0)\n",
    "   3 -> a (a 3 | b 0) | ba 0 | bb 3 | b\n",
    "\n",
    "   0 -> aa 0 | ab 3 | a | ba 3 | bb 0\n",
    "   3 -> aa 3 | ab 0 | ba 0 | bb 3 | b\n",
    "\n",
    "   0 -> aa 0 | ab 3 | a | ba 3 | bb 0\n",
    "   3 -> (aa | bb) 3 | ab 0 | ba 0 | b\n",
    "\n",
    "   0 -> aa 0 | ab 3 | a | ba 3 | bb 0\n",
    "   3 -> (aa | bb)* | ab 0 | ba 0 | b\n",
    "\n",
    "   0 -> aa 0 | ab ((aa | bb)* | ab 0 | ba 0 | b | a | ba ((aa | bb)* | ab 0 | ba 0 | b) | bb 0)\n",
    "   0 -> aa 0 | ab(aa|bb)* | abab 0 | abba 0 | aab | a | ba(aa|bb)* | baab 0 | baba 0 | bab | bb0\n",
    "   0 -> (aa|abab|abba|baab|baba|bb)*(ab(aa|bb)* | aab | a | ba(aa|bb)* | baba)\n",
    "   "
   ]
  },
  {
   "cell_type": "code",
   "execution_count": null,
   "metadata": {},
   "outputs": [],
   "source": []
  }
 ],
 "metadata": {
  "kernelspec": {
   "display_name": "Python 3 (ipykernel)",
   "language": "python",
   "name": "python3"
  },
  "language_info": {
   "codemirror_mode": {
    "name": "ipython",
    "version": 3
   },
   "file_extension": ".py",
   "mimetype": "text/x-python",
   "name": "python",
   "nbconvert_exporter": "python",
   "pygments_lexer": "ipython3",
   "version": "3.11.1"
  }
 },
 "nbformat": 4,
 "nbformat_minor": 4
}
