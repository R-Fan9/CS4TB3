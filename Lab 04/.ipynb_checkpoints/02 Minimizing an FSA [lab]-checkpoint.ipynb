{
 "cells": [
  {
   "cell_type": "markdown",
   "metadata": {
    "tags": []
   },
   "source": [
    "#### Minimizing an FSA"
   ]
  },
  {
   "cell_type": "markdown",
   "metadata": {
    "tags": []
   },
   "source": [
    "Consider  `A = (T, Q, R, q₀, F)` with `T = {a, b}`, `Q = {0, 1, 2, 3}`, `q₀ = 0`, `F = {2}`, and transitions `R`:  \n",
    " \n",
    "    0 a → 1\n",
    "    0 b → 0\n",
    "    1 a → 1  \n",
    "    1 b → 2  \n",
    "    2 a → 3  \n",
    "    2 b → 2  \n",
    "    3 a → 3  \n",
    "    3 b → 2  \n",
    "\n",
    "Minimize `A` following the method from the course notes by filling the table below. Add `⓪` for states that are initially identified as distict, `①` for states that are identifed as distict in the first round, `②` for states that are identified as distinct in the second round, etc. Add explanations! \n",
    "\n",
    "|     | `0` | `1` | `2` | `3` |\n",
    "|:---:|:---:|:---:|:---:|:---:|\n",
    "| `0` |     |     |     |     |\n",
    "| `1` |     |     |     |     |\n",
    "| `2` |     |     |     |     |\n",
    "| `3` |     |     |     |     |\n",
    "\n",
    "Construct the new states, the new initial state, the new final states, and the transitions. You may check your result by running `minimizeFSM` further below."
   ]
  },
  {
   "cell_type": "markdown",
   "metadata": {
    "solution": "hidden",
    "solution_first": true
   },
   "source": [
    "Initial: final state vs. other\n",
    "|     | `0` | `1` | `2` | `3` |\n",
    "|:---:|:---:|:---:|:---:|:---:|\n",
    "| `0` |     |     |  ⓪   |     |\n",
    "| `1` |     |     |  ⓪  |     |\n",
    "| `2` |  ⓪   |  ⓪   |     |   ⓪  |\n",
    "| `3` |     |     |   ⓪  |     |\n",
    "\n",
    "Production:\n",
    "    0 b → 0\n",
    "    1 b -> 2\n",
    "    3 b -> 2\n",
    "\n",
    "0, 2 are not equivalent, so '0', '1' and '0,3' are not equivalent\n",
    "|     | `0` | `1` | `2` | `3` |\n",
    "|:---:|:---:|:---:|:---:|:---:|\n",
    "| `0` |     |     |  ⓪   |     |\n",
    "| `1` |     |     |  ⓪  |     |\n",
    "| `2` |  ⓪   |  ⓪   |     |   ⓪  |\n",
    "| `3` |     |     |   ⓪  |     |\n",
    "\n",
    "The new states are {0}, {1, 3}, {2}.\n",
    "The new initial state is the one that contains the old start state, i.e. `{0}`\n",
    "\n",
    "The new final states are those that contain the old final state, i.e.. `{2}`\n",
    "\n",
    "The new transitions:\n",
    "    {0} a → {1,3}\n",
    "    {0} b → {0}\n",
    "    {1,3} a → {1,3}  \n",
    "1 b → 2  \n",
    "2 a → 3  \n",
    "2 b → 2  \n",
    "3 a → 3  \n",
    "3 b → 2  "
   ]
  },
  {
   "cell_type": "code",
   "execution_count": null,
   "metadata": {},
   "outputs": [],
   "source": [
    "class set(frozenset):\n",
    "    def __repr__(self):\n",
    "        return '{' + ', '.join(str(e) for e in self) + '}'\n",
    "\n",
    "class FiniteStateAutomaton:\n",
    "    def __init__(self, T, Q, R, q0, F):\n",
    "        self.T, self.Q, self.R, self.q0, self.F = T, Q, R, q0, F\n",
    "    def __repr__(self):\n",
    "        return str(self.q0) + '\\n' + ' '.join(str(f) for f in self.F) + '\\n' + \\\n",
    "               '\\n'.join(str(q) + ' ' + a + ' → ' + str(r) for (q, a, r) in self.R)\n",
    "\n",
    "def parseFSA(fsa: str) -> FiniteStateAutomaton:\n",
    "    fsa = [line for line in fsa.split('\\n') if line.strip() != '']\n",
    "    q0 = fsa[0] # first line: initial\n",
    "    F = set(fsa[1].split()) # second line: final, final, ...\n",
    "    R = set()\n",
    "    for line in fsa[2:]: # all subsequent lines: \"source symbol → target\"\n",
    "        l, r = line.split('→')\n",
    "        R |= {(l.split()[0], l.split()[1], r.split()[0])}\n",
    "    T = {r[1] for r in R}\n",
    "    Q = {q0} | F | {r[0] for r in R} | {r[2] for r in R}\n",
    "    return FiniteStateAutomaton(T, Q, R, q0, F)\n",
    "\n",
    "def minimizeFSA(fsa: FiniteStateAutomaton) -> FiniteStateAutomaton:\n",
    "    δ = {(q, a): r for (q, a, r) in fsa.R}\n",
    "    dist = {(q, r) for q in fsa.Q for r in fsa.Q if q != r and (q in fsa.F) != (r in fsa.F)}\n",
    "    done = False\n",
    "    while not done:\n",
    "        done = True #; print(dist)\n",
    "        for q in fsa.Q:\n",
    "            for r in fsa.Q:\n",
    "                if q != r and (q, r) not in dist and any(((q, u) in δ) != ((r, u) in δ) or \\\n",
    "                    ((q, u) in δ) and ((δ[(q, u)], δ[(r, u)]) in dist) for u in fsa.T):\n",
    "                    dist |= {(q, r)}; done = False #; print('adding', q, r)\n",
    "    Qʹ = {set({q} | {r for r in fsa.Q if (q, r) not in dist}) for q in fsa.Q}\n",
    "    Rʹ = {(qʹ, u, rʹ) for qʹ in Qʹ for rʹ in Qʹ for u in fsa.T if any((q, u, r) in fsa.R for q in qʹ for r in rʹ)}\n",
    "    qʹ0 = {qʹ for qʹ in Qʹ if fsa.q0 in qʹ}.pop()\n",
    "    Fʹ = {qʹ for qʹ in Qʹ if (qʹ & fsa.F) != set()}\n",
    "    return FiniteStateAutomaton(fsa.T, Qʹ, Rʹ, qʹ0, Fʹ)"
   ]
  },
  {
   "cell_type": "code",
   "execution_count": null,
   "metadata": {
    "solution": "hidden",
    "solution_first": true
   },
   "outputs": [],
   "source": [
    "Your code here"
   ]
  }
 ],
 "metadata": {
  "kernelspec": {
   "display_name": "Python 3 (ipykernel)",
   "language": "python",
   "name": "python3"
  },
  "language_info": {
   "codemirror_mode": {
    "name": "ipython",
    "version": 3
   },
   "file_extension": ".py",
   "mimetype": "text/x-python",
   "name": "python",
   "nbconvert_exporter": "python",
   "pygments_lexer": "ipython3",
   "version": "3.11.1"
  }
 },
 "nbformat": 4,
 "nbformat_minor": 4
}
