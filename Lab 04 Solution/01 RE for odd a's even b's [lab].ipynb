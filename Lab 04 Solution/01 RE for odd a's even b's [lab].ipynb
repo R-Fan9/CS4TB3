{
 "cells": [
  {
   "cell_type": "markdown",
   "metadata": {
    "tags": []
   },
   "source": [
    "### Regular Expression for odd `a`'s and even `b`'s"
   ]
  },
  {
   "cell_type": "markdown",
   "metadata": {},
   "source": [
    "Write a regular expression for sequences over `{a, b}` with an odd number of `a`'s and an even number of `b`'s. If you can't find such an expression right away, do following steps:\n",
    "\n",
    "1. Write an FSA that accepts such sequences\n",
    "2. Convert the FSA to an equivalent regular grammar\n",
    "3. Convert the regular grammar to a regular expression"
   ]
  },
  {
   "cell_type": "markdown",
   "metadata": {},
   "source": [
    "Your solution here."
   ]
  },
  {
   "cell_type": "markdown",
   "metadata": {},
   "source": [
    "*Instructor's Solution:*"
   ]
  },
  {
   "cell_type": "markdown",
   "metadata": {
    "tags": []
   },
   "source": [
    "Let  `A = (T, Q, R, q₀, F)` with `T = {a, b}`, `Q = {0, 1, 2, 3}`. The meaning of states is:\n",
    "\n",
    "- 0: even `a`'s, even`'b`'s\n",
    "- 1: even `a`'s, odd `b`'s\n",
    "- 2: odd `a`'s, even `b`'s\n",
    "- 3: odd `a`'s, odd `b`'s\n",
    "\n",
    "Therefore, `q₀ = 0`, `F = {2}`, and transitions `R`:  \n",
    " \n",
    "    0 a → 2\n",
    "    0 b → 1\n",
    "    1 a → 3\n",
    "    1 b → 0\n",
    "    2 a → 0\n",
    "    2 b → 3\n",
    "    3 a → 1\n",
    "    3 b → 2\n",
    "\n",
    "This is now transformed to a regular grammar with nonterminals `0, 1, 2, 3` and start symbol `0`.\n",
    "\n",
    "    0 → a 2\n",
    "    0 → b 1\n",
    "    1 → a 3\n",
    "    1 → b 0\n",
    "    2 → a 0\n",
    "    2 → b 3\n",
    "    3 → a 1\n",
    "    3 → b 2\n",
    "    2 → ε  \n",
    "\n",
    "The grammar is rewritten with one production for each nonterminal:\n",
    "\n",
    "    0 → a 2 | b 1\n",
    "    1 → a 3 | b 0\n",
    "    2 → a 0 | b 3 | ε\n",
    "    3 → a 1 | b 2\n",
    "\n",
    "Now, nonterminals need to be eliminated. The trick is to find an order which leads to a simple expression. Nonterminal 2 is eliminated first:\n",
    "\n",
    "    0 → a (a 0 | b 3 | ε) | b 1\n",
    "    1 → a 3 | b 0\n",
    "    3 → a 1 | b (a 0 | b 3 | ε)\n",
    "\n",
    "Using distributivity  `E (F | G) = E F | E G`, the grammar is \"normalized\":\n",
    "\n",
    "    0 → a a 0 | a b 3 | a | b 1\n",
    "    1 → a 3 | b 0\n",
    "    3 → a 1 | b a 0 | b b 3 | b\n",
    "\n",
    "Nonterminal `1` is eliminated:\n",
    "\n",
    "    0 → a a 0 | a b 3 | a | b (a 3 | b 0)\n",
    "    3 → a (a 3 | b 0) | b a 0 | b b 3 | b\n",
    "\n",
    "The grammar is normalized:\n",
    "\n",
    "    0 → a a 0 | a b 3 | a | b a 3 | b b 0\n",
    "    3 → a a 3 | a b 0 | b a 0 | b b 3 | b\n",
    "\n",
    "In the second production, `3` is factored out:\n",
    "\n",
    "    0 → a a 0 | a b 3 | a | b a 3 | b b 0\n",
    "    3 → ( a a | b b ) 3 | a b 0 | b a 0 | b\n",
    "    \n",
    "Arden's rule is applied to the second production:\n",
    "\n",
    "    0 → a a 0 | a b 3 | a | b a 3 | b b 0\n",
    "    3 → ( a a | b b )* (a b 0 | b a 0 | b)\n",
    "\n",
    "Nonterminal `3` is eliminated:\n",
    "\n",
    "    0 → a a 0 | a b  ( a a | b b )* (a b 0 | b a 0 | b) | a | b a  ( a a | b b )* (a b 0 | b a 0 | b) | b b 0\n",
    "\n",
    "Distributivity is applied:\n",
    "\n",
    "    0 → a a 0 |  a b  ( a a | bb )* a b 0 | a b  ( a a | b b )* b a 0 | a b  ( a a | b b )* b | a | b a  ( a a | b b )* a b 0 | b a  ( a a | b b )* b a 0 | b a  ( a a | b b )* b | b b 0\n",
    "    \n",
    "Commutativity is applied, and parentheses are added:\n",
    "\n",
    "    0 → (a a) 0 |  (a b  ( a a | bb )* a b) 0 | (a b  ( a a | bb )* b a) 0 | (b a  ( a a | bb )* a b) 0 | (b a  ( a a | bb )* b a) 0 | (b b) 0 | (a b  ( a a | bb )* b | a | b a  ( a a | b b )* b)\n",
    "\n",
    "Nonterminal `0` is factor out:\n",
    "\n",
    "    0 → (a a |  a b  ( a a | bb )* a b | a b  ( a a | bb )* b a | b a  ( a a | bb )* a b | b a  ( a a | bb )* b a | b b) 0 | (a b  ( a a | bb )* b | a | b a  ( a a | b b )* b)\n",
    "\n",
    "Arden's rule is applied, resulting in:\n",
    "\n",
    "    (a a |  a b  ( a a | bb )* a b | a b  ( a a | bb )* b a | b a  ( a a | bb )* a b | b a  ( a a | bb )* b a | b b) * (a b  ( a a | bb )* b | a | b a  ( a a | b b )* b)"
   ]
  }
 ],
 "metadata": {
  "kernelspec": {
   "display_name": "Python 3 (ipykernel)",
   "language": "python",
   "name": "python3"
  },
  "language_info": {
   "codemirror_mode": {
    "name": "ipython",
    "version": 3
   },
   "file_extension": ".py",
   "mimetype": "text/x-python",
   "name": "python",
   "nbconvert_exporter": "python",
   "pygments_lexer": "ipython3",
   "version": "3.11.1"
  }
 },
 "nbformat": 4,
 "nbformat_minor": 4
}
