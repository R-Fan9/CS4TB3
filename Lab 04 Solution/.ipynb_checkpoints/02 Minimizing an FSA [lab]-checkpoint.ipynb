{
 "cells": [
  {
   "cell_type": "markdown",
   "metadata": {
    "tags": []
   },
   "source": [
    "### Minimizing an FSA"
   ]
  },
  {
   "cell_type": "markdown",
   "metadata": {
    "tags": []
   },
   "source": [
    "Consider  `A = (T, Q, R, q₀, F)` with `T = {a, b}`, `Q = {0, 1, 2, 3}`, `q₀ = 0`, `F = {2}`, and transitions `R`:  \n",
    " \n",
    "    0 a → 1\n",
    "    0 b → 0\n",
    "    1 a → 1  \n",
    "    1 b → 2  \n",
    "    2 a → 3  \n",
    "    2 b → 2  \n",
    "    3 a → 3  \n",
    "    3 b → 2  \n",
    "\n",
    "Minimize `A` following the method from the course notes by filling the table below. Add `⓪` for states that are initially identified as distict, `①` for states that are identifed as distict in the first round, `②` for states that are identified as distinct in the second round, etc. Add explanations! \n",
    "\n",
    "|     | `0` | `1` | `2` | `3` |\n",
    "|:---:|:---:|:---:|:---:|:---:|\n",
    "| `0` |     |     |     |     |\n",
    "| `1` |     |     |     |     |\n",
    "| `2` |     |     |     |     |\n",
    "| `3` |     |     |     |     |\n",
    "\n",
    "Construct the new states, the new initial state, the new final states, and the transitions. You may check your result by running `minimizeFSM` further below."
   ]
  },
  {
   "cell_type": "markdown",
   "metadata": {
    "solution": "hidden",
    "solution_first": true
   },
   "source": [
    "Your solution here"
   ]
  },
  {
   "cell_type": "markdown",
   "metadata": {
    "tags": []
   },
   "source": [
    "*Instructor's Solution:*"
   ]
  },
  {
   "cell_type": "markdown",
   "metadata": {
    "solution": "hidden",
    "tags": []
   },
   "source": [
    "Initially, final state `2` is distinct from `0`, `1`, `3`:\n",
    "\n",
    "|     | `0` | `1` | `2` | `3` |\n",
    "|:---:|:---:|:---:|:---:|:---:|\n",
    "| `0` |     |     | `⓪` |     |\n",
    "| `1` |     |     | `⓪` |     |\n",
    "| `2` | `⓪` | `⓪` |     | `⓪` |\n",
    "| `3` |     |     | `⓪` |     |\n",
    "\n",
    "We check if any pairs of non-distinct states may lead to states that are distinct:\n",
    "\n",
    "- `0` and `1` must be distinct as `0 b → 0` and `1 b → 2` lead to distinct states `0` and `2`.\n",
    "- `0` and `2` were already identified as distinct.\n",
    "- `0` and `3` must be distinct as `0 b → 0` and `3 b → 2` lead to distinct states `0` and `2`.\n",
    "- `1` and `3` lead on both `a` and `b` to same states, so are not identified as distinct.\n",
    "\n",
    "Symmetric cases like `1` and `0` are left out below but marked in the table: \n",
    "\n",
    "|     | `0` | `1` | `2` | `3` |\n",
    "|:---:|:---:|:---:|:---:|:---:|\n",
    "| `0` |     | `①` | `⓪` | `①` |\n",
    "| `1` | `①` |     | `⓪` |     |\n",
    "| `2` | `⓪` | `⓪` |     | `⓪` |\n",
    "| `3` | `①` |     | `⓪` |     |\n",
    "\n",
    "We again check all pairs of non-distinct states, of which there is only one:\n",
    "- `1` and `3` lead on both `a` and `b` to same states, so are not identified as distinct.\n",
    "\n",
    "As there are no changes, the process stops. Since `0` and `3` were not identified as distinct, they are equivalent. \n",
    "\n",
    "- The new states are `{0}, {2}, {1, 3}`.\n",
    "- The new initial state is one that contains the old initial state, so `{0}`.\n",
    "- The new final states are those that contain old final states, so only `{2}`.\n",
    "- The new transitions are those that \"contain\" old transitions:  \n",
    "`{0} a → {1, 3}` because of `0 a → 1`  \n",
    "`{0} b → {0}` because of `0 b → 0`  \n",
    "`{2} a → {1, 3}` because of `2 a → 3`  \n",
    "`{2} b → {2}` because of `2 b → 2`  \n",
    "`{1, 3} a → {1, 3}` because of `1 a → 1` and `3 a → 3`  \n",
    "`{1, 3} b → {2}` because of `1 b → 2` and `3 b → 2`"
   ]
  },
  {
   "cell_type": "code",
   "execution_count": null,
   "metadata": {},
   "outputs": [],
   "source": [
    "class set(frozenset):\n",
    "    def __repr__(self):\n",
    "        return '{' + ', '.join(str(e) for e in self) + '}'\n",
    "\n",
    "class FiniteStateAutomaton:\n",
    "    def __init__(self, T, Q, R, q0, F):\n",
    "        self.T, self.Q, self.R, self.q0, self.F = T, Q, R, q0, F\n",
    "    def __repr__(self):\n",
    "        return str(self.q0) + '\\n' + ' '.join(str(f) for f in self.F) + '\\n' + \\\n",
    "               '\\n'.join(str(q) + ' ' + a + ' → ' + str(r) for (q, a, r) in self.R)\n",
    "\n",
    "def parseFSA(fsa: str) -> FiniteStateAutomaton:\n",
    "    fsa = [line for line in fsa.split('\\n') if line.strip() != '']\n",
    "    q0 = fsa[0] # first line: initial\n",
    "    F = set(fsa[1].split()) # second line: final, final, ...\n",
    "    R = set()\n",
    "    for line in fsa[2:]: # all subsequent lines: \"source symbol → target\"\n",
    "        l, r = line.split('→')\n",
    "        R |= {(l.split()[0], l.split()[1], r.split()[0])}\n",
    "    T = {r[1] for r in R}\n",
    "    Q = {q0} | F | {r[0] for r in R} | {r[2] for r in R}\n",
    "    return FiniteStateAutomaton(T, Q, R, q0, F)\n",
    "\n",
    "def minimizeFSA(fsa: FiniteStateAutomaton) -> FiniteStateAutomaton:\n",
    "    δ = {(q, a): r for (q, a, r) in fsa.R}\n",
    "    dist = {(q, r) for q in fsa.Q for r in fsa.Q if q != r and (q in fsa.F) != (r in fsa.F)}\n",
    "    done = False\n",
    "    while not done:\n",
    "        done = True #; print(dist)\n",
    "        for q in fsa.Q:\n",
    "            for r in fsa.Q:\n",
    "                if q != r and (q, r) not in dist and any(((q, u) in δ) != ((r, u) in δ) or \\\n",
    "                    ((q, u) in δ) and ((δ[(q, u)], δ[(r, u)]) in dist) for u in fsa.T):\n",
    "                    dist |= {(q, r)}; done = False #; print('adding', q, r)\n",
    "    Qʹ = {set({q} | {r for r in fsa.Q if (q, r) not in dist}) for q in fsa.Q}\n",
    "    Rʹ = {(qʹ, u, rʹ) for qʹ in Qʹ for rʹ in Qʹ for u in fsa.T if any((q, u, r) in fsa.R for q in qʹ for r in rʹ)}\n",
    "    qʹ0 = {qʹ for qʹ in Qʹ if fsa.q0 in qʹ}.pop()\n",
    "    Fʹ = {qʹ for qʹ in Qʹ if (qʹ & fsa.F) != set()}\n",
    "    return FiniteStateAutomaton(fsa.T, Qʹ, Rʹ, qʹ0, Fʹ)"
   ]
  },
  {
   "cell_type": "code",
   "execution_count": null,
   "metadata": {
    "solution": "hidden",
    "solution_first": true
   },
   "outputs": [],
   "source": [
    "Your code here"
   ]
  },
  {
   "cell_type": "markdown",
   "metadata": {
    "tags": []
   },
   "source": [
    "*Instructor's Code:*"
   ]
  },
  {
   "cell_type": "code",
   "execution_count": null,
   "metadata": {
    "solution": "hidden",
    "tags": []
   },
   "outputs": [],
   "source": [
    "A = parseFSA(\"\"\"\n",
    "0\n",
    "2\n",
    "0 a → 1\n",
    "0 b → 0\n",
    "1 a → 1  \n",
    "1 b → 2  \n",
    "2 a → 3  \n",
    "2 b → 2\n",
    "3 a → 3  \n",
    "3 b → 2 \n",
    "\"\"\")\n",
    "\n",
    "minimizeFSA(A)"
   ]
  }
 ],
 "metadata": {
  "kernelspec": {
   "display_name": "Python 3 (ipykernel)",
   "language": "python",
   "name": "python3"
  },
  "language_info": {
   "codemirror_mode": {
    "name": "ipython",
    "version": 3
   },
   "file_extension": ".py",
   "mimetype": "text/x-python",
   "name": "python",
   "nbconvert_exporter": "python",
   "pygments_lexer": "ipython3",
   "version": "3.11.1"
  }
 },
 "nbformat": 4,
 "nbformat_minor": 4
}
