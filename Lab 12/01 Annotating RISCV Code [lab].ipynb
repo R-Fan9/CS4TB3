{
 "cells": [
  {
   "cell_type": "markdown",
   "metadata": {
    "tags": []
   },
   "source": [
    "#### Annotating RISC-V Code"
   ]
  },
  {
   "cell_type": "markdown",
   "metadata": {},
   "source": [
    "**Note:** This notebook needs to be run in a folder with the P0 compiler."
   ]
  },
  {
   "cell_type": "markdown",
   "metadata": {
    "tags": []
   },
   "source": [
    "For the following questions, study first `CGriscv.ipynb`, in particular the parts on procedure calling and array indexing."
   ]
  },
  {
   "cell_type": "code",
   "execution_count": null,
   "metadata": {},
   "outputs": [],
   "source": [
    "import nbimporter; nbimporter.options[\"only_defs\"] = False\n",
    "from P0 import compileString"
   ]
  },
  {
   "cell_type": "markdown",
   "metadata": {
    "tags": []
   },
   "source": [
    "Generate the RISC-V assembly code of the following P0 program:"
   ]
  },
  {
   "cell_type": "code",
   "execution_count": null,
   "metadata": {},
   "outputs": [],
   "source": [
    "compileString(\"\"\"\n",
    "var s: integer\n",
    "var a: [0 .. 9] → integer\n",
    "procedure sum(l, h: integer)\n",
    "  var i: integer\n",
    "    s := 0; i := l\n",
    "    while i ≤ h do\n",
    "        s := s + a[i]; i := i + 1\n",
    "program printsum\n",
    "  a[0] := 5; a[1] := 7\n",
    "  sum(0, 1)\n",
    "  write(s)\n",
    "\"\"\", 'printsum.s', target = 'riscv')"
   ]
  },
  {
   "cell_type": "markdown",
   "metadata": {},
   "source": [
    "We can view the RISCV assembly code:"
   ]
  },
  {
   "cell_type": "code",
   "execution_count": null,
   "metadata": {},
   "outputs": [],
   "source": [
    "!cat printsum.s"
   ]
  },
  {
   "cell_type": "markdown",
   "metadata": {},
   "source": [
    "You can execute it with a RISCV emulator library in Python:\n",
    "\n",
    "Note that the riscemu library has issues with the standard method read() in P0, you have to execute it from the command line"
   ]
  },
  {
   "cell_type": "code",
   "execution_count": null,
   "metadata": {},
   "outputs": [],
   "source": [
    "!python3 -m riscemu printsum.s"
   ]
  },
  {
   "cell_type": "markdown",
   "metadata": {
    "tags": []
   },
   "source": [
    "Annotate each line of the generated RISCV file with an assignment or brief description what the instruction does, using register/variable names rather than offsets and addresses. For each procedure (`sum` and `printsum`), state the size of the parameters (`parsize`) and the size of the local variables (`localsize`). State for each local variable and parameter the offset used for FP-relative addressing. \n",
    "\n",
    "Note that `write` is a system call, `scall`, with the function to be executed, `1`, in `a0` and the parameter in `a1`.  `4` in `a2` means write 4 bytes. The P0 code generator unnecessarily pushes the parameter also on the stack."
   ]
  },
  {
   "cell_type": "markdown",
   "metadata": {},
   "source": [
    "YOUR ANSWER HERE"
   ]
  }
 ],
 "metadata": {
  "kernelspec": {
   "display_name": "Python 3 (ipykernel)",
   "language": "python",
   "name": "python3"
  },
  "language_info": {
   "codemirror_mode": {
    "name": "ipython",
    "version": 3
   },
   "file_extension": ".py",
   "mimetype": "text/x-python",
   "name": "python",
   "nbconvert_exporter": "python",
   "pygments_lexer": "ipython3",
   "version": "3.11.1"
  }
 },
 "nbformat": 4,
 "nbformat_minor": 4
}
