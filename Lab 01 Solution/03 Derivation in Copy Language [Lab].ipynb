{
 "cells": [
  {
   "cell_type": "markdown",
   "metadata": {
    "tags": []
   },
   "source": [
    "### Derivation in Copy Language"
   ]
  },
  {
   "cell_type": "markdown",
   "metadata": {},
   "source": [
    "Recall `G₅ = (T, N, P, S)`, where `T = {a, b}`, `N = {A, B, S}`, and productions `P` are:  \n",
    "\n",
    "  `S → aAS`  \n",
    "  `S → bBS`  \n",
    "  `Aa → aA`  \n",
    "  `Ab → bA`  \n",
    "  `Ba → aB`  \n",
    "  `Bb → bB`  \n",
    "  `AS → Sa`  \n",
    "  `BS → Sb`  \n",
    "  `S → ε`  \n",
    "\n",
    "Give a derivation of `abbabb`!"
   ]
  },
  {
   "cell_type": "markdown",
   "metadata": {},
   "source": [
    "Your answer here."
   ]
  },
  {
   "cell_type": "markdown",
   "metadata": {
    "tags": []
   },
   "source": [
    "*Instructor's Answer:*\n",
    "\n",
    "```\n",
    "    S\n",
    "⇒ aAS\n",
    "⇒ aAbBS\n",
    "⇒ aAbBbBS\n",
    "⇒ abABbBS\n",
    "⇒ abAbBBS\n",
    "⇒ abbABBS\n",
    "⇒ abbABSb\n",
    "⇒ abbASbb\n",
    "⇒ abbSabb\n",
    "⇒ abbabb\n",
    "```"
   ]
  }
 ],
 "metadata": {
  "kernelspec": {
   "display_name": "Python 3 (ipykernel)",
   "language": "python",
   "name": "python3"
  },
  "language_info": {
   "codemirror_mode": {
    "name": "ipython",
    "version": 3
   },
   "file_extension": ".py",
   "mimetype": "text/x-python",
   "name": "python",
   "nbconvert_exporter": "python",
   "pygments_lexer": "ipython3",
   "version": "3.11.1"
  },
  "latex_envs": {
   "LaTeX_envs_menu_present": true,
   "autoclose": false,
   "autocomplete": true,
   "bibliofile": "biblio.bib",
   "cite_by": "apalike",
   "current_citInitial": 1,
   "eqLabelWithNumbers": true,
   "eqNumInitial": 1,
   "hotkeys": {
    "equation": "Ctrl-E",
    "itemize": "Ctrl-I"
   },
   "labels_anchors": false,
   "latex_user_defs": false,
   "report_style_numbering": false,
   "user_envs_cfg": false
  }
 },
 "nbformat": 4,
 "nbformat_minor": 4
}
