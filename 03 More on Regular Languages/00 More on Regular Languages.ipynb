{
 "cells": [
  {
   "cell_type": "markdown",
   "metadata": {
    "slideshow": {
     "slide_type": "slide"
    }
   },
   "source": [
    "---\n",
    "\n",
    "# 3. More on Regular Languages\n",
    "**[Emil Sekerinski](http://www.cas.mcmaster.ca/~emil/), McMaster University, January 2024**\n",
    "\n",
    "---"
   ]
  },
  {
   "cell_type": "markdown",
   "metadata": {},
   "source": [
    "Note: The following line imports all Python declarations from Chapter 2 Regular Languages"
   ]
  },
  {
   "cell_type": "code",
   "execution_count": null,
   "metadata": {},
   "outputs": [],
   "source": [
    "%run \"../02 Regular Languages/Regular Languages.ipynb\""
   ]
  },
  {
   "cell_type": "markdown",
   "metadata": {
    "slideshow": {
     "slide_type": "slide"
    }
   },
   "source": [
    "### Complement and Intersection"
   ]
  },
  {
   "cell_type": "markdown",
   "metadata": {},
   "source": [
    "The language of regular expressions is extended by two constructs:\n",
    "\n",
    "- `~E`, where `E` is a regular expression (*complement*)\n",
    "- `E₁ & E₂`, where `E₁`, `E₂` are regular expressions (*intersection*)"
   ]
  },
  {
   "cell_type": "markdown",
   "metadata": {
    "slideshow": {
     "slide_type": "slide"
    }
   },
   "source": [
    "<div style=\"float:right;background-color:lightgrey;border-left:2em solid white\">\n",
    "\n",
    "**Example.** `a*&~(aaa)` describes all  \n",
    "sequences over `a` except `aaa`:\n",
    "\n",
    " `L(a*&~(aaa))`  \n",
    "`=  (⋃ n ≥ 0 • Lⁿ(a)) ∩ L(~aaa))`  \n",
    "`=  (⋃ n ≥ 0 • aⁿ) ∩ ∁L(aaa))`  \n",
    "`=  (⋃ n ≥ 0 • aⁿ) ∩ ∁(L(a) L(a) L(a))`  \n",
    "`=  (⋃ n ≥ 0 • aⁿ) ∩ ∁({a} {a} {a})`  \n",
    "`=  (⋃ n ≥ 0 • aⁿ) ∩ ∁{aaa}`  \n",
    "`=  (⋃ n ≥ 0 • aⁿ) ∩ (a* – {aaa})`  \n",
    "`=  (⋃ n ≥ 0 • aⁿ) – {aaa}`  \n",
    "`=  (⋃ n ≥ 0 | n ≠ 3 • aⁿ)`  \n",
    "</div>\n",
    "\n",
    "The languages described by `~E` and `E₁ & E₂` are,\n",
    "\n",
    "| E | L(E)          |\n",
    "|:-------------------|:------------------|\n",
    "| `~E`               | `∁L(E)`            |\n",
    "| `E₁ & E₂`          | `L(E₁) ∩ L(E₂)`   |\n",
    "\n",
    "where `∁A` is the complement of set `A`. For a language over `T`, the universe is `T*`, so `∁L = T* – L`.\n",
    "\n",
    "For example, the sequences over `{a, b}` with an even number of `a`'s and an even number of `b`'s described by:\n",
    "```\n",
    "b*(ab*ab*)* & a*(ba*ba*)*\n",
    "```"
   ]
  },
  {
   "cell_type": "markdown",
   "metadata": {
    "solution": "hidden",
    "solution_first": true
   },
   "source": [
    "**Question.** What is the language described by `(aa)* & (aaa)*`? Can this be expressed simpler?"
   ]
  },
  {
   "cell_type": "markdown",
   "metadata": {
    "slideshow": {
     "slide_type": "fragment"
    },
    "solution": "hidden",
    "tags": []
   },
   "source": [
    "*Answer.*  \n",
    "The language of `(aa)*` is all sequences over `a` of even length. The language of `(aaa)*` is all sequences over `a` with length being a multiple of `3`. Their intersection is all sequences over `a` with the length being a multiple of `6`, which can be simpler expressed as `(aaaaaa)*`."
   ]
  },
  {
   "cell_type": "markdown",
   "metadata": {
    "slideshow": {
     "slide_type": "slide"
    }
   },
   "source": [
    "In regular expressions, unary `~` binds tightest and `&` binds stronger than`|` but weaker than concatenation. That is, `~ab&c` is understood as `((~a)b)&c`."
   ]
  },
  {
   "cell_type": "markdown",
   "metadata": {},
   "source": [
    "Given regular expressions `E`, `F`, `G`, the basic rules of complement and intersection are:\n",
    "\n",
    "- *Double Complement:* `~~E = E`\n",
    "- *Commutativity:* `E & F  = F & E`\n",
    "- *Associativity:* `E & F  & G = E & (F & G)`\n",
    "- *Idempotence:* `E & E = E`\n",
    "- *De Morgan:* `~(E & F) = ~E | ~F` and `~(E | F) = ~E & ~F`\n",
    "- *Distributivity:* `E | (F & G) = (E & F) | (E & G)` and `E & (F | G) = (E | F) & (E | G)`\n",
    "- *Distributivity:* `E (F & G) = E F & E G` and `(E & F) G = E G & E F`"
   ]
  },
  {
   "cell_type": "markdown",
   "metadata": {},
   "source": [
    "Since languages are sets, the above rules follow from those of sets. For example, De Morgan's rule for regular expressions follows from De Morgan's rule for sets:\n",
    "\n",
    "```\n",
    "   L(~(E & F))\n",
    "= ∁L(E & F)\n",
    "= ∁(L(E) ∩ L(F))\n",
    "= ∁L(E) ∪ ∁L(F)\n",
    "= L(~E) ∪ L(~F)\n",
    "= L(~E | ~F)\n",
    "```"
   ]
  },
  {
   "cell_type": "markdown",
   "metadata": {},
   "source": [
    "The abstract syntax of regular expressions is extended accordingly:\n",
    "\n",
    "    expr ::= 'ε' | sym | '~' expr | expr '|' expr | expr '&' expr | expr expr | expr '*'\n",
    "\n",
    "Constructors for representing complement and intersection in Python are introduced:"
   ]
  },
  {
   "cell_type": "code",
   "execution_count": null,
   "metadata": {},
   "outputs": [],
   "source": [
    "class Complement:\n",
    "    def __init__(self, e): self.e = e\n",
    "    def __repr__(self): return '~(' + str(self.e) + ')'\n",
    "\n",
    "class Intersection:\n",
    "    def __init__(self, e1, e2): self.e1, self.e2 = e1, e2\n",
    "    def __repr__(self): return '(' + str(self.e1) + '&' + str(self.e2) + ')'"
   ]
  },
  {
   "cell_type": "markdown",
   "metadata": {},
   "source": [
    "### Extended Regular Expression to Finite State Automaton"
   ]
  },
  {
   "cell_type": "markdown",
   "metadata": {
    "slideshow": {
     "slide_type": "slide"
    }
   },
   "source": [
    "<img style=\"width:16em;float:right;border-left:2em solid white\" src=\"./img/dfacomplement.svg\"></img>\n",
    "Consider a deterministic automaton `A = (T, Q, R, q₀, F)` where the transition relation is total. An automaton `A'` for accepting the complement of `L(A)` is obtained by simply swapping final and non-final states swapped, i.e. `A' = (T, Q, R, q₀, Q – F)`. \n",
    "\n",
    "From De Morgan and double negation, we can conclude that:\n",
    "\n",
    "```\n",
    "E₁ & E₂ = ~(~E₁ | ~E₂)\n",
    "```\n",
    "\n",
    "Thus, an automaton for accepting `E₁ & E₂` can be constructed by constructing one for `~(~E₁ | ~E₂)` instead. The Python implementation extends the previous implementation with cases for complement and intersection:"
   ]
  },
  {
   "cell_type": "code",
   "execution_count": null,
   "metadata": {
    "slideshow": {
     "slide_type": "slide"
    }
   },
   "outputs": [],
   "source": [
    "def REToFSA(re) -> FiniteStateAutomaton:\n",
    "    global QC\n",
    "    if re == '': q = QC; QC += 1; return FiniteStateAutomaton(set(), {q}, set(), q, {q})\n",
    "    elif type(re) == str:\n",
    "        q = QC; QC += 1; r = QC; QC += 1\n",
    "        return FiniteStateAutomaton({re}, {q, r}, {(q, re, r)}, q, {r})\n",
    "    elif type(re) == Complement:\n",
    "        t = QC; QC += 1 # t is uniquely named trap state\n",
    "        A = totalFSA(deterministicFSA(REToFSA(re.e)), t)\n",
    "        return FiniteStateAutomaton(A.T, A.Q, A.R, A.q0, A.Q - A.F)\n",
    "    elif type(re) == Choice:\n",
    "        A1, A2 = REToFSA(re.e1), REToFSA(re.e2)\n",
    "        R2 = {(A1.q0 if q == A2.q0 else q, a, r) for (q, a, r) in A2.R} # A2.q0 renamed to A1.q0 in A2.R\n",
    "        F2 = {A1.q0 if q == A2.q0 else q for q in A2.F} # A2.q0 renamed to A1.q0 in A2.F\n",
    "        return FiniteStateAutomaton(A1.T | A2.T, A1.Q | A2.Q, A1.R | R2, A1.q0, A1.F | F2)\n",
    "    elif type(re) == Intersection:\n",
    "        return REToFSA(Complement(Choice(Complement(re.e1), Complement(re.e2))))\n",
    "    elif type(re) == Conc:\n",
    "        A1, A2 = REToFSA(re.e1), REToFSA(re.e2)\n",
    "        R = A1.R | {(f, a, r) for (q, a, r) in A2.R if q == A2.q0 for f in A1.F} | \\\n",
    "            {(q, a, r) for (q, a, r) in A2.R if q != A2.q0}\n",
    "        F = (A2.F - {A2.q0}) | (A1.F if A2.q0 in A2.F else set())\n",
    "        return FiniteStateAutomaton(A1.T | A2.T, A1.Q | A2.Q, R, A1.q0, F)\n",
    "    elif type(re) == Star:\n",
    "        A = REToFSA(re.e)\n",
    "        R = A.R | {(f, a, r) for (q, a, r) in A.R if q == A.q0 for f in A.F}\n",
    "        return FiniteStateAutomaton(A.T, A.Q, R, A.q0, {A.q0} | A.F)\n",
    "    else: raise Exception('not a regular expression')\n",
    "\n",
    "def convertRegExToFSA(re):\n",
    "    global QC; QC = 0\n",
    "    return REToFSA(re)"
   ]
  },
  {
   "cell_type": "markdown",
   "metadata": {
    "slideshow": {
     "slide_type": "slide"
    }
   },
   "source": [
    "Continuing with `a*&~(aaa)`, we see that `aaa` is not accepted, but other sequences are:"
   ]
  },
  {
   "cell_type": "code",
   "execution_count": null,
   "metadata": {},
   "outputs": [],
   "source": [
    "E9 = Intersection(Star('a'), Complement(Conc(Conc('a', 'a'), 'a'))) # a*&~(aaa)\n",
    "A9 = deterministicFSA(convertRegExToFSA(E9))"
   ]
  },
  {
   "cell_type": "code",
   "execution_count": null,
   "metadata": {},
   "outputs": [],
   "source": [
    "assert accepts(A9, '')\n",
    "assert accepts(A9, 'a')\n",
    "assert not accepts(A9, 'b')\n",
    "assert not accepts(A9, 'aaa')\n",
    "assert accepts(A9, 'aaaa')"
   ]
  },
  {
   "cell_type": "markdown",
   "metadata": {},
   "source": [
    "Here is the generated automaton after minimization and renaming:"
   ]
  },
  {
   "cell_type": "code",
   "execution_count": null,
   "metadata": {},
   "outputs": [],
   "source": [
    "# renameFSA(minimizeFSA(A9)) #uncomment: long output"
   ]
  },
  {
   "cell_type": "markdown",
   "metadata": {
    "slideshow": {
     "slide_type": "slide"
    }
   },
   "source": [
    "Here are tests showing that `(aa)*&(aaa)*` includes only sequences over `a` with length being a multiple of `6`: "
   ]
  },
  {
   "cell_type": "code",
   "execution_count": null,
   "metadata": {},
   "outputs": [],
   "source": [
    "E10 = Intersection(Star(Conc('a', 'a')), Star(Conc(Conc('a', 'a'), 'a'))) # (aa)*&(aaa)*\n",
    "A10 = deterministicFSA(convertRegExToFSA(E10))"
   ]
  },
  {
   "cell_type": "code",
   "execution_count": null,
   "metadata": {},
   "outputs": [],
   "source": [
    "assert accepts(A10, '')\n",
    "assert not accepts(A10, 'aa')\n",
    "assert not accepts(A10, 'aaa')\n",
    "assert accepts(A10, 'aaaaaa')\n",
    "assert not accepts(A10, 'aaaaaaa')"
   ]
  },
  {
   "cell_type": "markdown",
   "metadata": {},
   "source": [
    "Using the procedure `equivalentFSA`, we can check that indeed `(aa)*&(aaa)* = (aaaaaa)*`:"
   ]
  },
  {
   "cell_type": "code",
   "execution_count": null,
   "metadata": {},
   "outputs": [],
   "source": [
    "E11 = Star(Conc(Conc(Conc(Conc(Conc('a', 'a'), 'a'), 'a'),'a'),'a'))\n",
    "assert equivalentFSA(A10, convertRegExToFSA(E11))"
   ]
  },
  {
   "cell_type": "markdown",
   "metadata": {
    "heading_collapsed": true,
    "slideshow": {
     "slide_type": "slide"
    }
   },
   "source": [
    "### Historic Notes and Further Reading"
   ]
  },
  {
   "cell_type": "markdown",
   "metadata": {
    "slideshow": {
     "slide_type": "slide"
    }
   },
   "source": [
    "### Bibliography\n",
    "\n",
    "<div class=\"cite2c-biblio\"></div>"
   ]
  },
  {
   "cell_type": "markdown",
   "metadata": {},
   "source": [
    "<div class=\"cite2c-biblio\"></div>"
   ]
  }
 ],
 "metadata": {
  "kernelspec": {
   "display_name": "Python 3 (ipykernel)",
   "language": "python",
   "name": "python3"
  },
  "language_info": {
   "codemirror_mode": {
    "name": "ipython",
    "version": 3
   },
   "file_extension": ".py",
   "mimetype": "text/x-python",
   "name": "python",
   "nbconvert_exporter": "python",
   "pygments_lexer": "ipython3",
   "version": "3.11.1"
  },
  "livereveal": {
   "scroll": true
  },
  "rise": {
   "enable_chalkboard": true
  }
 },
 "nbformat": 4,
 "nbformat_minor": 4
}
