{
 "cells": [
  {
   "cell_type": "markdown",
   "metadata": {
    "tags": []
   },
   "source": [
    "#### Parameter Passing"
   ]
  },
  {
   "cell_type": "markdown",
   "metadata": {
    "tags": []
   },
   "source": [
    "For a procedure `p` with a single formal parameter `x`,\n",
    "```Pascal\n",
    "procedure p(x: T)\n",
    "  S\n",
    "```\n",
    "we study the effect of different parameter passing mechanisms for the call `p(a)` with actual parameter `a`. The actual parameter can be an arbitrary expression, like `b[i, i + j]`. When a parameter is _determined_, all the expressions it depends on are evaluated. For example, if `i = 2` and `j = 3`, parameter `b[i, i + j]` is determined to be `b[2, 5]`. This is different from *evaluating* `b[i, i + j]`: we are not interested in the value of that expression as it may refer to something that can be assigned to (sometimes called an *l-value*, in contrast to an *r-value*, taking the names from the position in assignment statements). For the actual parameter `a`, we let `aa̅` be the determined parameter. The notation `E[x := F]` stands for replacing every occurrence of `x` in `E` with `F`.\n",
    "\n",
    "\n",
    "- Call by value. The actual parameter is determined on entry and then copied to the formal parameter:\n",
    "```Pascal\n",
    "p(a)   =   var x: T; x := a̅; S\n",
    "```\n",
    "\n",
    "\n",
    "- Call by result. The actual parameter is determined on entry and then assigned to on exit:\n",
    "```Pascal\n",
    "p(a)   =   var x: T; S; a̅ := x\n",
    "```\n",
    "\n",
    "\n",
    "- Call by value/result. The actual parameter is determined on entry and copied to the formal parameters as well as assigned to on exit:\n",
    "```Pascal\n",
    "p(a)   =   var x: T; x := a̅; S; a̅ := x\n",
    "```\n",
    "\n",
    "\n",
    "- Call by reference. The actual parameter is determined on entry. Every occurrence of the formal parameter refers to the actual parameter:\n",
    "```Pascal\n",
    "p(a)   =   S[x := a̅]\n",
    "```\n",
    "\n",
    "\n",
    "- Call by name. Every occurrence of the formal parameter refers to the actual parameter:\n",
    "```Pascal\n",
    "p(a)   =   S[x := a]\n",
    "```"
   ]
  },
  {
   "cell_type": "markdown",
   "metadata": {},
   "source": [
    "Consider following program:\n",
    "```Pascal\n",
    "var b: [0 .. 9] → integer\n",
    "var i: integer\n",
    "procedure q(x: integer)\n",
    "  i := x ; x := 7\n",
    "```\n",
    "\n",
    "Assuming that initially `b[0] = 1`, `b[1] = 2`, `b[2] = 3`, ..., and `i = 3`, what are the final values of `i` and `a` after\n",
    "```\n",
    "q(b[i])\n",
    "```\n",
    "with the five different parameter passing mechanisms? Use above definitions to argue!"
   ]
  },
  {
   "cell_type": "markdown",
   "metadata": {},
   "source": [
    "YOUR ANSWER HERE"
   ]
  },
  {
   "cell_type": "markdown",
   "metadata": {},
   "source": [
    "*Instructor's Answer.*"
   ]
  },
  {
   "cell_type": "markdown",
   "metadata": {
    "tags": []
   },
   "source": [
    "- Call by value: \n",
    "```Pascal\n",
    "q(b[i])   =   (var x: integer; x := b[3] ; i := x; x := 7 )\n",
    "```\n",
    "Here, `x := b[3]` assigns `4` to `x`, so finally `i = 4` and `b` is unchanged.\n",
    "\n",
    "\n",
    "- Call by result:\n",
    "```Pascal\n",
    "q(b[i])   =   (var x: integer; i := x; x := 7; b[3] := x)\n",
    "```\n",
    "Here, `i := x` assigns an arbitrary initial value of `x` to `i`, So finally `i` has some value and `b[3] = 7`. Note how the parameter `b[i]` is determined before the call.\n",
    "\n",
    "\n",
    "- Call by value/result:\n",
    "```Pascal\n",
    "q(b[i])   =   (var x: integer; x := b[3] ; i := x; x := 7; b[3] := x)\n",
    "```\n",
    "Again, `x := b[3]` assigns `4` to `x`, so finally `i = 4` and `b[3] = 7`.\n",
    "\n",
    "\n",
    "- Call by reference, meaning that `x` refers to `b[3]`:\n",
    "```Pascal\n",
    "q(b[i])   =   (i := x; x := 7)[x := b[3]]\n",
    "               =   i := b[3]; b[3] := 7\n",
    "```\n",
    "So finally `i = 4` and `b[3] = 7`.\n",
    "\n",
    "\n",
    "- Call by name, meaning that `x` refers to `b[i]`:\n",
    "```Pascal\n",
    "q(b[i])   =   (i := x; x := 7)[x := b[i]]\n",
    "               =   i := b[i]; b[i] := 7\n",
    "```\n",
    "Here, `i := b[i]` assigns `4` to `i`, so finally `i = 4` and `b[4] = 7`."
   ]
  },
  {
   "cell_type": "markdown",
   "metadata": {},
   "source": [
    "With call by name, the actual parameter is evaluated each time it is referred to, which may be not at all or may be multiple times. Historically, Algol 60 used call by name because of the simple explanation by substitution; later imperative languages abandoned call by name because of the complexity of the implementation, which requires passing pointers to (parameterless) functions, called [thunks](https://www2.cs.sfu.ca/~cameron/Teaching/383/PassByName.html), for every parameter and calling a thunk for each occurrence of a formal parameter. Functional languages like [Scala](https://tpolecat.github.io/2014/06/26/call-by-name.html) use call by name; it is related to *lazy evaluation* in that the evaluation of the parameter is by need, but with lazy evaluation the actual parameter is only evaluated once, the first time referred to."
   ]
  }
 ],
 "metadata": {
  "kernelspec": {
   "display_name": "Python 3 (ipykernel)",
   "language": "python",
   "name": "python3"
  },
  "language_info": {
   "codemirror_mode": {
    "name": "ipython",
    "version": 3
   },
   "file_extension": ".py",
   "mimetype": "text/x-python",
   "name": "python",
   "nbconvert_exporter": "python",
   "pygments_lexer": "ipython3",
   "version": "3.11.1"
  }
 },
 "nbformat": 4,
 "nbformat_minor": 4
}
