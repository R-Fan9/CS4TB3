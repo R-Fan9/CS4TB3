{
 "cells": [
  {
   "cell_type": "markdown",
   "metadata": {
    "tags": []
   },
   "source": [
    "### Packrat Parsing"
   ]
  },
  {
   "cell_type": "markdown",
   "metadata": {
    "tags": []
   },
   "source": [
    "Consider the following grammar, which is similar to the one in the course notes:\n",
    "\n",
    "    S ← &(AB c) a* BC !.\n",
    "    AB ← (a AB b)?\n",
    "    BC ← (b BC c)?"
   ]
  },
  {
   "cell_type": "markdown",
   "metadata": {},
   "source": [
    "What language does the grammar parse?"
   ]
  },
  {
   "cell_type": "markdown",
   "metadata": {},
   "source": [
    "YOUR ANSWER HERE"
   ]
  },
  {
   "cell_type": "markdown",
   "metadata": {},
   "source": [
    "*Instructor's Answer:*\n",
    "\n",
    " `aⁿbⁿcⁿ` for `n ≥ 1`"
   ]
  },
  {
   "cell_type": "markdown",
   "metadata": {},
   "source": [
    "Construct first a backtracking parser and then a memoizing parser, following closely the rules from the course notes!"
   ]
  },
  {
   "cell_type": "code",
   "execution_count": 13,
   "metadata": {},
   "outputs": [],
   "source": [
    "class Backtrack:\n",
    "    src: str\n",
    "\n",
    "    def literal(self, k: int, a: str):\n",
    "        if self.src.startswith(a, k): return k + len(a) # else return None\n",
    "\n",
    "    def S(self, k: int): # S ← &(AB c) a* BC !.\n",
    "        #&(AB !b)\n",
    "        r = k\n",
    "        k = self.AB(k)\n",
    "        if k != None: k = self.literal(k, 'c')\n",
    "        if k != None: k = r\n",
    "        if k != None: #a* BC !.\n",
    "            while k != None:\n",
    "                r = k; k = self.literal(k, 'a')\n",
    "            k = r\n",
    "            if k != None: # BC !.\n",
    "                k = self.BC(k)\n",
    "                r = k\n",
    "                k =  k + 1 if k < len(self.src) else None\n",
    "                k = r if k == None else None\n",
    "        return k\n",
    "\n",
    "    def AB(self, k: int): # AB ← (a AB b)?\n",
    "        r = k\n",
    "        k = self.literal(k, 'a')\n",
    "        if k != None:\n",
    "            k = self.AB(k)\n",
    "            if k != None: k = self.literal(k, 'b')\n",
    "        if k == None: k = r\n",
    "        return k\n",
    "\n",
    "    def BC(self, k: int): # BC ← (b BC c)?\n",
    "        r = k\n",
    "        k = self.literal(k, 'b')\n",
    "        if k != None:\n",
    "            k = self.BC(k)\n",
    "            if k != None: k = self.literal(k, 'c')\n",
    "        if k == None: k = r\n",
    "        return k\n",
    "\n",
    "    def parse(self, s: str):\n",
    "        self.src = s; return self.S(0)"
   ]
  },
  {
   "cell_type": "markdown",
   "metadata": {},
   "source": [
    "Write some test cases!"
   ]
  },
  {
   "cell_type": "code",
   "execution_count": 14,
   "metadata": {},
   "outputs": [],
   "source": [
    "pb = Backtrack()"
   ]
  },
  {
   "cell_type": "code",
   "execution_count": 15,
   "metadata": {},
   "outputs": [
    {
     "name": "stdout",
     "output_type": "stream",
     "text": [
      "None\n"
     ]
    }
   ],
   "source": [
    "print(pb.parse('abbc'))"
   ]
  },
  {
   "cell_type": "code",
   "execution_count": 7,
   "metadata": {},
   "outputs": [],
   "source": [
    "class Memoizing(Backtrack):\n",
    "    sm: dict # for memoizing S\n",
    "    abm: dict # for memoizing AB\n",
    "    bcm: dict # for memoizing BC\n",
    "    def S(self, k: int):\n",
    "        if k not in self.sm: self.sm[k] = super().S(k)\n",
    "        return print('sm', k); self.sm[k]\n",
    "    def AB(self, k: int):\n",
    "        if k not in self.abm: self.abm[k] = super().AB(k)\n",
    "        return print('abm', k); self.abm[k]\n",
    "    def BC(self, k: int):\n",
    "        if k not in self.bcm: self.bcm[k] = super().BC(k)\n",
    "        return print('bcm', k); self.bcm[k]\n",
    "    def parse(self, s: str):\n",
    "        self.sm, self.abm, self.bcm = {}, {}, {}\n",
    "        return super().parse(s)"
   ]
  },
  {
   "cell_type": "code",
   "execution_count": 8,
   "metadata": {},
   "outputs": [],
   "source": [
    "pm = Memoizing()"
   ]
  },
  {
   "cell_type": "code",
   "execution_count": 9,
   "metadata": {},
   "outputs": [],
   "source": [
    "pb.parse('abbc')"
   ]
  }
 ],
 "metadata": {
  "kernelspec": {
   "display_name": "Python 3 (ipykernel)",
   "language": "python",
   "name": "python3"
  },
  "language_info": {
   "codemirror_mode": {
    "name": "ipython",
    "version": 3
   },
   "file_extension": ".py",
   "mimetype": "text/x-python",
   "name": "python",
   "nbconvert_exporter": "python",
   "pygments_lexer": "ipython3",
   "version": "3.11.1"
  }
 },
 "nbformat": 4,
 "nbformat_minor": 4
}
