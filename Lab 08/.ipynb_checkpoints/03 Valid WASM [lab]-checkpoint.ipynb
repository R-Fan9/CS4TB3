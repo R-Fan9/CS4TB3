{
 "cells": [
  {
   "cell_type": "markdown",
   "metadata": {},
   "source": [
    "#### Valid WASM"
   ]
  },
  {
   "cell_type": "code",
   "execution_count": null,
   "metadata": {},
   "outputs": [],
   "source": [
    "def runwasm(wasmfile):\n",
    "    from IPython.display import display, Javascript\n",
    "    display(Javascript(\"\"\"\n",
    "    const params = {\n",
    "        P0lib: {\n",
    "            write: i => element.append(i + ' '),\n",
    "            writeln: () => element.append(document.createElement('br')),\n",
    "            read: () => window.prompt()\n",
    "        }\n",
    "    }\n",
    "    \n",
    "    var wasmByteString = \\\"\"\"\" + str(open(wasmfile, \"rb\").read()) + \"\"\"\\\"; // pass the wasm file to JavaScript as byte string\n",
    "    wasmByteString = wasmByteString.substring(2, wasmByteString.length - 1); // remove the byte literals b'...'\n",
    "    const wasmArrayBuffer = new Uint8Array(wasmByteString.length); // convert the binary string to ArrayBuffer\n",
    "    for (let i = 0; i < wasmByteString.length; i++)\n",
    "      wasmArrayBuffer[i] = wasmByteString.charCodeAt(i);\n",
    "    \n",
    "    WebAssembly.compile(wasmArrayBuffer.buffer) // compile (sharable) code\n",
    "        .then(module => WebAssembly.instantiate(module, params)) // create an instance with memory\n",
    "        // .then(instance => instance.exports.program()); // run the main program; not needed if a start function is specified\n",
    "     \"\"\"))"
   ]
  },
  {
   "cell_type": "code",
   "execution_count": null,
   "metadata": {},
   "outputs": [],
   "source": [
    "def runpywasm(wasmfile):\n",
    "    import pywasm\n",
    "    def write(s, i): print(i, end=' ')\n",
    "    def writeln(s): print()\n",
    "    def read(s): return int(input())\n",
    "    vm = pywasm.load(wasmfile, {'P0lib': {'write': write, 'writeln': writeln, 'read': read}})"
   ]
  },
  {
   "cell_type": "code",
   "execution_count": null,
   "metadata": {},
   "outputs": [],
   "source": [
    "from wasmer import engine, Store, Module, Instance, ImportObject, Function\n",
    "from wasmer_compiler_cranelift import Compiler\n",
    "\n",
    "def runwasmer(wasmfile):\n",
    "    def write(i: int): print(i, end=' ')\n",
    "    def writeln(): print()\n",
    "    def read() -> int: return int(input()) \n",
    "    store = Store(engine.JIT(Compiler))\n",
    "    module = Module(store, open(wasmfile, 'rb').read())\n",
    "    import_object = ImportObject()\n",
    "    import_object.register(\"P0lib\", {\"write\": Function(store, write),\n",
    "                                     \"writeln\": Function(store, writeln),\"read\": Function(store, read)})\n",
    "    instance = Instance(module, import_object)"
   ]
  },
  {
   "cell_type": "markdown",
   "metadata": {},
   "source": [
    "Consider following WebAssembly programs. For each, argue if it is valid or not (i.e. produces an error when being loaded), if it traps at run-time, or if it works without error. In the last case, argue what it does. Use `!wat2wasm ...`, `runwasm(...)`, `runpywasm(...)`, and `runwasmer(...)` to check your answer! "
   ]
  },
  {
   "cell_type": "code",
   "execution_count": null,
   "metadata": {},
   "outputs": [],
   "source": [
    "%%writefile a.wat\n",
    "(module\n",
    "  (import \"P0lib\" \"write\" (func $write (param i32)))\n",
    "  (func $program\n",
    "    i32.const 3\n",
    "    i32.const 4\n",
    "    i32.add\n",
    "    i32.add\n",
    "  )\n",
    "  (start $program)\n",
    ")"
   ]
  },
  {
   "cell_type": "markdown",
   "metadata": {
    "solution": "hidden",
    "solution_first": true
   },
   "source": [
    "YOUR ANSWER HERE"
   ]
  },
  {
   "cell_type": "code",
   "execution_count": null,
   "metadata": {
    "tags": []
   },
   "outputs": [],
   "source": [
    "!wat2wasm a.wat"
   ]
  },
  {
   "cell_type": "code",
   "execution_count": null,
   "metadata": {},
   "outputs": [],
   "source": [
    "%%writefile b.wat\n",
    "(module\n",
    "  (import \"P0lib\" \"write\" (func $write (param i32)))\n",
    "  (global $x (mut i32) i32.const 3)\n",
    "  (global $y (mut i32) i32.const 5)\n",
    "  (func $program\n",
    "    global.get $x\n",
    "    global.get $y\n",
    "    i32.gt_s\n",
    "    if\n",
    "      global.get $x\n",
    "      call $write\n",
    "    else\n",
    "      global.get $y\n",
    "    end\n",
    "  )\n",
    "  (start $program)\n",
    ")"
   ]
  },
  {
   "cell_type": "markdown",
   "metadata": {
    "solution": "hidden",
    "solution_first": true
   },
   "source": [
    "YOUR ANSWER HERE"
   ]
  },
  {
   "cell_type": "code",
   "execution_count": null,
   "metadata": {
    "tags": []
   },
   "outputs": [],
   "source": [
    "!wat2wasm b.wat"
   ]
  },
  {
   "cell_type": "code",
   "execution_count": null,
   "metadata": {},
   "outputs": [],
   "source": [
    "%%writefile c.wat\n",
    "(module\n",
    "  (import \"P0lib\" \"write\" (func $write (param i32)))\n",
    "  (global $x (mut i32) i32.const 3)\n",
    "  (global $y (mut i32) i32.const 5)\n",
    "  (func $program\n",
    "    global.get $x\n",
    "    global.get $y\n",
    "    i32.gt_s\n",
    "    if (result i32)\n",
    "      global.get $x\n",
    "    else\n",
    "      global.get $y\n",
    "    end\n",
    "    call $write\n",
    "  )\n",
    "  (start $program)\n",
    ")"
   ]
  },
  {
   "cell_type": "markdown",
   "metadata": {
    "solution": "hidden",
    "solution_first": true
   },
   "source": [
    "YOUR ANSWER HERE"
   ]
  },
  {
   "cell_type": "code",
   "execution_count": null,
   "metadata": {
    "tags": []
   },
   "outputs": [],
   "source": [
    "!wat2wasm c.wat"
   ]
  },
  {
   "cell_type": "code",
   "execution_count": null,
   "metadata": {},
   "outputs": [],
   "source": [
    "%%writefile d.wat\n",
    "(module\n",
    "  (import \"P0lib\" \"write\" (func $write (param i32)))\n",
    "  (global $x (mut i32) i32.const 5)\n",
    "  (global $y (mut i32) i32.const 0)\n",
    "  (func $program\n",
    "    global.get $x\n",
    "    global.get $y\n",
    "    i32.div_s\n",
    "    call $write\n",
    "  )\n",
    "  (start $program)\n",
    ")"
   ]
  },
  {
   "cell_type": "markdown",
   "metadata": {
    "solution": "hidden",
    "solution_first": true
   },
   "source": [
    "YOUR ANSWER HERE"
   ]
  },
  {
   "cell_type": "code",
   "execution_count": null,
   "metadata": {},
   "outputs": [],
   "source": [
    "%%writefile e.wat\n",
    "(module\n",
    "  (import \"P0lib\" \"write\" (func $write (param i32)))\n",
    "  (func $program\n",
    "    i32.const 0\n",
    "    i32.const 3\n",
    "    i32.store offset=0\n",
    "    i32.const 4\n",
    "    i32.const 5\n",
    "    i32.store offset=0\n",
    "    i32.const 0\n",
    "    i32.load offset=0\n",
    "    i32.const 0\n",
    "    i32.load offset=4\n",
    "    i32.add\n",
    "    call $write\n",
    "  )\n",
    "  (memory 1)\n",
    "  (start $program)\n",
    ")"
   ]
  },
  {
   "cell_type": "markdown",
   "metadata": {
    "solution": "hidden",
    "solution_first": true
   },
   "source": [
    "YOUR ANSWER HERE"
   ]
  },
  {
   "cell_type": "code",
   "execution_count": null,
   "metadata": {},
   "outputs": [],
   "source": [
    "%%writefile f.wat\n",
    "(module\n",
    "  (import \"P0lib\" \"write\" (func $write (param i32)))\n",
    "  (func $program\n",
    "    i32.const 0\n",
    "    i32.const 3\n",
    "    i32.store offset=0\n",
    "    i32.const 0\n",
    "    i32.const 5\n",
    "    i32.store offset=4\n",
    "    i32.const -4\n",
    "    i32.load offset=0\n",
    "    i32.const 4\n",
    "    i32.load offset=0\n",
    "    i32.add\n",
    "    call $write\n",
    "  )\n",
    "  (memory 1)\n",
    "  (start $program)\n",
    ")"
   ]
  },
  {
   "cell_type": "markdown",
   "metadata": {
    "solution": "hidden",
    "solution_first": true
   },
   "source": [
    "YOUR ANSWER HERE"
   ]
  },
  {
   "cell_type": "code",
   "execution_count": null,
   "metadata": {},
   "outputs": [],
   "source": [
    "%%writefile g.wat\n",
    "(module\n",
    "  (import \"P0lib\" \"write\" (func $write (param i32)))\n",
    "  (func $max (param $x i32) (param $y i32) (result i32)\n",
    "    (local $m i32)\n",
    "    local.get $x\n",
    "    local.get $y\n",
    "    i32.gt_s\n",
    "    if\n",
    "      local.get $x\n",
    "      local.set $m\n",
    "    else\n",
    "      local.get $y\n",
    "      local.set $m\n",
    "    end\n",
    "    local.get $m\n",
    "  )\n",
    "  (func $program\n",
    "    i32.const 3\n",
    "    i32.const 5\n",
    "    call $max\n",
    "    call $write\n",
    "  )\n",
    "  (start $program)\n",
    ")"
   ]
  },
  {
   "cell_type": "markdown",
   "metadata": {
    "solution": "hidden",
    "solution_first": true
   },
   "source": [
    "YOUR ANSWER HERE"
   ]
  },
  {
   "cell_type": "code",
   "execution_count": null,
   "metadata": {},
   "outputs": [],
   "source": [
    "%%writefile h.wat\n",
    "(module\n",
    "  (import \"P0lib\" \"write\" (func $write (param i32)))\n",
    "  (func $max (param $x i32) (param $y i32) (result i32)\n",
    "    (local $m i32)\n",
    "    local.get $x\n",
    "    local.get $y\n",
    "    i32.gt_s\n",
    "    if\n",
    "      local.get $x\n",
    "      local.set $m\n",
    "    else\n",
    "      local.get $y\n",
    "      local.set $m\n",
    "    end\n",
    "    local.get $m\n",
    "  )\n",
    "  (func $program\n",
    "    i32.const 3\n",
    "    call $max\n",
    "    call $write\n",
    "  )\n",
    "  (start $program)\n",
    ")"
   ]
  },
  {
   "cell_type": "markdown",
   "metadata": {
    "solution": "hidden",
    "solution_first": true
   },
   "source": [
    "YOUR ANSWER HERE"
   ]
  },
  {
   "cell_type": "code",
   "execution_count": null,
   "metadata": {},
   "outputs": [],
   "source": [
    "%%writefile i.wat\n",
    "(module\n",
    "  (import \"P0lib\" \"write\" (func $write (param i32)))\n",
    "  (func $max (param $x i32) (param $y i32) (result i32)\n",
    "    (local $m i32)\n",
    "    local.get $x\n",
    "    local.get $y\n",
    "    i32.gt_s\n",
    "    if\n",
    "      local.get $x\n",
    "      local.set $m\n",
    "    else\n",
    "      local.get $y\n",
    "      local.set $m\n",
    "    end\n",
    "  )\n",
    "  (func $program\n",
    "    i32.const 3\n",
    "    i32.const 5\n",
    "    call $max\n",
    "    call $write\n",
    "    i32.const 9\n",
    "  )\n",
    "  (start $program)\n",
    ")"
   ]
  },
  {
   "cell_type": "markdown",
   "metadata": {
    "solution": "hidden",
    "solution_first": true
   },
   "source": [
    "YOUR ANSWER HERE"
   ]
  },
  {
   "cell_type": "code",
   "execution_count": null,
   "metadata": {},
   "outputs": [],
   "source": [
    "%%writefile j.wat\n",
    "(module\n",
    "  (import \"P0lib\" \"write\" (func $write (param i32)))\n",
    "  (func $program\n",
    "    (local $x i32)\n",
    "    block\n",
    "      i32.const 5\n",
    "      local.set $x\n",
    "      br 0\n",
    "      i32.const 7\n",
    "      local.set $x\n",
    "    end\n",
    "    local.get $x\n",
    "    call $write\n",
    "  )\n",
    "  (start $program)\n",
    ")"
   ]
  },
  {
   "cell_type": "markdown",
   "metadata": {
    "solution": "hidden",
    "solution_first": true
   },
   "source": [
    "YOUR ANSWER HERE"
   ]
  },
  {
   "cell_type": "code",
   "execution_count": null,
   "metadata": {},
   "outputs": [],
   "source": [
    "%%writefile k.wat\n",
    "(module\n",
    "  (import \"P0lib\" \"write\" (func $write (param i32)))\n",
    "  (func $program\n",
    "    (local $x i32)\n",
    "    block\n",
    "      i32.const 5\n",
    "      local.set $x\n",
    "      br 1\n",
    "      i32.const 7\n",
    "      local.set $x\n",
    "    end\n",
    "    local.get $x\n",
    "    call $write\n",
    "  )\n",
    "  (start $program)\n",
    ")"
   ]
  },
  {
   "cell_type": "markdown",
   "metadata": {
    "solution": "hidden",
    "solution_first": true
   },
   "source": [
    "YOUR ANSWER HERE"
   ]
  },
  {
   "cell_type": "code",
   "execution_count": null,
   "metadata": {},
   "outputs": [],
   "source": [
    "%%writefile l.wat\n",
    "(module\n",
    "  (import \"P0lib\" \"write\" (func $write (param i32)))\n",
    "  (func $program\n",
    "    (local $x i32)\n",
    "    block\n",
    "      i32.const 5\n",
    "      local.set $x\n",
    "      br 2\n",
    "      i32.const 7\n",
    "      local.set $x\n",
    "    end\n",
    "    local.get $x\n",
    "    call $write\n",
    "  )\n",
    "  (start $program)\n",
    ")"
   ]
  },
  {
   "cell_type": "markdown",
   "metadata": {
    "solution": "hidden",
    "solution_first": true
   },
   "source": [
    "YOUR ANSWER HERE"
   ]
  }
 ],
 "metadata": {
  "kernelspec": {
   "display_name": "Python 3 (ipykernel)",
   "language": "python",
   "name": "python3"
  },
  "language_info": {
   "codemirror_mode": {
    "name": "ipython",
    "version": 3
   },
   "file_extension": ".py",
   "mimetype": "text/x-python",
   "name": "python",
   "nbconvert_exporter": "python",
   "pygments_lexer": "ipython3",
   "version": "3.11.1"
  }
 },
 "nbformat": 4,
 "nbformat_minor": 4
}
