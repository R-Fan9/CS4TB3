{
 "cells": [
  {
   "cell_type": "markdown",
   "metadata": {},
   "source": [
    "#### Sum of 10 Numbers"
   ]
  },
  {
   "cell_type": "code",
   "execution_count": 1,
   "metadata": {},
   "outputs": [],
   "source": [
    "def runwasm(wasmfile):\n",
    "    from IPython.display import display, Javascript\n",
    "    display(Javascript(\"\"\"\n",
    "    const params = {\n",
    "        P0lib: {\n",
    "            write: i => element.append(i + ' '),\n",
    "            writeln: () => element.append(document.createElement('br')),\n",
    "            read: () => window.prompt()\n",
    "        }\n",
    "    }\n",
    "    \n",
    "    var wasmByteString = \\\"\"\"\" + str(open(wasmfile, \"rb\").read()) + \"\"\"\\\"; // pass the wasm file to JavaScript as byte string\n",
    "    wasmByteString = wasmByteString.substring(2, wasmByteString.length - 1); // remove the byte literals b'...'\n",
    "    const wasmArrayBuffer = new Uint8Array(wasmByteString.length); // convert the binary string to ArrayBuffer\n",
    "    for (let i = 0; i < wasmByteString.length; i++)\n",
    "      wasmArrayBuffer[i] = wasmByteString.charCodeAt(i);\n",
    "    \n",
    "    WebAssembly.compile(wasmArrayBuffer.buffer) // compile (sharable) code\n",
    "        .then(module => WebAssembly.instantiate(module, params)) // create an instance with memory\n",
    "        // .then(instance => instance.exports.program()); // run the main program; not needed if a start function is specified\n",
    "     \"\"\"))"
   ]
  },
  {
   "cell_type": "code",
   "execution_count": 2,
   "metadata": {},
   "outputs": [],
   "source": [
    "def runpywasm(wasmfile):\n",
    "    import pywasm\n",
    "    def write(s, i): print(i, end=' ')\n",
    "    def writeln(s): print()\n",
    "    def read(s): return int(input())\n",
    "    vm = pywasm.load(wasmfile, {'P0lib': {'write': write, 'writeln': writeln, 'read': read}})"
   ]
  },
  {
   "cell_type": "code",
   "execution_count": 3,
   "metadata": {},
   "outputs": [],
   "source": [
    "from wasmer import engine, Store, Module, Instance, ImportObject, Function\n",
    "from wasmer_compiler_cranelift import Compiler\n",
    "\n",
    "def runwasmer(wasmfile):\n",
    "    def write(i: int): print(i, end=' ')\n",
    "    def writeln(): print()\n",
    "    def read() -> int: return int(input()) \n",
    "    store = Store(engine.JIT(Compiler))\n",
    "    module = Module(store, open(wasmfile, 'rb').read())\n",
    "    import_object = ImportObject()\n",
    "    import_object.register(\"P0lib\", {\"write\": Function(store, write),\n",
    "                                     \"writeln\": Function(store, writeln),\"read\": Function(store, read)})\n",
    "    instance = Instance(module, import_object)"
   ]
  },
  {
   "cell_type": "markdown",
   "metadata": {},
   "source": [
    "Write a WebAssembly program that\n",
    "\n",
    "- reads 10 integers from the keyboard\n",
    "- computes their sum\n",
    "- prints the sum"
   ]
  },
  {
   "cell_type": "markdown",
   "metadata": {},
   "source": [
    "Write the program such that the sum is kept in a local variable and updated with each input."
   ]
  },
  {
   "cell_type": "code",
   "execution_count": 4,
   "metadata": {},
   "outputs": [
    {
     "name": "stdout",
     "output_type": "stream",
     "text": [
      "Writing sum10.wat\n"
     ]
    }
   ],
   "source": [
    "%%writefile sum10.wat\n",
    "(module\n",
    " (import \"P0lib\" \"write\" (func $write (param i32)))\n",
    " (import \"P0lib\" \"read\" (func $read (result i32)))\n",
    " (global $n (mut i32) i32.const 10)\n",
    " (func $program\n",
    "   (local $x i32)\n",
    "   (local $t i32)\n",
    "   i32.const 0\n",
    "   local.set $x\n",
    "   i32.const 0\n",
    "   local.set $t\n",
    "\n",
    "   loop $label0\n",
    "      local.get $x\n",
    "      global.get $n\n",
    "      i32.lt_s\n",
    "      if\n",
    "        call $read\n",
    "        local.get $t\n",
    "        i32.add\n",
    "        local.set $t\n",
    "        i32.const 1\n",
    "        local.get $x\n",
    "        i32.add\n",
    "        local.set $x\n",
    "        br $label0\n",
    "      end\n",
    "    end\n",
    "    local.get $t\n",
    "    call $write\n",
    " )\n",
    " (start $program)\n",
    ")"
   ]
  },
  {
   "cell_type": "code",
   "execution_count": 5,
   "metadata": {},
   "outputs": [
    {
     "data": {
      "application/javascript": [
       "\n",
       "    const params = {\n",
       "        P0lib: {\n",
       "            write: i => element.append(i + ' '),\n",
       "            writeln: () => element.append(document.createElement('br')),\n",
       "            read: () => window.prompt()\n",
       "        }\n",
       "    }\n",
       "    \n",
       "    var wasmByteString = \"b'\\x00asm\\x01\\x00\\x00\\x00\\x01\\x0c\\x03`\\x01\\x7f\\x00`\\x00\\x01\\x7f`\\x00\\x00\\x02\\x1c\\x02\\x05P0lib\\x05write\\x00\\x00\\x05P0lib\\x04read\\x00\\x01\\x03\\x02\\x01\\x02\\x06\\x06\\x01\\x7f\\x01A\\n\\x0b\\x08\\x01\\x02\\n-\\x01+\\x01\\x02\\x7fA\\x00!\\x00A\\x00!\\x01\\x03@ \\x00#\\x00H\\x04@\\x10\\x01 \\x01j!\\x01A\\x01 \\x00j!\\x00\\x0c\\x01\\x0b\\x0b \\x01\\x10\\x00\\x0b'\"; // pass the wasm file to JavaScript as byte string\n",
       "    wasmByteString = wasmByteString.substring(2, wasmByteString.length - 1); // remove the byte literals b'...'\n",
       "    const wasmArrayBuffer = new Uint8Array(wasmByteString.length); // convert the binary string to ArrayBuffer\n",
       "    for (let i = 0; i < wasmByteString.length; i++)\n",
       "      wasmArrayBuffer[i] = wasmByteString.charCodeAt(i);\n",
       "    \n",
       "    WebAssembly.compile(wasmArrayBuffer.buffer) // compile (sharable) code\n",
       "        .then(module => WebAssembly.instantiate(module, params)) // create an instance with memory\n",
       "        // .then(instance => instance.exports.program()); // run the main program; not needed if a start function is specified\n",
       "     "
      ],
      "text/plain": [
       "<IPython.core.display.Javascript object>"
      ]
     },
     "metadata": {},
     "output_type": "display_data"
    }
   ],
   "source": [
    "!wat2wasm sum10.wat\n",
    "runwasm(\"sum10.wasm\")"
   ]
  },
  {
   "cell_type": "code",
   "execution_count": null,
   "metadata": {},
   "outputs": [],
   "source": [
    "runpywasm(\"sum10.wasm\")"
   ]
  },
  {
   "cell_type": "code",
   "execution_count": null,
   "metadata": {},
   "outputs": [],
   "source": [
    "runwasmer(\"sum10.wasm\")"
   ]
  },
  {
   "cell_type": "markdown",
   "metadata": {},
   "source": [
    "Write a program that stores the integer first in an array in the memory (allocated at address 0) and then sums the array elements."
   ]
  },
  {
   "cell_type": "code",
   "execution_count": 11,
   "metadata": {
    "solution": "hidden",
    "solution_first": true
   },
   "outputs": [
    {
     "name": "stdout",
     "output_type": "stream",
     "text": [
      "Overwriting sum10.wat\n"
     ]
    }
   ],
   "source": [
    "%%writefile sum10.wat\n",
    "(module\n",
    " (import \"P0lib\" \"write\" (func $write (param i32)))\n",
    " (import \"P0lib\" \"read\" (func $read (result i32)))\n",
    " (global $t (mut i32) i32.const 40)    ;; total memory = 4 * 10 = 40 bytes\n",
    " (func $readAll\n",
    "   (local $t1 i32)\n",
    "   i32.const 0\n",
    "   local.set $t1\n",
    "   loop $label0\n",
    "    local.get $t1\n",
    "    call $read\n",
    "    i32.store\n",
    "    i32.const 4\n",
    "    local.get $t1\n",
    "    i32.add\n",
    "    local.set $t1\n",
    "    local.get $t1\n",
    "    global.get $t\n",
    "    i32.lt_s\n",
    "    br_if $label0\n",
    "   end\n",
    " )\n",
    " (func $addAll (result i32)\n",
    "  (local $x i32)\n",
    "  (local $t1 i32)\n",
    "  i32.const 0\n",
    "  local.set $x\n",
    "  i32.const 0\n",
    "  local.set $t1\n",
    "  loop $label1\n",
    "    local.get $t1\n",
    "    i32.load\n",
    "    local.get $x\n",
    "    i32.add\n",
    "    local.set $x\n",
    "    i32.const 4\n",
    "    local.get $t1\n",
    "    i32.add\n",
    "    local.set $t1\n",
    "    local.get $t1\n",
    "    global.get $t\n",
    "    i32.lt_s\n",
    "    br_if $label1\n",
    "  end\n",
    "  local.get $x\n",
    " )\n",
    " (func $program\n",
    "  call $readAll\n",
    "  call $addAll\n",
    "  call $write\n",
    " )\n",
    " (memory 1)\n",
    " (start $program)\n",
    ")"
   ]
  },
  {
   "cell_type": "code",
   "execution_count": 12,
   "metadata": {},
   "outputs": [
    {
     "data": {
      "application/javascript": [
       "\n",
       "    const params = {\n",
       "        P0lib: {\n",
       "            write: i => element.append(i + ' '),\n",
       "            writeln: () => element.append(document.createElement('br')),\n",
       "            read: () => window.prompt()\n",
       "        }\n",
       "    }\n",
       "    \n",
       "    var wasmByteString = \"b'\\x00asm\\x01\\x00\\x00\\x00\\x01\\x0c\\x03`\\x01\\x7f\\x00`\\x00\\x01\\x7f`\\x00\\x00\\x02\\x1c\\x02\\x05P0lib\\x05write\\x00\\x00\\x05P0lib\\x04read\\x00\\x01\\x03\\x04\\x03\\x02\\x01\\x02\\x05\\x03\\x01\\x00\\x01\\x06\\x06\\x01\\x7f\\x01A(\\x0b\\x08\\x01\\x04\\nU\\x03 \\x01\\x01\\x7fA\\x00!\\x00\\x03@ \\x00\\x10\\x016\\x02\\x00A\\x04 \\x00j!\\x00 \\x00#\\x00H\\r\\x00\\x0b\\x0b)\\x01\\x02\\x7fA\\x00!\\x00A\\x00!\\x01\\x03@ \\x01(\\x02\\x00 \\x00j!\\x00A\\x04 \\x01j!\\x01 \\x01#\\x00H\\r\\x00\\x0b \\x00\\x0b\\x08\\x00\\x10\\x02\\x10\\x03\\x10\\x00\\x0b'\"; // pass the wasm file to JavaScript as byte string\n",
       "    wasmByteString = wasmByteString.substring(2, wasmByteString.length - 1); // remove the byte literals b'...'\n",
       "    const wasmArrayBuffer = new Uint8Array(wasmByteString.length); // convert the binary string to ArrayBuffer\n",
       "    for (let i = 0; i < wasmByteString.length; i++)\n",
       "      wasmArrayBuffer[i] = wasmByteString.charCodeAt(i);\n",
       "    \n",
       "    WebAssembly.compile(wasmArrayBuffer.buffer) // compile (sharable) code\n",
       "        .then(module => WebAssembly.instantiate(module, params)) // create an instance with memory\n",
       "        // .then(instance => instance.exports.program()); // run the main program; not needed if a start function is specified\n",
       "     "
      ],
      "text/plain": [
       "<IPython.core.display.Javascript object>"
      ]
     },
     "metadata": {},
     "output_type": "display_data"
    }
   ],
   "source": [
    "!wat2wasm sum10.wat\n",
    "runwasm(\"sum10.wasm\")"
   ]
  },
  {
   "cell_type": "code",
   "execution_count": 10,
   "metadata": {},
   "outputs": [
    {
     "name": "stdin",
     "output_type": "stream",
     "text": [
      " 2\n",
      " 2\n",
      " 3\n",
      " 4\n",
      " 3\n",
      " 2\n",
      " 1\n",
      " 1\n",
      " 1\n",
      " 1\n"
     ]
    },
    {
     "name": "stdout",
     "output_type": "stream",
     "text": [
      "20 "
     ]
    }
   ],
   "source": [
    "runpywasm(\"sum10.wasm\")"
   ]
  },
  {
   "cell_type": "code",
   "execution_count": null,
   "metadata": {},
   "outputs": [],
   "source": [
    "runwasmer(\"sum10.wasm\")"
   ]
  }
 ],
 "metadata": {
  "kernelspec": {
   "display_name": "Python 3 (ipykernel)",
   "language": "python",
   "name": "python3"
  },
  "language_info": {
   "codemirror_mode": {
    "name": "ipython",
    "version": 3
   },
   "file_extension": ".py",
   "mimetype": "text/x-python",
   "name": "python",
   "nbconvert_exporter": "python",
   "pygments_lexer": "ipython3",
   "version": "3.11.1"
  }
 },
 "nbformat": 4,
 "nbformat_minor": 4
}
