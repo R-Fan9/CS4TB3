{
 "cells": [
  {
   "cell_type": "markdown",
   "metadata": {
    "deletable": false,
    "editable": false,
    "nbgrader": {
     "cell_type": "markdown",
     "checksum": "bbe2d73716ec778b760c80e442f17cb8",
     "grade": false,
     "grade_id": "cell-2efac6713426c77e",
     "locked": true,
     "schema_version": 3,
     "solution": false,
     "task": false
    },
    "tags": []
   },
   "source": [
    "### Call by Value-Result vs Reference"
   ]
  },
  {
   "cell_type": "markdown",
   "metadata": {
    "deletable": false,
    "editable": false,
    "nbgrader": {
     "cell_type": "markdown",
     "checksum": "eed45bcbd265dd49505d51d96a105150",
     "grade": false,
     "grade_id": "cell-887deb1dc2f0a134",
     "locked": true,
     "schema_version": 3,
     "solution": false,
     "task": false
    }
   },
   "source": [
    "As a reminder, here are common parameter passing mechanism when calling procedure `p(a)`:\n",
    "\n",
    "- Call by value. The actual parameter is determined on entry and then copied to the formal parameter:\n",
    "```Pascal\n",
    "p(a)   =   var x: T; x := a̅; S\n",
    "```\n",
    "\n",
    "- Call by result. The actual parameter is determined on entry and then assigned to on exit:\n",
    "```Pascal\n",
    "p(a)   =   var x: T; S; a̅ := x\n",
    "```\n",
    "\n",
    "- Call by value/result. The actual parameter is determined on entry and copied to the formal parameters as well as assigned to on exit:\n",
    "```Pascal\n",
    "p(a)   =   var x: T; x := a̅; S; a̅ := x\n",
    "```\n",
    "\n",
    "- Call by reference. The actual parameter is determined on entry. Every occurrence of the formal parameter refers to the actual parameter:\n",
    "```Pascal\n",
    "p(a)   =   S[x := a̅]\n",
    "```\n",
    "\n",
    "- Call by name. Every occurrence of the formal parameter refers to the actual parameter:\n",
    "```Pascal\n",
    "p(a)   =   S[x := a]\n",
    "```"
   ]
  },
  {
   "cell_type": "markdown",
   "metadata": {
    "deletable": false,
    "editable": false,
    "nbgrader": {
     "cell_type": "markdown",
     "checksum": "f1e1beafaa4acc670c3633d1165509c6",
     "grade": false,
     "grade_id": "cell-d51af035815e7e01",
     "locked": true,
     "schema_version": 3,
     "solution": false,
     "task": false
    },
    "tags": []
   },
   "source": [
    "Consider the following program:\n",
    "```Pascal\n",
    "var a, b: integer\n",
    "procedure q(x: integer)\n",
    "  x := a + 1; b := a\n",
    "```\n",
    "\n",
    "Suppose initially `a = 1` and `b = 3`. What are the final values of `a` and `b` after the call\n",
    "```Pascal\n",
    "q(a)\n",
    "```\n",
    "if the sole parameter of `q` is passed by value, by result, or by reference? Use the formal definitions to argue!"
   ]
  },
  {
   "cell_type": "markdown",
   "metadata": {
    "deletable": false,
    "nbgrader": {
     "cell_type": "markdown",
     "checksum": "7a24756fbc5b33a7373b46304ddbf535",
     "grade": true,
     "grade_id": "cell-97dbd5ed65ea3e6c",
     "locked": false,
     "points": 3,
     "schema_version": 3,
     "solution": true,
     "task": false
    }
   },
   "source": [
    " - Pass by value:\n",
    "```\n",
    "q(a) = var x: integer; x := a̅; x := a + 1; b := a\n",
    "```\n",
    "Here, `x` is assigned to the value of `a`, which is `1`. Then `x := a + 1` assigns `2` to `x`, and `b := a` assigns value `1` to `b`. So, the final values of `a` and `b` are `1` and `1`.\n",
    "\n",
    " - Pass by result:\n",
    "```\n",
    "q(a) = var x: integer; x := a + 1; b := a; a̅ := x\n",
    "```\n",
    "Here, `x` is assigned an abitrary value, then `x := a + 1` assigns value `2` to `x` and `b := a` assigns value `1` to `b`. Finally, `a̅ := x` assigns value `2` to `a`. So, the final values of `a` and `b` are `2` and `1`\n",
    "\n",
    " - Pass by reference:\n",
    "```\n",
    "q(a) = (x := a + 1; b := a)[x := a̅] = (a̅ := a + 1; b := a)\n",
    "```\n",
    "Here `a̅ := a + 1` assigns value `3` to `a` and `b := a` assigns value `3` to `b`. So, the final values of `a` and `b` are `3` and `3`"
   ]
  }
 ],
 "metadata": {
  "kernelspec": {
   "display_name": "Python 3 (ipykernel)",
   "language": "python",
   "name": "python3"
  },
  "language_info": {
   "codemirror_mode": {
    "name": "ipython",
    "version": 3
   },
   "file_extension": ".py",
   "mimetype": "text/x-python",
   "name": "python",
   "nbconvert_exporter": "python",
   "pygments_lexer": "ipython3",
   "version": "3.11.1"
  }
 },
 "nbformat": 4,
 "nbformat_minor": 4
}
