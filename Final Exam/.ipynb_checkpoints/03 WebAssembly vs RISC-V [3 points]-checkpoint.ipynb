{
 "cells": [
  {
   "cell_type": "markdown",
   "id": "d5e0755c-5598-421b-8d44-5c1eb1486140",
   "metadata": {
    "deletable": false,
    "editable": false,
    "nbgrader": {
     "cell_type": "markdown",
     "checksum": "22eec0b9b5b9b17f436960d0600c15e1",
     "grade": false,
     "grade_id": "cell-6e3af2967573bcc3",
     "locked": true,
     "schema_version": 3,
     "solution": false,
     "task": false
    }
   },
   "source": [
    "#### WebAssembly vs RISC-V"
   ]
  },
  {
   "cell_type": "markdown",
   "id": "5dd0e61e-aac5-4ab0-8513-ebb88cb250aa",
   "metadata": {
    "deletable": false,
    "editable": false,
    "nbgrader": {
     "cell_type": "markdown",
     "checksum": "c3a354c6c9c716a7157df354e62c13d9",
     "grade": false,
     "grade_id": "cell-0a57ef199b1a124d",
     "locked": true,
     "schema_version": 3,
     "solution": false,
     "task": false
    }
   },
   "source": [
    "As a reminder, here are some WebAssembly instructions:\n",
    "\n",
    "| instruction           | effect                                             | trap condition   |\n",
    "|:----------------------|:---------------------------------------------------|:-----------------|\n",
    "| `i32.const i`         | `s[sp], sp := i, sp + 1`                           | `sp < StackSize` |\n",
    "| `i32.add`             | `s[sp - 2], sp := s[sp - 2] + s[sp - 1], sp - 1`   |                  |\n",
    "| `i32.sub`             | `s[sp - 2], sp := s[sp - 2] - s[sp - 1], sp - 1`   |                  |\n",
    "| `i32.mul`             | `s[sp - 2], sp := s[sp - 2] × s[sp - 1], sp - 1`   |                  |\n",
    "| `i32.div_s`           | `s[sp - 2], sp := s[sp - 2] div s[sp - 1], sp - 1` | `s[sp - 1] = 0`  |\n",
    "| `i32.rem_s`           | `s[sp - 2], sp := s[sp - 2] mod s[sp - 1], sp - 1` | `s[sp - 1] = 0`  |\n",
    "| `i32.eqz`             | `s[sp - 1] := s[sp - 1] = 0`                       |                  |\n",
    "| `i32.eq`              | `s[sp - 2], sp := s[sp - 2] = s[sp - 1], sp - 1`   |                  |\n",
    "| `i32.ne`              | `s[sp - 2], sp := s[sp - 2] ≠ s[sp - 1], sp - 1`   |                  |\n",
    "| `i32.lt_s`            | `s[sp - 2], sp := s[sp - 2] < s[sp - 1], sp - 1`   |                  |\n",
    "| `i32.gt_s`            | `s[sp - 2], sp := s[sp - 2] > s[sp - 1], sp - 1`   |                  |\n",
    "| `i32.le_s`            | `s[sp - 2], sp := s[sp - 2] ≤ s[sp - 1], sp - 1`   |                  |\n",
    "| `i32.ge_s`            | `s[sp - 2], sp := s[sp - 2] ≥ s[sp - 1], sp - 1`   |                  |\n",
    "| `i32.load offset = n` | `s[sp - 1] := m[s[sp - 1] + n]`                    | `0 ≤ s[sp - 1] + n < MemSize` |\n",
    "| `i32.store offset = n`| `m[s[sp - 2] + n], sp := s[sp - 1], sp - 2`        | `0 ≤ s[sp - 1] + n < MemSize` |\n",
    "| `local.get x`         | `s[sp], sp := s[loc(x)], sp + 1`                   |                  |\n",
    "| `local.set x`         | `s[loc(x)], sp := s[sp - 1], sp - 1`               |                  |\n",
    "| `global.get x`        | `s[sp], sp := g[loc(x)], sp + 1`                   |                  |\n",
    "| `global.set x`        | `g[loc(x)], sp := s[sp - 1], sp - 1`               |                  |\n",
    "\n",
    "Here are some RISC-V instructions:\n",
    "\n",
    "| Instruction | Effect| Description| \n",
    "|:----|:----|:----|\n",
    "|add rd, rs1, rs2 | R[rd], pc := (𝙪R[rs1] + 𝙪R[rs2]) 𝗺𝗼𝗱 2³², pc + 4| addition⁽¹⁾ |\n",
    "|sub rd, rs1, rs2 | R[rd], pc := (𝙪R[rs1] – 𝙪R[rs2]) 𝗺𝗼𝗱 2³², pc + 4 | subtraction⁽¹⁾|\n",
    "|and rd, rs1, rs2 | R[rd], pc := R[rs1] & R[rs2], pc + 4 | bitwise and⁽²⁾ |\n",
    "|or rd, rs1, rs2 | R[rd], pc := R[rs1] \\| R[rs2], pc + 4 | bitwise or⁽³⁾ |\n",
    "|xor rd, rs1, rs2 | R[rd], pc := R[rs1] ^ R[rs2], pc + 4 | bitwise xor⁽⁴⁾ |\n",
    "|sll rd, rs1, rs2 | R[rd], pc := R[rs1] 𝘀𝗹𝗹 𝙪R[rs2], pc + 4 | shift left⁽⁵⁾ |\n",
    "|sra rd, rs1, rs2 | R[rd], pc := 1 if R[rs1] 𝘀𝗿𝗮 𝙪R[rs2]) else 0, pc + 4 | shift right arithmetic⁽⁶⁾ |\n",
    "|srl rd, rs1, rs2 | R[rd], pc := 1 if R[rs1] 𝘀𝗿𝗹 𝙪R[rs2]) else 0, pc + 4 | shift right (logical)⁽⁷⁾ |\n",
    "|slt rd, rs1, rs2 | R[rd], pc := 1 if 𝙨R[rs1]) < 𝙨R[rs2]) else 0, pc + 4 | signed comparison |\n",
    "|sltu rd, rs1, rs2 | R[rd], pc := 1 if 𝙪R[rs1] < 𝙪R[rs2] else 0, pc + 4 | unsigned comparison |\n",
    "\n",
    "1) Addition and subtraction interpret registers as unsigned integers. The result is also correct if the registers hold signed integers in two's complement and the result fits in a word.\n",
    "2) For words `a` and `b`: `(a & b)[i] = 1 𝗶𝗳 a[i] = 1 ∧ b[i] = 1 𝗲𝗹𝘀𝗲 0`, for `0 ≤ i < 32`.\n",
    "3) For words `a` and `b`: `(a | b)[i] = 1 𝗶𝗳 a[i] = 1 ∨ b[i] = 1 𝗲𝗹𝘀𝗲 0`, for `0 ≤ i < 32`.\n",
    "4) For words `a` and `b`: `(a ^ b)[i] = 1 𝗶𝗳 a[i] ≠ b[i] 𝗲𝗹𝘀𝗲 0`, for `0 ≤ i < 32`.\n",
    "5) For word `a`: `(a 𝘀𝗹𝗹 n)[i] = a[i – n]`, for `n ≤ i < 32` and `(a 𝘀𝗹𝗹 n)[i] = 0` for `0 ≤ i < n` and for `0 ≤ n < 32`.\n",
    "6) For word `a`: `(a 𝘀𝗿𝗮 n)[i] = a[i + n]`, for `0 ≤ i < 32 – n` and `(a 𝘀𝗿𝗮 n)[i] = a[31]` for `32 – n ≤ i < 32` and for `0 ≤ n < 32`.\n",
    "7) For word `a`: `(a 𝘀𝗿𝗹 n)[i] = a[i + n]`, for `0 ≤ i < 32 – n` and `(a 𝘀𝗿𝗹 n)[i] = 0` for `32 – n ≤ i < 32` and for `0 ≤ n < 32`."
   ]
  },
  {
   "cell_type": "markdown",
   "id": "228c8efc-e930-4584-8932-e1e78b6aecff",
   "metadata": {
    "deletable": false,
    "editable": false,
    "nbgrader": {
     "cell_type": "markdown",
     "checksum": "58370ee6d6fa0f6aa2429f8f7ae587e4",
     "grade": false,
     "grade_id": "cell-f0ea784bb0d11890",
     "locked": true,
     "schema_version": 3,
     "solution": false,
     "task": false
    }
   },
   "source": [
    "The characteristics of WebAssembly are:\n",
    "- Stack architecture\n",
    "- Byte code\n",
    "- Statically typed\n",
    "- Block-structured\n",
    "- Non-uniform store\n",
    "\n",
    "For each of these:\n",
    "1. explain briefly,\n",
    "2. give one or more instructions to illustrate your explanation,\n",
    "3. discuss if and how RISC-V (or any other modern architecture) differs!"
   ]
  },
  {
   "cell_type": "markdown",
   "id": "a61f70d0-e3d0-4d40-8869-0b4db59df5e4",
   "metadata": {
    "deletable": false,
    "nbgrader": {
     "cell_type": "markdown",
     "checksum": "b6a2cc6dc78184898f86c8ed9e020268",
     "grade": true,
     "grade_id": "cell-7ce4a518ba0fac16",
     "locked": false,
     "points": 3,
     "schema_version": 3,
     "solution": true,
     "task": false
    }
   },
   "source": [
    " - Stack architecture  \n",
    "WebAssembly pushes value onto stack to perform various operations. For example, when we are trying to add values `1` and `2`, we would use `i32.const 1` follow by `i32.const 2` to push values `1` and `2` onto the stack. Then, we would use `i32.add` that pops the top `2` items from the stack to perform the addition. After calling `i32.add`, the result `3` is also pushed onto the stack. On ther other hand, RISC-V uses registers to perform various operation instead of using stack\n",
    "\n",
    "- Byte code\n",
    "In WebAssembly, allocation of memory does not need to be word aligned. \n",
    "\n",
    "- Statically typed\n",
    "Variable types in WebAssembly is statically types, meaning user would have to define the type of the variable upon the variable declaration. For example, function parameters are typed with type index from the types table. On the other hand, variables in RISC-V can be dynamically type, meaning user do not have to define the type of a variable upon declaration, the type of the variable is determined during runtime.\n",
    "  \n",
    "- Block-structured \n",
    "WebAssembly uses block to define different sections of the code, allowing code to jump to different blocks by using `br`. Whereas in RISC-V, different sections of the code are defined by labels, users can jump to different blocks by using the label name and the `jl` instruction.\n",
    "\n",
    "- Non-uniform store  \n",
    "For storing values, WebAssembly uses various form of stores, it uses global store, stack and the main memory. When we want to set a value to the global variable, we would perform `global.set x`. When we want to push parameters to invoke a function, we would push parameter values to the stack (please refer to the example from point \"Stack architecture\"). When we need to declare a global or local array or record, we would use the main memory. In contrast, RISC-V only uses registers and the main memory to store values."
   ]
  },
  {
   "cell_type": "code",
   "execution_count": null,
   "id": "f5e1f806-5ce7-4df8-86a0-0f2409de12a7",
   "metadata": {},
   "outputs": [],
   "source": []
  }
 ],
 "metadata": {
  "kernelspec": {
   "display_name": "Python 3 (ipykernel)",
   "language": "python",
   "name": "python3"
  },
  "language_info": {
   "codemirror_mode": {
    "name": "ipython",
    "version": 3
   },
   "file_extension": ".py",
   "mimetype": "text/x-python",
   "name": "python",
   "nbconvert_exporter": "python",
   "pygments_lexer": "ipython3",
   "version": "3.11.1"
  }
 },
 "nbformat": 4,
 "nbformat_minor": 5
}
