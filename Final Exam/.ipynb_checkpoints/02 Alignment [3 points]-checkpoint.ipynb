{
 "cells": [
  {
   "cell_type": "markdown",
   "id": "8b525a61-57a4-4cd4-999b-8490bdd16e5c",
   "metadata": {
    "deletable": false,
    "editable": false,
    "nbgrader": {
     "cell_type": "markdown",
     "checksum": "1c57abecc84099f5304f6cfe60b15e86",
     "grade": false,
     "grade_id": "cell-212b9650f7fccd97",
     "locked": true,
     "schema_version": 3,
     "solution": false,
     "task": false
    }
   },
   "source": [
    "#### Alignment"
   ]
  },
  {
   "cell_type": "markdown",
   "id": "f021eb03-9ca3-4a0d-972f-05f5f69b571e",
   "metadata": {
    "deletable": false,
    "editable": false,
    "nbgrader": {
     "cell_type": "markdown",
     "checksum": "a426def398f640fd4d0653edcc9de412",
     "grade": false,
     "grade_id": "cell-6b775aed6d98bb0e",
     "locked": true,
     "schema_version": 3,
     "solution": false,
     "task": false
    }
   },
   "source": [
    "Consider the following record and array declarations:\n",
    "```\n",
    "type R = (b: boolean, i: integer, c: [0 .. 1] → boolean)\n",
    "type A =  [0 .. 9] → R\n",
    "```\n",
    "Assuming that words are 4 bytes, `size(integer) = 4`, and `size(boolean) = 1`, what are `size(R)` and `size(A)` with \n",
    "1. sequential allocation that is not word-aligned,\n",
    "2. word-aligned sequential allocation (words must be word-aligned, bytes can be arbitrarily aligned),\n",
    "3. word-aligned allocation with reordering to minimize the size."
   ]
  },
  {
   "cell_type": "markdown",
   "id": "e71e2e11-0460-4ddc-8172-e6d8ea3d0c3e",
   "metadata": {
    "deletable": false,
    "nbgrader": {
     "cell_type": "markdown",
     "checksum": "37b9b27c3d51ad00c82a7a05798cb667",
     "grade": true,
     "grade_id": "cell-7096ce422669b60d",
     "locked": false,
     "points": 3,
     "schema_version": 3,
     "solution": true,
     "task": false
    }
   },
   "source": [
    "1. `size(R)` will be `1 + 4 + 2 * 1 = 7` bytes, and `size(A)` will be `10 * 7 = 70` bytes\n",
    "2. `size(R)` will be `1 + 1 + 1 + 1 + 4 + 2 * (1 + 1 + 1 + 1) = 16` bytes,  and `size(A)` will be `10 * 16 = 160` bytes\n",
    "3. `size(R)` will be `4 + 2 * 1 + 1 + 1 + 1 + 1 + 1 + 1 = 12` bytes, and `size(A)` will be `10 8 12 = 120` bytes"
   ]
  },
  {
   "cell_type": "code",
   "execution_count": null,
   "id": "bed9f5a8-3e37-47ef-8bc6-4713d514994a",
   "metadata": {},
   "outputs": [],
   "source": []
  }
 ],
 "metadata": {
  "kernelspec": {
   "display_name": "Python 3 (ipykernel)",
   "language": "python",
   "name": "python3"
  },
  "language_info": {
   "codemirror_mode": {
    "name": "ipython",
    "version": 3
   },
   "file_extension": ".py",
   "mimetype": "text/x-python",
   "name": "python",
   "nbconvert_exporter": "python",
   "pygments_lexer": "ipython3",
   "version": "3.11.1"
  }
 },
 "nbformat": 4,
 "nbformat_minor": 5
}
