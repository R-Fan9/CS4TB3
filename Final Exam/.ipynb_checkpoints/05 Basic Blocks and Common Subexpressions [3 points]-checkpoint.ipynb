{
 "cells": [
  {
   "cell_type": "markdown",
   "id": "bc32bc2c-8203-4346-8fd7-3a220619c1e7",
   "metadata": {
    "deletable": false,
    "editable": false,
    "nbgrader": {
     "cell_type": "markdown",
     "checksum": "6578168b84cec50a54f8303699ad59cb",
     "grade": false,
     "grade_id": "cell-f4897be78e286d5a",
     "locked": true,
     "schema_version": 3,
     "solution": false,
     "task": false
    }
   },
   "source": [
    "#### Basic Blocks and Common Subexpressions"
   ]
  },
  {
   "cell_type": "code",
   "execution_count": 1,
   "id": "a2535a92-6a52-435e-8758-bcf4398ed5b6",
   "metadata": {
    "deletable": false,
    "editable": false,
    "nbgrader": {
     "cell_type": "code",
     "checksum": "a36621eb3ea5de3b99569fec2a26a35c",
     "grade": false,
     "grade_id": "cell-83ae64c76dc31417",
     "locked": true,
     "schema_version": 3,
     "solution": false,
     "task": false
    }
   },
   "outputs": [],
   "source": [
    "import nbimporter; nbimporter.options[\"only_defs\"] = False\n",
    "from P0 import compileString"
   ]
  },
  {
   "cell_type": "markdown",
   "id": "cf9f3c93-5132-4766-9298-9902aa19bdf6",
   "metadata": {
    "deletable": false,
    "editable": false,
    "nbgrader": {
     "cell_type": "markdown",
     "checksum": "9bfbe7c22293f2bfb743d573ae243c23",
     "grade": false,
     "grade_id": "cell-e50143a8978fb313",
     "locked": true,
     "schema_version": 3,
     "solution": false,
     "task": false
    }
   },
   "source": [
    "Compile the following P0 program:"
   ]
  },
  {
   "cell_type": "code",
   "execution_count": 2,
   "id": "40d0144e-81dc-4bb4-85a1-531f3a775d1e",
   "metadata": {
    "deletable": false,
    "editable": false,
    "nbgrader": {
     "cell_type": "code",
     "checksum": "09a1ee64eb27b997459ee65fc665015c",
     "grade": false,
     "grade_id": "cell-fa33e3adc5c57dfa",
     "locked": true,
     "schema_version": 3,
     "solution": false,
     "task": false
    }
   },
   "outputs": [
    {
     "name": "stdout",
     "output_type": "stream",
     "text": [
      "\t.data\n",
      "a_:\t.space 40\n",
      "\t.text\n",
      "\t.globl main\n",
      "main:\t\n",
      "\tjal ra, inc\n",
      "\taddi a0, zero, 0\n",
      "\taddi a7, zero, 93\n",
      "\tscall\n",
      "\t.globl inc\n",
      "inc:\t\n",
      "\taddi sp, sp, -16\n",
      "\tsw ra, 12(sp)\n",
      "\tsw s0, 8(sp)\n",
      "\taddi s0, sp, 16\n",
      "\tsw zero, -12(s0)\n",
      "L1:\t\n",
      "\tlw s5, -12(s0)\n",
      "\taddi s2, zero, 10\n",
      "\tbge s5, s2, L2\n",
      "L3:\t\n",
      "\tlw s3, -12(s0)\n",
      "\taddi s8, zero, 4\n",
      "\tmul s3, s3, s8\n",
      "\tlw s4, -12(s0)\n",
      "\taddi s10, zero, 4\n",
      "\tmul s4, s4, s10\n",
      "\tlw s9, a_(s4)\n",
      "\taddi s9, s9, 1\n",
      "\tsw s9, a_(s3)\n",
      "\tj L1\n",
      "L2:\t\n",
      "\tlw ra, 12(sp)\n",
      "\tlw s0, 8(sp)\n",
      "\taddi sp, sp, 16\n",
      "\tret\n"
     ]
    }
   ],
   "source": [
    "compileString(\"\"\"\n",
    "const N = 10\n",
    "var a: [0 .. N - 1] → integer\n",
    "program inc\n",
    "  var i : integer\n",
    "    i := 0\n",
    "    while i < N do\n",
    "      a[i] := a[i] + 1\n",
    "\"\"\", target = 'riscv')"
   ]
  },
  {
   "cell_type": "markdown",
   "id": "0c5c6a0f-f082-4cb2-a5fe-d148372899da",
   "metadata": {
    "deletable": false,
    "editable": false,
    "nbgrader": {
     "cell_type": "markdown",
     "checksum": "4a9c4d13aa3d77622baaca75ffa34109",
     "grade": false,
     "grade_id": "cell-37102fc843bb92e8",
     "locked": true,
     "schema_version": 3,
     "solution": false,
     "task": false
    }
   },
   "source": [
    "Identify the basic blocks of `inc` and explain them in terms of the source code!"
   ]
  },
  {
   "cell_type": "markdown",
   "id": "2c9c05e1-c0a2-4670-ba19-0f9744f2a599",
   "metadata": {
    "deletable": false,
    "nbgrader": {
     "cell_type": "markdown",
     "checksum": "f6f811c18c2e2725d52218663ec01e2f",
     "grade": true,
     "grade_id": "cell-801cb5fa2a60b891",
     "locked": false,
     "points": 2,
     "schema_version": 3,
     "solution": true,
     "task": false
    }
   },
   "source": [
    "The basic blocks of `inc` are as follows:\n",
    "```\n",
    "inc:\t\n",
    "\taddi sp, sp, -16\n",
    "\tsw ra, 12(sp)\n",
    "\tsw s0, 8(sp)\n",
    "\taddi s0, sp, 16\n",
    "\tsw zero, -12(s0)\n",
    "```\n",
    "This block of code moves the stack pointer `sp` `16` bytes down, stores the return value from register `ra` into the stack pointer `sp` with an offset of `12`, stores the value from register `s0` into the stack pointer `sp` with an offset of `8`, then assign the register `s0` with value from the stack pointer `sp` plus a constant value `16`. Finally, it stores value `0` into register `s0` with an offset of `-12`\n",
    "\n",
    "```\n",
    "L1:\t\n",
    "\tlw s5, -12(s0)\n",
    "\taddi s2, zero, 10\n",
    "\tbge s5, s2, L2\n",
    "```\n",
    "This block of code loads the value from register `s0` with an offset of `-12`, which is the value of `i` - `0` to register `s5`. Then, it stores value `10` to register `s2`, which correspond to the variable `N` from the source code. Finally, it compares the values from registers `s5` and `s2`. If the value from `s5` is greater or equal to the value from `s2`, it jumps to block `L2`\n",
    "\n",
    "```\n",
    "L3:\t\n",
    "\tlw s3, -12(s0)\n",
    "\taddi s8, zero, 4\n",
    "\tmul s3, s3, s8\n",
    "\tlw s4, -12(s0)\n",
    "\taddi s10, zero, 4\n",
    "\tmul s4, s4, s10\n",
    "\tlw s9, a_(s4)\n",
    "\taddi s9, s9, 1\n",
    "\tsw s9, a_(s3)\n",
    "\tj L1\n",
    "```\n",
    "This block of code loads the value from register `s0` with an offset of `-12`, which is the value of `i` - `0` to register `s5`. Then, it assigns the register `s8` with a value of `4`, multiply the value from register `s3` with `4` to get the memory address of `a[i]`. After, it again loads the value from register `s0` with an offset of `-12` into register `s4`, and multiply the value of `s4` with `4` to the memory address of `a[i]`. Then, it loads the value from `a[i]` into register `s9`, adds the value from `s9` by `1`, and stores the value from `s9` into `a[i]`. Finally, it jumps back to block `L1`\n",
    "```\n",
    "L2:\t\n",
    "\tlw ra, 12(sp)\n",
    "\tlw s0, 8(sp)\n",
    "\taddi sp, sp, 16\n",
    "\tret\n",
    "```\n",
    "This block of code restores the position of the stack pointer by adding 16 bytes back to it"
   ]
  },
  {
   "cell_type": "markdown",
   "id": "25d78c18-8ec6-42c6-8276-34ea8a324ed0",
   "metadata": {
    "deletable": false,
    "editable": false,
    "nbgrader": {
     "cell_type": "markdown",
     "checksum": "d2d8f1364980038ff7babb3d7c2d2c67",
     "grade": false,
     "grade_id": "cell-abc8c0242feef780",
     "locked": true,
     "schema_version": 3,
     "solution": false,
     "task": false
    }
   },
   "source": [
    "The P0 compiler does not always recognize common subexpressions. Analyze the generated code and point out how shorter and more efficient code could be generated!"
   ]
  },
  {
   "cell_type": "markdown",
   "id": "e7d2c9ba-e3b7-43e9-bd5b-5fdafb81d610",
   "metadata": {
    "deletable": false,
    "nbgrader": {
     "cell_type": "markdown",
     "checksum": "8993aab34267b1b6a359d953d5b3f322",
     "grade": true,
     "grade_id": "cell-4d9830e9105f9a42",
     "locked": false,
     "points": 1,
     "schema_version": 3,
     "solution": true,
     "task": false
    }
   },
   "source": [
    "The following code from block `L3` can be shorter:\n",
    "\n",
    "```\n",
    "    lw s3, -12(s0)\n",
    "\taddi s8, zero, 4\n",
    "\tmul s3, s3, s8\n",
    "\tlw s4, -12(s0)\n",
    "\taddi s10, zero, 4\n",
    "\tmul s4, s4, s10\n",
    "```\n",
    "\n",
    "The above code block is getting the memory address of `a[i]`. From the source code, we are doing `a[i] := a[i] + 1`, which calls `a[i]` two times consecutively, In the generated code, the operation to get the memory address of `a[i]` is performed twice. Thus, this can be further optimized using common subexpression to avoid duplication."
   ]
  }
 ],
 "metadata": {
  "kernelspec": {
   "display_name": "Python 3 (ipykernel)",
   "language": "python",
   "name": "python3"
  },
  "language_info": {
   "codemirror_mode": {
    "name": "ipython",
    "version": 3
   },
   "file_extension": ".py",
   "mimetype": "text/x-python",
   "name": "python",
   "nbconvert_exporter": "python",
   "pygments_lexer": "ipython3",
   "version": "3.11.1"
  }
 },
 "nbformat": 4,
 "nbformat_minor": 5
}
