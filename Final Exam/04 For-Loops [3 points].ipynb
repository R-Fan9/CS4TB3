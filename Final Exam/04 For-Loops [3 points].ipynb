{
 "cells": [
  {
   "cell_type": "markdown",
   "id": "c636d7aa-6960-4425-a4b1-e4f87784e4fd",
   "metadata": {
    "deletable": false,
    "editable": false,
    "nbgrader": {
     "cell_type": "markdown",
     "checksum": "256089ba65b13eb54665187428fb73d0",
     "grade": false,
     "grade_id": "cell-36d14f99337eb2e7",
     "locked": true,
     "schema_version": 3,
     "solution": false,
     "task": false
    }
   },
   "source": [
    "#### For-Loops"
   ]
  },
  {
   "cell_type": "markdown",
   "id": "1677d721-65a6-422d-a8b2-594a67bbce41",
   "metadata": {
    "deletable": false,
    "editable": false,
    "nbgrader": {
     "cell_type": "markdown",
     "checksum": "87f4e986171f172abe950d929c9318d6",
     "grade": false,
     "grade_id": "cell-32ebfe82c855c4cd",
     "locked": true,
     "schema_version": 3,
     "solution": false,
     "task": false
    }
   },
   "source": [
    "Consider extending the P0 language with `for`-loops of the form:\n",
    "```Pascal\n",
    "for v := exp₁ to exp₂ do stat\n",
    "```\n",
    "Give one possible translation scheme for this loop and discuss which parts of the P0 compiler (or any other compiler) must be modified!"
   ]
  },
  {
   "cell_type": "markdown",
   "id": "d492b6ef-4e33-4999-aa4e-c83c958cce4d",
   "metadata": {
    "deletable": false,
    "nbgrader": {
     "cell_type": "markdown",
     "checksum": "17cc855e70c995778e7d3a8ade3b3df7",
     "grade": true,
     "grade_id": "cell-8abe8b8923b41bc4",
     "locked": false,
     "points": 3,
     "schema_version": 3,
     "solution": true,
     "task": false
    }
   },
   "source": [
    "To include a `for`-loop statement, we can first extend the statement grammar in the the `P0` grammar as follows:\n",
    "```\n",
    "...\n",
    "statement ::=\n",
    "        designator \":=\" expression |\n",
    "        designator \"←\" ident \"(\" [expression {\",\" expression}] \")\" |\n",
    "        \"if\" expression \"then\" statementSuite [\"else\" statementSuite] |\n",
    "        \"while\" expression \"do\" statementSuite\n",
    "        \"for\" ident expression \"to\" expression \"do\" statementSuite\n",
    "...\n",
    "```\n",
    "\n",
    "We would also need to include the identifier keyword `for` in the Scanner as follows:\n",
    "```\n",
    "keyword ::= 'div' | 'mod' | 'and' | 'or' | 'of' | 'then' | 'do' | 'not' | 'end' | 'else' | 'if' | 'while' |\n",
    "                         'array' | 'record' | 'const' | 'type' | 'var' | 'procedure' | 'begin' | 'program' | 'for'\n",
    "```\n",
    "\n",
    "Also, in the `statement` method of the `P0` parser (P0.ipynb), we need to add an additional case when `SC.sym == FOR` to parser the `for-`loop.\n",
    "\n",
    "Finally, in the code generator (GCriscv.ipynb), we need to implement another method `genFor` to generate the corresponding assembly code for the `for-`loop."
   ]
  }
 ],
 "metadata": {
  "kernelspec": {
   "display_name": "Python 3 (ipykernel)",
   "language": "python",
   "name": "python3"
  },
  "language_info": {
   "codemirror_mode": {
    "name": "ipython",
    "version": 3
   },
   "file_extension": ".py",
   "mimetype": "text/x-python",
   "name": "python",
   "nbconvert_exporter": "python",
   "pygments_lexer": "ipython3",
   "version": "3.11.1"
  }
 },
 "nbformat": 4,
 "nbformat_minor": 5
}
