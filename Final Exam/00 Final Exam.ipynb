{
 "cells": [
  {
   "cell_type": "markdown",
   "metadata": {
    "deletable": false,
    "editable": false,
    "nbgrader": {
     "cell_type": "markdown",
     "checksum": "bf22a7529d26fce115202185db43ed8d",
     "grade": false,
     "grade_id": "cell-86b23c0e9a7cc097",
     "locked": true,
     "schema_version": 3,
     "solution": false,
     "task": false
    }
   },
   "source": [
    "## COMPSCI 3TB3/4TB3/6TB3 2023/24 Final Exam [out of 24 points]\n",
    "\n",
    "**Emil Sekerinski, McMaster University, 13 April 2024, 4:00 - 6:00 pm**  \n",
    "\n",
    "\n",
    "> If your kernel hangs, restart the kernel by `Kernel → Restart`; don't just close the window and open a new window.\n",
    "\n",
    "\n",
    "- You must complete the exam on jhub4tb3; you must not download the final exam (downloading and uploading takes too much time, and editing the exam outside jhub4tb3 corrupts the notebook, so we notice this). Downloading the final exam counts as Academic Dishonesty.\n",
    "- Don't forget to submit it. You can submit multiple times; the last version will be taken.\n",
    "- This is a \"closed book\" exam: your browser must have only one full-screen window with the final exam on jhub4tb3.\n",
    "- You must have notifications turned off on your computer during the exam. Receiving a message is considered Academic Dishonesty.\n",
    "- The notebook cells with instructions will be \"locked\" so you don't accidentally overwrite them. You can create new cells with test code or scratch work, and you can copy the text of existing cells to new cells by going into a cell and selecting text. Do not delete or copy existing cells as a whole, as that corrupts the notebook structure.\n",
    "- Accessing any other material on jhub4tb3, your computer, the web, or any other means is not allowed. This includes the course notes, assignments, practice tests of this course, and generative AI. Any attempt to access other material will be treated as Academic Dishonesty.\n",
    "- Please stay in the exam room until the end of the exam. If you are done early, you cannot use your computer or tablet for anything else; bring a book to read!"
   ]
  }
 ],
 "metadata": {
  "kernelspec": {
   "display_name": "Python 3 (ipykernel)",
   "language": "python",
   "name": "python3"
  },
  "language_info": {
   "codemirror_mode": {
    "name": "ipython",
    "version": 3
   },
   "file_extension": ".py",
   "mimetype": "text/x-python",
   "name": "python",
   "nbconvert_exporter": "python",
   "pygments_lexer": "ipython3",
   "version": "3.11.1"
  }
 },
 "nbformat": 4,
 "nbformat_minor": 4
}
