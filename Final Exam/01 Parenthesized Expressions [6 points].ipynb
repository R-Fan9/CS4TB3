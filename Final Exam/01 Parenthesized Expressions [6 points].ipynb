{
 "cells": [
  {
   "cell_type": "markdown",
   "id": "a6eb07f8-cac2-47b3-8225-2f8b84fbcd99",
   "metadata": {
    "deletable": false,
    "editable": false,
    "nbgrader": {
     "cell_type": "markdown",
     "checksum": "bf975544e0d0cb982a40c38228f3ec20",
     "grade": false,
     "grade_id": "cell-01c15678fb15cced",
     "locked": true,
     "schema_version": 3,
     "solution": false,
     "task": false
    }
   },
   "source": [
    "#### Parenthesized Expressions"
   ]
  },
  {
   "cell_type": "markdown",
   "id": "9095b08c-6e0a-4fad-a5a6-ad0ae298db7a",
   "metadata": {
    "deletable": false,
    "editable": false,
    "nbgrader": {
     "cell_type": "markdown",
     "checksum": "6cc672f710ad34f790de8717545d05dc",
     "grade": false,
     "grade_id": "cell-11b557d864f374f8",
     "locked": true,
     "schema_version": 3,
     "solution": false,
     "task": false
    }
   },
   "source": [
    "Give the rules that an EBNF grammar has to satisfy for recursive descent parsing. Use the following template:\n",
    "\n",
    "| `A`           | `condition(A)`|\n",
    "|:--------------|:--------------|\n",
    "| `[E]`         |               |\n",
    "| `{E}`         |               |\n",
    "| `E₁ E₂ …`     |               |\n",
    "| `E₁ │ E₂ │ …` |               | "
   ]
  },
  {
   "cell_type": "markdown",
   "id": "616ab9f2-b37f-4c3c-a272-50e00e0644f5",
   "metadata": {
    "deletable": false,
    "nbgrader": {
     "cell_type": "markdown",
     "checksum": "c766fd899a099334cefcc8be95d2f5b7",
     "grade": true,
     "grade_id": "cell-eeb1b995a9e9fac9",
     "locked": false,
     "points": 1,
     "schema_version": 3,
     "solution": true,
     "task": false
    }
   },
   "source": [
    "YOUR ANSWER HERE"
   ]
  },
  {
   "cell_type": "markdown",
   "id": "b0b41df8-eccc-436f-a5c7-14c0bdd75b1a",
   "metadata": {
    "deletable": false,
    "editable": false,
    "nbgrader": {
     "cell_type": "markdown",
     "checksum": "64c4dc149088c8279614f62fb5c49d8d",
     "grade": false,
     "grade_id": "cell-067c838cb4c7e3d2",
     "locked": true,
     "schema_version": 3,
     "solution": false,
     "task": false
    }
   },
   "source": [
    "Consider the following EBNF grammar for balanced parenthesized expressions:\n",
    "\n",
    "    p ::= a {',' a}\n",
    "    a ::= 'e' | '[' p ']' | '(' p ')'\n",
    "\n",
    "Only the character `'e'` is allowed for expressions. Argue that this grammar satisfies the conditions for recursive descent parsing. State explicitly the needed `first` and `follow` sets. Be rigorous in writing down all the conditions."
   ]
  },
  {
   "cell_type": "markdown",
   "id": "03b6d8d0-0f53-42bc-8b6a-a68dd54b4cc4",
   "metadata": {
    "deletable": false,
    "nbgrader": {
     "cell_type": "markdown",
     "checksum": "2c251c955491ec721cdcbaafd2eb7e2a",
     "grade": true,
     "grade_id": "cell-e8eee7a117ba80d6",
     "locked": false,
     "points": 1,
     "schema_version": 3,
     "solution": true,
     "task": false
    }
   },
   "source": [
    "YOUR ANSWER HERE"
   ]
  },
  {
   "cell_type": "markdown",
   "id": "f5d8f638-54f6-445d-940d-0b97336d6378",
   "metadata": {
    "deletable": false,
    "editable": false,
    "nbgrader": {
     "cell_type": "markdown",
     "checksum": "2d43a5d235cf0dfcefb62a3182515f97",
     "grade": false,
     "grade_id": "cell-3b3cd58cc460e49d",
     "locked": true,
     "schema_version": 3,
     "solution": false,
     "task": false
    }
   },
   "source": [
    "The _depth_ of an expression is the maximal level of nested parenthesis or brackets; see examples below. Extend the grammar with attribute rules that compute the depth. Delineated the attribute rules by « and »."
   ]
  },
  {
   "cell_type": "markdown",
   "id": "1c1953c3-01af-4bc5-a325-58e0e7f58bb4",
   "metadata": {
    "deletable": false,
    "nbgrader": {
     "cell_type": "markdown",
     "checksum": "7ce2dd4cc1924d45fc8ad16563cf0d90",
     "grade": true,
     "grade_id": "cell-f8979d7b799c192b",
     "locked": false,
     "points": 1,
     "schema_version": 3,
     "solution": true,
     "task": false
    }
   },
   "source": [
    "YOUR ANSWER HERE"
   ]
  },
  {
   "cell_type": "markdown",
   "id": "90415485-583e-4d77-a0aa-138429cdf9a8",
   "metadata": {
    "deletable": false,
    "editable": false,
    "nbgrader": {
     "cell_type": "markdown",
     "checksum": "3b936b0cd9dae658b0acb07f6b582832",
     "grade": false,
     "grade_id": "cell-35fac8a8622c4592",
     "locked": true,
     "schema_version": 3,
     "solution": false,
     "task": false
    }
   },
   "source": [
    "Write a recursive descent parser in Python for that grammar. The parser uses characters as input symbols and has to call `getCh()` to read the next character and has to inspect `ch` as the next input symbol: [4 points]"
   ]
  },
  {
   "cell_type": "code",
   "execution_count": null,
   "id": "454ac4c0-e1ec-4649-a84b-d91cdeff26d5",
   "metadata": {
    "deletable": false,
    "nbgrader": {
     "cell_type": "code",
     "checksum": "01c83a123fad5964791390eefd134fcc",
     "grade": true,
     "grade_id": "cell-cfa2ca034e468e21",
     "locked": false,
     "points": 1,
     "schema_version": 3,
     "solution": true,
     "task": false
    }
   },
   "outputs": [],
   "source": [
    "def getCh():\n",
    "    global ch, source\n",
    "    if len(source) > 0: ch, source = source[0], source[1:]\n",
    "    else: ch = None\n",
    "\n",
    "def a():\n",
    "    # YOUR CODE HERE\n",
    "    raise NotImplementedError()\n",
    "    \n",
    "def p():\n",
    "    # YOUR CODE HERE\n",
    "    raise NotImplementedError()\n",
    "\n",
    "def depth(s):\n",
    "    global source\n",
    "    source = s; getCh()\n",
    "    return p()"
   ]
  },
  {
   "cell_type": "markdown",
   "id": "873182b5-a6e1-4819-a200-f35c56a371e4",
   "metadata": {
    "deletable": false,
    "editable": false,
    "nbgrader": {
     "cell_type": "markdown",
     "checksum": "20f92728901c41a03534ca521078ed13",
     "grade": false,
     "grade_id": "cell-6aee6fb8f8d2a656",
     "locked": true,
     "schema_version": 3,
     "solution": false,
     "task": false
    }
   },
   "source": [
    "If there is an error in the input, your parser can stop immediately (by `raise` in Python); you do not have to include any error treatment. Here are some test cases:"
   ]
  },
  {
   "cell_type": "code",
   "execution_count": null,
   "id": "f302094a-2c6f-4217-95d1-9341abbd136f",
   "metadata": {
    "deletable": false,
    "editable": false,
    "nbgrader": {
     "cell_type": "code",
     "checksum": "0f8daacb74687900d416e4bcd4173024",
     "grade": true,
     "grade_id": "cell-92438e41dbe5d78e",
     "locked": true,
     "points": 1,
     "schema_version": 3,
     "solution": false,
     "task": false
    }
   },
   "outputs": [],
   "source": [
    "assert depth('e') == 0\n",
    "assert depth('e,e') == 0\n",
    "assert depth('(e)') == 1\n",
    "assert depth('[e]') == 1"
   ]
  },
  {
   "cell_type": "code",
   "execution_count": null,
   "id": "9ac5da56-1919-4a4f-aee0-300730f4a6e0",
   "metadata": {
    "deletable": false,
    "editable": false,
    "nbgrader": {
     "cell_type": "code",
     "checksum": "f9f8a376c2450ff7d9db9fb547743a32",
     "grade": true,
     "grade_id": "cell-768eb3f6615ec991",
     "locked": true,
     "points": 1,
     "schema_version": 3,
     "solution": false,
     "task": false
    }
   },
   "outputs": [],
   "source": [
    "assert depth('(e,e,e)') == 1\n",
    "assert depth('[e,e]') == 1\n",
    "assert depth('([e],(e),e,e)') == 2\n",
    "assert depth('[e,e,[e,[e,e]]]') == 3"
   ]
  }
 ],
 "metadata": {
  "kernelspec": {
   "display_name": "Python 3 (ipykernel)",
   "language": "python",
   "name": "python3"
  },
  "language_info": {
   "codemirror_mode": {
    "name": "ipython",
    "version": 3
   },
   "file_extension": ".py",
   "mimetype": "text/x-python",
   "name": "python",
   "nbconvert_exporter": "python",
   "pygments_lexer": "ipython3",
   "version": "3.11.1"
  }
 },
 "nbformat": 4,
 "nbformat_minor": 5
}
