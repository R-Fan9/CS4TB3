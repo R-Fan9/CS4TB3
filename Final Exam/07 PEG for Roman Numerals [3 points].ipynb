{
 "cells": [
  {
   "cell_type": "markdown",
   "id": "199b1605-5084-47cc-84b2-240a438aa197",
   "metadata": {
    "deletable": false,
    "editable": false,
    "nbgrader": {
     "cell_type": "markdown",
     "checksum": "176e086f1e2da3e29378273cecef80c8",
     "grade": false,
     "grade_id": "cell-0b2e8a712a8d139c",
     "locked": true,
     "schema_version": 3,
     "solution": false,
     "task": false
    }
   },
   "source": [
    "#### PEG for Roman Numerals"
   ]
  },
  {
   "cell_type": "markdown",
   "id": "1a315ac0-a31c-41c4-902e-41efe96d8130",
   "metadata": {
    "deletable": false,
    "editable": false,
    "nbgrader": {
     "cell_type": "markdown",
     "checksum": "56c8ebb2a1efa90948d1c94fae9b3bdd",
     "grade": false,
     "grade_id": "cell-d52aea67d3de2a81",
     "locked": true,
     "schema_version": 3,
     "solution": false,
     "task": false
    }
   },
   "source": [
    "As a reminder, here are the elements of parsing expression grammars:\n",
    "\n",
    "| expression            | name                |    |\n",
    "|:----------------|:-----------------------------|:------|\n",
    "| `'ε'`         |empty string | succeed without consuming |\n",
    "| `'a'`         |literal string | consume `a` literally, otherwise fail |\n",
    "| `.`         |any symbol | consume any symbol, fail at the end of input |\n",
    "| `B`             | nonterminal `B` | consume `B`, otherwise fail |\n",
    "| `(E)`          | grouping | consume `E`, otherwise fail |\n",
    "| `E?`          | optional  | consume `E` if possible |\n",
    "| `E*`          | zero-or-more | consume `E` as often as possible |\n",
    "| `E+`          | one-or-more | consume `E` once, otherwise fail, and then as often as possible |\n",
    "| `&E`          | and-predicate | match `E` and do not consume, otherwise fail  |\n",
    "| `!E`          | not-predicate | match anything but `E`  and do not consume, otherwise fail |\n",
    "| `E₁ E₂  …`    | sequence | consume `E₁`, then `E₂`,  …, otherwise fail |\n",
    "| `E₁ / E₂ /  …` | prioritized choice | consume `E₁`, otherwise consume `E₂`,  …, otherwise fail |"
   ]
  },
  {
   "cell_type": "markdown",
   "id": "47009428-adc7-4528-afb2-a8b4320a72c3",
   "metadata": {
    "deletable": false,
    "editable": false,
    "nbgrader": {
     "cell_type": "markdown",
     "checksum": "0712d979a00579f862dca4be50d0fb32",
     "grade": false,
     "grade_id": "cell-4c82e80a8c7cdfd8",
     "locked": true,
     "schema_version": 3,
     "solution": false,
     "task": false
    }
   },
   "source": [
    "Roman numerals consist of the following letters:\n",
    "\n",
    "| I | V | X| L | C | D | M |\n",
    "|---|---|---|---|---|---|---|\n",
    "|1 | 5 | 10 | 50 | 100 | 500 | 1000 |\n",
    "\n",
    "Numbers are written using both *additive* and *subtractive* notation. The first 20 numbers can be written as:\n",
    "\n",
    "    I, II, III, IV, V, VI, VII, VIII, IX, X, XI, XII, XIII, XIV, XV, XVI, XVII, XVIII, XIX, XX\n",
    "\n",
    "Commonly, at most, three repeated letters can be used in additive notation. Otherwise, subtractive notation is used. However, that is not always followed: `9` can also be written as `VIIII`. For evaluating roman numerals, we use:\n",
    "\n",
    "- `I` has the value of `1`, except in front of `V` and `X`, it has the value of `-1`.\n",
    "- `V` has always the value of `5`.\n",
    "- `X` has the value of `10`, except in front of `L` and `C`, it has the value of `-10`.\n",
    "- `L` has always the value of `50`.\n",
    "- `C` has the value of `100`, except in front of `D` and `M`, it has the value of `-100`.\n",
    "- `D` has always the value of `500`.\n",
    "- `M` has always the value of `1000`.\n",
    "\n",
    "The task is to express the evaluation of Roman numerals by an attributed parsing expression grammar.  Here is a fragment of the grammar:\n",
    "\n",
    "    s(v) ← « v := 0 » (n(w) « v := v + w »)+\n",
    "    n(v) ← ... 'M' « v := 1000 » ...\n",
    "\n",
    "Copy and paste the grammar to the cell below and complete it! While it is common to write the letters in decreasing value, that is optional as the values are independent of the position, with the exceptions as above."
   ]
  },
  {
   "cell_type": "markdown",
   "id": "2ad44156-8531-4c30-89c5-6a711b87bfd6",
   "metadata": {
    "deletable": false,
    "nbgrader": {
     "cell_type": "markdown",
     "checksum": "de17baabf04697db2004b5011d4bbe94",
     "grade": true,
     "grade_id": "cell-ca26d04eda3705e3",
     "locked": false,
     "points": 3,
     "schema_version": 3,
     "solution": true,
     "task": false
    }
   },
   "source": [
    "    s(v) ← « v := 0 » (n(w) « v := v + w »)+\n",
    "    n(v) ← 'I'('V' / 'X') « v := -1 » / 'I' « v := 1 » / 'X' ('L' / 'C') « v := -10 » / 'X' « v := 10 » / 'C' ('D' / 'M') « v := -100 » / 'C' « v := 100 » / 'V' « v := 5 » / 'L' « v := 50 » / 'D' « v := 500 » / 'M' « v := 1000 »"
   ]
  }
 ],
 "metadata": {
  "kernelspec": {
   "display_name": "Python 3 (ipykernel)",
   "language": "python",
   "name": "python3"
  },
  "language_info": {
   "codemirror_mode": {
    "name": "ipython",
    "version": 3
   },
   "file_extension": ".py",
   "mimetype": "text/x-python",
   "name": "python",
   "nbconvert_exporter": "python",
   "pygments_lexer": "ipython3",
   "version": "3.11.1"
  }
 },
 "nbformat": 4,
 "nbformat_minor": 5
}
