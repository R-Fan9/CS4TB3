{
 "cells": [
  {
   "cell_type": "markdown",
   "metadata": {
    "tags": []
   },
   "source": [
    "#### Three Formalizations"
   ]
  },
  {
   "cell_type": "markdown",
   "metadata": {
    "tags": []
   },
   "source": [
    "Consider the language `L` of possibly empty strings over the symbols `a, b, c` where the first `a` precedes the first `b`."
   ]
  },
  {
   "cell_type": "markdown",
   "metadata": {
    "tags": []
   },
   "source": [
    "1. Give a regular grammar that generates `L`."
   ]
  },
  {
   "cell_type": "markdown",
   "metadata": {
    "solution": "shown",
    "solution_first": true
   },
   "source": [
    "G=(T,N,S,P) where T={a,b,c}, N={X,Y}, S=X, and the productions `P` are:  \n",
    "    X -> cX | e | aY  \n",
    "    Y -> e | aY | bY | cY  "
   ]
  },
  {
   "cell_type": "markdown",
   "metadata": {
    "tags": []
   },
   "source": [
    "2. Give a regular expression that describes `L`."
   ]
  },
  {
   "cell_type": "markdown",
   "metadata": {
    "solution": "shown",
    "solution_first": true
   },
   "source": [
    "c*[a(a|b|c)*]"
   ]
  },
  {
   "cell_type": "markdown",
   "metadata": {
    "tags": []
   },
   "source": [
    "3. Give a finite state automaton that accepts `L`."
   ]
  },
  {
   "cell_type": "markdown",
   "metadata": {
    "solution": "shown",
    "solution_first": true
   },
   "source": [
    "A = (T,Q,R,q0, F), where T = {a,b,c}, Q={q0, q1}, F={q0, q1}, and the transitions are:  \n",
    "    q0 c -> q0  \n",
    "    q0 a -> q1  \n",
    "    q1 a -> q1  \n",
    "    q1 b -> q1\n",
    "    q1 c -> q1\n",
    "\n",
    "Note hwo A is constructed from G:q0,q1 corresponds to X, Y for every production, there is an equivalent transition, the initial state q0 corresponds to the start symbol X, the final states corresponds to nonterminals that have a production to e."
   ]
  },
  {
   "cell_type": "code",
   "execution_count": null,
   "metadata": {},
   "outputs": [],
   "source": []
  }
 ],
 "metadata": {
  "kernelspec": {
   "display_name": "Python 3 (ipykernel)",
   "language": "python",
   "name": "python3"
  },
  "language_info": {
   "codemirror_mode": {
    "name": "ipython",
    "version": 3
   },
   "file_extension": ".py",
   "mimetype": "text/x-python",
   "name": "python",
   "nbconvert_exporter": "python",
   "pygments_lexer": "ipython3",
   "version": "3.11.1"
  }
 },
 "nbformat": 4,
 "nbformat_minor": 4
}
