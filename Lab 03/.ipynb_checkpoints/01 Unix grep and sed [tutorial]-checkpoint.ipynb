{
 "cells": [
  {
   "cell_type": "markdown",
   "metadata": {},
   "source": [
    "#### UNIX grep and sed Tutorial"
   ]
  },
  {
   "cell_type": "markdown",
   "metadata": {
    "hidden": true
   },
   "source": [
    "The UNIX command `grep` (global search for regular expressions and print) searches lines of text files for substrings that match a regular expression and prints those lines. The symbols of grep expressions are ASCII characters. _Extended regular expressions_ are supported by  `grep -E` (or `egrep` in earlier versions of UNIX):\n",
    "\n",
    "| regular expression | matching string                                                                           |\n",
    "|:-------------------|:------------------------------------------------------------------------------------------|\n",
    "| `c`                | non-operator character `c`                                                                |\n",
    "| `\\c`               | character `c` literally                                                                   |\n",
    "| `r₁r₂`             | sequence of regular expressions `r₁` and `r₁`                                                 |\n",
    "| `r₁│r₂`         | either `r₁` or `r₂`                                                          |\n",
    "| `r*`               | zero or more occurrences of `r`, where `r` is a regular expression for a single character |\n",
    "| `r+`               | one or more occurrences of `r`, same as `rr*`                                |\n",
    "| `r?`               | zero or one occurrence of `r`                                                |\n",
    "| `(r)`              | same as `r`                        |\n",
    "| `r{i}`         | `i` repetitions of `r`, e.g. `9{3}` = `999`                               |\n",
    "| `r{i,j}`         | `i` to `j` repetitions of `r`, e.g. `9{1,3}` = `9│99│999`                               |\n",
    "| `r{i,}`         | at least `i` repetitions of `r`, e.g. `9{3,}` = `9999*`                               |\n",
    "| `r{,j}`         | at most `j` repetitions of `r`, e.g. `9{,3}` = `(9│99│999)?`                               |\n",
    "| `[s]`              | character class, e.g. `[ab34] = a│b│3│4` and `[A-Za-z] = A│…│Z│a│…│z`                     |\n",
    "| `[^s]`             | complemented character class, e.g. `[^0-9]` are all non-digit characters                  |\n",
    "| `.`                | character class with all characters                                                       |\n",
    "| `^`                | a fictitious character at the beginning of a line                                         |\n",
    "| `$`                | a fictitious character at the end of a line                                               |\n",
    "|`\\<`                | a fictitious character at the beginning of a word |\n",
    "| `\\>`               | a fictitious character at the end of a word |\n",
    "| `\\b`               | a fictitious character at the edge of a word |\n",
    "| `\\B`               | a fictitious character that is not at the edge of a word |\n",
    "| `\\w`               | synonym for `[_[:alnum:]]` |\n",
    "| `\\W`              | same as `[^_[:alnum:]]` |\n",
    "| `[[:alnum:]]`   | same as `[0-9A-Za-z]` |\n",
    "| `[[:alpha:]]`    | same as `[A-Za-z]` |\n",
    "| `[[:cntrl:]]`      | Control characters. In ASCII, these characters have octal codes 000 through 037, and 177 (DEL) |\n",
    "| `[[:digit:]]`      | same as `[0123456789]` |\n",
    "| `[[:graph:]]`    | `[:alnum:]` and `[:punct:]` |\n",
    "| `[[:lower:]]`    | same as `[abcdefghijklmnopqrstuvwxyz]` |\n",
    "| `[[:print:]]`     | `[:alnum:]`, `[:punct:]`, and ` ` (space) |\n",
    "| `[[:punct:]]`    | punctuation characters, same as <code>[!\"#$%&'()*+,-./:;<=>?@[\\]^`{\\|}~]</code> |\n",
    "| `[[:space:]]`   | tab, newline, vertical tab, form feed, carriage return, and `' '` (space) |\n",
    "| `[[:upper:]]`   | same as `[ABCDEFGHIJKLMNOPQRSTUVWXYZ]` |\n",
    "| `[[:xdigit:]]`    | hexadecimal digits, same as `[0123456789ABCDEFabcdef]` |\n",
    "\n",
    "In  basic  regular  expressions,  `?`, `+`, `{`, `|`, `(`, and `)` lose their special meaning; `\\?`, `\\+`, `\\{`, `\\|`, `\\(`, and `\\)` have to be used instead.\n",
    "\n",
    "Consult the [online manual](https://www.gnu.org/software/grep/manual/grep.html) and the _man page_ by opening a new terminal in Jupyter and typing in `man grep`."
   ]
  },
  {
   "cell_type": "markdown",
   "metadata": {
    "hidden": true
   },
   "source": [
    "The Jupyter (IPython) `%%writefile` [cell magic](https://ipython.readthedocs.io/en/stable/interactive/magics.html#cell-magics) writes the content of the cell to the named file:"
   ]
  },
  {
   "cell_type": "code",
   "execution_count": 2,
   "metadata": {
    "hidden": true
   },
   "outputs": [
    {
     "name": "stdout",
     "output_type": "stream",
     "text": [
      "Writing file.txt\n"
     ]
    }
   ],
   "source": [
    "%%writefile file.txt\n",
    "A line starting with a character and with 3.14\n",
    "17 does not start with a character\n",
    "(comment)\n",
    "(comment with space in between)\n",
    "(  comment9)\n",
    "()"
   ]
  },
  {
   "cell_type": "markdown",
   "metadata": {
    "hidden": true
   },
   "source": [
    "The Jupyter (IPython) `%%bash` [cell magic](https://ipython.readthedocs.io/en/stable/interactive/magics.html#cell-magics) allows an arbitrary shell command to be executed:"
   ]
  },
  {
   "cell_type": "code",
   "execution_count": 3,
   "metadata": {
    "hidden": true
   },
   "outputs": [
    {
     "name": "stdout",
     "output_type": "stream",
     "text": [
      "A line starting with a character and with 3.14\n",
      "17 does not start with a character\n"
     ]
    }
   ],
   "source": [
    "%%bash\n",
    "grep -E '\\b[[:digit:]]+\\b' file.txt # Prints all lines with at least one separated number"
   ]
  },
  {
   "cell_type": "code",
   "execution_count": null,
   "metadata": {
    "hidden": true
   },
   "outputs": [],
   "source": [
    "%%bash\n",
    "grep -E '\\b[[:digit:]]+\\b.*\\b[[:digit:]]+\\b' file.txt # Prints all lines with at least two separated numbers"
   ]
  },
  {
   "cell_type": "code",
   "execution_count": null,
   "metadata": {
    "hidden": true
   },
   "outputs": [],
   "source": [
    "%%bash\n",
    "grep -E '^[a-zA-Z]' file.txt # Prints all lines beginning with a letter."
   ]
  },
  {
   "cell_type": "code",
   "execution_count": null,
   "metadata": {
    "hidden": true
   },
   "outputs": [],
   "source": [
    "%%bash\n",
    "grep -E '\\( *([a-zA-Z]*|[0-9]*) *\\)' file.txt # Prints all lines that contain either letters or digits in\n",
    "# parentheses with spaces optionally preceding and following, but not letter-digit combinations in parentheses."
   ]
  },
  {
   "cell_type": "code",
   "execution_count": null,
   "metadata": {
    "hidden": true
   },
   "outputs": [],
   "source": [
    "%%bash\n",
    "grep -E '[0-9]+\\.[0-9]*|\\.[0-9]+' file.txt # Prints all lines containing a floating point number."
   ]
  },
  {
   "cell_type": "markdown",
   "metadata": {},
   "source": [
    "---"
   ]
  },
  {
   "cell_type": "markdown",
   "metadata": {
    "hidden": true
   },
   "source": [
    "The UNIX command `sed` is a _stream editor_ that uses regular expressions in search and replace commands. Consult the [online manual](https://www.gnu.org/software/sed/manual/sed.html) and the _man page_ by opening a new terminal in Jupyter and typing in `man sed`."
   ]
  },
  {
   "cell_type": "code",
   "execution_count": null,
   "metadata": {},
   "outputs": [],
   "source": [
    "%%writefile dayandnight.txt\n",
    "night and day, day and night   \n",
    "daydreamer daylight dayshift\n",
    "daydreamer daylight dayshift\n",
    "nightmare nightmare    "
   ]
  },
  {
   "cell_type": "markdown",
   "metadata": {},
   "source": [
    "The typical use is `sed SCRIPT INPUTFILE`, which produces output on `stdout`. For example, the script `'1,2p'` prints the lines 1 - 2. The `-n` (quite) option suppressed that the input is printed as well:"
   ]
  },
  {
   "cell_type": "code",
   "execution_count": null,
   "metadata": {},
   "outputs": [],
   "source": [
    "!sed -n '1,2p' dayandnight.txt"
   ]
  },
  {
   "cell_type": "markdown",
   "metadata": {},
   "source": [
    "The script `'2d'` deletes line 2; here, the `-n` option is left out:"
   ]
  },
  {
   "cell_type": "code",
   "execution_count": null,
   "metadata": {},
   "outputs": [],
   "source": [
    "!sed '2d' dayandnight.txt"
   ]
  },
  {
   "cell_type": "markdown",
   "metadata": {},
   "source": [
    "The script `'s/night/day/'` replaces the first occurrence of `night` with `day` on each line:"
   ]
  },
  {
   "cell_type": "code",
   "execution_count": null,
   "metadata": {},
   "outputs": [],
   "source": [
    "!sed 's/night/day/' dayandnight.txt"
   ]
  },
  {
   "cell_type": "markdown",
   "metadata": {},
   "source": [
    "The script `'s/night/day/2'` replaces the second occurrence of `night` with `day` on each line:"
   ]
  },
  {
   "cell_type": "code",
   "execution_count": null,
   "metadata": {},
   "outputs": [],
   "source": [
    "!sed 's/night/day/2' dayandnight.txt"
   ]
  },
  {
   "cell_type": "markdown",
   "metadata": {},
   "source": [
    "The script `'s/night/day/g'` replaces all occurrences of `night` with `day` on each line:"
   ]
  },
  {
   "cell_type": "code",
   "execution_count": null,
   "metadata": {},
   "outputs": [],
   "source": [
    "!sed 's/night/day/g' dayandnight.txt"
   ]
  },
  {
   "cell_type": "markdown",
   "metadata": {},
   "source": [
    "The script `'2 s/day/night/g'` replaces all occurrences of `night` with `day` in the second line :"
   ]
  },
  {
   "cell_type": "code",
   "execution_count": null,
   "metadata": {},
   "outputs": [],
   "source": [
    "!sed ' 2 s/day/night/g' dayandnight.txt"
   ]
  },
  {
   "cell_type": "markdown",
   "metadata": {},
   "source": [
    "The script ` 's/([[:alpha:]]*)/\\1 \\1/g'` duplicates every word consisting only of letters: `[[:alpha:]]*` matches as many characters as possible and the backreference `\\1` refers to the first parenthesized expression, which is `([[:alpha:]]*)`:"
   ]
  },
  {
   "cell_type": "code",
   "execution_count": null,
   "metadata": {},
   "outputs": [],
   "source": [
    "!sed -r 's/([[:alpha:]]*)/\\1 \\1/g' dayandnight.txt"
   ]
  },
  {
   "cell_type": "markdown",
   "metadata": {},
   "source": [
    "The `-r` flag allows extended regular expressions. Backreferences are numbered, `\\0`, `\\1`, `\\2`, etc., referring to the n-th parenthesized expression. The reference `\\0` refers to the first non-parenthesized expression and is abbreviated by `&`; see below for an example. Backreferences can be used in the search expression. The script `'/([a-z]+) \\1/p'` prints all lines that match `[a-z]+` and match the same string again, i.e. all lines with duplicate words:"
   ]
  },
  {
   "cell_type": "code",
   "execution_count": null,
   "metadata": {},
   "outputs": [],
   "source": [
    "!sed -rn '/([a-z]+) \\1/p' dayandnight.txt"
   ]
  },
  {
   "cell_type": "markdown",
   "metadata": {},
   "source": [
    "The pattern also matches `d d` in `and day`. To fix this, `\\b` is used to match at word boundaries:"
   ]
  },
  {
   "cell_type": "code",
   "execution_count": null,
   "metadata": {},
   "outputs": [],
   "source": [
    "!sed -rn '/(\\b[a-z]+)\\b \\1/p' dayandnight.txt"
   ]
  },
  {
   "cell_type": "markdown",
   "metadata": {},
   "source": [
    "[Perl regular expressions](https://perldoc.perl.org/perlre) extend standard Unix regular expressions; they are not universally supported. The script `'s/\\<./\\u&/g'` capitalizes the first letter of each word: `\\u` capitalizes the subsequent expression,  `&` here, which matches `\\<.`, the first letter of a word. See also this [introduction](https://www.regular-expressions.info/replacecase.html):"
   ]
  },
  {
   "cell_type": "code",
   "execution_count": 1,
   "metadata": {},
   "outputs": [
    {
     "name": "stdout",
     "output_type": "stream",
     "text": [
      "sed: can't read dayandnight.txt: No such file or directory\n"
     ]
    }
   ],
   "source": [
    "!sed -r 's/\\<./\\u&/g' dayandnight.txt"
   ]
  },
  {
   "cell_type": "markdown",
   "metadata": {},
   "source": [
    "Write an sed script that indents all lines by four characters!"
   ]
  },
  {
   "cell_type": "code",
   "execution_count": null,
   "metadata": {},
   "outputs": [],
   "source": [
    "!sed -r 's/^/    //g' dayandnight.txt"
   ]
  },
  {
   "cell_type": "markdown",
   "metadata": {},
   "source": [
    "Write an sed script that removes all trailing spaces! Use `wc` to check that spaces have indeed been removed!"
   ]
  },
  {
   "cell_type": "code",
   "execution_count": null,
   "metadata": {},
   "outputs": [],
   "source": [
    "!sed -r 's/ *$//g' dayandnight.txt\n",
    "!sed -r 's/ *$//g' dayandnight.txt | wc"
   ]
  }
 ],
 "metadata": {
  "kernelspec": {
   "display_name": "Python 3 (ipykernel)",
   "language": "python",
   "name": "python3"
  },
  "language_info": {
   "codemirror_mode": {
    "name": "ipython",
    "version": 3
   },
   "file_extension": ".py",
   "mimetype": "text/x-python",
   "name": "python",
   "nbconvert_exporter": "python",
   "pygments_lexer": "ipython3",
   "version": "3.11.1"
  }
 },
 "nbformat": 4,
 "nbformat_minor": 4
}
