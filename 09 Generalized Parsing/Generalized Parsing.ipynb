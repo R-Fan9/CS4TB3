{
 "cells": [
  {
   "cell_type": "markdown",
   "metadata": {
    "slideshow": {
     "slide_type": "slide"
    }
   },
   "source": [
    "---\n",
    "\n",
    "# 8. Generalized Parsing\n",
    "**[Emil Sekerinski](http://www.cas.mcmaster.ca/~emil/), McMaster University, March 2024**\n",
    "\n",
    "---"
   ]
  },
  {
   "cell_type": "markdown",
   "metadata": {
    "slideshow": {
     "slide_type": "slide"
    }
   },
   "source": [
    "#### General Context-free Parsing"
   ]
  },
  {
   "cell_type": "markdown",
   "metadata": {
    "slideshow": {
     "slide_type": "slide"
    }
   },
   "source": [
    "[Earley's parser](https://doi-org.libaccess.lib.mcmaster.ca/10.1145/362007.362035) works with an arbitrary context-free grammar without backtracking. If the grammar is unambiguous, it produces a parse tree in quadratic time; if the grammar is ambiguous, it produces all parse trees in cubic time (in the length of the input). For most “practical” grammars, it produces a parse tree in linear time.\n",
    "\n",
    "We assume that the start symbol `S` appears only on the left-hand side of one rule, `S → π`; if that is not the case, a rule `S' → S` with a new start symbol `S'` can be added. Earley's parser is a top-down parser that constructs all possible derivations simultaneously: starting with `S`, nonterminals are eagerly expanded according to the all possible productions, rather than just a single production."
   ]
  },
  {
   "cell_type": "markdown",
   "metadata": {
    "slideshow": {
     "slide_type": "slide"
    }
   },
   "source": [
    "Let `P` be the set of productions and let the input be given by `x₁, …, xₙ`. Assume `xₙ₊₁ = $`, where `$` is a symbol that does not occur anywhere in the grammar. For each position of the input a set `sᵢ` of *Earley items* is maintained. An (Earley) item is a grammar rule with the right-hand side split, visualized by `•`, together with an index into the input string. An item `(A → σ • ω, j)`at position `i` means that `A` is attempted to be recognized at input position `j + 1` and up to `i` the input `xⱼ₊₁…xᵢ` can be derived from `σ`, formally `σ ⇒* xⱼ₊₁…xᵢ`. At each position `i`, the algorithm adds items to `sᵢ` in *predict* and *complete* steps and to `sᵢ₊₁` in *match* steps. The algorithm iterates over all items at one position. Since items are being added, a set, `v`, of visited items is maintained.\n",
    "\n",
    "```\n",
    "s₀ := {(S → • π, 0)}; for i = 1 to n do sᵢ := {}\n",
    "for i = 0 to n do\n",
    "    v := {}\n",
    "    while v ≠ sᵢ do\n",
    "        e :∈ sᵢ - v; v := v ∪ {e}\n",
    "        case e of\n",
    "            (A → σ • a ω, j) and a = xᵢ₊₁:        -- match (M)\n",
    "                sᵢ₊₁ := sᵢ₊₁ ∪ {(A → σ a • ω, j)} \n",
    "            (A → σ • B ω, j):                            -- predict (P)\n",
    "                for B → μ ∈ P do\n",
    "                    sᵢ := sᵢ ∪ {(B → • μ, i)} \n",
    "            (A → σ •, j):                                   -- complete (C)\n",
    "                for (B → μ • A ξ, k) ∈ sⱼ do\n",
    "                    sᵢ := sᵢ ∪ {(B → μ A • ξ, k)}\n",
    "accept := (S → π •, 0) ∈ sₙ\n",
    "```"
   ]
  },
  {
   "cell_type": "markdown",
   "metadata": {
    "slideshow": {
     "slide_type": "slide"
    }
   },
   "source": [
    "<div style=\"float:left\">\n",
    "\n",
    "Consider the grammar:\n",
    "\n",
    "    E → T | E + T\n",
    "    T → F | T × F\n",
    "    F → a\n",
    "\n",
    "The input `a + a × a` is accepted as `(S → E •, 0) ∈ s₅`.\n",
    "\n",
    "Lines in bold correspond to the derivation.\n",
    "</div>\n",
    "\n",
    "<div style=\"float:right\">\n",
    "\n",
    "|            | item                | step      |\n",
    "|:-----------|:--------------------|:----------|\n",
    "| `s₀`:      | `S → • E, 0`        |           |\n",
    "| `(x₁ = a)` | `E → • T, 0`        | P         |\n",
    "|            | `E → • E + T, 0`    | P         |\n",
    "|            | `T → • F, 0`        | P         |\n",
    "|            | `T → • T × F, 0`    | P         | \n",
    "|            | `F → • a, 0`        | P         |\n",
    "| `s₁`:      | **`F → a •, 0`**        | **M at `0`**  |\n",
    "| `(x₂ = +)` | **`T → F •, 0`**        | C         |\n",
    "|            | **`E → T •, 0`**        | C         |\n",
    "|            | `T → T • × F, 0`    | C         |\n",
    "|            | `S → E •, 0`        | C         |\n",
    "|            | `E → E • + T, 0`    | C         |\n",
    "| `s₂`:      | `E → E + • T, 0`    | M at `1`  |\n",
    "| `(x₃ = a)` | `T → • T × F, 2`    | P         |\n",
    "|            | `T → • F, 2`        | P         |\n",
    "|            | `F → • a, 2`        | P         |\n",
    "| `s₃`:      | **`F → a •, 2`**        | **M at `2`**  |\n",
    "| `(x₄ = ×)` | **`T → F •, 2`**        | **C**         |\n",
    "|            | `E → E + T •, 0`    | C         |\n",
    "|            | `T → T • × F, 2`    | C         |\n",
    "|            | `S → E •, 0`        | C         |\n",
    "|            | `E → E • + T, 0`    | C         |\n",
    "| `s₄`:      | `T → T × • F, 2`    | M at `3`  |\n",
    "| `(x₅ = a)` | `F → • a, 4`        | P         |\n",
    "| `s₅`:      | **`F → a •, 4`**        | **M at `4`**  |\n",
    "| `(x₆ = $)` | **`T → T × F •, 2`**    | **C**         |\n",
    "|            | **`E → E + T •, 0`**    | C         |\n",
    "|            | `T → T • × F, 2`    | C         |\n",
    "|            | **`S → E •, 0`**        | **C**         |\n",
    "|            | `E → E • + T, 0`    | C         |\n",
    "\n",
    "</div>"
   ]
  },
  {
   "cell_type": "markdown",
   "metadata": {
    "slideshow": {
     "slide_type": "slide"
    }
   },
   "source": [
    "The Python implementation below assumes that each terminal and nonterminal is a single character, the grammar is represented by a tuple of productions, and each production is a string of the form `A→τ` where `A` is a nonterminal. The first production, `g[0]` in the implementation, defines the start symbol. Since in Python strings are indexed starting from `0`, an extra character, `^`, is prepended to the input. The sequence `a ω` in the algorithm corresponds to `τ` in the implementation and `A ξ` corresponds to `ν`. "
   ]
  },
  {
   "cell_type": "code",
   "execution_count": 7,
   "metadata": {},
   "outputs": [],
   "source": [
    "def parse(g: \"grammar\", x: \"input\"):\n",
    "    global s\n",
    "    n = len(x); x = '^' + x + '$'; S, π = g[0][0], g[0][2:]\n",
    "    s = [{(S, '', π, 0)}] + [set() for _ in range(n)]; print('   s[ 0 ]:', S, '→ •', π, ', 0')\n",
    "    for i in range(n + 1):\n",
    "        v = set() # visited items\n",
    "        while v != s[i]:\n",
    "            e = (s[i] - v).pop(); v.add(e) # pick an arbirary un-visited item\n",
    "            A, σ, τ, j = e\n",
    "            if len(τ) > 0 and τ[0] == x[i + 1]: # match, a == τ[0]\n",
    "                f = (A, σ + τ[0], τ[1:], j)\n",
    "                s[i + 1].add(f); print('M  s[', i + 1, ']:', f[0], '→', f[1], '•', f[2], ',', f[3])\n",
    "            elif len(τ) > 0: # predict, B == ω[0]\n",
    "                for f in ((r[0], '', r[2:], i) for r in g if r[0] == τ[0]):\n",
    "                    s[i].add(f); print('P  s[', i, ']:', f[0], '→', f[1], '•', f[2], ',', f[3])\n",
    "            else: # complete, len(τ) == 0\n",
    "                for f in ((B, μ + ν[0], ν[1:], k) for (B, μ, ν, k) in s[j] if len(ν) > 0 and ν[0] == A):\n",
    "                    s[i].add(f); print('C  s[', i, ']:', f[0], '→', f[1], '•', f[2], ',', f[3])\n",
    "    return (S, π, '', 0) in s[n]"
   ]
  },
  {
   "cell_type": "code",
   "execution_count": 8,
   "metadata": {},
   "outputs": [],
   "source": [
    "G1 = (\"S→E\", \"E→a\", \"E→E+E\")"
   ]
  },
  {
   "cell_type": "code",
   "execution_count": 9,
   "metadata": {},
   "outputs": [
    {
     "name": "stdout",
     "output_type": "stream",
     "text": [
      "   s[ 0 ]: S → • E , 0\n",
      "P  s[ 0 ]: E →  • a , 0\n",
      "P  s[ 0 ]: E →  • E+E , 0\n",
      "M  s[ 1 ]: E → a •  , 0\n",
      "P  s[ 0 ]: E →  • a , 0\n",
      "P  s[ 0 ]: E →  • E+E , 0\n",
      "C  s[ 1 ]: E → E • +E , 0\n",
      "C  s[ 1 ]: S → E •  , 0\n",
      "M  s[ 2 ]: E → E+ • E , 0\n",
      "P  s[ 2 ]: E →  • a , 2\n",
      "P  s[ 2 ]: E →  • E+E , 2\n",
      "P  s[ 2 ]: E →  • a , 2\n",
      "P  s[ 2 ]: E →  • E+E , 2\n",
      "M  s[ 3 ]: E → a •  , 2\n",
      "C  s[ 3 ]: E → E+E •  , 0\n",
      "C  s[ 3 ]: E → E • +E , 2\n",
      "C  s[ 3 ]: E → E • +E , 0\n",
      "C  s[ 3 ]: S → E •  , 0\n",
      "M  s[ 4 ]: E → E+ • E , 0\n",
      "M  s[ 4 ]: E → E+ • E , 2\n",
      "P  s[ 4 ]: E →  • a , 4\n",
      "P  s[ 4 ]: E →  • E+E , 4\n",
      "P  s[ 4 ]: E →  • a , 4\n",
      "P  s[ 4 ]: E →  • E+E , 4\n",
      "P  s[ 4 ]: E →  • a , 4\n",
      "P  s[ 4 ]: E →  • E+E , 4\n",
      "M  s[ 5 ]: E → a •  , 4\n",
      "C  s[ 5 ]: E → E • +E , 4\n",
      "C  s[ 5 ]: E → E+E •  , 0\n",
      "C  s[ 5 ]: E → E+E •  , 2\n",
      "C  s[ 5 ]: E → E • +E , 0\n",
      "C  s[ 5 ]: S → E •  , 0\n",
      "C  s[ 5 ]: E → E+E •  , 0\n",
      "C  s[ 5 ]: E → E • +E , 2\n"
     ]
    },
    {
     "data": {
      "text/plain": [
       "True"
      ]
     },
     "execution_count": 9,
     "metadata": {},
     "output_type": "execute_result"
    }
   ],
   "source": [
    "parse(G1, \"a+a+a\")"
   ]
  },
  {
   "cell_type": "code",
   "execution_count": 4,
   "metadata": {},
   "outputs": [],
   "source": [
    "grammar = (\"S→E\", \"E→T\", \"E→E+T\", \"T→F\", \"T→T×F\", \"F→a\")"
   ]
  },
  {
   "cell_type": "code",
   "execution_count": 5,
   "metadata": {},
   "outputs": [
    {
     "data": {
      "text/plain": [
       "True"
      ]
     },
     "execution_count": 5,
     "metadata": {},
     "output_type": "execute_result"
    }
   ],
   "source": [
    "parse(grammar, \"a+a×a\")"
   ]
  },
  {
   "cell_type": "markdown",
   "metadata": {},
   "source": [
    "The algorithm can be \"animated\" by uncommenting the `print` statements; the resulting set of items can also be observed:"
   ]
  },
  {
   "cell_type": "code",
   "execution_count": 6,
   "metadata": {},
   "outputs": [
    {
     "data": {
      "text/plain": [
       "[{('E', '', 'E+T', 0),\n",
       "  ('E', '', 'T', 0),\n",
       "  ('F', '', 'a', 0),\n",
       "  ('S', '', 'E', 0),\n",
       "  ('T', '', 'F', 0),\n",
       "  ('T', '', 'T×F', 0)},\n",
       " {('E', 'E', '+T', 0),\n",
       "  ('E', 'T', '', 0),\n",
       "  ('F', 'a', '', 0),\n",
       "  ('S', 'E', '', 0),\n",
       "  ('T', 'F', '', 0),\n",
       "  ('T', 'T', '×F', 0)},\n",
       " {('E', 'E+', 'T', 0),\n",
       "  ('F', '', 'a', 2),\n",
       "  ('T', '', 'F', 2),\n",
       "  ('T', '', 'T×F', 2)},\n",
       " {('E', 'E', '+T', 0),\n",
       "  ('E', 'E+T', '', 0),\n",
       "  ('F', 'a', '', 2),\n",
       "  ('S', 'E', '', 0),\n",
       "  ('T', 'F', '', 2),\n",
       "  ('T', 'T', '×F', 2)},\n",
       " {('F', '', 'a', 4), ('T', 'T×', 'F', 2)},\n",
       " {('E', 'E', '+T', 0),\n",
       "  ('E', 'E+T', '', 0),\n",
       "  ('F', 'a', '', 4),\n",
       "  ('S', 'E', '', 0),\n",
       "  ('T', 'T', '×F', 2),\n",
       "  ('T', 'T×F', '', 2)}]"
      ]
     },
     "execution_count": 6,
     "metadata": {},
     "output_type": "execute_result"
    }
   ],
   "source": [
    "s"
   ]
  },
  {
   "cell_type": "markdown",
   "metadata": {},
   "source": [
    "For efficiency, instead of using a set of items for an Earley state, a lists with a marker separating the items  that have been visited and that still need to be visited can be used.\n",
    "\n",
    "The number of items in `sᵢ` is proportional to `i` in the worst case. Matching and predicting need at most `i` steps for `sᵢ`, but completing may need `i²` steps, as adding an item may cause a previous set to be revisited. Summing `i²` for `i` from `0` to `n` is `n³`, thus Earley's parser needs `n³` steps in the worst case."
   ]
  },
  {
   "cell_type": "markdown",
   "metadata": {},
   "source": [
    "#### Parsing Expression Grammars and Packrat Parsing"
   ]
  },
  {
   "cell_type": "markdown",
   "metadata": {},
   "source": [
    "The productions of context-free grammars are *generative*. [Parsing expression grammars](https://bford.info/pub/lang/peg/) are an alternative to context-free grammars that describe how practical parsers *recognize:*\n",
    "- They do not allow nondeterminism in productions: these are resolved in the grammar using *prioritized choice* and *greedy operators*.\n",
    "- *Syntactic predicates* allow to express certain non-context-free languages.\n",
    "- Parsing allows unlimited lookahead and backtracking but still runs in time linear to the length of the input.\n",
    "- Parsers can be implemented by recursive descend and are simple enough to be written by hand.\n",
    "\n",
    "Productions are written as `A ← E`, and `E` is a parsing expression. Parsing according to a parsing expression may *succeed* or *fail:*\n",
    "\n",
    "| expression            | name                |    |\n",
    "|:----------------|:-----------------------------|:------|\n",
    "| `'ε'`         |empty string | succeed without consuming |\n",
    "| `'a'`         |literal string | consume `a` literally, otherwise fail |\n",
    "| `B`             | nonterminal `B` | consume `B`, otherwise fail |\n",
    "| `(E)`          | grouping | consume `E`, otherwise fail |\n",
    "| `E?`          | optional  | consume `E` if possible |\n",
    "| `E*`          | zero-or-more | consume `E` as often as possible |\n",
    "| `E+`          | one-or-more | consume `E` once, otherwise fail, and then as often as possible |\n",
    "| `&E`          | and-predicate | match `E` and do not consume, otherwise fail  |\n",
    "| `!E`          | not-predicate | match anything but `E`  and do not consume, otherwise fail |\n",
    "| `E₁ E₂`    | sequence | consume `E₁`, then `E₂`, otherwise fail |\n",
    "| `E₁ / E₂` | prioritized choice | consume `E₁`, otherwise consume `E₂`, otherwise fail |"
   ]
  },
  {
   "cell_type": "markdown",
   "metadata": {},
   "source": [
    "In EBNF, \n",
    "\n",
    "  `A → a b | a`    and    `A → a | a b`\n",
    "\n",
    "are equivalent. The PEG rules\n",
    "\n",
    "  `A ← a b / a`    and    `A → a / a b`\n",
    "\n",
    "are different: the second rule will never match `a b` as the first alternative is given priority. For example, the EBNF production\n",
    "\n",
    "    statement → \"if\" expression \"then\" statement [\"else\" statement\"]\n",
    "    \n",
    "allows `if E then if F then S else T` to be parsed as either `if E then (if F then S) else T` or as `if E then (if F then S else T)`, known as the *dangling else* problem. In EBNF, this is resolved informally or by complicating the grammar. In PEG, a prioritized choice or optional expression resolves the ambiguity:\n",
    "\n",
    "    statement ← \"if\" expression \"then\" statement \"else\" statement\" / \"if\" expression \"then\" statement\n",
    "    statement ← \"if\" expression \"then\" statement (\"else\" statement\")?\n",
    "\n",
    "That is, `E?` is *greedy*: `E` must be consumed if possible; it is a shorthand for `E / ε`."
   ]
  },
  {
   "cell_type": "markdown",
   "metadata": {},
   "source": [
    "Consider the definition of symbols in terms of characters:\n",
    "\n",
    "    operator → '<' ' =' | '<' | '=' | '<' '<'\n",
    "\n",
    "The sentence `<<=` is an ambiguous sequence of symbols. This is informally resolved by applying the *longest match rule*. The longest match can be expressed in PEG:\n",
    "\n",
    "    operator ← '<' ' =' / '<' '<' / '<' / '=' \n",
    "    \n",
    "The regular expression `a* a` matches a non-empty sequence of `a`s. The PEG expression `a* a` will not match any sequence of `a`s as `a*` matches the whole sequence, and the final `a` cannot be matched. Greedy repetition is equivalent to recursion with prioritized choice:\n",
    "\n",
    "  `A ← E*`    is equivalent to    `A ← E A / ε`  \n",
    "  `A ← E+`    is equivalent to    `A ← E E*`\n",
    "\n",
    "For example,\n",
    "\n",
    "  `('0' / '1')*`    matches    <code><u>110</u>+10</code>"
   ]
  },
  {
   "cell_type": "markdown",
   "metadata": {},
   "source": [
    "The and-predicates and not-predicate match but do not consume their operands. For example,\n",
    "\n",
    "  `'f' 'o' 'o' 'd' &('i' 'e')`    matches    <code><u>food</u>ie</code>    and fails on    `foodchain`  \n",
    "  `'f' 'o' 'o' 'd' !('i' 'e')`    fails on     `foodie`    and matches   <code><u>food</u>chain</code>"
   ]
  },
  {
   "cell_type": "markdown",
   "metadata": {},
   "source": [
    "A parsing expression grammar `G = (T, N, P, S)` is specified by \n",
    "- a finite set `T` of *terminal symbols*,\n",
    "- a finite set `N` of *nonterminal symbols*,\n",
    "- a finite set `P` of *productions*,\n",
    "- a symbol `S ∈ N`, the *start symbol*\n",
    "\n",
    "where `N ∩ T = {}` and `V = T ∪ N` is its *vocabulary*. Productions are  pairs, written `A ← E`, where `A` is a nonterminal and `E` is a parsing expression."
   ]
  },
  {
   "cell_type": "markdown",
   "metadata": {},
   "source": [
    "The language accepted by `G` is the language accepted by a parser for `G`. A *packrat* parser consists of a set of mutually recursive parsing procedures. A parsing procedure for nonterminal `A` takes a parameter, `k`, at which parsing the input should start and returns either the index to where `A` was recognized or `Fail`:\n",
    "\n",
    "| `p`             | `pr(p)`                      |\n",
    "|:----------------|:-----------------------------|\n",
    "| `B → E`         | `procedure B(k: integer) → integer \\| Fail` <br> `pr(E)` <br> `return k` |\n",
    "\n",
    "The input `src` is a global variable. The rules for constructing `pr(E)` for recognizing `E` starting at position `k` in `src` are:\n",
    "\n",
    "| `E`             | `pr(E)`                             |\n",
    "|:----------------|:------------------------------------|\n",
    "| `'a'`           | `if prefix('a', src[k:]) then k := k + len(a) else k := Fail` |\n",
    "| `B`             | `k ← B(k)`                               |\n",
    "| `(E₁)`          | `pr(E₁)`                            |\n",
    "| `E₁?`          | `var r  := k` <br> `pr(E₁)` <br> `if k = Fail then k := r`    |\n",
    "| `E₁*`          | `var r` <br> `while k ≠ Fail do` <br>  `r := k ; pr(E₁)` <br> `k := r`   |\n",
    "| `&E`          |  `var r := k` <br> `pr(E₁)` <br> `if k ≠ Fail then k := r`   |\n",
    "| `!E`          |  `var r := k` <br> `pr(E₁)` <br> `if k = Fail then k := r else k := Fail`   |\n",
    "| `E₁ E₂  …`       | `pr(E₁)` <br>`if k ≠ Fail then pr(E₂)` <br>`…`       |\n",
    "| `E₁ / E₂ /  …`   | `var r := k` <br> `pr(E₁)` <br> `if k = Fail then` <br>  `k := r ; pr(E₂)` <br>  `…`  |\n",
    "\n",
    "The procedure of the start symbol has to be called for recognizing a sentence of the language."
   ]
  },
  {
   "cell_type": "markdown",
   "metadata": {},
   "source": [
    "Consider the following EBNF grammar; it cannot be parsed by recursive descent with `k` symbols lookahead for any `k`:\n",
    "\n",
    "    S → A | B\n",
    "    A → x A | y\n",
    "    B → x B | z\n",
    "\n",
    "The equivalent PEG `P` is:\n",
    "\n",
    "    S ← A / B\n",
    "    A ← x A / y\n",
    "    B ← x B / z\n",
    "\n",
    "The corresponding packrat parser is expressed as a Python class with the source as a field; a failing parsing procedure returns `None`:"
   ]
  },
  {
   "cell_type": "code",
   "execution_count": 10,
   "metadata": {},
   "outputs": [],
   "source": [
    "class PBacktrack:\n",
    "    src: str\n",
    "\n",
    "    def literal(self, k : int, a: str):\n",
    "        if self.src.startswith(a, k): return k + len(a) # else return None\n",
    "\n",
    "    def S(self, k: int):\n",
    "        r = k; k = self.A(k)\n",
    "        if k == None: k = self.B(r)\n",
    "        return k\n",
    "\n",
    "    def A(self, k: int):\n",
    "        r = k; k = self.literal(k, 'x')\n",
    "        if k != None: k = self.A(k)\n",
    "        if k == None: k = self.literal(r, 'y')\n",
    "        return k\n",
    "\n",
    "    def B(self, k: int):\n",
    "        r = k; k = self.literal(k, 'x')\n",
    "        if k != None: k = self.B(k)\n",
    "        if k == None: k = self.literal(r, 'z')\n",
    "        return k\n",
    "\n",
    "    def parse(self, s: str):\n",
    "        self.src = s; return self.S(0)"
   ]
  },
  {
   "cell_type": "code",
   "execution_count": 11,
   "metadata": {},
   "outputs": [],
   "source": [
    "P = PBacktrack()\n",
    "assert P.parse('') == None and P.parse('x') == None and P.parse('y') == 1 and P.parse('z') == 1 and P.parse('xy') == 2 and P.parse('xz') == 2 and  P.parse('xxxxxxxxz') == 9"
   ]
  },
  {
   "cell_type": "markdown",
   "metadata": {},
   "source": [
    "Parsing is greedy and stops when no further input can be recongized, even if there is more input: "
   ]
  },
  {
   "cell_type": "code",
   "execution_count": 13,
   "metadata": {},
   "outputs": [],
   "source": [
    "assert P.parse('xxyx') == 3"
   ]
  }
 ],
 "metadata": {
  "kernelspec": {
   "display_name": "Python 3 (ipykernel)",
   "language": "python",
   "name": "python3"
  },
  "language_info": {
   "codemirror_mode": {
    "name": "ipython",
    "version": 3
   },
   "file_extension": ".py",
   "mimetype": "text/x-python",
   "name": "python",
   "nbconvert_exporter": "python",
   "pygments_lexer": "ipython3",
   "version": "3.11.1"
  },
  "livereveal": {
   "scroll": true
  },
  "rise": {
   "enable_chalkboard": true
  }
 },
 "nbformat": 4,
 "nbformat_minor": 4
}
