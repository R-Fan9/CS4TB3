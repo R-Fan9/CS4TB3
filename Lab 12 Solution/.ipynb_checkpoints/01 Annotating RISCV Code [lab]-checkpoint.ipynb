{
 "cells": [
  {
   "cell_type": "markdown",
   "metadata": {
    "tags": []
   },
   "source": [
    "#### Annotating RISC-V Code"
   ]
  },
  {
   "cell_type": "markdown",
   "metadata": {},
   "source": [
    "**Note:** This notebook needs to be run in a folder with the P0 compiler."
   ]
  },
  {
   "cell_type": "markdown",
   "metadata": {
    "tags": []
   },
   "source": [
    "For the following questions, study first `CGriscv.ipynb`, in particular the parts on procedure calling and array indexing."
   ]
  },
  {
   "cell_type": "code",
   "execution_count": null,
   "metadata": {},
   "outputs": [],
   "source": [
    "import nbimporter; nbimporter.options[\"only_defs\"] = False\n",
    "from P0 import compileString"
   ]
  },
  {
   "cell_type": "markdown",
   "metadata": {
    "tags": []
   },
   "source": [
    "Generate the RISC-V assembly code of the following P0 program:"
   ]
  },
  {
   "cell_type": "code",
   "execution_count": null,
   "metadata": {},
   "outputs": [],
   "source": [
    "compileString(\"\"\"\n",
    "var s: integer\n",
    "var a: [0 .. 9] → integer\n",
    "procedure sum(l, h: integer)\n",
    "  var i: integer\n",
    "    s := 0; i := l\n",
    "    while i ≤ h do\n",
    "        s := s + a[i]; i := i + 1\n",
    "program printsum\n",
    "  a[0] := 5; a[1] := 7\n",
    "  sum(0, 1)\n",
    "  write(s)\n",
    "\"\"\", 'printsum.s', target = 'riscv')"
   ]
  },
  {
   "cell_type": "markdown",
   "metadata": {},
   "source": [
    "We can view the RISCV assembly code:"
   ]
  },
  {
   "cell_type": "code",
   "execution_count": null,
   "metadata": {},
   "outputs": [],
   "source": [
    "!cat printsum.s"
   ]
  },
  {
   "cell_type": "markdown",
   "metadata": {},
   "source": [
    "You can execute it with a RISCV emulator library in Python:\n",
    "\n",
    "Note that the riscemu library has issues with the standard method read() in P0, you have to execute it from the command line"
   ]
  },
  {
   "cell_type": "code",
   "execution_count": null,
   "metadata": {},
   "outputs": [],
   "source": [
    "!python3 -m riscemu printsum.s"
   ]
  },
  {
   "cell_type": "markdown",
   "metadata": {
    "tags": []
   },
   "source": [
    "Annotate each line of the generated RISCV file with an assignment or brief description what the instruction does, using register/variable names rather than offsets and addresses. For each procedure (`sum` and `printsum`), state the size of the parameters (`parsize`) and the size of the local variables (`localsize`). State for each local variable and parameter the offset used for FP-relative addressing. \n",
    "\n",
    "Note that `write` is a system call, `scall`, with the function to be executed, `1`, in `a0` and the parameter in `a1`.  `4` in `a2` means write 4 bytes. The P0 code generator unnecessarily pushes the parameter also on the stack."
   ]
  },
  {
   "cell_type": "markdown",
   "metadata": {},
   "source": [
    "YOUR ANSWER HERE"
   ]
  },
  {
   "cell_type": "markdown",
   "metadata": {},
   "source": [
    "<pre style=\"font-family:monospace;color:royalblue\">\n",
    "    .data\n",
    "s_: .space 4         ; global variable s (4 bytes)\n",
    "a_: .space 40        ; global variable a (40 bytes)\n",
    "\t.text\n",
    "\t.globl sum\n",
    "sum:                 ; parsize = 8 (2 params), localsize = 4\n",
    "\taddi sp, sp, -32 ; decrease stack pointer by n. n = 32 \n",
    "                     ; (stack pointer is always kept 16-byte aligned)\n",
    "                     ; n = (8 + parsize + localsize) rounded up\n",
    "                     ; to the nearest 16\n",
    "\tsw ra, 20(sp)    ; push ra to SP + parsize + 12\n",
    "\tsw s0, 16(sp)    ; push s0/ FP  to SP + parsize + 8\n",
    "\taddi s0, sp, 24  ; s0/FP := SP + (n - 8)\n",
    "                     ; s, a are global variables at s_, a_\n",
    "                     ; currently the  stack has the following structure from top to bottom (stack grows downwards):\n",
    "                     ; l at FP + 4     (stored here by the caller)\n",
    "                     ; h at FP + 0   (stored here by the caller)\n",
    "                     ; old ra at FP - 4\n",
    "                     ; old s0/FP at FP - 8\n",
    "                     ; i at FP -12  \n",
    "\tla s10, s_       ; load address of global variable s into s10\n",
    "\tsw zero, 0(s10)  ; s := 0\n",
    "\tlw s8, 4(s0)     ; s8 := l\n",
    "\tsw s8, -12(s0)   ; i := s8\n",
    "L1:\t\n",
    "\tlw s11, -12(s0)  ; s11 := i\n",
    "\tlw s9, 0(s0)     ; s9 := h\n",
    "\tblt s9, s11, L2  ; if s9 > s11 then PC := L2\n",
    "L3:\t\n",
    "\tlw s7, -12(s0)   ; s7 := i\n",
    "\taddi s3, zero, 4 ; s3 := 4\n",
    "\tmul s7, s7, s3   ; s7 = s7 * s3\n",
    "\tla s6, s_\n",
    "\tlw s5, 0(s6)     ; s5 = s\n",
    "\tlw s4, a_(s7)    ; s4 := Mem[a + s7]\n",
    "\tadd s5, s5, s4   ; s5 := s5 + s4\n",
    "\tla s2, s_\n",
    "\tsw s5, 0(s2)     ; s := s5\n",
    "\tlw s10, -12(s0)  ; s10 := i\n",
    "\taddi s10, s10, 1 ; s10 := s10 + 1\n",
    "\tsw s10, -12(s0)  ; i := s10\n",
    "\tj L1\n",
    "L2:\t\n",
    "\tlw ra, 20(sp)    ; restore ra from SP + parsize + 12\n",
    "\tlw s0, 16(sp)    ; restore s0/FP from SP + parsize + 8\n",
    "\taddi sp, sp, 32  ; restore SP to SP + n\n",
    "\tret              ; PC := ra\n",
    "\t.globl main\n",
    "main:\t\n",
    "\tjal ra, printsum ; call printsum, ra, PC := PC + 4, printsum\n",
    "\taddi a0, zero, 0     \n",
    "\taddi a7, zero, 93 ; call sysexit\n",
    "\tscall\n",
    "\t.globl printsum\n",
    "printsum:             ; parsize = 0, localsize = 0\n",
    "\taddi sp, sp, -16  ; decrease stack pointer by n, n = 16\n",
    "\tsw ra, 12(sp)     ; push ra to SP + parsize + 12\n",
    "\tsw s0, 8(sp)      ; push s0/ FP  to SP + parsize + 8\n",
    "\taddi s0, sp, 16   ; s0/FP := SP + (n - 8)\n",
    "\taddi s8, zero, 5  ; s8 := 5\n",
    "\tla s11, a_\n",
    "\tsw s8, 0(s11)     ; Mem[a] := s8\n",
    "\taddi s9, zero, 7  ; s9 := 7\n",
    "\tla s7, a_\n",
    "\tsw s9, 4(s7)      ; Mem[a+4] := s9\n",
    "\tsw zero, -4(sp)   ; push 0 to SP - 4\n",
    "\taddi s3, zero, 1  ; s3 := 1\n",
    "\tsw s3, -8(sp)     ; push s3 to SP - 8\n",
    "\tjal ra, sum       ; call sum, ra, PC := PC + 4, sum\n",
    "\tla s6, s_         ; s6 := s\n",
    "\tlw s2, 0(s6)      ; s2 := s\n",
    "\tsw s2, -4(sp)     ; push s2 to SP - 4\n",
    "\tmv s5, a0         ; s5 := a0\n",
    "\tla s4, s_         ; s4 := s\n",
    "\tlw a1, 0(s4)      ; a1 := s (a1 is the register holding parameter for write)\n",
    "\taddi a0, zero, 1\n",
    "\taddi a2, zero, 4\n",
    "\taddi a7, zero, SCALL_WRITEINT \n",
    "\tscall  ; call write\n",
    "\tmv a0, s5         ; a0 := s5\n",
    "\tlw ra, 12(sp)     ; restore ra from SP + parsize + 12\n",
    "\tlw s0, 8(sp)      ; restore s0/FP from SP + parsize + 8\n",
    "\taddi sp, sp, 16   ; restore SP to SP + n\n",
    "\tret               ; PC := ra\n",
    " </pre>"
   ]
  }
 ],
 "metadata": {
  "kernelspec": {
   "display_name": "Python 3 (ipykernel)",
   "language": "python",
   "name": "python3"
  },
  "language_info": {
   "codemirror_mode": {
    "name": "ipython",
    "version": 3
   },
   "file_extension": ".py",
   "mimetype": "text/x-python",
   "name": "python",
   "nbconvert_exporter": "python",
   "pygments_lexer": "ipython3",
   "version": "3.11.1"
  }
 },
 "nbformat": 4,
 "nbformat_minor": 4
}
