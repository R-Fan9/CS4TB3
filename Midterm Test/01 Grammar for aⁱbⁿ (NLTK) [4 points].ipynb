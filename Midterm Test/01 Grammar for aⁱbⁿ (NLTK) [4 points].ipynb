{
 "cells": [
  {
   "cell_type": "markdown",
   "metadata": {
    "deletable": false,
    "editable": false,
    "nbgrader": {
     "cell_type": "markdown",
     "checksum": "adbea12ba302ca85a30c2edc2bc252de",
     "grade": false,
     "grade_id": "cell-45e0e3a7ab735658",
     "locked": true,
     "schema_version": 3,
     "solution": false,
     "task": false
    },
    "tags": []
   },
   "source": [
    "### Grammar for `aⁱbⁿ` (NLTK)"
   ]
  },
  {
   "cell_type": "markdown",
   "metadata": {
    "deletable": false,
    "editable": false,
    "hidden": true,
    "nbgrader": {
     "cell_type": "markdown",
     "checksum": "d4dacef14d7e31f1454c8e5e46249fe0",
     "grade": false,
     "grade_id": "cell-3a8b8f857b31dd55",
     "locked": true,
     "schema_version": 3,
     "solution": false,
     "task": false
    }
   },
   "source": [
    "As a reminder, grammar `G = (T, N, P, S)` with `T = {a, b}`, `N = {S}`, and productions `P`\n",
    "\n",
    "    S → ε\n",
    "    S → aSbS\n",
    "    S → bSaS\n",
    "\n",
    "is written in NLTK with productions for the same nonterminal on one line with `|` or separate lines; `ε` is simply left out:"
   ]
  },
  {
   "cell_type": "code",
   "execution_count": null,
   "metadata": {
    "deletable": false,
    "editable": false,
    "hidden": true,
    "nbgrader": {
     "cell_type": "code",
     "checksum": "29fd62161b462532e9d6bd1e33aa5df1",
     "grade": false,
     "grade_id": "cell-e9e0155706d9f113",
     "locked": true,
     "schema_version": 3,
     "solution": false,
     "task": false
    },
    "solution": "hidden",
    "tags": []
   },
   "outputs": [],
   "source": [
    "import nltk\n",
    "grammar = nltk.CFG.fromstring(\"\"\"\n",
    "S -> 'a' S 'b' S | 'b' S 'a' S | \n",
    "\"\"\")\n",
    "parser = nltk.ChartParser(grammar)\n",
    "trees = list(parser.parse(['a', 'b', 'a', 'b']))\n",
    "for t in trees: print(t)"
   ]
  },
  {
   "cell_type": "markdown",
   "metadata": {
    "deletable": false,
    "editable": false,
    "nbgrader": {
     "cell_type": "markdown",
     "checksum": "f722ece47511f5b2064cc37476e373f7",
     "grade": false,
     "grade_id": "cell-a010ff684586fe19",
     "locked": true,
     "schema_version": 3,
     "solution": false,
     "task": false
    }
   },
   "source": [
    "The start symbol is the left-hand side of the first production. The function `parser.parse(sent)` returns a generator for parse trees, which above is used to produce a list of parse trees. If `sent` cannot be parsed, the list is empty. The parameter `['a', 'b', 'a', 'b']` can be abbreviated to `'abab'`:"
   ]
  },
  {
   "cell_type": "code",
   "execution_count": null,
   "metadata": {
    "deletable": false,
    "editable": false,
    "nbgrader": {
     "cell_type": "code",
     "checksum": "077a99fb22f2064912d52ae79a3857a5",
     "grade": false,
     "grade_id": "cell-4e8a54a0002fa9ad",
     "locked": true,
     "schema_version": 3,
     "solution": false,
     "task": false
    }
   },
   "outputs": [],
   "source": [
    "assert list(parser.parse('abab')) != []\n",
    "assert list(parser.parse('aba')) == []"
   ]
  },
  {
   "cell_type": "markdown",
   "metadata": {
    "deletable": false,
    "editable": false,
    "nbgrader": {
     "cell_type": "markdown",
     "checksum": "6428bb53f991cbd695685961f8f7aaef",
     "grade": false,
     "grade_id": "cell-fcc3256d0fec9f85",
     "locked": true,
     "schema_version": 3,
     "solution": false,
     "task": false
    }
   },
   "source": [
    "---"
   ]
  },
  {
   "cell_type": "markdown",
   "metadata": {
    "deletable": false,
    "editable": false,
    "nbgrader": {
     "cell_type": "markdown",
     "checksum": "42d2ba7dba1be0a90430efca923da5a6",
     "grade": false,
     "grade_id": "cell-b7c0cc4cd901c134",
     "locked": true,
     "schema_version": 3,
     "solution": false,
     "task": false
    }
   },
   "source": [
    "Using NLTK, write a grammar for the language `aⁱbⁿ` where `0 ≤ i < n`!"
   ]
  },
  {
   "cell_type": "code",
   "execution_count": 26,
   "metadata": {
    "deletable": false,
    "hidden": true,
    "nbgrader": {
     "cell_type": "code",
     "checksum": "d3735f173b0a9e16a5b1a285dbde0c56",
     "grade": false,
     "grade_id": "cell-1a049d553b84f97b",
     "locked": false,
     "schema_version": 3,
     "solution": true,
     "task": false
    },
    "solution": "hidden",
    "tags": []
   },
   "outputs": [],
   "source": [
    "import nltk\n",
    "\n",
    "grammar = nltk.CFG.fromstring(\"\"\"\n",
    "S -> 'b' | 'a' S 'b' | S 'b' \n",
    "\"\"\")\n",
    "\n",
    "# S -> b | aSb | Sb\n",
    "\n",
    "# aSb\n",
    "# a(aSb)b\n",
    "# aabbb\n",
    "\n",
    "# aSb\n",
    "# a(Sb)b\n",
    "# ab\n",
    "# b\n",
    "# a(aSbb)bb\n",
    "# abb\n",
    "# aabbb\n",
    "# abbb\n",
    "# aaaabbbbb\n",
    "\n",
    "# parser = nltk.ChartParser(grammar)\n",
    "# trees = list(parser.parse(['a', 'b', 'a', 'b']))\n",
    "# for t in trees: print(t)\n",
    "parser = nltk.ChartParser(grammar)"
   ]
  },
  {
   "cell_type": "markdown",
   "metadata": {
    "deletable": false,
    "editable": false,
    "nbgrader": {
     "cell_type": "markdown",
     "checksum": "e6022e3eae910cad6b4e70eb5cf296af",
     "grade": false,
     "grade_id": "cell-8ee01b7b44d444ae",
     "locked": true,
     "schema_version": 3,
     "solution": false,
     "task": false
    }
   },
   "source": [
    "You can insert cells to see the trees NLTK generates; the grammar can be ambiguous. Here are some tests:"
   ]
  },
  {
   "cell_type": "code",
   "execution_count": 27,
   "metadata": {
    "deletable": false,
    "editable": false,
    "nbgrader": {
     "cell_type": "code",
     "checksum": "753e83cbeafca57362d6c489171d8b79",
     "grade": true,
     "grade_id": "cell-442835edb917c0dd",
     "locked": true,
     "points": 2,
     "schema_version": 3,
     "solution": false,
     "task": false
    }
   },
   "outputs": [],
   "source": [
    "assert list(parser.parse('')) == []\n",
    "assert list(parser.parse('a')) == []\n",
    "assert list(parser.parse('b')) != []\n",
    "assert list(parser.parse('aa')) == []\n",
    "assert list(parser.parse('ab')) == []\n",
    "assert list(parser.parse('ba')) == []\n",
    "assert list(parser.parse('bb')) != []"
   ]
  },
  {
   "cell_type": "code",
   "execution_count": 28,
   "metadata": {
    "deletable": false,
    "editable": false,
    "nbgrader": {
     "cell_type": "code",
     "checksum": "21e7bbc3476b4f878ad90f1b970a6316",
     "grade": true,
     "grade_id": "cell-4c38ec0a90f280e9",
     "locked": true,
     "points": 2,
     "schema_version": 3,
     "solution": false,
     "task": false
    }
   },
   "outputs": [],
   "source": [
    "assert list(parser.parse('aaa')) == []\n",
    "assert list(parser.parse('aab')) == []\n",
    "assert list(parser.parse('abb')) != []\n",
    "assert list(parser.parse('bbb')) != []"
   ]
  },
  {
   "cell_type": "code",
   "execution_count": null,
   "metadata": {},
   "outputs": [],
   "source": []
  }
 ],
 "metadata": {
  "kernelspec": {
   "display_name": "Python 3 (ipykernel)",
   "language": "python",
   "name": "python3"
  },
  "language_info": {
   "codemirror_mode": {
    "name": "ipython",
    "version": 3
   },
   "file_extension": ".py",
   "mimetype": "text/x-python",
   "name": "python",
   "nbconvert_exporter": "python",
   "pygments_lexer": "ipython3",
   "version": "3.11.1"
  }
 },
 "nbformat": 4,
 "nbformat_minor": 4
}
