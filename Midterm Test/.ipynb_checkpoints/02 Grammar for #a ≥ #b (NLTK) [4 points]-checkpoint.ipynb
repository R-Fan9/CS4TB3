{
 "cells": [
  {
   "cell_type": "markdown",
   "metadata": {
    "deletable": false,
    "editable": false,
    "nbgrader": {
     "cell_type": "markdown",
     "checksum": "1ddcbd05f84d30ac29ffef31c868f889",
     "grade": false,
     "grade_id": "cell-45e0e3a7ab735658",
     "locked": true,
     "schema_version": 3,
     "solution": false,
     "task": false
    },
    "tags": []
   },
   "source": [
    "### Grammar for #a ≥ #b (NLTK)"
   ]
  },
  {
   "cell_type": "markdown",
   "metadata": {
    "deletable": false,
    "editable": false,
    "hidden": true,
    "nbgrader": {
     "cell_type": "markdown",
     "checksum": "d4dacef14d7e31f1454c8e5e46249fe0",
     "grade": false,
     "grade_id": "cell-3a8b8f857b31dd55",
     "locked": true,
     "schema_version": 3,
     "solution": false,
     "task": false
    }
   },
   "source": [
    "As a reminder, grammar `G = (T, N, P, S)` with `T = {a, b}`, `N = {S}`, and productions `P`\n",
    "\n",
    "    S → ε\n",
    "    S → aSbS\n",
    "    S → bSaS\n",
    "\n",
    "is written in NLTK with productions for the same nonterminal on one line with `|` or separate lines; `ε` is simply left out:"
   ]
  },
  {
   "cell_type": "code",
   "execution_count": 1,
   "metadata": {
    "deletable": false,
    "editable": false,
    "hidden": true,
    "nbgrader": {
     "cell_type": "code",
     "checksum": "29fd62161b462532e9d6bd1e33aa5df1",
     "grade": false,
     "grade_id": "cell-e9e0155706d9f113",
     "locked": true,
     "schema_version": 3,
     "solution": false,
     "task": false
    },
    "solution": "hidden",
    "tags": []
   },
   "outputs": [
    {
     "name": "stdout",
     "output_type": "stream",
     "text": [
      "(S a (S b (S ) a (S )) b (S ))\n",
      "(S a (S ) b (S a (S ) b (S )))\n"
     ]
    }
   ],
   "source": [
    "import nltk\n",
    "grammar = nltk.CFG.fromstring(\"\"\"\n",
    "S -> 'a' S 'b' S | 'b' S 'a' S | \n",
    "\"\"\")\n",
    "parser = nltk.ChartParser(grammar)\n",
    "trees = list(parser.parse(['a', 'b', 'a', 'b']))\n",
    "for t in trees: print(t)"
   ]
  },
  {
   "cell_type": "markdown",
   "metadata": {
    "deletable": false,
    "editable": false,
    "nbgrader": {
     "cell_type": "markdown",
     "checksum": "f722ece47511f5b2064cc37476e373f7",
     "grade": false,
     "grade_id": "cell-a010ff684586fe19",
     "locked": true,
     "schema_version": 3,
     "solution": false,
     "task": false
    }
   },
   "source": [
    "The start symbol is the left-hand side of the first production. The function `parser.parse(sent)` returns a generator for parse trees, which above is used to produce a list of parse trees. If `sent` cannot be parsed, the list is empty. The parameter `['a', 'b', 'a', 'b']` can be abbreviated to `'abab'`:"
   ]
  },
  {
   "cell_type": "code",
   "execution_count": 2,
   "metadata": {
    "deletable": false,
    "editable": false,
    "nbgrader": {
     "cell_type": "code",
     "checksum": "077a99fb22f2064912d52ae79a3857a5",
     "grade": false,
     "grade_id": "cell-4e8a54a0002fa9ad",
     "locked": true,
     "schema_version": 3,
     "solution": false,
     "task": false
    }
   },
   "outputs": [],
   "source": [
    "assert list(parser.parse('abab')) != []\n",
    "assert list(parser.parse('aba')) == []"
   ]
  },
  {
   "cell_type": "markdown",
   "metadata": {
    "deletable": false,
    "editable": false,
    "nbgrader": {
     "cell_type": "markdown",
     "checksum": "6428bb53f991cbd695685961f8f7aaef",
     "grade": false,
     "grade_id": "cell-fcc3256d0fec9f85",
     "locked": true,
     "schema_version": 3,
     "solution": false,
     "task": false
    }
   },
   "source": [
    "---"
   ]
  },
  {
   "cell_type": "markdown",
   "metadata": {
    "deletable": false,
    "editable": false,
    "nbgrader": {
     "cell_type": "markdown",
     "checksum": "734441137e491abb5c1204d7476cf278",
     "grade": false,
     "grade_id": "cell-b7c0cc4cd901c134",
     "locked": true,
     "schema_version": 3,
     "solution": false,
     "task": false
    }
   },
   "source": [
    "Using NLTK, write a grammar for the language over `a` and `b` where there as least as many `a`'s as `b`'s, formally `{w ∈ Σ* | a#w ≥ b#w}` where `Σ = {a, b}`!"
   ]
  },
  {
   "cell_type": "code",
   "execution_count": 15,
   "metadata": {
    "deletable": false,
    "nbgrader": {
     "cell_type": "code",
     "checksum": "068a33c9e1890435de8c0dcabbd07542",
     "grade": false,
     "grade_id": "cell-15ffead5664717c8",
     "locked": false,
     "schema_version": 3,
     "solution": true,
     "task": false
    }
   },
   "outputs": [],
   "source": [
    "import nltk\n",
    "grammar = nltk.CFG.fromstring(\"\"\"\n",
    "S -> 'b' S 'a' | 'a' S 'b' | 'a' S | S 'b' 'a' | S 'a' 'b' | 'b' 'a' S | 'a' 'b' S | \n",
    "\"\"\")\n",
    "\n",
    "# S -> bSa | aSb | aS | Sba | Sab | baS | abS\n",
    "parser = nltk.ChartParser(grammar)"
   ]
  },
  {
   "cell_type": "markdown",
   "metadata": {
    "deletable": false,
    "editable": false,
    "nbgrader": {
     "cell_type": "markdown",
     "checksum": "e6022e3eae910cad6b4e70eb5cf296af",
     "grade": false,
     "grade_id": "cell-8ee01b7b44d444ae",
     "locked": true,
     "schema_version": 3,
     "solution": false,
     "task": false
    }
   },
   "source": [
    "You can insert cells to see the trees NLTK generates; the grammar can be ambiguous. Here are some tests:"
   ]
  },
  {
   "cell_type": "code",
   "execution_count": 16,
   "metadata": {
    "deletable": false,
    "editable": false,
    "nbgrader": {
     "cell_type": "code",
     "checksum": "a6fa7c48da750ebebb62be8e5d0d8dfe",
     "grade": true,
     "grade_id": "cell-442835edb917c0dd",
     "locked": true,
     "points": 1,
     "schema_version": 3,
     "solution": false,
     "task": false
    }
   },
   "outputs": [],
   "source": [
    "assert list(parser.parse('')) != []\n",
    "assert list(parser.parse('a')) != []\n",
    "assert list(parser.parse('b')) == []\n",
    "assert list(parser.parse('aa')) != []\n",
    "assert list(parser.parse('ab')) != []\n",
    "assert list(parser.parse('ba')) != []\n",
    "assert list(parser.parse('bb')) == []"
   ]
  },
  {
   "cell_type": "code",
   "execution_count": 17,
   "metadata": {
    "deletable": false,
    "editable": false,
    "nbgrader": {
     "cell_type": "code",
     "checksum": "0af22da034449ecd2c1bc2394d32f3a9",
     "grade": true,
     "grade_id": "cell-4c38ec0a90f280e9",
     "locked": true,
     "points": 1,
     "schema_version": 3,
     "solution": false,
     "task": false
    }
   },
   "outputs": [],
   "source": [
    "assert list(parser.parse('aaa')) != []\n",
    "assert list(parser.parse('aab')) != []\n",
    "assert list(parser.parse('aba')) != []\n",
    "assert list(parser.parse('baa')) != []\n",
    "assert list(parser.parse('bba')) == []\n",
    "assert list(parser.parse('bab')) == []\n",
    "assert list(parser.parse('abb')) == []"
   ]
  },
  {
   "cell_type": "code",
   "execution_count": 18,
   "metadata": {
    "deletable": false,
    "editable": false,
    "nbgrader": {
     "cell_type": "code",
     "checksum": "791af9ecf1c00e68624077cfef4ae2a1",
     "grade": true,
     "grade_id": "cell-ac71b8db65ba6698",
     "locked": true,
     "points": 2,
     "schema_version": 3,
     "solution": false,
     "task": false
    }
   },
   "outputs": [],
   "source": [
    "assert list(parser.parse('abab')) != []\n",
    "assert list(parser.parse('baab')) != []\n",
    "assert list(parser.parse('abba')) != []\n",
    "assert list(parser.parse('aaba')) != []\n",
    "assert list(parser.parse('bbba')) == []"
   ]
  },
  {
   "cell_type": "code",
   "execution_count": null,
   "metadata": {},
   "outputs": [],
   "source": []
  },
  {
   "cell_type": "code",
   "execution_count": null,
   "metadata": {},
   "outputs": [],
   "source": []
  }
 ],
 "metadata": {
  "kernelspec": {
   "display_name": "Python 3 (ipykernel)",
   "language": "python",
   "name": "python3"
  },
  "language_info": {
   "codemirror_mode": {
    "name": "ipython",
    "version": 3
   },
   "file_extension": ".py",
   "mimetype": "text/x-python",
   "name": "python",
   "nbconvert_exporter": "python",
   "pygments_lexer": "ipython3",
   "version": "3.11.1"
  }
 },
 "nbformat": 4,
 "nbformat_minor": 4
}
