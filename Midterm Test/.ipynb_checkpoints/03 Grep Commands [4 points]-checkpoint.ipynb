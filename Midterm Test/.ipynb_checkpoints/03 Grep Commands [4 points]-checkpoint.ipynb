{
 "cells": [
  {
   "cell_type": "markdown",
   "id": "e2336014-5aad-449c-a15d-175c9ec2e0a2",
   "metadata": {
    "deletable": false,
    "editable": false,
    "nbgrader": {
     "cell_type": "markdown",
     "checksum": "d31e4fbabb54f89626aa3a77d5255b8f",
     "grade": false,
     "grade_id": "cell-92201d81b344fc03",
     "locked": true,
     "schema_version": 3,
     "solution": false,
     "task": false
    }
   },
   "source": [
    "### Grep Commands"
   ]
  },
  {
   "cell_type": "markdown",
   "id": "11cc5ce2-c5f5-478b-b30d-8af001c0e90f",
   "metadata": {
    "deletable": false,
    "editable": false,
    "nbgrader": {
     "cell_type": "markdown",
     "checksum": "98a114924d01b5c8a5e462597e6cfe34",
     "grade": false,
     "grade_id": "cell-dfd1b362ca25f39f",
     "locked": true,
     "schema_version": 3,
     "solution": false,
     "task": false
    }
   },
   "source": [
    "As a reminder, _extended regular expressions_ as supported by  `grep -E` are:\n",
    "\n",
    "| regular expression | matching string                                                                           |\n",
    "|:-------------------|:------------------------------------------------------------------------------------------|\n",
    "| `c`                | non-operator character `c`                                                                |\n",
    "| `\\c`               | character `c` literally                                                                   |\n",
    "| `r₁r₂`             | sequence of regular expressions `r₁` and `r₁`                                                 |\n",
    "| `r₁│r₂`         | either `r₁` or `r₂`                                                          |\n",
    "| `r*`               | zero or more occurrences of `r`, where `r` is a regular expression for a single character |\n",
    "| `r+`               | one or more occurrences of `r`, same as `rr*`                                |\n",
    "| `r?`               | zero or one occurrence of `r`                                                |\n",
    "| `(r)`              | same as `r`                        |\n",
    "| `r{i}`         | `i` repetitions of `r`, e.g. `9{3}` = `999`                               |\n",
    "| `r{i,j}`         | `i` to `j` repetitions of `r`, e.g. `9{1,3}` = `9│99│999`                               |\n",
    "| `r{i,}`         | at least `i` repetitions of `r`, e.g. `9{3,}` = `9999*`                               |\n",
    "| `r{,j}`         | at most `j` repetitions of `r`, e.g. `9{,3}` = `(9│99│999)?`                               |\n",
    "| `[s]`              | character class, e.g. `[ab34] = a│b│3│4` and `[A-Za-z] = A│…│Z│a│…│z`                     |\n",
    "| `[^s]`             | complemented character class, e.g. `[^0-9]` are all non-digit characters                  |\n",
    "| `.`                | character class with all characters                                                       |\n",
    "| `^`                | a fictitious character at the beginning of a line                                         |\n",
    "| `$`                | a fictitious character at the end of a line                                               |\n",
    "|`\\<`                | a fictitious character at the beginning of a word |\n",
    "| `\\>`               | a fictitious character at the end of a word |\n",
    "| `\\b`               | a fictitious character at the edge of a word |\n",
    "| `\\B`               | a fictitious character that is not at the edge of a word |\n",
    "| `\\w`               | synonym for `[_[:alnum:]]` |\n",
    "| `\\W`              | same as `[^_[:alnum:]]` |\n",
    "| `[[:alnum:]]`   | same as `[0-9A-Za-z]` |\n",
    "| `[[:alpha:]]`    | same as `[A-Za-z]` |\n",
    "| `[[:cntrl:]]`      | Control characters. In ASCII, these characters have octal codes 000 through 037, and 177 (DEL) |\n",
    "| `[[:digit:]]`      | same as `[0123456789]` |\n",
    "| `[[:graph:]]`    | `[:alnum:]` and `[:punct:]` |\n",
    "| `[[:lower:]]`    | same as `[abcdefghijklmnopqrstuvwxyz]` |\n",
    "| `[[:print:]]`     | `[:alnum:]`, `[:punct:]`, and ` ` (space) |\n",
    "| `[[:punct:]]`    | punctuation characters, same as <code>[!\"#$%&'()*+,-./:;<=>?@[\\]^`{\\|}~]</code> |\n",
    "| `[[:space:]]`   | tab, newline, vertical tab, form feed, carriage return, and `' '` (space) |\n",
    "| `[[:upper:]]`   | same as `[ABCDEFGHIJKLMNOPQRSTUVWXYZ]` |\n",
    "| `[[:xdigit:]]`    | hexadecimal digits, same as `[0123456789ABCDEFabcdef]` |\n"
   ]
  },
  {
   "cell_type": "markdown",
   "id": "cbd5e89d-c6af-4386-99fb-5bf02284b6a7",
   "metadata": {
    "deletable": false,
    "editable": false,
    "nbgrader": {
     "cell_type": "markdown",
     "checksum": "082f4e68d617286b918d036479771fb2",
     "grade": false,
     "grade_id": "cell-60f7ebd848ca18dd",
     "locked": true,
     "schema_version": 3,
     "solution": false,
     "task": false
    }
   },
   "source": [
    "---"
   ]
  },
  {
   "cell_type": "markdown",
   "id": "03290044-339a-4ebd-9b58-c689207b496e",
   "metadata": {
    "deletable": false,
    "editable": false,
    "nbgrader": {
     "cell_type": "markdown",
     "checksum": "dee83c85df7a1e807ae3a53b4efe4199",
     "grade": false,
     "grade_id": "cell-4be8cce0b7ea557a",
     "locked": true,
     "schema_version": 3,
     "solution": false,
     "task": false
    }
   },
   "source": [
    "Explain in one line what the following grep commands do. "
   ]
  },
  {
   "cell_type": "markdown",
   "id": "c31a28d2-4a50-4eb1-9055-d539a64c8fd8",
   "metadata": {
    "deletable": false,
    "editable": false,
    "nbgrader": {
     "cell_type": "markdown",
     "checksum": "deba418b6168ba6b4cc0d6d80ab83c7c",
     "grade": false,
     "grade_id": "cell-f57ea3c92b992b6d",
     "locked": true,
     "schema_version": 3,
     "solution": false,
     "task": false
    }
   },
   "source": [
    "<p style=\"font-family:monospace; color: royalblue;\">grep -E '^ *while' file.txt</p>"
   ]
  },
  {
   "cell_type": "markdown",
   "id": "621087a7-f691-454f-8b77-973deb78953a",
   "metadata": {
    "deletable": false,
    "nbgrader": {
     "cell_type": "markdown",
     "checksum": "d25e7e90c69904697376cf1fddb5dfa8",
     "grade": true,
     "grade_id": "cell-41af06aa0f35a7ce",
     "locked": false,
     "points": 1,
     "schema_version": 3,
     "solution": true,
     "task": false
    }
   },
   "source": [
    "Every line start with zero or more occurrences of white space follow by the word \"while\""
   ]
  },
  {
   "cell_type": "markdown",
   "id": "59c3ffa8-d51b-4907-bdd9-f127ae32d2b3",
   "metadata": {
    "deletable": false,
    "editable": false,
    "nbgrader": {
     "cell_type": "markdown",
     "checksum": "34d0f7483fe5c964470a8ece91732672",
     "grade": false,
     "grade_id": "cell-21a07c34ad4bfe84",
     "locked": true,
     "schema_version": 3,
     "solution": false,
     "task": false
    }
   },
   "source": [
    "<p style=\"font-family:monospace; color: royalblue;\">grep -E '\\B#\\w+' file.txt</p>"
   ]
  },
  {
   "cell_type": "markdown",
   "id": "fb313108-503b-43b4-aafa-2486b76ba3fa",
   "metadata": {
    "deletable": false,
    "nbgrader": {
     "cell_type": "markdown",
     "checksum": "3b87c99fb4357fd8ba5af804b60a6733",
     "grade": true,
     "grade_id": "cell-d3eca06803467d88",
     "locked": false,
     "points": 1,
     "schema_version": 3,
     "solution": true,
     "task": false
    }
   },
   "source": [
    "Every line that contain word with a \"#\" symbol follow by one or more occurrences of digits, letters (upper or lower case) and underscore \"_\""
   ]
  },
  {
   "cell_type": "markdown",
   "id": "173f8243-09e4-4705-9b3e-418e85490c43",
   "metadata": {
    "deletable": false,
    "editable": false,
    "nbgrader": {
     "cell_type": "markdown",
     "checksum": "e0d36bfd485925cdde09b4da912a19c8",
     "grade": false,
     "grade_id": "cell-d7e3cd8197cb0a2e",
     "locked": true,
     "schema_version": 3,
     "solution": false,
     "task": false
    }
   },
   "source": [
    "<p style=\"font-family:monospace; color: royalblue;\">grep -E '\\$(\\.[0-9]+|[0-9]+\\.[0-9]*)' file.txt</p>"
   ]
  },
  {
   "cell_type": "markdown",
   "id": "58a6bf92-37d8-4b23-b682-816da8d71c2c",
   "metadata": {
    "deletable": false,
    "nbgrader": {
     "cell_type": "markdown",
     "checksum": "7c490a27b338c53638524e17a30842e4",
     "grade": true,
     "grade_id": "cell-3967ac67d2861d26",
     "locked": false,
     "points": 1,
     "schema_version": 3,
     "solution": true,
     "task": false
    }
   },
   "source": [
    "Every line either ends with a \".\" follow by one or more occurrences of digits, or one or more digits followed by a \".\" and follow by zero or more occurrences digits"
   ]
  },
  {
   "cell_type": "markdown",
   "id": "c3777138-8fcb-440a-9582-9c569c412130",
   "metadata": {
    "deletable": false,
    "editable": false,
    "nbgrader": {
     "cell_type": "markdown",
     "checksum": "885c095116b9504da2883093c033936c",
     "grade": false,
     "grade_id": "cell-56017771a519b43e",
     "locked": true,
     "schema_version": 3,
     "solution": false,
     "task": false
    }
   },
   "source": [
    "<p style=\"font-family:monospace; color: royalblue;\">grep -E '\".*{.*}.*\"' file.txt</p>"
   ]
  },
  {
   "cell_type": "markdown",
   "id": "15ee286b-db67-4510-b20a-3b85611e7e1d",
   "metadata": {
    "deletable": false,
    "nbgrader": {
     "cell_type": "markdown",
     "checksum": "518099ac09abfd3c558a01dc1fcfb48a",
     "grade": true,
     "grade_id": "cell-0bf79beed8372d75",
     "locked": false,
     "points": 1,
     "schema_version": 3,
     "solution": true,
     "task": false
    }
   },
   "source": [
    "Every line containing pattern that start with \" follow by zero or more occurrences of any characters, follow by \"{\", follow by zero or more occurrences of any characters, follow by \"}\", follow by zero or more occurrences of any characters, follow by \""
   ]
  },
  {
   "cell_type": "code",
   "execution_count": null,
   "id": "e278439f-f25d-4102-a24d-530e820634d3",
   "metadata": {},
   "outputs": [],
   "source": []
  }
 ],
 "metadata": {
  "kernelspec": {
   "display_name": "Python 3 (ipykernel)",
   "language": "python",
   "name": "python3"
  },
  "language_info": {
   "codemirror_mode": {
    "name": "ipython",
    "version": 3
   },
   "file_extension": ".py",
   "mimetype": "text/x-python",
   "name": "python",
   "nbconvert_exporter": "python",
   "pygments_lexer": "ipython3",
   "version": "3.11.1"
  }
 },
 "nbformat": 4,
 "nbformat_minor": 5
}
