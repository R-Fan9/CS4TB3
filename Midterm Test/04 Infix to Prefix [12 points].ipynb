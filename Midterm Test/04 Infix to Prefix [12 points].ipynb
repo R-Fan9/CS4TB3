{
 "cells": [
  {
   "cell_type": "markdown",
   "id": "036609c7-45cf-46ed-bc30-fb23d9fb97b3",
   "metadata": {
    "deletable": false,
    "editable": false,
    "nbgrader": {
     "cell_type": "markdown",
     "checksum": "a314fb3b4558b4064f009d6fd873f79f",
     "grade": false,
     "grade_id": "cell-f43d416d1474add8",
     "locked": true,
     "schema_version": 3,
     "solution": false,
     "task": false
    }
   },
   "source": [
    "### Infix to Prefix"
   ]
  },
  {
   "cell_type": "markdown",
   "id": "dbd88b6a-84bd-46fa-a56a-8c02b7463900",
   "metadata": {
    "deletable": false,
    "editable": false,
    "nbgrader": {
     "cell_type": "markdown",
     "checksum": "23ff38c609e492500bd798f24ee25d12",
     "grade": false,
     "grade_id": "cell-d6c56e6c5164e9bc",
     "locked": true,
     "schema_version": 3,
     "solution": false,
     "task": false
    }
   },
   "source": [
    "Consider the following grammar for arithmetic expressions. It has attribute rules for `integer` and `digit`; the attributes are not used:\n",
    "\n",
    "    expression → ws term { '+' ws term }\n",
    "    term → factor { '*' ws factor }\n",
    "    factor → (integer | '(' expression ')' ) ws\n",
    "    integer(p) → digit(p) { digit(q) « p := q + p» } ws\n",
    "    digit(p) → '0' « p := '0' » | ... | '9' « p := '9' »\n",
    "    ws → { ' ' }\n",
    "\n",
    "Here is a recursive descent parser for this grammar:"
   ]
  },
  {
   "cell_type": "code",
   "execution_count": null,
   "id": "caee988f-9931-48d7-bfaa-fa541dd62d05",
   "metadata": {
    "deletable": false,
    "editable": false,
    "nbgrader": {
     "cell_type": "code",
     "checksum": "bd0a87cf865efe73664bb9a4e19ac205",
     "grade": false,
     "grade_id": "cell-5cfa7eb76af04f7a",
     "locked": true,
     "schema_version": 3,
     "solution": false,
     "task": false
    }
   },
   "outputs": [],
   "source": [
    "pos: int; sym: str; src: str\n",
    "\n",
    "def nxt():\n",
    "    global pos, sym\n",
    "    if pos < len(src): sym, pos = src[pos], pos + 1\n",
    "    else: sym = chr(0) # end of input symbol\n",
    "\n",
    "def expression() -> str:\n",
    "    # expression → term { '+' ws term }\n",
    "    ws(); term()\n",
    "    while sym == '+': nxt(); ws(); term() \n",
    "\n",
    "def term() -> str:\n",
    "    # term → factor { '*' ws factor }\n",
    "    p = factor()\n",
    "    while sym == '*': nxt(); ws(); factor()\n",
    "\n",
    "def factor() -> str:\n",
    "    # factor → (integer | '(' expression ')' ) ws\n",
    "    if '0' <= sym <= '9': integer()\n",
    "    elif sym == '(':\n",
    "        nxt(); expression()\n",
    "        if sym == ')': nxt(); ws()\n",
    "        else: raise Exception(\"')' expected at \" + str(pos))\n",
    "    else: raise Exception(\"invalid character at \" + str(pos))\n",
    "\n",
    "def integer() -> str:\n",
    "    # integer(p) → digit(p) { digit(q) « p := q + p» } ws\n",
    "    p = digit()\n",
    "    while '0' <= sym <= '9': p += digit()\n",
    "    ws()\n",
    "    return p\n",
    "\n",
    "def digit() -> str:\n",
    "    # digit(p) → '0' « p := '0' » | ... | '9' « p := '9' »\n",
    "    # '0' <= sym <= '9'\n",
    "    p = sym; nxt()\n",
    "    return p\n",
    "\n",
    "def ws():\n",
    "    # ws → { ' ' }\n",
    "    while sym == ' ': nxt()\n",
    "\n",
    "def convert(s) -> str:\n",
    "    global src, pos;\n",
    "    src, pos = s, 0; nxt(); p = expression()\n",
    "    if sym != chr(0): raise Exception(\"unexpected character at \" + str(pos))\n",
    "    return p"
   ]
  },
  {
   "cell_type": "markdown",
   "id": "4c5ebfce-6b58-4d00-b632-e6eb598c9e5d",
   "metadata": {
    "deletable": false,
    "editable": false,
    "nbgrader": {
     "cell_type": "markdown",
     "checksum": "abf8d7bc4f9173dce702459a52ce7f8a",
     "grade": false,
     "grade_id": "cell-1159aaa93ef4d738",
     "locked": true,
     "schema_version": 3,
     "solution": false,
     "task": false
    }
   },
   "source": [
    "The task is write convert infix expressions according to the above grammar to prefix expressions. Test cases are below. Copy the above grammar to the cell below and add attribute rules to `expression`, `term`, and `factor` for a synthesized attribute that returns the prefix form of the parsed expression:"
   ]
  },
  {
   "cell_type": "markdown",
   "id": "0c158adf-b826-4db7-be85-b2ebe4afa243",
   "metadata": {
    "deletable": false,
    "nbgrader": {
     "cell_type": "markdown",
     "checksum": "80cbbf72ee5ec48bc1ce52cd8dae029b",
     "grade": true,
     "grade_id": "cell-56c9d60abbc96109",
     "locked": false,
     "points": 3,
     "schema_version": 3,
     "solution": true,
     "task": false
    }
   },
   "source": [
    "    expression(e) → ws term(e) { '+' ws term(f) « e := '+' 'e' 'f' » }\n",
    "    term(e) → factor(e) { '*' ws factor(f) « e := '*' 'e' 'f' » }\n",
    "    factor(e) → (integer(e) | '(' expression(e) ')' ) ws\n",
    "    integer(p) → digit(p) { digit(q) « p := q + p» } ws\n",
    "    digit(p) → '0' « p := '0' » | ... | '9' « p := '9' »\n",
    "    ws → { ' ' }"
   ]
  },
  {
   "cell_type": "markdown",
   "id": "3a61da93-c83c-44ba-9427-3879c53a02c9",
   "metadata": {},
   "source": [
    "Now implement your attribute grammar. Copy and paste the above implementation into the cell below and modify it appropriate!"
   ]
  },
  {
   "cell_type": "code",
   "execution_count": 22,
   "id": "edbaa0b1-88bc-470a-8468-af7843fceb90",
   "metadata": {
    "deletable": false,
    "nbgrader": {
     "cell_type": "code",
     "checksum": "278877492ee45749694baaba516d97e6",
     "grade": false,
     "grade_id": "cell-bb7b875ea2257b39",
     "locked": false,
     "schema_version": 3,
     "solution": true,
     "task": false
    }
   },
   "outputs": [],
   "source": [
    "pos: int; sym: str; src: str\n",
    "\n",
    "def nxt():\n",
    "    global pos, sym\n",
    "    if pos < len(src): sym, pos = src[pos], pos + 1\n",
    "    else: sym = chr(0) # end of input symbol\n",
    "\n",
    "def expression() -> str:\n",
    "    # expression → term { '+' ws term }\n",
    "    ws(); e = term()\n",
    "    while sym == '+': nxt(); ws(); e = '+' + ' ' + e + ' ' + term() \n",
    "    return e\n",
    "\n",
    "def term() -> str:\n",
    "    # term → factor { '*' ws factor }\n",
    "    p = factor()\n",
    "    while sym == '*': nxt(); ws(); p = '*' + ' ' + p + ' ' + factor()\n",
    "    return p\n",
    "\n",
    "def factor() -> str:\n",
    "    # factor → (integer | '(' expression ')' ) ws\n",
    "    if '0' <= sym <= '9': return integer()\n",
    "    elif sym == '(':\n",
    "        nxt(); e = expression()\n",
    "        if sym == ')': nxt(); ws(); return e\n",
    "        else: raise Exception(\"')' expected at \" + str(pos))\n",
    "    else: raise Exception(\"invalid character at \" + str(pos))\n",
    "\n",
    "def integer() -> str:\n",
    "    # integer(p) → digit(p) { digit(q) « p := q + p» } ws\n",
    "    p = digit()\n",
    "    while '0' <= sym <= '9': p += digit()\n",
    "    ws()\n",
    "    return p\n",
    "\n",
    "def digit() -> str:\n",
    "    # digit(p) → '0' « p := '0' » | ... | '9' « p := '9' »\n",
    "    # '0' <= sym <= '9'\n",
    "    p = sym; nxt()\n",
    "    return p\n",
    "\n",
    "def ws():\n",
    "    # ws → { ' ' }\n",
    "    while sym == ' ': nxt()\n",
    "\n",
    "def convert(s) -> str:\n",
    "    global src, pos;\n",
    "    src, pos = s, 0; nxt(); p = expression()\n",
    "    if sym != chr(0): raise Exception(\"unexpected character at \" + str(pos))\n",
    "    return p\n"
   ]
  },
  {
   "cell_type": "markdown",
   "id": "74ee38f8-e168-404a-80da-32ca0f7eb074",
   "metadata": {
    "deletable": false,
    "editable": false,
    "nbgrader": {
     "cell_type": "markdown",
     "checksum": "3e03036147c9b6514c7aa07b73db5122",
     "grade": false,
     "grade_id": "cell-dc589d9d646e1c6f",
     "locked": true,
     "schema_version": 3,
     "solution": false,
     "task": false
    }
   },
   "source": [
    "Here are some test cases. Your implementation will be tested with further test cases."
   ]
  },
  {
   "cell_type": "code",
   "execution_count": 23,
   "id": "3c665ff3-9a8a-4521-9381-88ca0f717c8a",
   "metadata": {
    "deletable": false,
    "editable": false,
    "nbgrader": {
     "cell_type": "code",
     "checksum": "33c8f5b271fa42daf4130fbee7a4817f",
     "grade": true,
     "grade_id": "cell-b8bf71972aae309c",
     "locked": true,
     "points": 1,
     "schema_version": 3,
     "solution": false,
     "task": false
    }
   },
   "outputs": [],
   "source": [
    "assert convert('1 + 2') == '+ 1 2'\n",
    "assert convert('((1) + (2))') == '+ 1 2'\n",
    "assert convert('1 + 2 + 3') == '+ + 1 2 3'\n",
    "assert convert('(1 + 2) + 3') == '+ + 1 2 3'\n",
    "assert convert('1 + (2 + 3)') == '+ 1 + 2 3'"
   ]
  },
  {
   "cell_type": "code",
   "execution_count": 24,
   "id": "772ba792-3504-4828-a78e-97eff4fe24ed",
   "metadata": {
    "deletable": false,
    "editable": false,
    "nbgrader": {
     "cell_type": "code",
     "checksum": "de9e6099f3da11bcdc5cb7511053eb44",
     "grade": true,
     "grade_id": "cell-85b1e1dfb85d4128",
     "locked": true,
     "points": 2,
     "schema_version": 3,
     "solution": false,
     "task": false
    }
   },
   "outputs": [],
   "source": [
    "assert convert('1 * 2') == '* 1 2'\n",
    "assert convert('((1) * (2))') == '* 1 2'\n",
    "assert convert('1 * 2 * 3') == '* * 1 2 3'\n",
    "assert convert('(1 * 2) * 3') == '* * 1 2 3'\n",
    "assert convert('1 * (2 * 3)') == '* 1 * 2 3'"
   ]
  },
  {
   "cell_type": "code",
   "execution_count": 25,
   "id": "4d3f0ccf-cbfc-4f04-8b73-4872de08165a",
   "metadata": {
    "deletable": false,
    "editable": false,
    "nbgrader": {
     "cell_type": "code",
     "checksum": "cb4458eca4745d1392f890fe882a651c",
     "grade": true,
     "grade_id": "cell-c55ccc85fc5e943c",
     "locked": true,
     "points": 2,
     "schema_version": 3,
     "solution": false,
     "task": false
    }
   },
   "outputs": [],
   "source": [
    "assert convert('1 + (2 + 3)') == '+ 1 + 2 3'\n",
    "assert convert('1 + 2 * 3') == '+ 1 * 2 3'\n",
    "assert convert('1 * 2 + 3') == '+ * 1 2 3'\n",
    "assert convert('(1 + 2) * 3') == '* + 1 2 3'"
   ]
  },
  {
   "cell_type": "markdown",
   "id": "8e131c36-1701-450c-aeef-db7b4bf363de",
   "metadata": {
    "deletable": false,
    "editable": false,
    "nbgrader": {
     "cell_type": "markdown",
     "checksum": "b45a872dbf1fa7f7b8554feec0b113e4",
     "grade": false,
     "grade_id": "cell-550e36b4f0f8d850",
     "locked": true,
     "schema_version": 3,
     "solution": false,
     "task": false
    }
   },
   "source": [
    "Suppose you want to convert prefix expressions to postfix expressions. First, give a grammar for prefix expressions. The grammar must allow all the prefix expressions from the above test cases; you do not need to be concerned about white space (`ws`), and you do not need to repeat the productions for `integer` and `digit` if they are unchanged. The grammar must satisfy the conditions for recursive descent parsing."
   ]
  },
  {
   "cell_type": "markdown",
   "id": "cd5520e6-4d7c-4c00-8563-993ecd88e885",
   "metadata": {
    "deletable": false,
    "nbgrader": {
     "cell_type": "markdown",
     "checksum": "3599dfa66c96edf7d3f4cf30b90ce4f4",
     "grade": true,
     "grade_id": "cell-0364d6bc6a1bc128",
     "locked": false,
     "points": 2,
     "schema_version": 3,
     "solution": true,
     "task": false
    }
   },
   "source": [
    "    expression → { '+' term term }\n",
    "    term → { '*' factor factor }\n",
    "    factor → (integer | '(' expression ')' ) ws\n",
    "    integer(p) → digit(p) { digit(q) « p := q + p» } ws\n",
    "    digit(p) → '0' « p := '0' » | ... | '9' « p := '9' »\n",
    "    ws → { ' ' }"
   ]
  },
  {
   "cell_type": "markdown",
   "id": "b4155dbe-f3c1-444d-8585-c672db5631e8",
   "metadata": {
    "deletable": false,
    "editable": false,
    "nbgrader": {
     "cell_type": "markdown",
     "checksum": "eb0998087b874524ff935cc76f0144c1",
     "grade": false,
     "grade_id": "cell-9389a63acef23c64",
     "locked": true,
     "schema_version": 3,
     "solution": false,
     "task": false
    }
   },
   "source": [
    "Now add attribute rules such that the synthesized attribute of the start symbol is the conversion of the prefix expression to postfix."
   ]
  },
  {
   "cell_type": "markdown",
   "id": "8992409c-3207-4b31-94df-481302279705",
   "metadata": {
    "deletable": false,
    "nbgrader": {
     "cell_type": "markdown",
     "checksum": "604c532ea77490356bab2a693542e2e2",
     "grade": true,
     "grade_id": "cell-abd52106953af0e2",
     "locked": false,
     "points": 2,
     "schema_version": 3,
     "solution": true,
     "task": false
    }
   },
   "source": [
    "    expression(e) → { '+' term(e) term(f) « p := 'e' 'f' '+' »}\n",
    "    term → { '*' factor factor }\n",
    "    factor → (integer | '(' expression ')' ) ws\n",
    "    integer(p) → digit(p) { digit(q) « p := q + p» } ws\n",
    "    digit(p) → '0' « p := '0' » | ... | '9' « p := '9' »\n",
    "    ws → { ' ' }"
   ]
  },
  {
   "cell_type": "code",
   "execution_count": null,
   "id": "a96ff0e5-1089-44b2-bb0f-535275a44317",
   "metadata": {},
   "outputs": [],
   "source": []
  }
 ],
 "metadata": {
  "kernelspec": {
   "display_name": "Python 3 (ipykernel)",
   "language": "python",
   "name": "python3"
  },
  "language_info": {
   "codemirror_mode": {
    "name": "ipython",
    "version": 3
   },
   "file_extension": ".py",
   "mimetype": "text/x-python",
   "name": "python",
   "nbconvert_exporter": "python",
   "pygments_lexer": "ipython3",
   "version": "3.11.1"
  }
 },
 "nbformat": 4,
 "nbformat_minor": 5
}
