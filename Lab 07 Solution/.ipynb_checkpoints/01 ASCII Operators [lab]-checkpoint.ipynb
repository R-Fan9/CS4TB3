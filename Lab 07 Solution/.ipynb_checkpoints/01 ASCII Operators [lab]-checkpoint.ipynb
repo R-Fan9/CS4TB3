{
 "cells": [
  {
   "cell_type": "markdown",
   "metadata": {
    "deletable": false,
    "editable": false,
    "nbgrader": {
     "cell_type": "markdown",
     "checksum": "484fc7d3440be66eeb28af5e52f3383c",
     "grade": false,
     "grade_id": "cell-df703e96b761a9fc",
     "locked": true,
     "schema_version": 3,
     "solution": false,
     "task": false
    }
   },
   "source": [
    "#### ASCII Operators"
   ]
  },
  {
   "cell_type": "markdown",
   "metadata": {
    "deletable": false,
    "editable": false,
    "nbgrader": {
     "cell_type": "markdown",
     "checksum": "25479e8e4948c915bc99d0e8cc9572c3",
     "grade": false,
     "grade_id": "cell-24fdc0fec73b763d",
     "locked": true,
     "schema_version": 3,
     "solution": false,
     "task": false
    }
   },
   "source": [
    "Following Python functions are from the course notes:"
   ]
  },
  {
   "cell_type": "code",
   "execution_count": null,
   "metadata": {},
   "outputs": [],
   "source": [
    "def runwasm(wasmfile):\n",
    "    from IPython.core.display import display, Javascript\n",
    "    display(Javascript(\"\"\"\n",
    "    const params = { \n",
    "        P0lib: { \n",
    "            write: i => this.append_stream({text: '' + i, name: 'stdout'}),\n",
    "            writeln: () => this.append_stream({text: '\\\\n', name: 'stdout'}),\n",
    "            read: () => window.prompt()\n",
    "        }\n",
    "    }\n",
    "\n",
    "    fetch('\"\"\" + wasmfile + \"\"\"') // asynchronously fetch file, return Response object\n",
    "      .then(response => response.arrayBuffer()) // read the response to completion and stores it in an ArrayBuffer\n",
    "      .then(code => WebAssembly.compile(code)) // compile (sharable) code.wasm\n",
    "      .then(module => WebAssembly.instantiate(module, params)) // create an instance with memory\n",
    "    // .then(instance => instance.exports.program()); // run the main program; not needed if start function specified\n",
    "    \"\"\"))"
   ]
  },
  {
   "cell_type": "code",
   "execution_count": null,
   "metadata": {},
   "outputs": [],
   "source": [
    "def runpywasm(wasmfile):\n",
    "    def write(s, i): print(i)\n",
    "    def writeln(s): print()\n",
    "    def read(s): return int(input())    \n",
    "    import pywasm\n",
    "    vm = pywasm.load(wasmfile, {'P0lib': {'write': write, 'writeln': writeln, 'read': read}})"
   ]
  },
  {
   "cell_type": "code",
   "execution_count": null,
   "metadata": {},
   "outputs": [],
   "source": [
    "from wasmer import engine, Store, Module, Instance, ImportObject, Function\n",
    "from wasmer_compiler_cranelift import Compiler\n",
    "\n",
    "def runwasmer(wasmfile):\n",
    "    def write(i: int): print(i)\n",
    "    def writeln(): print()\n",
    "    def read() -> int: return int(input()) \n",
    "    store = Store(engine.JIT(Compiler))\n",
    "    module = Module(store, open(wasmfile, 'rb').read())\n",
    "    import_object = ImportObject()\n",
    "    import_object.register(\"P0lib\", {\"write\": Function(store, write),\n",
    "                                     \"writeln\": Function(store, writeln),\"read\": Function(store, read)})\n",
    "    instance = Instance(module, import_object)"
   ]
  },
  {
   "cell_type": "markdown",
   "metadata": {
    "deletable": false,
    "editable": false,
    "nbgrader": {
     "cell_type": "markdown",
     "checksum": "628278d14fffac5e51bed970f086ca5d",
     "grade": false,
     "grade_id": "cell-ae22091a8c4e19e5",
     "locked": true,
     "schema_version": 3,
     "solution": false,
     "task": false
    }
   },
   "source": [
    "Consider following example from the course notes:"
   ]
  },
  {
   "cell_type": "code",
   "execution_count": null,
   "metadata": {},
   "outputs": [],
   "source": [
    "import nbimporter; nbimporter.options[\"only_defs\"] = False\n",
    "from P0 import compileString"
   ]
  },
  {
   "cell_type": "code",
   "execution_count": null,
   "metadata": {},
   "outputs": [],
   "source": [
    "compileString(\"\"\"\n",
    "procedure quotrem(x, y: integer) → (q, r: integer)\n",
    "    q, r := 0, x\n",
    "    while r ≥ y do // q × y + r = x ∧ r ≥ y\n",
    "        r, q := r - y, q + 1\n",
    "\n",
    "program arithmetic\n",
    "    var x, y, q, r: integer\n",
    "      x ← read(); y ← read()\n",
    "      q, r ← quotrem(x, y)\n",
    "      write(q); write(r)\n",
    "\"\"\", \"arith.wat\")"
   ]
  },
  {
   "cell_type": "code",
   "execution_count": null,
   "metadata": {},
   "outputs": [],
   "source": [
    "!wat2wasm arith.wat"
   ]
  },
  {
   "cell_type": "markdown",
   "metadata": {
    "deletable": false,
    "editable": false,
    "nbgrader": {
     "cell_type": "markdown",
     "checksum": "7b6e86951649a6ecd7e232332a94d651",
     "grade": false,
     "grade_id": "cell-faf13d04c538e669",
     "locked": true,
     "schema_version": 3,
     "solution": false,
     "task": false
    }
   },
   "source": [
    "Run following lines:"
   ]
  },
  {
   "cell_type": "code",
   "execution_count": null,
   "metadata": {},
   "outputs": [],
   "source": [
    "# runwasm(\"arith.wasm\")"
   ]
  },
  {
   "cell_type": "code",
   "execution_count": null,
   "metadata": {},
   "outputs": [],
   "source": [
    "# runpywasm(\"arith.wasm\")"
   ]
  },
  {
   "cell_type": "code",
   "execution_count": null,
   "metadata": {},
   "outputs": [],
   "source": [
    "runwasmer(\"arith.wasm\")"
   ]
  },
  {
   "cell_type": "markdown",
   "metadata": {
    "deletable": false,
    "editable": false,
    "nbgrader": {
     "cell_type": "markdown",
     "checksum": "383b411693a2b1493baf74d64839c9aa",
     "grade": false,
     "grade_id": "cell-f9dcb7a96b503fae",
     "locked": true,
     "schema_version": 3,
     "solution": false,
     "task": false
    }
   },
   "source": [
    "Suppose you like to have ASCII alternatives to Unicode characters:\n",
    "\n",
    "- `*` for `×`\n",
    "- `!=`, `<=`, `>=` for `≠`, `≤`, `≥`\n",
    "\n",
    "Modify the P0 compiler that comes with this lab such that both Unicode characters and ASCII equivalents are allowed. Which parts of the compiler and which files need to be modified? Here is a test:"
   ]
  },
  {
   "cell_type": "code",
   "execution_count": null,
   "metadata": {},
   "outputs": [],
   "source": [
    "compileString(\"\"\"\n",
    "program arithmetic\n",
    "    var x, y: integer\n",
    "      x ← read(); y ← read()\n",
    "      if x != y then write(x * y)\n",
    "      if (x <= y) or (x >= y) then write(x + y)\n",
    "\"\"\", \"ascii.wat\")"
   ]
  },
  {
   "cell_type": "code",
   "execution_count": null,
   "metadata": {},
   "outputs": [],
   "source": [
    "!wat2wasm ascii.wat"
   ]
  },
  {
   "cell_type": "code",
   "execution_count": null,
   "metadata": {},
   "outputs": [],
   "source": [
    "# runwasm(\"ascii.wasm\")"
   ]
  },
  {
   "cell_type": "code",
   "execution_count": null,
   "metadata": {},
   "outputs": [],
   "source": [
    "# runpywasm(\"ascii.wasm\")"
   ]
  },
  {
   "cell_type": "code",
   "execution_count": null,
   "metadata": {},
   "outputs": [],
   "source": [
    "runwasmer(\"ascii.wasm\")"
   ]
  },
  {
   "cell_type": "markdown",
   "metadata": {},
   "source": [
    "YOUR ANSWER HERE"
   ]
  },
  {
   "cell_type": "markdown",
   "metadata": {},
   "source": [
    "Instructor's Answer:"
   ]
  },
  {
   "cell_type": "markdown",
   "metadata": {
    "tags": []
   },
   "source": [
    "All changes are only in the scanner, `SC.ipynb`. The grammar for `symbol` needs to be extended,\n",
    "\n",
    "    symbol ::= { ' ' | comment} ( { '\\n' {' ' | comment} } | identKW | number | '×' | '+' | '-' | '=' | '≠' |\n",
    "                        '<' | '≤' | '>' | '≥' | ';' | ',' | ':' | ':=' | '.' | '¬' | '(' |  ')' | '[' | ']' | '*' | '!=' | '<=' | '>=' )\n",
    "\n",
    "\n",
    "All changes in the code are in `getSym()`. For adding `*`, the line\n",
    "\n",
    "```Python\n",
    "        elif ch == '×': getChar(); sym = TIMES\n",
    "```\n",
    "\n",
    "needs to be replaced with:\n",
    "\n",
    "```Python\n",
    "        elif ch in '×*': getChar(); sym = TIMES\n",
    "```\n",
    "\n",
    "For adding `<=`, `>=`, lines\n",
    "\n",
    "```Python\n",
    "        elif ch == '<': getChar(); sym = LT\n",
    "\n",
    "        elif ch == '>': getChar(); sym = GT\n",
    "```\n",
    "\n",
    "need to be replaced with:\n",
    "\n",
    "```Python\n",
    "        elif ch == '<':\n",
    "            getChar()\n",
    "            if ch == '=': getChar(); sym = LE\n",
    "            else: sym = LT\n",
    "\n",
    "        elif ch == '>':\n",
    "            getChar()\n",
    "            if ch == '=': getChar(); sym = GE\n",
    "            else: sym = GT\n",
    "```\n",
    "\n",
    "For adding `!=`, following lines need to be added:\n",
    "\n",
    "```Python\n",
    "        elif ch == '!':\n",
    "            getChar();\n",
    "            if ch == '=': getChar(); sym = NE\n",
    "            else: mark('illegal character')\n",
    "```"
   ]
  }
 ],
 "metadata": {
  "kernelspec": {
   "display_name": "Python 3 (ipykernel)",
   "language": "python",
   "name": "python3"
  },
  "language_info": {
   "codemirror_mode": {
    "name": "ipython",
    "version": 3
   },
   "file_extension": ".py",
   "mimetype": "text/x-python",
   "name": "python",
   "nbconvert_exporter": "python",
   "pygments_lexer": "ipython3",
   "version": "3.11.1"
  }
 },
 "nbformat": 4,
 "nbformat_minor": 4
}
