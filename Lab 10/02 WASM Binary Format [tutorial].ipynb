{
 "cells": [
  {
   "cell_type": "markdown",
   "metadata": {
    "solution": "shown",
    "tags": []
   },
   "source": [
    "#### WASM Binary Format"
   ]
  },
  {
   "cell_type": "code",
   "execution_count": 1,
   "metadata": {},
   "outputs": [],
   "source": [
    "def runpywasm(wasmfile):\n",
    "    import pywasm\n",
    "    def write(s, i): print(i, end=' ')\n",
    "    def writeln(s): print()\n",
    "    def read(s): return int(input())\n",
    "    vm = pywasm.load(wasmfile, {'P0lib': {'write': write, 'writeln': writeln, 'read': read}})"
   ]
  },
  {
   "cell_type": "code",
   "execution_count": 2,
   "metadata": {},
   "outputs": [],
   "source": [
    "import nbimporter; nbimporter.options[\"only_defs\"] = False\n",
    "from P0 import compileString"
   ]
  },
  {
   "cell_type": "markdown",
   "metadata": {
    "tags": []
   },
   "source": [
    "Python function `hexdump` prints the contents of a binary file in hexadecimal format with four bytes on each line. The four bytes are preceded by their address and followed by their corresponding ASCII character or `.` if the corresponding character is not printable: "
   ]
  },
  {
   "cell_type": "code",
   "execution_count": 3,
   "metadata": {},
   "outputs": [],
   "source": [
    "def hexdump(fn: str):\n",
    "    with open(fn, 'rb') as hexfile: # open binary file for reading\n",
    "        word, pos = hexfile.read(4), 0 # type(word) == bytes\n",
    "        while len(word) > 0:\n",
    "            print('{:#08x}'.format(pos) + ': ' +\n",
    "                  ' '.join('{:02X}'.format(b) for b in word) + '    ' +\n",
    "                  ''.join(chr(c) if 32 <= c < 127 else '.' for c in word))\n",
    "            word, pos = hexfile.read(4), pos + 4"
   ]
  },
  {
   "cell_type": "markdown",
   "metadata": {
    "tags": []
   },
   "source": [
    "Let us apply `hexdump` to the generated .wasm file and analyze the output:"
   ]
  },
  {
   "cell_type": "code",
   "execution_count": 4,
   "metadata": {},
   "outputs": [],
   "source": [
    "compileString(\"\"\"\n",
    "program max\n",
    "  var x, y: integer\n",
    "    x ← read(); y ← read()\n",
    "    if x > y then write(x) else write(y)\n",
    "\"\"\", 'max.wat')"
   ]
  },
  {
   "cell_type": "code",
   "execution_count": 5,
   "metadata": {},
   "outputs": [],
   "source": [
    "!wat2wasm max.wat"
   ]
  },
  {
   "cell_type": "code",
   "execution_count": 6,
   "metadata": {},
   "outputs": [
    {
     "name": "stdout",
     "output_type": "stream",
     "text": [
      "0x000000: 00 61 73 6D    .asm\n",
      "0x000004: 01 00 00 00    ....\n",
      "0x000008: 01 0C 03 60    ...`\n",
      "0x00000c: 01 7F 00 60    ...`\n",
      "0x000010: 00 00 60 00    ..`.\n",
      "0x000014: 01 7F 02 2C    ...,\n",
      "0x000018: 03 05 50 30    ..P0\n",
      "0x00001c: 6C 69 62 05    lib.\n",
      "0x000020: 77 72 69 74    writ\n",
      "0x000024: 65 00 00 05    e...\n",
      "0x000028: 50 30 6C 69    P0li\n",
      "0x00002c: 62 07 77 72    b.wr\n",
      "0x000030: 69 74 65 6C    itel\n",
      "0x000034: 6E 00 01 05    n...\n",
      "0x000038: 50 30 6C 69    P0li\n",
      "0x00003c: 62 04 72 65    b.re\n",
      "0x000040: 61 64 00 02    ad..\n",
      "0x000044: 03 02 01 01    ....\n",
      "0x000048: 05 03 01 00    ....\n",
      "0x00004c: 01 06 06 01    ....\n",
      "0x000050: 7F 01 41 00    ..A.\n",
      "0x000054: 0B 08 01 03    ....\n",
      "0x000058: 0A 1F 01 1D    ....\n",
      "0x00005c: 01 03 7F 10    ....\n",
      "0x000060: 02 21 00 10    .!..\n",
      "0x000064: 02 21 01 20    .!. \n",
      "0x000068: 00 20 01 4A    . .J\n",
      "0x00006c: 04 40 20 00    .@ .\n",
      "0x000070: 10 00 05 20    ... \n",
      "0x000074: 01 10 00 0B    ....\n",
      "0x000078: 0B    .\n"
     ]
    }
   ],
   "source": [
    "hexdump('max.wasm')"
   ]
  },
  {
   "cell_type": "markdown",
   "metadata": {
    "tags": []
   },
   "source": [
    "The [WebAssembly Specification](https://webassembly.github.io/spec/) defines the binary format by a [grammar](https://webassembly.github.io/spec/core/binary/index.html). The specification uses an attribute grammar to define the abstract syntax of WebAssembly modules. Here, we give a slightly simplified grammar:\n",
    "\n",
    "```ebnf\n",
    "magic ::= 0x00 0x61 0x73 0x6D\n",
    "version ::= 0x01 0x00 0x00 0x00\n",
    "module ::= magic\n",
    "                    version\n",
    "                    typesec*\n",
    "                    importsec*\n",
    "                    funcsec*\n",
    "                    memsec*\n",
    "                    globalsec*\n",
    "                    startsec?\n",
    "                    codesec*\n",
    "```\n",
    "\n",
    "A WebAssembly module is structured into _sections_. Each section starts with a section id, a unique byte, followed by the size of the section's contents in bytes and then the contents. This is made such that a quick scan of the module can determine the start of sections, and they can be processed in parallel, e.g. by compiling function bodies.\n",
    "```ebnf\n",
    "size ::= u32\n",
    "```\n",
    "\n",
    "The size of each section is a `u32` integer. All integers are represented using the [LEB128](https://en.wikipedia.org/wiki/LEB128) variable-length integer encoding; in the examples here, most integers fit into one byte. Strings are represented by the length of the string and then the string with each character in UTF-8 encoding. The binary format is close to the textual format for `wasm2wat`, except that functions are split into the function type section (`funcsec`) and the body including local variables in the code section (`codesec`).\n",
    "\n",
    "The grammar uses the convention that `vec(X)` stands for `n Xⁿ`, that is, `n` repetitions of `X` preceded by `n`, for some `n`. \n",
    "\n",
    "A function type specifies a vector of parameters and a vector of results. The type `i32` is encoded as `0x7F`. Here, `size` must be the length of `vec(functype)` in bytes:\n",
    "```ebnf\n",
    "typesec ::= 0x01 size vec(functype)\n",
    "functype ::= 0x60 vec(valtype) vec(valtype)\n",
    "valtype ::= 0x7F | ...\n",
    "```\n",
    "\n",
    "Functions, tables, memories, and globals can be imported. Here, only functions are used. Only the index to the function type (`typeidx`) is specified for functions. The `size` in `importsec` is the length of `vec(import)` in bytes, and likewise, the `size` of `funcsec` is the length of `vec(typeidx)` in bytes:\n",
    "\n",
    "```ebnf\n",
    "importsec ::= 0x02 size vec(import)\n",
    "import ::= modname name importdesc\n",
    "importdesc ::= 0x00 typeidx | ...\n",
    "typeidx ::= u32\n",
    "```\n",
    "\n",
    "```ebnf\n",
    "funcsec ::= 0x03 size vec(typeidx)\n",
    "```\n",
    "\n",
    "The memory section specifies only the minimum number of pages or the minimum and maximum number of pages. Here, `size` is the length of `vec(mem)` in bytes:\n",
    "\n",
    "```ebnf\n",
    "memsec ::= 0x05 size vec(mem)\n",
    "mem ::= 0x00 u32 | 0x01 u32 u32\n",
    "```\n",
    "\n",
    "Global variables are constants if `mut` is `0x00` and variables if `mut` is `0x01`. An expression is an instruction sequence that must be terminated with `0x0B`. Here, `size` is the length of `vec(global)` in bytes:\n",
    "```ebnf\n",
    "globalsec ::= 0x06 size vec(global)\n",
    "global ::= valtype mut expr\n",
    "mut ::= 0x00 | 0x01\n",
    "expr ::= instr* 0x0B\n",
    "```\n",
    "\n",
    "The start section specifies the index of the start function. Here, `size` is the length of `funcidx` in bytes:\n",
    "```ebnf\n",
    "startsec ::= 0x08 size funcidx\n",
    "funcidx ::= u32\n",
    "```\n",
    "\n",
    "The code section is a sequence of function bodies with locals. The `size` in `code` is the length of `vec(locals) expr` in bytes. The interpretation of `locals` is that `u32` variables of `valtype` are declared:\n",
    "```ebnf\n",
    "codesec ::= 0x0A size vec(code)\n",
    "code ::= size vec(locals) expr\n",
    "locals ::= u32 valtype\n",
    "```\n",
    "\n",
    "For the representation of instructions, consult https://webassembly.github.io/spec/core/binary/instructions.html."
   ]
  },
  {
   "cell_type": "markdown",
   "metadata": {
    "tags": []
   },
   "source": [
    "Here is an annotated version of the hex dump of `max.wasm`:\n",
    "\n",
    "<pre style=\"font-family:monospace;color:royalblue\">\n",
    "0x000000: 00 61 73 6D    .asm    magic\n",
    "0x000004: 01 00 00 00    ....    version\n",
    "0x000008: 01 0C 03 60    ...`    typesecid, size typesec, #types, functype (0)\n",
    "0x00000c: 01 7F 00 60    ...`    #params, i32, #results, functype (1)\n",
    "0x000010: 00 00 60 00    ..`.    #params, #results, functype (2), #params\n",
    "0x000014: 01 7F 02 2C    ...,    #results, i32, importsecid, length import\n",
    "0x000018: 03 05 50 30    ..P0    #imports, len(P0lib), 'P', '0'\n",
    "0x00001c: 6C 69 62 05    lib.    'l', 'i', 'b', len('write')\n",
    "0x000020: 77 72 69 74    writ    'w', 'r', 'i', 't'\n",
    "0x000024: 65 00 00 05    e...    'e', typeidx, 0, len('P0lib')\n",
    "0x000028: 50 30 6C 69    P0li    'P', '0', 'l', 'i'\n",
    "0x00002c: 62 07 77 72    b.wr    'b', len('writeln'), 'w', 'r'\n",
    "0x000030: 69 74 65 6C    itel    'i', 't', 'e', 'l'\n",
    "0x000034: 6E 00 01 05    n...    'n', typeidx, 1, len('P0lib')\n",
    "0x000038: 50 30 6C 69    P0li    'P', '0', 'l', 'i'\n",
    "0x00003c: 62 04 72 65    b.re    'b', len('read'), 'r', 'e'\n",
    "0x000040: 61 64 00 02    ad..    'a', 'd', typeidx, 2\n",
    "0x000044: 03 02 01 01    ....    funcsec, length 2, #typeidx, type 1\n",
    "0x000048: 05 03 01 00    ....    memsec, length 3, #mem, 0 (only min)\n",
    "0x00004c: 01 06 06 01    ....    1 (min), globalsec, size globalsec, #globals\n",
    "0x000050: 7F 01 41 00    ..A.    i32, var, i32.const, 0 \n",
    "0x000054: 0B 08 01 03    ....    end (expression), startsec, size startsec, 3 (function)\n",
    "0x000058: 0A 1F 01 1D    ....    codesection, sizecodesection, #functions, length code\n",
    "0x00005c: 01 03 7F 10    ....    1 (num locals), 3 (num vars), type (int32), call\n",
    "0x000060: 02 21 00 10    .!..    2 (read), local.set, 0 (x), call\n",
    "0x000064: 02 21 01 20    .!.     2 (read), local.set, 1 (y), local.get\n",
    "0x000068: 00 20 01 4A    . .J    0 (x), local.get, 1 (y), i32.gt_s\n",
    "0x00006c: 04 40 20 00    .@ .    if, [] (empty type), global.get, 0\n",
    "0x000070: 10 00 05 20    ...     call, 0 (write), else, local.get\n",
    "0x000074: 01 10 00 0B    ....    1, call, 0 (write), end (if)\n",
    "0x000078: 0B             .       end (function)\n",
    "</pre>"
   ]
  },
  {
   "cell_type": "code",
   "execution_count": null,
   "metadata": {},
   "outputs": [],
   "source": []
  }
 ],
 "metadata": {
  "kernelspec": {
   "display_name": "Python 3 (ipykernel)",
   "language": "python",
   "name": "python3"
  },
  "language_info": {
   "codemirror_mode": {
    "name": "ipython",
    "version": 3
   },
   "file_extension": ".py",
   "mimetype": "text/x-python",
   "name": "python",
   "nbconvert_exporter": "python",
   "pygments_lexer": "ipython3",
   "version": "3.11.1"
  }
 },
 "nbformat": 4,
 "nbformat_minor": 4
}
