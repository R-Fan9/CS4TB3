{
 "cells": [
  {
   "cell_type": "markdown",
   "metadata": {},
   "source": [
    "#### Regular Grammar to Regular Expression"
   ]
  },
  {
   "cell_type": "markdown",
   "metadata": {},
   "source": [
    "Here is a regular grammar in EBNF for fractional numbers:\n",
    "\n",
    "    N → '0' N | ... | '9' N | '.' F\n",
    "    F → '0' D | ... | '9' D\n",
    "    D → '0' D | ... | '9' D | ''\n",
    "    \n",
    "Transform the grammar into a regular expression. Use equalities to simplify the regular expressions. Give every transformation step in detail and state the rule you are applying. [2 points]"
   ]
  },
  {
   "cell_type": "markdown",
   "metadata": {
    "deletable": false,
    "nbgrader": {
     "cell_type": "markdown",
     "checksum": "569c7d4d38fe5f6b96b3eb5adf248bd8",
     "grade": true,
     "grade_id": "cell-8d2073300f90e18f",
     "locked": false,
     "points": 2,
     "schema_version": 3,
     "solution": true,
     "task": false
    }
   },
   "source": [
    "_Answer._\n",
    "\n",
    "     D → '0' D | ... | '9' D | ''\n",
    "    →  ('0' D | ... | '9' D) | ''  (Associativity)\n",
    "    →  ('0' | ... | '9') D | ''    (Distributivity)\n",
    "    →  ('0' | ... | '9')*          (Arden's Rule)\n",
    "\n",
    "     F → '0' D | ... | '9' D\n",
    "    →  '0' ('0' | ... | '9')* | ... | '9' ('0' | ... | '9')*  (D → ('0' | ... | '9')*)\n",
    "    →  ('0' | ... | '9')('0' | ... | '9')*                    (Distributivity)\n",
    "    →  ('0' | ... | '9')ᐩ                                     (Eᐩ = E*E)\n",
    "    \n",
    "     N → '0' N | ... | '9' N | '.' F\n",
    "    →  '0' N | ... | '9' N | '.' ('0' | ... | '9')ᐩ    (F → ('0' | ... | '9')ᐩ)\n",
    "    →  ('0' N | ... | '9' N) | '.' ('0' | ... | '9')ᐩ  (Associativity)\n",
    "    →  ('0' | ... | '9') N | '.' ('0' | ... | '9')ᐩ    (Distributivity)\n",
    "    →  ('0' | ... | '9')* '.' ('0' | ... | '9')ᐩ       (Arden's Rule)\n",
    "    \n",
    "Therefore, the regular expression equivalent to the grammar is therefore:\n",
    "\n",
    "    ('0' | ... | '9')* '.' ('0' | ... | '9')ᐩ\n",
    "\n",
    "which can be written as `[0-9]*.[0-9]ᐩ`"
   ]
  }
 ],
 "metadata": {
  "kernelspec": {
   "display_name": "Python 3 (ipykernel)",
   "language": "python",
   "name": "python3"
  },
  "language_info": {
   "codemirror_mode": {
    "name": "ipython",
    "version": 3
   },
   "file_extension": ".py",
   "mimetype": "text/x-python",
   "name": "python",
   "nbconvert_exporter": "python",
   "pygments_lexer": "ipython3",
   "version": "3.11.1"
  }
 },
 "nbformat": 4,
 "nbformat_minor": 4
}
