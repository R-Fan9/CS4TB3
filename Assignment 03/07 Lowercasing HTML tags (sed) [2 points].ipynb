{
 "cells": [
  {
   "cell_type": "markdown",
   "metadata": {},
   "source": [
    "#### Lowercasing HTML Tags (sed)"
   ]
  },
  {
   "cell_type": "markdown",
   "metadata": {},
   "source": [
    "Consider `IMG` tags in HTML files, as in:"
   ]
  },
  {
   "cell_type": "code",
   "execution_count": 1,
   "metadata": {},
   "outputs": [
    {
     "name": "stdout",
     "output_type": "stream",
     "text": [
      "Overwriting data/q.html\n"
     ]
    }
   ],
   "source": [
    "%%writefile data/q.html\n",
    "<img src=\"PiCtuRe.PnG \"/>\n",
    "<img src=\"PiCtuRe.PnG\"></img>\n",
    "<img src=\"PiCtuRe.PnG\">alt</img>\n",
    "<img src=\"PiCtuRe.PnG\"> alt   </img>\n",
    "<img src =\"PiCtuRe.PnG\" />\n",
    "<img src = \"PiCtuRe.PnG\"/>\n",
    "<img onclick=\"alert('Clicked!')\" src = \"PiCtuRe.PnG\"/>"
   ]
  },
  {
   "cell_type": "markdown",
   "metadata": {},
   "source": [
    " Write an `sed` command to lowercase `SRC` values. For example, `<img   src=\"PiCtuRe.PnG\">` should be replaced by `<img   src=\"picture.png\">`. Note that there can be arbitrary space around `src` and `=` and before `>`. [2 points]"
   ]
  },
  {
   "cell_type": "code",
   "execution_count": 16,
   "metadata": {
    "deletable": false,
    "nbgrader": {
     "checksum": "916e6baee74755457f5adc63f1692ef4",
     "grade": false,
     "grade_id": "cell-340fa4897e6a08b6",
     "locked": false,
     "schema_version": 3,
     "solution": true,
     "task": false
    },
    "tags": []
   },
   "outputs": [],
   "source": [
    "%%capture output\n",
    "%%bash\n",
    "#sed -r 's/TODO/TODO/g' data/q.html\n",
    "sed -rn 's/(<img.*src\\s*=\\s*)(\".*\")(\\s*\\/?>.*)/\\1\\L\\2\\3/p' data/q.html"
   ]
  },
  {
   "cell_type": "code",
   "execution_count": 17,
   "metadata": {
    "tags": []
   },
   "outputs": [
    {
     "name": "stdout",
     "output_type": "stream",
     "text": [
      "<img src=\"picture.png \"/>\n",
      "<img src=\"picture.png\"></img>\n",
      "<img src=\"picture.png\">alt</img>\n",
      "<img src=\"picture.png\"> alt   </img>\n",
      "<img src =\"picture.png\" />\n",
      "<img src = \"picture.png\"/>\n",
      "<img onclick=\"alert('Clicked!')\" src = \"picture.png\"/>\n",
      "\n"
     ]
    }
   ],
   "source": [
    "print(output) # for testing"
   ]
  },
  {
   "cell_type": "code",
   "execution_count": 18,
   "metadata": {
    "deletable": false,
    "editable": false,
    "nbgrader": {
     "checksum": "460eb9b18e67db22ab9dd52c0bbc7b37",
     "grade": true,
     "grade_id": "cell-b749bd831640221b",
     "locked": true,
     "points": 2,
     "schema_version": 3,
     "solution": false,
     "task": false
    },
    "tags": []
   },
   "outputs": [],
   "source": [
    "assert str(output) == \"\"\"<img src=\"picture.png \"/>\n",
    "<img src=\"picture.png\"></img>\n",
    "<img src=\"picture.png\">alt</img>\n",
    "<img src=\"picture.png\"> alt   </img>\n",
    "<img src =\"picture.png\" />\n",
    "<img src = \"picture.png\"/>\n",
    "<img onclick=\"alert('Clicked!')\" src = \"picture.png\"/>\n",
    "\"\"\""
   ]
  }
 ],
 "metadata": {
  "kernelspec": {
   "display_name": "Python 3 (ipykernel)",
   "language": "python",
   "name": "python3"
  },
  "language_info": {
   "codemirror_mode": {
    "name": "ipython",
    "version": 3
   },
   "file_extension": ".py",
   "mimetype": "text/x-python",
   "name": "python",
   "nbconvert_exporter": "python",
   "pygments_lexer": "ipython3",
   "version": "3.11.1"
  }
 },
 "nbformat": 4,
 "nbformat_minor": 4
}
