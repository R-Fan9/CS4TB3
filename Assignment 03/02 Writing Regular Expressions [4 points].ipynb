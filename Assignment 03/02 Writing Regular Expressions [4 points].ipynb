{
 "cells": [
  {
   "cell_type": "markdown",
   "metadata": {},
   "source": [
    "#### Writing Regular Expressions"
   ]
  },
  {
   "cell_type": "markdown",
   "metadata": {},
   "source": [
    "Assume that the vocabulary is `{a, b}`. Give a regular expression that describes all sequences containing at least two consecutive occurrences of `a`, like `aa`, `baa`, `aaa`, `abaaaaba`! [1 point]"
   ]
  },
  {
   "cell_type": "markdown",
   "metadata": {
    "deletable": false,
    "nbgrader": {
     "cell_type": "markdown",
     "checksum": "ba3643bb11698b122060438220a72992",
     "grade": true,
     "grade_id": "cell-c0643cc2d31cc16d",
     "locked": false,
     "points": 1,
     "schema_version": 3,
     "solution": true,
     "task": false
    }
   },
   "source": [
    "`(a*b*)*aa(a*b*)*`"
   ]
  },
  {
   "cell_type": "markdown",
   "metadata": {},
   "source": [
    "Now give a regular expression of the complement of the above language (without using a complement operator), that is, those sequences over `{a, b}` that must not contain two or more consecutive occurrences of `a` but still may have an arbitrary number of occurrences of `a`! [1 point]"
   ]
  },
  {
   "cell_type": "markdown",
   "metadata": {
    "deletable": false,
    "nbgrader": {
     "cell_type": "markdown",
     "checksum": "791209ea97d14775294613d314e064ce",
     "grade": true,
     "grade_id": "cell-8ee1a17d4d67b908",
     "locked": false,
     "points": 1,
     "schema_version": 3,
     "solution": true,
     "task": false
    }
   },
   "source": [
    "`b*(abb*)*[a]`"
   ]
  },
  {
   "cell_type": "markdown",
   "metadata": {
    "tags": []
   },
   "source": [
    "Assume that the vocabulary is `{a, b, c}`. Give a regular expression that describes all sequences in which the number of `a` symbols is divisible by three! [1 point]"
   ]
  },
  {
   "cell_type": "markdown",
   "metadata": {
    "deletable": false,
    "nbgrader": {
     "cell_type": "markdown",
     "checksum": "05e679fe00511a44d85b8f9f66daa7eb",
     "grade": true,
     "grade_id": "cell-cdafb7248f953503",
     "locked": false,
     "points": 1,
     "schema_version": 3,
     "solution": true,
     "task": false
    },
    "tags": []
   },
   "source": [
    "`((b*c*)*a(b*c*)*a(b*c*)*a)*(b*c*)*`"
   ]
  },
  {
   "cell_type": "markdown",
   "metadata": {
    "tags": []
   },
   "source": [
    "Now give a regular expression for sequences with the total number of `b` and `c` symbols being three! [1 point]"
   ]
  },
  {
   "cell_type": "markdown",
   "metadata": {
    "deletable": false,
    "nbgrader": {
     "cell_type": "markdown",
     "checksum": "6d1892f535b5dd00009401950beed007",
     "grade": true,
     "grade_id": "cell-f9b05a5270f67de3",
     "locked": false,
     "points": 1,
     "schema_version": 3,
     "solution": true,
     "task": false
    },
    "tags": []
   },
   "source": [
    "`a*(b|c)a*(b|c)a*(b|c)a*`"
   ]
  }
 ],
 "metadata": {
  "kernelspec": {
   "display_name": "Python 3 (ipykernel)",
   "language": "python",
   "name": "python3"
  },
  "language_info": {
   "codemirror_mode": {
    "name": "ipython",
    "version": 3
   },
   "file_extension": ".py",
   "mimetype": "text/x-python",
   "name": "python",
   "nbconvert_exporter": "python",
   "pygments_lexer": "ipython3",
   "version": "3.11.1"
  }
 },
 "nbformat": 4,
 "nbformat_minor": 4
}
