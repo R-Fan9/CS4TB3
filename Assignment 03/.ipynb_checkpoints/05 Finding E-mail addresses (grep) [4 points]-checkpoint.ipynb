{
 "cells": [
  {
   "cell_type": "markdown",
   "metadata": {},
   "source": [
    "#### Finding E-mail Addresses (grep)"
   ]
  },
  {
   "cell_type": "markdown",
   "metadata": {},
   "source": [
    "For your graduation party, you would like to invite all your friends to whom you have either an e-mail address or a telephone number. As you never had time to keep an address book, you like to search for these in all your files using `grep`. In the cells below, write `grep` commands. The `%%bash` cell magic runs the cell in the bash shell; the `%%capture output` cell magic captures the cell's output in the Python variable `output`.\n",
    "\n",
    "1. E-mail addresses start with one or more upper case letters `A-Z`, lower case letters `a-z`, and symbols `+-._`, followed by the `@` sign and a domain. The domain is a sequence of subdomains separated by `.`, where each subdomain consists of a number of upper and lower case letters, digits, and the symbol `-`. There must be at least two subdomains (i.e. one `.`). The last subdomain, the top-level domain, must consist only of two to six upper or lower case letters. E-mail addresses must start at the beginning of a line or after a separator and end at the end of a line or a separator. Write a shell command using `grep` that, from the directory in which it is started, recursively visits all subdirectories and prints those lines of files that contain an e-mail address. Use `\\b` as the separator and `grep -r` to recursively visit subdirectories. [2 points]"
   ]
  },
  {
   "cell_type": "code",
   "execution_count": 1,
   "metadata": {
    "deletable": false,
    "nbgrader": {
     "cell_type": "code",
     "checksum": "3e265643a1487e7cae909273b593c4f9",
     "grade": false,
     "grade_id": "cell-e9938d47c2fa38dd",
     "locked": false,
     "schema_version": 3,
     "solution": true,
     "task": false
    },
    "tags": []
   },
   "outputs": [],
   "source": [
    "%%capture output\n",
    "%%bash\n",
    "grep -rE '\\b[A-Za-z+-._]+@([A-Za-z-]+.)+[[:alpha:]]{2,6}\\b' data/"
   ]
  },
  {
   "cell_type": "code",
   "execution_count": 2,
   "metadata": {
    "tags": []
   },
   "outputs": [
    {
     "name": "stdout",
     "output_type": "stream",
     "text": [
      "data/03/friends.txt:abcd@abc.ca \n",
      "data/03/friends.txt:abcde@ab-BC.com \n",
      "data/03/friends.txt:@e-mail@add.ress@\n",
      "data/02/other-friends.txt:ABCabc+-._@ancbd.ca\n",
      "data/02/other-friends.txt:ABCabc+-._@mcmaster.io.ca\n",
      "data/02/other-friends.txt:ABCabc+-._@school.image\n",
      "data/02/other-friends.txt:ABCabc+-._@school3-computer.image\n",
      "data/02/other-friends.txt:ABCabc+-._@school3-IT.image.tor.chrome.ca\n",
      "data/02/other-friends.txt:ABCabc+-._@school3-IT.image.tor.chrome.canadannn\n",
      "data/02/other-friends.txt:ABC123abc+-._@school3-IT.imageal.tor.chrome.canadannn\n",
      "data/01/friends.txt:Marion Floyd (905 263-7740 jpflip@yahoo.com\n",
      "data/01/friends.txt:Cora Larson (905) 255-8305 frederic@yahoo.ca\n",
      "data/01/friends.txt:Van Craig 905) 608-2616 chunzi@aol.com\n",
      "data/01/friends.txt:Emilio Morrison (905) 2877753 cantu@sbcglobal.net\n",
      "data/01/friends.txt:Ismael Hanson (905) 755 9372 satch@hotmail.com\n",
      "data/01/friends.txt:Wayne Douglas (905)222-3316 tfinniga@verizon.net\n",
      "data/01/friends.txt:Tomas Carlson (905746-0359 ardagna@me.com\n",
      "data/01/friends.txt:Laurence Newman 9057803232 jaarnial@icloud.com\n",
      "data/01/friends.txt:Lori Sherman 905-543-7753 chaki@att.net\n",
      "data/01/friends.txt:Gladys Brock (539) 728-2363 lukka@icloud.com\n",
      "\n"
     ]
    }
   ],
   "source": [
    "print(output) # for testing"
   ]
  },
  {
   "cell_type": "code",
   "execution_count": 3,
   "metadata": {
    "deletable": false,
    "editable": false,
    "nbgrader": {
     "cell_type": "code",
     "checksum": "af41d4d16ca824c9db4c4aa45a30580e",
     "grade": true,
     "grade_id": "cell-c9edc803ead50a2e",
     "locked": true,
     "points": 2,
     "schema_version": 3,
     "solution": false,
     "task": false
    },
    "tags": []
   },
   "outputs": [],
   "source": [
    "assert str(output) == \"\"\"data/03/friends.txt:abcd@abc.ca \n",
    "data/03/friends.txt:abcde@ab-BC.com \n",
    "data/03/friends.txt:@e-mail@add.ress@\n",
    "data/02/other-friends.txt:ABCabc+-._@ancbd.ca\n",
    "data/02/other-friends.txt:ABCabc+-._@mcmaster.io.ca\n",
    "data/02/other-friends.txt:ABCabc+-._@school.image\n",
    "data/02/other-friends.txt:ABCabc+-._@school3-computer.image\n",
    "data/02/other-friends.txt:ABCabc+-._@school3-IT.image.tor.chrome.ca\n",
    "data/02/other-friends.txt:ABCabc+-._@school3-IT.image.tor.chrome.canadannn\n",
    "data/02/other-friends.txt:ABC123abc+-._@school3-IT.imageal.tor.chrome.canadannn\n",
    "data/01/friends.txt:Marion Floyd (905 263-7740 jpflip@yahoo.com\n",
    "data/01/friends.txt:Cora Larson (905) 255-8305 frederic@yahoo.ca\n",
    "data/01/friends.txt:Van Craig 905) 608-2616 chunzi@aol.com\n",
    "data/01/friends.txt:Emilio Morrison (905) 2877753 cantu@sbcglobal.net\n",
    "data/01/friends.txt:Ismael Hanson (905) 755 9372 satch@hotmail.com\n",
    "data/01/friends.txt:Wayne Douglas (905)222-3316 tfinniga@verizon.net\n",
    "data/01/friends.txt:Tomas Carlson (905746-0359 ardagna@me.com\n",
    "data/01/friends.txt:Laurence Newman 9057803232 jaarnial@icloud.com\n",
    "data/01/friends.txt:Lori Sherman 905-543-7753 chaki@att.net\n",
    "data/01/friends.txt:Gladys Brock (539) 728-2363 lukka@icloud.com\n",
    "\"\"\""
   ]
  },
  {
   "cell_type": "markdown",
   "metadata": {
    "tags": []
   },
   "source": [
    "2. You are looking for telephone numbers in the `905` area for your party. Valid numbers are of the form `(905) 123 4567`, `(905) 1234567`, `905-123-4567`. However, `9051234567`, as well as `905) 123 4567`, `905-123 4567`, are not. Telephone addresses must start at a the beginning of a line or after a separator and must end at the end of a line or a separator. Write a shell command using grep that, from the directory in which it is started, recursively visits all subdirectories and prints those lines of files that contain a telephone number. "
   ]
  },
  {
   "cell_type": "code",
   "execution_count": 31,
   "metadata": {
    "deletable": false,
    "nbgrader": {
     "cell_type": "code",
     "checksum": "bc51da317c2025f60e5309bc70085dce",
     "grade": false,
     "grade_id": "cell-d92d0ba41c5e265f",
     "locked": false,
     "schema_version": 3,
     "solution": true,
     "task": false
    },
    "tags": []
   },
   "outputs": [],
   "source": [
    "%%capture output\n",
    "%%bash\n",
    "grep -rE '\\(905\\)\\s([[:digit:]]{3}\\s?){2}|905(-[[:digit:]]{3}){2}' data/"
   ]
  },
  {
   "cell_type": "code",
   "execution_count": 32,
   "metadata": {
    "tags": []
   },
   "outputs": [
    {
     "name": "stdout",
     "output_type": "stream",
     "text": [
      "data/03/friends.txt:(905) 123 4567\n",
      "data/03/friends.txt:(905) 1234567\n",
      "data/03/friends.txt:905-123-4567\n",
      "data/02/other-friends.txt:(905) 123 4567\n",
      "data/02/other-friends.txt:(905) 1234567\n",
      "data/02/other-friends.txt:905-123-4567\n",
      "data/01/friends.txt:Emilio Morrison (905) 2877753 cantu@sbcglobal.net\n",
      "data/01/friends.txt:Ismael Hanson (905) 755 9372 satch@hotmail.com\n",
      "data/01/friends.txt:Lori Sherman 905-543-7753 chaki@att.net\n",
      "\n"
     ]
    }
   ],
   "source": [
    "print(output) # for testing"
   ]
  },
  {
   "cell_type": "code",
   "execution_count": 33,
   "metadata": {
    "deletable": false,
    "editable": false,
    "nbgrader": {
     "cell_type": "code",
     "checksum": "c2e44735ead8d1dd5863754209035458",
     "grade": true,
     "grade_id": "cell-63814266e26a461b",
     "locked": true,
     "points": 2,
     "schema_version": 3,
     "solution": false,
     "task": false
    },
    "tags": []
   },
   "outputs": [],
   "source": [
    "assert str(output) == \"\"\"data/03/friends.txt:(905) 123 4567\n",
    "data/03/friends.txt:(905) 1234567\n",
    "data/03/friends.txt:905-123-4567\n",
    "data/02/other-friends.txt:(905) 123 4567\n",
    "data/02/other-friends.txt:(905) 1234567\n",
    "data/02/other-friends.txt:905-123-4567\n",
    "data/01/friends.txt:Emilio Morrison (905) 2877753 cantu@sbcglobal.net\n",
    "data/01/friends.txt:Ismael Hanson (905) 755 9372 satch@hotmail.com\n",
    "data/01/friends.txt:Lori Sherman 905-543-7753 chaki@att.net\n",
    "\"\"\""
   ]
  }
 ],
 "metadata": {
  "kernelspec": {
   "display_name": "Python 3 (ipykernel)",
   "language": "python",
   "name": "python3"
  },
  "language_info": {
   "codemirror_mode": {
    "name": "ipython",
    "version": 3
   },
   "file_extension": ".py",
   "mimetype": "text/x-python",
   "name": "python",
   "nbconvert_exporter": "python",
   "pygments_lexer": "ipython3",
   "version": "3.11.1"
  }
 },
 "nbformat": 4,
 "nbformat_minor": 4
}
