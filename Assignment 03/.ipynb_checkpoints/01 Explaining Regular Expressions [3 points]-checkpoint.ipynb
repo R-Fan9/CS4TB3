{
 "cells": [
  {
   "cell_type": "markdown",
   "metadata": {},
   "source": [
    "#### Explaining Regular Expressions"
   ]
  },
  {
   "cell_type": "markdown",
   "metadata": {},
   "source": [
    "Explain in simple words the languages described by the following regular expressions. Avoid paraphrasing the regular expression!  [1 point each]"
   ]
  },
  {
   "cell_type": "markdown",
   "metadata": {},
   "source": [
    "1. `(a*b*)*`"
   ]
  },
  {
   "cell_type": "markdown",
   "metadata": {
    "deletable": false,
    "nbgrader": {
     "cell_type": "markdown",
     "checksum": "9e76679e2557ff74875236e15fd5195f",
     "grade": true,
     "grade_id": "cell-f54956e8681b257b",
     "locked": false,
     "points": 1,
     "schema_version": 3,
     "solution": true,
     "task": false
    }
   },
   "source": [
    "This regular expression describes any possible sequence of `a` and `b`, including the empty string."
   ]
  },
  {
   "cell_type": "markdown",
   "metadata": {},
   "source": [
    "2. `(a*ba*b)*a*`"
   ]
  },
  {
   "cell_type": "markdown",
   "metadata": {
    "deletable": false,
    "nbgrader": {
     "cell_type": "markdown",
     "checksum": "769813fa6952145642d26907872994c1",
     "grade": true,
     "grade_id": "cell-88a740b07d4062fe",
     "locked": false,
     "points": 1,
     "schema_version": 3,
     "solution": true,
     "task": false
    }
   },
   "source": [
    "This regular expression describes any sequence of `a` and `b` that has even number of `b`, including the empty string."
   ]
  },
  {
   "cell_type": "markdown",
   "metadata": {},
   "source": [
    "3. `(a*[ba*c])*`"
   ]
  },
  {
   "cell_type": "markdown",
   "metadata": {
    "deletable": false,
    "nbgrader": {
     "cell_type": "markdown",
     "checksum": "ed87680dc55d7e63ff6653fbd091b537",
     "grade": true,
     "grade_id": "cell-c89afd90e1407c5e",
     "locked": false,
     "points": 1,
     "schema_version": 3,
     "solution": true,
     "task": false
    }
   },
   "source": [
    "This regular expression describes any sequence of `a`, `b` and `c` with the following conditions:  \n",
    "    - does not start with `c`  \n",
    "    - no two or more consecutive `b`  \n",
    "    - no two or more consecutive `c`  \n",
    "    - the number of `b` and `c` are equal  \n",
    "    - empty string is allowed\n",
    "    "
   ]
  },
  {
   "cell_type": "code",
   "execution_count": null,
   "metadata": {},
   "outputs": [],
   "source": []
  }
 ],
 "metadata": {
  "kernelspec": {
   "display_name": "Python 3 (ipykernel)",
   "language": "python",
   "name": "python3"
  },
  "language_info": {
   "codemirror_mode": {
    "name": "ipython",
    "version": 3
   },
   "file_extension": ".py",
   "mimetype": "text/x-python",
   "name": "python",
   "nbconvert_exporter": "python",
   "pygments_lexer": "ipython3",
   "version": "3.11.1"
  }
 },
 "nbformat": 4,
 "nbformat_minor": 4
}
