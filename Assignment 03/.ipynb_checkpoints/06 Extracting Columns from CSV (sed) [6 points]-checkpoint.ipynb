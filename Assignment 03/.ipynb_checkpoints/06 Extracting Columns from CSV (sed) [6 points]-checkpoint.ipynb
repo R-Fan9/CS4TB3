{
 "cells": [
  {
   "cell_type": "markdown",
   "metadata": {},
   "source": [
    "#### Extracting Columns from CSV"
   ]
  },
  {
   "cell_type": "markdown",
   "metadata": {},
   "source": [
    "Consider a file with columns separated by a single comma. Write an `sed` command to extract and output only the first column! Apply your command to the file `data/q.csv`:"
   ]
  },
  {
   "cell_type": "code",
   "execution_count": 1,
   "metadata": {},
   "outputs": [
    {
     "name": "stdout",
     "output_type": "stream",
     "text": [
      "Overwriting data/q.csv\n"
     ]
    }
   ],
   "source": [
    "%%writefile data/q.csv\n",
    "a,b,c\n",
    "d,e,f\n",
    "gh,i,jkl\n",
    "m n o,pq r,stuv1"
   ]
  },
  {
   "cell_type": "markdown",
   "metadata": {
    "tags": []
   },
   "source": [
    "The `%%bash` cell magic runs the cell in the bash shell; the `%%capture output` cell magic captures the output of the cell in the Python variable `output`. [2 points]"
   ]
  },
  {
   "cell_type": "code",
   "execution_count": 25,
   "metadata": {
    "deletable": false,
    "nbgrader": {
     "cell_type": "code",
     "checksum": "403ec5134caf0a0d28d4894631304298",
     "grade": false,
     "grade_id": "cell-fbda506830385304",
     "locked": false,
     "schema_version": 3,
     "solution": true,
     "task": false
    },
    "tags": []
   },
   "outputs": [],
   "source": [
    "%%capture output\n",
    "%%bash\n",
    "#sed -r 's/TODO/TODO/g' data/q.csv\n",
    "sed -rn 's/^([^,]*),.*$/\\1/p' data/q.csv"
   ]
  },
  {
   "cell_type": "code",
   "execution_count": 26,
   "metadata": {
    "tags": []
   },
   "outputs": [
    {
     "name": "stdout",
     "output_type": "stream",
     "text": [
      "a\n",
      "d\n",
      "gh\n",
      "m n o\n",
      "\n"
     ]
    }
   ],
   "source": [
    "print(output) # for testing"
   ]
  },
  {
   "cell_type": "code",
   "execution_count": 4,
   "metadata": {
    "deletable": false,
    "editable": false,
    "nbgrader": {
     "cell_type": "code",
     "checksum": "fa2c49c480a5692cafe5c1e23a36837f",
     "grade": true,
     "grade_id": "cell-da36a574af588cd9",
     "locked": true,
     "points": 2,
     "schema_version": 3,
     "solution": false,
     "task": false
    },
    "tags": []
   },
   "outputs": [],
   "source": [
    "assert str(output) == \"\"\"a\n",
    "d\n",
    "gh\n",
    "m n o\n",
    "\"\"\""
   ]
  },
  {
   "cell_type": "markdown",
   "metadata": {},
   "source": [
    "Write an `sed` command to extract and output the second column! [2 points]"
   ]
  },
  {
   "cell_type": "code",
   "execution_count": 27,
   "metadata": {
    "deletable": false,
    "nbgrader": {
     "cell_type": "code",
     "checksum": "62f0a2fb1b38b701120a7ed31278753c",
     "grade": false,
     "grade_id": "cell-652b15802f6bdb93",
     "locked": false,
     "schema_version": 3,
     "solution": true,
     "task": false
    },
    "tags": []
   },
   "outputs": [],
   "source": [
    "%%capture output\n",
    "%%bash\n",
    "sed -rn 's/^.*,([^,]*),.*$/\\1/p' data/q.csv"
   ]
  },
  {
   "cell_type": "code",
   "execution_count": 28,
   "metadata": {
    "tags": []
   },
   "outputs": [
    {
     "name": "stdout",
     "output_type": "stream",
     "text": [
      "b\n",
      "e\n",
      "i\n",
      "pq r\n",
      "\n"
     ]
    }
   ],
   "source": [
    "print(output) # for testing"
   ]
  },
  {
   "cell_type": "code",
   "execution_count": 29,
   "metadata": {
    "deletable": false,
    "editable": false,
    "nbgrader": {
     "cell_type": "code",
     "checksum": "b324c44b43913cf46e84ad74aaaaa5b2",
     "grade": true,
     "grade_id": "cell-1c831f3322c88120",
     "locked": true,
     "points": 2,
     "schema_version": 3,
     "solution": false,
     "task": false
    },
    "tags": []
   },
   "outputs": [],
   "source": [
    "assert str(output) == \"\"\"b\n",
    "e\n",
    "i\n",
    "pq r\n",
    "\"\"\""
   ]
  },
  {
   "cell_type": "markdown",
   "metadata": {},
   "source": [
    "Write an `sed` command to extract and output the third column! [2 points]"
   ]
  },
  {
   "cell_type": "code",
   "execution_count": 30,
   "metadata": {
    "deletable": false,
    "nbgrader": {
     "cell_type": "code",
     "checksum": "9a67de75cda04c661d3d0b13c96d7eaa",
     "grade": false,
     "grade_id": "cell-5f33c783eed3de11",
     "locked": false,
     "schema_version": 3,
     "solution": true,
     "task": false
    },
    "tags": []
   },
   "outputs": [],
   "source": [
    "%%capture output\n",
    "%%bash\n",
    "sed -rn 's/^.*,.*,([^,]*)$/\\1/p' data/q.csv"
   ]
  },
  {
   "cell_type": "code",
   "execution_count": 31,
   "metadata": {
    "tags": []
   },
   "outputs": [
    {
     "name": "stdout",
     "output_type": "stream",
     "text": [
      "c\n",
      "f\n",
      "jkl\n",
      "stuv1\n",
      "\n"
     ]
    }
   ],
   "source": [
    "print(output) # for testing"
   ]
  },
  {
   "cell_type": "code",
   "execution_count": 32,
   "metadata": {
    "deletable": false,
    "editable": false,
    "nbgrader": {
     "cell_type": "code",
     "checksum": "39fe80e2dff104b7895c75019421af8c",
     "grade": true,
     "grade_id": "cell-ba5e6ecaf11a1991",
     "locked": true,
     "points": 2,
     "schema_version": 3,
     "solution": false,
     "task": false
    },
    "tags": []
   },
   "outputs": [],
   "source": [
    "assert str(output) == \"\"\"c\n",
    "f\n",
    "jkl\n",
    "stuv1\n",
    "\"\"\""
   ]
  }
 ],
 "metadata": {
  "kernelspec": {
   "display_name": "Python 3 (ipykernel)",
   "language": "python",
   "name": "python3"
  },
  "language_info": {
   "codemirror_mode": {
    "name": "ipython",
    "version": 3
   },
   "file_extension": ".py",
   "mimetype": "text/x-python",
   "name": "python",
   "nbconvert_exporter": "python",
   "pygments_lexer": "ipython3",
   "version": "3.11.1"
  }
 },
 "nbformat": 4,
 "nbformat_minor": 4
}
