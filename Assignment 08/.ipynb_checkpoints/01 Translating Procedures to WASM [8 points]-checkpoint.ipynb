{
 "cells": [
  {
   "cell_type": "markdown",
   "metadata": {},
   "source": [
    "#### Translating Procedures to WASM"
   ]
  },
  {
   "cell_type": "code",
   "execution_count": 9,
   "metadata": {},
   "outputs": [],
   "source": [
    "def runwasm(wasmfile):\n",
    "    from IPython.display import display, Javascript\n",
    "    display(Javascript(\"\"\"\n",
    "    const params = {\n",
    "        P0lib: {\n",
    "            write: i => element.append(i + ' '),\n",
    "            writeln: () => element.append(document.createElement('br')),\n",
    "            read: () => window.prompt()\n",
    "        }\n",
    "    }\n",
    "    \n",
    "    var wasmByteString = \\\"\"\"\" + str(open(wasmfile, \"rb\").read()) + \"\"\"\\\"; // pass the wasm file to JavaScript as byte string\n",
    "    wasmByteString = wasmByteString.substring(2, wasmByteString.length - 1); // remove the byte literals b'...'\n",
    "    const wasmArrayBuffer = new Uint8Array(wasmByteString.length); // convert the binary string to ArrayBuffer\n",
    "    for (let i = 0; i < wasmByteString.length; i++)\n",
    "      wasmArrayBuffer[i] = wasmByteString.charCodeAt(i);\n",
    "    \n",
    "    WebAssembly.compile(wasmArrayBuffer.buffer) // compile (sharable) code\n",
    "        .then(module => WebAssembly.instantiate(module, params)) // create an instance with memory\n",
    "        // .then(instance => instance.exports.program()); // run the main program; not needed if a start function is specified\n",
    "     \"\"\"))"
   ]
  },
  {
   "cell_type": "code",
   "execution_count": 10,
   "metadata": {},
   "outputs": [],
   "source": [
    "def runpywasm(wasmfile):\n",
    "    import pywasm\n",
    "    def write(s, i): print(i, end=' ')\n",
    "    def writeln(s): print()\n",
    "    def read(s): return int(input())\n",
    "    vm = pywasm.load(wasmfile, {'P0lib': {'write': write, 'writeln': writeln, 'read': read}})"
   ]
  },
  {
   "cell_type": "code",
   "execution_count": 16,
   "metadata": {},
   "outputs": [],
   "source": [
    "from wasmer import engine, Store, Module, Instance, ImportObject, Function\n",
    "from wasmer_compiler_cranelift import Compiler\n",
    "\n",
    "def runwasmer(wasmfile):\n",
    "    def write(i: int): print(i, end=' ')\n",
    "    def writeln(): print()\n",
    "    def read() -> int: return int(input()) \n",
    "    store = Store(engine.JIT(Compiler))\n",
    "    module = Module(store, open(wasmfile, 'rb').read())\n",
    "    import_object = ImportObject()\n",
    "    import_object.register(\"P0lib\", {\"write\": Function(store, write),\n",
    "                                     \"writeln\": Function(store, writeln),\"read\": Function(store, read)})\n",
    "    instance = Instance(module, import_object)"
   ]
  },
  {
   "cell_type": "markdown",
   "metadata": {},
   "source": [
    "The task is to implement the following program in WebAssembly. The first procedure is a linear congruential random number generator with a fixed seed value, `41`. The second procedure is Euclid's algorithm for the greatest common divisor. Convert the textual form to the binary form using `wat2wasm` and test your code."
   ]
  },
  {
   "cell_type": "markdown",
   "metadata": {},
   "source": [
    "```Pascal\n",
    "var r: integer\n",
    "\n",
    "procedure randint(bound: integer) → (rand: integer)\n",
    "  const a = 16807\n",
    "  const c = 11\n",
    "  const m = 65535\n",
    "    r := (a × r + c) mod m\n",
    "    rand := r div bound\n",
    "\n",
    "procedure gcd(x: integer; y: integer) → (d: integer)\n",
    "  while x ≠ y do\n",
    "    if x > y then x := x - y\n",
    "    else y := y - x\n",
    "  d := x\n",
    "\n",
    "program randgcd\n",
    "  var x, y, d: integer\n",
    "    r := 41\n",
    "    x ← randint(100); write(x)\n",
    "    y ← randint(100); write(y)\n",
    "    d ← gcd(x, y); write(d)\n",
    "```"
   ]
  },
  {
   "cell_type": "code",
   "execution_count": 17,
   "metadata": {
    "deletable": false,
    "nbgrader": {
     "cell_type": "code",
     "checksum": "bd25c30968661e1e65d41e817c2d55d6",
     "grade": true,
     "grade_id": "cell-e684baec8a62a8cd",
     "locked": false,
     "points": 8,
     "schema_version": 3,
     "solution": true
    }
   },
   "outputs": [
    {
     "name": "stdout",
     "output_type": "stream",
     "text": [
      "Overwriting randgcd.wat\n"
     ]
    }
   ],
   "source": [
    "%%writefile randgcd.wat\n",
    "(module\n",
    " (import \"P0lib\" \"write\" (func $write (param i32)))\n",
    " (import \"P0lib\" \"writeln\" (func $writeln))\n",
    " (import \"P0lib\" \"read\" (func $read (result i32)))\n",
    " (global $r (mut i32) (i32.const 0))\n",
    " (func $randint (param $bound i32) (result i32)\n",
    "    (local $rand i32)\n",
    "    (local $a i32)\n",
    "    (local $c i32)\n",
    "    (local $m i32)\n",
    "    i32.const 16807\n",
    "    local.set $a\n",
    "    i32.const 11\n",
    "    local.set $c\n",
    "    i32.const 65535\n",
    "    local.set $m\n",
    "    local.get $c\n",
    "    local.get $a\n",
    "    global.get $r\n",
    "    i32.mul\n",
    "    i32.add\n",
    "    local.get $m\n",
    "    i32.rem_s\n",
    "    global.set $r\n",
    "    global.get $r\n",
    "    local.get $bound\n",
    "    i32.div_s\n",
    "    local.set $rand\n",
    "    local.get $rand\n",
    " )\n",
    " (func $gcd (param $x i32) (param $y i32) (result i32)\n",
    "    (local $d i32)\n",
    "    loop $label0\n",
    "      local.get $x\n",
    "      local.get $y\n",
    "      i32.ne\n",
    "      if\n",
    "        local.get $x\n",
    "        local.get $y\n",
    "        i32.gt_s\n",
    "        if\n",
    "          local.get $x\n",
    "          local.get $y\n",
    "          i32.sub\n",
    "          local.set $x\n",
    "        else\n",
    "          local.get $y\n",
    "          local.get $x\n",
    "          i32.sub\n",
    "          local.set $y\n",
    "        end\n",
    "        br $label0\n",
    "      end\n",
    "    end\n",
    "    local.get $x\n",
    "    local.set $d\n",
    "    local.get $d\n",
    " )\n",
    " (func $randgcd\n",
    "    (local $x i32)\n",
    "    (local $y i32)\n",
    "    (local $d i32)\n",
    "  \n",
    "    i32.const 41\n",
    "    global.set $r\n",
    "\n",
    "    i32.const 100\n",
    "    call $randint\n",
    "    local.set $x\n",
    "    local.get $x\n",
    "    call $write\n",
    "\n",
    "    i32.const 100\n",
    "    call $randint\n",
    "    local.set $y\n",
    "    local.get $y\n",
    "    call $write\n",
    "\n",
    "    local.get $x\n",
    "    local.get $y\n",
    "    call $gcd\n",
    "    local.set $d\n",
    "    local.get $d\n",
    "    call $write\n",
    " )\n",
    " (memory 1)\n",
    " (start $randgcd)\n",
    ")"
   ]
  },
  {
   "cell_type": "code",
   "execution_count": 18,
   "metadata": {},
   "outputs": [],
   "source": [
    "!wat2wasm randgcd.wat"
   ]
  },
  {
   "cell_type": "code",
   "execution_count": 19,
   "metadata": {},
   "outputs": [
    {
     "data": {
      "application/javascript": [
       "\n",
       "    const params = {\n",
       "        P0lib: {\n",
       "            write: i => element.append(i + ' '),\n",
       "            writeln: () => element.append(document.createElement('br')),\n",
       "            read: () => window.prompt()\n",
       "        }\n",
       "    }\n",
       "    \n",
       "    var wasmByteString = \"b'\\x00asm\\x01\\x00\\x00\\x00\\x01\\x17\\x05`\\x01\\x7f\\x00`\\x00\\x00`\\x00\\x01\\x7f`\\x01\\x7f\\x01\\x7f`\\x02\\x7f\\x7f\\x01\\x7f\\x02,\\x03\\x05P0lib\\x05write\\x00\\x00\\x05P0lib\\x07writeln\\x00\\x01\\x05P0lib\\x04read\\x00\\x02\\x03\\x04\\x03\\x03\\x04\\x01\\x05\\x03\\x01\\x00\\x01\\x06\\x06\\x01\\x7f\\x01A\\x00\\x0b\\x08\\x01\\x05\\n\\x86\\x01\\x03*\\x01\\x04\\x7fA\\xa7\\x83\\x01!\\x02A\\x0b!\\x03A\\xff\\xff\\x03!\\x04 \\x03 \\x02#\\x00lj \\x04o$\\x00#\\x00 \\x00m!\\x01 \\x01\\x0b.\\x01\\x01\\x7f\\x03@ \\x00 \\x01G\\x04@ \\x00 \\x01J\\x04@ \\x00 \\x01k!\\x00\\x05 \\x01 \\x00k!\\x01\\x0b\\x0c\\x01\\x0b\\x0b \\x00!\\x02 \\x02\\x0b*\\x01\\x03\\x7fA)$\\x00A\\xe4\\x00\\x10\\x03!\\x00 \\x00\\x10\\x00A\\xe4\\x00\\x10\\x03!\\x01 \\x01\\x10\\x00 \\x00 \\x01\\x10\\x04!\\x02 \\x02\\x10\\x00\\x0b'\"; // pass the wasm file to JavaScript as byte string\n",
       "    wasmByteString = wasmByteString.substring(2, wasmByteString.length - 1); // remove the byte literals b'...'\n",
       "    const wasmArrayBuffer = new Uint8Array(wasmByteString.length); // convert the binary string to ArrayBuffer\n",
       "    for (let i = 0; i < wasmByteString.length; i++)\n",
       "      wasmArrayBuffer[i] = wasmByteString.charCodeAt(i);\n",
       "    \n",
       "    WebAssembly.compile(wasmArrayBuffer.buffer) // compile (sharable) code\n",
       "        .then(module => WebAssembly.instantiate(module, params)) // create an instance with memory\n",
       "        // .then(instance => instance.exports.program()); // run the main program; not needed if a start function is specified\n",
       "     "
      ],
      "text/plain": [
       "<IPython.core.display.Javascript object>"
      ]
     },
     "metadata": {},
     "output_type": "display_data"
    }
   ],
   "source": [
    "runwasm(\"randgcd.wasm\")"
   ]
  },
  {
   "cell_type": "code",
   "execution_count": 20,
   "metadata": {},
   "outputs": [
    {
     "name": "stdout",
     "output_type": "stream",
     "text": [
      "337 627 1 "
     ]
    }
   ],
   "source": [
    "runpywasm(\"randgcd.wasm\")"
   ]
  },
  {
   "cell_type": "code",
   "execution_count": 21,
   "metadata": {},
   "outputs": [
    {
     "name": "stdout",
     "output_type": "stream",
     "text": [
      "337 627 1 "
     ]
    }
   ],
   "source": [
    "runwasmer(\"randgcd.wasm\")"
   ]
  }
 ],
 "metadata": {
  "kernelspec": {
   "display_name": "Python 3 (ipykernel)",
   "language": "python",
   "name": "python3"
  },
  "language_info": {
   "codemirror_mode": {
    "name": "ipython",
    "version": 3
   },
   "file_extension": ".py",
   "mimetype": "text/x-python",
   "name": "python",
   "nbconvert_exporter": "python",
   "pygments_lexer": "ipython3",
   "version": "3.11.1"
  }
 },
 "nbformat": 4,
 "nbformat_minor": 4
}
