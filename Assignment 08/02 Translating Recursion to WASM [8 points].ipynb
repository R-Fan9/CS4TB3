{
 "cells": [
  {
   "cell_type": "markdown",
   "metadata": {},
   "source": [
    "#### Translating Recursion to WASM"
   ]
  },
  {
   "cell_type": "code",
   "execution_count": 1,
   "metadata": {},
   "outputs": [],
   "source": [
    "def runwasm(wasmfile):\n",
    "    from IPython.display import display, Javascript\n",
    "    display(Javascript(\"\"\"\n",
    "    const params = {\n",
    "        P0lib: {\n",
    "            write: i => element.append(i + ' '),\n",
    "            writeln: () => element.append(document.createElement('br')),\n",
    "            read: () => window.prompt()\n",
    "        }\n",
    "    }\n",
    "    \n",
    "    var wasmByteString = \\\"\"\"\" + str(open(wasmfile, \"rb\").read()) + \"\"\"\\\"; // pass the wasm file to JavaScript as byte string\n",
    "    wasmByteString = wasmByteString.substring(2, wasmByteString.length - 1); // remove the byte literals b'...'\n",
    "    const wasmArrayBuffer = new Uint8Array(wasmByteString.length); // convert the binary string to ArrayBuffer\n",
    "    for (let i = 0; i < wasmByteString.length; i++)\n",
    "      wasmArrayBuffer[i] = wasmByteString.charCodeAt(i);\n",
    "    \n",
    "    WebAssembly.compile(wasmArrayBuffer.buffer) // compile (sharable) code\n",
    "        .then(module => WebAssembly.instantiate(module, params)) // create an instance with memory\n",
    "        // .then(instance => instance.exports.program()); // run the main program; not needed if a start function is specified\n",
    "     \"\"\"))"
   ]
  },
  {
   "cell_type": "code",
   "execution_count": 2,
   "metadata": {},
   "outputs": [],
   "source": [
    "def runpywasm(wasmfile):\n",
    "    import pywasm\n",
    "    def write(s, i): print(i, end=' ')\n",
    "    def writeln(s): print()\n",
    "    def read(s): return int(input())\n",
    "    \n",
    "    vm = pywasm.load(wasmfile, {'P0lib': {'write': write, 'writeln': writeln, 'read': read}})"
   ]
  },
  {
   "cell_type": "code",
   "execution_count": 3,
   "metadata": {},
   "outputs": [],
   "source": [
    "from wasmer import engine, Store, Module, Instance, ImportObject, Function\n",
    "from wasmer_compiler_cranelift import Compiler\n",
    "\n",
    "def runwasmer(wasmfile):\n",
    "    def write(i: int): print(i, end=' ')\n",
    "    def writeln(): print()\n",
    "    def read() -> int: return int(input()) \n",
    "    store = Store(engine.JIT(Compiler))\n",
    "    module = Module(store, open(wasmfile, 'rb').read())\n",
    "    import_object = ImportObject()\n",
    "    import_object.register(\"P0lib\", {\"write\": Function(store, write),\n",
    "                                     \"writeln\": Function(store, writeln),\"read\": Function(store, read)})\n",
    "    instance = Instance(module, import_object)"
   ]
  },
  {
   "cell_type": "markdown",
   "metadata": {},
   "source": [
    "The Fibonacci numbers are computed in P0 by:\n",
    "\n",
    "```Pascal\n",
    "procedure fib(n: integer) → (r: integer)\n",
    "  var a, b: integer\n",
    "    if n ≤ 1 then r := n\n",
    "    else\n",
    "      a ← fib(n - 1); b ← fib(n - 2); r := a + b\n",
    "\n",
    "program fibonacci\n",
    "  var x: integer\n",
    "    x ← read(); x ← fib(x); write(x)\n",
    "```\n",
    "\n",
    "Translate this program by hand to WebAssembly. The WebAssembly functions for `fib` and `fibonacci` should not use local or global variables, only the parameters, results, and the stack. That is, do not follow the translation scheme of the P0 compiler but write code that is hand-optimized for brevity. For this, you can use the fact that an `if` can push a result on the stack, provided that both branches do it. The syntax for this is:\n",
    "\n",
    "```\n",
    "        if (result i32)\n",
    "            ... code that pushes i32 on the stack\n",
    "        else\n",
    "            ... code that pushes i32 on the stack\n",
    "        end\n",
    "```"
   ]
  },
  {
   "cell_type": "code",
   "execution_count": 4,
   "metadata": {
    "deletable": false,
    "nbgrader": {
     "cell_type": "code",
     "checksum": "52fa6bee67ffb2043c6b19c3fa9739b0",
     "grade": true,
     "grade_id": "cell-59cec80857a06356",
     "locked": false,
     "points": 8,
     "schema_version": 3,
     "solution": true,
     "task": false
    }
   },
   "outputs": [
    {
     "name": "stdout",
     "output_type": "stream",
     "text": [
      "Overwriting fibonacci.wat\n"
     ]
    }
   ],
   "source": [
    "%%writefile fibonacci.wat\n",
    "(module\n",
    " (import \"P0lib\" \"write\" (func $write (param i32)))\n",
    " (import \"P0lib\" \"writeln\" (func $writeln))\n",
    " (import \"P0lib\" \"read\" (func $read (result i32)))\n",
    " (func $fib (param $n i32) (result i32)\n",
    "    local.get $n\n",
    "    i32.const 1\n",
    "    i32.le_s\n",
    "    if (result i32)\n",
    "      local.get $n\n",
    "    else\n",
    "      local.get $n\n",
    "      i32.const 1\n",
    "      i32.sub\n",
    "      call $fib\n",
    "  \n",
    "      local.get $n\n",
    "      i32.const 2\n",
    "      i32.sub\n",
    "      call $fib\n",
    "  \n",
    "      i32.add\n",
    "    end\n",
    " )\n",
    " (func $fibonacci\n",
    "    call $read\n",
    "    call $fib\n",
    "    call $write\n",
    " )\n",
    " (memory 1)\n",
    " (start $fibonacci)\n",
    ")"
   ]
  },
  {
   "cell_type": "code",
   "execution_count": 5,
   "metadata": {},
   "outputs": [],
   "source": [
    "!wat2wasm fibonacci.wat"
   ]
  },
  {
   "cell_type": "code",
   "execution_count": 6,
   "metadata": {
    "tags": []
   },
   "outputs": [
    {
     "data": {
      "application/javascript": [
       "\n",
       "    const params = {\n",
       "        P0lib: {\n",
       "            write: i => element.append(i + ' '),\n",
       "            writeln: () => element.append(document.createElement('br')),\n",
       "            read: () => window.prompt()\n",
       "        }\n",
       "    }\n",
       "    \n",
       "    var wasmByteString = \"b\"\\x00asm\\x01\\x00\\x00\\x00\\x01\\x11\\x04`\\x01\\x7f\\x00`\\x00\\x00`\\x00\\x01\\x7f`\\x01\\x7f\\x01\\x7f\\x02,\\x03\\x05P0lib\\x05write\\x00\\x00\\x05P0lib\\x07writeln\\x00\\x01\\x05P0lib\\x04read\\x00\\x02\\x03\\x03\\x02\\x03\\x01\\x05\\x03\\x01\\x00\\x01\\x08\\x01\\x04\\n'\\x02\\x1c\\x00 \\x00A\\x01L\\x04\\x7f \\x00\\x05 \\x00A\\x01k\\x10\\x03 \\x00A\\x02k\\x10\\x03j\\x0b\\x0b\\x08\\x00\\x10\\x02\\x10\\x03\\x10\\x00\\x0b\"\"; // pass the wasm file to JavaScript as byte string\n",
       "    wasmByteString = wasmByteString.substring(2, wasmByteString.length - 1); // remove the byte literals b'...'\n",
       "    const wasmArrayBuffer = new Uint8Array(wasmByteString.length); // convert the binary string to ArrayBuffer\n",
       "    for (let i = 0; i < wasmByteString.length; i++)\n",
       "      wasmArrayBuffer[i] = wasmByteString.charCodeAt(i);\n",
       "    \n",
       "    WebAssembly.compile(wasmArrayBuffer.buffer) // compile (sharable) code\n",
       "        .then(module => WebAssembly.instantiate(module, params)) // create an instance with memory\n",
       "        // .then(instance => instance.exports.program()); // run the main program; not needed if a start function is specified\n",
       "     "
      ],
      "text/plain": [
       "<IPython.core.display.Javascript object>"
      ]
     },
     "metadata": {},
     "output_type": "display_data"
    }
   ],
   "source": [
    "runwasm(\"fibonacci.wasm\")"
   ]
  },
  {
   "cell_type": "code",
   "execution_count": 11,
   "metadata": {},
   "outputs": [
    {
     "name": "stdin",
     "output_type": "stream",
     "text": [
      " 6\n"
     ]
    },
    {
     "name": "stdout",
     "output_type": "stream",
     "text": [
      "8 "
     ]
    }
   ],
   "source": [
    "runpywasm(\"fibonacci.wasm\")"
   ]
  },
  {
   "cell_type": "code",
   "execution_count": 9,
   "metadata": {},
   "outputs": [
    {
     "name": "stdin",
     "output_type": "stream",
     "text": [
      " 20\n"
     ]
    },
    {
     "name": "stdout",
     "output_type": "stream",
     "text": [
      "6765 "
     ]
    }
   ],
   "source": [
    "runwasmer(\"fibonacci.wasm\")"
   ]
  }
 ],
 "metadata": {
  "kernelspec": {
   "display_name": "Python 3 (ipykernel)",
   "language": "python",
   "name": "python3"
  },
  "language_info": {
   "codemirror_mode": {
    "name": "ipython",
    "version": 3
   },
   "file_extension": ".py",
   "mimetype": "text/x-python",
   "name": "python",
   "nbconvert_exporter": "python",
   "pygments_lexer": "ipython3",
   "version": "3.11.1"
  }
 },
 "nbformat": 4,
 "nbformat_minor": 4
}
