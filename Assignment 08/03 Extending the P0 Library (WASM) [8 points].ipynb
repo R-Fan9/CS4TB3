{
 "cells": [
  {
   "cell_type": "markdown",
   "metadata": {},
   "source": [
    "#### Extending the P0 Library"
   ]
  },
  {
   "cell_type": "markdown",
   "metadata": {},
   "source": [
    "The earlier implementation of the random number generator will always produce the same sequence as the seed value is fixed. Modify the implementation to use the current time in some form as the seed value:\n",
    "\n",
    "```Pascal\n",
    "var r: integer\n",
    "\n",
    "procedure randint(bound: integer) → (rand: integer)\n",
    "  const a = 16807\n",
    "  const c = 11\n",
    "  const m = 65535\n",
    "    r := (a × r + c) mod m\n",
    "    rand := r div bound\n",
    "\n",
    "procedure gcd(x: integer; y: integer) → (d: integer)\n",
    "  while x ≠ y do\n",
    "    if x > y then x := x - y\n",
    "    else y := y - x\n",
    "  d := x\n",
    "\n",
    "program randgcd\n",
    "  var x, y, d: integer\n",
    "    r ← seed()\n",
    "    x ← randint(100); write(x)\n",
    "    y ← randint(100); write(y)\n",
    "    d ← gcd(x, y); write(d)\n",
    "```\n",
    "\n",
    "For this, you must extend the standard library with a function that returns the current time. Note that that value cannot be too large as otherwise the multiplication with `a` may overflow. For example, the millisecond portion of the current time works."
   ]
  },
  {
   "cell_type": "code",
   "execution_count": 4,
   "metadata": {
    "deletable": false,
    "nbgrader": {
     "cell_type": "code",
     "checksum": "6a6a841685644a3c3ea4b2a5bc8ba294",
     "grade": true,
     "grade_id": "cell-d5263934982ede19",
     "locked": false,
     "points": 3,
     "schema_version": 3,
     "solution": true,
     "task": false
    }
   },
   "outputs": [],
   "source": [
    "def runpywasm(wasmfile):\n",
    "    import pywasm\n",
    "    from datetime import datetime\n",
    "    def write(s, i): print(i, end=' ')\n",
    "    def writeln(s): print()\n",
    "    def read(s): return int(input())\n",
    "    def seed(s): return datetime.now().microsecond // 1000\n",
    "    vm = pywasm.load(wasmfile, {'P0lib': {'write': write, 'writeln': writeln, 'read': read, 'seed': seed}})"
   ]
  },
  {
   "cell_type": "code",
   "execution_count": 5,
   "metadata": {
    "deletable": false,
    "nbgrader": {
     "cell_type": "code",
     "checksum": "38112d2d63aa58acda12208105ed03c1",
     "grade": true,
     "grade_id": "cell-aee7813f52c5993d",
     "locked": false,
     "points": 5,
     "schema_version": 3,
     "solution": true
    }
   },
   "outputs": [
    {
     "name": "stdout",
     "output_type": "stream",
     "text": [
      "Overwriting randgcd2.wat\n"
     ]
    }
   ],
   "source": [
    "%%writefile randgcd2.wat\n",
    "(module\n",
    " (import \"P0lib\" \"write\" (func $write (param i32)))\n",
    " (import \"P0lib\" \"writeln\" (func $writeln))\n",
    " (import \"P0lib\" \"read\" (func $read (result i32)))\n",
    " (import \"P0lib\" \"seed\" (func $seed (result i32)))\n",
    " (global $r (mut i32) (i32.const 0))\n",
    " (func $randint (param $bound i32) (result i32)\n",
    "    (local $rand i32)\n",
    "    (local $a i32)\n",
    "    (local $c i32)\n",
    "    (local $m i32)\n",
    "    i32.const 16807\n",
    "    local.set $a\n",
    "    i32.const 11\n",
    "    local.set $c\n",
    "    i32.const 65535\n",
    "    local.set $m\n",
    "  \n",
    "    local.get $c\n",
    "    local.get $a\n",
    "    global.get $r\n",
    "    i32.mul\n",
    "    i32.add\n",
    "    local.get $m\n",
    "    i32.rem_s\n",
    "    global.set $r\n",
    "  \n",
    "    global.get $r\n",
    "    local.get $bound\n",
    "    i32.div_s\n",
    "    local.set $rand\n",
    "    local.get $rand\n",
    " )\n",
    " (func $gcd (param $x i32) (param $y i32) (result i32)\n",
    "    (local $d i32)\n",
    "    loop $label0\n",
    "      local.get $x\n",
    "      local.get $y\n",
    "      i32.ne\n",
    "      if\n",
    "        local.get $x\n",
    "        local.get $y\n",
    "        i32.gt_s\n",
    "        if\n",
    "          local.get $x\n",
    "          local.get $y\n",
    "          i32.sub\n",
    "          local.set $x\n",
    "        else\n",
    "          local.get $y\n",
    "          local.get $x\n",
    "          i32.sub\n",
    "          local.set $y\n",
    "        end\n",
    "        br $label0\n",
    "      end\n",
    "    end\n",
    "    local.get $x\n",
    "    local.set $d\n",
    "    local.get $d\n",
    " )\n",
    " (func $randgcd\n",
    "    (local $x i32)\n",
    "    (local $y i32)\n",
    "    (local $d i32)\n",
    "  \n",
    "    call $seed\n",
    "    global.set $r\n",
    "\n",
    "    i32.const 100\n",
    "    call $randint\n",
    "    local.set $x\n",
    "    local.get $x\n",
    "    call $write\n",
    "\n",
    "    i32.const 100\n",
    "    call $randint\n",
    "    local.set $y\n",
    "    local.get $y\n",
    "    call $write\n",
    "\n",
    "    local.get $x\n",
    "    local.get $y\n",
    "    call $gcd\n",
    "    local.set $d\n",
    "    local.get $d\n",
    "    call $write\n",
    " )\n",
    " (memory 1)\n",
    " (start $randgcd)\n",
    ")"
   ]
  },
  {
   "cell_type": "code",
   "execution_count": 6,
   "metadata": {},
   "outputs": [],
   "source": [
    "!wat2wasm randgcd2.wat"
   ]
  },
  {
   "cell_type": "code",
   "execution_count": 8,
   "metadata": {},
   "outputs": [
    {
     "name": "stdout",
     "output_type": "stream",
     "text": [
      "383 135 1 "
     ]
    }
   ],
   "source": [
    "runpywasm(\"randgcd2.wasm\")"
   ]
  },
  {
   "cell_type": "code",
   "execution_count": null,
   "metadata": {},
   "outputs": [],
   "source": []
  }
 ],
 "metadata": {
  "kernelspec": {
   "display_name": "Python 3 (ipykernel)",
   "language": "python",
   "name": "python3"
  },
  "language_info": {
   "codemirror_mode": {
    "name": "ipython",
    "version": 3
   },
   "file_extension": ".py",
   "mimetype": "text/x-python",
   "name": "python",
   "nbconvert_exporter": "python",
   "pygments_lexer": "ipython3",
   "version": "3.11.1"
  }
 },
 "nbformat": 4,
 "nbformat_minor": 4
}
