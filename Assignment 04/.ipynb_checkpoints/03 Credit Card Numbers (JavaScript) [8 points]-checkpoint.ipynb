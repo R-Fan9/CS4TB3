{
 "cells": [
  {
   "cell_type": "markdown",
   "metadata": {},
   "source": [
    "#### Credit Card Numbers (JavaScript) [8 points]"
   ]
  },
  {
   "cell_type": "markdown",
   "metadata": {},
   "source": [
    "Visa card numbers start with a 4. New Visa cards have 16 digits, and old cards have 13 digits. MasterCard numbers start with the numbers 51 through 55. All have 16 digits. American Express card numbers start with 34 or 37 and have 15 digits. The last digit is a checksum calculated using Luhn's algorithm; see http://en.wikipedia.org/wiki/Credit_card_number.\n",
    "\n",
    "With web apps in mind, use JavaScript regular expressions to check if the credit card is well-formed and of proper length. Implement Luhn's algorithm in JavaScript.\n",
    "\n",
    "The Jupyter (IPython) cell magic `javascript` allows JavaScript to be embedded and executed. Complete the JavaScript functions `isValidCreditCard` and `luhnCheckSum`!\n",
    "\n",
    "You can use `console.log(...)` to output to the JavaScript console of your web browser for debugging. The expected output below is one line with `Valid!` and one line with `Invalid!` Your implementation will be tested on additional credit card numbers."
   ]
  },
  {
   "cell_type": "code",
   "execution_count": 19,
   "metadata": {
    "deletable": false,
    "nbgrader": {
     "cell_type": "code",
     "checksum": "9ecab4900d859853ab84d7c8e1bd3641",
     "grade": true,
     "grade_id": "cell-26bcac6770e7110d",
     "locked": false,
     "points": 8,
     "schema_version": 3,
     "solution": true,
     "task": false
    }
   },
   "outputs": [
    {
     "data": {
      "application/javascript": [
       "    \n",
       "function isValidCreditCard(sText) {\n",
       "    // Define the 3 regular expressions reMasterCard, reVisa, and reAmericanExpr\n",
       "    var reMasterCard = /^(5[1-5])\\d{14}$/;\n",
       "    var reVisa = /^4\\d{12}(\\d{3})?$/;\n",
       "    var reAmericanExpr = /^(3(4|7))\\d{13}$/;\n",
       "\n",
       "    if ((reMasterCard.test(sText) || reVisa.test(sText) ||  reAmericanExpr.test(sText)) \n",
       "          && (luhnCheckSum(sText) === 0)) {\n",
       "        element.append('Valid! ');\n",
       "    } else {\n",
       "        element.append('Invalid! ');\n",
       "    }\n",
       "}\n",
       "\n",
       "function luhnCheckSum(sCardNum) {\n",
       "    var digits = sCardNum.split(\"\").map(Number);\n",
       "    var lastDigitIndex = digits.length - 1;\n",
       "    var expectedChecksum = digits[lastDigitIndex];\n",
       "    \n",
       "    var sum = 0;\n",
       "    var skip = false;\n",
       "    for (var i = lastDigitIndex - 1; i >= 0; i--){\n",
       "        var num = digits[i];\n",
       "        if(skip){\n",
       "            sum += num\n",
       "        }else if(num > 4){\n",
       "            sum += num * 2 - 9\n",
       "        }else{\n",
       "            sum += num * 2\n",
       "        }\n",
       "        skip = !skip;\n",
       "    }\n",
       "\n",
       "    var actualChecksum = sum%10 === 0 ? 0 : 10 - (sum%10);\n",
       "    if(actualChecksum === expectedChecksum){\n",
       "        return 0;\n",
       "    }\n",
       "    return -1;\n",
       "}\n",
       "\n",
       "isValidCreditCard('378282246310005') // American Express\n",
       "isValidCreditCard('378734493671000') // American Express\n",
       "isValidCreditCard('5555555555554444') // MasterCard\n",
       "isValidCreditCard('5105105105105100') // MasterCard\n",
       "isValidCreditCard('4111111111111111') // Visa\n",
       "isValidCreditCard('4222222222222') // Visa\n",
       "var br = document.createElement(\"br\"); element.appendChild(br);\n",
       "\n",
       "isValidCreditCard('378282246310003')\n",
       "isValidCreditCard('5555555555554445')\n",
       "isValidCreditCard('4111111111111114')\n",
       "isValidCreditCard('3787344936710007')\n",
       "isValidCreditCard('411111111111111')\n"
      ],
      "text/plain": [
       "<IPython.core.display.Javascript object>"
      ]
     },
     "metadata": {},
     "output_type": "display_data"
    }
   ],
   "source": [
    "%%javascript\n",
    "    \n",
    "function isValidCreditCard(sText) {\n",
    "    // Define the 3 regular expressions reMasterCard, reVisa, and reAmericanExpr\n",
    "    var reMasterCard = /^(5[1-5])\\d{14}$/;\n",
    "    var reVisa = /^4\\d{12}(\\d{3})?$/;\n",
    "    var reAmericanExpr = /^(3(4|7))\\d{13}$/;\n",
    "\n",
    "    if ((reMasterCard.test(sText) || reVisa.test(sText) ||  reAmericanExpr.test(sText)) \n",
    "          && (luhnCheckSum(sText) === 0)) {\n",
    "        element.append('Valid! ');\n",
    "    } else {\n",
    "        element.append('Invalid! ');\n",
    "    }\n",
    "}\n",
    "\n",
    "function luhnCheckSum(sCardNum) {\n",
    "    var digits = sCardNum.split(\"\").map(Number);\n",
    "    var lastDigitIndex = digits.length - 1;\n",
    "    var expectedChecksum = digits[lastDigitIndex];\n",
    "    \n",
    "    var sum = 0;\n",
    "    var skip = false;\n",
    "    for (var i = lastDigitIndex - 1; i >= 0; i--){\n",
    "        var num = digits[i];\n",
    "        if(skip){\n",
    "            sum += num\n",
    "        }else if(num > 4){\n",
    "            sum += num * 2 - 9\n",
    "        }else{\n",
    "            sum += num * 2\n",
    "        }\n",
    "        skip = !skip;\n",
    "    }\n",
    "\n",
    "    var actualChecksum = sum%10 === 0 ? 0 : 10 - (sum%10);\n",
    "    if(actualChecksum === expectedChecksum){\n",
    "        return 0;\n",
    "    }\n",
    "    return -1;\n",
    "}\n",
    "\n",
    "isValidCreditCard('378282246310005') // American Express\n",
    "isValidCreditCard('378734493671000') // American Express\n",
    "isValidCreditCard('5555555555554444') // MasterCard\n",
    "isValidCreditCard('5105105105105100') // MasterCard\n",
    "isValidCreditCard('4111111111111111') // Visa\n",
    "isValidCreditCard('4222222222222') // Visa\n",
    "var br = document.createElement(\"br\"); element.appendChild(br);\n",
    "\n",
    "isValidCreditCard('378282246310003')\n",
    "isValidCreditCard('5555555555554445')\n",
    "isValidCreditCard('4111111111111114')\n",
    "isValidCreditCard('3787344936710007')\n",
    "isValidCreditCard('411111111111111')"
   ]
  },
  {
   "cell_type": "code",
   "execution_count": null,
   "metadata": {},
   "outputs": [],
   "source": []
  }
 ],
 "metadata": {
  "kernelspec": {
   "display_name": "Python 3 (ipykernel)",
   "language": "python",
   "name": "python3"
  },
  "language_info": {
   "codemirror_mode": {
    "name": "ipython",
    "version": 3
   },
   "file_extension": ".py",
   "mimetype": "text/x-python",
   "name": "python",
   "nbconvert_exporter": "python",
   "pygments_lexer": "ipython3",
   "version": "3.11.1"
  }
 },
 "nbformat": 4,
 "nbformat_minor": 4
}
