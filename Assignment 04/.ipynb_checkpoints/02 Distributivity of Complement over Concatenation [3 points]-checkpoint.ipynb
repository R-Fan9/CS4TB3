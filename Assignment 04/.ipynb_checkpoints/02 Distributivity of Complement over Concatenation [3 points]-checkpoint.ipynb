{
 "cells": [
  {
   "cell_type": "markdown",
   "metadata": {},
   "source": [
    "#### Distributivity of Complement over Concatenation [3 points]"
   ]
  },
  {
   "cell_type": "markdown",
   "metadata": {},
   "source": [
    "Regular expressions enjoy a number of algebraic properties, e.g. for regular expressions `E`, `F`, `G`, the following properties hold:\n",
    "\n",
    "- *Double Complement:* `~~E = E`\n",
    "- *Commutativity:* `E & F  = F & E`\n",
    "- *Associativity:* `E & F  & G = E & (F & G)`\n",
    "- *Idempotence:* `E & E = E`\n",
    "- *De Morgan:* `~(E & F) = ~E | ~F` and `~(E | F) = ~E & ~F`\n",
    "- *Distributivity:* `E | (F & G) = (E & F) | (E & G)` and `E & (F | G) = (E | F) & (E | G)`\n",
    "- *Distributivity:* `E (F & G) = E F & E G` and `(E & F) G = E G & E F`\n",
    "\n",
    "Does `~(E F) = (~E) (~F)` hold for arbitrary regular expressions `E` and `F`? Give either a proof or a counterexample. "
   ]
  },
  {
   "cell_type": "markdown",
   "metadata": {
    "deletable": false,
    "nbgrader": {
     "cell_type": "markdown",
     "checksum": "e26594820ab6e6cd441653eb49f798de",
     "grade": true,
     "grade_id": "cell-89426e5dc6becdcc",
     "locked": false,
     "points": 3,
     "schema_version": 3,
     "solution": true,
     "task": false
    }
   },
   "source": [
    "Counter Example:\n",
    "\n",
    "Given `T = {a}`, `E = a*`, `F = aaa`.\n",
    "\n",
    "     L(~(E F))\n",
    "    =  C(L(E F))\n",
    "    =  C(L(E) L(F))\n",
    "    =  C(a* L(F))\n",
    "    =  C((⋃ n ≥ 0 • Lⁿ(a)) L(F))\n",
    "    =  C((⋃ n ≥ 0 • aⁿ) L(F))\n",
    "    =  C((⋃ n ≥ 0 • aⁿ) {aaa})\n",
    "    =  C((⋃ n ≥ 3 • aⁿ))\n",
    "    =  a* – (⋃ n ≥ 3 • aⁿ)\n",
    "    =  (⋃ n ≥ 0 • aⁿ) – (⋃ n ≥ 3 • aⁿ)\n",
    "    =  {ε, a, aa}\n",
    "\n",
    "In contrast,\n",
    "\n",
    "     L((~E) (~F))\n",
    "    =  L(~E) L(~F)\n",
    "    =  CL(E) CL(F)\n",
    "    =  C(a*) CL(F)\n",
    "    =  C((⋃ n ≥ 0 • Lⁿ(a)) CL(F)\n",
    "    =  C(⋃ n ≥ 0 • aⁿ) CL(F)\n",
    "    =  a* – (⋃ n ≥ 0 • aⁿ) CL(F)\n",
    "    =  (⋃ n ≥ 0 • aⁿ) – (⋃ n ≥ 0 • aⁿ) CL(F)\n",
    "    =  {ε} CL(F)\n",
    "    =  {ε} C({aaa})\n",
    "    =  {ε} (a* – {aaa})\n",
    "    =  {ε} ((⋃ n ≥ 0 • aⁿ) – aaa)\n",
    "    =  {ε} ((⋃ n ≥ 0 | n ≠ 3 • aⁿ)\n",
    "    =  (⋃ n ≥ 0 | n ≠ 3 • aⁿ)\n",
    "\n",
    "Since `L(~(E F)) ≠ L((~E) (~F))`, we can conclude that `~(E F) ≠ (~E) (~F)`\n"
   ]
  },
  {
   "cell_type": "code",
   "execution_count": null,
   "metadata": {},
   "outputs": [],
   "source": []
  }
 ],
 "metadata": {
  "kernelspec": {
   "display_name": "Python 3 (ipykernel)",
   "language": "python",
   "name": "python3"
  },
  "language_info": {
   "codemirror_mode": {
    "name": "ipython",
    "version": 3
   },
   "file_extension": ".py",
   "mimetype": "text/x-python",
   "name": "python",
   "nbconvert_exporter": "python",
   "pygments_lexer": "ipython3",
   "version": "3.11.1"
  }
 },
 "nbformat": 4,
 "nbformat_minor": 4
}
