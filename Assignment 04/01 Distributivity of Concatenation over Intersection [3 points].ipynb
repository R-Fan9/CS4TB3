{
 "cells": [
  {
   "cell_type": "markdown",
   "metadata": {},
   "source": [
    "#### Distributivity of Concatenration over Intersection [3 points]"
   ]
  },
  {
   "cell_type": "markdown",
   "metadata": {},
   "source": [
    "Give an equational proof with all steps for showing that `E (F & G) = E F & E G`! Use the definition of `L(E)`."
   ]
  },
  {
   "cell_type": "markdown",
   "metadata": {
    "deletable": false,
    "nbgrader": {
     "cell_type": "markdown",
     "checksum": "1a08b6df544078641bd2fa83159545f0",
     "grade": true,
     "grade_id": "cell-6b01461992c3a6e7",
     "locked": false,
     "points": 3,
     "schema_version": 3,
     "solution": true,
     "task": false
    }
   },
   "source": [
    "     L(E (F & G))\n",
    "    =  L(E) L(F & G)\n",
    "    =  L(E) (L(F) ∩ L(G))\n",
    "    =  L(E) {b | b ∈ L(F) ∧ b ∈ L(G)}\n",
    "    =  {a b | a ∈ L(E) ∧ (b ∈ L(F) ∧ b ∈ L(G))}\n",
    "    =  {a b | (a ∈ L(E) ∧ b ∈ L(F)) ∧ (a ∈ L(E) ∧ b ∈ L(G))}\n",
    "    =  {a b | a ∈ L(E) ∧ b ∈ L(F)} ∩ {a b | a ∈ L(E) ∧ b ∈ L(G)}\n",
    "    =  L(E F) ∩ L(E G)\n",
    "    =  L(E F & E G)\n",
    "\n",
    "The proof of distributivity of concatenation over intersection relies on the distributivity of conjunction over conjunction."
   ]
  },
  {
   "cell_type": "code",
   "execution_count": null,
   "metadata": {},
   "outputs": [],
   "source": []
  }
 ],
 "metadata": {
  "kernelspec": {
   "display_name": "Python 3 (ipykernel)",
   "language": "python",
   "name": "python3"
  },
  "language_info": {
   "codemirror_mode": {
    "name": "ipython",
    "version": 3
   },
   "file_extension": ".py",
   "mimetype": "text/x-python",
   "name": "python",
   "nbconvert_exporter": "python",
   "pygments_lexer": "ipython3",
   "version": "3.11.1"
  }
 },
 "nbformat": 4,
 "nbformat_minor": 4
}
