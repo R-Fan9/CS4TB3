{
 "cells": [
  {
   "cell_type": "markdown",
   "metadata": {},
   "source": [
    "#### Markdown Translation (Python)"
   ]
  },
  {
   "cell_type": "markdown",
   "metadata": {},
   "source": [
    "Using [Python's re library](https://docs.python.org/3/library/re.html), write regular expressions to clean up Markdown markup and translate Markdown into HTML. We use [`re.sub(pattern, repl, string)`](https://docs.python.org/3/library/re.html#re.sub) to match a *pattern* in a string and to replace the pattern with *repl*.\n",
    "\n",
    "For example, to translate the markup  <code>\\` inline code\\` </code> in Markdown (text enclosed with a pair of grave accents \\` ) to `<code>inline code</code>` in HTML, we write in Python:\n",
    "\n",
    "```python\n",
    "    import re\n",
    "    re.sub('`([^`]*)`', '<code>\\g<1></code>', \"`inline code`\")\n",
    "```\n",
    "\n",
    "The replacement string uses backreference `\\g<1>` to reference the first capture group in the match string <code>([^`]*)</code>. See https://github.com/adam-p/markdown-here/wiki/Markdown-Cheatsheet. You may test with https://markdowntohtml.com/."
   ]
  },
  {
   "cell_type": "code",
   "execution_count": null,
   "metadata": {},
   "outputs": [],
   "source": [
    "import re\n",
    "\n",
    "re.sub('`([^`]*)`', '<code>\\g<1></code>', \"`inline code`\")"
   ]
  },
  {
   "cell_type": "markdown",
   "metadata": {
    "tags": []
   },
   "source": [
    "#### Part A"
   ]
  },
  {
   "cell_type": "markdown",
   "metadata": {
    "tags": []
   },
   "source": [
    "Replace two spaces at the line end with an HTML line break `<br>`.\n",
    "\n",
    "    \"this line has two spaces at the end  \" → \"this line has two spaces at the end<br>\"\n",
    "\n",
    "In the cell below, define `match_pattern` to match strings from the input and define `replacement_pattern` as the replacement string. The second cell is used for testing; do not delete it! [2 points]"
   ]
  },
  {
   "cell_type": "code",
   "execution_count": 58,
   "metadata": {
    "deletable": false,
    "nbgrader": {
     "cell_type": "code",
     "checksum": "b97a2d1562ea0bf76957058a88badd3f",
     "grade": false,
     "grade_id": "cell-109286902fdacf46",
     "locked": false,
     "schema_version": 3,
     "solution": true,
     "task": false
    },
    "tags": []
   },
   "outputs": [],
   "source": [
    "import re\n",
    "\n",
    "match_pattern = '^(.*)\\s{2}$'\n",
    "replacement_pattern = '\\g<1><br>'"
   ]
  },
  {
   "cell_type": "code",
   "execution_count": 59,
   "metadata": {
    "deletable": false,
    "editable": false,
    "nbgrader": {
     "cell_type": "code",
     "checksum": "a2849f4bf45db06199e1ad37dc2dad84",
     "grade": true,
     "grade_id": "cell-d4232e4fbf0464b8",
     "locked": true,
     "points": 2,
     "schema_version": 3,
     "solution": false,
     "task": false
    }
   },
   "outputs": [],
   "source": [
    "assert re.sub(match_pattern, replacement_pattern, \"this line has two spaces at the end  \") == 'this line has two spaces at the end<br>'\n",
    "assert re.sub(match_pattern, replacement_pattern, \"this line has more than two spaces at the end   \") == 'this line has more than two spaces at the end <br>'\n",
    "assert re.sub(match_pattern, replacement_pattern, \"this line has two spaces at the end  ...not!\") == 'this line has two spaces at the end  ...not!'"
   ]
  },
  {
   "cell_type": "markdown",
   "metadata": {},
   "source": [
    "#### Part B"
   ]
  },
  {
   "cell_type": "markdown",
   "metadata": {
    "tags": []
   },
   "source": [
    "Paragraphs are blocks of lines separated by blank lines. Paragraphs should be enclosed in `p` tags: `<p>An example paragraph. Containing multiple lines.</p>`.\n",
    "\n",
    "Translate the following from Markdown:\n",
    "\n",
    "```\n",
    "An example paragraph. Containing multiple lines.\n",
    "\n",
    "A second paragraph.\n",
    "\n",
    "A third paragraph.\n",
    "```\n",
    "    \n",
    "Into HTML:\n",
    "    \n",
    "```\n",
    "<p>An example paragraph. Containing multiple lines.</p><p>A second paragraph.</p><p>A third paragraph.</p>\n",
    "```\n",
    "\n",
    "In the cell below, define `match_pattern` to match strings from the input and define `replacement_pattern` as the replacement string. The second cell is used for testing; do not delete it! [2 points]"
   ]
  },
  {
   "cell_type": "code",
   "execution_count": 131,
   "metadata": {
    "deletable": false,
    "nbgrader": {
     "cell_type": "code",
     "checksum": "80d3c9f58c4e02623a5dce40f27962f4",
     "grade": false,
     "grade_id": "cell-e3c3e3db2404a5cc",
     "locked": false,
     "schema_version": 3,
     "solution": true,
     "task": false
    },
    "tags": []
   },
   "outputs": [
    {
     "data": {
      "text/plain": [
       "'<p>An example paragraph. Containing multiple lines.</p><p>A second paragraph.</p><p>A third paragraph.</p>'"
      ]
     },
     "execution_count": 131,
     "metadata": {},
     "output_type": "execute_result"
    }
   ],
   "source": [
    "import re\n",
    "\n",
    "match_pattern = '(?m)^(.*)(\\n{2,}|$)'\n",
    "replacement_pattern = '<p>\\g<1></p>'\n",
    "test_input = \"\"\"An example paragraph. Containing multiple lines.\n",
    "\n",
    "A second paragraph.\n",
    "\n",
    "A third paragraph.\"\"\"\n",
    "\n",
    "re.sub(match_pattern, replacement_pattern, test_input)"
   ]
  },
  {
   "cell_type": "code",
   "execution_count": 132,
   "metadata": {
    "deletable": false,
    "editable": false,
    "nbgrader": {
     "cell_type": "code",
     "checksum": "a61ee7da5f10396ede542552c26f4cd5",
     "grade": true,
     "grade_id": "cell-bfa3c7b376b2475b",
     "locked": true,
     "points": 2,
     "schema_version": 3,
     "solution": false,
     "task": false
    }
   },
   "outputs": [],
   "source": [
    "expected_output = \"<p>An example paragraph. Containing multiple lines.</p><p>A second paragraph.</p><p>A third paragraph.</p>\"\n",
    "assert re.sub(match_pattern, replacement_pattern, test_input) == expected_output"
   ]
  },
  {
   "cell_type": "markdown",
   "metadata": {
    "tags": []
   },
   "source": [
    "#### Part C"
   ]
  },
  {
   "cell_type": "markdown",
   "metadata": {},
   "source": [
    "In Markdown, we can include links using the following syntax `[McMaster University](https://mcmaster.ca)`. Convert any Markdown link into HTML links.\n",
    "\n",
    "    \"[McMaster University](https://mcmaster.ca)\" → \"<a href=\"https://mcmaster.ca\">McMaster University</a>\"\n",
    "\n",
    "In the cell below, define `match_pattern` to match strings from the input and define `replacement_pattern` as the replacement string. The second cell is used for testing; do not delete it! [2 points]"
   ]
  },
  {
   "cell_type": "code",
   "execution_count": 101,
   "metadata": {
    "deletable": false,
    "nbgrader": {
     "cell_type": "code",
     "checksum": "e3c8dad03e167c46f0ba289fe7354609",
     "grade": true,
     "grade_id": "cell-7ee8f70976a7d6b5",
     "locked": false,
     "points": 0,
     "schema_version": 3,
     "solution": true,
     "task": false
    }
   },
   "outputs": [],
   "source": [
    "import re\n",
    "\n",
    "match_pattern = '^(.*)\\[(.*)\\]\\((https?://.*)\\)'\n",
    "replacement_pattern = '\\g<1><a href=\"\\g<3>\">\\g<2></a>'"
   ]
  },
  {
   "cell_type": "code",
   "execution_count": 70,
   "metadata": {
    "deletable": false,
    "editable": false,
    "nbgrader": {
     "cell_type": "code",
     "checksum": "503433db07b5ef522717bc4454c8ca30",
     "grade": true,
     "grade_id": "cell-3cb2e1fedeaad54a",
     "locked": true,
     "points": 2,
     "schema_version": 3,
     "solution": false,
     "task": false
    }
   },
   "outputs": [],
   "source": [
    "test_input = \"An example link to [jhub](https://jhub4tb3.cas.mcmaster.ca).\"\n",
    "re.sub(match_pattern, replacement_pattern, test_input)\n",
    "assert re.sub(match_pattern, replacement_pattern, test_input) == 'An example link to <a href=\"https://jhub4tb3.cas.mcmaster.ca\">jhub</a>.'"
   ]
  },
  {
   "cell_type": "markdown",
   "metadata": {
    "tags": []
   },
   "source": [
    "#### Part D"
   ]
  },
  {
   "cell_type": "markdown",
   "metadata": {},
   "source": [
    "Translate both Markdown <em>\\*italics\\*</em> and <strong>\\*\\*bold\\*\\*</strong> into HTML, and allow for nesting.\n",
    "\n",
    "    \"**This is a bold text with an *italics* text nested inside.**\" → \"<strong>This is a bold text with an <em>italics</em> text nested inside.</strong>\"\n",
    "    \n",
    "    \"*This is an italics text with a **bold** text nested inside.*\" → \"<em>This is an italics text with a <strong>bold</strong> text nested inside.</em>\"\n",
    "    \n",
    "For this task, use the Python function `translate()` to take an input and return a string with the translations. You can perform multiple substitutions using `re.sub()` within the function. The second cell is used for testing; do not delete it! [2 points]"
   ]
  },
  {
   "cell_type": "code",
   "execution_count": 91,
   "metadata": {
    "deletable": false,
    "nbgrader": {
     "cell_type": "code",
     "checksum": "be9ddbcb89624c73188c455b89cd2ebe",
     "grade": true,
     "grade_id": "cell-4cbf435ee8f7f827",
     "locked": false,
     "points": 0,
     "schema_version": 3,
     "solution": true,
     "task": false
    }
   },
   "outputs": [],
   "source": [
    "import re\n",
    "\n",
    "def translate(input_string: str) -> str:\n",
    "    input_string = re.sub('\\*{2}(.*?)\\*{2}', '<strong>\\g<1></strong>', input_string)\n",
    "    return re.sub('\\*(.*?)\\*', '<em>\\g<1></em>', input_string)"
   ]
  },
  {
   "cell_type": "code",
   "execution_count": 92,
   "metadata": {
    "deletable": false,
    "editable": false,
    "nbgrader": {
     "cell_type": "code",
     "checksum": "bd43c7bbfeb1728257dee0b8e3d64d87",
     "grade": true,
     "grade_id": "cell-9c983bdba06ba347",
     "locked": true,
     "points": 2,
     "schema_version": 3,
     "solution": false,
     "task": false
    }
   },
   "outputs": [],
   "source": [
    "test_input = \"**This is a bold text with an *italics* text nested inside.**\"\n",
    "assert translate(test_input) == '<strong>This is a bold text with an <em>italics</em> text nested inside.</strong>'\n",
    "test_input = \"*This is an unintentional italics text with the wrong *emphasis* inside.**\"\n",
    "assert translate(test_input) == '<em>This is an unintentional italics text with the wrong </em>emphasis<em> inside.</em>*'\n",
    "test_input = \"*This is an italics text with a **bold** text nested inside*\"\n",
    "assert translate(test_input) == '<em>This is an italics text with a <strong>bold</strong> text nested inside</em>'"
   ]
  },
  {
   "cell_type": "markdown",
   "metadata": {
    "tags": []
   },
   "source": [
    "#### Part E"
   ]
  },
  {
   "cell_type": "markdown",
   "metadata": {},
   "source": [
    "Each header in Markdown has an associated HTML id tag where the id tag value is the header text content in lowercase with spaces replaced with hyphens -. Headers are any line that starts with a `#` followed by one or more space character(s) and the header text.\n",
    "\n",
    "Example of header statement translations:\n",
    "\n",
    "    \"#     Header with spaces\" → \"<h1 id=\"header-with-spaces\">Header with spaces</h1>\"\n",
    "    \n",
    "    \"##    Header in Title Case\" → \"<h2 id=\"header-in-title-case\">Header in Title Case</h2>\"\n",
    "    \n",
    "    \"###   THIRD HEADER\" → \"<h3 id=\"third-header\">THIRD HEADER</h3>\"\n",
    "    \n",
    "For this task, use the Python function `translate()` to take an input and return a string with the translations. You can perform multiple substitutions using `re.sub()` within the function. The second cell is used for testing; do not delete it! [2 points]"
   ]
  },
  {
   "cell_type": "code",
   "execution_count": 135,
   "metadata": {
    "deletable": false,
    "nbgrader": {
     "cell_type": "code",
     "checksum": "36dcc8a1011975a78eb43dc98310cbaf",
     "grade": true,
     "grade_id": "cell-243b8ae7126bd9a0",
     "locked": false,
     "points": 0,
     "schema_version": 3,
     "solution": true,
     "task": false
    }
   },
   "outputs": [],
   "source": [
    "import re\n",
    "\n",
    "def translate(input_string: str) -> str:\n",
    "    input_string = re.sub('(^#*)\\s+(.*)$', lambda match: f'<h{len(match.group(1))} id=\"{match.group(2).lower().replace(\" \", \"-\")}\">{match.group(2)}</h{len(match.group(1))}>', input_string)\n",
    "    return input_string"
   ]
  },
  {
   "cell_type": "code",
   "execution_count": 136,
   "metadata": {
    "deletable": false,
    "editable": false,
    "nbgrader": {
     "cell_type": "code",
     "checksum": "e10d4e49ffe78b75b9055876cab7559c",
     "grade": true,
     "grade_id": "cell-d86a66e6a93596a8",
     "locked": true,
     "points": 2,
     "schema_version": 3,
     "solution": false,
     "task": false
    }
   },
   "outputs": [],
   "source": [
    "test_input = \"#     Header with spaces\"\n",
    "assert translate(test_input) == '<h1 id=\"header-with-spaces\">Header with spaces</h1>'\n",
    "test_input = \"##     Header in Title Case\"\n",
    "assert translate(test_input) == '<h2 id=\"header-in-title-case\">Header in Title Case</h2>'\n",
    "test_input = \"###     THIRD HEADER\"\n",
    "assert translate(test_input) == '<h3 id=\"third-header\">THIRD HEADER</h3>'"
   ]
  }
 ],
 "metadata": {
  "kernelspec": {
   "display_name": "Python 3 (ipykernel)",
   "language": "python",
   "name": "python3"
  },
  "language_info": {
   "codemirror_mode": {
    "name": "ipython",
    "version": 3
   },
   "file_extension": ".py",
   "mimetype": "text/x-python",
   "name": "python",
   "nbconvert_exporter": "python",
   "pygments_lexer": "ipython3",
   "version": "3.11.1"
  }
 },
 "nbformat": 4,
 "nbformat_minor": 4
}
