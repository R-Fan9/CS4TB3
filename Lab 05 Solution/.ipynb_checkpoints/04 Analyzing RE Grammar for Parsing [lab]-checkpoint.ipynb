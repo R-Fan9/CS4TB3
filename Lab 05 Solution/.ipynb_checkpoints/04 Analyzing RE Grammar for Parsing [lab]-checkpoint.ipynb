{
 "cells": [
  {
   "cell_type": "markdown",
   "metadata": {
    "tags": []
   },
   "source": [
    "### Analyzing Regular Expression Grammar for Parsing"
   ]
  },
  {
   "cell_type": "markdown",
   "metadata": {
    "tags": []
   },
   "source": [
    "Consider the grammar of regular expressions from the course notes:\n",
    "\n",
    "    expression  →  term { '|' term }\n",
    "    term  →  factor { factor }\n",
    "    factor → atom [ '*' | '+' | '?' ]\n",
    "    atom  →  plainchar | escapedchar | '(' expression ')'\n",
    "    plainchar  →  ' ' | '!' | '\"' | '#' | '$' | '%' | '&' | '\\'' | ',' | '-' | '.' | '/' |\n",
    "         '0' | '1' | '2' | '3' | '4' | '5' | '6' | '7' | '8' | '9' | ':' | ';' | '<' | '=' | '>' | \n",
    "         '@' | 'A' | 'B' | 'C' | 'D' | 'E' | 'F' | 'G' | 'H' | 'I' | 'J' | 'K' | 'L' | 'M' | 'N' | 'O' |\n",
    "         'P' | 'Q' | 'R' | 'S' | 'T' | 'U' | 'V' | 'W' | 'X' | 'Y' | 'Z' | '[' | ']' | '^' | '_' |\n",
    "         '`' | 'a' | 'b' | 'c' | 'd' | 'e' | 'f' | 'g' | 'h' | 'i' | 'j' | 'k' | 'l' | 'm' | 'n' | 'o' |\n",
    "         'p' | 'q' | 'r' | 's' | 't' | 'u' | 'v' | 'w' | 'x' | 'y' | 'z' | '{' | '}' | '~'\n",
    "    escapedchar  → '\\\\' ( '(' | ')' | '*' | '+' | '?' | '\\\\' | '|' )\n",
    "\n",
    "Recall that `{…}` is used both for both repetitions in EBNF and for sets. We consider recursive descent parsing with a one-symbol lookahead."
   ]
  },
  {
   "cell_type": "markdown",
   "metadata": {
    "tags": []
   },
   "source": [
    "1. What are `first(term)`, `first(factor)`, `first(atom)`?"
   ]
  },
  {
   "cell_type": "markdown",
   "metadata": {
    "solution": "hidden",
    "solution_first": true
   },
   "source": [
    "Your solution here"
   ]
  },
  {
   "cell_type": "markdown",
   "metadata": {
    "tags": []
   },
   "source": [
    "*Instructor's Solution:*"
   ]
  },
  {
   "cell_type": "markdown",
   "metadata": {
    "solution": "hidden",
    "tags": []
   },
   "source": [
    "    first(term)\n",
    "    = first(factor)\n",
    "    = first(atom)\n",
    "    = first(plainchar) ∪ first(escapedchar) ∪ first('(' expression ')')\n",
    "    = {' ', ..., '~', '\\\\', '('}"
   ]
  },
  {
   "cell_type": "markdown",
   "metadata": {
    "tags": []
   },
   "source": [
    "2. Which of `expression`, `term`, `factor`, `atom`, `plainchar`, `escapedchar` are nullable?"
   ]
  },
  {
   "cell_type": "markdown",
   "metadata": {
    "solution": "hidden",
    "solution_first": true
   },
   "source": [
    "Your solution here"
   ]
  },
  {
   "cell_type": "markdown",
   "metadata": {
    "tags": []
   },
   "source": [
    "*Instructor's Solution:*"
   ]
  },
  {
   "cell_type": "markdown",
   "metadata": {
    "solution": "hidden",
    "tags": []
   },
   "source": [
    "None."
   ]
  },
  {
   "cell_type": "markdown",
   "metadata": {
    "tags": []
   },
   "source": [
    "3. What are the conditions for parsing EBNF expression `term { '|' term }`? Argue that these hold!"
   ]
  },
  {
   "cell_type": "markdown",
   "metadata": {
    "solution": "hidden",
    "solution_first": true
   },
   "source": [
    "Your solution here"
   ]
  },
  {
   "cell_type": "markdown",
   "metadata": {
    "tags": []
   },
   "source": [
    "*Instructor's Solution:*"
   ]
  },
  {
   "cell_type": "markdown",
   "metadata": {
    "solution": "hidden",
    "tags": []
   },
   "source": [
    "- According to the condition for `E₁ E₂ …`: `first(term) ∩ first({ '|' term }) = {}` if `term` is nullable. Since it is not, this condition automatically holds.\n",
    "\n",
    "- According to the condition for `{E}`: `first('|' term) ∩ follow({ '|' term }) = {}`. This holds as `first('|' term) = {'|'}` and `follow({ '|' term }) = follow(expression) = {')'}`, so the sets are disjoint."
   ]
  }
 ],
 "metadata": {
  "kernelspec": {
   "display_name": "Python 3 (ipykernel)",
   "language": "python",
   "name": "python3"
  },
  "language_info": {
   "codemirror_mode": {
    "name": "ipython",
    "version": 3
   },
   "file_extension": ".py",
   "mimetype": "text/x-python",
   "name": "python",
   "nbconvert_exporter": "python",
   "pygments_lexer": "ipython3",
   "version": "3.11.1"
  }
 },
 "nbformat": 4,
 "nbformat_minor": 4
}
