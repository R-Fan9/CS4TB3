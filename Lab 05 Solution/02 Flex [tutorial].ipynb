{
 "cells": [
  {
   "cell_type": "markdown",
   "metadata": {},
   "source": [
    "#### Flex"
   ]
  },
  {
   "cell_type": "markdown",
   "metadata": {
    "tags": []
   },
   "source": [
    "The Unix tool [`flex`](https://github.com/westes/flex) is a _scanner (lexical analyzer) generator_: it takes a specification of a set of symbols (tokens) and associated actions as input and generates a C program which recognizes these symbols and executes the associated actions, which essentially are attribute evaluation rules written in C. Its predecessor [`lex`](http://dinosaur.compilertools.net/lex/index.html) ([pdf](http://poincare.matf.bg.ac.rs/~nemanja_micovic/materijali/ppj/2017.2018/05/lex2.pdf)) originated at Bell Labs in 1975. [Scanner generators](https://en.wikipedia.org/wiki/Comparison_of_parser_generators#Regular_languages) exist for numerous programming languages.\n",
    "\n",
    "The input to flex (and lex) is a file of the form:\n",
    "\n",
    "    definitions\n",
    "    %%\n",
    "    rules\n",
    "    %%\n",
    "    user code\n",
    "    \n",
    "A rule is of the form\n",
    "\n",
    "    r\t\t{action}\n",
    "\n",
    "where `r` is a regular expression and `action` is a C statement. A definition\n",
    "\n",
    "    ident    r\n",
    "\n",
    "gives a name to a regular expression. The regular expressions are similar to those of `grep`. The generated scanner matches characters from standard input with the regular expressions of the rules following the principle of the _longest match_, e.g. `.+` will match the whole input and not just the next character. If there is no match, the next character is copied to standard output. Upon a match, the matched prefix of the input is assigned to the C variable `yytext` and its length to `yyleng`.\n",
    "\n",
    "For example, the _ROT13 cipher_ encrypts a text by replacing each lowercase and uppercase character with the one that come 13 positions later in the alphabet, in a cyclical fashion. Other characters like digits are unchanged:"
   ]
  },
  {
   "cell_type": "code",
   "execution_count": null,
   "metadata": {},
   "outputs": [],
   "source": [
    "%%writefile rot13.l\n",
    "%option noyywrap\n",
    "%%\n",
    "[a-z]   { char ch = yytext[0];\n",
    "          ch = (ch - 'a' + 13) % 26 + 'a';\n",
    "          printf(\"%c\", ch);\n",
    "        }\n",
    "[A-Z]   { char ch = yytext[0];\n",
    "          ch = (ch - 'A' + 13) % 26 + 'A';\n",
    "          printf(\"%c\", ch);\n",
    "        }\n",
    "%%\n",
    "void main(void){\n",
    "    yylex();\n",
    "}"
   ]
  },
  {
   "cell_type": "markdown",
   "metadata": {
    "tags": []
   },
   "source": [
    "Compiling above with `flex` results in `lex.yy.c`, in which C function `yylex()` implements the rules and which literally includes the user functions. The main function calls `yylex()`, so no user code is needed here. The file `lex.yy.c` is compilded with `cc` to an executable file, here called `rot13`:"
   ]
  },
  {
   "cell_type": "code",
   "execution_count": null,
   "metadata": {},
   "outputs": [],
   "source": [
    "!flex rot13.l"
   ]
  },
  {
   "cell_type": "code",
   "execution_count": null,
   "metadata": {},
   "outputs": [],
   "source": [
    "!cc -o rot13 lex.yy.c"
   ]
  },
  {
   "cell_type": "markdown",
   "metadata": {
    "tags": []
   },
   "source": [
    "As `rot13` reads from standard input, the Unix pipe (`|`) can be used to provide input:"
   ]
  },
  {
   "cell_type": "code",
   "execution_count": null,
   "metadata": {},
   "outputs": [],
   "source": [
    "!echo 1280 Main Street West | ./rot13"
   ]
  },
  {
   "cell_type": "markdown",
   "metadata": {
    "tags": []
   },
   "source": [
    "The ROT13 cipyher is an _involution_, meaning that applying it twice results in the original text:"
   ]
  },
  {
   "cell_type": "code",
   "execution_count": null,
   "metadata": {},
   "outputs": [],
   "source": [
    "!echo 1280 Main Street West | ./rot13 | ./rot13"
   ]
  },
  {
   "cell_type": "markdown",
   "metadata": {
    "tags": []
   },
   "source": [
    "More than one rule can match. In that case, `flex` resolves the ambiguity as follows:\n",
    "- The rule with the longest match is preferred.\n",
    "- Among the rules with the same number of characters matching, the first is preferred.\n",
    "\n",
    "As an example, consider converting roman numerals: `I` is `1`, `V` is `5`, so `II` is 2 and `VI` is `6` but `IV` is `4`, not `I` followed by `V`. Following program takes two roman numerals and prints their sum. It also illustrates the use of a definition: `WS` (white space) is defined as `[ \\t]+`. In the rules `WS` is enclosed in braces to indicate that this refers to the definition,  not the characters `WS`. The `|` after `{WS}` means that it shares the action of the next rule. The declaration of variable `total` is on a line that starts with space; any such line is copied literally to the generated C code. Note how in this example tabs are used in the definitions and rules."
   ]
  },
  {
   "cell_type": "code",
   "execution_count": null,
   "metadata": {},
   "outputs": [],
   "source": [
    "%%writefile roman.l\n",
    "%option noyywrap\n",
    "WS  [ \\t]+\n",
    "%%\n",
    "    int total = 0;\n",
    "I   total += 1;\n",
    "IV  total += 4;\n",
    "V   total += 5;\n",
    "IX  total += 9;\n",
    "X   total += 10;\n",
    "XL  total += 40;\n",
    "L   total += 50;\n",
    "XC  total += 90;\n",
    "C   total += 100;\n",
    "CD  total += 400;\n",
    "D   total += 500;\n",
    "CM  total += 900;\n",
    "M   total += 1000;\n",
    "{WS}   |\n",
    "\\n  return total;\n",
    "%%\n",
    "int main(void) {\n",
    "    int first = yylex();\n",
    "    int second = yylex();\n",
    "    printf(\"%d + %d = %d\\n\", first, second, first + second);\n",
    "}"
   ]
  },
  {
   "cell_type": "code",
   "execution_count": null,
   "metadata": {},
   "outputs": [],
   "source": [
    "!flex roman.l"
   ]
  },
  {
   "cell_type": "code",
   "execution_count": null,
   "metadata": {},
   "outputs": [],
   "source": [
    "!cc -o roman lex.yy.c"
   ]
  },
  {
   "cell_type": "code",
   "execution_count": null,
   "metadata": {},
   "outputs": [],
   "source": [
    "!echo IV VI | ./roman"
   ]
  },
  {
   "cell_type": "markdown",
   "metadata": {
    "tags": []
   },
   "source": [
    "Anything between `%{` and `%}` in the definitions sections as well as everthing after the second `%%` is also copied literally to the generated C code."
   ]
  },
  {
   "cell_type": "markdown",
   "metadata": {
    "tags": []
   },
   "source": [
    "Running `man flex` from the terminal produces the man page and `info flex` produces the manual. The manual is also available [online](https://manpages.ubuntu.com/manpages/bionic/man1/lex.1.html)."
   ]
  }
 ],
 "metadata": {
  "kernelspec": {
   "display_name": "Python 3 (ipykernel)",
   "language": "python",
   "name": "python3"
  },
  "language_info": {
   "codemirror_mode": {
    "name": "ipython",
    "version": 3
   },
   "file_extension": ".py",
   "mimetype": "text/x-python",
   "name": "python",
   "nbconvert_exporter": "python",
   "pygments_lexer": "ipython3",
   "version": "3.11.1"
  }
 },
 "nbformat": 4,
 "nbformat_minor": 4
}
