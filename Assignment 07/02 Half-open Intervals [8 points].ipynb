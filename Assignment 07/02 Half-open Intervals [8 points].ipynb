{
 "cells": [
  {
   "cell_type": "markdown",
   "metadata": {
    "tags": []
   },
   "source": [
    "#### Half-open Intervals"
   ]
  },
  {
   "cell_type": "markdown",
   "metadata": {
    "tags": []
   },
   "source": [
    "Following Python functions are from the course notes:"
   ]
  },
  {
   "cell_type": "code",
   "execution_count": 1,
   "metadata": {},
   "outputs": [],
   "source": [
    "def runwasm(wasmfile):\n",
    "    from IPython.display import display, Javascript\n",
    "    display(Javascript(\"\"\"\n",
    "    const params = {\n",
    "        P0lib: {\n",
    "            write: i => element.append(i + ' '),\n",
    "            writeln: () => element.append(document.createElement('br')),\n",
    "            read: () => window.prompt()\n",
    "        }\n",
    "    }\n",
    "    \n",
    "    var wasmByteString = \\\"\"\"\" + str(open(wasmfile, \"rb\").read()) + \"\"\"\\\"; // pass the wasm file to Js by byte string\n",
    "    wasmByteString = wasmByteString.substring(2, wasmByteString.length - 1); // Remove the byte literals b'...'\n",
    "    const wasmArrayBuffer = new Uint8Array(wasmByteString.length); // convert the binery string to ArrayBuffer\n",
    "    for (let i = 0; i < wasmByteString.length; i++)\n",
    "      wasmArrayBuffer[i] = wasmByteString.charCodeAt(i);\n",
    "    \n",
    "    WebAssembly.compile(wasmArrayBuffer.buffer) // compile (sharable) code.wasm\n",
    "        .then(module => WebAssembly.instantiate(module, params)) // create an instance with memory\n",
    "        // .then(instance => instance.exports.program()); // run the main program; not needed if start function specified\n",
    "     \"\"\"))"
   ]
  },
  {
   "cell_type": "code",
   "execution_count": 2,
   "metadata": {},
   "outputs": [],
   "source": [
    "def runpywasm(wasmfile):\n",
    "    import pywasm\n",
    "    def write(s, i): print(i, end=' ')\n",
    "    def writeln(s): print()\n",
    "    def read(s): return int(input())\n",
    "    vm = pywasm.load(wasmfile, {'P0lib': {'write': write, 'writeln': writeln, 'read': read}})"
   ]
  },
  {
   "cell_type": "code",
   "execution_count": 3,
   "metadata": {},
   "outputs": [],
   "source": [
    "from wasmer import engine, Store, Module, Instance, ImportObject, Function\n",
    "from wasmer_compiler_cranelift import Compiler\n",
    "\n",
    "def runwasmer(wasmfile):\n",
    "    def write(i: int): print(i, end=' ')\n",
    "    def writeln(): print()\n",
    "    def read() -> int: return int(input()) \n",
    "    store = Store(engine.JIT(Compiler))\n",
    "    module = Module(store, open(wasmfile, 'rb').read())\n",
    "    import_object = ImportObject()\n",
    "    import_object.register(\"P0lib\", {\"write\": Function(store, write),\n",
    "                                     \"writeln\": Function(store, writeln),\"read\": Function(store, read)})\n",
    "    instance = Instance(module, import_object)"
   ]
  },
  {
   "cell_type": "code",
   "execution_count": 4,
   "metadata": {},
   "outputs": [],
   "source": [
    "import nbimporter; nbimporter.options[\"only_defs\"] = False\n",
    "from P0 import compileString"
   ]
  },
  {
   "cell_type": "markdown",
   "metadata": {
    "tags": []
   },
   "source": [
    "Arrays in P0 are declared using an interval-like notation for the domain. Array declarations are often of the form that the upper bound has `- 1`, as in:"
   ]
  },
  {
   "cell_type": "code",
   "execution_count": 5,
   "metadata": {},
   "outputs": [],
   "source": [
    "import nbimporter; nbimporter.options[\"only_defs\"] = False\n",
    "from P0 import compileString"
   ]
  },
  {
   "cell_type": "code",
   "execution_count": 6,
   "metadata": {},
   "outputs": [],
   "source": [
    "compileString(\"\"\"\n",
    "const N = 4\n",
    "var a: [0 .. N - 1] → integer\n",
    "\n",
    "procedure index(x: integer) → (i: integer)\n",
    "    i := 0\n",
    "    while (i < N) and (a[i] ≠ x) do i := i + 1\n",
    "\n",
    "program arithmetic\n",
    "    var x: integer\n",
    "      a[0] := 3; a[1] := 5; a[2] := 7; a[3] := 9\n",
    "      x ← read(); x ← index(x); write(x)\n",
    "\"\"\", \"search.wat\")"
   ]
  },
  {
   "cell_type": "markdown",
   "metadata": {
    "tags": []
   },
   "source": [
    "Modify the P0 compiler that comes with this lab to also allow intervals of the form `[a .. b)`, with the meaning `[a .. b - 1]`. State which parts of the compiler need to be modified. Give the modifications to the grammar in the next cell. A test case is below."
   ]
  },
  {
   "cell_type": "markdown",
   "metadata": {
    "deletable": false,
    "nbgrader": {
     "cell_type": "markdown",
     "checksum": "0af8c1300a3a6452f76d77b0c000c1fb",
     "grade": true,
     "grade_id": "cell-715e7f003a3daf7d",
     "locked": false,
     "points": 8,
     "schema_version": 3,
     "solution": true,
     "task": false
    }
   },
   "source": [
    "### Part(s) of the P0 compiler that are modified:\n",
    "- In the `typ()` function of P0.ipynb, when encountering a type definition starting with `[`, a boolean variable `inclusive` is added to determine if the upper bound of a type definition is inclusive. When the interval ends with `)`, inclusive is set to `False`. In such cases, the interval spans from the lower bound to one less than the upper bound.\n",
    "```python\n",
    "elif SC.sym == LBRAK:\n",
    "    getSym(); x = expression()\n",
    "    if SC.sym == DOTDOT: getSym()\n",
    "    else: mark(\"'..' expected\")\n",
    "    y = expression()\n",
    "    inclusive = True\n",
    "    if SC.sym == RBRAK: getSym()\n",
    "    elif SC.sym == RPAREN: inclusive = False; getSym()\n",
    "    else: mark(\"']' or ')' expected\")\n",
    "    if SC.sym == RARROW: getSym()\n",
    "    else: mark(\"'→' expected\")\n",
    "    z = typ().val;\n",
    "    if type(x) != Const or x.val < 0: mark('bad lower bound')\n",
    "    elif type(y) != Const or (inclusive and y.val < x.val): mark('bad upper bound')\n",
    "    elif not inclusive and y.val - 1 < x.val: mark('bad upper bound')\n",
    "    elif inclusive: x = Type(CG.genArray(Array(z, x.val, y.val - x.val + 1)))\n",
    "    else: x = Type(CG.genArray(Array(z, x.val, y.val - 1 - x.val + 1)))\n",
    "```\n",
    "\n",
    "### Modified P0 Grammar\n",
    "\n",
    "    selector ::= { \"[\" expression \"]\" | \".\" ident}\n",
    "    factor ::= ident selector | integer | \"(\" expression \")\" | \"{\" [expression {\",\" expression}] \"}\" | (\"not\" | \"¬\" | \"#\" | \"∁\") factor\n",
    "    term ::= factor {(\"×\" | \"div\" | \"mod\" | \"∩\" | \"and\") factor}\n",
    "    simpleExpression ::= [\"+\" | \"-\"] term {(\"+\" | \"-\" | \"∪\" | \"or\") term}\n",
    "    expression ::= simpleExpression\n",
    "        {(\"=\" | \"≠\" | \"<\" | \"≤\" | \">\" | \"≥\" | \"∈\" | \"⊆\" | \"⊇\") simpleExpression}\n",
    "    statementList ::= statement {\";\" statement}\n",
    "    statementBlock ::= statementList {statementList}\n",
    "    statementSuite ::= statementList | INDENT statementBlock DEDENT\n",
    "    statement ::=\n",
    "        ident selector \":=\" expression |\n",
    "        ident {\",\" ident} (\":=\" expression {\",\" expression} | (\"←\" | \"<-\") ident \"(\" [expression {\",\" expression}] \")\") |\n",
    "        \"if\" expression \"then\" statementSuite [\"else\" statementSuite] |\n",
    "        \"while\" expression \"do\" statementSuite\n",
    "    type ::=\n",
    "        ident |\n",
    "        \"[\" expression \"..\" expression (\"]\" | \")\") (\"→\" | \"->\") type |\n",
    "        \"(\" typedIds \")\" |\n",
    "        \"set\" \"[\" expression \"..\" expression \"]\"\n",
    "    typedIds ::= ident {\",\" ident} \":\" type {\",\" ident {\",\" ident} \":\" type}.\n",
    "    declarations ::= \n",
    "        {\"const\" ident \"=\" expression}\n",
    "        {\"type\" ident \"=\" type}\n",
    "        {\"var\" typedIds}\n",
    "        {\"procedure\" ident \"(\" [typedIds] \")\" [ (\"→\" | \"->\") \"(\" typedIds \")\" ] body}\n",
    "    body ::= INDENT declarations (statementBlock | INDENT statementBlock DEDENT) DEDENT\n",
    "    program ::= declarations \"program\" ident body"
   ]
  },
  {
   "cell_type": "code",
   "execution_count": 18,
   "metadata": {},
   "outputs": [],
   "source": [
    "compileString(\"\"\"\n",
    "const N = 4\n",
    "var a: [0 .. N) → integer\n",
    "\n",
    "procedure index(x: integer) → (i: integer)\n",
    "    i := 0\n",
    "    while (i < N) and (a[i] ≠ x) do i := i + 1\n",
    "\n",
    "program arithmetic\n",
    "    var x: integer\n",
    "      a[0] := 3; a[1] := 5; a[2] := 7; a[3] := 9\n",
    "      x ← read(); x ← index(x); write(x)\n",
    "\"\"\", \"search.wat\")"
   ]
  },
  {
   "cell_type": "code",
   "execution_count": 19,
   "metadata": {},
   "outputs": [],
   "source": [
    "!wat2wasm search.wat"
   ]
  },
  {
   "cell_type": "code",
   "execution_count": 20,
   "metadata": {},
   "outputs": [
    {
     "data": {
      "application/javascript": [
       "\n",
       "    const params = {\n",
       "        P0lib: {\n",
       "            write: i => element.append(i + ' '),\n",
       "            writeln: () => element.append(document.createElement('br')),\n",
       "            read: () => window.prompt()\n",
       "        }\n",
       "    }\n",
       "    \n",
       "    var wasmByteString = \"b'\\x00asm\\x01\\x00\\x00\\x00\\x01\\x11\\x04`\\x01\\x7f\\x00`\\x00\\x00`\\x00\\x01\\x7f`\\x01\\x7f\\x01\\x7f\\x02,\\x03\\x05P0lib\\x05write\\x00\\x00\\x05P0lib\\x07writeln\\x00\\x01\\x05P0lib\\x04read\\x00\\x02\\x03\\x03\\x02\\x03\\x01\\x05\\x03\\x01\\x00\\x01\\x06\\x06\\x01\\x7f\\x01A\\x10\\x0b\\x08\\x01\\x04\\nc\\x022\\x01\\x02\\x7fA\\x00!\\x01\\x03@ \\x01A\\x04H\\x04\\x7f \\x01A\\x04lA\\x00j(\\x02\\x00 \\x00G\\x05A\\x00\\x0b\\x04@ \\x01A\\x01j!\\x01\\x0c\\x01\\x0b\\x0b \\x01\\x0b.\\x01\\x02\\x7fA\\x00A\\x036\\x02\\x00A\\x04A\\x056\\x02\\x00A\\x08A\\x076\\x02\\x00A\\x0cA\\t6\\x02\\x00\\x10\\x02!\\x00 \\x00\\x10\\x03!\\x00 \\x00\\x10\\x00\\x0b'\"; // pass the wasm file to Js by byte string\n",
       "    wasmByteString = wasmByteString.substring(2, wasmByteString.length - 1); // Remove the byte literals b'...'\n",
       "    const wasmArrayBuffer = new Uint8Array(wasmByteString.length); // convert the binery string to ArrayBuffer\n",
       "    for (let i = 0; i < wasmByteString.length; i++)\n",
       "      wasmArrayBuffer[i] = wasmByteString.charCodeAt(i);\n",
       "    \n",
       "    WebAssembly.compile(wasmArrayBuffer.buffer) // compile (sharable) code.wasm\n",
       "        .then(module => WebAssembly.instantiate(module, params)) // create an instance with memory\n",
       "        // .then(instance => instance.exports.program()); // run the main program; not needed if start function specified\n",
       "     "
      ],
      "text/plain": [
       "<IPython.core.display.Javascript object>"
      ]
     },
     "metadata": {},
     "output_type": "display_data"
    }
   ],
   "source": [
    "runwasm(\"search.wasm\")"
   ]
  },
  {
   "cell_type": "code",
   "execution_count": 11,
   "metadata": {},
   "outputs": [
    {
     "name": "stdin",
     "output_type": "stream",
     "text": [
      " 5\n"
     ]
    },
    {
     "name": "stdout",
     "output_type": "stream",
     "text": [
      "1 "
     ]
    }
   ],
   "source": [
    "runpywasm(\"search.wasm\")"
   ]
  },
  {
   "cell_type": "code",
   "execution_count": 12,
   "metadata": {},
   "outputs": [
    {
     "name": "stdin",
     "output_type": "stream",
     "text": [
      " 7\n"
     ]
    },
    {
     "name": "stdout",
     "output_type": "stream",
     "text": [
      "2 "
     ]
    }
   ],
   "source": [
    "runwasmer(\"search.wasm\")"
   ]
  }
 ],
 "metadata": {
  "kernelspec": {
   "display_name": "Python 3 (ipykernel)",
   "language": "python",
   "name": "python3"
  },
  "language_info": {
   "codemirror_mode": {
    "name": "ipython",
    "version": 3
   },
   "file_extension": ".py",
   "mimetype": "text/x-python",
   "name": "python",
   "nbconvert_exporter": "python",
   "pygments_lexer": "ipython3",
   "version": "3.11.1"
  }
 },
 "nbformat": 4,
 "nbformat_minor": 4
}
