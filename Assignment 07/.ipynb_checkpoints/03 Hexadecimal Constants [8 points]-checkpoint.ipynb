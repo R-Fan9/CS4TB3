{
 "cells": [
  {
   "cell_type": "markdown",
   "metadata": {
    "tags": []
   },
   "source": [
    "#### Hexadecimal Constants"
   ]
  },
  {
   "cell_type": "markdown",
   "metadata": {
    "tags": []
   },
   "source": [
    "Following Python function is from the course notes:"
   ]
  },
  {
   "cell_type": "code",
   "execution_count": 1,
   "metadata": {},
   "outputs": [],
   "source": [
    "def runwasm(wasmfile):\n",
    "    from IPython.display import display, Javascript\n",
    "    display(Javascript(\"\"\"\n",
    "    const params = {\n",
    "        P0lib: {\n",
    "            write: i => element.append(i + ' '),\n",
    "            writeln: () => element.append(document.createElement('br')),\n",
    "            read: () => window.prompt()\n",
    "        }\n",
    "    }\n",
    "    \n",
    "    var wasmByteString = \\\"\"\"\" + str(open(wasmfile, \"rb\").read()) + \"\"\"\\\"; // pass the wasm file to Js by byte string\n",
    "    wasmByteString = wasmByteString.substring(2, wasmByteString.length - 1); // Remove the byte literals b'...'\n",
    "    const wasmArrayBuffer = new Uint8Array(wasmByteString.length); // convert the binery string to ArrayBuffer\n",
    "    for (let i = 0; i < wasmByteString.length; i++)\n",
    "      wasmArrayBuffer[i] = wasmByteString.charCodeAt(i);\n",
    "    \n",
    "    WebAssembly.compile(wasmArrayBuffer.buffer) // compile (sharable) code.wasm\n",
    "        .then(module => WebAssembly.instantiate(module, params)) // create an instance with memory\n",
    "        // .then(instance => instance.exports.program()); // run the main program; not needed if start function specified\n",
    "     \"\"\"))"
   ]
  },
  {
   "cell_type": "code",
   "execution_count": 2,
   "metadata": {},
   "outputs": [],
   "source": [
    "def runpywasm(wasmfile):\n",
    "    import pywasm\n",
    "    def write(s, i): print(i, end=' ')\n",
    "    def writeln(s): print()\n",
    "    def read(s): return int(input())\n",
    "    vm = pywasm.load(wasmfile, {'P0lib': {'write': write, 'writeln': writeln, 'read': read}})"
   ]
  },
  {
   "cell_type": "code",
   "execution_count": 3,
   "metadata": {},
   "outputs": [],
   "source": [
    "from wasmer import engine, Store, Module, Instance, ImportObject, Function\n",
    "from wasmer_compiler_cranelift import Compiler\n",
    "\n",
    "def runwasmer(wasmfile):\n",
    "    def write(i: int): print(i, end=' ')\n",
    "    def writeln(): print()\n",
    "    def read() -> int: return int(input()) \n",
    "    store = Store(engine.JIT(Compiler))\n",
    "    module = Module(store, open(wasmfile, 'rb').read())\n",
    "    import_object = ImportObject()\n",
    "    import_object.register(\"P0lib\", {\"write\": Function(store, write),\n",
    "                                     \"writeln\": Function(store, writeln),\"read\": Function(store, read)})\n",
    "    instance = Instance(module, import_object)"
   ]
  },
  {
   "cell_type": "code",
   "execution_count": 4,
   "metadata": {},
   "outputs": [],
   "source": [
    "import nbimporter; nbimporter.options[\"only_defs\"] = False\n",
    "from P0 import compileString"
   ]
  },
  {
   "cell_type": "markdown",
   "metadata": {
    "tags": []
   },
   "source": [
    "Modify the P0 compiler that comes with this assignment to allow for [hexadecimal constants](https://go.googlesource.com/proposal/+/master/design/19308-number-literals.md). For this, the grammar of `number` should be:\n",
    "\n",
    "    number ::= digit {digit} | '0' 'x' hexdigit {hexdigit}\n",
    "    digit ::= '0' | ... | '9'\n",
    "    hexdigit ::= digit | 'A' | ... | 'F'\n",
    "\n",
    "State which parts of the compiler need to be modified. A test case is below."
   ]
  },
  {
   "cell_type": "markdown",
   "metadata": {
    "deletable": false,
    "nbgrader": {
     "cell_type": "markdown",
     "checksum": "091d980b8f63a6e269c19ac1574ce5d6",
     "grade": true,
     "grade_id": "cell-f7d2db10fbf96130",
     "locked": false,
     "points": 8,
     "schema_version": 3,
     "solution": true,
     "task": false
    }
   },
   "source": [
    "### Part(s) of the P0 compiler that are modified:\n",
    "- In the `number()` function of SC.ipynb, hexadecimal character is being converted to integer value for any string that starts with `0x`\n",
    "```python\n",
    "def number():\n",
    "    global sym, val\n",
    "    sym, val = NUMBER, 0\n",
    "    if ch == '0':\n",
    "        getChar()\n",
    "        if ch == 'x':\n",
    "            getChar()\n",
    "            while ('0' <= ch <= '9') or ('A' <= ch <= 'F'):\n",
    "                val = 16 * val + int(ch, 16)\n",
    "                getChar()\n",
    "    while '0' <= ch <= '9':\n",
    "        val = 10 * val + int(ch)\n",
    "        getChar()\n",
    "    if val >= 2**31: mark('number too large')\n",
    "``` "
   ]
  },
  {
   "cell_type": "code",
   "execution_count": 5,
   "metadata": {},
   "outputs": [],
   "source": [
    "compileString(\"\"\"\n",
    "program hex\n",
    "    const food = 0xF00D\n",
    "    if 0xC0FFEE = food then write(0xC0FFEE) else write(food)\n",
    "\"\"\", \"hex.wat\")"
   ]
  },
  {
   "cell_type": "code",
   "execution_count": 6,
   "metadata": {},
   "outputs": [],
   "source": [
    "!wat2wasm hex.wat"
   ]
  },
  {
   "cell_type": "code",
   "execution_count": 7,
   "metadata": {},
   "outputs": [
    {
     "data": {
      "application/javascript": [
       "\n",
       "    const params = {\n",
       "        P0lib: {\n",
       "            write: i => element.append(i + ' '),\n",
       "            writeln: () => element.append(document.createElement('br')),\n",
       "            read: () => window.prompt()\n",
       "        }\n",
       "    }\n",
       "    \n",
       "    var wasmByteString = \"b'\\x00asm\\x01\\x00\\x00\\x00\\x01\\x0c\\x03`\\x01\\x7f\\x00`\\x00\\x00`\\x00\\x01\\x7f\\x02,\\x03\\x05P0lib\\x05write\\x00\\x00\\x05P0lib\\x07writeln\\x00\\x01\\x05P0lib\\x04read\\x00\\x02\\x03\\x02\\x01\\x01\\x05\\x03\\x01\\x00\\x01\\x06\\x06\\x01\\x7f\\x01A\\x00\\x0b\\x08\\x01\\x03\\n\\x19\\x01\\x17\\x01\\x01\\x7fA\\x00\\x04@A\\xee\\xff\\x83\\x06\\x10\\x00\\x05A\\x8d\\xe0\\x03\\x10\\x00\\x0b\\x0b'\"; // pass the wasm file to Js by byte string\n",
       "    wasmByteString = wasmByteString.substring(2, wasmByteString.length - 1); // Remove the byte literals b'...'\n",
       "    const wasmArrayBuffer = new Uint8Array(wasmByteString.length); // convert the binery string to ArrayBuffer\n",
       "    for (let i = 0; i < wasmByteString.length; i++)\n",
       "      wasmArrayBuffer[i] = wasmByteString.charCodeAt(i);\n",
       "    \n",
       "    WebAssembly.compile(wasmArrayBuffer.buffer) // compile (sharable) code.wasm\n",
       "        .then(module => WebAssembly.instantiate(module, params)) // create an instance with memory\n",
       "        // .then(instance => instance.exports.program()); // run the main program; not needed if start function specified\n",
       "     "
      ],
      "text/plain": [
       "<IPython.core.display.Javascript object>"
      ]
     },
     "metadata": {},
     "output_type": "display_data"
    }
   ],
   "source": [
    "runwasm(\"hex.wasm\")"
   ]
  },
  {
   "cell_type": "code",
   "execution_count": 8,
   "metadata": {},
   "outputs": [
    {
     "name": "stdout",
     "output_type": "stream",
     "text": [
      "61453 "
     ]
    }
   ],
   "source": [
    "runpywasm(\"hex.wasm\")"
   ]
  },
  {
   "cell_type": "code",
   "execution_count": 9,
   "metadata": {},
   "outputs": [
    {
     "name": "stdout",
     "output_type": "stream",
     "text": [
      "61453 "
     ]
    }
   ],
   "source": [
    "runwasmer(\"hex.wasm\")"
   ]
  }
 ],
 "metadata": {
  "kernelspec": {
   "display_name": "Python 3 (ipykernel)",
   "language": "python",
   "name": "python3"
  },
  "language_info": {
   "codemirror_mode": {
    "name": "ipython",
    "version": 3
   },
   "file_extension": ".py",
   "mimetype": "text/x-python",
   "name": "python",
   "nbconvert_exporter": "python",
   "pygments_lexer": "ipython3",
   "version": "3.11.1"
  }
 },
 "nbformat": 4,
 "nbformat_minor": 4
}
