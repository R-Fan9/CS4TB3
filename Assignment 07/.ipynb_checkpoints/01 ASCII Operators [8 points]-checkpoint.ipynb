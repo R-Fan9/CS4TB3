{
 "cells": [
  {
   "cell_type": "markdown",
   "metadata": {
    "tags": []
   },
   "source": [
    "#### ASCII Operators"
   ]
  },
  {
   "cell_type": "markdown",
   "metadata": {},
   "source": [
    "Following Python functions are from the course notes:"
   ]
  },
  {
   "cell_type": "code",
   "execution_count": 39,
   "metadata": {},
   "outputs": [],
   "source": [
    "def runwasm(wasmfile):\n",
    "    from IPython.display import display, Javascript\n",
    "    display(Javascript(\"\"\"\n",
    "    const params = {\n",
    "        P0lib: {\n",
    "            write: i => element.append(i + ' '),\n",
    "            writeln: () => element.append(document.createElement('br')),\n",
    "            read: () => window.prompt()\n",
    "        }\n",
    "    }\n",
    "    \n",
    "    var wasmByteString = \\\"\"\"\" + str(open(wasmfile, \"rb\").read()) + \"\"\"\\\"; // pass the wasm file to Js by byte string\n",
    "    wasmByteString = wasmByteString.substring(2, wasmByteString.length - 1); // Remove the byte literals b'...'\n",
    "    const wasmArrayBuffer = new Uint8Array(wasmByteString.length); // convert the binery string to ArrayBuffer\n",
    "    for (let i = 0; i < wasmByteString.length; i++)\n",
    "      wasmArrayBuffer[i] = wasmByteString.charCodeAt(i);\n",
    "    \n",
    "    WebAssembly.compile(wasmArrayBuffer.buffer) // compile (sharable) code.wasm\n",
    "        .then(module => WebAssembly.instantiate(module, params)) // create an instance with memory\n",
    "        // .then(instance => instance.exports.program()); // run the main program; not needed if start function specified\n",
    "     \"\"\"))"
   ]
  },
  {
   "cell_type": "code",
   "execution_count": 40,
   "metadata": {},
   "outputs": [],
   "source": [
    "def runpywasm(wasmfile):\n",
    "    import pywasm\n",
    "    def write(s, i): print(i, end=' ')\n",
    "    def writeln(s): print()\n",
    "    def read(s): return int(input())\n",
    "    vm = pywasm.load(wasmfile, {'P0lib': {'write': write, 'writeln': writeln, 'read': read}})"
   ]
  },
  {
   "cell_type": "code",
   "execution_count": 41,
   "metadata": {},
   "outputs": [],
   "source": [
    "from wasmer import engine, Store, Module, Instance, ImportObject, Function\n",
    "from wasmer_compiler_cranelift import Compiler\n",
    "\n",
    "def runwasmer(wasmfile):\n",
    "    def write(i: int): print(i, end=' ')\n",
    "    def writeln(): print()\n",
    "    def read() -> int: return int(input()) \n",
    "    store = Store(engine.JIT(Compiler))\n",
    "    module = Module(store, open(wasmfile, 'rb').read())\n",
    "    import_object = ImportObject()\n",
    "    import_object.register(\"P0lib\", {\"write\": Function(store, write),\n",
    "                                     \"writeln\": Function(store, writeln),\"read\": Function(store, read)})\n",
    "    instance = Instance(module, import_object)"
   ]
  },
  {
   "cell_type": "code",
   "execution_count": 42,
   "metadata": {},
   "outputs": [],
   "source": [
    "import nbimporter; nbimporter.options[\"only_defs\"] = False\n",
    "from P0 import compileString"
   ]
  },
  {
   "cell_type": "markdown",
   "metadata": {
    "tags": []
   },
   "source": [
    "Extend the P0 compiler with following ASCII alternatives to Unicode characters:\n",
    "\n",
    "- `not` for `¬`\n",
    "- `->`, `<-` for `←`, `→`\n",
    "\n",
    "Modify the P0 compiler that comes with this lab such that both Unicode characters and ASCII equivalents are allowed. Give the modifications to the grammar in the next cell. A test case is below:"
   ]
  },
  {
   "cell_type": "markdown",
   "metadata": {
    "deletable": false,
    "nbgrader": {
     "cell_type": "markdown",
     "checksum": "1ae9c967aeccffc288282a7b2715b493",
     "grade": true,
     "grade_id": "cell-088192d99d7d5ce0",
     "locked": false,
     "points": 8,
     "schema_version": 3,
     "solution": true,
     "task": false
    }
   },
   "source": [
    "### Parts of the P0 compiler that are modified:\n",
    "- In SC.ipynb, a new keyword 'not' mapping to value `NOT` is added the map of keywords\n",
    "```python\n",
    "KEYWORDS = \\\n",
    "{'div': DIV, 'mod': MOD, 'and': AND, 'or': OR, 'if': IF, 'then': THEN,\n",
    " 'else': ELSE, 'while': WHILE, 'do': DO, 'const': CONST, 'type': TYPE,\n",
    " 'var': VAR, 'set': SET, 'procedure': PROCEDURE, 'program': PROGRAM, 'not': NOT}\n",
    "```\n",
    "- In the `getSym()` function of SC.ipynb, an additional check for symbol `>` following the minus sign `-` is added to parse the right arrow `->`\n",
    "```python\n",
    "elif ch == '-': \n",
    "    getChar()\n",
    "    if ch == '>': getChar(); sym = RARROW\n",
    "    else: sym = MINUS\n",
    "```\n",
    "- In the `getSym()` function of SC.ipynb, an additional check for symbol `-` following the less than sign `<` is added to parse the left arrow `<-`\n",
    "```python\n",
    "elif ch == '<': \n",
    "    getChar()\n",
    "    if ch == '-': getChar(); sym = LARROW\n",
    "    else: sym = LT\n",
    "```\n",
    "\n",
    "### Modified P0 Grammar\n",
    "\n",
    "    selector ::= { \"[\" expression \"]\" | \".\" ident}\n",
    "    factor ::= ident selector | integer | \"(\" expression \")\" | \"{\" [expression {\",\" expression}] \"}\" | (\"not\" | \"¬\" | \"#\" | \"∁\") factor\n",
    "    term ::= factor {(\"×\" | \"div\" | \"mod\" | \"∩\" | \"and\") factor}\n",
    "    simpleExpression ::= [\"+\" | \"-\"] term {(\"+\" | \"-\" | \"∪\" | \"or\") term}\n",
    "    expression ::= simpleExpression\n",
    "        {(\"=\" | \"≠\" | \"<\" | \"≤\" | \">\" | \"≥\" | \"∈\" | \"⊆\" | \"⊇\") simpleExpression}\n",
    "    statementList ::= statement {\";\" statement}\n",
    "    statementBlock ::= statementList {statementList}\n",
    "    statementSuite ::= statementList | INDENT statementBlock DEDENT\n",
    "    statement ::=\n",
    "        ident selector \":=\" expression |\n",
    "        ident {\",\" ident} (\":=\" expression {\",\" expression} | (\"←\" | \"<-\") ident \"(\" [expression {\",\" expression}] \")\") |\n",
    "        \"if\" expression \"then\" statementSuite [\"else\" statementSuite] |\n",
    "        \"while\" expression \"do\" statementSuite\n",
    "    type ::=\n",
    "        ident |\n",
    "        \"[\" expression \"..\" expression \"]\" (\"→\" | \"->\") type |\n",
    "        \"(\" typedIds \")\" |\n",
    "        \"set\" \"[\" expression \"..\" expression \"]\"\n",
    "    typedIds ::= ident {\",\" ident} \":\" type {\",\" ident {\",\" ident} \":\" type}.\n",
    "    declarations ::= \n",
    "        {\"const\" ident \"=\" expression}\n",
    "        {\"type\" ident \"=\" type}\n",
    "        {\"var\" typedIds}\n",
    "        {\"procedure\" ident \"(\" [typedIds] \")\" [ (\"→\" | \"->\") \"(\" typedIds \")\" ] body}\n",
    "    body ::= INDENT declarations (statementBlock | INDENT statementBlock DEDENT) DEDENT\n",
    "    program ::= declarations \"program\" ident body"
   ]
  },
  {
   "cell_type": "code",
   "execution_count": 43,
   "metadata": {},
   "outputs": [],
   "source": [
    "compileString(\"\"\"\n",
    "procedure quotrem(x, y: integer) -> (q, r: integer)\n",
    "    q, r := 0, x\n",
    "    while r ≥ y do // q × y + r = x ∧ r ≥ y\n",
    "        r, q := r - y, q + 1\n",
    "\n",
    "program arithmetic\n",
    "    var x, y, q, r: integer\n",
    "      x <- read(); y <- read()\n",
    "      q, r <- quotrem(x, y)\n",
    "      if not(q = r) then write(q)\n",
    "\"\"\", \"ascii.wat\")"
   ]
  },
  {
   "cell_type": "code",
   "execution_count": 44,
   "metadata": {},
   "outputs": [],
   "source": [
    "!wat2wasm ascii.wat"
   ]
  },
  {
   "cell_type": "code",
   "execution_count": 48,
   "metadata": {},
   "outputs": [
    {
     "data": {
      "application/javascript": [
       "\n",
       "    const params = {\n",
       "        P0lib: {\n",
       "            write: i => element.append(i + ' '),\n",
       "            writeln: () => element.append(document.createElement('br')),\n",
       "            read: () => window.prompt()\n",
       "        }\n",
       "    }\n",
       "    \n",
       "    var wasmByteString = \"b'\\x00asm\\x01\\x00\\x00\\x00\\x01\\x13\\x04`\\x01\\x7f\\x00`\\x00\\x00`\\x00\\x01\\x7f`\\x02\\x7f\\x7f\\x02\\x7f\\x7f\\x02,\\x03\\x05P0lib\\x05write\\x00\\x00\\x05P0lib\\x07writeln\\x00\\x01\\x05P0lib\\x04read\\x00\\x02\\x03\\x03\\x02\\x03\\x01\\x05\\x03\\x01\\x00\\x01\\x06\\x06\\x01\\x7f\\x01A\\x00\\x0b\\x08\\x01\\x04\\nQ\\x02+\\x01\\x03\\x7fA\\x00 \\x00!\\x03!\\x02\\x03@ \\x03 \\x01N\\x04@ \\x03 \\x01k \\x02A\\x01j!\\x02!\\x03\\x0c\\x01\\x0b\\x0b \\x02 \\x03\\x0b#\\x01\\x05\\x7f\\x10\\x02!\\x00\\x10\\x02!\\x01 \\x00 \\x01\\x10\\x03!\\x03!\\x02 \\x02 \\x03FE\\x04@ \\x02\\x10\\x00\\x0b\\x0b'\"; // pass the wasm file to Js by byte string\n",
       "    wasmByteString = wasmByteString.substring(2, wasmByteString.length - 1); // Remove the byte literals b'...'\n",
       "    const wasmArrayBuffer = new Uint8Array(wasmByteString.length); // convert the binery string to ArrayBuffer\n",
       "    for (let i = 0; i < wasmByteString.length; i++)\n",
       "      wasmArrayBuffer[i] = wasmByteString.charCodeAt(i);\n",
       "    \n",
       "    WebAssembly.compile(wasmArrayBuffer.buffer) // compile (sharable) code.wasm\n",
       "        .then(module => WebAssembly.instantiate(module, params)) // create an instance with memory\n",
       "        // .then(instance => instance.exports.program()); // run the main program; not needed if start function specified\n",
       "     "
      ],
      "text/plain": [
       "<IPython.core.display.Javascript object>"
      ]
     },
     "metadata": {},
     "output_type": "display_data"
    }
   ],
   "source": [
    "runwasm(\"ascii.wasm\")"
   ]
  },
  {
   "cell_type": "code",
   "execution_count": 46,
   "metadata": {},
   "outputs": [
    {
     "name": "stdin",
     "output_type": "stream",
     "text": [
      " 6\n",
      " 3\n"
     ]
    },
    {
     "ename": "AssertionError",
     "evalue": "",
     "output_type": "error",
     "traceback": [
      "\u001b[0;31m---------------------------------------------------------------------------\u001b[0m",
      "\u001b[0;31mAssertionError\u001b[0m                            Traceback (most recent call last)",
      "Cell \u001b[0;32mIn[46], line 1\u001b[0m\n\u001b[0;32m----> 1\u001b[0m \u001b[43mrunpywasm\u001b[49m\u001b[43m(\u001b[49m\u001b[38;5;124;43m\"\u001b[39;49m\u001b[38;5;124;43mascii.wasm\u001b[39;49m\u001b[38;5;124;43m\"\u001b[39;49m\u001b[43m)\u001b[49m\n",
      "Cell \u001b[0;32mIn[40], line 6\u001b[0m, in \u001b[0;36mrunpywasm\u001b[0;34m(wasmfile)\u001b[0m\n\u001b[1;32m      4\u001b[0m \u001b[38;5;28;01mdef\u001b[39;00m \u001b[38;5;21mwriteln\u001b[39m(s): \u001b[38;5;28mprint\u001b[39m()\n\u001b[1;32m      5\u001b[0m \u001b[38;5;28;01mdef\u001b[39;00m \u001b[38;5;21mread\u001b[39m(s): \u001b[38;5;28;01mreturn\u001b[39;00m \u001b[38;5;28mint\u001b[39m(\u001b[38;5;28minput\u001b[39m())\n\u001b[0;32m----> 6\u001b[0m vm \u001b[38;5;241m=\u001b[39m \u001b[43mpywasm\u001b[49m\u001b[38;5;241;43m.\u001b[39;49m\u001b[43mload\u001b[49m\u001b[43m(\u001b[49m\u001b[43mwasmfile\u001b[49m\u001b[43m,\u001b[49m\u001b[43m \u001b[49m\u001b[43m{\u001b[49m\u001b[38;5;124;43m'\u001b[39;49m\u001b[38;5;124;43mP0lib\u001b[39;49m\u001b[38;5;124;43m'\u001b[39;49m\u001b[43m:\u001b[49m\u001b[43m \u001b[49m\u001b[43m{\u001b[49m\u001b[38;5;124;43m'\u001b[39;49m\u001b[38;5;124;43mwrite\u001b[39;49m\u001b[38;5;124;43m'\u001b[39;49m\u001b[43m:\u001b[49m\u001b[43m \u001b[49m\u001b[43mwrite\u001b[49m\u001b[43m,\u001b[49m\u001b[43m \u001b[49m\u001b[38;5;124;43m'\u001b[39;49m\u001b[38;5;124;43mwriteln\u001b[39;49m\u001b[38;5;124;43m'\u001b[39;49m\u001b[43m:\u001b[49m\u001b[43m \u001b[49m\u001b[43mwriteln\u001b[49m\u001b[43m,\u001b[49m\u001b[43m \u001b[49m\u001b[38;5;124;43m'\u001b[39;49m\u001b[38;5;124;43mread\u001b[39;49m\u001b[38;5;124;43m'\u001b[39;49m\u001b[43m:\u001b[49m\u001b[43m \u001b[49m\u001b[43mread\u001b[49m\u001b[43m}\u001b[49m\u001b[43m}\u001b[49m\u001b[43m)\u001b[49m\n",
      "File \u001b[0;32m/usr/local/lib/python3.11/site-packages/pywasm/__init__.py:99\u001b[0m, in \u001b[0;36mload\u001b[0;34m(name, imps, opts)\u001b[0m\n\u001b[1;32m     97\u001b[0m \u001b[38;5;28;01mwith\u001b[39;00m \u001b[38;5;28mopen\u001b[39m(name, \u001b[38;5;124m'\u001b[39m\u001b[38;5;124mrb\u001b[39m\u001b[38;5;124m'\u001b[39m) \u001b[38;5;28;01mas\u001b[39;00m f:\n\u001b[1;32m     98\u001b[0m     module \u001b[38;5;241m=\u001b[39m binary\u001b[38;5;241m.\u001b[39mModule\u001b[38;5;241m.\u001b[39mfrom_reader(f)\n\u001b[0;32m---> 99\u001b[0m     \u001b[38;5;28;01mreturn\u001b[39;00m \u001b[43mRuntime\u001b[49m\u001b[43m(\u001b[49m\u001b[43mmodule\u001b[49m\u001b[43m,\u001b[49m\u001b[43m \u001b[49m\u001b[43mimps\u001b[49m\u001b[43m,\u001b[49m\u001b[43m \u001b[49m\u001b[43mopts\u001b[49m\u001b[43m)\u001b[49m\n",
      "File \u001b[0;32m/usr/local/lib/python3.11/site-packages/pywasm/__init__.py:57\u001b[0m, in \u001b[0;36mRuntime.__init__\u001b[0;34m(self, module, imps, opts)\u001b[0m\n\u001b[1;32m     54\u001b[0m         extern_value_list\u001b[38;5;241m.\u001b[39mappend(addr)\n\u001b[1;32m     55\u001b[0m         \u001b[38;5;28;01mcontinue\u001b[39;00m\n\u001b[0;32m---> 57\u001b[0m \u001b[38;5;28;43mself\u001b[39;49m\u001b[38;5;241;43m.\u001b[39;49m\u001b[43mmachine\u001b[49m\u001b[38;5;241;43m.\u001b[39;49m\u001b[43minstantiate\u001b[49m\u001b[43m(\u001b[49m\u001b[43mmodule\u001b[49m\u001b[43m,\u001b[49m\u001b[43m \u001b[49m\u001b[43mextern_value_list\u001b[49m\u001b[43m)\u001b[49m\n",
      "File \u001b[0;32m/usr/local/lib/python3.11/site-packages/pywasm/execution.py:2053\u001b[0m, in \u001b[0;36mMachine.instantiate\u001b[0;34m(self, module, extern_value_list)\u001b[0m\n\u001b[1;32m   2051\u001b[0m \u001b[38;5;28;01mif\u001b[39;00m module\u001b[38;5;241m.\u001b[39mstart \u001b[38;5;129;01mis\u001b[39;00m \u001b[38;5;129;01mnot\u001b[39;00m \u001b[38;5;28;01mNone\u001b[39;00m:\n\u001b[1;32m   2052\u001b[0m     log\u001b[38;5;241m.\u001b[39mdebugln(\u001b[38;5;124mf\u001b[39m\u001b[38;5;124m'\u001b[39m\u001b[38;5;124mrunning start function \u001b[39m\u001b[38;5;132;01m{\u001b[39;00mmodule\u001b[38;5;241m.\u001b[39mstart\u001b[38;5;132;01m}\u001b[39;00m\u001b[38;5;124m'\u001b[39m)\n\u001b[0;32m-> 2053\u001b[0m     \u001b[38;5;28;43mself\u001b[39;49m\u001b[38;5;241;43m.\u001b[39;49m\u001b[43minvocate\u001b[49m\u001b[43m(\u001b[49m\u001b[38;5;28;43mself\u001b[39;49m\u001b[38;5;241;43m.\u001b[39;49m\u001b[43mmodule\u001b[49m\u001b[38;5;241;43m.\u001b[39;49m\u001b[43mfunction_addr_list\u001b[49m\u001b[43m[\u001b[49m\u001b[43mmodule\u001b[49m\u001b[38;5;241;43m.\u001b[39;49m\u001b[43mstart\u001b[49m\u001b[38;5;241;43m.\u001b[39;49m\u001b[43mfunction_idx\u001b[49m\u001b[43m]\u001b[49m\u001b[43m,\u001b[49m\u001b[43m \u001b[49m\u001b[43m[\u001b[49m\u001b[43m]\u001b[49m\u001b[43m)\u001b[49m\n",
      "File \u001b[0;32m/usr/local/lib/python3.11/site-packages/pywasm/execution.py:2111\u001b[0m, in \u001b[0;36mMachine.invocate\u001b[0;34m(self, function_addr, function_args)\u001b[0m\n\u001b[1;32m   2109\u001b[0m config \u001b[38;5;241m=\u001b[39m Configuration(\u001b[38;5;28mself\u001b[39m\u001b[38;5;241m.\u001b[39mstore)\n\u001b[1;32m   2110\u001b[0m config\u001b[38;5;241m.\u001b[39mopts \u001b[38;5;241m=\u001b[39m \u001b[38;5;28mself\u001b[39m\u001b[38;5;241m.\u001b[39mopts\n\u001b[0;32m-> 2111\u001b[0m \u001b[38;5;28;01mreturn\u001b[39;00m \u001b[43mconfig\u001b[49m\u001b[38;5;241;43m.\u001b[39;49m\u001b[43mcall\u001b[49m\u001b[43m(\u001b[49m\u001b[43mfunction_addr\u001b[49m\u001b[43m,\u001b[49m\u001b[43m \u001b[49m\u001b[43mfunction_args\u001b[49m\u001b[43m)\u001b[49m\n",
      "File \u001b[0;32m/usr/local/lib/python3.11/site-packages/pywasm/execution.py:478\u001b[0m, in \u001b[0;36mConfiguration.call\u001b[0;34m(self, function_addr, function_args)\u001b[0m\n\u001b[1;32m    471\u001b[0m     frame \u001b[38;5;241m=\u001b[39m Frame(\n\u001b[1;32m    472\u001b[0m         module\u001b[38;5;241m=\u001b[39mfunction\u001b[38;5;241m.\u001b[39mmodule,\n\u001b[1;32m    473\u001b[0m         local_list\u001b[38;5;241m=\u001b[39mfunction_args \u001b[38;5;241m+\u001b[39m local_list,\n\u001b[1;32m    474\u001b[0m         expr\u001b[38;5;241m=\u001b[39mfunction\u001b[38;5;241m.\u001b[39mcode\u001b[38;5;241m.\u001b[39mexpr,\n\u001b[1;32m    475\u001b[0m         arity\u001b[38;5;241m=\u001b[39m\u001b[38;5;28mlen\u001b[39m(function\u001b[38;5;241m.\u001b[39mtype\u001b[38;5;241m.\u001b[39mrets\u001b[38;5;241m.\u001b[39mdata),\n\u001b[1;32m    476\u001b[0m     )\n\u001b[1;32m    477\u001b[0m     \u001b[38;5;28mself\u001b[39m\u001b[38;5;241m.\u001b[39mset_frame(frame)\n\u001b[0;32m--> 478\u001b[0m     \u001b[38;5;28;01mreturn\u001b[39;00m \u001b[38;5;28;43mself\u001b[39;49m\u001b[38;5;241;43m.\u001b[39;49m\u001b[43mexec\u001b[49m\u001b[43m(\u001b[49m\u001b[43m)\u001b[49m\n\u001b[1;32m    479\u001b[0m \u001b[38;5;28;01mif\u001b[39;00m \u001b[38;5;28misinstance\u001b[39m(function, HostFunc):\n\u001b[1;32m    480\u001b[0m     r \u001b[38;5;241m=\u001b[39m function\u001b[38;5;241m.\u001b[39mhostcode(\u001b[38;5;28mself\u001b[39m\u001b[38;5;241m.\u001b[39mstore, \u001b[38;5;241m*\u001b[39m[e\u001b[38;5;241m.\u001b[39mval() \u001b[38;5;28;01mfor\u001b[39;00m e \u001b[38;5;129;01min\u001b[39;00m function_args])\n",
      "File \u001b[0;32m/usr/local/lib/python3.11/site-packages/pywasm/execution.py:499\u001b[0m, in \u001b[0;36mConfiguration.exec\u001b[0;34m(self)\u001b[0m\n\u001b[1;32m    497\u001b[0m             \u001b[38;5;28;01mraise\u001b[39;00m \u001b[38;5;167;01mException\u001b[39;00m(\u001b[38;5;124mf\u001b[39m\u001b[38;5;124m'\u001b[39m\u001b[38;5;124mpywasm: out of cycles\u001b[39m\u001b[38;5;124m'\u001b[39m)\n\u001b[1;32m    498\u001b[0m         \u001b[38;5;28mself\u001b[39m\u001b[38;5;241m.\u001b[39mopts\u001b[38;5;241m.\u001b[39mcycle \u001b[38;5;241m=\u001b[39m c\n\u001b[0;32m--> 499\u001b[0m     \u001b[43mArithmeticLogicUnit\u001b[49m\u001b[38;5;241;43m.\u001b[39;49m\u001b[43mexec\u001b[49m\u001b[43m(\u001b[49m\u001b[38;5;28;43mself\u001b[39;49m\u001b[43m,\u001b[49m\u001b[43m \u001b[49m\u001b[43mi\u001b[49m\u001b[43m)\u001b[49m\n\u001b[1;32m    500\u001b[0m     \u001b[38;5;28mself\u001b[39m\u001b[38;5;241m.\u001b[39mpc \u001b[38;5;241m+\u001b[39m\u001b[38;5;241m=\u001b[39m \u001b[38;5;241m1\u001b[39m\n\u001b[1;32m    501\u001b[0m r \u001b[38;5;241m=\u001b[39m [\u001b[38;5;28mself\u001b[39m\u001b[38;5;241m.\u001b[39mstack\u001b[38;5;241m.\u001b[39mpop() \u001b[38;5;28;01mfor\u001b[39;00m _ \u001b[38;5;129;01min\u001b[39;00m \u001b[38;5;28mrange\u001b[39m(\u001b[38;5;28mself\u001b[39m\u001b[38;5;241m.\u001b[39mframe\u001b[38;5;241m.\u001b[39marity)][::\u001b[38;5;241m-\u001b[39m\u001b[38;5;241m1\u001b[39m]\n",
      "File \u001b[0;32m/usr/local/lib/python3.11/site-packages/pywasm/execution.py:519\u001b[0m, in \u001b[0;36mArithmeticLogicUnit.exec\u001b[0;34m(config, i)\u001b[0m\n\u001b[1;32m    517\u001b[0m     log\u001b[38;5;241m.\u001b[39mprintln(\u001b[38;5;124m'\u001b[39m\u001b[38;5;124m|\u001b[39m\u001b[38;5;124m'\u001b[39m, i)\n\u001b[1;32m    518\u001b[0m func \u001b[38;5;241m=\u001b[39m _INSTRUCTION_TABLE[i\u001b[38;5;241m.\u001b[39mopcode]\n\u001b[0;32m--> 519\u001b[0m \u001b[43mfunc\u001b[49m\u001b[43m(\u001b[49m\u001b[43mconfig\u001b[49m\u001b[43m,\u001b[49m\u001b[43m \u001b[49m\u001b[43mi\u001b[49m\u001b[43m)\u001b[49m\n",
      "File \u001b[0;32m/usr/local/lib/python3.11/site-packages/pywasm/execution.py:664\u001b[0m, in \u001b[0;36mArithmeticLogicUnit.call\u001b[0;34m(config, i)\u001b[0m\n\u001b[1;32m    661\u001b[0m \u001b[38;5;129m@staticmethod\u001b[39m\n\u001b[1;32m    662\u001b[0m \u001b[38;5;28;01mdef\u001b[39;00m \u001b[38;5;21mcall\u001b[39m(config: Configuration, i: binary\u001b[38;5;241m.\u001b[39mInstruction):\n\u001b[1;32m    663\u001b[0m     function_addr: binary\u001b[38;5;241m.\u001b[39mFunctionIndex \u001b[38;5;241m=\u001b[39m i\u001b[38;5;241m.\u001b[39margs[\u001b[38;5;241m0\u001b[39m]\n\u001b[0;32m--> 664\u001b[0m     \u001b[43mArithmeticLogicUnit\u001b[49m\u001b[38;5;241;43m.\u001b[39;49m\u001b[43mcall_function_addr\u001b[49m\u001b[43m(\u001b[49m\u001b[43mconfig\u001b[49m\u001b[43m,\u001b[49m\u001b[43m \u001b[49m\u001b[43mfunction_addr\u001b[49m\u001b[43m)\u001b[49m\n",
      "File \u001b[0;32m/usr/local/lib/python3.11/site-packages/pywasm/execution.py:657\u001b[0m, in \u001b[0;36mArithmeticLogicUnit.call_function_addr\u001b[0;34m(config, function_addr)\u001b[0m\n\u001b[1;32m    655\u001b[0m subcnf\u001b[38;5;241m.\u001b[39mdepth \u001b[38;5;241m=\u001b[39m config\u001b[38;5;241m.\u001b[39mdepth \u001b[38;5;241m+\u001b[39m \u001b[38;5;241m1\u001b[39m\n\u001b[1;32m    656\u001b[0m subcnf\u001b[38;5;241m.\u001b[39mopts \u001b[38;5;241m=\u001b[39m config\u001b[38;5;241m.\u001b[39mopts\n\u001b[0;32m--> 657\u001b[0m r \u001b[38;5;241m=\u001b[39m \u001b[43msubcnf\u001b[49m\u001b[38;5;241;43m.\u001b[39;49m\u001b[43mcall\u001b[49m\u001b[43m(\u001b[49m\u001b[43mfunction_addr\u001b[49m\u001b[43m,\u001b[49m\u001b[43m \u001b[49m\u001b[43mfunction_args\u001b[49m\u001b[43m)\u001b[49m\n\u001b[1;32m    658\u001b[0m \u001b[38;5;28;01mfor\u001b[39;00m e \u001b[38;5;129;01min\u001b[39;00m r\u001b[38;5;241m.\u001b[39mdata:\n\u001b[1;32m    659\u001b[0m     config\u001b[38;5;241m.\u001b[39mstack\u001b[38;5;241m.\u001b[39mappend(e)\n",
      "File \u001b[0;32m/usr/local/lib/python3.11/site-packages/pywasm/execution.py:467\u001b[0m, in \u001b[0;36mConfiguration.call\u001b[0;34m(self, function_addr, function_args)\u001b[0m\n\u001b[1;32m    465\u001b[0m \u001b[38;5;28;01mfor\u001b[39;00m e, t \u001b[38;5;129;01min\u001b[39;00m \u001b[38;5;28mzip\u001b[39m(function_args, function\u001b[38;5;241m.\u001b[39mtype\u001b[38;5;241m.\u001b[39margs\u001b[38;5;241m.\u001b[39mdata):\n\u001b[1;32m    466\u001b[0m     \u001b[38;5;28;01massert\u001b[39;00m e\u001b[38;5;241m.\u001b[39mtype \u001b[38;5;241m==\u001b[39m t\n\u001b[0;32m--> 467\u001b[0m \u001b[38;5;28;01massert\u001b[39;00m \u001b[38;5;28mlen\u001b[39m(function\u001b[38;5;241m.\u001b[39mtype\u001b[38;5;241m.\u001b[39mrets\u001b[38;5;241m.\u001b[39mdata) \u001b[38;5;241m<\u001b[39m \u001b[38;5;241m2\u001b[39m\n\u001b[1;32m    469\u001b[0m \u001b[38;5;28;01mif\u001b[39;00m \u001b[38;5;28misinstance\u001b[39m(function, WasmFunc):\n\u001b[1;32m    470\u001b[0m     local_list \u001b[38;5;241m=\u001b[39m [Value\u001b[38;5;241m.\u001b[39mnew(e, \u001b[38;5;241m0\u001b[39m) \u001b[38;5;28;01mfor\u001b[39;00m e \u001b[38;5;129;01min\u001b[39;00m function\u001b[38;5;241m.\u001b[39mcode\u001b[38;5;241m.\u001b[39mlocal_list]\n",
      "\u001b[0;31mAssertionError\u001b[0m: "
     ]
    }
   ],
   "source": [
    "runpywasm(\"ascii.wasm\")"
   ]
  },
  {
   "cell_type": "code",
   "execution_count": 47,
   "metadata": {},
   "outputs": [
    {
     "name": "stdin",
     "output_type": "stream",
     "text": [
      " 6\n",
      " 3\n"
     ]
    },
    {
     "name": "stdout",
     "output_type": "stream",
     "text": [
      "2 "
     ]
    }
   ],
   "source": [
    "runwasmer(\"ascii.wasm\")"
   ]
  },
  {
   "cell_type": "code",
   "execution_count": null,
   "metadata": {},
   "outputs": [],
   "source": []
  }
 ],
 "metadata": {
  "kernelspec": {
   "display_name": "Python 3 (ipykernel)",
   "language": "python",
   "name": "python3"
  },
  "language_info": {
   "codemirror_mode": {
    "name": "ipython",
    "version": 3
   },
   "file_extension": ".py",
   "mimetype": "text/x-python",
   "name": "python",
   "nbconvert_exporter": "python",
   "pygments_lexer": "ipython3",
   "version": "3.11.1"
  }
 },
 "nbformat": 4,
 "nbformat_minor": 4
}
