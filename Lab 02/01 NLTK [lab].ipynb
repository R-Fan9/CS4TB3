{
 "cells": [
  {
   "cell_type": "markdown",
   "metadata": {
    "deletable": false,
    "editable": false,
    "nbgrader": {
     "cell_type": "markdown",
     "checksum": "e6e700528bff465371bd66efa386d6ad",
     "grade": false,
     "grade_id": "cell-45e0e3a7ab735658",
     "locked": true,
     "schema_version": 3,
     "solution": false,
     "task": false
    },
    "tags": []
   },
   "source": [
    "#### NLTK"
   ]
  },
  {
   "cell_type": "markdown",
   "metadata": {
    "deletable": false,
    "editable": false,
    "nbgrader": {
     "cell_type": "markdown",
     "checksum": "3361a36f14208d28587bb2e9a7051c2a",
     "grade": false,
     "grade_id": "cell-6e631bf8ecd85991",
     "locked": true,
     "schema_version": 3,
     "solution": false,
     "task": false
    }
   },
   "source": [
    "This question uses the Python Natural Language Toolkit. If needed, install by `pip3 install nltk` or `pip install nltk`. You may need to use `python3 -m pip install nltk` if you have multiple versions of Python. The following example is from the [NLTK Book](https://www.nltk.org/book/ch08.html). It shows the ambiguity of the sentence:\n",
    "\n",
    "    I shot an elephant in my pajamas\n",
    "\n",
    "This is from the Groucho Marx movie, _Animal Crackers_ (1930): \"While hunting in Africa, I shot an elephant in my pajamas. How he got into my pajamas, I don't know.\" First, a grammar is defined that is sufficient to show the ambiguity and a parser for that grammar is created:"
   ]
  },
  {
   "cell_type": "code",
   "execution_count": 1,
   "metadata": {},
   "outputs": [],
   "source": [
    "import nltk\n",
    "groucho_grammar = nltk.CFG.fromstring(\"\"\"\n",
    "S -> NP VP\n",
    "PP -> P NP\n",
    "NP -> Det N | Det N PP | 'I' | \n",
    "VP -> V NP | VP PP\n",
    "Det -> 'an' | 'my'\n",
    "N -> 'elephant' | 'pajamas'\n",
    "V -> 'shot'\n",
    "P -> 'in'\n",
    "\"\"\")\n",
    "parser = nltk.ChartParser(groucho_grammar)"
   ]
  },
  {
   "cell_type": "markdown",
   "metadata": {
    "deletable": false,
    "editable": false,
    "nbgrader": {
     "cell_type": "markdown",
     "checksum": "47aa02abe138367b92db2e02e9174089",
     "grade": false,
     "grade_id": "cell-e4561e287a4fedad",
     "locked": true,
     "schema_version": 3,
     "solution": false,
     "task": false
    }
   },
   "source": [
    "The NLTK `ChartParser` takes an arbitrary context-free grammar and produces a parser for that grammar. Calling that parser generates all parse trees:"
   ]
  },
  {
   "cell_type": "code",
   "execution_count": 2,
   "metadata": {},
   "outputs": [
    {
     "name": "stdout",
     "output_type": "stream",
     "text": [
      "(S\n",
      "  (NP I)\n",
      "  (VP\n",
      "    (VP (V shot) (NP (Det an) (N elephant)))\n",
      "    (PP (P in) (NP (Det my) (N pajamas)))))\n",
      "(S\n",
      "  (NP I)\n",
      "  (VP\n",
      "    (V shot)\n",
      "    (NP (Det an) (N elephant) (PP (P in) (NP (Det my) (N pajamas))))))\n"
     ]
    }
   ],
   "source": [
    "trees = list(parser.parse(['I', 'shot', 'an', 'elephant', 'in', 'my', 'pajamas']))\n",
    "for t in trees: print(t)"
   ]
  },
  {
   "cell_type": "markdown",
   "metadata": {
    "deletable": false,
    "editable": false,
    "nbgrader": {
     "cell_type": "markdown",
     "checksum": "449c57367bd0c82b49b649c1c014fa55",
     "grade": false,
     "grade_id": "cell-8ea8c0b47a17df6f",
     "locked": true,
     "schema_version": 3,
     "solution": false,
     "task": false
    }
   },
   "source": [
    "The output shows that there are two parse trees printed with indentation. They can also be graphically visualized (depending on the font, the output can be misaligned):"
   ]
  },
  {
   "cell_type": "code",
   "execution_count": 3,
   "metadata": {},
   "outputs": [
    {
     "name": "stdout",
     "output_type": "stream",
     "text": [
      "     S                                       \n",
      "  ___|______________                          \n",
      " |                  VP                       \n",
      " |         _________|__________               \n",
      " |        VP                   PP            \n",
      " |    ____|___              ___|___           \n",
      " |   |        NP           |       NP        \n",
      " |   |     ___|_____       |    ___|_____     \n",
      " NP  V   Det        N      P  Det        N   \n",
      " |   |    |         |      |   |         |    \n",
      " I  shot  an     elephant  in  my     pajamas\n",
      "\n"
     ]
    }
   ],
   "source": [
    "# trees[0] # draws graphically inline; works only locally, not on JupyterHub\n",
    "# trees[0].draw() # draws graphically in separate windows, works only locally, not on JupyterHub\n",
    "trees[0].pretty_print() # draws textually, can sometimes be confusing, needs monospaced font\n",
    "# trees[0].pprint() # prints textually, same as print(...)"
   ]
  },
  {
   "cell_type": "code",
   "execution_count": 4,
   "metadata": {},
   "outputs": [
    {
     "name": "stdout",
     "output_type": "stream",
     "text": [
      "     S                                   \n",
      "  ___|__________                          \n",
      " |              VP                       \n",
      " |    __________|______                   \n",
      " |   |                 NP                \n",
      " |   |     ____________|___               \n",
      " |   |    |     |          PP            \n",
      " |   |    |     |       ___|___           \n",
      " |   |    |     |      |       NP        \n",
      " |   |    |     |      |    ___|_____     \n",
      " NP  V   Det    N      P  Det        N   \n",
      " |   |    |     |      |   |         |    \n",
      " I  shot  an elephant  in  my     pajamas\n",
      "\n"
     ]
    }
   ],
   "source": [
    "trees[1].pretty_print()"
   ]
  },
  {
   "cell_type": "markdown",
   "metadata": {
    "deletable": false,
    "editable": false,
    "heading_collapsed": true,
    "nbgrader": {
     "cell_type": "markdown",
     "checksum": "9325b3eeca55971452e80b56fa14aefa",
     "grade": false,
     "grade_id": "cell-0d1a5194fb4f8780",
     "locked": true,
     "schema_version": 3,
     "solution": false,
     "task": false
    },
    "tags": []
   },
   "source": [
    "#### Part 1"
   ]
  },
  {
   "cell_type": "markdown",
   "metadata": {
    "deletable": false,
    "editable": false,
    "hidden": true,
    "nbgrader": {
     "cell_type": "markdown",
     "checksum": "84c314ed45bc41f43e93d21b7d43ad59",
     "grade": false,
     "grade_id": "cell-3a8b8f857b31dd55",
     "locked": true,
     "schema_version": 3,
     "solution": false,
     "task": false
    }
   },
   "source": [
    "Let `G = (T, N, P, S)` where `T = {a, b}`, `N = {S}`, and productions `P` are:\n",
    "\n",
    "    S → ε\n",
    "    S → aSbS\n",
    "    S → bSaS\n",
    "\n",
    "Draw all parse trees for the sentence `abab` with NLTK!"
   ]
  },
  {
   "cell_type": "code",
   "execution_count": 82,
   "metadata": {
    "hidden": true,
    "solution": "hidden",
    "solution_first": true
   },
   "outputs": [],
   "source": [
    "import nltk\n",
    "groucho_grammar = nltk.CFG.fromstring(\"\"\"\n",
    "S -> A S B S | B S A S |  \n",
    "A -> 'a'\n",
    "B -> 'b'\n",
    "\"\"\")\n",
    "parser = nltk.ChartParser(groucho_grammar)"
   ]
  },
  {
   "cell_type": "code",
   "execution_count": 83,
   "metadata": {},
   "outputs": [
    {
     "name": "stdout",
     "output_type": "stream",
     "text": [
      "(S (A a) (S ) (B b) (S (A a) (S ) (B b) (S )))\n",
      "(S (A a) (S (B b) (S ) (A a) (S )) (B b) (S ))\n"
     ]
    }
   ],
   "source": [
    "trees = list(parser.parse(['a', 'b', 'a', 'b']))\n",
    "for t in trees: print(t)"
   ]
  },
  {
   "cell_type": "code",
   "execution_count": 84,
   "metadata": {},
   "outputs": [
    {
     "name": "stdout",
     "output_type": "stream",
     "text": [
      "             S             \n",
      "  ___________|___           \n",
      " |   |   |       S         \n",
      " |   |   |    ___|_______   \n",
      " A   S   B   A   S   B   S \n",
      " |   |   |   |   |   |   |  \n",
      " a  ...  b   a  ...  b  ...\n",
      "\n",
      "             S             \n",
      "  ___________|___________   \n",
      " |       S           |   | \n",
      " |    ___|_______    |   |  \n",
      " A   B   S   A   S   B   S \n",
      " |   |   |   |   |   |   |  \n",
      " a   b  ...  a  ...  b  ...\n",
      "\n"
     ]
    }
   ],
   "source": [
    "trees[0].pretty_print()\n",
    "trees[1].pretty_print()"
   ]
  },
  {
   "cell_type": "markdown",
   "metadata": {
    "deletable": false,
    "editable": false,
    "heading_collapsed": true,
    "nbgrader": {
     "cell_type": "markdown",
     "checksum": "cb4a26c5d130cec81a61234fb1bfa489",
     "grade": false,
     "grade_id": "cell-4edf34580aafe1ab",
     "locked": true,
     "schema_version": 3,
     "solution": false,
     "task": false
    }
   },
   "source": [
    "#### Part 2"
   ]
  },
  {
   "cell_type": "markdown",
   "metadata": {
    "deletable": false,
    "editable": false,
    "hidden": true,
    "nbgrader": {
     "cell_type": "markdown",
     "checksum": "009e6ad4185215f74f7994011fea0c75",
     "grade": false,
     "grade_id": "cell-1dc7e1423ff78fbd",
     "locked": true,
     "schema_version": 3,
     "solution": false,
     "task": false
    },
    "tags": []
   },
   "source": [
    "Draw the parse tree of `id × (id + id)` in grammar `G₈` using NLTK!"
   ]
  },
  {
   "cell_type": "code",
   "execution_count": 85,
   "metadata": {
    "hidden": true,
    "solution": "hidden",
    "solution_first": true
   },
   "outputs": [],
   "source": [
    "import nltk\n",
    "groucho_grammar = nltk.CFG.fromstring(\"\"\"\n",
    "E -> T | E '+' T\n",
    "T -> F | T 'x' F\n",
    "F -> 'id' | '(' E ')'\n",
    "\"\"\")\n",
    "parser = nltk.ChartParser(groucho_grammar)"
   ]
  },
  {
   "cell_type": "code",
   "execution_count": 86,
   "metadata": {},
   "outputs": [
    {
     "name": "stdout",
     "output_type": "stream",
     "text": [
      "(E (T (T (F id)) x (F ( (E (E (T (F id))) + (T (F id))) ))))\n"
     ]
    }
   ],
   "source": [
    "trees = list(parser.parse(['id', 'x', '(', 'id', '+', 'id', ')']))\n",
    "for t in trees: print(t)"
   ]
  },
  {
   "cell_type": "code",
   "execution_count": 87,
   "metadata": {},
   "outputs": [
    {
     "name": "stdout",
     "output_type": "stream",
     "text": [
      "             E             \n",
      "             |              \n",
      "             T             \n",
      "  ___________|___           \n",
      " |   |           F         \n",
      " |   |    _______|___       \n",
      " |   |   |   |       E     \n",
      " |   |   |   |    ___|___   \n",
      " |   |   |   |   |   E   | \n",
      " |   |   |   |   |   |   |  \n",
      " |   T   |   |   |   T   T \n",
      " |   |   |   |   |   |   |  \n",
      " |   F   |   |   |   F   F \n",
      " |   |   |   |   |   |   |  \n",
      " x   id  (   )   +   id  id\n",
      "\n"
     ]
    }
   ],
   "source": [
    "trees[0].pretty_print()"
   ]
  },
  {
   "cell_type": "code",
   "execution_count": null,
   "metadata": {},
   "outputs": [],
   "source": []
  }
 ],
 "metadata": {
  "kernelspec": {
   "display_name": "Python 3 (ipykernel)",
   "language": "python",
   "name": "python3"
  },
  "language_info": {
   "codemirror_mode": {
    "name": "ipython",
    "version": 3
   },
   "file_extension": ".py",
   "mimetype": "text/x-python",
   "name": "python",
   "nbconvert_exporter": "python",
   "pygments_lexer": "ipython3",
   "version": "3.11.1"
  }
 },
 "nbformat": 4,
 "nbformat_minor": 4
}
