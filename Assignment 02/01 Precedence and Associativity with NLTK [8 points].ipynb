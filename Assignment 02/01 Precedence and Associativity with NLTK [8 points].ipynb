{
 "cells": [
  {
   "cell_type": "markdown",
   "metadata": {
    "heading_collapsed": true
   },
   "source": [
    "#### Precedence and Associativity with NLTK"
   ]
  },
  {
   "cell_type": "markdown",
   "metadata": {
    "hidden": true
   },
   "source": [
    "Consider expression made up of identifiers `a`, `b`, `c`, `d` and operators `+`, `–`, like\n",
    "\n",
    "    a – b + c – d\n",
    "\n",
    "Write grammars as below with NLTK and draw the parse trees with NLTK."
   ]
  },
  {
   "cell_type": "markdown",
   "metadata": {
    "hidden": true
   },
   "source": [
    "1. Write a grammar such that `+` binds tighter than `–` and both `+` and `–` associate to the left, i.e. the above sentence would be evaluated as `(a – (b + c)) – d`. Draw the parse tree for `a – b + c – d`! [2 points]"
   ]
  },
  {
   "cell_type": "code",
   "execution_count": 57,
   "metadata": {
    "deletable": false,
    "hidden": true,
    "nbgrader": {
     "cell_type": "code",
     "checksum": "3ede5e8ba958631977ff3146910af580",
     "grade": true,
     "grade_id": "cell-ce3ba781e7b82d5b",
     "locked": false,
     "points": 2,
     "schema_version": 3,
     "solution": true,
     "task": false
    },
    "tags": []
   },
   "outputs": [
    {
     "name": "stdout",
     "output_type": "stream",
     "text": [
      "             E             \n",
      "          ___|___________   \n",
      "         E           |   | \n",
      "  _______|___        |   |  \n",
      " E   |       F       |   | \n",
      " |   |    ___|___    |   |  \n",
      " F   |   F   |   |   |   F \n",
      " |   |   |   |   |   |   |  \n",
      " T   M   T   P   T   M   T \n",
      " |   |   |   |   |   |   |  \n",
      " a   -   b   +   c   -   d \n",
      "\n"
     ]
    }
   ],
   "source": [
    "import nltk\n",
    "groucho_grammar = nltk.CFG.fromstring(\"\"\"\n",
    "E -> F | E M F\n",
    "F -> T | F P T\n",
    "M -> '-'\n",
    "P -> '+'\n",
    "T -> 'a' | 'b' | 'c' | 'd'\n",
    "\"\"\")\n",
    "parser = nltk.ChartParser(groucho_grammar)\n",
    "trees = list(parser.parse(['a', '-', 'b', '+', 'c', '-', 'd']))\n",
    "for t in trees: t.pretty_print()"
   ]
  },
  {
   "cell_type": "markdown",
   "metadata": {
    "hidden": true
   },
   "source": [
    "2. Write a grammar such that `–` binds tighter than `+` and both `–` and `+` associate to the left, i.e. the above sentence would be evaluated as `(a – b) + (c – d)`. Draw the parse tree for `a – b + c – d`! [2 points]"
   ]
  },
  {
   "cell_type": "code",
   "execution_count": 58,
   "metadata": {
    "deletable": false,
    "hidden": true,
    "nbgrader": {
     "cell_type": "code",
     "checksum": "0ff199f1437903315b53388526d849f3",
     "grade": true,
     "grade_id": "cell-8f5240185431006d",
     "locked": false,
     "points": 2,
     "schema_version": 3,
     "solution": true,
     "task": false
    },
    "tags": []
   },
   "outputs": [
    {
     "name": "stdout",
     "output_type": "stream",
     "text": [
      "             E             \n",
      "      _______|_______       \n",
      "     E       |       |     \n",
      "     |       |       |      \n",
      "     F       |       F     \n",
      "  ___|___    |    ___|___   \n",
      " F   |   |   |   F   |   | \n",
      " |   |   |   |   |   |   |  \n",
      " T   M   T   P   T   M   T \n",
      " |   |   |   |   |   |   |  \n",
      " a   -   b   +   c   -   d \n",
      "\n"
     ]
    }
   ],
   "source": [
    "groucho_grammar = nltk.CFG.fromstring(\"\"\"\n",
    "E -> F | E P F\n",
    "F -> T | F M T\n",
    "M -> '-'\n",
    "P -> '+'\n",
    "T -> 'a' | 'b' | 'c' | 'd'\n",
    "\"\"\")\n",
    "parser = nltk.ChartParser(groucho_grammar)\n",
    "trees = list(parser.parse(['a', '-', 'b', '+', 'c', '-', 'd']))\n",
    "for t in trees: t.pretty_print()"
   ]
  },
  {
   "cell_type": "markdown",
   "metadata": {
    "hidden": true
   },
   "source": [
    "3. Write a grammar such that `+` and `–` bind equally strongly but associate to the left, i.e. the above sentence would be evaluated as `(( a – b) + c) – d`. Draw the parse tree for `a – b + c – d`! [2 points]"
   ]
  },
  {
   "cell_type": "code",
   "execution_count": 60,
   "metadata": {
    "deletable": false,
    "hidden": true,
    "nbgrader": {
     "cell_type": "code",
     "checksum": "9e5f1c88b93015a05168ed7a70f19fbf",
     "grade": true,
     "grade_id": "cell-d8045f72e35598b5",
     "locked": false,
     "points": 2,
     "schema_version": 3,
     "solution": true,
     "task": false
    },
    "tags": []
   },
   "outputs": [
    {
     "name": "stdout",
     "output_type": "stream",
     "text": [
      "             E             \n",
      "          ___|___________   \n",
      "         E           |   | \n",
      "      ___|_______    |   |  \n",
      "     E       |   |   |   | \n",
      "  ___|___    |   |   |   |  \n",
      " E   |   |   |   |   |   | \n",
      " |   |   |   |   |   |   |  \n",
      " T   O   T   O   T   O   T \n",
      " |   |   |   |   |   |   |  \n",
      " a   -   b   +   c   -   d \n",
      "\n"
     ]
    }
   ],
   "source": [
    "groucho_grammar = nltk.CFG.fromstring(\"\"\"\n",
    "E -> T | E O T\n",
    "O -> '+' | '-'\n",
    "T -> 'a' | 'b' | 'c' | 'd'\n",
    "\"\"\")\n",
    "parser = nltk.ChartParser(groucho_grammar)\n",
    "trees = list(parser.parse(['a', '-', 'b', '+', 'c', '-', 'd']))\n",
    "for t in trees: t.pretty_print()"
   ]
  },
  {
   "cell_type": "markdown",
   "metadata": {
    "hidden": true
   },
   "source": [
    "4. Write a grammar such that `+` and `–` bind equally strongly but associate to the right, i.e. the above sentence would be evaluated as `a – (b + (c – d))`. Draw the parse tree for `a – b + c – d`! [2 points]"
   ]
  },
  {
   "cell_type": "code",
   "execution_count": 61,
   "metadata": {
    "deletable": false,
    "hidden": true,
    "nbgrader": {
     "cell_type": "code",
     "checksum": "7196f2f746bc5d44d3534a159de91f4d",
     "grade": true,
     "grade_id": "cell-c45b3b167baa17f8",
     "locked": false,
     "points": 2,
     "schema_version": 3,
     "solution": true,
     "task": false
    },
    "tags": []
   },
   "outputs": [
    {
     "name": "stdout",
     "output_type": "stream",
     "text": [
      "             E             \n",
      "  ___________|___           \n",
      " |   |           E         \n",
      " |   |    _______|___       \n",
      " |   |   |   |       E     \n",
      " |   |   |   |    ___|___   \n",
      " |   |   |   |   |   |   E \n",
      " |   |   |   |   |   |   |  \n",
      " T   O   T   O   T   O   T \n",
      " |   |   |   |   |   |   |  \n",
      " a   -   b   +   c   -   d \n",
      "\n"
     ]
    }
   ],
   "source": [
    "groucho_grammar = nltk.CFG.fromstring(\"\"\"\n",
    "E -> T | T O E\n",
    "O -> '+' | '-'\n",
    "T -> 'a' | 'b' | 'c' | 'd'\n",
    "\"\"\")\n",
    "parser = nltk.ChartParser(groucho_grammar)\n",
    "trees = list(parser.parse(['a', '-', 'b', '+', 'c', '-', 'd']))\n",
    "for t in trees: t.pretty_print()"
   ]
  }
 ],
 "metadata": {
  "kernelspec": {
   "display_name": "Python 3 (ipykernel)",
   "language": "python",
   "name": "python3"
  },
  "language_info": {
   "codemirror_mode": {
    "name": "ipython",
    "version": 3
   },
   "file_extension": ".py",
   "mimetype": "text/x-python",
   "name": "python",
   "nbconvert_exporter": "python",
   "pygments_lexer": "ipython3",
   "version": "3.11.1"
  }
 },
 "nbformat": 4,
 "nbformat_minor": 4
}
