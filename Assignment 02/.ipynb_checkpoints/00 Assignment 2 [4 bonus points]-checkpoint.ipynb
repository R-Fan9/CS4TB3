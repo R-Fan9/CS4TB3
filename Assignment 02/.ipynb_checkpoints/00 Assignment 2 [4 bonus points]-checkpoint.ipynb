{
 "cells": [
  {
   "cell_type": "markdown",
   "metadata": {},
   "source": [
    "### COMPSCI 3TB3/4TB3/6TB3 Syntax-Directed Tools and Compilers, 2023/24, McMaster University, Lab 1 & Assignment 1"
   ]
  },
  {
   "cell_type": "markdown",
   "metadata": {},
   "source": [
    "**Emil Sekerinski (instructor), Qi Shu, Jason Balaci (TAs)**\n",
    "\n",
    "Lab 2 is covered, and Assignment 2 is introduced at the following sessions:\n",
    "- L01 on Wednesday, January 17\n",
    "- L05 on Thursday, January 18\n",
    "- L02 on Friday, January 19\n",
    "- L04 on Friday, January 19\n",
    "- L03 on Monday, January 22\n",
    "\n",
    "**Lab 2 is due at the end of your lab session [4 bonus points].** \n",
    "- You can collaborate during the lab session on the lab questions.\n",
    "- You receive 4 bonus points for attempting all questions. You must submit \"Lab 2\" and sign the attendance sheet to receive these.\n",
    "  \n",
    "**Assignment 2 is due Wednesday, January 24, 11 pm [24 points].**\n",
    "- You must work on this assignment on your own. You are encouraged to get a common understanding with fellow students, but the submission must be yours.\n",
    "- The following week's labs present answers to the assignment questions.\n",
    "- The bonus points of the lab count towards the points of the assignment, up to a maximum of 24 points.\n",
    "\n",
    "The purpose of this assignment is to\n",
    "- introduce you to one tool, NLTK, for parsing arbitrary context-free languages,\n",
    "- deepen your understanding of grammars, in particular around operator associativity, precedence, and context-sensitivity,\n",
    "- make yourself familiar with several tools for drawing context-free grammars.\n",
    "\n",
    "*Instructions:*\n",
    "- Do not copy and paste graded cells, as that corrupts the notebook's metadata and causes automatic grading to fail.\n",
    "- Edit code only where it says YOUR CODE HERE; do not change the names of functions, methods, and classes; do not change the number or types of parameters; remove `raise NotImplementedError()`. Otherwise, the automatic grading fails, which may result in a deduction.\n",
    "- If a notebook uses Python, before submitting, \"Restart Kernel\" and run the Python code from the beginning to clear the state of the kernel and to check that the output is as expected. When notebooks are graded, they are run with a freshly initialized kernel.\n",
    "- Log files may be created when your program crashes. These log files may become so large that they prevent submission. Delete all log files and submit a cleaned-up folder.\n",
    "- You are asked to write well-structured and readable source code. The source code is always used for grading in addition to the test results. Your program passing the provided does not guarantee that your program is correct and that you will receive full (or any) marks."
   ]
  },
  {
   "cell_type": "markdown",
   "metadata": {
    "tags": []
   },
   "source": [
    "The cell below is for grading purposes only; please ignore it."
   ]
  },
  {
   "cell_type": "markdown",
   "metadata": {
    "deletable": false,
    "nbgrader": {
     "cell_type": "markdown",
     "checksum": "71e2501e37b6270a79e690cb16e9d52c",
     "grade": true,
     "grade_id": "cell-2ca4cd06a9fd127e",
     "locked": false,
     "points": 0,
     "schema_version": 3,
     "solution": true,
     "task": false
    },
    "tags": []
   },
   "source": [
    "YOUR ANSWER HERE"
   ]
  }
 ],
 "metadata": {
  "kernelspec": {
   "display_name": "Python 3 (ipykernel)",
   "language": "python",
   "name": "python3"
  },
  "language_info": {
   "codemirror_mode": {
    "name": "ipython",
    "version": 3
   },
   "file_extension": ".py",
   "mimetype": "text/x-python",
   "name": "python",
   "nbconvert_exporter": "python",
   "pygments_lexer": "ipython3",
   "version": "3.11.1"
  }
 },
 "nbformat": 4,
 "nbformat_minor": 4
}
