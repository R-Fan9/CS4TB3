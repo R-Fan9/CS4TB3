{
 "cells": [
  {
   "cell_type": "markdown",
   "metadata": {},
   "source": [
    "#### Grammar for aⁱbⁿcⁱdⁿ"
   ]
  },
  {
   "cell_type": "markdown",
   "metadata": {
    "tags": []
   },
   "source": [
    "Procedure `derivable` from the course notes can be used for unrestricted grammars, not just context-sensitive grammars. The procedure will terminate with `true` or `false` for context-sensitive grammars (*decision procedure*) but may or may not terminate for unrestricted grammars (*semi-decision procedure*)."
   ]
  },
  {
   "cell_type": "code",
   "execution_count": 3,
   "metadata": {
    "tags": []
   },
   "outputs": [],
   "source": [
    "def derivable(S, P, ω, trace = False):\n",
    "    # S: start symbol, a string, P: productions, a set of pairs of strings, ω: string\n",
    "    d0, d = {}, {S} # set of strings\n",
    "    while d != d0:\n",
    "        d0 = d\n",
    "        if trace: print('S ⇒*', d)\n",
    "        for p in P:\n",
    "            i = p.find('→', 0)\n",
    "            σ, τ = p[0:i], p[i+1:]\n",
    "            for π in d0:\n",
    "                i = π.find(σ, 0)\n",
    "                while i != - 1:\n",
    "                    χ = π[0:i] + τ + π[i + len(σ):]\n",
    "                    if trace: print('    ', π, '⇒', χ)\n",
    "                    if χ == ω: return True\n",
    "                    elif len(χ) <= len(ω): d = d.union({χ})\n",
    "                    i = π.find(σ, i + 1)\n",
    "    return False"
   ]
  },
  {
   "cell_type": "markdown",
   "metadata": {
    "tags": []
   },
   "source": [
    "Use procedure `derivable` to show that `abc`, `aabbcc`, `aaabbbccc` are derivable in `G₄` but `aabc` and `abbc` are not! Define `S` and `P` in the cell below and run the next cell for testing. [1 point]"
   ]
  },
  {
   "cell_type": "code",
   "execution_count": 4,
   "metadata": {
    "deletable": false,
    "nbgrader": {
     "cell_type": "code",
     "checksum": "fd6212abfcbb8143688800d6f1d89a45",
     "grade": false,
     "grade_id": "cell-689731d960007821",
     "locked": false,
     "schema_version": 3,
     "solution": true,
     "task": false
    },
    "tags": []
   },
   "outputs": [],
   "source": [
    "S = 'S'\n",
    "P = {'S→abc', 'S→aBSc', 'S→aBSc', 'Ba→aB', 'Bb→bb'}"
   ]
  },
  {
   "cell_type": "code",
   "execution_count": 5,
   "metadata": {
    "deletable": false,
    "editable": false,
    "nbgrader": {
     "cell_type": "code",
     "checksum": "c83603a5eb0d104473a16494d82c78b6",
     "grade": true,
     "grade_id": "cell-eb0001960ef3f58b",
     "locked": true,
     "points": 1,
     "schema_version": 3,
     "solution": false,
     "task": false
    },
    "tags": []
   },
   "outputs": [
    {
     "name": "stdout",
     "output_type": "stream",
     "text": [
      "S ⇒* {'S'}\n",
      "     S ⇒ abc\n"
     ]
    }
   ],
   "source": [
    "assert derivable(S, P , 'abc', True)\n",
    "assert derivable(S, P , 'aabbcc')\n",
    "assert derivable(S, P , 'aaabbbccc')\n",
    "assert not derivable(S, P , 'aabc')\n",
    "assert not derivable(S, P , 'abbc')"
   ]
  },
  {
   "cell_type": "markdown",
   "metadata": {},
   "source": [
    "Use procedure `derivable` to show that `abc`, `aabbcc`, `aaabbbccc` are derivable in `G₄'`, the context-sensitive version of `G₄`, but `aabc` and `abbc` are not! [1 point]"
   ]
  },
  {
   "cell_type": "code",
   "execution_count": 8,
   "metadata": {
    "deletable": false,
    "nbgrader": {
     "cell_type": "code",
     "checksum": "54346db9428aea7879b608437764c6ac",
     "grade": false,
     "grade_id": "cell-c76587c841812d2c",
     "locked": false,
     "schema_version": 3,
     "solution": true,
     "task": false
    },
    "tags": []
   },
   "outputs": [],
   "source": [
    "S = 'S'\n",
    "P = {'S→Abc', 'S→ABSc', 'BA→BX', 'BX→AX', 'AX→AB', 'Bb→bb', 'A→a'}"
   ]
  },
  {
   "cell_type": "code",
   "execution_count": 9,
   "metadata": {
    "deletable": false,
    "editable": false,
    "nbgrader": {
     "cell_type": "code",
     "checksum": "fcb07daa455f922c2d2a7e0356409d85",
     "grade": true,
     "grade_id": "cell-703e23b088e97f92",
     "locked": true,
     "points": 1,
     "schema_version": 3,
     "solution": false,
     "task": false
    },
    "tags": []
   },
   "outputs": [
    {
     "name": "stdout",
     "output_type": "stream",
     "text": [
      "S ⇒* {'S'}\n",
      "     S ⇒ Abc\n",
      "     S ⇒ ABSc\n",
      "S ⇒* {'S', 'Abc'}\n",
      "     Abc ⇒ abc\n"
     ]
    }
   ],
   "source": [
    "assert derivable(S, P , 'abc', True)\n",
    "assert derivable(S, P , 'aabbcc')\n",
    "assert derivable(S, P , 'aaabbbccc')\n",
    "assert not derivable(S, P , 'aabc')\n",
    "assert not derivable(S, P , 'abbc')"
   ]
  },
  {
   "cell_type": "markdown",
   "metadata": {
    "deletable": false,
    "editable": false,
    "nbgrader": {
     "cell_type": "markdown",
     "checksum": "ee435c6823f03209a6680820110c8048",
     "grade": false,
     "grade_id": "cell-b5c97c782f61fadf",
     "locked": true,
     "schema_version": 3,
     "solution": false,
     "task": false
    },
    "tags": []
   },
   "source": [
    "Now consider the language `{aⁱbⁿcⁱdⁿ | i, n ≥ 1}`. Write a grammar for this language by defining `S` and `P` below and use procedure `derivable` to check that `abcd`, `aabccd`, `aabbbccddd` are derivable in but `aabbcd`, `abccdd`, `acbd` are not! The grammar does not have to be context-sensitive, but procedure `derivable` has to terminate. [6 points]"
   ]
  },
  {
   "cell_type": "code",
   "execution_count": 14,
   "metadata": {
    "deletable": false,
    "nbgrader": {
     "cell_type": "code",
     "checksum": "d5b6caefb9d2ee84df42e9c89ffbbd28",
     "grade": false,
     "grade_id": "cell-f199fc84bbf4f51c",
     "locked": false,
     "schema_version": 3,
     "solution": true,
     "task": false
    },
    "tags": []
   },
   "outputs": [],
   "source": [
    "S = 'S'\n",
    "P = {'S→aXc', 'S→aSc', 'X→bD', 'X→bXD', 'Dc→cD', 'D→d'}"
   ]
  },
  {
   "cell_type": "code",
   "execution_count": 15,
   "metadata": {
    "deletable": false,
    "editable": false,
    "nbgrader": {
     "cell_type": "code",
     "checksum": "2875176c05b03ec41845f6ece94369d6",
     "grade": true,
     "grade_id": "cell-6c8c9768c6b834dd",
     "locked": true,
     "points": 6,
     "schema_version": 3,
     "solution": false,
     "task": false
    },
    "tags": []
   },
   "outputs": [],
   "source": [
    "assert derivable(S, P , 'abcd')\n",
    "assert derivable(S, P , 'aabccd')\n",
    "assert derivable(S, P , 'aabbbccddd')\n",
    "assert not derivable(S, P , 'aabbcd')\n",
    "assert not derivable(S, P , 'abccdd')\n",
    "assert not derivable(S, P , 'acbd')"
   ]
  }
 ],
 "metadata": {
  "kernelspec": {
   "display_name": "Python 3 (ipykernel)",
   "language": "python",
   "name": "python3"
  },
  "language_info": {
   "codemirror_mode": {
    "name": "ipython",
    "version": 3
   },
   "file_extension": ".py",
   "mimetype": "text/x-python",
   "name": "python",
   "nbconvert_exporter": "python",
   "pygments_lexer": "ipython3",
   "version": "3.11.1"
  }
 },
 "nbformat": 4,
 "nbformat_minor": 4
}
