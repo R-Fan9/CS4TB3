{
 "cells": [
  {
   "cell_type": "markdown",
   "metadata": {},
   "source": [
    "#### Syntax Diagrams"
   ]
  },
  {
   "cell_type": "markdown",
   "metadata": {},
   "source": [
    "Consider following grammar for arithmetic expressions:\n",
    "\n",
    "    expression  →  [ '+' | '–' ] term { ( '+' | '–' ) term }\n",
    "    term  →  factor { ( '×' | '/' ) factor }\n",
    "    factor  →  number | identifier | '(' expression ')'"
   ]
  },
  {
   "cell_type": "markdown",
   "metadata": {
    "tags": []
   },
   "source": [
    "#### Part 1"
   ]
  },
  {
   "cell_type": "markdown",
   "metadata": {
    "jp-MarkdownHeadingCollapsed": true,
    "tags": []
   },
   "source": [
    "Use the LaTeX `mdwtools` package to\n",
    "  1. pretty-print above grammar, as in:![expressiongrammar.png](./img/expressiongrammar.png)\n",
    "  2. to draw the syntax diagrams of the three nonterminals, as in:![termdiagram](./img/termdiagram.png)\n",
    "  3. to draw the grammar with all productions!  \n",
    "  \n",
    "_Hint:_ In order to run LaTeX locally, e.g. `pdflatex`, you will need a TeX distribution, like TeX Live at [tug.org](https://tug.org); for Macs, MacTeX is recommended; on Windows, MiKTeX is popular. These come with `mdwtools`; if you use a different distribution, you may need to install it from [ctan.org/topic/syntax](https://ctan.org/topic/syntax). You can also run `pdflatex` remotely on the JupyterHub server. [3 points]"
   ]
  },
  {
   "cell_type": "markdown",
   "metadata": {},
   "source": [
    "For this, create a file `prettyprintgrammar.tex` from the terminal and use this as template:\n",
    "```latex\n",
    "\\documentclass{article}\n",
    "\\usepackage[rounded]{syntax}\n",
    "\\usepackage{url}\n",
    "\n",
    "\\title{COMPSCI 3TB3/4TB3/6TB3 Assignment 2 Question 3}\n",
    "\\author{Your Name}\n",
    "\n",
    "\\begin{document}\n",
    "\\maketitle\n",
    "\n",
    "\\begin{grammar}\n",
    "...\n",
    "\\end{grammar}\n",
    "\n",
    "\n",
    "\\begin{syntdiag} % for expression\n",
    "...\n",
    "\\end{syntdiag}\n",
    "\n",
    "\\begin{syntdiag} % for term\n",
    "...\n",
    "\\end{syntdiag} \n",
    "\n",
    "\\begin{syntdiag} % for factor\n",
    "...\n",
    "\\end{syntdiag} \n",
    "\n",
    "\n",
    "\\begin{grammar}\n",
    "...\n",
    "\\end{grammar}\n",
    "\n",
    "\\end{document}\n",
    "```\n",
    "You can run `pdflatex` from the terminal or from this notebook by typing `!pdflatex prettyprintgrammar.tex` in a code cell. Place `prettyprintgrammar.tex` and `prettyprintgrammar.pdf` in the directory that you submit."
   ]
  },
  {
   "cell_type": "code",
   "execution_count": 1,
   "metadata": {
    "deletable": false,
    "nbgrader": {
     "cell_type": "code",
     "checksum": "a6e98316b1527cfd8442ebbcb7aa2dd8",
     "grade": true,
     "grade_id": "cell-ad35054a337c5d6f",
     "locked": false,
     "points": 3,
     "schema_version": 3,
     "solution": true,
     "task": false
    },
    "tags": []
   },
   "outputs": [
    {
     "name": "stdout",
     "output_type": "stream",
     "text": [
      "Overwriting prettyprintgrammar.tex\n"
     ]
    }
   ],
   "source": [
    "%%writefile prettyprintgrammar.tex\n",
    "\n",
    "\\documentclass{article}\n",
    "\\usepackage[rounded]{syntax}\n",
    "\\usepackage{url}\n",
    "\n",
    "\\title{COMPSCI 3TB3/4TB3/6TB3 Assignment 2 Question 3}\n",
    "\\author{Ricky Fan}\n",
    "\n",
    "\\begin{document}\n",
    "\\maketitle\n",
    "\n",
    "\\begin{grammar}\n",
    "    <expression> ::= ['+' | '-'] <term> \\{('+' | '-') <term>\\}\n",
    " \n",
    "   <term> ::= <factor> \\{('$\\times$' | '/') <factor>\\}\n",
    " \n",
    "   <factor> ::= <number> | <identifier> | '(' <expression> ')'\n",
    "\\end{grammar}\n",
    "\n",
    "\\begin{syntdiag} % for expression\n",
    "    \\begin{stack} \\\\\n",
    "        '+' \\\\\n",
    "        '-'\n",
    "    \\end{stack}\n",
    "    \\begin{rep}\n",
    "        <term> \\\\\n",
    "        \\begin{stack} \n",
    "            '+' \\\\\n",
    "            '-'\n",
    "        \\end{stack}\n",
    "    \\end{rep}\n",
    "\\end{syntdiag}\n",
    "\n",
    "\\begin{syntdiag} % for term\n",
    "    \\begin{rep}\n",
    "        <factor> \\\\\n",
    "        \\begin{stack} \n",
    "            '$\\times$' \\\\\n",
    "            '/'\n",
    "        \\end{stack}\n",
    "    \\end{rep}\n",
    "\\end{syntdiag}\n",
    "\n",
    "\\begin{syntdiag} % for factor\n",
    "    \\begin{stack} \n",
    "        <number> \\\\\n",
    "        <identifier> \\\\\n",
    "        '(' <expression> ')'\n",
    "    \\end{stack}\n",
    "\\end{syntdiag}\n",
    "\n",
    "\\begin{grammar}\n",
    "    <expression> ::=\n",
    "    \\begin{syntdiag} % for expression\n",
    "        \\begin{stack} \\\\\n",
    "            '+' \\\\\n",
    "            '-'\n",
    "        \\end{stack}\n",
    "        \\begin{rep}\n",
    "            <term> \\\\\n",
    "            \\begin{stack} \n",
    "                '+' \\\\\n",
    "                '-'\n",
    "            \\end{stack}\n",
    "        \\end{rep}\n",
    "    \\end{syntdiag}\n",
    "\n",
    "    <term> ::=\n",
    "    \\begin{syntdiag} % for term\n",
    "        \\begin{rep}\n",
    "            <factor> \\\\\n",
    "            \\begin{stack} \n",
    "                '$\\times$' \\\\\n",
    "                '/'\n",
    "            \\end{stack}\n",
    "        \\end{rep}\n",
    "    \\end{syntdiag}\n",
    "\n",
    "    <factor> ::=\n",
    "    \\begin{syntdiag} % for factor\n",
    "        \\begin{stack} \n",
    "            <number> \\\\\n",
    "            <identifier> \\\\\n",
    "            '(' <expression> ')'\n",
    "        \\end{stack}\n",
    "    \\end{syntdiag}\n",
    "\\end{grammar}\n",
    "\n",
    "\\end{document}"
   ]
  },
  {
   "cell_type": "code",
   "execution_count": 2,
   "metadata": {},
   "outputs": [
    {
     "name": "stdout",
     "output_type": "stream",
     "text": [
      "This is pdfTeX, Version 3.14159265-2.6-1.40.19 (TeX Live 2018) (preloaded format=pdflatex)\n",
      " restricted \\write18 enabled.\n",
      "entering extended mode\n",
      "(./prettyprintgrammar.tex\n",
      "LaTeX2e <2017-04-15>\n",
      "Babel <3.17> and hyphenation patterns for 3 language(s) loaded.\n",
      "(/usr/share/texlive/texmf-dist/tex/latex/base/article.cls\n",
      "Document Class: article 2014/09/29 v1.4h Standard LaTeX document class\n",
      "(/usr/share/texlive/texmf-dist/tex/latex/base/size10.clo))\n",
      "(/usr/share/texlive/texmf-dist/tex/latex/mdwtools/syntax.sty)\n",
      "(/usr/share/texlive/texmf-dist/tex/latex/url/url.sty) (./prettyprintgrammar.aux\n",
      ") (/usr/share/texlive/texmf-dist/tex/latex/base/omscmr.fd) [1{/usr/share/texliv\n",
      "e/texmf-dist/fonts/map/pdftex/updmap/pdftex.map}] (./prettyprintgrammar.aux) )<\n",
      "/usr/share/texlive/texmf-dist/fonts/type1/public/amsfonts/cm/cmr10.pfb></usr/sh\n",
      "are/texlive/texmf-dist/fonts/type1/public/amsfonts/cm/cmr12.pfb></usr/share/tex\n",
      "live/texmf-dist/fonts/type1/public/amsfonts/cm/cmr17.pfb></usr/share/texlive/te\n",
      "xmf-dist/fonts/type1/public/amsfonts/cm/cmr9.pfb></usr/share/texlive/texmf-dist\n",
      "/fonts/type1/public/amsfonts/cm/cmsy10.pfb></usr/share/texlive/texmf-dist/fonts\n",
      "/type1/public/amsfonts/cm/cmsy9.pfb></usr/share/texlive/texmf-dist/fonts/type1/\n",
      "public/amsfonts/cm/cmti10.pfb></usr/share/texlive/texmf-dist/fonts/type1/public\n",
      "/amsfonts/cm/cmti9.pfb></usr/share/texlive/texmf-dist/fonts/type1/public/amsfon\n",
      "ts/latxfont/lcircle1.pfb></usr/share/texlive/texmf-dist/fonts/type1/public/amsf\n",
      "onts/latxfont/line10.pfb>\n",
      "Output written on prettyprintgrammar.pdf (1 page, 87243 bytes).\n",
      "Transcript written on prettyprintgrammar.log.\n"
     ]
    }
   ],
   "source": [
    "!pdflatex prettyprintgrammar.tex"
   ]
  },
  {
   "cell_type": "code",
   "execution_count": 3,
   "metadata": {},
   "outputs": [
    {
     "data": {
      "text/html": [
       "\n",
       "        <iframe\n",
       "            width=\"900\"\n",
       "            height=\"500\"\n",
       "            src=\"./prettyprintgrammar.pdf\"\n",
       "            frameborder=\"0\"\n",
       "            allowfullscreen\n",
       "            \n",
       "        ></iframe>\n",
       "        "
      ],
      "text/plain": [
       "<IPython.lib.display.IFrame at 0x7f1464f71410>"
      ]
     },
     "execution_count": 3,
     "metadata": {},
     "output_type": "execute_result"
    }
   ],
   "source": [
    "from IPython.display import IFrame\n",
    "IFrame(\"./prettyprintgrammar.pdf\", width=900, height=500)"
   ]
  },
  {
   "cell_type": "markdown",
   "metadata": {
    "tags": []
   },
   "source": [
    "#### Part 2"
   ]
  },
  {
   "cell_type": "markdown",
   "metadata": {
    "tags": []
   },
   "source": [
    "Use the Python library https://pypi.org/project/railroad-diagrams/ to draw the syntax diagram! Do so by calling `drawProduction()` for each production, as below: [3 points]"
   ]
  },
  {
   "cell_type": "code",
   "execution_count": 8,
   "metadata": {},
   "outputs": [
    {
     "data": {
      "text/html": [
       "<svg class=\"railroad-diagram\" height=\"71\" viewBox=\"0 0 223.5 71\" width=\"223.5\" xmlns=\"http://www.w3.org/2000/svg\" xmlns:xlink=\"http://www.w3.org/1999/xlink\">\n",
       "<style>/* <![CDATA[ */\n",
       "\tsvg.railroad-diagram {\n",
       "\t\tbackground-color:hsl(30,20%,95%);\n",
       "\t}\n",
       "\tsvg.railroad-diagram path {\n",
       "\t\tstroke-width:3;\n",
       "\t\tstroke:black;\n",
       "\t\tfill:rgba(0,0,0,0);\n",
       "\t}\n",
       "\tsvg.railroad-diagram text {\n",
       "\t\tfont:bold 14px monospace;\n",
       "\t\ttext-anchor:middle;\n",
       "\t}\n",
       "\tsvg.railroad-diagram text.label{\n",
       "\t\ttext-anchor:start;\n",
       "\t}\n",
       "\tsvg.railroad-diagram text.comment{\n",
       "\t\tfont:italic 12px monospace;\n",
       "\t}\n",
       "\tsvg.railroad-diagram rect{\n",
       "\t\tstroke-width:3;\n",
       "\t\tstroke:black;\n",
       "\t\tfill:hsl(120,100%,90%);\n",
       "\t}\n",
       "\tsvg.railroad-diagram rect.group-box {\n",
       "\t\tstroke: gray;\n",
       "\t\tstroke-dasharray: 10 5;\n",
       "\t\tfill: none;\n",
       "\t}\n",
       "/* ]]> */\n",
       "</style><g transform=\"translate(.5 .5)\">\n",
       "<g>\n",
       "<path d=\"M20 21v20m10 -20v20m-10 -10h61.0\" /><text style=\"text-anchor:start\" x=\"20\" y=\"16\">number</text></g><path d=\"M81.0 31h10\" /><g>\n",
       "<path d=\"M91.0 31h0.0\" /><path d=\"M173.5 31h0.0\" /><path d=\"M91.0 31h10\" /><g class=\"terminal \">\n",
       "<path d=\"M101.0 31h0.0\" /><path d=\"M163.5 31h0.0\" /><rect height=\"22\" rx=\"10\" ry=\"10\" width=\"62.5\" x=\"101\" y=\"20\"></rect><text x=\"132.25\" y=\"35\">digit</text></g><path d=\"M163.5 31h10\" /><path d=\"M101.0 31a10 10 0 0 0 -10 10v0a10 10 0 0 0 10 10\" /><g>\n",
       "<path d=\"M101.0 51h62.5\" /></g><path d=\"M163.5 51a10 10 0 0 0 10 -10v0a10 10 0 0 0 -10 -10\" /></g><path d=\"M173.5 31h10\" /><path d=\"M 183.5 31 h 20 m -10 -10 v 20 m 10 -20 v 20\"></path></g></svg>"
      ],
      "text/plain": [
       "<IPython.core.display.HTML object>"
      ]
     },
     "execution_count": 8,
     "metadata": {},
     "output_type": "execute_result"
    }
   ],
   "source": [
    "from railroad import *\n",
    "\n",
    "def drawProduction(production: Diagram):\n",
    "    from io import StringIO\n",
    "    from IPython.display import HTML\n",
    "    with StringIO() as output:\n",
    "        production.writeSvg(output.write)\n",
    "        svg = \"\\n\".join([line.rstrip() for line in output.getvalue().splitlines() if line.strip()])\n",
    "    return HTML(svg)\n",
    "\n",
    "# number → digit+\n",
    "drawProduction(Diagram(Start('simple', 'number'), OneOrMore('digit'))) "
   ]
  },
  {
   "cell_type": "code",
   "execution_count": 9,
   "metadata": {
    "deletable": false,
    "nbgrader": {
     "cell_type": "code",
     "checksum": "000cb2e8ac272b8ef45d9e735526fc6a",
     "grade": true,
     "grade_id": "cell-3679d19acc3c11da",
     "locked": false,
     "points": 1,
     "schema_version": 3,
     "solution": true,
     "task": false
    },
    "tags": []
   },
   "outputs": [
    {
     "data": {
      "text/html": [
       "<svg class=\"railroad-diagram\" height=\"122\" viewBox=\"0 0 372.0 122\" width=\"372.0\" xmlns=\"http://www.w3.org/2000/svg\" xmlns:xlink=\"http://www.w3.org/1999/xlink\">\n",
       "<style>/* <![CDATA[ */\n",
       "\tsvg.railroad-diagram {\n",
       "\t\tbackground-color:hsl(30,20%,95%);\n",
       "\t}\n",
       "\tsvg.railroad-diagram path {\n",
       "\t\tstroke-width:3;\n",
       "\t\tstroke:black;\n",
       "\t\tfill:rgba(0,0,0,0);\n",
       "\t}\n",
       "\tsvg.railroad-diagram text {\n",
       "\t\tfont:bold 14px monospace;\n",
       "\t\ttext-anchor:middle;\n",
       "\t}\n",
       "\tsvg.railroad-diagram text.label{\n",
       "\t\ttext-anchor:start;\n",
       "\t}\n",
       "\tsvg.railroad-diagram text.comment{\n",
       "\t\tfont:italic 12px monospace;\n",
       "\t}\n",
       "\tsvg.railroad-diagram rect{\n",
       "\t\tstroke-width:3;\n",
       "\t\tstroke:black;\n",
       "\t\tfill:hsl(120,100%,90%);\n",
       "\t}\n",
       "\tsvg.railroad-diagram rect.group-box {\n",
       "\t\tstroke: gray;\n",
       "\t\tstroke-dasharray: 10 5;\n",
       "\t\tfill: none;\n",
       "\t}\n",
       "/* ]]> */\n",
       "</style><g transform=\"translate(.5 .5)\">\n",
       "<g>\n",
       "<path d=\"M20 21v20m10 -20v20m-10 -10h95.0\" /><text style=\"text-anchor:start\" x=\"20\" y=\"16\">expression</text></g><g>\n",
       "<path d=\"M115.0 31h0.0\" /><path d=\"M223.5 31h0.0\" /><path d=\"M115.0 31h20\" /><g>\n",
       "<path d=\"M135.0 31h68.5\" /></g><path d=\"M203.5 31h20\" /><path d=\"M115.0 31a10 10 0 0 1 10 10v0a10 10 0 0 0 10 10\" /><g>\n",
       "<path d=\"M135.0 51h0.0\" /><path d=\"M203.5 51h0.0\" /><path d=\"M135.0 51h20\" /><g class=\"terminal \">\n",
       "<path d=\"M155.0 51h0.0\" /><path d=\"M183.5 51h0.0\" /><rect height=\"22\" rx=\"10\" ry=\"10\" width=\"28.5\" x=\"155\" y=\"40\"></rect><text x=\"169.25\" y=\"55\">+</text></g><path d=\"M183.5 51h20\" /><path d=\"M135.0 51a10 10 0 0 1 10 10v10a10 10 0 0 0 10 10\" /><g class=\"terminal \">\n",
       "<path d=\"M155.0 81h0.0\" /><path d=\"M183.5 81h0.0\" /><rect height=\"22\" rx=\"10\" ry=\"10\" width=\"28.5\" x=\"155\" y=\"70\"></rect><text x=\"169.25\" y=\"85\">-</text></g><path d=\"M183.5 81a10 10 0 0 0 10 -10v-10a10 10 0 0 1 10 -10\" /></g><path d=\"M203.5 51a10 10 0 0 0 10 -10v0a10 10 0 0 1 10 -10\" /></g><path d=\"M223.5 31h10\" /><g>\n",
       "<path d=\"M233.5 31h0.0\" /><path d=\"M322.0 31h0.0\" /><path d=\"M233.5 31h10\" /><g class=\"terminal \">\n",
       "<path d=\"M243.5 31h7.25\" /><path d=\"M304.75 31h7.25\" /><rect height=\"22\" rx=\"10\" ry=\"10\" width=\"54\" x=\"250.75\" y=\"20\"></rect><text x=\"277.75\" y=\"35\">term</text></g><path d=\"M312.0 31h10\" /><path d=\"M243.5 31a10 10 0 0 0 -10 10v10a10 10 0 0 0 10 10\" /><g>\n",
       "<path d=\"M243.5 61h0.0\" /><path d=\"M312.0 61h0.0\" /><path d=\"M243.5 61h20\" /><g class=\"terminal \">\n",
       "<path d=\"M263.5 61h0.0\" /><path d=\"M292.0 61h0.0\" /><rect height=\"22\" rx=\"10\" ry=\"10\" width=\"28.5\" x=\"263.5\" y=\"50\"></rect><text x=\"277.75\" y=\"65\">+</text></g><path d=\"M292.0 61h20\" /><path d=\"M243.5 61a10 10 0 0 1 10 10v10a10 10 0 0 0 10 10\" /><g class=\"terminal \">\n",
       "<path d=\"M263.5 91h0.0\" /><path d=\"M292.0 91h0.0\" /><rect height=\"22\" rx=\"10\" ry=\"10\" width=\"28.5\" x=\"263.5\" y=\"80\"></rect><text x=\"277.75\" y=\"95\">-</text></g><path d=\"M292.0 91a10 10 0 0 0 10 -10v-10a10 10 0 0 1 10 -10\" /></g><path d=\"M312.0 61a10 10 0 0 0 10 -10v-10a10 10 0 0 0 -10 -10\" /></g><path d=\"M322.0 31h10\" /><path d=\"M 332.0 31 h 20 m -10 -10 v 20 m 10 -20 v 20\"></path></g></svg>"
      ],
      "text/plain": [
       "<IPython.core.display.HTML object>"
      ]
     },
     "execution_count": 9,
     "metadata": {},
     "output_type": "execute_result"
    }
   ],
   "source": [
    "drawProduction(Diagram(Start('simple', 'expression'), Optional(Choice(0, '+', '-'), True), OneOrMore('term', Choice(0, '+', '-')))) "
   ]
  },
  {
   "cell_type": "code",
   "execution_count": 22,
   "metadata": {
    "deletable": false,
    "nbgrader": {
     "cell_type": "code",
     "checksum": "e070362a48f68de7c36d668edf7e1593",
     "grade": true,
     "grade_id": "cell-ab3f79579d0cd8ca",
     "locked": false,
     "points": 1,
     "schema_version": 3,
     "solution": true,
     "task": false
    },
    "tags": []
   },
   "outputs": [
    {
     "data": {
      "text/html": [
       "<svg class=\"railroad-diagram\" height=\"122\" viewBox=\"0 0 215.0 122\" width=\"215.0\" xmlns=\"http://www.w3.org/2000/svg\" xmlns:xlink=\"http://www.w3.org/1999/xlink\">\n",
       "<style>/* <![CDATA[ */\n",
       "\tsvg.railroad-diagram {\n",
       "\t\tbackground-color:hsl(30,20%,95%);\n",
       "\t}\n",
       "\tsvg.railroad-diagram path {\n",
       "\t\tstroke-width:3;\n",
       "\t\tstroke:black;\n",
       "\t\tfill:rgba(0,0,0,0);\n",
       "\t}\n",
       "\tsvg.railroad-diagram text {\n",
       "\t\tfont:bold 14px monospace;\n",
       "\t\ttext-anchor:middle;\n",
       "\t}\n",
       "\tsvg.railroad-diagram text.label{\n",
       "\t\ttext-anchor:start;\n",
       "\t}\n",
       "\tsvg.railroad-diagram text.comment{\n",
       "\t\tfont:italic 12px monospace;\n",
       "\t}\n",
       "\tsvg.railroad-diagram rect{\n",
       "\t\tstroke-width:3;\n",
       "\t\tstroke:black;\n",
       "\t\tfill:hsl(120,100%,90%);\n",
       "\t}\n",
       "\tsvg.railroad-diagram rect.group-box {\n",
       "\t\tstroke: gray;\n",
       "\t\tstroke-dasharray: 10 5;\n",
       "\t\tfill: none;\n",
       "\t}\n",
       "/* ]]> */\n",
       "</style><g transform=\"translate(.5 .5)\">\n",
       "<g>\n",
       "<path d=\"M20 21v20m10 -20v20m-10 -10h44.0\" /><text style=\"text-anchor:start\" x=\"20\" y=\"16\">term</text></g><path d=\"M64.0 31h10\" /><g>\n",
       "<path d=\"M74.0 31h0.0\" /><path d=\"M165.0 31h0.0\" /><path d=\"M74.0 31h10\" /><g class=\"terminal \">\n",
       "<path d=\"M84.0 31h0.0\" /><path d=\"M155.0 31h0.0\" /><rect height=\"22\" rx=\"10\" ry=\"10\" width=\"71\" x=\"84\" y=\"20\"></rect><text x=\"119.5\" y=\"35\">factor</text></g><path d=\"M155.0 31h10\" /><path d=\"M84.0 31a10 10 0 0 0 -10 10v10a10 10 0 0 0 10 10\" /><g>\n",
       "<path d=\"M84.0 61h1.25\" /><path d=\"M153.75 61h1.25\" /><path d=\"M85.25 61h20\" /><g class=\"terminal \">\n",
       "<path d=\"M105.25 61h0.0\" /><path d=\"M133.75 61h0.0\" /><rect height=\"22\" rx=\"10\" ry=\"10\" width=\"28.5\" x=\"105.25\" y=\"50\"></rect><text x=\"119.5\" y=\"65\">×</text></g><path d=\"M133.75 61h20\" /><path d=\"M85.25 61a10 10 0 0 1 10 10v10a10 10 0 0 0 10 10\" /><g class=\"terminal \">\n",
       "<path d=\"M105.25 91h0.0\" /><path d=\"M133.75 91h0.0\" /><rect height=\"22\" rx=\"10\" ry=\"10\" width=\"28.5\" x=\"105.25\" y=\"80\"></rect><text x=\"119.5\" y=\"95\">/</text></g><path d=\"M133.75 91a10 10 0 0 0 10 -10v-10a10 10 0 0 1 10 -10\" /></g><path d=\"M155.0 61a10 10 0 0 0 10 -10v-10a10 10 0 0 0 -10 -10\" /></g><path d=\"M165.0 31h10\" /><path d=\"M 175.0 31 h 20 m -10 -10 v 20 m 10 -20 v 20\"></path></g></svg>"
      ],
      "text/plain": [
       "<IPython.core.display.HTML object>"
      ]
     },
     "execution_count": 22,
     "metadata": {},
     "output_type": "execute_result"
    }
   ],
   "source": [
    "drawProduction(Diagram(Start('simple', 'term'), OneOrMore('factor', Choice(0, '×', '/'))))"
   ]
  },
  {
   "cell_type": "code",
   "execution_count": 23,
   "metadata": {
    "deletable": false,
    "nbgrader": {
     "cell_type": "code",
     "checksum": "58897b89a13dabfd266753be016bbe55",
     "grade": true,
     "grade_id": "cell-e4ad09fd9e2ec2cc",
     "locked": false,
     "points": 1,
     "schema_version": 3,
     "solution": true,
     "task": false
    },
    "tags": []
   },
   "outputs": [
    {
     "data": {
      "text/html": [
       "<svg class=\"railroad-diagram\" height=\"122\" viewBox=\"0 0 363.0 122\" width=\"363.0\" xmlns=\"http://www.w3.org/2000/svg\" xmlns:xlink=\"http://www.w3.org/1999/xlink\">\n",
       "<style>/* <![CDATA[ */\n",
       "\tsvg.railroad-diagram {\n",
       "\t\tbackground-color:hsl(30,20%,95%);\n",
       "\t}\n",
       "\tsvg.railroad-diagram path {\n",
       "\t\tstroke-width:3;\n",
       "\t\tstroke:black;\n",
       "\t\tfill:rgba(0,0,0,0);\n",
       "\t}\n",
       "\tsvg.railroad-diagram text {\n",
       "\t\tfont:bold 14px monospace;\n",
       "\t\ttext-anchor:middle;\n",
       "\t}\n",
       "\tsvg.railroad-diagram text.label{\n",
       "\t\ttext-anchor:start;\n",
       "\t}\n",
       "\tsvg.railroad-diagram text.comment{\n",
       "\t\tfont:italic 12px monospace;\n",
       "\t}\n",
       "\tsvg.railroad-diagram rect{\n",
       "\t\tstroke-width:3;\n",
       "\t\tstroke:black;\n",
       "\t\tfill:hsl(120,100%,90%);\n",
       "\t}\n",
       "\tsvg.railroad-diagram rect.group-box {\n",
       "\t\tstroke: gray;\n",
       "\t\tstroke-dasharray: 10 5;\n",
       "\t\tfill: none;\n",
       "\t}\n",
       "/* ]]> */\n",
       "</style><g transform=\"translate(.5 .5)\">\n",
       "<g>\n",
       "<path d=\"M20 51v20m10 -20v20m-10 -10h61.0\" /><text style=\"text-anchor:start\" x=\"20\" y=\"46\">factor</text></g><g>\n",
       "<path d=\"M81.0 61h0.0\" /><path d=\"M323.0 61h0.0\" /><path d=\"M81.0 61a10 10 0 0 0 10 -10v-10a10 10 0 0 1 10 -10\" /><g class=\"terminal \">\n",
       "<path d=\"M101.0 31h65.5\" /><path d=\"M237.5 31h65.5\" /><rect height=\"22\" rx=\"10\" ry=\"10\" width=\"71\" x=\"166.5\" y=\"20\"></rect><text x=\"202\" y=\"35\">number</text></g><path d=\"M303.0 31a10 10 0 0 1 10 10v10a10 10 0 0 0 10 10\" /><path d=\"M81.0 61h20\" /><g class=\"terminal \">\n",
       "<path d=\"M101.0 61h48.5\" /><path d=\"M254.5 61h48.5\" /><rect height=\"22\" rx=\"10\" ry=\"10\" width=\"105\" x=\"149.5\" y=\"50\"></rect><text x=\"202\" y=\"65\">identifier</text></g><path d=\"M303.0 61h20\" /><path d=\"M81.0 61a10 10 0 0 1 10 10v10a10 10 0 0 0 10 10\" /><g>\n",
       "<path d=\"M101.0 91h0.0\" /><path d=\"M303.0 91h0.0\" /><g class=\"terminal \">\n",
       "<path d=\"M101.0 91h0.0\" /><path d=\"M129.5 91h0.0\" /><rect height=\"22\" rx=\"10\" ry=\"10\" width=\"28.5\" x=\"101\" y=\"80\"></rect><text x=\"115.25\" y=\"95\">(</text></g><path d=\"M129.5 91h10\" /><path d=\"M139.5 91h10\" /><g class=\"terminal \">\n",
       "<path d=\"M149.5 91h0.0\" /><path d=\"M254.5 91h0.0\" /><rect height=\"22\" rx=\"10\" ry=\"10\" width=\"105\" x=\"149.5\" y=\"80\"></rect><text x=\"202\" y=\"95\">expression</text></g><path d=\"M254.5 91h10\" /><path d=\"M264.5 91h10\" /><g class=\"terminal \">\n",
       "<path d=\"M274.5 91h0.0\" /><path d=\"M303.0 91h0.0\" /><rect height=\"22\" rx=\"10\" ry=\"10\" width=\"28.5\" x=\"274.5\" y=\"80\"></rect><text x=\"288.75\" y=\"95\">)</text></g></g><path d=\"M303.0 91a10 10 0 0 0 10 -10v-10a10 10 0 0 1 10 -10\" /></g><path d=\"M 323.0 61 h 20 m -10 -10 v 20 m 10 -20 v 20\"></path></g></svg>"
      ],
      "text/plain": [
       "<IPython.core.display.HTML object>"
      ]
     },
     "execution_count": 23,
     "metadata": {},
     "output_type": "execute_result"
    }
   ],
   "source": [
    "drawProduction(Diagram(Start('simple', 'factor'), Choice(1, 'number', 'identifier', Sequence('(', 'expression', ')'))))"
   ]
  },
  {
   "cell_type": "markdown",
   "metadata": {
    "tags": []
   },
   "source": [
    "#### Part 3"
   ]
  },
  {
   "cell_type": "markdown",
   "metadata": {
    "tags": []
   },
   "source": [
    "Use the railroad diagram generator RR to draw the syntax diagram! You can either use the website http://bottlecaps.de/rr/ui or run RR locally (you cannot run it on JupyterHub). To run RR locally:\n",
    "\n",
    "1. Download the file `rr-2.2-SNAPSHOT-java11.zip` from the directory of this notebook to your computer.\n",
    "2. Unzip the downloaded file on your computer.\n",
    "3. Run `java -jar rr.war -gui` inside the unzipped folder. That should print the message `Now listening on http://localhost:8080/`.\n",
    "4. Open `http://localhost:8080/` in your web browser.\n",
    "\n",
    "Note that RR uses a W3C standard for EBNF. Insert the grammar and the generated SVG or PNG diagrams in the cell below. [2 points]"
   ]
  },
  {
   "attachments": {},
   "cell_type": "markdown",
   "metadata": {
    "deletable": false,
    "nbgrader": {
     "cell_type": "markdown",
     "checksum": "2e59e336173a2ea39c42ba3c510c548e",
     "grade": true,
     "grade_id": "cell-6cc348b8bde1b0d0",
     "locked": false,
     "points": 2,
     "schema_version": 3,
     "solution": true,
     "task": false
    },
    "tags": []
   },
   "source": [
    "__Grammar__:\n",
    "\n",
    "    expression ::= ( '+' | '–' )? term ( ( '+' | '-' ) term )*  \n",
    "    term ::= factor ( ( '×' | '/' ) factor )*  \n",
    "    factor ::= ( number | identifier | '(' expression ')' )\n",
    "    \n",
    "__Syntax diagram__:\n",
    "\n",
    "expression:  \n",
    "<img style=\"width:20em\" src=\"./expression.svg\">  \n",
    "\n",
    "term:  \n",
    "<img style=\"width:15em\" src=\"./term.svg\">  \n",
    "\n",
    "factor:  \n",
    "<img style=\"width:20em\" src=\"./factor.svg\">"
   ]
  },
  {
   "cell_type": "code",
   "execution_count": null,
   "metadata": {},
   "outputs": [],
   "source": []
  }
 ],
 "metadata": {
  "kernelspec": {
   "display_name": "Python 3 (ipykernel)",
   "language": "python",
   "name": "python3"
  },
  "language_info": {
   "codemirror_mode": {
    "name": "ipython",
    "version": 3
   },
   "file_extension": ".py",
   "mimetype": "text/x-python",
   "name": "python",
   "nbconvert_exporter": "python",
   "pygments_lexer": "ipython3",
   "version": "3.11.1"
  }
 },
 "nbformat": 4,
 "nbformat_minor": 4
}
