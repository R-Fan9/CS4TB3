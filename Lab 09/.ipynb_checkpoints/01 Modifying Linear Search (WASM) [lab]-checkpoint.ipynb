{
 "cells": [
  {
   "cell_type": "markdown",
   "metadata": {
    "nbgrader": {
     "grade": false,
     "grade_id": "cell-15757005c1003e38",
     "locked": true,
     "schema_version": 3,
     "solution": false,
     "task": false
    }
   },
   "source": [
    "#### Modifying Linear Search (WASM)"
   ]
  },
  {
   "cell_type": "code",
   "execution_count": 1,
   "metadata": {},
   "outputs": [],
   "source": [
    "def runwasm(wasmfile):\n",
    "    from IPython.display import display, Javascript\n",
    "    display(Javascript(\"\"\"\n",
    "    const params = {\n",
    "        P0lib: {\n",
    "            write: i => element.append(i + ' '),\n",
    "            writeln: () => element.append(document.createElement('br')),\n",
    "            read: () => window.prompt()\n",
    "        }\n",
    "    }\n",
    "    \n",
    "    var wasmByteString = \\\"\"\"\" + str(open(wasmfile, \"rb\").read()) + \"\"\"\\\"; // pass the wasm file to JavaScript as byte string\n",
    "    wasmByteString = wasmByteString.substring(2, wasmByteString.length - 1); // remove the byte literals b'...'\n",
    "    const wasmArrayBuffer = new Uint8Array(wasmByteString.length); // convert the binary string to ArrayBuffer\n",
    "    for (let i = 0; i < wasmByteString.length; i++)\n",
    "      wasmArrayBuffer[i] = wasmByteString.charCodeAt(i);\n",
    "    \n",
    "    WebAssembly.compile(wasmArrayBuffer.buffer) // compile (sharable) code\n",
    "        .then(module => WebAssembly.instantiate(module, params)) // create an instance with memory\n",
    "        // .then(instance => instance.exports.program()); // run the main program; not needed if a start function is specified\n",
    "     \"\"\"))"
   ]
  },
  {
   "cell_type": "code",
   "execution_count": 2,
   "metadata": {
    "slideshow": {
     "slide_type": "-"
    }
   },
   "outputs": [],
   "source": [
    "def runpywasm(wasmfile):\n",
    "    import pywasm\n",
    "    def write(s, i): print(i, end=' ')\n",
    "    def writeln(s): print()\n",
    "    def read(s): return int(input())\n",
    "    vm = pywasm.load(wasmfile, {'P0lib': {'write': write, 'writeln': writeln, 'read': read}})"
   ]
  },
  {
   "cell_type": "code",
   "execution_count": 3,
   "metadata": {},
   "outputs": [],
   "source": [
    "from wasmer import engine, Store, Module, Instance, ImportObject, Function\n",
    "from wasmer_compiler_cranelift import Compiler\n",
    "\n",
    "def runwasmer(wasmfile):\n",
    "    def write(i: int): print(i, end=' ')\n",
    "    def writeln(): print()\n",
    "    def read() -> int: return int(input()) \n",
    "    store = Store(engine.JIT(Compiler))\n",
    "    module = Module(store, open(wasmfile, 'rb').read())\n",
    "    import_object = ImportObject()\n",
    "    import_object.register(\"P0lib\", {\"write\": Function(store, write),\n",
    "                                     \"writeln\": Function(store, writeln),\"read\": Function(store, read)})\n",
    "    instance = Instance(module, import_object)"
   ]
  },
  {
   "cell_type": "markdown",
   "metadata": {},
   "source": [
    "---"
   ]
  },
  {
   "cell_type": "markdown",
   "metadata": {},
   "source": [
    "Compile the P0 program below by running the next two cells:"
   ]
  },
  {
   "cell_type": "code",
   "execution_count": 4,
   "metadata": {},
   "outputs": [],
   "source": [
    "import nbimporter; nbimporter.options[\"only_defs\"] = False\n",
    "from P0 import compileString"
   ]
  },
  {
   "cell_type": "code",
   "execution_count": 5,
   "metadata": {},
   "outputs": [],
   "source": [
    "compileString(\"\"\"\n",
    "const N = 5\n",
    "var a: [1 .. N] → integer\n",
    "program linearsearch\n",
    "    var i, x: integer\n",
    "        x ← read(); i := 0 // read number to be searched\n",
    "        while i < N do i := i + 1; a[i] ← read()  // read array elements\n",
    "        while (i > 0) and (a[i] ≠ x) do i := i - 1\n",
    "        writeln(); write(i) // write index of last occurrence of x or 0 if not found\n",
    "\"\"\", 'linearsearch.wat')"
   ]
  },
  {
   "cell_type": "markdown",
   "metadata": {
    "nbgrader": {
     "grade": false,
     "grade_id": "cell-4c782353ca263eab",
     "locked": true,
     "schema_version": 3,
     "solution": false,
     "task": false
    }
   },
   "source": [
    " You can convert `linearsearch.wat` to a binary file and run it using one of the three methods above for running WebAssembly in Jupyter:"
   ]
  },
  {
   "cell_type": "code",
   "execution_count": 6,
   "metadata": {},
   "outputs": [],
   "source": [
    "!wat2wasm linearsearch.wat"
   ]
  },
  {
   "cell_type": "code",
   "execution_count": 7,
   "metadata": {},
   "outputs": [
    {
     "data": {
      "application/javascript": [
       "\n",
       "    const params = {\n",
       "        P0lib: {\n",
       "            write: i => element.append(i + ' '),\n",
       "            writeln: () => element.append(document.createElement('br')),\n",
       "            read: () => window.prompt()\n",
       "        }\n",
       "    }\n",
       "    \n",
       "    var wasmByteString = \"b'\\x00asm\\x01\\x00\\x00\\x00\\x01\\x0c\\x03`\\x01\\x7f\\x00`\\x00\\x00`\\x00\\x01\\x7f\\x02,\\x03\\x05P0lib\\x05write\\x00\\x00\\x05P0lib\\x07writeln\\x00\\x01\\x05P0lib\\x04read\\x00\\x02\\x03\\x02\\x01\\x01\\x05\\x03\\x01\\x00\\x01\\x06\\x06\\x01\\x7f\\x01A\\x14\\x0b\\x08\\x01\\x03\\nc\\x01a\\x01\\x03\\x7f\\x10\\x02!\\x01A\\x00!\\x00\\x03@ \\x00A\\x05H\\x04@ \\x00A\\x01j!\\x00 \\x00A\\x01kA\\x04lA\\x00j\\x10\\x026\\x02\\x00\\x0c\\x01\\x0b\\x0b\\x03@ \\x00A\\x00J\\x04\\x7f \\x00A\\x01kA\\x04lA\\x00j(\\x02\\x00 \\x01G\\x05A\\x00\\x0b\\x04@ \\x00A\\x01k!\\x00\\x0c\\x01\\x0b\\x0b\\x10\\x01 \\x00\\x10\\x00\\x0b'\"; // pass the wasm file to JavaScript as byte string\n",
       "    wasmByteString = wasmByteString.substring(2, wasmByteString.length - 1); // remove the byte literals b'...'\n",
       "    const wasmArrayBuffer = new Uint8Array(wasmByteString.length); // convert the binary string to ArrayBuffer\n",
       "    for (let i = 0; i < wasmByteString.length; i++)\n",
       "      wasmArrayBuffer[i] = wasmByteString.charCodeAt(i);\n",
       "    \n",
       "    WebAssembly.compile(wasmArrayBuffer.buffer) // compile (sharable) code\n",
       "        .then(module => WebAssembly.instantiate(module, params)) // create an instance with memory\n",
       "        // .then(instance => instance.exports.program()); // run the main program; not needed if a start function is specified\n",
       "     "
      ],
      "text/plain": [
       "<IPython.core.display.Javascript object>"
      ]
     },
     "metadata": {},
     "output_type": "display_data"
    }
   ],
   "source": [
    "runwasm(\"linearsearch.wasm\")"
   ]
  },
  {
   "cell_type": "code",
   "execution_count": null,
   "metadata": {},
   "outputs": [],
   "source": [
    "runpywasm(\"linearsearch.wasm\")"
   ]
  },
  {
   "cell_type": "code",
   "execution_count": null,
   "metadata": {},
   "outputs": [],
   "source": [
    "runwasmer(\"linearsearch.wasm\")"
   ]
  },
  {
   "cell_type": "markdown",
   "metadata": {
    "nbgrader": {
     "grade": false,
     "grade_id": "cell-7486526ca4310a3b",
     "locked": true,
     "schema_version": 3,
     "solution": false,
     "task": false
    }
   },
   "source": [
    "Now inspect the generated code by running the cell below or leaving out the last parameter of `compileString` and using `print` to print the resulting string. Explain the role of each line!"
   ]
  },
  {
   "cell_type": "code",
   "execution_count": 8,
   "metadata": {
    "scrolled": true
   },
   "outputs": [
    {
     "name": "stdout",
     "output_type": "stream",
     "text": [
      "(module\n",
      "(import \"P0lib\" \"write\" (func $write (param i32)))\n",
      "(import \"P0lib\" \"writeln\" (func $writeln))\n",
      "(import \"P0lib\" \"read\" (func $read (result i32)))\n",
      "(global $_memsize (mut i32) i32.const 20)\n",
      "(func $program\n",
      "(local $i i32)\n",
      "(local $x i32)\n",
      "(local $0 i32)\n",
      "call $read\n",
      "local.set $x\n",
      "i32.const 0\n",
      "local.set $i\n",
      "loop\n",
      "local.get $i\n",
      "i32.const 5\n",
      "i32.lt_s\n",
      "if\n",
      "local.get $i\n",
      "i32.const 1\n",
      "i32.add\n",
      "local.set $i\n",
      "local.get $i\n",
      "i32.const 1\n",
      "i32.sub\n",
      "i32.const 4\n",
      "i32.mul\n",
      "i32.const 0\n",
      "i32.add\n",
      "call $read\n",
      "i32.store\n",
      "br 1\n",
      "end\n",
      "end\n",
      "loop\n",
      "local.get $i\n",
      "i32.const 0\n",
      "i32.gt_s\n",
      "if (result i32)\n",
      "local.get $i\n",
      "i32.const 1\n",
      "i32.sub\n",
      "i32.const 4\n",
      "i32.mul\n",
      "i32.const 0\n",
      "i32.add\n",
      "i32.load\n",
      "local.get $x\n",
      "i32.ne\n",
      "else\n",
      "i32.const 0\n",
      "end\n",
      "if\n",
      "local.get $i\n",
      "i32.const 1\n",
      "i32.sub\n",
      "local.set $i\n",
      "br 1\n",
      "end\n",
      "end\n",
      "call $writeln\n",
      "local.get $i\n",
      "call $write\n",
      ")\n",
      "(memory 1)\n",
      "(start $program)\n",
      ")"
     ]
    }
   ],
   "source": [
    "!cat linearsearch.wat"
   ]
  },
  {
   "cell_type": "markdown",
   "metadata": {},
   "source": [
    "(module\n",
    "(import \"P0lib\" \"write\" (func $write (param i32)))\n",
    "(import \"P0lib\" \"writeln\" (func $writeln))\n",
    "(import \"P0lib\" \"read\" (func $read (result i32)))\n",
    "(global $_memsize (mut i32) i32.const 20)\n",
    "(func $program\n",
    "(local $i i32)\n",
    "(local $x i32)\n",
    "(local $0 i32)\n",
    "\n",
    "; x ← read()\n",
    "call $read        \n",
    "local.set $x\n",
    "\n",
    "i := 0\n",
    "i32.const 0\n",
    "local.set $i\n",
    "\n",
    "\n",
    "loop\n",
    "\n",
    "; checks i < 5\n",
    "local.get $i\n",
    "i32.const 5\n",
    "i32.lt_s\n",
    "\n",
    "if\n",
    "\n",
    "i := i + 1\n",
    "local.get $i\n",
    "i32.const 1\n",
    "i32.add\n",
    "local.set $i\n",
    "\n",
    "; (i - 1) * 4 + 0, calculates the memeory address given index i - a[i]\n",
    "local.get $i\n",
    "i32.const 1\n",
    "i32.sub\n",
    "i32.const 4\n",
    "i32.mul\n",
    "i32.const 0\n",
    "i32.add\n",
    "\n",
    "; reads the input, and stores the input value to the memory address calculated previously\n",
    "call $read\n",
    "i32.store\n",
    "\n",
    "; jumps to the second closest enclosing block\n",
    "br 1\n",
    "end\n",
    "end\n",
    "\n",
    "loop\n",
    "\n",
    "; i > 0\n",
    "local.get $i\n",
    "i32.const 0\n",
    "i32.gt_s\n",
    "if (result i32)\n",
    "\n",
    "; (i - 1) * 4 + 0, calculates the memory address given index i - a[i]\n",
    "local.get $i\n",
    "i32.const 1\n",
    "i32.sub\n",
    "i32.const 4\n",
    "i32.mul\n",
    "i32.const 0\n",
    "i32.add\n",
    "\n",
    "; load the value from the memory address calculated previously\n",
    "; and compare it with x\n",
    "i32.load\n",
    "local.get $x\n",
    "i32.ne\n",
    "else\n",
    "i32.const 0 ;; \n",
    "end\n",
    "\n",
    "if\n",
    "local.get $i\n",
    "i32.const 1\n",
    "i32.sub\n",
    "local.set $i ; i := i - 1\n",
    "br 1\n",
    "end\n",
    "end\n",
    "call $writeln ; writeln()\n",
    "local.get $i\n",
    "call $write   ; write(i)\n",
    ")\n",
    "(memory 1)    ; set up memory\n",
    "(start $program)  ; call program\n",
    ")"
   ]
  },
  {
   "cell_type": "markdown",
   "metadata": {
    "nbgrader": {
     "grade": false,
     "grade_id": "cell-a2459bd41126cb38",
     "locked": true,
     "schema_version": 3,
     "solution": false,
     "task": false
    }
   },
   "source": [
    "Perform the following modifications of the above program; it is repeated below:\n",
    "\n",
    "1. Make variables `i` and `x` global rather than local to the main program. What changes do you observe in the generated code?\n",
    "2. Make array `a` a local variable of the main program. What changes do you observe in the generated code?\n",
    "3. Make constant `N` a local constant of the main program. What changes do you observe in the generated code?"
   ]
  },
  {
   "cell_type": "code",
   "execution_count": 15,
   "metadata": {},
   "outputs": [
    {
     "name": "stdout",
     "output_type": "stream",
     "text": [
      "(module\n",
      "(import \"P0lib\" \"write\" (func $write (param i32)))\n",
      "(import \"P0lib\" \"writeln\" (func $writeln))\n",
      "(import \"P0lib\" \"read\" (func $read (result i32)))\n",
      "(global $i (mut i32) i32.const 0)\n",
      "(global $x (mut i32) i32.const 0)\n",
      "(global $_memsize (mut i32) i32.const 0)\n",
      "(func $program\n",
      "(local $a i32)\n",
      "(local $0 i32)\n",
      "(local $_fp i32)\n",
      "global.get $_memsize\n",
      "local.set $_fp\n",
      "global.get $_memsize\n",
      "i32.const 20\n",
      "i32.add\n",
      "local.tee $a\n",
      "global.set $_memsize\n",
      "call $read\n",
      "global.set $x\n",
      "i32.const 0\n",
      "global.set $i\n",
      "loop\n",
      "global.get $i\n",
      "i32.const 5\n",
      "i32.lt_s\n",
      "if\n",
      "global.get $i\n",
      "i32.const 1\n",
      "i32.add\n",
      "global.set $i\n",
      "global.get $i\n",
      "i32.const 1\n",
      "i32.sub\n",
      "i32.const 4\n",
      "i32.mul\n",
      "local.get $a\n",
      "i32.add\n",
      "call $read\n",
      "i32.store\n",
      "br 1\n",
      "end\n",
      "end\n",
      "loop\n",
      "global.get $i\n",
      "i32.const 0\n",
      "i32.gt_s\n",
      "if (result i32)\n",
      "global.get $i\n",
      "i32.const 1\n",
      "i32.sub\n",
      "i32.const 4\n",
      "i32.mul\n",
      "local.get $a\n",
      "i32.add\n",
      "i32.load\n",
      "global.get $x\n",
      "i32.ne\n",
      "else\n",
      "i32.const 0\n",
      "end\n",
      "if\n",
      "global.get $i\n",
      "i32.const 1\n",
      "i32.sub\n",
      "global.set $i\n",
      "br 1\n",
      "end\n",
      "end\n",
      "call $writeln\n",
      "global.get $i\n",
      "call $write\n",
      "local.get $_fp\n",
      "global.set $_memsize\n",
      ")\n",
      "(memory 1)\n",
      "(start $program)\n",
      ")\n"
     ]
    }
   ],
   "source": [
    "wasm = compileString(\"\"\"\n",
    "var i, x: integer\n",
    "program linearsearch\n",
    "    const N = 5\n",
    "    var a: [1 .. N] → integer\n",
    "        x ← read(); i := 0 // read number to be searched\n",
    "        while i < N do i := i + 1; a[i] ← read()  // read array elements\n",
    "        while (i > 0) and (a[i] ≠ x) do i := i - 1\n",
    "        writeln(); write(i) // write index of last occurrence of x or 0 if not found\n",
    "\"\"\")\n",
    "print(wasm)"
   ]
  },
  {
   "cell_type": "markdown",
   "metadata": {},
   "source": [
    "Your answer here."
   ]
  }
 ],
 "metadata": {
  "celltoolbar": "Create Assignment",
  "kernelspec": {
   "display_name": "Python 3 (ipykernel)",
   "language": "python",
   "name": "python3"
  },
  "language_info": {
   "codemirror_mode": {
    "name": "ipython",
    "version": 3
   },
   "file_extension": ".py",
   "mimetype": "text/x-python",
   "name": "python",
   "nbconvert_exporter": "python",
   "pygments_lexer": "ipython3",
   "version": "3.11.1"
  }
 },
 "nbformat": 4,
 "nbformat_minor": 4
}
