{
 "cells": [
  {
   "cell_type": "markdown",
   "metadata": {
    "slideshow": {
     "slide_type": "slide"
    }
   },
   "source": [
    "---\n",
    "\n",
    "# 7. Further Data Types and Control Structures\n",
    "**[Emil Sekerinski](http://www.cas.mcmaster.ca/~emil/), McMaster University, March 2024**\n",
    "\n",
    "---"
   ]
  },
  {
   "cell_type": "markdown",
   "metadata": {
    "slideshow": {
     "slide_type": "slide"
    }
   },
   "source": [
    "### Floating-Point Numbers"
   ]
  },
  {
   "cell_type": "markdown",
   "metadata": {
    "slideshow": {
     "slide_type": "-"
    }
   },
   "source": [
    "The *floating point representation* of a real number `x` is an approximation by a triple with *sign* `s`, *exponent* `e`, and *mantissa* `m` such that\n",
    "\n",
    "  <code>x = (–1)<sup>s</sup> × B<sup>e–w</sup> × 1.m</code> where `1 ≤ 1.m < B`\n",
    "\n",
    "The *base* `B` and *bias* `w` are fixed. The IEEE standard 754 standard specifies:\n",
    "\n",
    "| Precision | `B`  | `w`              |Sign bits|Exponent bits|Mantissa bits|Total bits|\n",
    "|:----------|:-----|:-----------------|:--------|:------------|:------------|:---------|\n",
    "| Half      | 2    | 15 = 2⁴ - 2      | 1       | 5           | 10          | 16       |\n",
    "| Single    | 2    | 127 = 2⁷ - 1     | 1       | 8           | 23          | 32       |\n",
    "| Double    | 2    | 1023 = 2¹⁰ - 1   | 1       | 11          | 52          | 64       |\n",
    "| Quadruple | 2    | 16383 = 2¹⁴ - 1  | 1       | 15          | 112         | 128      |\n",
    "| Octuple   | 2    | 262143 = 2¹⁸ - 1 | 1       | 19          | 236         | 256      |"
   ]
  },
  {
   "cell_type": "markdown",
   "metadata": {
    "slideshow": {
     "slide_type": "slide"
    }
   },
   "source": [
    "The following table gives some decimal numbers and their floating-point representation with single precision:\n",
    "\n",
    "|Decimal | `s` | `e`   | `1.m`  | Binary                               |\n",
    "|:-------|:----|:------|:-------|:-------------------------------------|\n",
    "| `1.0`  | `0` | `127` | `1.0`  | `0 01111111 00000000000000000000000` |\n",
    "| `0.5`  | `0` | `126` | `1.0`  | `0 01111110 00000000000000000000000` |\n",
    "| `2.0`  | `0` | `128` | `1.0`  | `0 10000000 00000000000000000000000` |\n",
    "| `10.0` | `0` | `130` | `1.25` | `0 10000010 01000000000000000000000` |\n",
    "| `0.1`  | `0` | `123` | `1.6`  | `0 01111011 10011001100110011001101` |\n",
    "| `-1.5` | `1` | `127` | `1.5`  | `0 01111111 10000000000000000000000` |\n",
    "\n",
    "The value `0` is a special case, represented by all bits being `0`. Floating-point numbers with all bits of `e` being `1` represent `∞` if `m = 0` or `NaN` (not a number) if `m ≠ 0`."
   ]
  },
  {
   "cell_type": "markdown",
   "metadata": {
    "slideshow": {
     "slide_type": "slide"
    }
   },
   "source": [
    "Programming languages offer *signed* and *unsigned integers* and integers of various lengths (short, normal, long). For example, assume `a` is a 4-byte integer, `b` an 8-byte integer, and `f` a single float, and assume each is supported by different machine instructions. Consider:\n",
    "\n",
    "    b := b + a        f := a + f        a := b        a := f"
   ]
  },
  {
   "cell_type": "markdown",
   "metadata": {
    "slideshow": {
     "slide_type": "slide"
    }
   },
   "source": [
    "For the *compatibility* between numeric types, several options exist:\n",
    "- Operands of arithmetic operators and both sides of assignments must be the same type. If needed, conversion functions must be explicitly written, as they affect efficiency.\n",
    "Operands of arithmetic operators must be of the same type, but implicit conversions may take place on assignment.\n",
    "- Operands of arithmetic operators may be of mixed integer type (short, normal, long) or mixed floating-point type, but not mixed integer and floating-point type, since e.g. converting a short integer to a long integer involves only a sign extension.\n",
    "- For convenience, integer and floating-point expressions may be freely mixed."
   ]
  },
  {
   "cell_type": "markdown",
   "metadata": {
    "slideshow": {
     "slide_type": "slide"
    }
   },
   "source": [
    "For conversions, the options are:\n",
    "- Implicit conversions take only place from “smaller” to “larger” types. Hence, a notion of *type inclusion* in underlying:\n",
    "\n",
    "      2-byte integer ⊆ 4-byte integer ⊆ single float\n",
    "\n",
    "- Implicit conversions take place from any numeric type to any other numeric type, with a check whether the result fits in the destination.\n",
    "\n",
    "For mixed expressions, the options are:\n",
    "- The precision of an operator is the larger precision of the operands.\n",
    "- The precision of an operator is the largest possible precision; if needed, the result is converted to smaller precision on assignment.\n",
    "- The precision of an operator is the precision of the result (left-hand side of an assignment)."
   ]
  },
  {
   "cell_type": "markdown",
   "metadata": {
    "slideshow": {
     "slide_type": "slide"
    }
   },
   "source": [
    "### Floating-Point Number in WebAssembly"
   ]
  },
  {
   "cell_type": "markdown",
   "metadata": {},
   "source": [
    "WebAssembly supports single-precision and double-precision floating-point numbers with identical instructions. The grammar extensions for single precision numbers are:\n",
    "\n",
    "```EBNF\n",
    "float ::= num '.' [num] [('E' | 'e') ['+' | '-'] num]\n",
    "```\n",
    "\n",
    "```EBNF\n",
    "num_type ::= ... | \"f32\" | \"f64\"\n",
    "```\n",
    "\n",
    "```EBNF\n",
    "instr ::= ... |\n",
    "          \"f32.const\" float | \"f64.const\" float |\n",
    "          \"f32.add\" | \"f64.add\" | \"f32.sub\" | \"f64.sub\" |\n",
    "          \"f32.mul\" | \"f64.mul\" | \"f32.div\" | \"f64.div\" |\n",
    "          \"f32.sqrt\" | \"f64.sqrt\" |\n",
    "          \"f32.min\" | \"f64.min\" | \"f32.max\" | \"f64.max\" |\n",
    "          \"f32.ceil\" | \"f64.ceil\" | \"f32.floor\" | \"f64.floor\" |\n",
    "          \"f32.abs\" | \"f64.abs\" | \"f32.neg\" | \"f64.neg\" |\n",
    "          \"f32.eq\" | \"f64.eq\" | \"f32.ne\" | \"f64.ne\" |\n",
    "          \"f32.lt\" | \"f64.lt\" | \"f32.le\" | \"f64.le\" |\n",
    "          \"f32.gt\" | \"f64.gt\" | \"f32.ge\" | \"f64.ge\" |\n",
    "          \"i32.trunc_f32_s\" | \"i64.trunc_f64_s\" | \"f32.convert_i32_s\" | \"f64.convert_i64_s\" |\n",
    "          \"f32.load\" \"offset\" \"=\" num | \"f64.load\" \"offset\" \"=\" num |\n",
    "          \"f32.store\" \"offset\" \"=\" num | \"f64.store\" \"offset\" \"=\" num\n",
    "```\n",
    "\n",
    "The instructions `i32.trunc_f32_s` and `i64.trunc_f64_s` pop a floating-point number from the stack and push the integer obtained by truncation on the stack. The instructions `f32.convert_i64_s` and `f32.convert_i64_s` pop an integer from the stack and push the converted floating-point value on the stack."
   ]
  },
  {
   "cell_type": "markdown",
   "metadata": {
    "slideshow": {
     "slide_type": "slide"
    }
   },
   "source": [
    "### Sets"
   ]
  },
  {
   "cell_type": "markdown",
   "metadata": {},
   "source": [
    "Sets can be defined as boolean-value functions, `set U = U → boolean`. For `x: set U`, membership tests whether `x` maps to `true`, formally `e ∈ x = x(e)`. Small sets `set [l .. u]` of subranges can be implemented compactly by *bitsets*. For example, a 32-bit word can represent sets with elements `0` to `31`. Thus the set `{3, 6}` is represented by:\n",
    "\n",
    "    00000000 00000000 00000000 01001000  {3, 6}: set([0..42])\n",
    "    00000000 00000000 00000000 00101000  {3, 5}\n",
    "    00000000 00000000 00000000 00001000  {3}\n",
    "\n",
    "- For the union `s ∪ t`, intersection `s ∩ t`, and complement `∁s` of sets `s` and `t`, the bitwise or, bitwise and, and bitwise complement of their representations is taken.\n",
    "- For the membership test `x ∈ s`, binary `1` is shifted `x` positions to the left followed by a bitwise and with `s`. The result is `0` if `x ∉ s`, otherwise not `0`.\n",
    "\n",
    "If `w` is the word size, `T = set U` where `U = [l .. u]` is a subrange with `n = u – l + 1` elements is represented by `n` bits stored in `⎡n / w⎤` words."
   ]
  },
  {
   "cell_type": "markdown",
   "metadata": {
    "slideshow": {
     "slide_type": "slide"
    }
   },
   "source": [
    "### Bit Operations and \"tee\" in WebAssembly"
   ]
  },
  {
   "cell_type": "markdown",
   "metadata": {
    "slideshow": {
     "slide_type": "-"
    }
   },
   "source": [
    "The additional WebAssembly instructions are:\n",
    "\n",
    "```EBNF\n",
    "instr ::= ... | \n",
    "          \"i32.popcnt\" | \"i64.popcnt\" |\n",
    "          \"i32.and\" | \"i64.and\" | \"i32.or\" | \"i64.or\" | \"i32.xor\" | \"i64.xor\" |\n",
    "          \"i32.shl\" | \"i64.shl\" |\n",
    "          \"local.tee\" name\n",
    "```"
   ]
  },
  {
   "cell_type": "markdown",
   "metadata": {
    "slideshow": {
     "slide_type": "-"
    }
   },
   "source": [
    "The unary operator `#` stands for the number of `1` bits in a word; binary operators `&`, `|`, `^`, `~`, `<<`, stand for the bitwise and, bitwise of, bitwise exclusive or, bitwise complement, and shift left. Identical instructions exist for 32-bit and 64-bit words. The `tee` instruction duplicates the top of the stack to the specified local variable:\n",
    "\n",
    "| instruction     | effect                                            | trap condition   |\n",
    "|:----------------|:--------------------------------------------------|:-|\n",
    "| `i32/64.popcnt` | `s[sp - 1] := #s[sp - 1]`                         |  |\n",
    "| `i32/64.and`    | `s[sp - 2], sp := s[sp - 2] & s[sp - 1], sp - 1`   |  |\n",
    "| `i32/64.or`     | `s[sp - 2], sp := s[sp - 2] \\| s[sp - 1], sp - 1`  |  |\n",
    "| `i32/64.xor`    | `s[sp - 2], sp := s[sp - 2] ^ s[sp - 1], sp - 1`   |  |\n",
    "| `i32/64.shl`    | `s[sp - 2], sp := s[sp - 2] << s[sp - 1], sp - 1`  |  |\n",
    "| `local.tee x`   | `s[loc(x)] := s[sp - 1]`                           |  |"
   ]
  },
  {
   "cell_type": "markdown",
   "metadata": {
    "slideshow": {
     "slide_type": "slide"
    }
   },
   "source": [
    "### Translation Scheme for Sets to WebAssembly"
   ]
  },
  {
   "cell_type": "markdown",
   "metadata": {},
   "source": [
    "<div style=\"float:right;margin-left:2em\">\n",
    "\n",
    "```\n",
    "(func $program\n",
    "(local $s i32)\n",
    "(local $i i32)\n",
    "(local $b i32)\n",
    "(local $0 i32)\n",
    "i32.const 0   ;; {}\n",
    "i32.const 3   ;; 3\n",
    "local.set $i\n",
    "local.set $s\n",
    "local.get $i\n",
    "local.set $0\n",
    "i32.const 1\n",
    "local.get $0\n",
    "i32.shl\n",
    "local.get $s\n",
    "i32.or\n",
    "local.set $s\n",
    "local.get $s\n",
    "i32.const 0x7fe   ;; {1, 2, …, 10}\n",
    "i32.xor\n",
    "local.set $s\n",
    "local.get $i\n",
    "local.set $0\n",
    "i32.const 1\n",
    "local.get $0\n",
    "i32.shl\n",
    "i32.const 5   ;; 5\n",
    "local.set $0\n",
    "i32.const 1\n",
    "local.get $0\n",
    "i32.shl\n",
    "i32.or\n",
    "local.tee $0\n",
    "local.get $0\n",
    "local.get $s\n",
    "i32.and\n",
    "i32.eq\n",
    "local.set $b\n",
    "local.get $s\n",
    "i32.popcnt\n",
    "local.set $i\n",
    ")\n",
    "```\n",
    "\n",
    "</div>\n",
    "\n",
    "Sets of type `set U` with `U = [l .. u]` and `0 ≤ l ≤ u < 32` are stored in a single `i32` word:\n",
    "\n",
    "```\n",
    "type S = set [1..10]\n",
    "program p\n",
    "    var s: S\n",
    "    var i: integer\n",
    "    var b: boolean\n",
    "        s, i := {}, 3\n",
    "        s := {i} ∪ s\n",
    "        s := ∁s\n",
    "        b := {i, 5} ⊆ s\n",
    "        i := #s\n",
    "```\n",
    "\n",
    "<!-- Sets are stored as a sequence of `i32` words in memory. For `T = set(U)` with `U = [l .. u]` the number of elements is `n = u - l + 1` and the size in bytes is:\n",
    "\n",
    "    size(T) =  ⎡n / 32⎤ × 4\n",
    "    \n",
    "Sets are allocated consecutively in memory: -->"
   ]
  },
  {
   "cell_type": "markdown",
   "metadata": {
    "slideshow": {
     "slide_type": "slide"
    }
   },
   "source": [
    "The translation scheme for set declarations is:\n",
    "\n",
    "| D                | code(D)                             |                        |\n",
    "|:-----------------|:------------------------------------|:-----------------------|\n",
    "| `var x: set U`  | `(local $x i32)`                    | for local declaration  |\n",
    "| `var x: set U`  | `(global $x (mut i32) i32.const 0)` | for global declaration |"
   ]
  },
  {
   "cell_type": "markdown",
   "metadata": {
    "slideshow": {
     "slide_type": "slide"
    }
   },
   "source": [
    "The translation scheme for procedure declarations is extended to declare an auxiliary local variable, `$0`:\n",
    "\n",
    "| D                 | code(D)                             |                        |\n",
    "|:------------------|:------------------------------------|:-----------------------|\n",
    "| `procedure p(v₁: T₁, … , vₙ: Tₙ) → (r₁: U₁, … , rₘ: Uₘ)` <br> `D` <br> `S` | `(func $p (param $v₁ i32) … (param $vₙ i32)` <br> `(result i32) … (result i32)` <br> `(local $r₁ i32)` <br> `…` <br> `(local $rₘ i32)` <br> `(local $0 i32)` <br> `code(D)` <br> `code(S)` <br> `local.get $r₁` <br> `…` <br> `local.get $rₘ` <br> `)` | if all `Tᵢ`, `Uⱼ` are `integer`, `boolean`, `set` |\n",
    "\n",
    "<!-- No code is generated for a variable declaration, but the address is stored as a field of the symbol table entry for the variable. With `T = set([l .. u])`, the translation scheme is:\n",
    "\n",
    "| D                 | code(D)             | effect                                           |\n",
    "|:------------------|:--------------------|:-------------------------------------------------|\n",
    "| `var x: T`        |                     | `x.adr := memsize; memsize := memsize + size(T)` | -->"
   ]
  },
  {
   "cell_type": "markdown",
   "metadata": {
    "slideshow": {
     "slide_type": "slide"
    }
   },
   "source": [
    "Since WebAssembly does not have an instruction that implements subset and superset tests, these can be expressed through union and intersection:\n",
    "\n",
    "    s ⊆ t  ≡  s = s ∩ t\n",
    "    s ⊇ t  ≡  s = s ∪ t\n",
    "\n",
    "The set `{E}` is constructed by shifting `1` to the left `E` times. The set `{E₁, E₂}` is constructed the same way as `{E₁} ∪ {E₂}` would be. The sequence `local.tee $0` `local.get $0` duplicates the element on the top of the stack:\n",
    "\n",
    "| E         | code(E)                                 | condition                    |\n",
    "|:----------|:----------------------------------------|:-----------------------------|\n",
    "| `{E}`     | `i32.const 1`<br>`code(E)`<br>`i32.shl` |                              |\n",
    "| `{E₁, … , Eₙ}`| `code({E₁} ∪ … ∪ {Eₙ})`              |                              |\n",
    "| `# E`     | `code(E)`<br>`i32.popcnt`               |                              |\n",
    "| `∁ E`     | `code(E)`<br>`i32.const {l, … , u} `<br>`i32.xor` | `type(E) = set [l .. u]`|\n",
    "| `E₁ ∩ E₂` | `code(E₁)`<br>`code(E₂)`<br>`i32.and`   |                              |\n",
    "| `E₁ ∪ E₂` | `code(E₁)`<br>`code(E₂)`<br>`i32.or`    |                              |\n",
    "| `E₁ ∈ E₂` | `i32.const 1`<br>`code(E₁)`<br>`i32.shl`<br>`code(E₂)`<br>`i32.and` |  |\n",
    "| `E₁ ⊆ E₂` | `code(E₁)`<br>`local.tee $0`<br>`local.get $0`<br>`code(E₂)`<br>`i32.and`<br>`i32.eq` |  |\n",
    "| `E₁ ⊇ E₂` | `code(E₁)`<br>`local.tee $0`<br>`local.get $0`<br>`code(E₂)`<br>`i32.or`<br>`i32.eq`  |  |\n",
    "\n",
    "<!-- \n",
    "| E           | code(E)                                 |                         |\n",
    "|:------------|:----------------------------------------|:------------------------|\n",
    "| `x`         | `local.get $x$0`<br>`local.get $x$1`<br>`…` | if `x` local variable<br>`⎡n / 32⎤` time <br>` ` |\n",
    "| `x`         | `global.get $x$0`<br>`global.get $x$1`<br>`…` | if `x` global variable <br> `⎡n / 32⎤` times<br>` ` |\n",
    "| `# E`       | `code(E)`<br>`i32.popcnt`<br>`i32.popcnt`<br>`…`<br>`i32.add`<br>`i32.add`<br>`…` | <br>`⎡n / 32⎤ - 1` times<br>` ` |\n",
    "| `∁ E`       | `code(E₁)`<br>`code(E₂)`<br>`i32.mul`   |                         |\n",
    "| `E₁ ∩ E₂`   | `code(E₁)`<br>`code(E₂)`<br>`i32.mul`   |                         |\n",
    "| `E₁ ∪ E₂` | `code(E₁)`<br>`code(E₂)`<br>`i32.div_s` |                         |\n",
    " -->"
   ]
  },
  {
   "cell_type": "markdown",
   "metadata": {
    "slideshow": {
     "slide_type": "slide"
    }
   },
   "source": [
    "### Enumeration Types and Disjoint Unions"
   ]
  },
  {
   "cell_type": "markdown",
   "metadata": {},
   "source": [
    "An *enumeration type* introduces a type and all its possible values. Enumeration types are sets, but in languages like Pascal, the values are ordered: `succ(e)` and `pred(e)` give the next and previous value, and they can be compared by `<`. The order can be used to declare subranges of enumerations and for iteration, for example, in Pascal:\n",
    "\n",
    "```Pascal\n",
    "type Day = (Monday, Tuesday, Wednesday, Thursday, Friday, Saturday, Sunday);\n",
    "type Weekday = Monday .. Friday;\n",
    "type Weekend = Saturday .. Sunday;\n",
    "var hours: array [Weekday] of 0 .. 24; hours[Monday] := 24, hours[Saturday]\n",
    "    hours: array [0 .. 4] of 0.. 24\n",
    "var w: Weekday; h: 0 .. 120;\n",
    "\n",
    "h := 0; for w := Monday to Friday do h := h + hours[w]\n",
    "```\n",
    "\n",
    "An enumeration is represented by a “small” unsigned integer; `succ` and `pred` are then addition and subtraction by `1`, and `<` is integer comparison. This transformation can be done by the front-end in a compiler, so that no additional support for code generation is needed."
   ]
  },
  {
   "cell_type": "markdown",
   "metadata": {
    "slideshow": {
     "slide_type": "slide"
    }
   },
   "source": [
    "A *disjoint union* constructs a type by *tagging* the *variants:*\n",
    "\n",
    "```Pascal\n",
    "type Symbol = Plus | Num(integer) | Id(string)\n",
    "var s: Symbol\n",
    "\n",
    "s := Num(0)  s := Plus   s := Id('min')\n",
    "\n",
    "case s of\n",
    "    Plus: write('+')\n",
    "    Num(n): write(n)\n",
    "    Id(i): write(i)\n",
    "  \n",
    "```\n",
    "\n",
    "Here, `s` is either `Plus`, `Num(n)`, or `Id(i)` for some integer `n` and some string `i`."
   ]
  },
  {
   "cell_type": "markdown",
   "metadata": {
    "slideshow": {
     "slide_type": "slide"
    }
   },
   "source": [
    "A disjoint union of the form\n",
    "\n",
    "```Pascal\n",
    "type T = t₁(T₁) | … | tₙ(Tₙ)\n",
    "```\n",
    "\n",
    "has `#T = #T₁ + ⋯ + #Tₙ` possible values. A disjoint union where each variant has no type associated (or rather has the unit type associated) degenerates to an enumeration type:\n",
    "\n",
    "```Pascal\n",
    "type T = t₁ | … | tₙ\n",
    "```\n",
    "Disjoint union types can be represented by one “small” integer for the tag plus the representation of the corresponding variant."
   ]
  },
  {
   "cell_type": "markdown",
   "metadata": {
    "slideshow": {
     "slide_type": "slide"
    }
   },
   "source": [
    "Disjoint unions allow expressing recursive types, where some variants “terminate the recursion”. For example, a list of integers can be defined as:\n",
    "\n",
    "```Pascal\n",
    "type List = nil | cons(hd: integer, tl: List)\n",
    "```\n",
    "\n",
    "The list with elements `3` and `5` is `cons(3, cons(5, nil))`. Such recursive types can be used to express any tree-like structures. While the presence of recursion does not affect the representation of a `cons` object, the memory needed for a variable of `List` type can no longer be determined statically, necessitating dynamic memory allocation."
   ]
  },
  {
   "cell_type": "markdown",
   "metadata": {
    "slideshow": {
     "slide_type": "slide"
    }
   },
   "source": [
    "Disjoint unions can be expressed using *variant records* in Pascal and by *union types* in C:\n",
    "\n",
    "<div style=\"float:left;margin-left:2em;margin-right:2em\">\n",
    "\n",
    "```Pascal\n",
    "type Tag = (Plus, Num, Id);\n",
    "type Symbol =\n",
    "  record\n",
    "    pos: integer;\n",
    "    case t: Tag of\n",
    "      Plus: ();\n",
    "      Num: (n: integer);\n",
    "      Id: (i: string)\n",
    "  end\n",
    "```\n",
    "\n",
    "</div>\n",
    "\n",
    "<div>\n",
    "\n",
    "```C\n",
    "typedef enum {Plus, Num, Id} Tag;\n",
    "typedef struct {\n",
    "    int pos;\n",
    "    Tag t;\n",
    "    union {\n",
    "        int n;\n",
    "        char *i;\n",
    "        char *c;\n",
    "    };\n",
    "} Symbol;\n",
    "```\n",
    "\n",
    "</div>\n",
    "\n",
    "<br> A record of type `Symbol` always has fields `pos` and `t`; depending on the value of `t`, a record may have field `n` or `i`."
   ]
  },
  {
   "cell_type": "markdown",
   "metadata": {
    "slideshow": {
     "slide_type": "slide"
    }
   },
   "source": [
    "In object-oriented languages, disjoint unions can be expressed by inheritance, for example in Java:\n",
    "\n",
    "```Java\n",
    "class Symbol {int pos;}\n",
    "class Plus extends Symbol {};\n",
    "class Num extends Symbol {int n;};\n",
    "class Id extends Symbol {String i;};\n",
    "```\n",
    "\n",
    "A benefit of expressing a disjoint union by inheritance is that new variants can be added. The downside is that intention is not explicitly visible, that type tests on values are needed, which can break in the presence of extensions, and that using inheritance comes with an overhead. While early object-oriented languages did neither support enumeration types nor disjoint unions (Oberon, Java), newer languages support them (Rust, Java)."
   ]
  },
  {
   "cell_type": "markdown",
   "metadata": {
    "slideshow": {
     "slide_type": "slide"
    }
   },
   "source": [
    "### Compatibility of Structured Types"
   ]
  },
  {
   "cell_type": "markdown",
   "metadata": {},
   "source": [
    "Consider the following declarations with records:\n",
    "\n",
    "```Pascal\n",
    "type R = (f: integer, g: integer)\n",
    "var x, y: R\n",
    "var z: (f: integer, g: integer)\n",
    "```\n",
    "\n",
    "With *name compatibility*, the assignment `x := y` is allowed, but the assignment `x := z` is not allowed. With *structural compatibility*, `x := z` is allowed. The argument for name compatibility is that the name carries a meaning, and any operations meant for a type should name that type. Some object-oriented languages use name compatibility for classes (Java). In practice, that may require programs to be “refactored” when extended, which may be avoided with structural compatibility (Go)."
   ]
  },
  {
   "cell_type": "markdown",
   "metadata": {},
   "source": [
    "Pascal relaxes name compatibility to allow *aliases*. Below, `T` does not introduce a new type and variable `i` can be used as an integer:\n",
    "\n",
    "```Pascal\n",
    "type T = integer\n",
    "var i: T\n",
    "```\n",
    "\n",
    "The P0 compiler implements structural compatibility."
   ]
  },
  {
   "cell_type": "markdown",
   "metadata": {
    "slideshow": {
     "slide_type": "slide"
    }
   },
   "source": [
    "Comparing two record types for compatibility requires recursively comparing the fields for compatibility. In the case of recursive types, care has to be taken. Consider two definitions of lists by disjoint unions:\n",
    "\n",
    "```Pascal\n",
    "type L = nil | cons(hd: integer, tl: L)\n",
    "type M = nil | cons(hd: integer, tl: M)\n",
    "```\n",
    "\n",
    "If one were to recursively compare the types of all fields, the recursion would never end. That can be corrected by initially assuming that the types `L` and `M` are compatible, and when the recursive comparison needs to check that `L` and `M` are compatible, use that assumption to stop the recursion. With this algorithm, the following three types are compatible:\n",
    "\n",
    "```Pascal\n",
    "type L = nil | cons(hd: integer, tl: L)\n",
    "type M = nil | cons(hd: integer, tl: N)\n",
    "type N = nil | cons(hd: integer, tl: M)\n",
    "```"
   ]
  },
  {
   "cell_type": "markdown",
   "metadata": {
    "slideshow": {
     "slide_type": "slide"
    }
   },
   "source": [
    "Consider the following array declarations:\n",
    "\n",
    "```Pascal\n",
    "type A = [0 .. 9] → integer\n",
    "type B = [1 .. 10] → integer\n",
    "```\n",
    "\n",
    "As the upper and lower bound of the domain are part of the type, `A` and `B` are distinct types. That can be relaxed by allowing two arrays to be compatible if they are the same length. The P0 compiler implements that."
   ]
  },
  {
   "cell_type": "markdown",
   "metadata": {
    "slideshow": {
     "slide_type": "slide"
    }
   },
   "source": [
    "Having the length of arrays as part of the type requires all procedures with array parameters to specify the length of the array, making them less reusable. A remedy is to allow *open arrays* (*conformant arrays*) as parameters:\n",
    "\n",
    "```Pascal\n",
    "procedure sum(l: integer, u: integer, a: [l .. u] → integer) → (s: integer)\n",
    "    var i: integer\n",
    "        s, i := l, 0\n",
    "        while i ≤ u do s, i := s + a[i], i + 1\n",
    "```\n",
    "\n",
    "Here, `l` and `u` are also passed as parameters. This is a case of *dependent types*, i.e. types that depend on values. In general, dependent types make type-checking undecidable, so some safe approximation for compatible types needs to be made."
   ]
  },
  {
   "cell_type": "markdown",
   "metadata": {
    "slideshow": {
     "slide_type": "slide"
    }
   },
   "source": [
    "An alternative is to leave out the length of an array from the type. Since the size of an array is, in that case, no longer statically determined, arrays cannot be allocated statically, necessitating dynamic memory management. Using the notation `T[N]` for creating an array with `N` elements, `[]T` for an array of type `T`, and `length(a)` for the length of `a: []T`, we can write:\n",
    "\n",
    "```Pascal\n",
    "procedure sum(a: []integer) → (s: integer)\n",
    "    var i: integer\n",
    "        s, i := 0, 0\n",
    "        while i < length(a) do s, i := s + a[i], i + 1\n",
    "\n",
    "var x: []integer\n",
    "    x := integer[5]; ... sum(x) ...\n",
    "```\n",
    "\n",
    "Arrays are sequences that, once created, cannot change in length. Some languages, e.g. C and Go, have both arrays of fixed length and dynamically created arrays."
   ]
  },
  {
   "cell_type": "markdown",
   "metadata": {
    "slideshow": {
     "slide_type": "slide"
    }
   },
   "source": [
    "### Procedure as Values"
   ]
  },
  {
   "cell_type": "markdown",
   "metadata": {},
   "source": [
    "Being able to pass procedures as values allows higher-order procedures like `map`: with\n",
    "\n",
    "```Pascal\n",
    "procedure plus1(a: integer) → (b: integer)\n",
    "    b := a + 1\n",
    "```\n",
    "\n",
    "the call `map(plus1, [3, 7, 9])` returns `[4, 8, 10]`. To make functions like `map` general, *type variables* are used:\n",
    "\n",
    "```\n",
    "map: (α → β) × seq α → seq β\n",
    "map(plus1, [3, 7, 9])\n",
    "```\n",
    "\n",
    "In words, `map` takes as arguments a function of type `α → β` and a sequence with elements of type `α`, for any `α` and `β`. Languages like ML implicitly infer the types `α` and `β` on application. Other languages require those to be specified, as in:\n",
    "```\n",
    "map⟨α, β⟩: (α → β) × seq α → seq β\n",
    "map⟨integer, integer⟩(plus1, [3, 7, 9])\n",
    "```\n",
    "\n",
    "While type-checking becomes significantly more complex, the implementation can be rather straightforward. For procedure values, it is sufficient only to pass the procedure's address in memory, assuming that procedures cannot be modified at runtime. For a generic procedure like `map`, the body can be duplicated for each instance of the type parameters."
   ]
  },
  {
   "cell_type": "markdown",
   "metadata": {
    "slideshow": {
     "slide_type": "slide"
    }
   },
   "source": [
    "Procedure variables can be problematic. Nested procedures, in particular anonymous ones (lambda abstractions), are useful for being passed around to functions like `map`. Writing `(a: integer) → (b: integer)` for the type of procedures that have one integer parameter and one integer result, consider:\n",
    "\n",
    "```Pascal\n",
    "var v: (a: integer) → (b: integer)\n",
    "var g: integer\n",
    "procedure p(f: (a: integer) → (b: integer), c: integer) → (d: integer)\n",
    "    d ← f(c)\n",
    "procedure q()\n",
    "    var i: integer\n",
    "    procedure r(a: integer) → (b: integer)\n",
    "        b := a + i\n",
    "    g ← p(r, g) // ① ok\n",
    "    v := r  // ② dangerous\n",
    "    g ← v(g) // ③ ok\n",
    "procedure s()\n",
    "    q(); g ← v(g) // ④ problematic\n",
    "```\n",
    "\n",
    "The calls ① and ② have the well-defined effect of updating global variable `g`. However, after the call to `q()`, global variable `v` points to the nested procedure `r`, which accesses intermediate-level variable `i`, which is no longer visible as `q()` has terminated. Thus the call ④ is problematic:\n",
    "- A simple solution is to disallow nested procedures, which C and WebAssembly do. Intermediate-level variables then do not exist.\n",
    "- Less restrictive is to allow nested procedures, but do not allow them to *escape* their scope. This would disallow assignment ②.\n",
    "- If procedures can escape their scope, then all variables to which they refer have to be preserved. Above, after the termination of `q`, variable `i` would have to be preserved, thus enlarging the state. This means that on the termination of a call, the local variables cannot always be discarded and the stack discipline for allocation of local variables is no longer adequate. "
   ]
  },
  {
   "cell_type": "markdown",
   "metadata": {},
   "source": [
    "*Question:* Consider the following Python code. Inspecting the output, what does it tell you how Python allocates local variables?"
   ]
  },
  {
   "cell_type": "code",
   "execution_count": 1,
   "metadata": {},
   "outputs": [
    {
     "data": {
      "text/plain": [
       "2"
      ]
     },
     "execution_count": 1,
     "metadata": {},
     "output_type": "execute_result"
    }
   ],
   "source": [
    "def g():\n",
    "    i = 2\n",
    "    def r(): return i\n",
    "    return r\n",
    "x = g()\n",
    "x()"
   ]
  },
  {
   "cell_type": "markdown",
   "metadata": {
    "slideshow": {
     "slide_type": "slide"
    }
   },
   "source": [
    "### Indirect Calls in WebAssembly"
   ]
  },
  {
   "cell_type": "markdown",
   "metadata": {},
   "source": [
    "WebAssembly functions can be called indirectly by referring to their number rather than their address. For this, functions must be explicitly entered into a *table*, another type of WebAssembly store. In a WebAssembly module, the declaration\n",
    "\n",
    "```\n",
    "(table n funcref)\n",
    "```\n",
    "\n",
    "where `n` is a constant, allocates statically `n` function references. The elements of the table are populated by:\n",
    "\n",
    "```\n",
    "(elem i fn)\n",
    "```\n",
    "\n",
    "where `i` is an instruction with an integer result and `fn` is the name of a function. The call\n",
    "\n",
    "```\n",
    "call_indirect ft\n",
    "```\n",
    "\n",
    "pops an index to the table from the stack and calls the function at that index, provided the function type `ft` matches the type of the function in the table. That check is done at runtime."
   ]
  },
  {
   "cell_type": "markdown",
   "metadata": {
    "slideshow": {
     "slide_type": "slide"
    }
   },
   "source": [
    "The following program calls either `plus1` or `plus2` depending on the input:"
   ]
  },
  {
   "cell_type": "code",
   "execution_count": 2,
   "metadata": {
    "slideshow": {
     "slide_type": "-"
    }
   },
   "outputs": [],
   "source": [
    "def runpywasm(wasmfile):\n",
    "    def write(s, i): print(i)\n",
    "    def read(s): return int(input())    \n",
    "    import pywasm\n",
    "    vm = pywasm.load(wasmfile, {'lib': {'write': write, 'read': read}})"
   ]
  },
  {
   "cell_type": "code",
   "execution_count": 6,
   "metadata": {},
   "outputs": [
    {
     "name": "stdout",
     "output_type": "stream",
     "text": [
      "Overwriting indirect.wat\n"
     ]
    }
   ],
   "source": [
    "%%writefile indirect.wat\n",
    "(module\n",
    "  (import \"lib\" \"write\" (func $write (param i32)))\n",
    "  (import \"lib\" \"read\" (func $read (result i32)))\n",
    "  (func $plus1 (param $x i32) (result i32)\n",
    "    i32.const 1\n",
    "    local.get $x\n",
    "    i32.add)\n",
    "  (func $plus2 (param $x i32) (result i32)\n",
    "    i32.const 2\n",
    "    local.get $x\n",
    "    i32.add)\n",
    "  (func $program\n",
    "    call $read ;; push function parameter on stack\n",
    "    call $read ;; push function index on stack\n",
    "    call_indirect (param i32) (result i32)\n",
    "    call $write)\n",
    "  (table 2 funcref)\n",
    "  (elem (i32.const 0) $plus1)\n",
    "  (elem (i32.const 1) $plus2)\n",
    "  (start $program)\n",
    ")"
   ]
  },
  {
   "cell_type": "code",
   "execution_count": 7,
   "metadata": {},
   "outputs": [],
   "source": [
    "!wat2wasm indirect.wat"
   ]
  },
  {
   "cell_type": "code",
   "execution_count": 8,
   "metadata": {
    "slideshow": {
     "slide_type": "-"
    }
   },
   "outputs": [
    {
     "name": "stdin",
     "output_type": "stream",
     "text": [
      " 1\n",
      " 0\n"
     ]
    },
    {
     "name": "stdout",
     "output_type": "stream",
     "text": [
      "2\n"
     ]
    }
   ],
   "source": [
    "runpywasm(\"indirect.wasm\")"
   ]
  },
  {
   "cell_type": "markdown",
   "metadata": {
    "slideshow": {
     "slide_type": "slide"
    }
   },
   "source": [
    "The grammar of WebAssembly programs is extended accordingly:\n",
    "\n",
    "```EBNF\n",
    "instr ::= ... | \"call_indirect\" func_type\n",
    "module ::= \"(\" \"module\" {import} {global} {func} [table] {elem} [memory] [start] \")\"\n",
    "table ::= \"(\" \"table\" num \"funcref\" \")\"\n",
    "elem ::= \"(\" \"elem\" instr name \")\"\n",
    "```"
   ]
  },
  {
   "cell_type": "markdown",
   "metadata": {
    "slideshow": {
     "slide_type": "slide"
    }
   },
   "source": [
    "### Procedure as Values in WebAssembly"
   ]
  },
  {
   "cell_type": "markdown",
   "metadata": {},
   "source": [
    "<code style=\"float:right;margin-left:2em\">\n",
    "  (func $seven (result i32)\n",
    "    i32.const 7)\n",
    "  (func $nine (result i32)\n",
    "    i32.const 9)\n",
    "  (func $p (param $f i32)\n",
    "    local.get $f\n",
    "    call_indirect (result i32)\n",
    "    call $write)\n",
    "  (func $program\n",
    "    i32.const 0\n",
    "    call $p\n",
    "    i32.const 1\n",
    "    call $p)\n",
    "  (table 2 funcref)\n",
    "  (elem (i32.const 0) $seven)\n",
    "  (elem (i32.const 1) $nine)\n",
    "</code>\n",
    "\n",
    "As table indices of type `i32` refer to procedures, these can be assigned and passed as parameters like other `i32` values. Here, procedure `p` in WebAssembly takes a single `i32` parameter:\n",
    "\n",
    "<code style=\"float:left;margin-left:2em\">\n",
    "\n",
    "```Pascal\n",
    "procedure seven() → (r: integer)\n",
    "    r := 7\n",
    "procedure nine() → (r: integer)\n",
    "    r := 9\n",
    "procedure p(f: () → (r: integer))\n",
    "    var a: integer\n",
    "        a ← f(); write(a)\n",
    "program q\n",
    "    p(seven)\n",
    "    p(nine)\n",
    "```\n",
    "\n",
    "</code>"
   ]
  },
  {
   "cell_type": "markdown",
   "metadata": {
    "slideshow": {
     "slide_type": "slide"
    }
   },
   "source": [
    "### Case-Statements"
   ]
  },
  {
   "cell_type": "markdown",
   "metadata": {
    "slideshow": {
     "slide_type": "-"
    }
   },
   "source": [
    "<div style=\"float:right;margin-left:2em\">\n",
    "\n",
    "```Pascal\n",
    "var c: (green, yellow, red)\n",
    "...\n",
    "case c of\n",
    "    green: ...\n",
    "    yellow: ...\n",
    "    red: ...\n",
    "```\n",
    "\n",
    "</div>\n",
    "\n",
    "Case-statements allow a case analysis for all values of an enumeration type to be expressed symmetrically, as the order of the individual cases does not matter.\n",
    "\n",
    "Case-statements can be implemented by *computed jumps*, where the location of the code of a case is looked up in a *jump table*. "
   ]
  },
  {
   "cell_type": "markdown",
   "metadata": {
    "slideshow": {
     "slide_type": "slide"
    }
   },
   "source": [
    "<div style=\"float:right;margin-left:2em\">\n",
    "\n",
    "```Pascal\n",
    "case ch of\n",
    "    'a' .. 'z', 'A', .. 'Z': Identifier()\n",
    "    '0' .. '9': Number()\n",
    "    '(': sym := LPAREN; getCh()\n",
    "    ')': sym := RPAREN; getCh()\n",
    "```\n",
    "\n",
    "</div>\n",
    "The benefit compared to nested if-then-else statements is that the selection takes constant time independently of the number of cases. This scheme is suitable for case statements with enumeration types, disjoint unions, and subranges of integers. Historically, Pascal and C have case-statements to allow efficient processing of ASCII characters in scanners, regular expression searches, etc."
   ]
  },
  {
   "cell_type": "markdown",
   "metadata": {
    "slideshow": {
     "slide_type": "slide"
    }
   },
   "source": [
    "### Jump Tables in WebAssembly"
   ]
  },
  {
   "cell_type": "markdown",
   "metadata": {
    "slideshow": {
     "slide_type": "-"
    }
   },
   "source": [
    "The instruction `br_table l₀ ... lₙ₋₁ lₙ` pops an integer, say `i`, from the stack and jumps to label `lᵢ` if `0 ≤ i < n` and to `lₙ`, the default label, otherwise. Like with `br l` and `br_if l`, the labels refer to enclosing blocks. \n",
    "\n",
    "```EBNF\n",
    "instr ::= ... | \"br_table\" {name} name\n",
    "```"
   ]
  },
  {
   "cell_type": "markdown",
   "metadata": {
    "slideshow": {
     "slide_type": "slide"
    }
   },
   "source": [
    "<div style=\"float:right;margin-left:2em\">\n",
    "\n",
    "```Pascal\n",
    "program p\n",
    "  var i: integer\n",
    "    i ← read()\n",
    "    case i of\n",
    "        1: write(1)\n",
    "        3: write(3)\n",
    "        4: write(4)\n",
    "    else: write(0)  \n",
    "```\n",
    "</div>\n",
    "\n",
    "The default label is used for the `else` part of a case-statement. If the cases are not contiguous, the missing cases also have labels to the block with the `else` part."
   ]
  },
  {
   "cell_type": "code",
   "execution_count": null,
   "metadata": {},
   "outputs": [],
   "source": [
    "%%writefile jumptable.wat\n",
    "(module\n",
    "  (import \"lib\" \"write\" (func $write (param i32)))\n",
    "  (import \"lib\" \"read\" (func $read (result i32)))\n",
    "  (func $program\n",
    "    (local $i i32)\n",
    "    call $read\n",
    "    local.set $i\n",
    "    block $done\n",
    "      block $else\n",
    "        block $4\n",
    "          block $3\n",
    "            block $1\n",
    "              local.get $i\n",
    "              i32.const 1\n",
    "              i32.sub\n",
    "              br_table $1 $else $3 $4 $else\n",
    "            end\n",
    "            i32.const 1\n",
    "            call $write\n",
    "            br $done\n",
    "          end\n",
    "          i32.const 3\n",
    "          call $write\n",
    "          br $done\n",
    "        end\n",
    "        i32.const 4\n",
    "        call $write\n",
    "        br $done\n",
    "      end\n",
    "      i32.const 0\n",
    "      call $write\n",
    "    end)\n",
    "  (start $program)\n",
    ")"
   ]
  },
  {
   "cell_type": "code",
   "execution_count": null,
   "metadata": {},
   "outputs": [],
   "source": [
    "!wat2wasm jumptable.wat"
   ]
  },
  {
   "cell_type": "code",
   "execution_count": null,
   "metadata": {
    "slideshow": {
     "slide_type": "-"
    }
   },
   "outputs": [],
   "source": [
    "runpywasm(\"jumptable.wasm\")"
   ]
  },
  {
   "cell_type": "markdown",
   "metadata": {
    "slideshow": {
     "slide_type": "slide"
    }
   },
   "source": [
    "If the case labels do not appear in ascending order in the source, the compiler needs to sort them. If the lowest label is not `0`, an addition (subtraction) is inserted before indexing the jump table. The size of the jump table is the difference between the largest and smallest labels. That difference can be too large for jump tables:\n",
    "\n",
    "```Pascal\n",
    "case x of\n",
    "  0: …\n",
    "  1000: …\n",
    "  1000000: …\n",
    "end\n",
    "```\n",
    "\n",
    "The compiler then has to resort to generating nested if-statements instead."
   ]
  },
  {
   "cell_type": "markdown",
   "metadata": {
    "slideshow": {
     "slide_type": "slide"
    }
   },
   "source": [
    "### For-Loops"
   ]
  },
  {
   "cell_type": "markdown",
   "metadata": {},
   "source": [
    "In C and related languages, the for-loop\n",
    "\n",
    "```C\n",
    "for (expr₁; expr₂; expr₃) stat\n",
    "```\n",
    "\n",
    "is equivalent to:\n",
    "\n",
    "```C\n",
    "expr₁; while (expr₂) {stat expr₃;}\n",
    "```\n",
    "\n",
    "Syntactically, `expr₁`, `expr₂`, `expr₃` are expressions, although C allows expressions to have effects on variables and to be used as statements. Commonly, `expr₁` is an initialization of a loop variable, `expr₂` is a relational expression, and `expr₃` updates the loop variable. This transformation can be done on the abstract syntax tree before code generation."
   ]
  },
  {
   "cell_type": "markdown",
   "metadata": {
    "slideshow": {
     "slide_type": "slide"
    }
   },
   "source": [
    "In Pascal, the for-loop\n",
    "\n",
    "```Pascal\n",
    "for v := exp₁ to exp₂ do stat\n",
    "```\n",
    "\n",
    "is equivalent to\n",
    "\n",
    "```Pascal\n",
    "t₁ := exp₁, t₂ := exp₂;\n",
    "if t₁ <= t₂ then\n",
    "    begin v := t₁; stat;\n",
    "        while v <> t₂ do begin v := v + 1; stat end\n",
    "    end\n",
    "```\n",
    "\n",
    "where `t₁`, `t₂` are auxiliary variables. The value of `v` is undefined at the end of the loop; this is meant to allow `v` to be kept in a register and that register not saved in memory."
   ]
  },
  {
   "cell_type": "markdown",
   "metadata": {
    "slideshow": {
     "slide_type": "slide"
    }
   },
   "source": [
    "One difference to C-style for-loops is that the expressions are evaluated only once. Thus, in C, the loop\n",
    "\n",
    "```C\n",
    "n = 10; for (i = 0; i < n; i++) n++;\n",
    "```\n",
    "\n",
    "never terminates; in Pascal, the equivalent loop terminates after `10` iterations:\n",
    "\n",
    "```Pascal\n",
    "n := 10; for i := 1 to n do n := n + 1\n",
    "```\n",
    "\n",
    "Guaranteeing the termination of for-loops is meant to contribute to safer programs."
   ]
  },
  {
   "cell_type": "markdown",
   "metadata": {
    "slideshow": {
     "slide_type": "slide"
    }
   },
   "source": [
    "The other difference to C-style for-loops is that the loop variable is not incremented past the final value. The range of `unsigned char` in C and `byte` in Pascal is `0 .. 255`. While in C the loop\n",
    "\n",
    "```C\n",
    "unsigned char i;\n",
    "unsigned char a[256];\n",
    "for (i = 0; i <= 255; i++) a[i] = 0;\n",
    "```\n",
    "\n",
    "never terminates as `i` is incremented past `255` and becomes `0`, in Pascal the equivalent loop terminates as expected:\n",
    "\n",
    "```Pascal\n",
    "var i: byte;\n",
    "var a: array [0..255] of byte;\n",
    "begin\n",
    "  for i := 0 to 255 do a[i] := 0\n",
    "end\n",
    "```"
   ]
  },
  {
   "cell_type": "markdown",
   "metadata": {},
   "source": [
    "### Translation Scheme for Exceptions"
   ]
  },
  {
   "cell_type": "code",
   "execution_count": null,
   "metadata": {},
   "outputs": [],
   "source": [
    "def runwasm(wasmfile):\n",
    "    from IPython.display import display, Javascript\n",
    "    with open(wasmfile, \"rb\") as file: \n",
    "        wasm_bytes = file.read() # read the WASM file and convert its content to a comma-separated string of byte values\n",
    "        wasm_byte_array_str = ','.join(str(byte) for byte in wasm_bytes)\n",
    " \n",
    "    display(Javascript(f\"\"\" // Javascript code to compile and run the WASM module\n",
    "    const wasmBinary = new Uint8Array([{wasm_byte_array_str}]); // convert back to binary representation\n",
    " \n",
    "    const params = {{\n",
    "        'P0lib': {{\n",
    "            'write': i => element.append(i + ' '),\n",
    "            'writeln': () => element.append(document.createElement('br')),\n",
    "            'read': () => window.prompt()\n",
    "        }}\n",
    "    }};\n",
    " \n",
    "    WebAssembly.compile(wasmBinary.buffer) // compile sharable code\n",
    "        .then(module => WebAssembly.instantiate(module, params)) // create an instance with memory\n",
    "        // .then(instance => instance.exports.program()); // run the main program; not needed if a start function is specified\n",
    "    \"\"\"))"
   ]
  },
  {
   "cell_type": "markdown",
   "metadata": {},
   "source": [
    "\n",
    "<code style=\"float:left;margin-left:2em\">\n",
    "try\n",
    "    write(3)\n",
    "    throw\n",
    "    write(5)\n",
    "catch\n",
    "    write(7)\n",
    "write(9)\n",
    "</code>\n",
    "\n",
    "<code style=\"float:left;margin-left:2em\">\n",
    "    try $l0\n",
    "      i32.const 3\n",
    "      call $write\n",
    "      throw $l0\n",
    "      i32.const 5\n",
    "      call $write\n",
    "    catch\n",
    "      drop\n",
    "      i32.const 7\n",
    "      call $write\n",
    "    end\n",
    "    i32.const 9\n",
    "    call $write\n",
    "</code>\n"
   ]
  },
  {
   "cell_type": "code",
   "execution_count": null,
   "metadata": {},
   "outputs": [],
   "source": [
    "%%writefile exception.wat\n",
    "(module\n",
    "  (import \"P0lib\" \"write\" (func $write (param i32)))\n",
    "  (import \"P0lib\" \"writeln\" (func $writeln))\n",
    "  (import \"P0lib\" \"read\" (func $read (result i32)))\n",
    "  (tag $e)\n",
    "  (func $q (param $x i32) (result i32)\n",
    "    throw $e\n",
    "    local.get $x\n",
    "  )\n",
    "  (func $program\n",
    "    try\n",
    "      i32.const 3\n",
    "      call $q\n",
    "      call $write\n",
    "    catch $e\n",
    "      i32.const 7\n",
    "      call $write\n",
    "    end\n",
    "  )\n",
    "  (memory 1)\n",
    "  (start $program)\n",
    ")"
   ]
  },
  {
   "cell_type": "code",
   "execution_count": null,
   "metadata": {},
   "outputs": [],
   "source": [
    "!wat2wasm --enable-exceptions exception.wat"
   ]
  },
  {
   "cell_type": "markdown",
   "metadata": {},
   "source": [
    "In older versions of Chrome, Experimental WebAssembly has to be enabled under `chrome://flags`:"
   ]
  },
  {
   "cell_type": "code",
   "execution_count": null,
   "metadata": {},
   "outputs": [],
   "source": [
    "runwasm(\"exception.wasm\")"
   ]
  },
  {
   "cell_type": "code",
   "execution_count": null,
   "metadata": {},
   "outputs": [],
   "source": [
    "%%writefile exception.wat\n",
    "(module\n",
    "  (import \"P0lib\" \"write\" (func $write (param i32)))\n",
    "  (import \"P0lib\" \"writeln\" (func $writeln))\n",
    "  (import \"P0lib\" \"read\" (func $read (result i32)))\n",
    "  (tag $e)\n",
    " (func $q (param $x i32) (result i32)\n",
    "    (local $y i32)\n",
    "    i32.const 1\n",
    "    call $write\n",
    "    try\n",
    "      try\n",
    "        i32.const 3\n",
    "        call $write\n",
    "        throw $e\n",
    "        i32.const 5\n",
    "        call $write\n",
    "      catch $e\n",
    "        i32.const 7\n",
    "        call $write\n",
    "      end\n",
    "      i32.const 9\n",
    "      call $write\n",
    "      throw $e\n",
    "      i32.const 11\n",
    "      call $write\n",
    "    catch $e\n",
    "      i32.const 13\n",
    "      call $write\n",
    "    end\n",
    "    i32.const 15\n",
    "  )\n",
    "  (func $program\n",
    "    i32.const 1\n",
    "    call $q\n",
    "    call $write\n",
    "  )\n",
    "  (memory 1)\n",
    "  (start $program)\n",
    ")"
   ]
  },
  {
   "cell_type": "code",
   "execution_count": null,
   "metadata": {},
   "outputs": [],
   "source": [
    "!wat2wasm --enable-exceptions exception.wat"
   ]
  },
  {
   "cell_type": "markdown",
   "metadata": {},
   "source": [
    "In older versions of Chrome, Experimental WebAssembly has to be enabled under `chrome://flags`:"
   ]
  },
  {
   "cell_type": "code",
   "execution_count": null,
   "metadata": {},
   "outputs": [],
   "source": [
    "runwasm(\"exception.wasm\")"
   ]
  },
  {
   "cell_type": "code",
   "execution_count": null,
   "metadata": {},
   "outputs": [],
   "source": [
    "runwasmer(\"exception.wasm\")"
   ]
  },
  {
   "cell_type": "markdown",
   "metadata": {},
   "source": [
    "### SIMD Operations"
   ]
  },
  {
   "cell_type": "markdown",
   "metadata": {},
   "source": [
    "### Bulk Memory Operations"
   ]
  },
  {
   "cell_type": "markdown",
   "metadata": {},
   "source": [
    "https://developer.mozilla.org/en-US/docs/WebAssembly/Reference/Memory"
   ]
  },
  {
   "cell_type": "code",
   "execution_count": null,
   "metadata": {},
   "outputs": [],
   "source": []
  }
 ],
 "metadata": {
  "kernelspec": {
   "display_name": "Python 3 (ipykernel)",
   "language": "python",
   "name": "python3"
  },
  "language_info": {
   "codemirror_mode": {
    "name": "ipython",
    "version": 3
   },
   "file_extension": ".py",
   "mimetype": "text/x-python",
   "name": "python",
   "nbconvert_exporter": "python",
   "pygments_lexer": "ipython3",
   "version": "3.11.1"
  },
  "livereveal": {
   "scroll": true
  },
  "rise": {
   "enable_chalkboard": true
  }
 },
 "nbformat": 4,
 "nbformat_minor": 4
}
