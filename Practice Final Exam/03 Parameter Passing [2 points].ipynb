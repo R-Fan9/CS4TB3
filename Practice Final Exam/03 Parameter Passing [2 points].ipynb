{
 "cells": [
  {
   "cell_type": "markdown",
   "metadata": {
    "deletable": false,
    "editable": false,
    "nbgrader": {
     "cell_type": "markdown",
     "checksum": "a5cfb2c0b30e0fceb562a210d16c0d5d",
     "grade": false,
     "grade_id": "cell-d027879301bb6a89",
     "locked": true,
     "schema_version": 3,
     "solution": false,
     "task": false
    },
    "tags": []
   },
   "source": [
    "#### Parameter Passing"
   ]
  },
  {
   "cell_type": "markdown",
   "metadata": {
    "deletable": false,
    "editable": false,
    "nbgrader": {
     "cell_type": "markdown",
     "checksum": "ec0b430a05eb51c485c854484893adde",
     "grade": false,
     "grade_id": "cell-f318546c68c8d802",
     "locked": true,
     "schema_version": 3,
     "solution": false,
     "task": false
    },
    "tags": []
   },
   "source": [
    "P0 passes integer and boolean parameters by value and passes arrays and records by reference (as a note, Java does the same).\n",
    "- What changes to the translation scheme are needed if one were to pass integer and boolean parameters by reference? What is the disadvantage?\n",
    "- What changes to the translation scheme are needed if one were to pass arrays and records by value? What is the disadvantage?\n",
    "\n",
    "Give a brief answer!"
   ]
  },
  {
   "cell_type": "markdown",
   "metadata": {},
   "source": [
    " - Integers and boolean would have to be allocated in memory and an index to their memory location has to be passed. When they are loaded in memory, type-safety is not guaranteed, and an incorrectly index array may overwrite their values. Also, when pass by reference, it requires indirection when accessing, making it less efficient than pass by value"
   ]
  },
  {
   "cell_type": "markdown",
   "metadata": {
    "deletable": false,
    "nbgrader": {
     "cell_type": "markdown",
     "checksum": "f456b097d31aebdc47b548cdc24659a0",
     "grade": true,
     "grade_id": "cell-1fe8efc9bbf2d3d7",
     "locked": false,
     "points": 2,
     "schema_version": 3,
     "solution": true,
     "task": false
    },
    "tags": []
   },
   "source": [
    " - if we want to pass integer and boolean parameters by reference, we need to replace every occurrence of formal parameter with the actual parameter. Since passing by reference allows functions to modify variables directly, it can cause unexpected side effects. If not managed carefully, this can increase risk of bugs.\n",
    " - if we want to pass arrays and records by value, we would have to make a copy of the array or record, and pass an index to their location. This can cause extra memory allocation and extra time consumption for copying to happen"
   ]
  }
 ],
 "metadata": {
  "kernelspec": {
   "display_name": "Python 3 (ipykernel)",
   "language": "python",
   "name": "python3"
  },
  "language_info": {
   "codemirror_mode": {
    "name": "ipython",
    "version": 3
   },
   "file_extension": ".py",
   "mimetype": "text/x-python",
   "name": "python",
   "nbconvert_exporter": "python",
   "pygments_lexer": "ipython3",
   "version": "3.11.1"
  }
 },
 "nbformat": 4,
 "nbformat_minor": 4
}
