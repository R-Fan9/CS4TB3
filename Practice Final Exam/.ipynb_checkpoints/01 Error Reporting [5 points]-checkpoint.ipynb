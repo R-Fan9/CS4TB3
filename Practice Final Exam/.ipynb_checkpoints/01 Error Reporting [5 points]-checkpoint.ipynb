{
 "cells": [
  {
   "cell_type": "markdown",
   "metadata": {
    "deletable": false,
    "editable": false,
    "nbgrader": {
     "cell_type": "markdown",
     "checksum": "de3d9d07721526060e4699eda1b0e5d9",
     "grade": false,
     "grade_id": "cell-d027879301bb6a89",
     "locked": true,
     "schema_version": 3,
     "solution": false,
     "task": false
    },
    "tags": []
   },
   "source": [
    "#### Error Reporting"
   ]
  },
  {
   "cell_type": "markdown",
   "metadata": {
    "deletable": false,
    "editable": false,
    "nbgrader": {
     "cell_type": "markdown",
     "checksum": "ff4b11f51a0c278b7c4be06794782a80",
     "grade": false,
     "grade_id": "cell-f318546c68c8d802",
     "locked": true,
     "schema_version": 3,
     "solution": false,
     "task": false
    },
    "tags": []
   },
   "source": [
    "Consider the P0 compiler for WebAssembly. In which part of the compiler or run-time system are following errors reported?\n",
    "\n",
    "- Error in statement `x := x @ 1`\n",
    "- Error in statement `while x > 0 then x := x - 1`\n",
    "- Error in statement `while x > false do x := x - 1`\n",
    "- Error in declaration `var x, y, x: integer`\n",
    "- Error in program\n",
    "```algorithm\n",
    "procedure p(n: integer)\n",
    "    var a: [0..1023] → integer\n",
    "        if n > 0 then a[n] := n; p(n - 1)\n",
    "program q1\n",
    "    p(1023)\n",
    "```"
   ]
  },
  {
   "cell_type": "markdown",
   "metadata": {
    "deletable": false,
    "nbgrader": {
     "cell_type": "markdown",
     "checksum": "9d5490a95953bd03dc8ad9ba2493f7b2",
     "grade": true,
     "grade_id": "cell-1fe8efc9bbf2d3d7",
     "locked": false,
     "points": 5,
     "schema_version": 3,
     "solution": true,
     "task": false
    },
    "tags": []
   },
   "source": [
    "- Error in statement `x := x @ 1`\n",
    "Error \"illegal character\" will be reported from the `getSym()` method of Scanner (SC.ipynb)\n",
    "- Error in statement `while x > 0 then x := x - 1`\n",
    "Error \"'do' expected\" will be reported from the `statement()` method of the P0 parser\n",
    "- Error in statement `while x > false do x := x - 1`\n",
    "Error \"bad type\" will be reported from the `expression()` method of the P0 parser\n",
    "- Error in declaration `var x, y, x: integer`\n",
    "Error \"multiple definition of 'x'\" will be reported from the `newDecl()` method of the Symbol Table (ST)\n",
    "- "
   ]
  }
 ],
 "metadata": {
  "kernelspec": {
   "display_name": "Python 3 (ipykernel)",
   "language": "python",
   "name": "python3"
  },
  "language_info": {
   "codemirror_mode": {
    "name": "ipython",
    "version": 3
   },
   "file_extension": ".py",
   "mimetype": "text/x-python",
   "name": "python",
   "nbconvert_exporter": "python",
   "pygments_lexer": "ipython3",
   "version": "3.11.1"
  }
 },
 "nbformat": 4,
 "nbformat_minor": 4
}
