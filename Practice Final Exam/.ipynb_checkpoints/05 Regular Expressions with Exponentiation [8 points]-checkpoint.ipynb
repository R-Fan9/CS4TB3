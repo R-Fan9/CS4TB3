{
 "cells": [
  {
   "cell_type": "markdown",
   "metadata": {
    "deletable": false,
    "editable": false,
    "nbgrader": {
     "cell_type": "markdown",
     "checksum": "f64f6f257b79fdc9d9c9a64479c2bfac",
     "grade": false,
     "grade_id": "cell-d027879301bb6a89",
     "locked": true,
     "schema_version": 3,
     "solution": false,
     "task": false
    },
    "tags": []
   },
   "source": [
    "#### Regular Expressions with Exponentiation"
   ]
  },
  {
   "cell_type": "markdown",
   "metadata": {
    "deletable": false,
    "editable": false,
    "nbgrader": {
     "cell_type": "markdown",
     "checksum": "99e9c3ee80e8cd53d22096377f7db783",
     "grade": false,
     "grade_id": "cell-f318546c68c8d802",
     "locked": true,
     "schema_version": 3,
     "solution": false,
     "task": false
    },
    "tags": []
   },
   "source": [
    "Consider following declarations from the course notes and assignments:"
   ]
  },
  {
   "cell_type": "code",
   "execution_count": 13,
   "metadata": {
    "deletable": false,
    "editable": false,
    "nbgrader": {
     "cell_type": "code",
     "checksum": "f29c6435cc2d58cf95e4d5aeb53c62f1",
     "grade": false,
     "grade_id": "cell-b4a95f74e64415e4",
     "locked": true,
     "schema_version": 3,
     "solution": false,
     "task": false
    },
    "tags": []
   },
   "outputs": [],
   "source": [
    "class set(frozenset):\n",
    "    def __repr__(self):\n",
    "        return '{' + ', '.join(str(e) for e in self) + '}'\n",
    "\n",
    "class FiniteStateAutomaton:\n",
    "    def __init__(self, T, Q, R, q0, F):\n",
    "        self.T, self.Q, self.R, self.q0, self.F = T, Q, R, q0, F\n",
    "    def __repr__(self):\n",
    "        return str(self.q0) + '\\n' + ' '.join(str(f) for f in self.F) + '\\n' + \\\n",
    "               '\\n'.join(str(q) + ' ' + a + ' → ' + str(r) for (q, a, r) in self.R)\n",
    "\n",
    "def parseFSA(fsa: str) -> FiniteStateAutomaton:\n",
    "    fsa = [line for line in fsa.split('\\n') if line.strip() != '']\n",
    "    q0 = fsa[0] # first line: initial\n",
    "    F = set(fsa[1].split()) # second line: final, final, ...\n",
    "    R = set()\n",
    "    for line in fsa[2:]: # all subsequent lines: \"source symbol → target\"\n",
    "        l, r = line.split('→')\n",
    "        R |= {(l.split()[0], l.split()[1], r.split()[0])}\n",
    "    T = {r[1] for r in R}\n",
    "    Q = {q0} | F | {r[0] for r in R} | {r[2] for r in R}\n",
    "    return FiniteStateAutomaton(T, Q, R, q0, F)\n",
    "\n",
    "def minimizeFSA(fsa: FiniteStateAutomaton) -> FiniteStateAutomaton:\n",
    "    δ = {(q, a): r for (q, a, r) in fsa.R}\n",
    "    dist = {(q, r) for q in fsa.Q for r in fsa.Q if q != r and (q in fsa.F) != (r in fsa.F)}\n",
    "    done = False\n",
    "    while not done:\n",
    "        done = True #; print(dist)\n",
    "        for q in fsa.Q:\n",
    "            for r in fsa.Q:\n",
    "                if q != r and (q, r) not in dist and any(((q, u) in δ) != ((r, u) in δ) or \\\n",
    "                    ((q, u) in δ) and ((δ[(q, u)], δ[(r, u)]) in dist) for u in fsa.T):\n",
    "                    dist |= {(q, r)}; done = False #; print('adding', q, r)\n",
    "    Qʹ = {set({q} | {r for r in fsa.Q if (q, r) not in dist}) for q in fsa.Q}\n",
    "    Rʹ = {(qʹ, u, rʹ) for qʹ in Qʹ for rʹ in Qʹ for u in fsa.T if any((q, u, r) in fsa.R for q in qʹ for r in rʹ)}\n",
    "    qʹ0 = {qʹ for qʹ in Qʹ if fsa.q0 in qʹ}.pop()\n",
    "    Fʹ = {qʹ for qʹ in Qʹ if (qʹ & fsa.F) != set()}\n",
    "    return FiniteStateAutomaton(fsa.T, Qʹ, Rʹ, qʹ0, Fʹ)\n",
    "\n",
    "def totalFSA(A: FiniteStateAutomaton, t = -1) -> FiniteStateAutomaton:\n",
    "    T = set('abcdefghijklmnopqrstuvwxyz') # T is vocabulary, t is trap state\n",
    "    R = A.R | {(q, a, t) for q in A.Q for a in T if all((q, a, r) not in A.R for r in A.Q)}\n",
    "    if any(r == t for (q, a, r) in R): # transition to t exists\n",
    "        Q = A.Q | {t}\n",
    "        R = R | {(t, a, t) for a in T}\n",
    "    else: Q = A.Q\n",
    "    return FiniteStateAutomaton(T, Q, R, A.q0, A.F)\n",
    "\n",
    "def renameFSA(fsa: FiniteStateAutomaton) -> FiniteStateAutomaton:\n",
    "    m, c = {}, 0\n",
    "    for q in fsa.Q:\n",
    "        m[q] = c; c = c + 1\n",
    "    Qʹ = {i for i in range(c)}\n",
    "    Rʹ = {(m[q], u, m[r]) for (q, u, r) in fsa.R}\n",
    "    qʹ0 = m[fsa.q0]\n",
    "    Fʹ = {m[q] for q in fsa.F}\n",
    "    return FiniteStateAutomaton(fsa.T, Qʹ, Rʹ, qʹ0, Fʹ)\n",
    "\n",
    "def equivalentFSA(a: FiniteStateAutomaton, aʹ: FiniteStateAutomaton, printMap = False) -> bool:\n",
    "    a = minimizeFSA(totalFSA(a))\n",
    "    aʹ = minimizeFSA(totalFSA(aʹ))\n",
    "    δ = {(q, u): r for (q, u, r) in a.R}\n",
    "    δʹ = {(q, u): r for (q, u, r) in aʹ.R}\n",
    "    m, v = {a.q0: aʹ.q0}, {a.q0}\n",
    "    while v != set():\n",
    "        if printMap: print(m)\n",
    "        q = v.pop(); qʹ = m[q]\n",
    "        for u in a.T:\n",
    "            if ((q, u) in δ) != ((qʹ, u) in δʹ): return False\n",
    "            elif (q, u) in δ: # (qʹ, u) in δʹ\n",
    "                r, rʹ = δ[(q, u)], δʹ[(qʹ, u)]\n",
    "                if r in m:\n",
    "                    if m[r] != rʹ: return False\n",
    "                elif rʹ in m.values(): return False\n",
    "                else: v.add(r); m[r] = rʹ\n",
    "    if printMap: print(m) \n",
    "    return aʹ.F == {m[q] for q in a.F}"
   ]
  },
  {
   "cell_type": "code",
   "execution_count": 14,
   "metadata": {
    "deletable": false,
    "editable": false,
    "nbgrader": {
     "cell_type": "code",
     "checksum": "8ae9651d15fff1650329954da749ac3e",
     "grade": false,
     "grade_id": "cell-18421ff31700d850",
     "locked": true,
     "schema_version": 3,
     "solution": false,
     "task": false
    },
    "tags": []
   },
   "outputs": [],
   "source": [
    "class Choice:\n",
    "    def __init__(self, e1, e2): self.e1, self.e2 = e1, e2\n",
    "    def __repr__(self): return '(' + str(self.e1) + '|' + str(self.e2) + ')'\n",
    "\n",
    "class Conc:\n",
    "    def __init__(self, e1, e2): self.e1, self.e2 = e1, e2\n",
    "    def __repr__(self): return '(' + str(self.e1) + str(self.e2) + ')'\n",
    "\n",
    "class Star:\n",
    "    def __init__(self, e): self.e = e\n",
    "    def __repr__(self): return '(' + str(self.e) + ')*'"
   ]
  },
  {
   "cell_type": "markdown",
   "metadata": {
    "deletable": false,
    "editable": false,
    "nbgrader": {
     "cell_type": "markdown",
     "checksum": "b53c1a694a7a7b204b77542b0dc80b3e",
     "grade": false,
     "grade_id": "cell-5f685bcbc0e51abd",
     "locked": true,
     "schema_version": 3,
     "solution": false,
     "task": false
    },
    "tags": []
   },
   "source": [
    "Here is the concrete grammar for regular expressions:"
   ]
  },
  {
   "cell_type": "markdown",
   "metadata": {
    "deletable": false,
    "editable": false,
    "nbgrader": {
     "cell_type": "markdown",
     "checksum": "a063cdc6af8b6465a26d7eeeccd2adeb",
     "grade": false,
     "grade_id": "cell-094370356529010b",
     "locked": true,
     "schema_version": 3,
     "solution": false,
     "task": false
    },
    "tags": []
   },
   "source": [
    "    expression  →  term { '|' term }\n",
    "    term  →  factor { factor }\n",
    "    factor  →  atom [ '*' | '+' | '?' ]\n",
    "    atom  →  plainchar | escapedchar | '(' expression ')'\n",
    "    plainchar  →  ' ' | '!' | '\"' | '#' | '$' | '%' | '&' | '\\'' | ',' | '-' | '.' | '/' |\n",
    "         '0' | '1' | '2' | '3' | '4' | '5' | '6' | '7' | '8' | '9' | ':' | ';' | '<' | '=' | '>' | \n",
    "         '@' | 'A' | 'B' | 'C' | 'D' | 'E' | 'F' | 'G' | 'H' | 'I' | 'J' | 'K' | 'L' | 'M' | 'N' | 'O' |\n",
    "         'P' | 'Q' | 'R' | 'S' | 'T' | 'U' | 'V' | 'W' | 'X' | 'Y' | 'Z' | '[' | ']' | '^' | '_' |\n",
    "         '`' | 'a' | 'b' | 'c' | 'd' | 'e' | 'f' | 'g' | 'h' | 'i' | 'j' | 'k' | 'l' | 'm' | 'n' | 'o' |\n",
    "         'p' | 'q' | 'r' | 's' | 't' | 'u' | 'v' | 'w' | 'x' | 'y' | 'z' | '{' | '}' | '~'\n",
    "    escapedchar  → '\\' ( '(' | ')' | '*' | '+' | '?' | '\\' | '|' )"
   ]
  },
  {
   "cell_type": "markdown",
   "metadata": {
    "deletable": false,
    "editable": false,
    "nbgrader": {
     "cell_type": "markdown",
     "checksum": "58dbf1c09d7be91bce5b56e93e6a039b",
     "grade": false,
     "grade_id": "cell-a1b1717b26465619",
     "locked": true,
     "schema_version": 3,
     "solution": false,
     "task": false
    },
    "tags": []
   },
   "source": [
    "The attribute grammar for constructing the abstract syntax tree of regular expressions is:"
   ]
  },
  {
   "cell_type": "markdown",
   "metadata": {
    "deletable": false,
    "editable": false,
    "nbgrader": {
     "cell_type": "markdown",
     "checksum": "8cdffc4469552c5e4ea4b1859f50524f",
     "grade": false,
     "grade_id": "cell-5522943a70ed0e87",
     "locked": true,
     "schema_version": 3,
     "solution": false,
     "task": false
    },
    "tags": []
   },
   "source": [
    "    expression(e)  →  term(e) { '|' term(f) « e := Choice(e, f) »  }\n",
    "    term(e)  →  factor(e) { factor(f) « e := Conc(e, f) » }\n",
    "    factor(e) → atom(e) [ '*' « e := Star(e) » | '+' « e := Conc(e, Star(e)) » | '?' « e := Choice(e, '') » ]\n",
    "    atom(e)  →  plainchar(e) | escapedchar(e) | '(' expression(e) ')'\n",
    "    plainchar(e)  →  ' ' « e := ' ' » | ... | '~' « e := '~' »\n",
    "    escapedchar(e)  → '\\\\' ( '(' « e := '(' » | ')' | ... | '|' « e := '|' »)"
   ]
  },
  {
   "cell_type": "markdown",
   "metadata": {
    "deletable": false,
    "editable": false,
    "nbgrader": {
     "cell_type": "markdown",
     "checksum": "fc8b9e5904e8e4ea28b2ef7b6bd55a11",
     "grade": false,
     "grade_id": "cell-9ecd5651d180bcf4",
     "locked": true,
     "schema_version": 3,
     "solution": false,
     "task": false
    },
    "tags": []
   },
   "source": [
    "The corresponding parser in Python is:"
   ]
  },
  {
   "cell_type": "code",
   "execution_count": 15,
   "metadata": {
    "deletable": false,
    "editable": false,
    "nbgrader": {
     "cell_type": "code",
     "checksum": "3d9a428a0ff1130fa2f579e93cfb4b90",
     "grade": false,
     "grade_id": "cell-d7b1a87a6a3293f3",
     "locked": true,
     "schema_version": 3,
     "solution": false,
     "task": false
    },
    "tags": []
   },
   "outputs": [],
   "source": [
    "PlainChars = ' !\"#$%&\\',-./0123456789:;<=>@ABCDEFGHIJKLMNO' + \\\n",
    "             'PQRSTUVWXYZ[]^_`abcdefghijklmnopqrstuvwxyz{}~'\n",
    "EscapedChars = '()*+?\\\\|'\n",
    "FirstFactor = PlainChars + '\\\\('\n",
    "\n",
    "def nxt():\n",
    "    global pos, sym\n",
    "    if pos < len(src): sym, pos = src[pos], pos+1\n",
    "    else: sym = chr(0) # end of input symbol\n",
    "\n",
    "def expression():\n",
    "    e = term()\n",
    "    while sym == '|': nxt(); e = Choice(e, term())\n",
    "    return e\n",
    "\n",
    "def term():\n",
    "    e = factor()\n",
    "    while sym in FirstFactor: e = Conc(e, factor())\n",
    "    return e\n",
    "\n",
    "def factor():\n",
    "    e = atom()\n",
    "    if sym == '*': nxt(); e = Star(e)\n",
    "    elif sym == '+': nxt(); e = Conc(e, Star(e))\n",
    "    elif sym == '?': nxt(); e = Choice(e, '')\n",
    "    return e\n",
    "\n",
    "def atom():\n",
    "    if sym in PlainChars: e = sym; nxt()\n",
    "    elif sym == '\\\\':\n",
    "        nxt()\n",
    "        if sym in EscapedChars: e = sym; nxt()\n",
    "        else: raise Exception(\"invalid escaped character at \" + str(pos))\n",
    "    elif sym == '(':\n",
    "        nxt(); e = expression()\n",
    "        if sym == ')': nxt()\n",
    "        else: raise Exception(\"')' expected at \" + str(pos))\n",
    "    else: raise Exception(\"invalid character at \" + str(pos))\n",
    "    return e\n",
    "\n",
    "def parse(s: str):\n",
    "    global src, pos;\n",
    "    src, pos = s, 0; nxt(); e = expression()\n",
    "    if sym != chr(0): raise Exception(\"unexpected character at \" + str(pos))\n",
    "    return e"
   ]
  },
  {
   "cell_type": "markdown",
   "metadata": {
    "deletable": false,
    "editable": false,
    "nbgrader": {
     "cell_type": "markdown",
     "checksum": "6ba90c7d57fd64a490fee908702921b5",
     "grade": false,
     "grade_id": "cell-f674102e94c664bc",
     "locked": true,
     "schema_version": 3,
     "solution": false,
     "task": false
    },
    "tags": []
   },
   "source": [
    "Here is more code from the course notes:"
   ]
  },
  {
   "cell_type": "code",
   "execution_count": 16,
   "metadata": {
    "deletable": false,
    "editable": false,
    "nbgrader": {
     "cell_type": "code",
     "checksum": "5e5138f56da6b317aa00ebbe8801a705",
     "grade": false,
     "grade_id": "cell-8af950a427e9c54e",
     "locked": true,
     "schema_version": 3,
     "solution": false,
     "task": false
    },
    "tags": []
   },
   "outputs": [],
   "source": [
    "def REToFSA(re):\n",
    "    global QC\n",
    "    if re == '': q = QC; QC += 1; return FiniteStateAutomaton(set(), {q}, set(), q, {q})\n",
    "    elif type(re) == str:\n",
    "        q = QC; QC += 1; r = QC; QC += 1\n",
    "        return FiniteStateAutomaton({re}, {q, r}, {(q, re, r)}, q, {r})\n",
    "    elif type(re) == Choice:\n",
    "        A1, A2 = REToFSA(re.e1), REToFSA(re.e2)\n",
    "        R2 = {(A1.q0 if q == A2.q0 else q, a, r) for (q, a, r) in A2.R} # A2.q0 renamed to A1.q0 in A2.R\n",
    "        F2 = {A1.q0 if q == A2.q0 else q for q in A2.F} # A2.q0 renamed to A1.q0 in A2.F\n",
    "        return FiniteStateAutomaton(A1.T | A2.T, A1.Q | A2.Q, A1.R | R2, A1.q0, A1.F | F2)\n",
    "    elif type(re) == Conc:\n",
    "        A1, A2 = REToFSA(re.e1), REToFSA(re.e2)\n",
    "        R = A1.R | {(f, a, r) for (q, a, r) in A2.R if q == A2.q0 for f in A1.F} | \\\n",
    "            {(q, a, r) for (q, a, r) in A2.R if q != A2.q0}\n",
    "        F = (A2.F - {A2.q0}) | (A1.F if A2.q0 in A2.F else set())\n",
    "        return FiniteStateAutomaton(A1.T | A2.T, A1.Q | A2.Q, R, A1.q0, F)\n",
    "    elif type(re) == Star:\n",
    "        A = REToFSA(re.e)\n",
    "        R = A.R | {(f, a, r) for (q, a, r) in A.R if q == A.q0 for f in A.F}\n",
    "        return FiniteStateAutomaton(A.T, A.Q, R, A.q0, {A.q0} | A.F)\n",
    "    else: raise Exception('not a regular expression')\n",
    "\n",
    "def convertRegExToFSA(re):\n",
    "    global QC; QC = 0\n",
    "    return REToFSA(re)"
   ]
  },
  {
   "cell_type": "code",
   "execution_count": 17,
   "metadata": {
    "deletable": false,
    "editable": false,
    "nbgrader": {
     "cell_type": "code",
     "checksum": "fdb81c5bb3a107684db5b609dbbf2545",
     "grade": false,
     "grade_id": "cell-3108ceae52720db2",
     "locked": true,
     "schema_version": 3,
     "solution": false,
     "task": false
    },
    "tags": []
   },
   "outputs": [],
   "source": [
    "def deterministicFSA(fsa: FiniteStateAutomaton) -> FiniteStateAutomaton:\n",
    "    qʹ0 = set({fsa.q0})\n",
    "    Qʹ, Rʹ, visited = {qʹ0}, set(), set()\n",
    "    # print(Qʹ, Rʹ, visited)\n",
    "    while visited != Qʹ:\n",
    "        qʹ = (Qʹ - visited).pop(); visited |= {qʹ}\n",
    "        for t in fsa.T:\n",
    "            rʹ = {r for (q, u, r) in fsa.R if u == t and q in qʹ}\n",
    "            if rʹ != set(): Qʹ |= {set(rʹ)}; Rʹ |= {(qʹ, t, set(rʹ))}\n",
    "        # print(Qʹ, Rʹ, visited)\n",
    "    Fʹ = {qʹ for qʹ in Qʹ for f in fsa.F if f in qʹ}\n",
    "    return FiniteStateAutomaton(fsa.T, Qʹ, Rʹ, qʹ0, Fʹ)\n",
    "\n",
    "def accepts(fsa: FiniteStateAutomaton, τ: str) -> bool:\n",
    "    δ = {(q, a): r for (q, a, r) in fsa.R}\n",
    "    q = fsa.q0\n",
    "    for t in τ:\n",
    "        if (q, t) in δ: q = δ[q, t]\n",
    "        else: return False\n",
    "    return q in fsa.F"
   ]
  },
  {
   "cell_type": "code",
   "execution_count": 18,
   "metadata": {
    "deletable": false,
    "editable": false,
    "nbgrader": {
     "cell_type": "code",
     "checksum": "41716ba08a997293a635382b3f19e368",
     "grade": false,
     "grade_id": "cell-881ff448ba974a44",
     "locked": true,
     "schema_version": 3,
     "solution": false,
     "task": false
    },
    "tags": []
   },
   "outputs": [],
   "source": [
    "def equalRegEx(E1, E2):\n",
    "    a1 = deterministicFSA(convertRegExToFSA(parse(E1)))\n",
    "    a2 = deterministicFSA(convertRegExToFSA(parse(E2)))\n",
    "    return equivalentFSA(a1, a2)"
   ]
  },
  {
   "cell_type": "markdown",
   "metadata": {
    "deletable": false,
    "editable": false,
    "nbgrader": {
     "cell_type": "markdown",
     "checksum": "7500e788735951ef0a32850c28c159f5",
     "grade": false,
     "grade_id": "cell-e52c81f9e3896ffc",
     "locked": true,
     "schema_version": 3,
     "solution": false,
     "task": false
    },
    "tags": []
   },
   "source": [
    "The task is to extend regular expressions with exponentiation with a single digit exponent `⁰`, `¹`, `²`, or `³`. For example:\n",
    "- `(ab)²` is `ab` repeated twice, i.e. `abab`;\n",
    "- `a³` is `a` repeated three times, i.e. `aaa`;\n",
    "- `(a³)²` is `a³` repeated twice, i.e. `aaaaaa`;\n",
    "- `(abc)¹` is just `abc`;\n",
    "- `a⁰` is `ε`.\n",
    "\n",
    "We let any exponent bind the same way as postfix operators `*`, `+`, and `?`, for example:\n",
    "\n",
    "    ab² = a(b²)\n",
    "    \n",
    "In the same way as `a+*` is not allowed (it would have to be written as `(a+)*`), `a²³` is not allowed (it would have to be written as `(a²)³`. Extend the above grammar for regular expressions accordingly! The exponents should only appear as operators, they cannot be escaped, as in `\\²`. Use the cell below."
   ]
  },
  {
   "cell_type": "markdown",
   "metadata": {
    "deletable": false,
    "nbgrader": {
     "cell_type": "markdown",
     "checksum": "d6176bb45f8cad5d295a4300d7852db6",
     "grade": true,
     "grade_id": "cell-f4369dae2a11a036",
     "locked": false,
     "points": 2,
     "schema_version": 3,
     "solution": true,
     "task": false
    },
    "tags": []
   },
   "source": [
    "    expression  →  term { '|' term }\n",
    "    term  →  factor { factor }\n",
    "    factor  →  atom [ '*' | '+' | '?' ]\n",
    "    atom  →  plainchar [ exponent ] | escapedchar | '(' expression ')' [ exponent ]\n",
    "    plainchar  →  ' ' | '!' | '\"' | '#' | '$' | '%' | '&' | '\\'' | ',' | '-' | '.' | '/' |\n",
    "         '0' | '1' | '2' | '3' | '4' | '5' | '6' | '7' | '8' | '9' | ':' | ';' | '<' | '=' | '>' | \n",
    "         '@' | 'A' | 'B' | 'C' | 'D' | 'E' | 'F' | 'G' | 'H' | 'I' | 'J' | 'K' | 'L' | 'M' | 'N' | 'O' |\n",
    "         'P' | 'Q' | 'R' | 'S' | 'T' | 'U' | 'V' | 'W' | 'X' | 'Y' | 'Z' | '[' | ']' | '^' | '_' |\n",
    "         '`' | 'a' | 'b' | 'c' | 'd' | 'e' | 'f' | 'g' | 'h' | 'i' | 'j' | 'k' | 'l' | 'm' | 'n' | 'o' |\n",
    "         'p' | 'q' | 'r' | 's' | 't' | 'u' | 'v' | 'w' | 'x' | 'y' | 'z' | '{' | '}' | '~'\n",
    "    escapedchar  → '\\' ( '(' | ')' | '*' | '+' | '?' | '\\' | '|' )\n",
    "    exponent  →  `⁰` | `¹` | `²` | `³`"
   ]
  },
  {
   "cell_type": "markdown",
   "metadata": {},
   "source": [
    "    expression  →  term { '|' term }\n",
    "    term  →  factor { factor }\n",
    "    factor  →  atom [ '*' | '+' | '?' | exponent ]\n",
    "    atom  →  plainchar | escapedchar | '(' expression ')'\n",
    "    plainchar  →  ' ' | '!' | '\"' | '#' | '$' | '%' | '&' | '\\'' | ',' | '-' | '.' | '/' |\n",
    "         '0' | '1' | '2' | '3' | '4' | '5' | '6' | '7' | '8' | '9' | ':' | ';' | '<' | '=' | '>' | \n",
    "         '@' | 'A' | 'B' | 'C' | 'D' | 'E' | 'F' | 'G' | 'H' | 'I' | 'J' | 'K' | 'L' | 'M' | 'N' | 'O' |\n",
    "         'P' | 'Q' | 'R' | 'S' | 'T' | 'U' | 'V' | 'W' | 'X' | 'Y' | 'Z' | '[' | ']' | '^' | '_' |\n",
    "         '`' | 'a' | 'b' | 'c' | 'd' | 'e' | 'f' | 'g' | 'h' | 'i' | 'j' | 'k' | 'l' | 'm' | 'n' | 'o' |\n",
    "         'p' | 'q' | 'r' | 's' | 't' | 'u' | 'v' | 'w' | 'x' | 'y' | 'z' | '{' | '}' | '~'\n",
    "    escapedchar  → '\\' ( '(' | ')' | '*' | '+' | '?' | '\\' | '|' )\n",
    "    exponent  →  `⁰` | `¹` | `²` | `³`"
   ]
  },
  {
   "cell_type": "markdown",
   "metadata": {
    "deletable": false,
    "editable": false,
    "nbgrader": {
     "cell_type": "markdown",
     "checksum": "8b1bbdb0b5dff449819f44d09770ac30",
     "grade": false,
     "grade_id": "cell-d90cb80b0047ee49",
     "locked": true,
     "schema_version": 3,
     "solution": false,
     "task": false
    },
    "tags": []
   },
   "source": [
    "Extend the above attribute grammar above to construct an abstract syntax tree of regular expressions with exponentiation! The type of the nodes should not be extended. Rather, exponents should be \"expanded\". For example, the abstract syntax tree of `ab²` is `Conc('a', Conc('b', 'b'))`. Use the cell below."
   ]
  },
  {
   "cell_type": "markdown",
   "metadata": {
    "deletable": false,
    "nbgrader": {
     "cell_type": "markdown",
     "checksum": "17ba55cdc8265ea42d28367d18efca14",
     "grade": true,
     "grade_id": "cell-52bda9f49e469a8f",
     "locked": false,
     "points": 2,
     "schema_version": 3,
     "solution": true,
     "task": false
    },
    "tags": []
   },
   "source": [
    "    expression(e)  →  term(e) { '|' term(f) « e := Choice(e, f) »  }\n",
    "    term(e)  →  factor(e) { factor(f) « e := Conc(e, f) » }\n",
    "    factor(e) → atom(e) [ '*' « e := Star(e) » | '+' « e := Conc(e, Star(e)) » | '?' « e := Choice(e, '') » ]\n",
    "    atom(e)  →  plainchar(e) [ exponent(n) « e := conc_n(e, n) » ] | escapedchar(e) | '(' expression(e) ')' [ exponent(n) « e := conc_n(e, n) » ]\n",
    "    plainchar(e)  →  ' ' « e := ' ' » | ... | '~' « e := '~' »\n",
    "    escapedchar(e)  → '\\\\' ( '(' « e := '(' » | ')' | ... | '|' « e := '|' »)\n",
    "    exponent(e)  →  `⁰` « e := 0 » | `¹` « e := 1 » | `²` « e := 2 » | `³` « e := 3 »\n",
    "\n",
    " - The auxiliary function `conc_n(e, n)` creates concatenation `Conc` of expression `e` `n` number of times."
   ]
  },
  {
   "cell_type": "markdown",
   "metadata": {},
   "source": [
    "    expression(e)  →  term(e) { '|' term(f) « e := Choice(e, f) »  }\n",
    "    term(e)  →  factor(e) { factor(f) « e := Conc(e, f) » }\n",
    "    factor(e) → atom(e) [ '*' « e := Star(e) » | '+' « e := Conc(e, Star(e)) » | '?' « e := Choice(e, '') » | exponent(n) « e := conc_n(e, n) » ]\n",
    "    atom(e)  →  plainchar(e) | escapedchar(e) | '(' expression(e) ')'\n",
    "    plainchar(e)  →  ' ' « e := ' ' » | ... | '~' « e := '~' »\n",
    "    escapedchar(e)  → '\\\\' ( '(' « e := '(' » | ')' | ... | '|' « e := '|' »)\n",
    "    exponent(e)  →  `⁰` « e := 0 » | `¹` « e := 1 » | `²` « e := 2 » | `³` « e := 3 »\n",
    "\n",
    " - The auxiliary function `conc_n(e, n)` creates concatenation `Conc` of expression `e` `n` number of times."
   ]
  },
  {
   "cell_type": "markdown",
   "metadata": {
    "deletable": false,
    "editable": false,
    "nbgrader": {
     "cell_type": "markdown",
     "checksum": "4fa0fb6c4d1f95e7aff524479abbb936",
     "grade": false,
     "grade_id": "cell-db73728e7a06afe8",
     "locked": true,
     "schema_version": 3,
     "solution": false,
     "task": false
    },
    "tags": []
   },
   "source": [
    "Extend above Python parser accordingly! Use the cell below."
   ]
  },
  {
   "cell_type": "code",
   "execution_count": 21,
   "metadata": {
    "deletable": false,
    "nbgrader": {
     "cell_type": "code",
     "checksum": "6cd5c0f7746923fe18f9d3a9ef5d7ee5",
     "grade": false,
     "grade_id": "cell-70502ff4f7e7c8ad",
     "locked": false,
     "schema_version": 3,
     "solution": true,
     "task": false
    },
    "tags": []
   },
   "outputs": [],
   "source": [
    "PlainChars = ' !\"#$%&\\',-./0123456789:;<=>@ABCDEFGHIJKLMNO' + \\\n",
    "             'PQRSTUVWXYZ[]^_`abcdefghijklmnopqrstuvwxyz{}~'\n",
    "EscapedChars = '()*+?\\\\|'\n",
    "FirstFactor = PlainChars + '\\\\('\n",
    "Exponents = {'⁰': 0, '¹': 1, '²': 2, '³': 3}\n",
    "\n",
    "def nxt():\n",
    "    global pos, sym\n",
    "    if pos < len(src): sym, pos = src[pos], pos+1\n",
    "    else: sym = chr(0) # end of input symbol\n",
    "\n",
    "def expression():\n",
    "    e = term()\n",
    "    while sym == '|': nxt(); e = Choice(e, term())\n",
    "    return e\n",
    "\n",
    "def term():\n",
    "    e = factor()\n",
    "    while sym in FirstFactor: e = Conc(e, factor())\n",
    "    return e\n",
    "\n",
    "def factor():\n",
    "    e = atom()\n",
    "    if sym == '*': nxt(); e = Star(e)\n",
    "    elif sym == '+': nxt(); e = Conc(e, Star(e))\n",
    "    elif sym == '?': nxt(); e = Choice(e, '')\n",
    "    elif sym in Exponents: e = conc_n(e, Exponents[sym]); nxt()\n",
    "    return e\n",
    "\n",
    "def atom():\n",
    "    if sym in PlainChars: e = sym; nxt()\n",
    "    elif sym == '\\\\':\n",
    "        nxt()\n",
    "        if sym in EscapedChars: e = sym; nxt()\n",
    "        else: raise Exception(\"invalid escaped character at \" + str(pos))\n",
    "    elif sym == '(':\n",
    "        nxt(); e = expression()\n",
    "        if sym == ')': nxt()\n",
    "        else: raise Exception(\"')' expected at \" + str(pos))\n",
    "    else: raise Exception(\"invalid character at \" + str(pos))\n",
    "    return e\n",
    "\n",
    "def conc_n(e, n):\n",
    "    if n == 0:\n",
    "        return ''\n",
    "    if n == 1:\n",
    "        return e\n",
    "    return Conc(e, conc_n(e, n - 1))\n",
    "\n",
    "def parse(s: str):\n",
    "    global src, pos;\n",
    "    src, pos = s, 0; nxt(); e = expression()\n",
    "    if sym != chr(0): raise Exception(\"unexpected character at \" + str(pos))\n",
    "    return e"
   ]
  },
  {
   "cell_type": "markdown",
   "metadata": {
    "deletable": false,
    "editable": false,
    "nbgrader": {
     "cell_type": "markdown",
     "checksum": "1f0522fd5b0ec822f43c826d1df5b2f7",
     "grade": false,
     "grade_id": "cell-f62b9104052526ba",
     "locked": true,
     "schema_version": 3,
     "solution": false,
     "task": false
    },
    "tags": []
   },
   "source": [
    "Here are some test cases. Note that the abstract syntax tree of `a³` is the same as that of `a(aa)`."
   ]
  },
  {
   "cell_type": "code",
   "execution_count": 22,
   "metadata": {
    "deletable": false,
    "editable": false,
    "nbgrader": {
     "cell_type": "code",
     "checksum": "adae4c87aa535fb972de0146acdacf13",
     "grade": true,
     "grade_id": "cell-6e37aa6d4aa46efa",
     "locked": true,
     "points": 4,
     "schema_version": 3,
     "solution": false,
     "task": false
    },
    "tags": []
   },
   "outputs": [],
   "source": [
    "assert str(parse('a⁰')) == ''\n",
    "assert str(parse('ab¹')) == '(ab)'\n",
    "assert str(parse('ab²')) == '(a(bb))'\n",
    "assert str(parse('(ab)²')) == '((ab)(ab))'\n",
    "assert str(parse('a³')) == '(a(aa))'\n",
    "assert str(parse('(a³)²')) == '((a(aa))(a(aa)))'\n",
    "assert str(parse('ab²')) == '(a(bb))'\n",
    "\n",
    "assert equalRegEx('a²', 'aa')\n",
    "assert equalRegEx('(ab)²', 'abab')\n",
    "assert equalRegEx('(a²)²', 'aaaa')\n",
    "assert equalRegEx('ab⁰', 'a')\n",
    "assert equalRegEx('(a³)²', 'aaaaaa')\n",
    "assert equalRegEx('(a|b)²', 'aa|ab|ba|bb')\n",
    "assert equalRegEx('(a*)²', 'a*')"
   ]
  }
 ],
 "metadata": {
  "kernelspec": {
   "display_name": "Python 3 (ipykernel)",
   "language": "python",
   "name": "python3"
  },
  "language_info": {
   "codemirror_mode": {
    "name": "ipython",
    "version": 3
   },
   "file_extension": ".py",
   "mimetype": "text/x-python",
   "name": "python",
   "nbconvert_exporter": "python",
   "pygments_lexer": "ipython3",
   "version": "3.11.1"
  }
 },
 "nbformat": 4,
 "nbformat_minor": 4
}
