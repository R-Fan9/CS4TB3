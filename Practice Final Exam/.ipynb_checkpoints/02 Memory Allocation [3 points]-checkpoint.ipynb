{
 "cells": [
  {
   "cell_type": "markdown",
   "metadata": {
    "deletable": false,
    "editable": false,
    "nbgrader": {
     "cell_type": "markdown",
     "checksum": "ee5f9f464e2abba1e4e5bbdc75a8ef6e",
     "grade": false,
     "grade_id": "cell-d027879301bb6a89",
     "locked": true,
     "schema_version": 3,
     "solution": false,
     "task": false
    },
    "tags": []
   },
   "source": [
    "#### Memory Allocation"
   ]
  },
  {
   "cell_type": "markdown",
   "metadata": {
    "deletable": false,
    "editable": false,
    "nbgrader": {
     "cell_type": "markdown",
     "checksum": "f183e820593b47aa613a60208d211920",
     "grade": false,
     "grade_id": "cell-f318546c68c8d802",
     "locked": true,
     "schema_version": 3,
     "solution": false,
     "task": false
    },
    "tags": []
   },
   "source": [
    "WebAssembly has several kinds of stores. In the WebAssembly code generator for P0, `CGwat`,\n",
    "- where and when are global integer, boolean, array, and record variables allocated,\n",
    "- where and when are local integer, boolean, array, and record variables allocated?\n",
    "\n",
    "Describe briefly!"
   ]
  },
  {
   "cell_type": "markdown",
   "metadata": {},
   "source": [
    " - Global integer and boolean variables are statically store in global store\n",
    " - Global array and records are stored in memory, and it is allocated at compile time\n",
    " - Local integer and boolean variables are stored in stack, and allocated at run-time by WebAssembly\n",
    " - Local arrays and records are also stored in the memory but allocated at run-time"
   ]
  },
  {
   "cell_type": "markdown",
   "metadata": {
    "deletable": false,
    "nbgrader": {
     "cell_type": "markdown",
     "checksum": "f456b097d31aebdc47b548cdc24659a0",
     "grade": true,
     "grade_id": "cell-1fe8efc9bbf2d3d7",
     "locked": false,
     "points": 2,
     "schema_version": 3,
     "solution": true,
     "task": false
    },
    "tags": []
   },
   "source": [
    "For global variables:\n",
    "In the `program()` method of the `P0` parser, it calls `declarations(GC.genGlobalVars)`.\n",
    "\n",
    " - `GC.genGlobalVars`\n",
    "     - declares a global variable `memsize` \n",
    "     - if the variable type is `Int` or `Bool`\n",
    "       allocates global WebAssembly variable by the same name as defined in the source program - `(global $' + sc[i].name + ' (mut i32) i32.const 0)`\n",
    "    - if the variable type is `Array` or `Record`\n",
    "      reserves space in memory as follows - `sc[i].lev, sc[i].adr, memsize = MemAbs, memsize, memsize + sc[i].tp.size`\n",
    " - `declarations`\n",
    "     - updates the top scope of symbol table as the source program is parsed\n",
    "\n",
    "For local variables:\n",
    "In the `body()` method of the `P0` parser, it calls `declarations(GC.genLocalVars)`.\n",
    "\n",
    " - `GC.genLocalVars`\n",
    "     - if the local identifier from the source program is of type `Var`\n",
    "       allocate local WebAssembly procedure variable by the same name defined i the source program - `(local $' + sc[i].name + ' i32)`"
   ]
  },
  {
   "cell_type": "markdown",
   "metadata": {
    "deletable": false,
    "editable": false,
    "nbgrader": {
     "cell_type": "markdown",
     "checksum": "edf829caafe999159763f9f80dc59875",
     "grade": false,
     "grade_id": "cell-261e0bdc5d3cefdd",
     "locked": true,
     "schema_version": 3,
     "solution": false,
     "task": false
    },
    "tags": []
   },
   "source": [
    "The MIPS architecture, like all RISC architectures, has only registers and the (main) memory as stores. Why does WebAssembly have more kinds of stores? Give a brief answer! Discuss also the issues surrounding procedure variables (also known as function pointers, lambda abstractions)!"
   ]
  },
  {
   "cell_type": "markdown",
   "metadata": {
    "deletable": false,
    "nbgrader": {
     "cell_type": "markdown",
     "checksum": "e4389ca01038217de827453cee272acb",
     "grade": true,
     "grade_id": "cell-00dab98555ed9166",
     "locked": false,
     "points": 1,
     "schema_version": 3,
     "solution": true,
     "task": false
    },
    "tags": []
   },
   "source": [
    "WebAssembly has more kinds of stores because it's designed to be a compilation target for a variety of high-level languages, including those that require features like a stack and heap memory management. It's more versatile to support these additional storage types to accommodate diverse language requirements. Also, it allows safe and efficient execution of code that originate from untrusted resources, ensuring that local and global variables are always accessed with the correct type."
   ]
  },
  {
   "cell_type": "markdown",
   "metadata": {},
   "source": [
    "var v: (a: int) -> (b: int)\n",
    "\n",
    "procedure q()  \n",
    "    var i: int  \n",
    "    procedure r(a: int) -> (b: int)  \n",
    "        b := a + i  \n",
    "    v = r \n",
    "\n",
    "procedure p()\n",
    "    q()  \n",
    "    v(3)\n",
    "\n",
    "The local variable `i` only belongs to procedure `q`. `v` is assigned to procedure `r`, and `i` is used with procedure `r`. In produre `p`, local variable `i` is already deallocated when `q()` terminates . By calling `v(3)`, it results in runtime error"
   ]
  }
 ],
 "metadata": {
  "kernelspec": {
   "display_name": "Python 3 (ipykernel)",
   "language": "python",
   "name": "python3"
  },
  "language_info": {
   "codemirror_mode": {
    "name": "ipython",
    "version": 3
   },
   "file_extension": ".py",
   "mimetype": "text/x-python",
   "name": "python",
   "nbconvert_exporter": "python",
   "pygments_lexer": "ipython3",
   "version": "3.11.1"
  }
 },
 "nbformat": 4,
 "nbformat_minor": 4
}
