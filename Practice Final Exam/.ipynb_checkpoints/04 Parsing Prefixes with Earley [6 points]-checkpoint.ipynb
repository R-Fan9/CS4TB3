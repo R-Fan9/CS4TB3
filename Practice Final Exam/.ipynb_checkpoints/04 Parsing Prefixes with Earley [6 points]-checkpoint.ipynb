{
 "cells": [
  {
   "cell_type": "markdown",
   "metadata": {
    "deletable": false,
    "editable": false,
    "nbgrader": {
     "cell_type": "markdown",
     "checksum": "fb13f016ea52eb06351c5623b0d5a722",
     "grade": false,
     "grade_id": "cell-d027879301bb6a89",
     "locked": true,
     "schema_version": 3,
     "solution": false,
     "task": false
    },
    "tags": []
   },
   "source": [
    "#### Parsing Prefixes with Earley"
   ]
  },
  {
   "cell_type": "markdown",
   "metadata": {
    "deletable": false,
    "editable": false,
    "nbgrader": {
     "cell_type": "markdown",
     "checksum": "57f00a400787511ac39280eb6c14de89",
     "grade": false,
     "grade_id": "cell-f318546c68c8d802",
     "locked": true,
     "schema_version": 3,
     "solution": false,
     "task": false
    },
    "tags": []
   },
   "source": [
    "Here is Earley's algorithm from the course notes\n",
    "```\n",
    "s₀ := {(S → • π, 0)}; for i = 1 to n do sᵢ := {}\n",
    "for i = 0 to n do\n",
    "    v := {}\n",
    "    while v ≠ sᵢ do\n",
    "        e :∈ sᵢ - v; v := v ∪ {e}\n",
    "        case e of\n",
    "            (A → σ • a ω, j) and a = xᵢ₊₁:        -- match (M)\n",
    "                sᵢ₊₁ := sᵢ₊₁ ∪ {(A → σ a • ω, j)} \n",
    "            (A → σ • B ω, j):                     -- predict (P)\n",
    "                for B → μ ∈ P do\n",
    "                    sᵢ := sᵢ ∪ {(B → • μ, i)} \n",
    "            (A → σ •, j):                         -- complete (C)\n",
    "                for (B → μ • A ξ, k) ∈ sⱼ do\n",
    "                    sᵢ := sᵢ ∪ {(B → μ A • ξ, k)}\n",
    "accept := (S → π •, 0) ∈ sₙ\n",
    "```\n",
    "\n",
    "and its implementation in Python:"
   ]
  },
  {
   "cell_type": "code",
   "execution_count": 1,
   "metadata": {
    "deletable": false,
    "editable": false,
    "nbgrader": {
     "cell_type": "code",
     "checksum": "4ec185b3759c201522bb575ce69b92c9",
     "grade": false,
     "grade_id": "cell-1fe8efc9bbf2d3d7",
     "locked": true,
     "schema_version": 3,
     "solution": false,
     "task": false
    },
    "tags": []
   },
   "outputs": [],
   "source": [
    "def parse(g: \"grammar\", x: \"input\"):\n",
    "    global s\n",
    "    n = len(x); x = '^' + x + '$'; S, π = g[0][0], g[0][2:]\n",
    "    s = [{(S, '', π, 0)}] + [set() for _ in range(n)]#; print('   s[ 0 ]:', S, '→ •', π, ', 0')\n",
    "    for i in range(n + 1):\n",
    "        v = set() # visited items\n",
    "        while v != s[i]:\n",
    "            e = (s[i] - v).pop(); v.add(e) # pick an arbirary un-visited item\n",
    "            A, σ, τ, j = e\n",
    "            if len(τ) > 0 and τ[0] == x[i + 1]: # match, a == τ[0]\n",
    "                f = (A, σ + τ[0], τ[1:], j)\n",
    "                s[i + 1].add(f)#; print('M  s[', i + 1, ']:', f[0], '→', f[1], '•', f[2], ',', f[3])\n",
    "            elif len(τ) > 0: # predict, B == ω[0]\n",
    "                for f in ((r[0], '', r[2:], i) for r in g if r[0] == τ[0]):\n",
    "                    s[i].add(f)#; print('P  s[', i, ']:', f[0], '→', f[1], '•', f[2], ',', f[3])\n",
    "            else: # complete, len(τ) == 0\n",
    "                for f in ((B, μ + ν[0], ν[1:], k) for (B, μ, ν, k) in s[j] if len(ν) > 0 and ν[0] == A):\n",
    "                    s[i].add(f)#; print('C  s[', i, ']:', f[0], '→', f[1], '•', f[2], ',', f[3])\n",
    "    return (S, π, '', 0) in s[n]"
   ]
  },
  {
   "cell_type": "markdown",
   "metadata": {
    "deletable": false,
    "editable": false,
    "nbgrader": {
     "cell_type": "markdown",
     "checksum": "50664aae0601d101d3cfa5a570499e62",
     "grade": false,
     "grade_id": "cell-120900b5f2728489",
     "locked": true,
     "schema_version": 3,
     "solution": false,
     "task": false
    },
    "tags": []
   },
   "source": [
    "Parsing an input with a grammar returns a Boolean result, e.g.:"
   ]
  },
  {
   "cell_type": "code",
   "execution_count": 2,
   "metadata": {
    "deletable": false,
    "editable": false,
    "nbgrader": {
     "cell_type": "code",
     "checksum": "ee7cfd8b75e82cd94e608b9bd80933e8",
     "grade": false,
     "grade_id": "cell-f513d597cf4a7770",
     "locked": true,
     "schema_version": 3,
     "solution": false,
     "task": false
    },
    "tags": []
   },
   "outputs": [],
   "source": [
    "G0 = (\"S→E\", \"E→a\", \"E→a+E\")"
   ]
  },
  {
   "cell_type": "code",
   "execution_count": 3,
   "metadata": {
    "deletable": false,
    "editable": false,
    "nbgrader": {
     "cell_type": "code",
     "checksum": "fc55be8c55996f9f21dc487e28a0c534",
     "grade": false,
     "grade_id": "cell-bb0b44b8100335d8",
     "locked": true,
     "schema_version": 3,
     "solution": false,
     "task": false
    },
    "tags": []
   },
   "outputs": [],
   "source": [
    "assert parse(G0, \"a+a\")\n",
    "assert parse(G0, \"a+a+a\")\n",
    "assert not parse(G0, \"a+b\")\n",
    "assert not parse(G0, \"b+a\")\n",
    "assert not parse(G0, \"a+a+\")"
   ]
  },
  {
   "cell_type": "markdown",
   "metadata": {
    "deletable": false,
    "editable": false,
    "nbgrader": {
     "cell_type": "markdown",
     "checksum": "16f26c4b22406754043f4be977ce5b92",
     "grade": false,
     "grade_id": "cell-f6e769e696a45b38",
     "locked": true,
     "schema_version": 3,
     "solution": false,
     "task": false
    },
    "tags": []
   },
   "source": [
    "For the last input, the prefixes `a` and `a+a` are derivable from the `S` in `G0`, but not the whole input. Now modify the Python implementation to return all positions up to which the input is derivable from the start symbol! Copy the body of the Python function `parse` to the cell below and modify it: "
   ]
  },
  {
   "cell_type": "code",
   "execution_count": 60,
   "metadata": {
    "deletable": false,
    "nbgrader": {
     "cell_type": "code",
     "checksum": "8a7c7c2cfaf33ca3a0632b549cb4ed84",
     "grade": false,
     "grade_id": "cell-b8a6a5f465ab9dff",
     "locked": false,
     "schema_version": 3,
     "solution": true,
     "task": false
    },
    "tags": []
   },
   "outputs": [],
   "source": [
    "def prefixparse(g: \"grammar\", x: \"input\"):\n",
    "    \n",
    "    def parse(x):\n",
    "        global s\n",
    "        n = len(x); x = '^' + x + '$'; S, π = g[0][0], g[0][2:]\n",
    "        s = [{(S, '', π, 0)}] + [set() for _ in range(n)]#; print('   s[ 0 ]:', S, '→ •', π, ', 0')\n",
    "        for i in range(n + 1):\n",
    "            v = set() # visited items\n",
    "            while v != s[i]:\n",
    "                e = (s[i] - v).pop(); v.add(e) # pick an arbirary un-visited item\n",
    "                A, σ, τ, j = e\n",
    "                if len(τ) > 0 and τ[0] == x[i + 1]: # match, a == τ[0]\n",
    "                    f = (A, σ + τ[0], τ[1:], j)\n",
    "                    s[i + 1].add(f)#; print('M  s[', i + 1, ']:', f[0], '→', f[1], '•', f[2], ',', f[3])\n",
    "                elif len(τ) > 0: # predict, B == ω[0]\n",
    "                    for f in ((r[0], '', r[2:], i) for r in g if r[0] == τ[0]):\n",
    "                        s[i].add(f)#; print('P  s[', i, ']:', f[0], '→', f[1], '•', f[2], ',', f[3])\n",
    "                else: # complete, len(τ) == 0\n",
    "                    for f in ((B, μ + ν[0], ν[1:], k) for (B, μ, ν, k) in s[j] if len(ν) > 0 and ν[0] == A):\n",
    "                        s[i].add(f)#; print('C  s[', i, ']:', f[0], '→', f[1], '•', f[2], ',', f[3])\n",
    "        return (S, π, '', 0) in s[n]\n",
    "        \n",
    "    return {i + 1 for i in range(len(x)) if parse(x[:i + 1])}"
   ]
  },
  {
   "cell_type": "markdown",
   "metadata": {
    "deletable": false,
    "editable": false,
    "nbgrader": {
     "cell_type": "markdown",
     "checksum": "737d574cfaa3470e481244e79e9155ea",
     "grade": false,
     "grade_id": "cell-7ca63638f12bcbae",
     "locked": true,
     "schema_version": 3,
     "solution": false,
     "task": false
    },
    "tags": []
   },
   "source": [
    "Here are some test cases."
   ]
  },
  {
   "cell_type": "code",
   "execution_count": 61,
   "metadata": {
    "deletable": false,
    "editable": false,
    "nbgrader": {
     "cell_type": "code",
     "checksum": "cf0c848388d733108cdf376941f24ad6",
     "grade": true,
     "grade_id": "cell-c6f6f9ca6bdf90fe",
     "locked": true,
     "points": 3,
     "schema_version": 3,
     "solution": false,
     "task": false
    },
    "tags": []
   },
   "outputs": [],
   "source": [
    "assert prefixparse(G0, \"a+a\") == {1, 3}\n",
    "assert prefixparse(G0, \"a+a+a\") == {1, 3, 5}\n",
    "assert prefixparse(G0, \"a+b\") == {1}\n",
    "assert prefixparse(G0, \"b+a\") == set()\n",
    "assert prefixparse(G0, \"a+a+\") == {1, 3}"
   ]
  },
  {
   "cell_type": "code",
   "execution_count": 62,
   "metadata": {
    "deletable": false,
    "editable": false,
    "nbgrader": {
     "cell_type": "code",
     "checksum": "e21b5517b22624a099eb767ab9862dbe",
     "grade": false,
     "grade_id": "cell-39004a08d3034d89",
     "locked": true,
     "schema_version": 3,
     "solution": false,
     "task": false
    },
    "tags": []
   },
   "outputs": [],
   "source": [
    "G1 = (\"S→E\", \"E→T\", \"E→E+T\", \"E→E-T\", \"T→F\", \"T→T×F\", \"F→a\", \"F→-E\", \"F→(E)\")"
   ]
  },
  {
   "cell_type": "code",
   "execution_count": 63,
   "metadata": {},
   "outputs": [
    {
     "data": {
      "text/plain": [
       "{4}"
      ]
     },
     "execution_count": 63,
     "metadata": {},
     "output_type": "execute_result"
    }
   ],
   "source": [
    "prefixparse(G1, \"(-a)\")"
   ]
  },
  {
   "cell_type": "code",
   "execution_count": 64,
   "metadata": {
    "deletable": false,
    "editable": false,
    "nbgrader": {
     "cell_type": "code",
     "checksum": "ab9e60985994cfb0232c85a81d38eaeb",
     "grade": true,
     "grade_id": "cell-09be0df7edc24d9f",
     "locked": true,
     "points": 3,
     "schema_version": 3,
     "solution": false,
     "task": false
    },
    "tags": []
   },
   "outputs": [],
   "source": [
    "assert prefixparse(G1, \"\") == set()\n",
    "assert prefixparse(G1, \"a×a+a×a\") == {1, 3, 5, 7}\n",
    "assert prefixparse(G1, \"--a\") == {3}\n",
    "assert prefixparse(G1, \"-(-a)))\") == {5}\n",
    "assert prefixparse(G1, \"((-(-a)\") == set()\n",
    "assert prefixparse(G1, \"-a×a\") == {2, 4}"
   ]
  },
  {
   "cell_type": "markdown",
   "metadata": {
    "deletable": false,
    "editable": false,
    "nbgrader": {
     "cell_type": "markdown",
     "checksum": "09b22644b3de4e8a5cb74c0557d1cbb2",
     "grade": false,
     "grade_id": "cell-5619c7cae6d8ea3d",
     "locked": true,
     "schema_version": 3,
     "solution": false,
     "task": false
    },
    "tags": []
   },
   "source": [
    "*Hint:* Some Python constructs may be of help. The function `enumerate` allows to iterate over elements of a list and their index, e.g.:"
   ]
  },
  {
   "cell_type": "code",
   "execution_count": 65,
   "metadata": {
    "deletable": false,
    "editable": false,
    "nbgrader": {
     "cell_type": "code",
     "checksum": "77bc5b16d0dcb2233c0bade0ffd54092",
     "grade": false,
     "grade_id": "cell-61d5d5ebfa5b3af1",
     "locked": true,
     "schema_version": 3,
     "solution": false,
     "task": false
    },
    "tags": []
   },
   "outputs": [],
   "source": [
    "assert [(i, e) for i, e in enumerate([3, 4, 5])] == [(0, 3), (1, 4), (2, 5)]"
   ]
  },
  {
   "cell_type": "markdown",
   "metadata": {
    "deletable": false,
    "editable": false,
    "nbgrader": {
     "cell_type": "markdown",
     "checksum": "65491243e01a7a835ea35d70d4bf59f0",
     "grade": false,
     "grade_id": "cell-b633a035d5be179b",
     "locked": true,
     "schema_version": 3,
     "solution": false,
     "task": false
    },
    "tags": []
   },
   "source": [
    "When iterating over tuples, the tuples can be decomposed, as in:"
   ]
  },
  {
   "cell_type": "code",
   "execution_count": 66,
   "metadata": {
    "deletable": false,
    "editable": false,
    "nbgrader": {
     "cell_type": "code",
     "checksum": "ac06f3e540167613d0772aafd0f2c6b3",
     "grade": false,
     "grade_id": "cell-051c0aea8fc7a1f0",
     "locked": true,
     "schema_version": 3,
     "solution": false,
     "task": false
    },
    "tags": []
   },
   "outputs": [],
   "source": [
    "assert sum(a == b for a, b in [(1, 2), (3, 3), (1, 1)]) == 2"
   ]
  }
 ],
 "metadata": {
  "kernelspec": {
   "display_name": "Python 3 (ipykernel)",
   "language": "python",
   "name": "python3"
  },
  "language_info": {
   "codemirror_mode": {
    "name": "ipython",
    "version": 3
   },
   "file_extension": ".py",
   "mimetype": "text/x-python",
   "name": "python",
   "nbconvert_exporter": "python",
   "pygments_lexer": "ipython3",
   "version": "3.11.1"
  }
 },
 "nbformat": 4,
 "nbformat_minor": 4
}
