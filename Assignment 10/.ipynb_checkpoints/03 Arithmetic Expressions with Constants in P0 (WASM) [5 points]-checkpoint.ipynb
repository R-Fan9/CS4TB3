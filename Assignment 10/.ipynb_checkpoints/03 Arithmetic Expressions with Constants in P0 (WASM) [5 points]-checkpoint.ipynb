{
 "cells": [
  {
   "cell_type": "markdown",
   "metadata": {
    "tags": []
   },
   "source": [
    "#### Arithmetic Expressions with Constants in P0 (WASM)"
   ]
  },
  {
   "cell_type": "code",
   "execution_count": 1,
   "metadata": {},
   "outputs": [],
   "source": [
    "import nbimporter; nbimporter.options[\"only_defs\"] = False\n",
    "from P0 import compileString"
   ]
  },
  {
   "cell_type": "markdown",
   "metadata": {
    "tags": []
   },
   "source": [
    "Analyze the generated code of the following program:"
   ]
  },
  {
   "cell_type": "code",
   "execution_count": 2,
   "metadata": {},
   "outputs": [
    {
     "name": "stdout",
     "output_type": "stream",
     "text": [
      "(module\n",
      "(import \"P0lib\" \"write\" (func $write (param i32)))\n",
      "(import \"P0lib\" \"writeln\" (func $writeln))\n",
      "(import \"P0lib\" \"read\" (func $read (result i32)))\n",
      "(global $x (mut i32) i32.const 0)\n",
      "(global $_memsize (mut i32) i32.const 0)\n",
      "(func $program\n",
      "(local $y i32)\n",
      "(local $0 i32)\n",
      "global.get $x\n",
      "i32.const 3\n",
      "i32.add\n",
      "i32.const 4\n",
      "i32.add\n",
      "local.set $y\n",
      "i32.const 7\n",
      "global.get $x\n",
      "i32.add\n",
      "local.set $y\n",
      "i32.const 3\n",
      "global.get $x\n",
      "i32.add\n",
      "i32.const 4\n",
      "i32.add\n",
      "local.set $y\n",
      ")\n",
      "(memory 1)\n",
      "(start $program)\n",
      ")\n"
     ]
    }
   ],
   "source": [
    "print(compileString(\"\"\"\n",
    "var x: integer\n",
    "program p\n",
    "  var y: integer\n",
    "    y := x + 3 + 4\n",
    "    y := 3 + 4 + x\n",
    "    y := 3 + x + 4\n",
    "\"\"\"))"
   ]
  },
  {
   "cell_type": "markdown",
   "metadata": {},
   "source": [
    "The second assignment adds `7`, but the first and third add `3` and `4` separately. Explain briefly why the P0 compiler generates that code!"
   ]
  },
  {
   "cell_type": "markdown",
   "metadata": {
    "deletable": false,
    "nbgrader": {
     "cell_type": "markdown",
     "checksum": "8134045618e7610d8cf84b986f88376d",
     "grade": true,
     "grade_id": "cell-85c4c2bb472837b5",
     "locked": false,
     "points": 3,
     "schema_version": 3,
     "solution": true,
     "task": false
    }
   },
   "source": [
    "Here are the `factor()` and `simpleExpression()` functions of P0.ipynb that deal with addition:\n",
    "```python\n",
    "def factor():\n",
    "    ...\n",
    "    elif SC.sym == NUMBER:\n",
    "        x = Const(Int, SC.val); x = CG.genConst(x); getSym()\n",
    "    ...\n",
    "        \n",
    "def simpleExpression():\n",
    "    ...\n",
    "    while SC.sym in {PLUS, MINUS, UNION, OR}:\n",
    "        ...\n",
    "        if op in {PLUS, MINUS} and x.tp == Int == y.tp:\n",
    "            if type(x) == Const == type(y): # constant folding\n",
    "                if op == PLUS: x.val = x.val + y.val\n",
    "                elif op == MINUS: x.val = x.val - y.val\n",
    "            ...\n",
    "        ...\n",
    "```\n",
    "\n",
    "In the `factor()` function, number literals such as `3` and `4` are interpreted as constants with type `Const()`. Due to the left-to-right parsing order, the `3 + 4` expression is evaluated before `+ x`, resulting in `7`, as per `if op == PLUS: x.val = x.val + y.val` within the `simpleExpression()` function.\n"
   ]
  },
  {
   "cell_type": "markdown",
   "metadata": {},
   "source": [
    "With a restricted range of integers, some programming languages implement strict arithmetic, meaning that overflow is an error, and some languages implement modulo arithmetic, meaning that there is no overflow, but the result \"wraps around\". Are compilers allowed to optimize the first and third assignments to add `7` with strict arithmetic and modulo arithmetic?"
   ]
  },
  {
   "cell_type": "markdown",
   "metadata": {
    "deletable": false,
    "nbgrader": {
     "cell_type": "markdown",
     "checksum": "a2e6ecf2c5c226790c1708f3a7a3a95a",
     "grade": true,
     "grade_id": "cell-7b3f4ead4ea5b20c",
     "locked": false,
     "points": 2,
     "schema_version": 3,
     "solution": true,
     "task": false
    }
   },
   "source": [
    "For the first assignment `y := x + 3 + 4`, if the language implements strict arithmetic, the compiler would treat the addition operation as potentially causing overflow, and hence may not optimize it. However, if the compiler can determine that overflow will not occur for the given range of integers, it might optimize the operation into a single constant value, `y := x + 7`.\n",
    "\n",
    "For the third assignment `y := 3 + x + 4`, since addition is associative, the compiler may choose to rearrange the operands to optimize the computation. In the case of modulo arithmetic, the compiler might optimize it into a single constant value, `y := x + 7` since the addition of `3` and `4` is equivalent to adding `7`. However, in the case of strict arithmetic, if the compiler cannot guarantee that overflow won't occur, it may not perform this optimization."
   ]
  }
 ],
 "metadata": {
  "kernelspec": {
   "display_name": "Python 3 (ipykernel)",
   "language": "python",
   "name": "python3"
  },
  "language_info": {
   "codemirror_mode": {
    "name": "ipython",
    "version": 3
   },
   "file_extension": ".py",
   "mimetype": "text/x-python",
   "name": "python",
   "nbconvert_exporter": "python",
   "pygments_lexer": "ipython3",
   "version": "3.11.1"
  }
 },
 "nbformat": 4,
 "nbformat_minor": 4
}
