{
 "cells": [
  {
   "cell_type": "markdown",
   "metadata": {
    "tags": []
   },
   "source": [
    "#### Algebraic Optimizations in P0 (WASM)"
   ]
  },
  {
   "cell_type": "code",
   "execution_count": 1,
   "metadata": {},
   "outputs": [],
   "source": [
    "import nbimporter; nbimporter.options[\"only_defs\"] = False\n",
    "from P0 import compileString"
   ]
  },
  {
   "cell_type": "markdown",
   "metadata": {
    "tags": []
   },
   "source": [
    "Analyze the generated code of the following program:"
   ]
  },
  {
   "cell_type": "code",
   "execution_count": 2,
   "metadata": {
    "scrolled": true
   },
   "outputs": [
    {
     "name": "stdout",
     "output_type": "stream",
     "text": [
      "(module\n",
      "(import \"P0lib\" \"write\" (func $write (param i32)))\n",
      "(import \"P0lib\" \"writeln\" (func $writeln))\n",
      "(import \"P0lib\" \"read\" (func $read (result i32)))\n",
      "(global $x (mut i32) i32.const 0)\n",
      "(global $_memsize (mut i32) i32.const 0)\n",
      "(func $program\n",
      "(local $y i32)\n",
      "(local $0 i32)\n",
      "i32.const 3\n",
      "global.set $x\n",
      "global.get $x\n",
      "local.set $y\n",
      "local.get $y\n",
      "global.set $x\n",
      "global.get $x\n",
      "local.set $y\n",
      "local.get $y\n",
      "global.set $x\n",
      "global.get $x\n",
      "local.set $y\n",
      "local.get $y\n",
      "global.set $x\n",
      ")\n",
      "(memory 1)\n",
      "(start $program)\n",
      ")\n"
     ]
    }
   ],
   "source": [
    "print(compileString(\"\"\"\n",
    "var x: integer\n",
    "program p\n",
    "  var y: integer\n",
    "    x := 3\n",
    "    y := x + 0\n",
    "    x := 0 + y\n",
    "    y := x × 1\n",
    "    x := 1 × y\n",
    "    y := x div 1\n",
    "    x := y - 0\n",
    "\"\"\"))"
   ]
  },
  {
   "cell_type": "markdown",
   "metadata": {},
   "source": [
    "The generated code includes instructions for adding `0` and multiplying by `1` in `x + 0`, `0 + y`, `x × 1`, and `1 × y`. Modify the parser `P0.ipynb` of the attached P0 compiler to leave out multiplications by `1`, divisions by `1`, additions of `0`, and subtractions of `0`! In the cell below, state which procedures in which files you modified!"
   ]
  },
  {
   "cell_type": "markdown",
   "metadata": {
    "deletable": false,
    "nbgrader": {
     "cell_type": "markdown",
     "checksum": "b65cec322b74ef38159a55dec63f594e",
     "grade": true,
     "grade_id": "cell-a7a3513b460f34bc",
     "locked": false,
     "points": 6,
     "schema_version": 3,
     "solution": true,
     "task": false
    },
    "slideshow": {
     "slide_type": "slide"
    }
   },
   "source": [
    "- In the `term()` function of P0.ipynb, multiplication or division with a right operand of constant 1 results in no change and continues the loop. However, if it's multiplication and the left operand is constant 1, it's simplified by assigning the right operand to the left.\n",
    "```python\n",
    "def term():\n",
    "    x = factor()\n",
    "    while SC.sym in {TIMES, DIV, MOD, INTERSECTION, AND}:\n",
    "        ...\n",
    "        y = factor() # x op y\n",
    "        if op in {TIMES, DIV, MOD} and x.tp == Int == y.tp:\n",
    "            ...\n",
    "            elif op in {TIMES, DIV} and type(y) == Const and y.val == 1: continue\n",
    "            elif op == TIMES and type(x) == Const and x.val == 1: x = y\n",
    "            else: x = CG.genBinaryOp(op, x, y)\n",
    "        ...\n",
    "    return x\n",
    "```\n",
    "\n",
    "- In the `simpleExpressio()` function of P0.ipynb, addition or substraction with a right operand of constant 0 results in no change and continues the loop. However, if it's addition and the left operand is constant 0, it's simplified by assigning the right operand to the left.\n",
    "```python\n",
    "def simpleExpression():\n",
    "    ...\n",
    "    else: x = term()\n",
    "    while SC.sym in {PLUS, MINUS, UNION, OR}:\n",
    "        ...\n",
    "        y = term() # x op y\n",
    "        if op in {PLUS, MINUS} and x.tp == Int == y.tp:\n",
    "            ...\n",
    "            elif type(y) == Const and y.val == 0: continue\n",
    "            elif op == PLUS and type(x) == Const and x.val == 0: x = y\n",
    "            else: x = CG.genBinaryOp(op, x, y)\n",
    "       ...\n",
    "    return x\n",
    "```"
   ]
  }
 ],
 "metadata": {
  "kernelspec": {
   "display_name": "Python 3 (ipykernel)",
   "language": "python",
   "name": "python3"
  },
  "language_info": {
   "codemirror_mode": {
    "name": "ipython",
    "version": 3
   },
   "file_extension": ".py",
   "mimetype": "text/x-python",
   "name": "python",
   "nbconvert_exporter": "python",
   "pygments_lexer": "ipython3",
   "version": "3.11.1"
  }
 },
 "nbformat": 4,
 "nbformat_minor": 4
}
