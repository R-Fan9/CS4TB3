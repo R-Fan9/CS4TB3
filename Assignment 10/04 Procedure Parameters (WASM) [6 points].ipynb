{
 "cells": [
  {
   "cell_type": "markdown",
   "metadata": {
    "tags": []
   },
   "source": [
    "#### Procedure Parameters (WASM)"
   ]
  },
  {
   "cell_type": "code",
   "execution_count": 4,
   "metadata": {},
   "outputs": [],
   "source": [
    "from wasmer import engine, Store, Module, Instance, ImportObject, Function\n",
    "from wasmer_compiler_cranelift import Compiler\n",
    "\n",
    "def runwasmer(wasmfile):\n",
    "    def write(i: int): print(i, end=' ')\n",
    "    def writeln(): print()\n",
    "    def read() -> int: return int(input()) \n",
    "    store = Store(engine.JIT(Compiler))\n",
    "    module = Module(store, open(wasmfile, 'rb').read())\n",
    "    import_object = ImportObject()\n",
    "    import_object.register(\"P0lib\", {\"write\": Function(store, write),\n",
    "                                     \"writeln\": Function(store, writeln),\"read\": Function(store, read)})\n",
    "    instance = Instance(module, import_object)"
   ]
  },
  {
   "cell_type": "markdown",
   "metadata": {},
   "source": [
    "Consider the following program in a hypothetical extension of P0. Procedure `map` applies procedure parameter `f` to each element of array parameter `a`:\n",
    "\n",
    "```Pascal\n",
    "const N = 3\n",
    "type A = [0..N - 1] → integer\n",
    "type F = (x: integer) → (y: integer)\n",
    "procedure map(f: F, a: A) → (b: A)\n",
    "    var i: integer\n",
    "        i := 0\n",
    "        while i < N do\n",
    "            b[i] ← f(a[i]); i := i + 1\n",
    "procedure square(x: integer) → (y: integer)\n",
    "    y := x ⨯ x\n",
    "program mapsquare\n",
    "    var a, b: A\n",
    "        a[0] := 3; a[1] := 1; a[2] := 4\n",
    "        b ← map(square, a)\n",
    "        write(b[2])\n",
    "```\n",
    "\n",
    "Translate this by hand to WebAssembly so that' call_indirect' makes the call to `f` in `map`. You can use the generated P0 code of fragments of the above code. Add comments to all places in your code that deal with indirect calls."
   ]
  },
  {
   "cell_type": "code",
   "execution_count": 32,
   "metadata": {
    "deletable": false,
    "nbgrader": {
     "cell_type": "code",
     "checksum": "18d388537f3fb4617723820763989f10",
     "grade": true,
     "grade_id": "cell-b02e10186679160e",
     "locked": false,
     "points": 6,
     "schema_version": 3,
     "solution": true,
     "task": false
    }
   },
   "outputs": [
    {
     "name": "stdout",
     "output_type": "stream",
     "text": [
      "Overwriting mapsquare.wat\n"
     ]
    }
   ],
   "source": [
    "%%writefile mapsquare.wat\n",
    "(module\n",
    "(import \"P0lib\" \"write\" (func $write (param i32)))\n",
    "(import \"P0lib\" \"writeln\" (func $writeln))\n",
    "(import \"P0lib\" \"read\" (func $read (result i32)))\n",
    "(global $N (mut i32) i32.const 3)\n",
    "(func $map (param $f i32) (param $a i32) (result i32)\n",
    "  (local $b i32)\n",
    "  (local $i i32)\n",
    "  (local $mp i32)\n",
    " \n",
    "  global.get $memsize\n",
    "  local.set $mp\n",
    "  global.get $memsize\n",
    "  local.tee $b\n",
    "  i32.const 12\n",
    "  i32.add\n",
    "  global.set $memsize\n",
    " \n",
    "  i32.const 0\n",
    "  local.set $i\n",
    "  loop $label0\n",
    "    local.get $i\n",
    "    global.get $N\n",
    "    i32.lt_s\n",
    "    if\n",
    "      ;; b[i] ← f(a[i])\n",
    "      local.get $i    ;; b[i]\n",
    "      i32.const 4     ;; size(integer)\n",
    "      i32.mul\n",
    "      local.get $b\n",
    "      i32.add\n",
    "\n",
    "      local.get $i    ;; push function parameter (a[i]) on stack\n",
    "      i32.const 4     ;; size(integer)\n",
    "      i32.mul\n",
    "      local.get $a\n",
    "      i32.add\n",
    "      i32.load\n",
    "      local.get $f    ;; push function index on stack\n",
    "      call_indirect (param i32) (result i32)    ;; indirect call \n",
    "\n",
    "      i32.store\n",
    "\n",
    "      local.get $i    ;; i := i + 1\n",
    "      i32.const 1\n",
    "      i32.add\n",
    "      local.set $i\n",
    "      br $label0\n",
    "    end\n",
    "  end\n",
    "\n",
    "  local.get $mp\n",
    "  global.set $memsize\n",
    "  local.get $b\n",
    ")\n",
    "(func $square (param $x i32) (result i32)\n",
    "  local.get $x\n",
    "  local.get $x\n",
    "  i32.mul\n",
    ")\n",
    "(global $memsize (mut i32) i32.const 24)\n",
    "(func $program\n",
    "  i32.const 0    ;; a[0] := 3\n",
    "  i32.const 4    ;; size(integer)\n",
    "  i32.mul\n",
    "  i32.const 0    ;; adr(a)\n",
    "  i32.add\n",
    "  i32.const 3\n",
    "  i32.store\n",
    "\n",
    "  i32.const 1    ;; a[1] := 1\n",
    "  i32.const 4    ;; size(integer)\n",
    "  i32.mul\n",
    "  i32.const 0    ;; adr(a)\n",
    "  i32.add\n",
    "  i32.const 1\n",
    "  i32.store\n",
    "\n",
    "  i32.const 2    ;; a[2] := 4\n",
    "  i32.const 4    ;; size(integer)\n",
    "  i32.mul\n",
    "  i32.const 0    ;; adr(a)\n",
    "  i32.add\n",
    "  i32.const 4\n",
    "  i32.store\n",
    "\n",
    "  i32.const 12    ;; b ← map(square, a)\n",
    "  i32.const 0     ;; push square function index 0 on stack\n",
    "  i32.const 0     ;; push pointer to array a on stack\n",
    "  call $map\n",
    "  i32.const 12\n",
    "  memory.copy\n",
    "\n",
    "  i32.const 2    ;; write(b[2])\n",
    "  i32.const 4\n",
    "  i32.mul\n",
    "  i32.const 12\n",
    "  i32.add\n",
    "  i32.load\n",
    "  call $write\n",
    ")\n",
    "(table 1 funcref)\n",
    "(elem (i32.const 0) $square)\n",
    "(memory 1)\n",
    "(start $program)\n",
    ")"
   ]
  },
  {
   "cell_type": "code",
   "execution_count": 33,
   "metadata": {},
   "outputs": [],
   "source": [
    "!wat2wasm mapsquare.wat"
   ]
  },
  {
   "cell_type": "markdown",
   "metadata": {},
   "source": [
    "Running the program should print `16`:"
   ]
  },
  {
   "cell_type": "code",
   "execution_count": 34,
   "metadata": {},
   "outputs": [
    {
     "name": "stdout",
     "output_type": "stream",
     "text": [
      "16 "
     ]
    }
   ],
   "source": [
    "runwasmer(\"mapsquare.wasm\")"
   ]
  }
 ],
 "metadata": {
  "kernelspec": {
   "display_name": "Python 3 (ipykernel)",
   "language": "python",
   "name": "python3"
  },
  "language_info": {
   "codemirror_mode": {
    "name": "ipython",
    "version": 3
   },
   "file_extension": ".py",
   "mimetype": "text/x-python",
   "name": "python",
   "nbconvert_exporter": "python",
   "pygments_lexer": "ipython3",
   "version": "3.11.1"
  }
 },
 "nbformat": 4,
 "nbformat_minor": 4
}
