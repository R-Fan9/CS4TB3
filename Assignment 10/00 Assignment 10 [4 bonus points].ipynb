{
 "cells": [
  {
   "cell_type": "markdown",
   "metadata": {
    "tags": []
   },
   "source": [
    "### COMPSCI 3TB3/4TB3/6TB3 Syntax-Directed Tools and Compilers, 2023/24, McMaster University, Lab 10 & Assignment 10"
   ]
  },
  {
   "cell_type": "markdown",
   "metadata": {
    "tags": []
   },
   "source": [
    "**Emil Sekerinski (instructor), Jin Xu, Khoa Bui (TAs)**\n",
    "\n",
    "Lab 10 is covered, and Assignment 10 is introduced at the following sessions:\n",
    "- L01 on Wednesday, March 20\n",
    "- L05 on Thursday, March 21\n",
    "- L02 on Friday, March 22\n",
    "- L04 on Friday, March 22\n",
    "- L03 on Monday, March 25\n",
    "\n",
    "**Lab 10 is due at the end of your lab session [4 bonus points].** \n",
    "- You can collaborate during the lab session on the lab questions.\n",
    "- You receive 4 bonus points for attempting all questions. You must submit the lab folder during the lab session and sign the attendance sheet at the beginning of the lab session to receive the bonus points.\n",
    "  \n",
    "**Assignment 10 is due Wednesday, March 27, 11 pm [24 points].**\n",
    "- You must work on this assignment on your own. You are encouraged to get a common understanding with fellow students, but the submission must be yours.\n",
    "- The following week's labs present answers to the assignment questions.\n",
    "- The bonus points of the lab count towards the points of the assignment, up to a maximum of 24 points.\n",
    "\n",
    "The purpose of this lab is for you to\n",
    "- understand the representation of programs as byte code using WebAssembly,\n",
    "- implement basic algebraic optimization techniques in P0 and understand what cannot be optimized,\n",
    "- understand how procedure parameters work in WebAssembly.\n",
    "\n",
    "*Instructions:*\n",
    "- Do not copy and paste graded cells, as that corrupts the notebook's metadata. You may add cells and copy the text of an existing cell to those, for example, if you would like to add test code or modify the given code. However, when the notebook is graded, all code is automatically executed from top to bottom, so you should remove or comment out extra code.\n",
    "- Write answers to questions only in the graded text or code cells.\n",
    "- Edit code only where it says YOUR CODE HERE; do not change the names of functions, methods, and classes; do not change the number or types of parameters; remove `raise NotImplementedError()`. Otherwise, the automatic grading fails, which may result in a deduction.\n",
    "- Before submitting, \"Restart Kernel\" and run the notebook code from the top to clear the state of the kernel and to check that the output is as expected. When notebooks are graded, they are run with a freshly initialized kernel.\n",
    "- Log files may be created when your program crashes. These log files may become so large that they prevent submission. Delete all log files and submit a cleaned-up folder.\n",
    "- You are asked to write well-structured and readable source code. The source code is always used for grading in addition to the test results. Your program passing the provided does not guarantee that your program is correct and that you will receive full (or any) marks."
   ]
  },
  {
   "cell_type": "markdown",
   "metadata": {},
   "source": [
    "The cell below is for grading purposes only; please ignore it."
   ]
  },
  {
   "cell_type": "markdown",
   "metadata": {
    "deletable": false,
    "nbgrader": {
     "cell_type": "markdown",
     "checksum": "a232cc19fa18733cd1a284e751a7b726",
     "grade": true,
     "grade_id": "cell-c17d2789f9d54401",
     "locked": false,
     "points": 0,
     "schema_version": 3,
     "solution": true,
     "task": false
    },
    "tags": []
   },
   "source": [
    "YOUR ANSWER HERE"
   ]
  }
 ],
 "metadata": {
  "kernelspec": {
   "display_name": "Python 3 (ipykernel)",
   "language": "python",
   "name": "python3"
  },
  "language_info": {
   "codemirror_mode": {
    "name": "ipython",
    "version": 3
   },
   "file_extension": ".py",
   "mimetype": "text/x-python",
   "name": "python",
   "nbconvert_exporter": "python",
   "pygments_lexer": "ipython3",
   "version": "3.11.1"
  }
 },
 "nbformat": 4,
 "nbformat_minor": 4
}
