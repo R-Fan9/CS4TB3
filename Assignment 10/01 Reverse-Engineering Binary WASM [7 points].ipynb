{
 "cells": [
  {
   "cell_type": "markdown",
   "metadata": {
    "solution": "shown",
    "tags": []
   },
   "source": [
    "#### Reverse-Engineering Binary WASM"
   ]
  },
  {
   "cell_type": "code",
   "execution_count": 30,
   "metadata": {},
   "outputs": [],
   "source": [
    "def runpywasm(wasmfile):\n",
    "    import pywasm\n",
    "    def write(s, i): print(i, end=' ')\n",
    "    def writeln(s): print()\n",
    "    def read(s): return int(input())\n",
    "    vm = pywasm.load(wasmfile, {'P0lib': {'write': write, 'writeln': writeln, 'read': read}})"
   ]
  },
  {
   "cell_type": "code",
   "execution_count": 31,
   "metadata": {},
   "outputs": [],
   "source": [
    "def hexdump(fn: str):\n",
    "    with open(fn, 'rb') as hexfile: # open binary file for reading\n",
    "        word, pos = hexfile.read(4), 0 # type(word) == bytes\n",
    "        while len(word) > 0:\n",
    "            print('{:#08x}'.format(pos) + ': ' +\n",
    "                  ' '.join('{:02X}'.format(b) for b in word) + '    ' +\n",
    "                  ''.join(chr(c) if 32 <= c < 127 else '.' for c in word))\n",
    "            word, pos = hexfile.read(4), pos + 4"
   ]
  },
  {
   "cell_type": "code",
   "execution_count": 32,
   "metadata": {},
   "outputs": [],
   "source": [
    "import nbimporter; nbimporter.options[\"only_defs\"] = False\n",
    "from P0 import compileString"
   ]
  },
  {
   "cell_type": "markdown",
   "metadata": {
    "tags": []
   },
   "source": [
    "Consider the following P0 program. Compile it first to a textual .wat file and then convert it to a binary file:"
   ]
  },
  {
   "cell_type": "code",
   "execution_count": 33,
   "metadata": {
    "tags": []
   },
   "outputs": [],
   "source": [
    "compileString(\"\"\"\n",
    "const N = 5\n",
    "var a: [1 .. N] → integer\n",
    "program seven\n",
    "  var i : integer\n",
    "    a[1] := 3; a[2] := 7; a[3] := 5; a[4] := 9; a[5] := 7\n",
    "    i := 1\n",
    "    while i ≤ N do\n",
    "      if a[i] = 7 then write(i)\n",
    "      i := i + 1\n",
    "\"\"\", 'seven.wat')"
   ]
  },
  {
   "cell_type": "code",
   "execution_count": 34,
   "metadata": {},
   "outputs": [],
   "source": [
    "!wat2wasm seven.wat"
   ]
  },
  {
   "cell_type": "markdown",
   "metadata": {},
   "source": [
    "You may check that it works as intended by executing the binary file:"
   ]
  },
  {
   "cell_type": "code",
   "execution_count": 35,
   "metadata": {},
   "outputs": [
    {
     "name": "stdout",
     "output_type": "stream",
     "text": [
      "2 5 "
     ]
    }
   ],
   "source": [
    "runpywasm('seven.wasm')"
   ]
  },
  {
   "cell_type": "code",
   "execution_count": 36,
   "metadata": {
    "scrolled": true
   },
   "outputs": [
    {
     "name": "stdout",
     "output_type": "stream",
     "text": [
      "(module\n",
      "(import \"P0lib\" \"write\" (func $write (param i32)))\n",
      "(import \"P0lib\" \"writeln\" (func $writeln))\n",
      "(import \"P0lib\" \"read\" (func $read (result i32)))\n",
      "(global $_memsize (mut i32) i32.const 20)\n",
      "(func $program\n",
      "(local $i i32)\n",
      "(local $0 i32)\n",
      "i32.const 0\n",
      "i32.const 3\n",
      "i32.store\n",
      "i32.const 4\n",
      "i32.const 7\n",
      "i32.store\n",
      "i32.const 8\n",
      "i32.const 5\n",
      "i32.store\n",
      "i32.const 12\n",
      "i32.const 9\n",
      "i32.store\n",
      "i32.const 16\n",
      "i32.const 7\n",
      "i32.store\n",
      "i32.const 1\n",
      "local.set $i\n",
      "loop\n",
      "local.get $i\n",
      "i32.const 5\n",
      "i32.le_s\n",
      "if\n",
      "local.get $i\n",
      "i32.const 1\n",
      "i32.sub\n",
      "i32.const 4\n",
      "i32.mul\n",
      "i32.const 0\n",
      "i32.add\n",
      "i32.load\n",
      "i32.const 7\n",
      "i32.eq\n",
      "if\n",
      "local.get $i\n",
      "call $write\n",
      "end\n",
      "local.get $i\n",
      "i32.const 1\n",
      "i32.add\n",
      "local.set $i\n",
      "br 1\n",
      "end\n",
      "end\n",
      ")\n",
      "(memory 1)\n",
      "(start $program)\n",
      ")"
     ]
    }
   ],
   "source": [
    "!cat seven.wat"
   ]
  },
  {
   "cell_type": "code",
   "execution_count": 37,
   "metadata": {
    "scrolled": true
   },
   "outputs": [
    {
     "name": "stdout",
     "output_type": "stream",
     "text": [
      "(module\n",
      "  (type (;0;) (func (param i32)))\n",
      "  (type (;1;) (func))\n",
      "  (type (;2;) (func (result i32)))\n",
      "  (import \"P0lib\" \"write\" (func (;0;) (type 0)))\n",
      "  (import \"P0lib\" \"writeln\" (func (;1;) (type 1)))\n",
      "  (import \"P0lib\" \"read\" (func (;2;) (type 2)))\n",
      "  (func (;3;) (type 1)\n",
      "    (local i32 i32)\n",
      "    i32.const 0\n",
      "    i32.const 3\n",
      "    i32.store\n",
      "    i32.const 4\n",
      "    i32.const 7\n",
      "    i32.store\n",
      "    i32.const 8\n",
      "    i32.const 5\n",
      "    i32.store\n",
      "    i32.const 12\n",
      "    i32.const 9\n",
      "    i32.store\n",
      "    i32.const 16\n",
      "    i32.const 7\n",
      "    i32.store\n",
      "    i32.const 1\n",
      "    local.set 0\n",
      "    loop  ;; label = @1\n",
      "      local.get 0\n",
      "      i32.const 5\n",
      "      i32.le_s\n",
      "      if  ;; label = @2\n",
      "        local.get 0\n",
      "        i32.const 1\n",
      "        i32.sub\n",
      "        i32.const 4\n",
      "        i32.mul\n",
      "        i32.const 0\n",
      "        i32.add\n",
      "        i32.load\n",
      "        i32.const 7\n",
      "        i32.eq\n",
      "        if  ;; label = @3\n",
      "          local.get 0\n",
      "          call 0\n",
      "        end\n",
      "        local.get 0\n",
      "        i32.const 1\n",
      "        i32.add\n",
      "        local.set 0\n",
      "        br 1 (;@1;)\n",
      "      end\n",
      "    end)\n",
      "  (memory (;0;) 1)\n",
      "  (global (;0;) (mut i32) (i32.const 20))\n",
      "  (start 3))\n"
     ]
    }
   ],
   "source": [
    "!wasm2wat seven.wasm"
   ]
  },
  {
   "cell_type": "markdown",
   "metadata": {},
   "source": [
    "Now \"reverse engineer\" `seven.wasm`:"
   ]
  },
  {
   "cell_type": "code",
   "execution_count": 38,
   "metadata": {
    "scrolled": true
   },
   "outputs": [
    {
     "name": "stdout",
     "output_type": "stream",
     "text": [
      "0x000000: 00 61 73 6D    .asm\n",
      "0x000004: 01 00 00 00    ....\n",
      "0x000008: 01 0C 03 60    ...`\n",
      "0x00000c: 01 7F 00 60    ...`\n",
      "0x000010: 00 00 60 00    ..`.\n",
      "0x000014: 01 7F 02 2C    ...,\n",
      "0x000018: 03 05 50 30    ..P0\n",
      "0x00001c: 6C 69 62 05    lib.\n",
      "0x000020: 77 72 69 74    writ\n",
      "0x000024: 65 00 00 05    e...\n",
      "0x000028: 50 30 6C 69    P0li\n",
      "0x00002c: 62 07 77 72    b.wr\n",
      "0x000030: 69 74 65 6C    itel\n",
      "0x000034: 6E 00 01 05    n...\n",
      "0x000038: 50 30 6C 69    P0li\n",
      "0x00003c: 62 04 72 65    b.re\n",
      "0x000040: 61 64 00 02    ad..\n",
      "0x000044: 03 02 01 01    ....\n",
      "0x000048: 05 03 01 00    ....\n",
      "0x00004c: 01 06 06 01    ....\n",
      "0x000050: 7F 01 41 14    ..A.\n",
      "0x000054: 0B 08 01 03    ....\n",
      "0x000058: 0A 59 01 57    .Y.W\n",
      "0x00005c: 01 02 7F 41    ...A\n",
      "0x000060: 00 41 03 36    .A.6\n",
      "0x000064: 02 00 41 04    ..A.\n",
      "0x000068: 41 07 36 02    A.6.\n",
      "0x00006c: 00 41 08 41    .A.A\n",
      "0x000070: 05 36 02 00    .6..\n",
      "0x000074: 41 0C 41 09    A.A.\n",
      "0x000078: 36 02 00 41    6..A\n",
      "0x00007c: 10 41 07 36    .A.6\n",
      "0x000080: 02 00 41 01    ..A.\n",
      "0x000084: 21 00 03 40    !..@\n",
      "0x000088: 20 00 41 05     .A.\n",
      "0x00008c: 4C 04 40 20    L.@ \n",
      "0x000090: 00 41 01 6B    .A.k\n",
      "0x000094: 41 04 6C 41    A.lA\n",
      "0x000098: 00 6A 28 02    .j(.\n",
      "0x00009c: 00 41 07 46    .A.F\n",
      "0x0000a0: 04 40 20 00    .@ .\n",
      "0x0000a4: 10 00 0B 20    ... \n",
      "0x0000a8: 00 41 01 6A    .A.j\n",
      "0x0000ac: 21 00 0C 01    !...\n",
      "0x0000b0: 0B 0B 0B    ...\n"
     ]
    }
   ],
   "source": [
    "hexdump('seven.wasm')"
   ]
  },
  {
   "cell_type": "markdown",
   "metadata": {
    "tags": []
   },
   "source": [
    "##### Part A"
   ]
  },
  {
   "cell_type": "markdown",
   "metadata": {
    "tags": []
   },
   "source": [
    "How long is the generated code in (decimal) bytes?"
   ]
  },
  {
   "cell_type": "markdown",
   "metadata": {
    "deletable": false,
    "nbgrader": {
     "cell_type": "markdown",
     "checksum": "a261e8e2903d76bba58ff2869f0f7411",
     "grade": true,
     "grade_id": "cell-ac092da55c1fe521",
     "locked": false,
     "points": 1,
     "schema_version": 3,
     "solution": true,
     "task": false
    }
   },
   "source": [
    "The length of the generated code is 179 bytes."
   ]
  },
  {
   "cell_type": "markdown",
   "metadata": {
    "tags": []
   },
   "source": [
    "##### Part B"
   ]
  },
  {
   "cell_type": "markdown",
   "metadata": {
    "tags": []
   },
   "source": [
    "Annotate the hex dump of `seven.wasm` in the same way `max.wasm` above!"
   ]
  },
  {
   "cell_type": "markdown",
   "metadata": {
    "deletable": false,
    "nbgrader": {
     "cell_type": "markdown",
     "checksum": "5a5285eb351e1bdb25638898f4dbb677",
     "grade": true,
     "grade_id": "cell-f2316b3c726ed1ff",
     "locked": false,
     "points": 6,
     "schema_version": 3,
     "solution": true,
     "task": false
    },
    "tags": []
   },
   "source": [
    "Here is an annotated version of the hex dump of `seven.wasm`:\n",
    "\n",
    "<pre style=\"font-family:monospace;color:royalblue\">\n",
    "0x000000: 00 61 73 6D    .asm    magic\n",
    "0x000004: 01 00 00 00    ....    version\n",
    "0x000008: 01 0C 03 60    ...`    typesecid, size typesec, #types, functype (0)\n",
    "0x00000c: 01 7F 00 60    ...`    typesecid, size typesec, #types, functype (0)\n",
    "0x000010: 00 00 60 00    ..`.    #params, #results, functype (2), #params\n",
    "0x000014: 01 7F 02 2C    ...,    #results, i32, importsecid, length import\n",
    "0x000018: 03 05 50 30    ..P0    #imports, len(P0lib), 'P', '0'\n",
    "0x00001c: 6C 69 62 05    lib.    'l', 'i', 'b', len('write')\n",
    "0x000020: 77 72 69 74    writ    'w', 'r', 'i', 't'\n",
    "0x000024: 65 00 00 05    e...    'e', typeidx, 0, len('P0lib')\n",
    "0x000028: 50 30 6C 69    P0li    'P', '0', 'l', 'i'\n",
    "0x00002c: 62 07 77 72    b.wr    'b', len('writeln'), 'w', 'r'\n",
    "0x000030: 69 74 65 6C    itel    'i', 't', 'e', 'l'\n",
    "0x000034: 6E 00 01 05    n...    'n', typeidx, 1, len('P0lib')\n",
    "0x000038: 50 30 6C 69    P0li    'P', '0', 'l', 'i'\n",
    "0x00003c: 62 04 72 65    b.re    'b', len('read'), 'r', 'e'\n",
    "0x000040: 61 64 00 02    ad..    'a', 'd', typeidx, 2\n",
    "0x000044: 03 02 01 01    ....    funcsec, length 2, #typeidx, type 1\n",
    "0x000048: 05 03 01 00    ....    memsec, length 3, #mem, 0 (only min)\n",
    "0x00004c: 01 06 06 01    ....    1 (min), globalsec, size globalsec, #globals\n",
    "0x000050: 7F 01 41 14    ..A.    i32, var, i32.const, 20\n",
    "0x000054: 0B 08 01 03    ....    end (expression), startsec, size startsec, 3 (function)\n",
    "0x000058: 0A 59 01 57    .Y.W    codesection, sizecodesection, #functions, length code\n",
    "0x00005c: 01 02 7F 41    ...A    1 (num locals), 2 (num vars), type (int32), i32.const\n",
    "0x000060: 00 41 03 36    .A.6    0, i32.const, 3, i32.store\n",
    "0x000064: 02 00 41 04    ..A.    2 (align), 0 (offset), i32.const, 4\n",
    "0x000068: 41 07 36 02    A.6.    i32.const, 7, i32.store, 2 (align)\n",
    "0x00006c: 00 41 08 41    .A.A    0 (offset), i32.const, 8, i32.const\n",
    "0x000070: 05 36 02 00    .6..    5, i32.store, 2 (align), 0 (offset)\n",
    "0x000074: 41 0C 41 09    A.A.    i32.const, 12, i32.const, 9\n",
    "0x000078: 36 02 00 41    6..A    i32.store, 2 (align), 0 (offset), i32.const\n",
    "0x00007c: 10 41 07 36    .A.6    16, i32.const, 7, i32.store\n",
    "0x000080: 02 00 41 01    ..A.    2 (align), 0 (offset), i32.const, 1\n",
    "0x000084: 21 00 03 40    !..@    local.set, 0 (i), loop, [] (empty type)\n",
    "0x000088: 20 00 41 05     .A.    local.get, 0 (i), i32.const, 5\n",
    "0x00008c: 4C 04 40 20    L.@     i32.le_s, if, [] (empty type), local.get\n",
    "0x000090: 00 41 01 6B    .A.k    0 (i), i32.const, 1, i32.sub\n",
    "0x000094: 41 04 6C 41    A.lA    i32.const, 4, i32.mul, i32.const\n",
    "0x000098: 00 6A 28 02    .j(.    0, i32.add, i32.load, 2\n",
    "0x00009c: 00 41 07 46    .A.F    0, i32.const, 7, i32.eq\n",
    "0x0000a0: 04 40 20 00    .@ .    if, [] (empty type), local.get, 0 (i)\n",
    "0x0000a4: 10 00 0B 20    ...     call, 0 (write), end, local.get\n",
    "0x0000a8: 00 41 01 6A    .A.j    0 (i), i32.const, 1, i32.add\n",
    "0x0000ac: 21 00 0C 01    !...    local.set, 0 (i), br, 1\n",
    "0x0000b0: 0B 0B 0B    ...        end, end, end\n",
    "</pre>"
   ]
  }
 ],
 "metadata": {
  "kernelspec": {
   "display_name": "Python 3 (ipykernel)",
   "language": "python",
   "name": "python3"
  },
  "language_info": {
   "codemirror_mode": {
    "name": "ipython",
    "version": 3
   },
   "file_extension": ".py",
   "mimetype": "text/x-python",
   "name": "python",
   "nbconvert_exporter": "python",
   "pygments_lexer": "ipython3",
   "version": "3.11.1"
  }
 },
 "nbformat": 4,
 "nbformat_minor": 4
}
