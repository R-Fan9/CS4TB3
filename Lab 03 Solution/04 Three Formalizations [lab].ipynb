{
 "cells": [
  {
   "cell_type": "markdown",
   "metadata": {
    "tags": []
   },
   "source": [
    "#### Three Formalizations"
   ]
  },
  {
   "cell_type": "markdown",
   "metadata": {
    "tags": []
   },
   "source": [
    "Consider the language `L` of possibly empty strings over the symbols `a, b, c` where the first `a` precedes the first `b`."
   ]
  },
  {
   "cell_type": "markdown",
   "metadata": {
    "tags": []
   },
   "source": [
    "1. Give a regular grammar that generates `L`."
   ]
  },
  {
   "cell_type": "markdown",
   "metadata": {
    "solution": "shown",
    "solution_first": true
   },
   "source": [
    "Your answer here"
   ]
  },
  {
   "cell_type": "markdown",
   "metadata": {
    "tags": []
   },
   "source": [
    "*Instructor's Solution:*"
   ]
  },
  {
   "cell_type": "markdown",
   "metadata": {
    "solution": "shown",
    "tags": []
   },
   "source": [
    "`G = (T, N, S, P)` where `T = {a, b, c}`, `N = {X, Y}`, `S = X`, and the productions `P` are:\n",
    "\n",
    "    X → cX | ε | aY \n",
    "    Y → ε | aY | bY | cY"
   ]
  },
  {
   "cell_type": "markdown",
   "metadata": {
    "tags": []
   },
   "source": [
    "2. Give a regular expression that describes `L`."
   ]
  },
  {
   "cell_type": "markdown",
   "metadata": {
    "solution": "shown",
    "solution_first": true
   },
   "source": [
    "Your answer here"
   ]
  },
  {
   "cell_type": "markdown",
   "metadata": {
    "tags": []
   },
   "source": [
    "*Instructor's Solution:*"
   ]
  },
  {
   "cell_type": "markdown",
   "metadata": {
    "solution": "shown",
    "tags": []
   },
   "source": [
    "    c*[a(a|b|c)*]"
   ]
  },
  {
   "cell_type": "markdown",
   "metadata": {
    "tags": []
   },
   "source": [
    "3. Give a finite state automaton that accepts `L`."
   ]
  },
  {
   "cell_type": "markdown",
   "metadata": {
    "solution": "shown",
    "solution_first": true
   },
   "source": [
    "Your answer here"
   ]
  },
  {
   "cell_type": "markdown",
   "metadata": {
    "tags": []
   },
   "source": [
    "*Instructor's Solution:*"
   ]
  },
  {
   "cell_type": "markdown",
   "metadata": {
    "solution": "shown",
    "tags": []
   },
   "source": [
    "`A = (T, Q, R, q₀, F)` where `T = {a, b, c}`, `Q = {q₀, q₁}`, `F = {q₀, q₁}`, and the transitions `R` are:\n",
    "- `q₀ c → q₀`  \n",
    "- `q₀ a → q₁`  \n",
    "- `q₁ a → q₁`  \n",
    "- `q₁ b → q₁`  \n",
    "- `q₁ c → q₁`\n",
    "\n",
    "Note how `A` is constructed from `G`: `q₀, q₁` corresponds to `X`, `Y`, for every production, there is an equivalent transition, the initial state `q₀` corresponds to the start symbol `X`, the final states corresponds to nonterminals that have a production to `ε`."
   ]
  }
 ],
 "metadata": {
  "kernelspec": {
   "display_name": "Python 3 (ipykernel)",
   "language": "python",
   "name": "python3"
  },
  "language_info": {
   "codemirror_mode": {
    "name": "ipython",
    "version": 3
   },
   "file_extension": ".py",
   "mimetype": "text/x-python",
   "name": "python",
   "nbconvert_exporter": "python",
   "pygments_lexer": "ipython3",
   "version": "3.11.1"
  }
 },
 "nbformat": 4,
 "nbformat_minor": 4
}
