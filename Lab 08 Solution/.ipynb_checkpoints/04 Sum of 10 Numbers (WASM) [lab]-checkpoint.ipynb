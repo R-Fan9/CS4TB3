{
 "cells": [
  {
   "cell_type": "markdown",
   "metadata": {},
   "source": [
    "#### Sum of 10 Numbers"
   ]
  },
  {
   "cell_type": "code",
   "execution_count": null,
   "metadata": {},
   "outputs": [],
   "source": [
    "def runwasm(wasmfile):\n",
    "    from IPython.display import display, Javascript\n",
    "    display(Javascript(\"\"\"\n",
    "    const params = {\n",
    "        P0lib: {\n",
    "            write: i => element.append(i + ' '),\n",
    "            writeln: () => element.append(document.createElement('br')),\n",
    "            read: () => window.prompt()\n",
    "        }\n",
    "    }\n",
    "    \n",
    "    var wasmByteString = \\\"\"\"\" + str(open(wasmfile, \"rb\").read()) + \"\"\"\\\"; // pass the wasm file to JavaScript as byte string\n",
    "    wasmByteString = wasmByteString.substring(2, wasmByteString.length - 1); // remove the byte literals b'...'\n",
    "    const wasmArrayBuffer = new Uint8Array(wasmByteString.length); // convert the binary string to ArrayBuffer\n",
    "    for (let i = 0; i < wasmByteString.length; i++)\n",
    "      wasmArrayBuffer[i] = wasmByteString.charCodeAt(i);\n",
    "    \n",
    "    WebAssembly.compile(wasmArrayBuffer.buffer) // compile (sharable) code\n",
    "        .then(module => WebAssembly.instantiate(module, params)) // create an instance with memory\n",
    "        // .then(instance => instance.exports.program()); // run the main program; not needed if a start function is specified\n",
    "     \"\"\"))"
   ]
  },
  {
   "cell_type": "code",
   "execution_count": null,
   "metadata": {},
   "outputs": [],
   "source": [
    "def runpywasm(wasmfile):\n",
    "    import pywasm\n",
    "    def write(s, i): print(i, end=' ')\n",
    "    def writeln(s): print()\n",
    "    def read(s): return int(input())\n",
    "    vm = pywasm.load(wasmfile, {'P0lib': {'write': write, 'writeln': writeln, 'read': read}})"
   ]
  },
  {
   "cell_type": "code",
   "execution_count": null,
   "metadata": {},
   "outputs": [],
   "source": [
    "from wasmer import engine, Store, Module, Instance, ImportObject, Function\n",
    "from wasmer_compiler_cranelift import Compiler\n",
    "\n",
    "def runwasmer(wasmfile):\n",
    "    def write(i: int): print(i, end=' ')\n",
    "    def writeln(): print()\n",
    "    def read() -> int: return int(input()) \n",
    "    store = Store(engine.JIT(Compiler))\n",
    "    module = Module(store, open(wasmfile, 'rb').read())\n",
    "    import_object = ImportObject()\n",
    "    import_object.register(\"P0lib\", {\"write\": Function(store, write),\n",
    "                                     \"writeln\": Function(store, writeln),\"read\": Function(store, read)})\n",
    "    instance = Instance(module, import_object)"
   ]
  },
  {
   "cell_type": "markdown",
   "metadata": {},
   "source": [
    "Write a WebAssembly program that\n",
    "\n",
    "- reads 10 integers from the keyboard\n",
    "- computes their sum\n",
    "- prints the sum"
   ]
  },
  {
   "cell_type": "markdown",
   "metadata": {},
   "source": [
    "Write the program such that the sum is kept in a local variable and updated with each input."
   ]
  },
  {
   "cell_type": "code",
   "execution_count": null,
   "metadata": {},
   "outputs": [],
   "source": [
    "%%writefile sum10.wat\n",
    "YOUR CODE HERE"
   ]
  },
  {
   "cell_type": "markdown",
   "metadata": {},
   "source": [
    "Instructor's Answer:"
   ]
  },
  {
   "cell_type": "code",
   "execution_count": null,
   "metadata": {},
   "outputs": [],
   "source": [
    "%%writefile sum10.wat\n",
    "(module\n",
    "  (import \"P0lib\" \"write\" (func $write (param i32)))\n",
    "  (import \"P0lib\" \"read\" (func $read (result i32)))\n",
    "  (func $program\n",
    "    (local $x i32)  ;; var x: integer;\n",
    "    (local $t i32)  ;; var t: integer;\n",
    "    i32.const 0\n",
    "    local.set $x  ;; x := 0\n",
    "    i32.const 0\n",
    "    local.set $t  ;; t := 0\n",
    "    loop $label0\n",
    "        call $read \n",
    "        local.get $x\n",
    "        i32.add\n",
    "        local.set $x  ;; x := x + read()\n",
    "        i32.const 1\n",
    "        local.get $t\n",
    "        i32.add\n",
    "        local.set $t  ;; t := t + 1\n",
    "        local.get $t\n",
    "        i32.const 10\n",
    "        i32.lt_s    ;;  t < 10 ?\n",
    "        br_if $label0\n",
    "    end\n",
    "    local.get $x\n",
    "    call $write  ;; write(x)\n",
    "    \n",
    "  )\n",
    "  (start $program)\n",
    ")"
   ]
  },
  {
   "cell_type": "code",
   "execution_count": null,
   "metadata": {},
   "outputs": [],
   "source": [
    "!wat2wasm sum10.wat\n",
    "runwasm(\"sum10.wasm\")"
   ]
  },
  {
   "cell_type": "code",
   "execution_count": null,
   "metadata": {},
   "outputs": [],
   "source": [
    "runpywasm(\"sum10.wasm\")"
   ]
  },
  {
   "cell_type": "code",
   "execution_count": null,
   "metadata": {},
   "outputs": [],
   "source": [
    "runwasmer(\"sum10.wasm\")"
   ]
  },
  {
   "cell_type": "markdown",
   "metadata": {},
   "source": [
    "Write a program that stores the integer first in an array in the memory (allocated at address 0) and then sums the array elements."
   ]
  },
  {
   "cell_type": "code",
   "execution_count": null,
   "metadata": {
    "solution": "hidden",
    "solution_first": true
   },
   "outputs": [],
   "source": [
    "%%writefile sum10.wat\n",
    "YOUR CODE HERE"
   ]
  },
  {
   "cell_type": "markdown",
   "metadata": {},
   "source": [
    "Instructor's Answer:"
   ]
  },
  {
   "cell_type": "code",
   "execution_count": null,
   "metadata": {
    "solution": "hidden",
    "tags": []
   },
   "outputs": [],
   "source": [
    "%%writefile sum10.wat\n",
    "(module\n",
    "  (import \"P0lib\" \"write\" (func $write (param i32)))\n",
    "  (import \"P0lib\" \"read\" (func $read (result i32)))\n",
    "  (global $x (mut i32) i32.const 0)\n",
    "  (global $t (mut i32) i32.const 40) ;; 10 numbers * 4 bytes \n",
    "  (func $readall\n",
    "    (local $t2 i32)\n",
    "    i32.const 0\n",
    "    local.set $t2 ;; memory index\n",
    "    loop $label0\n",
    "        local.get $t2\n",
    "        call $read\n",
    "        i32.store offset=0\n",
    "        ;; update t2\n",
    "        i32.const 4\n",
    "        local.get $t2\n",
    "        i32.add\n",
    "        local.set $t2\n",
    "        ;; t2 < t for loop\n",
    "        local.get $t2\n",
    "        global.get $t\n",
    "        i32.lt_s\n",
    "        br_if $label0\n",
    "    end\n",
    "  )\n",
    "  (func $addall\n",
    "    (local $t2 i32)\n",
    "    i32.const 0\n",
    "    local.set $t2 ;; position in memory address\n",
    "    loop $label1 \n",
    "        local.get $t2 \n",
    "        i32.load offset=0\n",
    "        global.get $x\n",
    "        i32.add\n",
    "        global.set $x\n",
    "        ;; update t2\n",
    "        i32.const 4\n",
    "        local.get $t2\n",
    "        i32.add\n",
    "        local.set $t2\n",
    "        ;; t2 < t for loop (check if all numbers in memory is loaded out)\n",
    "        local.get $t2\n",
    "        global.get $t\n",
    "        i32.lt_s\n",
    "        br_if $label1\n",
    "    end\n",
    "  )\n",
    "  (func $program\n",
    "     call $readall\n",
    "     call $addall\n",
    "     global.get $x\n",
    "     call $write\n",
    "  )\n",
    "  (memory 1)\n",
    "  (start $program)\n",
    ")"
   ]
  },
  {
   "cell_type": "code",
   "execution_count": null,
   "metadata": {},
   "outputs": [],
   "source": [
    "!wat2wasm sum10.wat\n",
    "runwasm(\"sum10.wasm\")"
   ]
  },
  {
   "cell_type": "code",
   "execution_count": null,
   "metadata": {},
   "outputs": [],
   "source": [
    "runpywasm(\"sum10.wasm\")"
   ]
  },
  {
   "cell_type": "code",
   "execution_count": null,
   "metadata": {},
   "outputs": [],
   "source": [
    "runwasmer(\"sum10.wasm\")"
   ]
  }
 ],
 "metadata": {
  "kernelspec": {
   "display_name": "Python 3 (ipykernel)",
   "language": "python",
   "name": "python3"
  },
  "language_info": {
   "codemirror_mode": {
    "name": "ipython",
    "version": 3
   },
   "file_extension": ".py",
   "mimetype": "text/x-python",
   "name": "python",
   "nbconvert_exporter": "python",
   "pygments_lexer": "ipython3",
   "version": "3.11.1"
  }
 },
 "nbformat": 4,
 "nbformat_minor": 4
}
