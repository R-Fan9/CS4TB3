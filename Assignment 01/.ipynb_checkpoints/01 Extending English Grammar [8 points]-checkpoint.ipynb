{
 "cells": [
  {
   "cell_type": "markdown",
   "metadata": {},
   "source": [
    "### Extending English Grammar"
   ]
  },
  {
   "cell_type": "markdown",
   "metadata": {},
   "source": [
    "Recall grammar `G₀`. Define a new grammar `G₀'` by extending `G₀`:\n",
    "- A verb phrase is a verb phrase followed by a prepositional phrase.\n",
    "- A prepositional phrase is a preposition followed by a noun phrase.\n",
    "- Prepositions are `in` and `on`.\n",
    "- Nouns are `park` and `child`.\n",
    "\n",
    "Give the full definition of `G₀'`! Is `G₀'` regular, context-free, or context-sensitive? Draw the parse tree of `the child eats a banana in the park`! Use [draw.io](https://draw.io) or a similar program to generate and insert an SVG figure in the cell below! [8 points]"
   ]
  },
  {
   "cell_type": "markdown",
   "metadata": {
    "deletable": false,
    "nbgrader": {
     "cell_type": "markdown",
     "checksum": "6d9d582626e5ed2b03567af459f2f102",
     "grade": true,
     "grade_id": "cell-606cf64db1956079",
     "locked": false,
     "points": 8,
     "schema_version": 3,
     "solution": true,
     "task": false
    },
    "tags": []
   },
   "source": [
    "Let `PP` be a nonterminal symbol representing prepositional phrase.  \n",
    "Let `P` be a nonterminal symbol representing prepositons.  \n",
    "\n",
    "`G₀ = (T, N, P, S)` with `T = {Kevin, Dave, a, the, banana, apple, eats, runs, in, on, park, child}`, `N = {S, NP, VP, PP, PN, D, N, V, P}`, and the following productions:\n",
    "\n",
    "`S → NP VP`  \n",
    "`NP → PN`  \n",
    "`NP → D N`  \n",
    "`VP → V`  \n",
    "`VP → V NP`  \n",
    "`VP → VP PP`  \n",
    "`PP → P NP`  \n",
    "`PN → Kevin`  \n",
    "`PN → Dave`  \n",
    "`P → in`  \n",
    "`P → on`  \n",
    "`D → a`  \n",
    "`D → the`  \n",
    "`N → banana`  \n",
    "`N → apple`  \n",
    "`N → park`  \n",
    "`N → child`  \n",
    "`V → eats`  \n",
    "`V → runs`"
   ]
  },
  {
   "cell_type": "markdown",
   "metadata": {},
   "source": [
    "`G₀'` is not regular, but is context-free as all of its productions are of the form\n",
    "    `A → τ` where `A ∈ N`, `τ ∈ V*`"
   ]
  },
  {
   "cell_type": "markdown",
   "metadata": {},
   "source": [
    "Parse tree of `the child eats a banana in the park`:\n",
    "\n",
    "![Alt text](q1.drawio.svg)\n",
    "\n"
   ]
  }
 ],
 "metadata": {
  "kernelspec": {
   "display_name": "Python 3 (ipykernel)",
   "language": "python",
   "name": "python3"
  },
  "language_info": {
   "codemirror_mode": {
    "name": "ipython",
    "version": 3
   },
   "file_extension": ".py",
   "mimetype": "text/x-python",
   "name": "python",
   "nbconvert_exporter": "python",
   "pygments_lexer": "ipython3",
   "version": "3.11.1"
  },
  "latex_envs": {
   "LaTeX_envs_menu_present": true,
   "autoclose": false,
   "autocomplete": true,
   "bibliofile": "biblio.bib",
   "cite_by": "apalike",
   "current_citInitial": 1,
   "eqLabelWithNumbers": true,
   "eqNumInitial": 1,
   "hotkeys": {
    "equation": "Ctrl-E",
    "itemize": "Ctrl-I"
   },
   "labels_anchors": false,
   "latex_user_defs": false,
   "report_style_numbering": false,
   "user_envs_cfg": false
  }
 },
 "nbformat": 4,
 "nbformat_minor": 4
}
