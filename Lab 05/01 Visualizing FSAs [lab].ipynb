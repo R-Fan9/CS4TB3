{
 "cells": [
  {
   "cell_type": "markdown",
   "metadata": {
    "tags": []
   },
   "source": [
    "#### Visualizing Finite State Automata"
   ]
  },
  {
   "cell_type": "markdown",
   "metadata": {
    "tags": []
   },
   "source": [
    "Consider the following declarations from the course notes:"
   ]
  },
  {
   "cell_type": "code",
   "execution_count": null,
   "metadata": {},
   "outputs": [],
   "source": [
    "class set(frozenset):\n",
    "    def __repr__(self):\n",
    "        return '{' + ', '.join(str(e) for e in self) + '}'\n",
    "\n",
    "class FiniteStateAutomaton:\n",
    "    def __init__(self, T, Q, R, q0, F):\n",
    "        self.T, self.Q, self.R, self.q0, self.F = T, Q, R, q0, F\n",
    "    def __repr__(self):\n",
    "        return str(self.q0) + '\\n' + ' '.join(str(f) for f in self.F) + '\\n' + \\\n",
    "               '\\n'.join(str(q) + ' ' + a + ' → ' + str(r) for (q, a, r) in self.R)\n",
    "\n",
    "def parseFSA(fsa: str) -> FiniteStateAutomaton:\n",
    "    fsa = [line for line in fsa.split('\\n') if line.strip() != '']\n",
    "    q0 = fsa[0] # first line: initial\n",
    "    F = set(fsa[1].split()) # second line: final, final, ...\n",
    "    R = set()\n",
    "    for line in fsa[2:]: # all subsequent lines: \"source symbol → target\"\n",
    "        l, r = line.split('→')\n",
    "        R |= {(l.split()[0], l.split()[1], r.split()[0])}\n",
    "    T = {r[1] for r in R}\n",
    "    Q = {q0} | F | {r[0] for r in R} | {r[2] for r in R}\n",
    "    return FiniteStateAutomaton(T, Q, R, q0, F)\n",
    "\n",
    "def minimizeFSA(fsa: FiniteStateAutomaton) -> FiniteStateAutomaton:\n",
    "    δ = {(q, a): r for (q, a, r) in fsa.R}\n",
    "    dist = {(q, r) for q in fsa.Q for r in fsa.Q if q != r and (q in fsa.F) != (r in fsa.F)}\n",
    "    done = False\n",
    "    while not done:\n",
    "        done = True #; print(dist)\n",
    "        for q in fsa.Q:\n",
    "            for r in fsa.Q:\n",
    "                if q != r and (q, r) not in dist and any(((q, u) in δ) != ((r, u) in δ) or \\\n",
    "                    ((q, u) in δ) and ((δ[(q, u)], δ[(r, u)]) in dist) for u in fsa.T):\n",
    "                    dist |= {(q, r)}; done = False #; print('adding', q, r)\n",
    "    Qʹ = {set({q} | {r for r in fsa.Q if (q, r) not in dist}) for q in fsa.Q}\n",
    "    Rʹ = {(qʹ, u, rʹ) for qʹ in Qʹ for rʹ in Qʹ for u in fsa.T if any((q, u, r) in fsa.R for q in qʹ for r in rʹ)}\n",
    "    qʹ0 = {qʹ for qʹ in Qʹ if fsa.q0 in qʹ}.pop()\n",
    "    Fʹ = {qʹ for qʹ in Qʹ if (qʹ & fsa.F) != set()}\n",
    "    return FiniteStateAutomaton(fsa.T, Qʹ, Rʹ, qʹ0, Fʹ)\n",
    "\n",
    "def totalFSA(A: FiniteStateAutomaton, t = -1) -> FiniteStateAutomaton:\n",
    "    T = set('abcdefghijklmnopqrstuvwxyz') # T is vocabulary, t is trap state\n",
    "    R = A.R | {(q, a, t) for q in A.Q for a in T if all((q, a, r) not in A.R for r in A.Q)}\n",
    "    if any(r == t for (q, a, r) in R): # transition to t exists\n",
    "        Q = A.Q | {t}\n",
    "        R = R | {(t, a, t) for a in T}\n",
    "    else: Q = A.Q\n",
    "    return FiniteStateAutomaton(T, Q, R, A.q0, A.F)\n",
    "\n",
    "def renameFSA(fsa: FiniteStateAutomaton) -> FiniteStateAutomaton:\n",
    "    m, c = {}, 0\n",
    "    for q in fsa.Q:\n",
    "        m[q] = c; c = c + 1\n",
    "    Qʹ = {i for i in range(c)}\n",
    "    Rʹ = {(m[q], u, m[r]) for (q, u, r) in fsa.R}\n",
    "    qʹ0 = m[fsa.q0]\n",
    "    Fʹ = {m[q] for q in fsa.F}\n",
    "    return FiniteStateAutomaton(fsa.T, Qʹ, Rʹ, qʹ0, Fʹ)\n",
    "\n",
    "def equivalentFSA(a: FiniteStateAutomaton, aʹ: FiniteStateAutomaton, printMap = False) -> bool:\n",
    "    a = totalFSA(minimizeFSA(a))\n",
    "    aʹ = totalFSA(minimizeFSA(aʹ))\n",
    "    δ = {(q, u): r for (q, u, r) in a.R}\n",
    "    δʹ = {(q, u): r for (q, u, r) in aʹ.R}\n",
    "    m, v = {a.q0: aʹ.q0}, {a.q0}\n",
    "    while v != set():\n",
    "        q = v.pop(); qʹ = m[q]\n",
    "        for u in a.T:\n",
    "            r, rʹ = δ[(q, u)], δʹ[(qʹ, u)]\n",
    "            if r in m:\n",
    "                if m[r] != rʹ: return False\n",
    "            elif rʹ in m.values(): return False\n",
    "            else: v.add(r); m[r] = rʹ\n",
    "    if printMap: print(m) \n",
    "    return aʹ.F == {m[q] for q in a.F}"
   ]
  },
  {
   "cell_type": "markdown",
   "metadata": {
    "tags": []
   },
   "source": [
    "Consider the two deterministic finite state automata below. "
   ]
  },
  {
   "cell_type": "code",
   "execution_count": null,
   "metadata": {},
   "outputs": [],
   "source": [
    "A0 = parseFSA(\"\"\"\n",
    "0\n",
    "0\n",
    "0 a → 1\n",
    "0 b → 2\n",
    "1 b → 0\n",
    "2 a → 0\n",
    "2 c → 3\n",
    "3 a → 3\n",
    "\"\"\")\n",
    "A1 = parseFSA(\"\"\"\n",
    "x\n",
    "x\n",
    "x b → z\n",
    "y b → x\n",
    "z a → x\n",
    "x a → y\n",
    "w a → w\n",
    "\"\"\")\n",
    "A0, A1"
   ]
  },
  {
   "cell_type": "markdown",
   "metadata": {
    "tags": []
   },
   "source": [
    "1. Draw the finite state diagrams of `A0` and `A1`!\n",
    "2. Draw the finite state diagrams of the equivalent but total automata, i.e. of `A0tot = totalFSA(A0)` and `A1tot = totalFSA(A1)`!\n",
    "3. Draw the finite state diagrams of the equivalent, total, and minimized automata, i.e. `A0min = minimizeFSA(A0tot)` and `A1min = minimizeFSA(A1tot)`!\n",
    "4. Draw the finite state diagrams of the equivalent, total, minimized, and renamed automata, i.e. of `A0opt = renameFSA(A0min)` and `A1opt = renameFSA(A1min)`!"
   ]
  },
  {
   "cell_type": "markdown",
   "metadata": {},
   "source": [
    "You may use https://finsm.io/."
   ]
  },
  {
   "cell_type": "markdown",
   "metadata": {},
   "source": [
    "Your answer here"
   ]
  },
  {
   "cell_type": "markdown",
   "metadata": {
    "tags": []
   },
   "source": [
    "The algorithm for checking the equivalence of two deterministic and minimal finite state automata, as implemented by `equivalentFSA` above, iteratively constructs a bijection from states of one automaton to states of the other automaton. Construct this bijection manually for `A0` and `A1` above."
   ]
  },
  {
   "cell_type": "markdown",
   "metadata": {
    "solution": "hidden",
    "solution_first": true
   },
   "source": [
    "Your answer here"
   ]
  },
  {
   "cell_type": "markdown",
   "metadata": {
    "tags": []
   },
   "source": [
    "What is the relation between the dictionary that `equivalentFSA(A0, A1)` constructs and that `equivalentFSA(A1, A0)` constructs, for arbitrary `A0`, `A1`? Check your answer by running `equivalentFSA(A0opt, A1opt, True)` and `equivalentFSA(A1opt, A0opt, True)`!"
   ]
  },
  {
   "cell_type": "markdown",
   "metadata": {
    "solution": "shown",
    "solution_first": true
   },
   "source": [
    "Your answer here"
   ]
  }
 ],
 "metadata": {
  "kernelspec": {
   "display_name": "Python 3 (ipykernel)",
   "language": "python",
   "name": "python3"
  },
  "language_info": {
   "codemirror_mode": {
    "name": "ipython",
    "version": 3
   },
   "file_extension": ".py",
   "mimetype": "text/x-python",
   "name": "python",
   "nbconvert_exporter": "python",
   "pygments_lexer": "ipython3",
   "version": "3.11.1"
  }
 },
 "nbformat": 4,
 "nbformat_minor": 4
}
