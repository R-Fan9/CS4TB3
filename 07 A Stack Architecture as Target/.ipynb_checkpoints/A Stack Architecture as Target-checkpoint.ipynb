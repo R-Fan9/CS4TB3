{
 "cells": [
  {
   "cell_type": "markdown",
   "metadata": {
    "slideshow": {
     "slide_type": "subslide"
    }
   },
   "source": [
    "---\n",
    "\n",
    "# 6. A Stack Architecture as Target\n",
    "**[Emil Sekerinski](http://www.cas.mcmaster.ca/~emil/), McMaster University, updated February 2024**\n",
    "\n",
    "---"
   ]
  },
  {
   "cell_type": "markdown",
   "metadata": {},
   "source": [
    "> This notebook depends on three packages that need to be installed if the notebook is run locally:\n",
    "> - [WABT](https://github.com/webassembly/wabt), the WebAssembly Binary Toolkit\n",
    "> - [pywasm](https://github.com/mohanson/pywasm), a WebAssembly interpreter written in Python\n",
    "> - [Wasmer](https://wasmer.io/), a collection of WebAssembly compilers with a [Python embedding](https://wasmer.io/posts/wasmer-python-embedding-1.0)"
   ]
  },
  {
   "cell_type": "markdown",
   "metadata": {
    "slideshow": {
     "slide_type": "slide"
    }
   },
   "source": [
    "This chapter extends the P0 compiler with code generation for [WebAssembly](https://webassembly.org/). Like [CLI](http://www.ecma-international.org/publications/standards/Ecma-335.htm) (Common Language Infrastructure, the standard used for .NET) and [JVM](https://docs.oracle.com/javase/specs/jvms/se7/jvms7.pdf) (Java Virtual Machine), WebAssembly is a *virtual* architecture: WebAssembly code needs either to be interpreted or compiled to *native* code. At the time of writing, WebAssembly can be interpreted with pywasm, compiled through Wasmer with a number of compilers, and executed in all common web browsers by _just-in-time_ compilation. However, there is nothing web-specific about WebAssembly: its purpose is to allow safe and efficient execution of code that can originate from untrusted sources. "
   ]
  },
  {
   "cell_type": "markdown",
   "metadata": {
    "slideshow": {
     "slide_type": "slide"
    }
   },
   "source": [
    "WebAssembly differs from the currently dominant _RISC_ (Reduced Instruction Set Computer) architectures in some ways:\n",
    "\n",
    "- *Stack architecture*: all operands of operations have to be pushed on a stack; there are no registers.\n",
    "- *Byte code*: Instructions are encoded as single bytes rather than whole words.\n",
    "- *Statically typed*: type-checking ensures that the types of operands and operations match.\n",
    "- *Block-structured*: there are constructs for if-statements and loops; jumps to arbitrary locations are impossible.\n",
    "- *Non-uniform store*: rather than having memory as a flat sequence of addressable bytes, different stores are all addressed differently.\n",
    "\n",
    "These notes introduce WebAssembly to the extent needed for P0."
   ]
  },
  {
   "cell_type": "markdown",
   "metadata": {
    "slideshow": {
     "slide_type": "slide"
    }
   },
   "source": [
    "WebAssembly programs are composed of _modules_ that may depend on other modules and interact with a *host environment*, like a web browser or another programming language. Modules are stored in two equivalent and mutually convertible forms,\n",
    "- in binary .wasm files, with a flat sequence of instructions that each take one byte,\n",
    "- in textual .wat files with instructions in a textual form where some locations can be names rather than numbers.\n",
    "\n",
    "For readability, we use the textual form and return to the details of the binary form."
   ]
  },
  {
   "cell_type": "markdown",
   "metadata": {
    "slideshow": {
     "slide_type": "slide"
    }
   },
   "source": [
    "### WebAssembly Stores"
   ]
  },
  {
   "cell_type": "markdown",
   "metadata": {
    "slideshow": {
     "slide_type": "-"
    }
   },
   "source": [
    "WebAssembly programs distinguish different kinds of stores,\n",
    "- the *code*, where the program resides,\n",
    "- the *memory*, where variables with computed locations (e.g. arrays) are stored,\n",
    "- the *global* store, where initialized global variables and constants are stored,\n",
    "- the *stack*, where *operands* of instructions, *call frames* with *local variables*, and certain *labels* are stored."
   ]
  },
  {
   "cell_type": "markdown",
   "metadata": {
    "slideshow": {
     "slide_type": "slide"
    }
   },
   "source": [
    "The code is *immutable*: there is no way to manipulate the code once the virtual machine loads it. While we think of the code as the WebAssembly program itself, an implementation is free to represent the programs in another form or compile the program to machine code; except for efficiency, this would not be observable.\n",
    "\n",
    "The code comprises a collection of procedures called *functions*. Functions are numbered. Each function is a sequence of instructions. If a program has `FN` functions, the code is abstractly represented by:\n",
    "\n",
    "    var c: [0 .. FN) → seq(byte)"
   ]
  },
  {
   "cell_type": "markdown",
   "metadata": {
    "slideshow": {
     "slide_type": "slide"
    }
   },
   "source": [
    "The memory is a contiguously addressed array of bytes; its size is specified in multiples of _pages_ of 2¹⁶ bytes. Its initial size is specified in a WebAssembly file but can explicitly grow. Bytes in the memory can be accessed arbitrarily. Abstractly, the memory is:\n",
    "\n",
    "    var m: [0 .. MemSize) → byte"
   ]
  },
  {
   "cell_type": "markdown",
   "metadata": {
    "slideshow": {
     "slide_type": "slide"
    }
   },
   "source": [
    "In WebAssembly, the value and result parameters of functions are typed, as are local variables, global variables, and intermediate results on the stack. The only exception is the memory, which allows bytes to be interpreted as needed. The only types are 32 and 64 bit integer and floating-point numbers: `i32`, `i64`, `f32`, `f64`. There are no booleans, enumerations, arrays, tuples, lists, records, unions, or classes. These must be expressed by supported types or mapped to the untyped memory."
   ]
  },
  {
   "cell_type": "markdown",
   "metadata": {
    "slideshow": {
     "slide_type": "slide"
    }
   },
   "source": [
    "The global store is an array of typed values, `i32`, `i64`, `f32`, and `f64`:\n",
    "\n",
    "    var g: [0 .. GlobalVars) → Value"
   ]
  },
  {
   "cell_type": "markdown",
   "metadata": {
    "slideshow": {
     "slide_type": "slide"
    }
   },
   "source": [
    "The stack can only be accessed through specific arithmetic and control flow instructions. Abstractly, the stack is an array of values; the _stack pointer_ `sp` points to the next available entry:\n",
    "\n",
    "    var s: [0 .. StackSize) → Value\n",
    "    var sp: [0 .. StackSize] = 0"
   ]
  },
  {
   "cell_type": "markdown",
   "metadata": {
    "slideshow": {
     "slide_type": "slide"
    }
   },
   "source": [
    "### WebAssembly Instructions"
   ]
  },
  {
   "cell_type": "markdown",
   "metadata": {
    "slideshow": {
     "slide_type": "-"
    }
   },
   "source": [
    "Operands of instructions have first to be pushed on the stack. The instructions to push a constant on the stack are `i32.const n`, `i64.const n`, `f32.const f`, and `f64.const f`. Arithmetic instructions specify the type of the operands, for example, for addition `i32.add`, `i64.add`, `f32.add`, and `f64.add`. For P0 the sole WebAssembly type in the generated code is `i32`, so the P0 expression `3 + 4` corresponds to:\n",
    "\n",
    "```gas\n",
    "i32.const 3\n",
    "i32.const 4\n",
    "i32.add\n",
    "```"
   ]
  },
  {
   "cell_type": "markdown",
   "metadata": {
    "slideshow": {
     "slide_type": "slide"
    }
   },
   "source": [
    "To illustrate typing, the code\n",
    "\n",
    "```\n",
    "i32.const 3\n",
    "i64.const 4\n",
    "i32.add\n",
    "```\n",
    "\n",
    "is not type-correct: the _validation_ of a WebAssembly program ensures that entries of the same type are popped as were pushed, which WebAssembly allows to do statically. The above code will be rejected when loaded into the virtual machine. Likewise, trying to pop from the empty stack is also detected during validation, e.g. if a program starts with:\n",
    "\n",
    "```\n",
    "i32.const 3\n",
    "i32.add\n",
    "```"
   ]
  },
  {
   "cell_type": "markdown",
   "metadata": {
    "slideshow": {
     "slide_type": "slide"
    }
   },
   "source": [
    "<div style=\"float:right;border-left:1em solid transparent\">\n",
    "\n",
    "```\n",
    "  local.get $x\n",
    "  local.get $y\n",
    "  i32.gt_s\n",
    "  if\n",
    "    local.get $x\n",
    "    local.set $m\n",
    "  else\n",
    "    local.get $y\n",
    "    local.set $m\n",
    "  end\n",
    "```\n",
    "</div>\n",
    "\n",
    "The `if ... else ... end` instruction pops the top element from the stack as the condition. If it is not zero, the instructions following `if` are executed, otherwise those following `else`. For example, if `x`, `y`, and `m` are local variables, the following P0 statement can be translated as to the right.\n",
    "\n",
    "```Pascal\n",
    "if x > y then\n",
    "    m := x\n",
    "else\n",
    "    m := y\n",
    "```"
   ]
  },
  {
   "cell_type": "markdown",
   "metadata": {
    "slideshow": {
     "slide_type": "slide"
    }
   },
   "source": [
    "<div style=\"float:right;border-left:1em solid transparent\">\n",
    "\n",
    "```\n",
    "(func $QuotRem (param $x i32) (param $y i32) \n",
    "  (local $q i32)\n",
    "  (local $r i32)\n",
    "  i32.const 0\n",
    "  local.set $q\n",
    "  local.get $x\n",
    "  local.set $r\n",
    "  loop $label0\n",
    "    local.get $r\n",
    "    local.get $y\n",
    "    i32.ge_s\n",
    "    if\n",
    "      local.get $r\n",
    "      local.get $y\n",
    "      i32.sub\n",
    "      local.set $r\n",
    "      local.get $q\n",
    "      i32.const 1\n",
    "      i32.add\n",
    "      local.set $q\n",
    "      br $label0\n",
    "    end\n",
    "  end\n",
    "  local.get $q\n",
    "  call $write\n",
    "  local.get $r\n",
    "  call $write\n",
    ")\n",
    "```\n",
    "</div>\n",
    "\n",
    "<!-- (func $QuotRem (param $x i32) (param $y i32)\n",
    "  (local $q i32) \n",
    "  (local $r i32) \n",
    "  i32.const 0\n",
    "  local.set $q\n",
    "  local.get $x\n",
    "  local.set $r\n",
    "  block $label0\n",
    "    loop $label1\n",
    "      local.get $r\n",
    "      local.get $y\n",
    "      i32.lt_s\n",
    "      br_if $label0\n",
    "      local.get $r\n",
    "      local.get $y\n",
    "      i32.sub\n",
    "      local.set $r\n",
    "      local.get $q\n",
    "      i32.const 1\n",
    "      i32.add\n",
    "      local.set $q\n",
    "      br $label1\n",
    "    end\n",
    "  end \n",
    "  local.get $q\n",
    "  call $write\n",
    "  local.get $r\n",
    "  call $write\n",
    ")\n",
    "-->\n",
    "Consider the following P0 procedure and its WebAssembly translation to the right:\n",
    "\n",
    "```Pascal\n",
    "  procedure QuotRem(x, y: integer)\n",
    "    var q, r: integer\n",
    "      q := 0; r := x\n",
    "      while r ≥ y do \n",
    "        r := r - y; q := q + 1\n",
    "      write(q); write(r)\n",
    "```\n",
    "\n",
    "WebAssembly functions can take value and result parameters. Names have to be prefixed with `$`. The code declares function `$QuotRem` with value parameters `$x` and `$y` and local variables `$q` and `$r`, all of type `i32`. Parameters and local variables are accessed identically by `local.set` and `local.get` instructions: `local.set x` removes the top element from the stack and stores it at the location named `x` on the stack, which must be declared of the same type; `local.get x` reads the local variable from the location named `x` on the stack and pushes it on top of the stack."
   ]
  },
  {
   "cell_type": "markdown",
   "metadata": {
    "slideshow": {
     "slide_type": "slide"
    }
   },
   "source": [
    "WebAssembly allows branches to structured control instructions. If `l` is a name,\n",
    "\n",
    "- within `block l ... end`, a branch instruction `br l` will transfer control to the end of the construct, i.e. the instruction following `end`;\n",
    "- within `loop l ... end`, a branch instruction `br l` will transfer control to the beginning of the construct, i.e. the instruction following `loop l`.\n",
    "\n",
    "<!-- The combination of these two instructions is used to translate the loop of `QuotRem`: First, `r ≥ y` is evaluated by pushing `r` and `y` on the stack, comparing the top two elements on the stack and pushing the result back on the stack. If the negation of the condition holds, i.e. `r < y`, the loop is terminated by branching to the end of the outer `block ... end` instruction. Otherwise, the body of the loop is executed and at the end, an unconditional branch `br` transfers control to the beginning of the inner `loop ... end` instruction.\n",
    "-->\n",
    "\n",
    "WebAssembly allows `i32` values to be interpreted as signed or unsigned 32-bit integers: the instruction `i32.lt_s` performs a signed comparison and pushes `1` or the stack if the result is true and `0` otherwise. The instruction `br_if l` transfers control to the `block` or `loop` instruction labelled `l` if the top of the stack is not zero. It is impossible to branch inside a `block` or `loop`; branches can only go outwards.\n",
    "\n",
    "Functions are called by pushing first all arguments on the stack, calling the function, and popping the results from the stack. Thus the call `write(q)` first pushes `q` and then calls `$write`, which is assumed to be defined elsewhere."
   ]
  },
  {
   "cell_type": "markdown",
   "metadata": {
    "slideshow": {
     "slide_type": "slide"
    }
   },
   "source": [
    "The grammar for WebAssembly function definitions, to the extent needed for P0, is:\n",
    "\n",
    "```EBNF\n",
    "num ::= digit {digit}\n",
    "int ::= [ '-' ] num\n",
    "name ::= '$' (letter | digit) {letter | digit}\n",
    "```\n",
    "\n",
    "```EBNF\n",
    "func ::= \"(\" \"func\" name func_type { local } { instr } \")\"\n",
    "func_type ::= { \"(\" \"param\" name \"i32\" \")\" } { \"(\" \"result\" \"i32\" \")\" }\n",
    "local ::= \"(\" \"local\" name \"i32\" \")\"\n",
    "instr ::= \"i32.const\" int |\n",
    "          \"i32.add\" | \"i32.sub\" | \"i32.mul\" | \"i32.div_s\" | \"i32.rem_s\" |\n",
    "          \"i32.eqz\" | \"i32.eq\" | \"i32.ne\" | \"i32.lt_s\" | \"i32.gt_s\" | \"i32.le_s\" | \"i32.ge_s\" |\n",
    "          \"i32.load\" \"offset\" \"=\" num |\n",
    "          \"i32.store\" \"offset\" \"=\" num |\n",
    "          \"global.get\" name |\n",
    "          \"global.set\" name |\n",
    "          \"local.get\" name |\n",
    "          \"local.set\" name |\n",
    "          \"block\" name { instr } \"end\" |\n",
    "          \"loop\" name { instr } \"end\" |\n",
    "          \"if\" { instr } [ \"else\" { instr } ] \"end\" |\n",
    "          \"br\" name |\n",
    "          \"br_if\" name |\n",
    "          \"return\" |\n",
    "          \"call\" name\n",
    "```"
   ]
  },
  {
   "cell_type": "markdown",
   "metadata": {
    "slideshow": {
     "slide_type": "slide"
    }
   },
   "source": [
    "The effect of arithmetic instructions and load/store instructions on `m`, `g`, and `s` can be described by assignment statements. Let `i` be an integer, `x` the name of a local or global variable, and `loc(x)` the index of variable `x` on the stack, to be made precise later:"
   ]
  },
  {
   "cell_type": "markdown",
   "metadata": {},
   "source": [
    "| instruction           | effect                                             | trap condition   |\n",
    "|:----------------------|:---------------------------------------------------|:-----------------|\n",
    "| `i32.const i`         | `s[sp], sp := i, sp + 1`                           | `sp < StackSize` |\n",
    "| `i32.add`             | `s[sp - 2], sp := s[sp - 2] + s[sp - 1], sp - 1`   |                  |\n",
    "| `i32.sub`             | `s[sp - 2], sp := s[sp - 2] - s[sp - 1], sp - 1`   |                  |\n",
    "| `i32.mul`             | `s[sp - 2], sp := s[sp - 2] × s[sp - 1], sp - 1`   |                  |\n",
    "| `i32.div_s`           | `s[sp - 2], sp := s[sp - 2] div s[sp - 1], sp - 1` | `s[sp - 1] = 0`  |\n",
    "| `i32.rem_s`           | `s[sp - 2], sp := s[sp - 2] mod s[sp - 1], sp - 1` | `s[sp - 1] = 0`  |\n",
    "| `i32.eqz`             | `s[sp - 1] := s[sp - 1] = 0`                       |                  |\n",
    "| `i32.eq`              | `s[sp - 2], sp := s[sp - 2] = s[sp - 1], sp - 1`   |                  |\n",
    "| `i32.ne`              | `s[sp - 2], sp := s[sp - 2] ≠ s[sp - 1], sp - 1`   |                  |\n",
    "| `i32.lt_s`            | `s[sp - 2], sp := s[sp - 2] < s[sp - 1], sp - 1`   |                  |\n",
    "| `i32.gt_s`            | `s[sp - 2], sp := s[sp - 2] > s[sp - 1], sp - 1`   |                  |\n",
    "| `i32.le_s`            | `s[sp - 2], sp := s[sp - 2] ≤ s[sp - 1], sp - 1`   |                  |\n",
    "| `i32.ge_s`            | `s[sp - 2], sp := s[sp - 2] ≥ s[sp - 1], sp - 1`   |                  |\n",
    "| `i32.load offset = n` | `s[sp - 1] := m[s[sp - 1] + n]`                    | `0 ≤ s[sp - 1] + n < MemSize` |\n",
    "| `i32.store offset = n`| `m[s[sp - 2] + n], sp := s[sp - 1], sp - 2`        | `0 ≤ s[sp - 1] + n < MemSize` |\n",
    "| `local.get x`         | `s[sp], sp := s[loc(x)], sp + 1`                   |                  |\n",
    "| `local.set x`         | `s[loc(x)], sp := s[sp - 1], sp - 1`               |                  |\n",
    "| `global.get x`        | `s[sp], sp := g[loc(x)], sp + 1`                   |                  |\n",
    "| `global.set x`        | `g[loc(x)], sp := s[sp - 1], sp - 1`               |                  |"
   ]
  },
  {
   "cell_type": "markdown",
   "metadata": {},
   "source": [
    "Pushing on a full stack, dividing by zero, or accessing the memory outside bounds is an error. In that case, the program *traps*, meaning it terminates and passes control to its environment."
   ]
  },
  {
   "cell_type": "markdown",
   "metadata": {
    "slideshow": {
     "slide_type": "slide"
    }
   },
   "source": [
    "A WebAssembly module can import functions, declare initialized global variables, define functions, declare the initial size of the memory, and designate one function as the start function, which is executed when the module is loaded. The grammar is:\n",
    "```EBNF\n",
    "string ::= \\\" {char} \\\"\n",
    "```\n",
    "\n",
    "```EBNF\n",
    "module ::= \"(\" \"module\" {import} {global} {func} [memory] [start] \")\"\n",
    "import ::= \"(\" \"import\" string string \"(\" \"func\" name func_type \")\" \")\"\n",
    "global ::= \"(\" \"global\" name \"(\" \"mut\" \"i32\" \")\" instr \")\" \n",
    "memory ::= \"(\" \"memory\" nat \")\"\n",
    "start ::= \"(\" \"start\" name \")\"\n",
    "```\n",
    "\n",
    "In global variable declarations, the keyword `mut` specifies that the variable is mutable. Otherwise, it is a constant. The subsequent instructions have to initialize the variable with a value of matching type."
   ]
  },
  {
   "cell_type": "markdown",
   "metadata": {
    "slideshow": {
     "slide_type": "slide"
    }
   },
   "source": [
    "### Executing WebAssembly"
   ]
  },
  {
   "cell_type": "markdown",
   "metadata": {
    "slideshow": {
     "slide_type": "-"
    }
   },
   "source": [
    "<div style=\"float:right;border-left:1em solid transparent\">\n",
    "\n",
    "```\n",
    "(module\n",
    "  (import \"P0lib\" \"write\" (func $write (param i32)))\n",
    "  (import \"P0lib\" \"writeln\" (func $writeln))\n",
    "  (import \"P0lib\" \"read\" (func $read (result i32)))\n",
    "  (func $QuotRem (param $x i32) (param $y i32)\n",
    "  ...\n",
    "  )\n",
    "  (func $program\n",
    "    (local $x i32)\n",
    "    (local $y i32)\n",
    "    call $read\n",
    "    local.set $x\n",
    "    call $read\n",
    "    local.set $y\n",
    "    local.get $x\n",
    "    local.get $y\n",
    "    call $QuotRem\n",
    "    )\n",
    "  (memory 1)\n",
    "  (start $program)\n",
    ")\n",
    "```\n",
    "</div>\n",
    "\n",
    "For P0 programs, we specify the following in WebAssembly modules:\n",
    "- The standard library consists of the procedures `write`, `writeln`, and `read`; these must be imported from the host environment.\n",
    "- The memory size is specified as 1 page with 2¹⁶ bytes.\n",
    "- The main program in P0 translates to function `$program` in WebAssembly, which becomes the start function.\n",
    "\n",
    "```Pascal\n",
    "procedure QuotRem(x, y: integer)\n",
    "    var q, r: integer\n",
    "        q := 0; r := x\n",
    "        while r ≥ y do // q × y + r = x ∧ r ≥ y\n",
    "            r := r - y; q := q + 1\n",
    "        write(q); write(r)\n",
    "\n",
    "program arithmetic\n",
    "  var x, y: integer\n",
    "    x ← read(); y ← read()\n",
    "    QuotRem(x, y)\n",
    "```"
   ]
  },
  {
   "cell_type": "markdown",
   "metadata": {
    "slideshow": {
     "slide_type": "slide"
    }
   },
   "source": [
    "WebAssembly programs can be run in a web browser through a JavaScript extension currently supported by all main web browsers. The P0 standard library must be implemented in JavaScript and imported in WebAssembly. The library is a JavaScript structure `P0lib` with fields `write`, `writeln`, and `read`, which are all JavaScript functions. That structure is then collected with potentially other parameters (e.g. other libraries) in one JavaScript structure `params`:\n",
    "```JavaScript\n",
    "    const params = { \n",
    "        P0lib: { \n",
    "            write: i => this.append_stream({text: '' + i, name: 'stdout'}),\n",
    "            writeln: () => this.append_stream({text: '\\\\n', name: 'stdout'}),\n",
    "            read: () => window.prompt()\n",
    "        }\n",
    "    }\n",
    "```"
   ]
  },
  {
   "cell_type": "markdown",
   "metadata": {
    "slideshow": {
     "slide_type": "slide"
    }
   },
   "source": [
    "The WebAssembly code is assumed to be in a binary WebAssembly file with its URL in the JavaScript variable `wasmfile`. The JavaScript function `fetch(wasmfile)` reads that file but does so asynchronously in the background, i.e. does not return the content of the file but rather a `Promise<Response>` that eventually resolves to the `Response` of the `http` request. To read the whole file as a binary sequence, the response has to be converted to an `ArrayBuffer`, as needed for execution with WebAssembly. The `Promise` method `.then` takes a function as a parameter; that function is called with the resolved value of the promise, `response` below when the promise is resolved successfully (for treatment of errors, a `.catch` method is provided, which won't be used here). The function `WebAssembly.compile` takes an `ArrayBuffer` object, `code` below, and returns the executable module. That module is without state, i.e., it can, in principle, be shared among multiple executions. The function `WebAssembly.instantiate` allocates the memory, sets up the stack, binds imported functions, and calls the start function of the module:\n",
    "\n",
    "```JavaScript\n",
    "    fetch(wasmfile)\n",
    "      .then(response => response.arrayBuffer())\n",
    "      .then(code => WebAssembly.compile(code))\n",
    "      .then(module => WebAssembly.instantiate(module, params))\n",
    "```"
   ]
  },
  {
   "cell_type": "markdown",
   "metadata": {
    "slideshow": {
     "slide_type": "slide"
    }
   },
   "source": [
    "JavaScript can be executed in Jupyter notebooks by displaying HTML code with JavaScript in the web browser. The library `IPython.core.display` provides a Python function for displaying HTML. The JavaScript code for fetching a WebAssembly file and executing it with the standard P0 library is placed in the Python function `runwasm(wasmfile)`:"
   ]
  },
  {
   "cell_type": "code",
   "execution_count": null,
   "metadata": {
    "slideshow": {
     "slide_type": "-"
    }
   },
   "outputs": [],
   "source": [
    "def runwasm(wasmfile):\n",
    "    from IPython.display import display, Javascript\n",
    "    display(Javascript(\"\"\"\n",
    "    const params = { \n",
    "        P0lib: { \n",
    "            write: i => this.append_stream({text: '' + i, name: 'stdout'}),\n",
    "            writeln: () => this.append_stream({text: '\\\\n', name: 'stdout'}),\n",
    "            read: () => window.prompt()\n",
    "        }\n",
    "    }\n",
    "    fetch('\"\"\" + wasmfile + \"\"\"') // asynchronously fetch file, return Response object\n",
    "      .then(response => response.arrayBuffer()) // read the response to completion and stores it in an ArrayBuffer\n",
    "      .then(code => WebAssembly.compile(code)) // compile (sharable) code.wasm\n",
    "      .then(module => WebAssembly.instantiate(module, params)) // create an instance with memory\n",
    "    // .then(instance => instance.exports.program()); // run the main program; not needed if start function specified\n",
    "    \"\"\"))"
   ]
  },
  {
   "cell_type": "markdown",
   "metadata": {
    "slideshow": {
     "slide_type": "slide"
    }
   },
   "source": [
    "For example, the complete textual WebAssembly file implementing the P0 program `arithmetic` is:"
   ]
  },
  {
   "cell_type": "code",
   "execution_count": null,
   "metadata": {
    "slideshow": {
     "slide_type": ""
    }
   },
   "outputs": [],
   "source": [
    "%%writefile arithmetic.wat\n",
    "(module\n",
    "  (import \"P0lib\" \"write\" (func $write (param i32)))\n",
    "  (import \"P0lib\" \"writeln\" (func $writeln))\n",
    "  (import \"P0lib\" \"read\" (func $read (result i32)))\n",
    "  (func $QuotRem (param $x i32) (param $y i32) \n",
    "    (local $q i32)\n",
    "    (local $r i32)\n",
    "    i32.const 0\n",
    "    local.set $q\n",
    "    local.get $x\n",
    "    local.set $r\n",
    "    loop $label0\n",
    "      local.get $r\n",
    "      local.get $y\n",
    "      i32.ge_s\n",
    "      if\n",
    "        local.get $r\n",
    "        local.get $y\n",
    "        i32.sub\n",
    "        local.set $r\n",
    "        local.get $q\n",
    "        i32.const 1\n",
    "        i32.add\n",
    "        local.set $q\n",
    "        br $label0\n",
    "      end\n",
    "    end\n",
    "    local.get $q\n",
    "    call $write\n",
    "    local.get $r\n",
    "    call $write\n",
    "  )\n",
    "  (func $program\n",
    "    (local $x i32)\n",
    "    (local $y i32)\n",
    "    call $read\n",
    "    local.set $x\n",
    "    call $read\n",
    "    local.set $y\n",
    "    local.get $x\n",
    "    local.get $y\n",
    "    call $QuotRem\n",
    "  )\n",
    "  (memory 1)\n",
    "  (start $program)\n",
    ")"
   ]
  },
  {
   "cell_type": "markdown",
   "metadata": {
    "slideshow": {
     "slide_type": "slide"
    }
   },
   "source": [
    "That has to be converted to a binary form for execution:"
   ]
  },
  {
   "cell_type": "code",
   "execution_count": null,
   "metadata": {
    "slideshow": {
     "slide_type": "-"
    }
   },
   "outputs": [],
   "source": [
    "!wat2wasm arithmetic.wat\n",
    "!ls -la arithmetic*"
   ]
  },
  {
   "cell_type": "markdown",
   "metadata": {},
   "source": [
    "Now, the generated code can be executed. The WebAssembly code runs natively on the computer on which the web browser runs, not on the Jupyter server, where the Python kernel runs: "
   ]
  },
  {
   "cell_type": "code",
   "execution_count": null,
   "metadata": {
    "tags": []
   },
   "outputs": [],
   "source": [
    "runwasm(\"arithmetic.wasm\")"
   ]
  },
  {
   "cell_type": "markdown",
   "metadata": {
    "slideshow": {
     "slide_type": "slide"
    }
   },
   "source": [
    "Alternatively to running WebAssembly programs in the browser, programs can be interpreted by `pywasm`. In this case, Python is the host environment and provides an implementation of the standard library:"
   ]
  },
  {
   "cell_type": "code",
   "execution_count": null,
   "metadata": {
    "slideshow": {
     "slide_type": "-"
    }
   },
   "outputs": [],
   "source": [
    "def runpywasm(wasmfile):\n",
    "    def write(s, i): print(i)\n",
    "    def writeln(s): print()\n",
    "    def read(s): return int(input())    \n",
    "    import pywasm\n",
    "    vm = pywasm.load(wasmfile, {'P0lib': {'write': write, 'writeln': writeln, 'read': read}})"
   ]
  },
  {
   "cell_type": "code",
   "execution_count": null,
   "metadata": {
    "slideshow": {
     "slide_type": "-"
    }
   },
   "outputs": [],
   "source": [
    "runpywasm(\"arithmetic.wasm\")"
   ]
  },
  {
   "cell_type": "markdown",
   "metadata": {
    "slideshow": {
     "slide_type": "slide"
    }
   },
   "source": [
    "The third option is `Wasmer`, which supports several compilers for compiling wasm to native code, including LLVM. The cell below uses the `cranelift` compiler, which reportedly compiles faster than LLVM, but does not generate as efficient code. With the Python binding of `Wasmer`, Python can be the host environment:"
   ]
  },
  {
   "cell_type": "code",
   "execution_count": null,
   "metadata": {},
   "outputs": [],
   "source": [
    "from wasmer import engine, Store, Module, Instance, ImportObject, Function\n",
    "from wasmer_compiler_cranelift import Compiler\n",
    "\n",
    "def runwasmer(wasmfile):\n",
    "    def write(i: int): print(i)\n",
    "    def writeln(): print()\n",
    "    def read() -> int: return int(input()) \n",
    "    store = Store(engine.JIT(Compiler))\n",
    "    module = Module(store, open(wasmfile, 'rb').read())\n",
    "    import_object = ImportObject()\n",
    "    import_object.register(\"P0lib\", {\"write\": Function(store, write),\n",
    "                                     \"writeln\": Function(store, writeln),\"read\": Function(store, read)})\n",
    "    instance = Instance(module, import_object)"
   ]
  },
  {
   "cell_type": "code",
   "execution_count": null,
   "metadata": {},
   "outputs": [],
   "source": [
    "runwasmer(\"arithmetic.wasm\")"
   ]
  },
  {
   "cell_type": "markdown",
   "metadata": {
    "slideshow": {
     "slide_type": "slide"
    }
   },
   "source": [
    "### Translation Scheme for Expressions"
   ]
  },
  {
   "cell_type": "markdown",
   "metadata": {
    "slideshow": {
     "slide_type": "-"
    }
   },
   "source": [
    "The translation scheme for arithmetic expressions is:\n",
    "\n",
    "<div style=\"float:right;background-color:lightgrey;border-left:20px solid white\">\n",
    "\n",
    "**Example.** For local variable `l`  \n",
    "and global variable `g`:\n",
    "  \n",
    "  `code(\"g + l × 3\")`  \n",
    "`=`  \n",
    "  `code(\"g\")`  \n",
    "  `code(\"l × 3\")`  \n",
    "  `i32.add`  \n",
    "`=`  \n",
    "  `global.get $g`  \n",
    "  `code(\"l\")`  \n",
    "  `code(\"3\")`  \n",
    "  `i32.mul`   \n",
    "  `i32.add`   \n",
    "`=`  \n",
    "  `global.get $g`  \n",
    "  `local.get $l`  \n",
    "  `i32.const 3`  \n",
    "  `i32.mul`  \n",
    "  `i32.add`  \n",
    "\n",
    "</div>\n",
    "\n",
    "\n",
    "| E           | code(E)                                 | condition               |\n",
    "|:------------|:----------------------------------------|:------------------------|\n",
    "| `x`         | `local.get $x`                          | if `x` local variable   |\n",
    "| `x`         | `global.get $x`                         | if `x` global variable  |\n",
    "| `n`         | `i32.const n`                           | if `n` integer constant |\n",
    "| `E₁ × E₂`   | `code(E₁)`<br>`code(E₂)`<br>`i32.mul`   |                         |\n",
    "| `E₁ div E₂` | `code(E₁)`<br>`code(E₂)`<br>`i32.div_s` |                         |\n",
    "| `E₁ mod E₂` | `code(E₁)`<br>`code(E₂)`<br>`i32.rem_s` |                         |\n",
    "| `+ E`       | `code(E)`                               |                         |\n",
    "| `- E`       | `i32.const 0`<br>`code(E)`<br>`i32.sub` |                         |\n",
    "| `E₁ + E₂`   | `code(E₁)`<br>`code(E₂)`<br>`i32.add`   |                         |\n",
    "| `E₁ - E₂`   | `code(E₁)`<br>`code(E₂)`<br>`i32.sub`   |                         |"
   ]
  },
  {
   "cell_type": "markdown",
   "metadata": {},
   "source": [
    "For boolean expression, the translation scheme is analogous, except that no code is generated for the negation of a relational operation; only the relation is negated:\n",
    "\n",
    "<div style=\"float:right;background-color:lightgrey;border-left:20px solid white\">\n",
    "\n",
    "**Example.** For local variable `l`  \n",
    "and global variable `g`:  \n",
    "  \n",
    "  `code(\"g + 3 < l\")`  \n",
    " `=`  \n",
    "   `code(\"g + 3\")`  \n",
    "   `code(\"l\")`  \n",
    "  `i32.lt_s`  \n",
    "`=`  \n",
    "  `code(\"g\")`  \n",
    "  `code(\"3\")`  \n",
    "  `i32.add`  \n",
    "  `local.get $l`  \n",
    "  `i32.lt_s`  \n",
    "`=`  \n",
    "  `global.get $g`  \n",
    "  `i32.const 3`  \n",
    "  `i32.add`  \n",
    "  `local.get $l`  \n",
    "  `i32.lt_s`\n",
    "\n",
    "</div>\n",
    "\n",
    "<table><tr><th style=\"border-right:4em solid white\">\n",
    "\n",
    "| E         | code(E)                        |\n",
    "|:----------|:--------------------------------------|\n",
    "| `x`       | <br>`code(x)` <br><br>                            |\n",
    "| `E₁ = E₂` | `code(E₁)`<br>`code(E₂)`<br>`i32.eq`  |\n",
    "| `E₁ ≠ E₂` | `code(E₁)`<br>`code(E₂)`<br>`i32.ne`  |\n",
    "| `E₁ < E₂` | `code(E₁)`<br>`code(E₂)`<br>`i32.lt_s`|\n",
    "| `E₁ ≤ E₂` | `code(E₁)`<br>`code(E₂)`<br>`i32.le_s`|\n",
    "| `E₁ > E₂` | `code(E₁)`<br>`code(E₂)`<br>`i32.gt_s`|\n",
    "| `E₁ ≥ E₂` | `code(E₁)`<br>`code(E₂)`<br>`i32.ge_s`|\n",
    "</th><th style=\"border-right:4em solid white\">\n",
    "\n",
    "| E              | code(E)                         |\n",
    "|:---------------|:---------------------------------------|\n",
    "| `not x`        | `i32.const 1`<br>`code(x)`<br>`i32.sub`|\n",
    "| `not(E₁ = E₂)` | `code(E₁)`<br>`code(E₂)`<br>`i32.ne`   |\n",
    "| `not(E₁ ≠ E₂)` | `code(E₁)`<br>`code(E₂)`<br>`i32.eq`   |\n",
    "| `not(E₁ < E₂)` | `code(E₁)`<br>`code(E₂)`<br>`i32.ge_s` |\n",
    "| `not(E₁ ≤ E₂)` | `code(E₁)`<br>`code(E₂)`<br>`i32.gt_s` |\n",
    "| `not(E₁ > E₂)` | `code(E₁)`<br>`code(E₂)`<br>`i32.le_s` |\n",
    "| `not(E₁ ≥ E₂)` | `code(E₁)`<br>`code(E₂)`<br>`i32.lt_s` |\n",
    "\n",
    "</tr></table>"
   ]
  },
  {
   "cell_type": "markdown",
   "metadata": {
    "slideshow": {
     "slide_type": "slide"
    }
   },
   "source": [
    "### Translation Scheme for Statements and Declarations"
   ]
  },
  {
   "cell_type": "markdown",
   "metadata": {
    "slideshow": {
     "slide_type": "-"
    }
   },
   "source": [
    "The translation scheme for statements is:\n",
    "\n",
    "<div style=\"float:right;background-color:lightgrey;border-left:20px solid white\">\n",
    "\n",
    "**Example.** For local  \n",
    "variables `x` and `y`,  \n",
    "  \n",
    "  `code(\"x, y := y, x\")`  \n",
    "`=`  \n",
    "  `code(\"y\")`  \n",
    "  `code(\"x\")`  \n",
    "  `local.set $y`  \n",
    "  `local.set $x`  \n",
    "`=`  \n",
    "  `local.get $y`  \n",
    "  `local.get $x`  \n",
    "  `local.set $y`  \n",
    "  `local.set $x`  \n",
    "  \n",
    "and:  \n",
    "  \n",
    "  `code(\"x ← double(3)\")`  \n",
    "`=`  \n",
    "  `code(\"3\")`  \n",
    "  `call $double`  \n",
    "  `local.set $x`  \n",
    "`=`  \n",
    "  `i32.const 3`  \n",
    "  `call $double`  \n",
    "  `local.set $x`  \n",
    "  \n",
    "</div>\n",
    "\n",
    "| S              | code(S)                                                             |                        |\n",
    "|:---------------|:--------------------------------------------------------------------|:-----------------------|\n",
    "| `x₁, …, xₙ := E₁, …, Eₙ`       | `code(E₁)` <br> `…` <br> `code(Eₙ)` <br> `set $xₙ` <br> `…` <br> `set $x₁`                                       | `set` is `local.set` for local variable <br> and `global.set` for global variable |\n",
    "| `x₁, …, xₘ ← p(E₁, …, Eₙ)` | `code(E₁)` <br> `…` <br> `code(Eₙ)` <br> `call $p` <br> `set $xₘ` <br> `…` <br> `set $x₁`                                       | `set` is `local.set` for local variable <br> and `global.set` for global variable |\n",
    "| `S₁; …; Sₙ`    | `code(S₁)` <br> `…` <br> `code(Sₙ)`                                  |                        |\n",
    "| `if E then S` | `code(E)` <br> `if` <br> `code(S)` <br>  `end`                       |                        |\n",
    "| `if E then S₁ else S₂` | `code(E)` <br> `if` <br> `code(S₁)` <br> `else` <br> `code(S₂)` <br> `end` |         |\n",
    "| `while E do S` | `loop $L`<br> `code(E)`<br> `if`<br>  `code(S)`<br>  `br $L`<br> `end`<br>`end` |            |"
   ]
  },
  {
   "cell_type": "markdown",
   "metadata": {
    "slideshow": {
     "slide_type": "slide"
    }
   },
   "source": [
    "The translation scheme for declarations is:\n",
    "\n",
    "| D                 | code(D)                             |                        |\n",
    "|:------------------|:------------------------------------|:-----------------------|\n",
    "| `var x: integer`  | `(local $x i32)`                    | for local declaration  |\n",
    "| `var x: boolean`  | `(local $x i32)`                    | for local declaration  |\n",
    "| `var x: integer`  | `(global $x (mut i32) i32.const 0)` | for global declaration |\n",
    "| `var x: boolean`  | `(global $x (mut i32) i32.const 0)` | for global declaration |\n",
    "| `procedure p(v₁: T₁, … , vₙ: Tₙ) → (r₁: U₁, … , rₘ: Uₘ)` <br> `D` <br> `S` | `(func $p (param $v₁ i32) … (param $vₙ i32)` <br> `(result i32) … (result i32)` <br> `(local $r₁ i32)` <br> `…` <br> `(local $rₘ i32)` <br> `code(D)` <br> `code(S)` <br> `local.get $r₁` <br> `…` <br> `local.get $rₘ` <br> `)` | if all `Tᵢ`, `Uⱼ` are `integer` or `boolean` |"
   ]
  },
  {
   "cell_type": "markdown",
   "metadata": {
    "slideshow": {
     "slide_type": "slide"
    }
   },
   "source": [
    "The translation scheme for a program is:\n",
    "\n",
    "| P                 | code(P)                             |                        |\n",
    "|:------------------|:------------------------------------|:-----------------------|\n",
    "| `D₁` <br>`program n` <br> `D₂` <br> `S` | `(module` <br> `stdlibimport`<br> `code(D₁)`<br> `(func $program` <br>  `code(D₂)` <br>  `code(S)` <br> `)` <br> `)` |  |\n",
    "\n",
    "Above, `stdlibimports` stands for the import of the P0 standard library, which is:\n",
    "\n",
    "```\n",
    "  (import \"P0lib\" \"write\" (func $write (param i32)))\n",
    "  (import \"P0lib\" \"writeln\" (func $writeln))\n",
    "  (import \"P0lib\" \"read\" (func $read (result i32)))\n",
    "```"
   ]
  },
  {
   "cell_type": "markdown",
   "metadata": {
    "slideshow": {
     "slide_type": "slide"
    }
   },
   "source": [
    "### Binary WebAssembly Files"
   ]
  },
  {
   "cell_type": "markdown",
   "metadata": {
    "slideshow": {
     "slide_type": "-"
    }
   },
   "source": [
    "It is instructive to \"reverse engineer\" the binary WebAssembly file by converting it back to the textual form. In WebAssembly, comments are written as `(;comment;)` and by `;;comment` for comments that extend until the end of the line:"
   ]
  },
  {
   "cell_type": "code",
   "execution_count": null,
   "metadata": {
    "slideshow": {
     "slide_type": "-"
    }
   },
   "outputs": [],
   "source": [
    "!wasm2wat arithmetic.wasm"
   ]
  },
  {
   "cell_type": "markdown",
   "metadata": {
    "slideshow": {
     "slide_type": "slide"
    }
   },
   "source": [
    "<div style=\"float:right;border-left:1em solid transparent\">\n",
    "\n",
    "```\n",
    "(module\n",
    "  (type (;0;) (func (param i32)))\n",
    "  (type (;1;) (func))\n",
    "  (type (;2;) (func (result i32)))\n",
    "  (type (;3;) (func (param i32 i32)))\n",
    "  (import \"P0lib\" \"write\" (func (;0;) (type 0)))\n",
    "  (import \"P0lib\" \"writeln\" (func (;1;) (type 1)))\n",
    "  (import \"P0lib\" \"read\" (func (;2;) (type 2)))\n",
    "  (global (;0;) (mut i32) (i32.const 0))\n",
    "  (global (;1;) (mut i32) (i32.const 0))\n",
    "  (func (;3;) (type 3) (param i32 i32)\n",
    "    (local i32 i32)\n",
    "    i32.const 0\n",
    "    local.set 2\n",
    "    local.get 0\n",
    "    local.set 3\n",
    "    loop  ;; label = @1\n",
    "      local.get 3\n",
    "      local.get 1\n",
    "      i32.ge_s\n",
    "      if  ;; label = @2\n",
    "        local.get 3\n",
    "        local.get 1\n",
    "        i32.sub\n",
    "        local.set 3\n",
    "        local.get 2\n",
    "        i32.const 1\n",
    "        i32.add\n",
    "        local.set 2\n",
    "        br 1 (;@1;)\n",
    "      end\n",
    "    end\n",
    "    local.get 2\n",
    "    call 0\n",
    "    local.get 3\n",
    "    call 0)\n",
    "  (func (;4;) (type 1)\n",
    "    call 2\n",
    "    global.set 0\n",
    "    call 2\n",
    "    global.set 1\n",
    "    global.get 0\n",
    "    global.get 1\n",
    "    call 3)\n",
    "  (memory (;0;) 1)\n",
    "  (start 4))\n",
    "```\n",
    "</div>\n",
    "\n",
    "A copy of the output is to the right; it reveals what is stored in the binary format:\n",
    "- Function parameters and local variables are referred to by numbers starting with 0 rather than names. That is, in \n",
    "```Pascal\n",
    "  procedure QuotRem(x, y: integer)\n",
    "    var q, r: integer\n",
    "      q := 0; r := x\n",
    "      while r ≥ y do \n",
    "        r := r - y; q := q + 1\n",
    "      write(q); write(r)\n",
    "```\n",
    "variables `x`, `y`, `q`, and `r` are referred to by `0` to `3`.\n",
    "- Functions are referred to by numbers rather than names: functions `write`, `writeln`, `read`, `QuotRem`, and `program` are referred to by `0` to `4`, respectively.\n",
    "- The function types are also numbered and referred to by their position number.\n",
    "- The targets of `br` and `br_if` refer to the enclosing `block ... end `, `loop ... end`, or `if ... end` by number: the closest one is `0`, the next closest one is `1`, etc. Recall that the only branches allowed to outer `block` and `end` instructions."
   ]
  },
  {
   "cell_type": "markdown",
   "metadata": {
    "slideshow": {
     "slide_type": "slide"
    }
   },
   "source": [
    "### Translation Scheme for Boolean Operators"
   ]
  },
  {
   "cell_type": "markdown",
   "metadata": {
    "slideshow": {
     "slide_type": "-"
    }
   },
   "source": [
    "In P0, boolean operators `and` and `or` evaluate conditionally:\n",
    "```Pascal\n",
    "p and q = if p then q else false\n",
    "p or q = if p then true else q\n",
    "```\n",
    "The operands are evaluated from left to right; as soon as the result is determined, the remaining operands are not evaluated. This way, expressions like\n",
    "```Pascal\n",
    "(i < N) and (a[i] ≠ x)\n",
    "(y = 0) or (x div y = m)\n",
    "```\n",
    "will not evaluate the second half if the first half determines the result."
   ]
  },
  {
   "cell_type": "markdown",
   "metadata": {
    "slideshow": {
     "slide_type": "slide"
    }
   },
   "source": [
    "The WebAssembly `if` instruction is used for conditional evaluation:  \n",
    "\n",
    "<code style=\"float:left;margin-left:6em\">\n",
    "if (a < b)\n",
    "and (c = d)\n",
    "and (e ≥ f)    \n",
    "then S\n",
    "</code>\n",
    "\n",
    "<code style=\"float:left;margin-left:1em\">\n",
    "code(a)\n",
    "code(b)\n",
    "i32.lt_s\n",
    "if (result i32)\n",
    " code(c)\n",
    " code(d)\n",
    " i32.eq\n",
    "else\n",
    " i32.const 0\n",
    "end\n",
    "if (result i32)\n",
    " code(e)\n",
    " code(f)\n",
    " i32.ge_s\n",
    "else\n",
    " u32.const 0\n",
    "end\n",
    "if\n",
    " code(S)\n",
    "end\n",
    "</code>\n",
    "\n",
    "<code style=\"float:left;margin-left:6em\">\n",
    "if (a < b)\n",
    "or (c = d)\n",
    "or (e ≥ f)    \n",
    "then S\n",
    "</code>\n",
    "\n",
    "<code style=\"float:left;margin-left:1em\">\n",
    "code(a)\n",
    "code(b)\n",
    "i32.lt_s\n",
    "if (result i32)\n",
    " i32.const 1\n",
    "else\n",
    " code(c)\n",
    " code(d)\n",
    " i32.eq\n",
    "end\n",
    "if (result i32)\n",
    " i32.const 1\n",
    "else\n",
    " code(e)\n",
    " code(f)\n",
    " i32.ge_s\n",
    "end\n",
    "if\n",
    " code(S)\n",
    "end\n",
    "    </code>"
   ]
  },
  {
   "cell_type": "markdown",
   "metadata": {
    "slideshow": {
     "slide_type": "slide"
    }
   },
   "source": [
    "The translation scheme for Boolean operators is:\n",
    "\n",
    "| E           | code(E)                                                                |\n",
    "|:------------|:-----------------------------------------------------------------------|\n",
    "| `not E`     | `code(E)`<br>`i32.eqz`                                                 |\n",
    "| `E₁ and E₂` | `code(E₁)`<br>`if (result i32)`<br> `code(E₂)`<br>`else`<br> `i32.const 0`<br>`end` |\n",
    "| `E₁ or E₂`  | `code(E₁)`<br>`if (result i32)`<br> `i32.const 1`<br>`else`<br> `code(E₂)`<br>`end` |"
   ]
  },
  {
   "cell_type": "markdown",
   "metadata": {
    "slideshow": {
     "slide_type": "slide"
    }
   },
   "source": [
    "This translation scheme generates for `if a = b and c > d then T` equivalent code as for `if a = b then if c > d then T`:\n",
    "\n",
    "<code style=\"float:left;margin-left:4em\">\n",
    "if a = b\n",
    "and c > d\n",
    "then S\n",
    "</code>\n",
    "\n",
    "<code style=\"float:left;margin-left:1em\">\n",
    "get a\n",
    "get b\n",
    "i32.eq\n",
    "if\n",
    "    get c\n",
    "    get d\n",
    "    i32.gt_s\n",
    "else\n",
    "    i32.const 0`\n",
    "end\n",
    "    if\n",
    "        code(S)\n",
    "    end\n",
    "</code>\n",
    "\n",
    "<code style=\"float:left;margin-left:4em\">\n",
    "if a = b\n",
    "then\n",
    "    if c > d`\n",
    "    then S\n",
    "</code>\n",
    "\n",
    "<code style=\"float:left;margin-left:1em\">\n",
    "get a\n",
    "get b\n",
    "i32.eq\n",
    "if\n",
    "    get c\n",
    "    get d\n",
    "    i32.gt_s\n",
    "    if\n",
    "        code(S)\n",
    "    end\n",
    "end\n",
    "</code>"
   ]
  },
  {
   "cell_type": "markdown",
   "metadata": {
    "slideshow": {
     "slide_type": "slide"
    }
   },
   "source": [
    "This translation scheme leads `0` (for `false`) and `1` (for `true`) to be explicitly pushed on the stack. Alternatively, using the WebAssembly `block` instruction, conditional evaluation can be expressed with forward branches. For conjunctions, each condition is negated; for disjunctions, only the last condition is negated. For while-statements, the `loop` instruction is used; branches in conditions go to the outer `block` instruction:\n",
    "\n",
    "<code style=\"float:left;margin-left:4em\">\n",
    "if (a < b)\n",
    "and (c = d)\n",
    "and (e ≥ f)\n",
    "then S\n",
    "</code>\n",
    "\n",
    "<code style=\"float:left;margin-left:1em\">\n",
    "block\n",
    " code(a)\n",
    " code(b)\n",
    " i32.ge_s\n",
    " br_if 0\n",
    " code(c)\n",
    " code(d)\n",
    " i32.ne\n",
    " br_if 0\n",
    " code(e)\n",
    " code(f)\n",
    " i32.lt_s\n",
    " br_if 0\n",
    " code(S)\n",
    "end\n",
    "</code>\n",
    "\n",
    "<code style=\"float:left;margin-left:4em\">\n",
    "    if (a < b)\n",
    "    or (c = d)\n",
    "    or (e ≥ f)\n",
    "    then S\n",
    "</code>\n",
    "\n",
    "<code style=\"float:left;margin-left:1em\">\n",
    "block\n",
    " block\n",
    "  code(a)\n",
    "  code(b)\n",
    "  i32.lt_s\n",
    "  br_if 0\n",
    "  code(c)\n",
    "  code(d)\n",
    "  i32.eq\n",
    "  br_if 0\n",
    "  code(e)\n",
    "  code(f)\n",
    "  i32.lt_s\n",
    "  br_if 1\n",
    " end\n",
    " code(S)\n",
    "end\n",
    "</code>\n",
    "\n",
    "<code style=\"float:left;margin-left:4em\">\n",
    "while a < b\n",
    "do S\n",
    "</code>\n",
    "\n",
    "<code style=\"float:left;margin-left:1em\">\n",
    "  block\n",
    "    loop\n",
    "      code(a)\n",
    "      code(b)\n",
    "      i32.ge_s\n",
    "      br_if 1\n",
    "      code(S)\n",
    "      br 0\n",
    "    end\n",
    "  end\n",
    "</code>"
   ]
  },
  {
   "cell_type": "markdown",
   "metadata": {
    "slideshow": {
     "slide_type": "slide"
    }
   },
   "source": [
    "These observations motivate the following translation scheme: for Boolean expression `B` that does not contain conditional boolean operators, `code(B)` specifies the WebAssembly instructions; for an expression `B` with a conditional boolean operator, `condcode(B, L)` specifies the WebAssembly instructions that branch to label `L` if the condition is false and \"fall through\" otherwise:\n",
    "\n",
    "<table><tr><th style=\"vertical-align:top;border-right:4em solid white\">\n",
    "\n",
    "| S                                | code(S)                                             |\n",
    "|:---------------------------------|:----------------------------------------------------|\n",
    "| `if B`<br>`then S`               | `block`<br> `condcode(B, 0)`<br> `code(S)`<br>`end` |\n",
    "| `if B`<br>`then S₁`<br>`else S₂` | `block`<br> `block`<br>  `condcode(B, 0)`<br>  `code(S₁)`<br>  `br 1`<br> `end`<br> `code(S₂)`<br>`end` |\n",
    "| `while B`<br>`do S`              | `block`<br> `loop`<br>  `condcode(B, 1)`<br>  `code(S)`<br>  `br 0`<br> `end`<br>`end` |\n",
    "\n",
    "</th><th style=\"vertical-align:top;border-right:4em solid white\">\n",
    "\n",
    "| B                             | condcode(B, L)                                  |\n",
    "|:------------------------------|:------------------------------------------------|\n",
    "| `B₁`<br>`and ...`<br>`and Bₙ` | `condcode(not B₁, L)`<br>`br_if L`<br>`...`<br>`condcode(not Bₙ, L)`<br>`br_if L` |\n",
    "| `B₁`<br>`or ...`<br>`or Bₙ`   | `block`<br> `condcode(B₁, 0)`<br> `br_if 0`<br> `...`<br> `condcode(Bₙ₋₁, 0)`<br> `br_if 0`<br> `condcode(not Bₙ, L + 1)`<br> `br_if L + 1`<br>`end` |\n",
    "\n",
    "</tr></table>"
   ]
  },
  {
   "cell_type": "markdown",
   "metadata": {
    "slideshow": {
     "slide_type": "slide"
    }
   },
   "source": [
    "### Translation Scheme for Arrays"
   ]
  },
  {
   "cell_type": "markdown",
   "metadata": {
    "slideshow": {
     "slide_type": "-"
    }
   },
   "source": [
    "Global arrays are statically allocated consecutively in memory. Below, `adr(x) = 0` and `adr(y) = adr(x) + size(A) = 0 + 7 × 4 = 28`:\n",
    "\n",
    "<code style=\"float:left;margin-left:4em\">\n",
    "type A = [1.. 7] → integer\n",
    "var x: A\n",
    "var y: A\n",
    "var i: integer\n",
    "var h: integer\n",
    "program p\n",
    "    i := 3\n",
    "    h := y[i]\n",
    "    x[i] := 5\n",
    "</code>\n",
    "\n",
    "<code style=\"float:left;margin-left:2em\">\n",
    "(global $i (mut i32) i32.const 0)\n",
    "(global $h (mut i32) i32.const 0)\n",
    "(func $program\n",
    "    i32.const 3   ;; 3\n",
    "    global.set $i\n",
    "    global.get $i\n",
    "    i32.const 1    ;; x.lower\n",
    "    i32.sub\n",
    "    i32.const 4    ;; size(integer)\n",
    "    i32.mul\n",
    "    i32.const 28    ;; adr(y)\n",
    "    i32.add\n",
    "    i32.load\n",
    "    global.set $h\n",
    "    global.get $i  ;; x[i] := 5\n",
    "    i32.const 1\n",
    "    i32.sub\n",
    "    i32.const 4\n",
    "    i32.mul\n",
    "    i32.const 0\n",
    "    i32.add\n",
    "    i32.const 5\n",
    "    i32.store\n",
    ")\n",
    "</code>"
   ]
  },
  {
   "cell_type": "markdown",
   "metadata": {
    "slideshow": {
     "slide_type": "slide"
    }
   },
   "source": [
    "The compiler uses the variable `memsize` to keep track of statically allocated memory; it is initially `0`. No code is generated for a variable declaration; rather, the address is stored in the field `adr` of the symbol table entry for the variable. With `A = [l .. u] → T`:\n",
    "\n",
    "| D          | code(D)          | effect                                           |                   |\n",
    "|:-----------|:-----------------|:-------------------------------------------------|:------------------|\n",
    "| `var x: A` |                  | `x.adr := memsize; memsize := memsize + size(A)` | global declaration|"
   ]
  },
  {
   "cell_type": "markdown",
   "metadata": {
    "slideshow": {
     "slide_type": "slide"
    }
   },
   "source": [
    "Local arrays are dynamically allocated in memory like a stack that mimics the calling stack. For local array `x`, local variable `$x` of type `i32` points to the address of `x` in memory. Global WebAssembly variable `$memsize` points to the top of the stack. Each procedure has a local variable, `$mp`, with the pointer to the top of the stack before the allocation of local variables. In the procedure *prologue*, `$memsize` is saved in `$mp` and restored in the *epilogue*. Variable `$memsize` is initially the size of all statically allocated arrays: \n",
    "\n",
    "<code style=\"float:left;margin-left:4em\">\n",
    "type A = [1.. 7] → integer\n",
    "var x: A\n",
    "procedure q()\n",
    "  var y: A\n",
    "    y[3] := 5\n",
    "program p\n",
    "  var z: A\n",
    "    q()\n",
    "</code>\n",
    "\n",
    "<code style=\"float:left;margin-left:2em\">\n",
    "(func $q  \n",
    "    (local $y i32)\n",
    "    (local $mp i32)\n",
    "    global.get $memsize\n",
    "    local.set $mp\n",
    "    global.get $memsize\n",
    "    local.tee $y\n",
    "    i32.const 28\n",
    "    i32.add\n",
    "    global.set $memsize\n",
    "    i32.const 3\n",
    "    i32.const 1\n",
    "    i32.sub\n",
    "    i32.const 4\n",
    "    i32.mul\n",
    "    local.get $y\n",
    "    i32.add\n",
    "    i32.const 5\n",
    "    i32.store\n",
    "    local.get $mp\n",
    "    global.set $memsize\n",
    ")\n",
    "</code>\n",
    "\n",
    "<code style=\"float:left;margin-left:2em\">\n",
    "(global $memsize (mut i32) i32.const 28)\n",
    "(func $program\n",
    "    (local $z i32)\n",
    "    (local $mp i32)\n",
    "    global.get $memsize\n",
    "    local.set $mp\n",
    "    global.get $memsize\n",
    "    i32.const 28\n",
    "    i32.add\n",
    "    local.tee $z\n",
    "    global.set $memsize\n",
    "    call $q\n",
    "    local.get $mp\n",
    "    global.set $memsize\n",
    ")\n",
    "</code>"
   ]
  },
  {
   "cell_type": "markdown",
   "metadata": {
    "slideshow": {
     "slide_type": "slide"
    }
   },
   "source": [
    "With `A = [l .. u] → T`, the translation scheme for programs with local array declarations is:\n",
    "\n",
    "| D          | code(D)          |                                                  |\n",
    "|:-----------|:-----------------|:-------------------------------------------------|\n",
    "| `var x: A` | `(local $x i32)`<br>`…`<br>`global.get $memsize`<br>`local.tee $x`<br>`i32.const size(A)`<br>`i32.add`<br>`global.set $memsize` | local declaration |\n",
    "| `procedure p(v₁: T₁, … , vₙ: Tₙ) → (r₁: U₁, … , rₘ: Uₘ)` <br> `D` <br> `S` | `(func $p (param $v₁ i32) … (param $vₙ i32)` <br> `(result i32) … (result i32)` <br> `(local $r₁ i32)` <br> `…` <br> `(local $rₘ i32)` <br> `code(D)` <br> `(local $mp i32)` <br> `global.get $memsize` <br> `local.set $mp` <br> `code(S)` <br> `local.get $r₁` <br> `…` <br> `local.get $rₘ` <br> `local.get $mp`<br> `global.set $memsize`<br>`)` | |\n",
    "| `D₁` <br>`program n` <br> `D₂` <br> `S` | `(module` <br> `stdlibimport`<br> `code(D₁)`<br> `(global $memsize (mut i32) i32.const memsize)`<br> `(func $program` <br>  `code(D₂)` <br>  `(local $mp i32)` <br>  `global.get $memsize` <br>  `local.set $mp` <br>  `code(S)` <br>  `local.get $mp`<br>  `global.set $memsize`<br> `)` <br> `)` |  |"
   ]
  },
  {
   "cell_type": "markdown",
   "metadata": {
    "slideshow": {
     "slide_type": "slide"
    }
   },
   "source": [
    "With `A = [l .. u] → T`, the translation scheme for array indexing and array assignment is:\n",
    "\n",
    "| E          | code(E)                                 |      |\n",
    "|:-----------|:----------------------------------------|:-----|\n",
    "| `x`        | `i32.const x.adr` | if `x` global variable |\n",
    "| `x`        | `local.get $x`    | if `x` local variable  |\n",
    "| `x[E]`     | `code(E)`<br>`i32.const x.lower`<br>`i32.sub`<br>`i32.const size(A)`<br>`i32.mul`<br>`code(x)`<br>`i32.add`<br>`i32.load` |  |\n",
    "\n",
    "| S           | code(S)                                 |      |\n",
    "|:------------|:----------------------------------------|:-----|\n",
    "| `x[E] := F` | `code(E)`<br>`i32.const x.lower`<br>`i32.sub`<br>`i32.const size(T)`<br>`i32.mul`<br>`code(x)`<br>`i32.add`<br>`code(F)`<br>`i32.store` |  |\n",
    "| `x₁ := x₂`  | `code(x₁)`<br>`code(x₂)`<br>`i32.const size(T)`<br>`memory.copy` |  |\n",
    "\n",
    "If `s`, `d`, `n` of type `i32` are the top elements of the stack, the instruction `memory.copy` copies `n` bytes in memory starting at index `s` to index `d`."
   ]
  },
  {
   "cell_type": "markdown",
   "metadata": {
    "slideshow": {
     "slide_type": "slide"
    }
   },
   "source": [
    "When arrays are passed as value and result parameters, only a pointer to the array in memory is passed:\n",
    "\n",
    "<code style=\"float:left;margin-left:4em\">\n",
    "type A = [1.. 7] → integer\n",
    "type B = [0 .. 1] → A\n",
    "var b: B\n",
    "procedure q(x: A) → (y: A)\n",
    "    y := x\n",
    "program p\n",
    "  b[0] ← q(b[1])\n",
    "</code>\n",
    "\n",
    "<code style=\"float:left;margin-left:2em\">\n",
    "(func $q (param $x i32) (result i32)\n",
    "    (local $y i32)\n",
    "    (local $mp i32)\n",
    "    global.get $memsize\n",
    "    local.set $mp\n",
    "    global.get $memsize\n",
    "    local.tee $y\n",
    "    i32.const 28\n",
    "    i32.add\n",
    "    global.set $memsize\n",
    "    local.get $y\n",
    "    local.get $x\n",
    "    i32.const 28\n",
    "    memory.copy\n",
    "    local.get $mp\n",
    "    global.set $memsize\n",
    "    local.get $y\n",
    ")\n",
    "</code>\n",
    "\n",
    "<code style=\"float:left;margin-left:2em\">\n",
    "(global $memsize (mut i32) i32.const 56)\n",
    "(func $program\n",
    "    i32.const 0\n",
    "    i32.const 28\n",
    "    call $q\n",
    "    i32.const 28\n",
    "    memory.copy\n",
    ")\n",
    "</code>"
   ]
  },
  {
   "cell_type": "markdown",
   "metadata": {
    "slideshow": {
     "slide_type": "slide"
    }
   },
   "source": [
    "Passing pointers leads to *aliasing* when two pointers refer to the same address: modifications through one pointer are visible through the other. To avoid aliasing,\n",
    "- an array parameter passed by value is a local constant rather than a local variable; it has to be copied to a local variable before it can be updated,\n",
    "- only the _owner_ of the array can access it; ownership is transferred with the call; the example below illustrates that the call `q(x, x)` is illegal as `x` must be passed only once and that global variables cannot be passed as parameters.\n",
    "```\n",
    "type A = [1.. 7] → integer\n",
    "var x: A\n",
    "procedure q(y, z: A)\n",
    "    y[2] := 3; write(x[2])    // writes 3\n",
    "    write(z[2])    // writes 3\n",
    "program p\n",
    "    q(x, x)\n",
    "```\n",
    "\n",
    "Currently, the P0 compiler allows aliasing."
   ]
  },
  {
   "cell_type": "markdown",
   "metadata": {},
   "source": [
    "Variations of the above scheme are possible:\n",
    "- If the size of all local arrays can be statically determined, `$memsize` can be incremented by that amount in the procedure prologue and decremented in the epilogue without needing local variable `$mp`. While not strictly required in P0, having `$mp` allows extensions with arrays of dynamic size and other dynamic data structures more easily.\n",
    "- If `x` is an array, in the call `x ← p()`, only the address of the result is returned, and the caller copies the result to `x`. Alternatively, the callee can perform that copy, leading to less duplication of copying code. For this, the address of `x` has to be passed as an additional parameter, as in the call `p(x)`."
   ]
  },
  {
   "cell_type": "markdown",
   "metadata": {
    "slideshow": {
     "slide_type": "slide"
    }
   },
   "source": [
    "### Translation Scheme for Records"
   ]
  },
  {
   "cell_type": "markdown",
   "metadata": {},
   "source": [
    "Like arrays, records are allocated consecutively in memory. Below, `adr(x) = 0` and `adr(y) = adr(x) + size([1 .. 7] → R) = 7 × size(R) = 7 × 8 = 56`:\n",
    "\n",
    "<code style=\"float:left;margin-left:4em\">\n",
    "type R = (f: integer, g: integer)\n",
    "var x: [1 .. 7] → R\n",
    "var y: R\n",
    "program p\n",
    "    var i: integer\n",
    "        i := 3\n",
    "        x[i].g := 5\n",
    "        y.f := 7\n",
    "</code>\n",
    "\n",
    "<code style=\"float:left;margin-left:2em\">\n",
    "(func $program\n",
    "    (local $i i32)\n",
    "    i32.const 3  ;; 3\n",
    "    local.set $i\n",
    "    local.get $i\n",
    "    i32.const 1   ;; x.lower\n",
    "    i32.sub\n",
    "    i32.const 8   ;; size(R)\n",
    "    i32.mul\n",
    "    i32.const 0   ;; adr(x)\n",
    "    i32.add\n",
    "    i32.const 4   ;; offset(g)\n",
    "    i32.add\n",
    "    i32.const 5   ;; 5\n",
    "    i32.store\n",
    "    i32.const 56   ;; adr(y) + offset(f)\n",
    "    i32.const 7    ;; 7\n",
    "    i32.store\n",
    ")\n",
    "</code>"
   ]
  },
  {
   "cell_type": "markdown",
   "metadata": {},
   "source": [
    "No code is generated for a variable declaration, but the address is stored as a field of the symbol table entry for the variable. With `R = (f₁: T₁, f₂: T₂, …)`:\n",
    "\n",
    "| D                 | code(D)             | effect                                           |\n",
    "|:------------------|:--------------------|:-------------------------------------------------|\n",
    "| `var x: R`        |                     | `x.adr := memsize; memsize := memsize + size(R)` |"
   ]
  },
  {
   "cell_type": "markdown",
   "metadata": {},
   "source": [
    "Assuming that the address of `x` is on the stack, the code for `x.f` updates that address:\n",
    "\n",
    "| E           | code(E)                                 |\n",
    "|:------------|:----------------------------------------|\n",
    "| `x.f`       | `i32.const offset(f)`<br>`i32.add`      |"
   ]
  }
 ],
 "metadata": {
  "kernelspec": {
   "display_name": "Python 3 (ipykernel)",
   "language": "python",
   "name": "python3"
  },
  "language_info": {
   "codemirror_mode": {
    "name": "ipython",
    "version": 3
   },
   "file_extension": ".py",
   "mimetype": "text/x-python",
   "name": "python",
   "nbconvert_exporter": "python",
   "pygments_lexer": "ipython3",
   "version": "3.11.1"
  },
  "livereveal": {
   "scroll": true
  },
  "rise": {
   "enable_chalkboard": true
  }
 },
 "nbformat": 4,
 "nbformat_minor": 4
}
