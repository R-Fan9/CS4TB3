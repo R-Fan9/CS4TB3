{
 "cells": [
  {
   "cell_type": "markdown",
   "metadata": {
    "deletable": false,
    "editable": false,
    "nbgrader": {
     "cell_type": "markdown",
     "checksum": "be57b6cb89b4c56a7dfd47ab9f1ac6c9",
     "grade": false,
     "grade_id": "cell-86b23c0e9a7cc097",
     "locked": true,
     "schema_version": 3,
     "solution": false,
     "task": false
    }
   },
   "source": [
    "## COMPSCI 3TB3/4TB3/6TB3 2022/23 Midterm Test [out of 24 points, max 26 points]\n",
    "\n",
    "**Emil Sekerinski, McMaster University, 8 March 2023, 11:30 - 12:20**  \n",
    "\n",
    "\n",
    "- Complete the test on jhub4tb3, do not download the test. Don't forget to submit. You can submit multiple times, the last version will be taken.\n",
    "- You may add cells as needed. If your kernel hangs, restart the kernel by `Kernel → Restart`, don't just close the window and open a new window. \n",
    "- Please have your student card ready. You may use paper and pencil, but not a calculator (it would not be of use).\n",
    "- Before you start, on jhub4tb3 go to the \"Running\" tab and shut down all terminals and notebooks that you have used previously but not exited. Your midterm test may not be able to run properly if you are using too many resources.\n",
    "- This is a \"closed book\" test: your browser must have only one full-screen window with Jupyter on jhub4tb3. Accessing any other material on jhub4tb3, on your computer, through the web, or through any other means is not allowed. This includes the course notes and the assignments of this course. Any attempt to access other material will be treated as Academic Dishonesty."
   ]
  }
 ],
 "metadata": {
  "kernelspec": {
   "display_name": "Python 3 (ipykernel)",
   "language": "python",
   "name": "python3"
  },
  "language_info": {
   "codemirror_mode": {
    "name": "ipython",
    "version": 3
   },
   "file_extension": ".py",
   "mimetype": "text/x-python",
   "name": "python",
   "nbconvert_exporter": "python",
   "pygments_lexer": "ipython3",
   "version": "3.11.1"
  }
 },
 "nbformat": 4,
 "nbformat_minor": 4
}
