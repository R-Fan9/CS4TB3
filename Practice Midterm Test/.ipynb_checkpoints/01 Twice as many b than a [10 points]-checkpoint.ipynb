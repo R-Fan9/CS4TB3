{
 "cells": [
  {
   "cell_type": "markdown",
   "metadata": {
    "deletable": false,
    "editable": false,
    "nbgrader": {
     "cell_type": "markdown",
     "checksum": "fbebc2b82a05055401e021b4d3a0e1e9",
     "grade": false,
     "grade_id": "cell-d027879301bb6a89",
     "locked": true,
     "schema_version": 3,
     "solution": false,
     "task": false
    },
    "tags": []
   },
   "source": [
    "#### Twice as many b's than a's"
   ]
  },
  {
   "cell_type": "markdown",
   "metadata": {
    "deletable": false,
    "editable": false,
    "nbgrader": {
     "cell_type": "markdown",
     "checksum": "9b8456aeecbe7dc63569e59b18086254",
     "grade": false,
     "grade_id": "cell-f318546c68c8d802",
     "locked": true,
     "schema_version": 3,
     "solution": false,
     "task": false
    },
    "tags": []
   },
   "source": [
    "Consider the Python function `derivable` from the course notes with some examples illustrating its use:"
   ]
  },
  {
   "cell_type": "code",
   "execution_count": null,
   "metadata": {
    "deletable": false,
    "editable": false,
    "nbgrader": {
     "cell_type": "code",
     "checksum": "496b000e391961c74d42c446eb25dc88",
     "grade": false,
     "grade_id": "cell-424a3846ff649f75",
     "locked": true,
     "schema_version": 3,
     "solution": false,
     "task": false
    },
    "tags": []
   },
   "outputs": [],
   "source": [
    "def derivable(S, P, ω) -> bool:\n",
    "    # S: start symbol, a string, P: productions, a set of pairs of strings, ω: string\n",
    "    d0, d = {}, {S} # set of strings\n",
    "    while d != d0:\n",
    "        d0 = d #; print(d)\n",
    "        for (σ, τ) in P:\n",
    "            for π in d0:\n",
    "                i = π.find(σ, 0) #print('π, i', π, i)\n",
    "                while i != - 1:\n",
    "                    χ = π[0:i] + τ + π[i + len(σ):] #print('χ', χ)\n",
    "                    if χ == ω: return True\n",
    "                    elif len(χ) <= len(ω): d = d.union({χ})\n",
    "                    i = π.find(σ, i + 1) #print('d, i', d, i)\n",
    "    return False"
   ]
  },
  {
   "cell_type": "code",
   "execution_count": null,
   "metadata": {
    "deletable": false,
    "editable": false,
    "nbgrader": {
     "cell_type": "code",
     "checksum": "46942c49b38acd67b7dfb03c7234d036",
     "grade": false,
     "grade_id": "cell-de0a184ac5281243",
     "locked": true,
     "schema_version": 3,
     "solution": false,
     "task": false
    },
    "tags": []
   },
   "outputs": [],
   "source": [
    "RP = {('S', 'a'), ('S', 'bS')} # Regular productions: S → a, S → bS\n",
    "assert derivable('S', RP, 'a')\n",
    "assert derivable('S', RP, 'bba')\n",
    "assert not derivable('S', RP, 'bb')"
   ]
  },
  {
   "cell_type": "code",
   "execution_count": null,
   "metadata": {
    "deletable": false,
    "editable": false,
    "nbgrader": {
     "cell_type": "code",
     "checksum": "14eb372e2041fc1f0c7dd5d590a4a29e",
     "grade": false,
     "grade_id": "cell-ec7290b8c72b0fda",
     "locked": true,
     "schema_version": 3,
     "solution": false,
     "task": false
    },
    "tags": []
   },
   "outputs": [],
   "source": [
    "CFP = {('S', 'b'), ('S', 'aSc')} # Context-free productions: S → b, S → aSc\n",
    "assert derivable('S', CFP, 'abc')\n",
    "assert derivable('S', CFP, 'aabcc')\n",
    "assert not derivable('S', CFP, 'ac')"
   ]
  },
  {
   "cell_type": "code",
   "execution_count": null,
   "metadata": {
    "deletable": false,
    "editable": false,
    "nbgrader": {
     "cell_type": "code",
     "checksum": "896b79054a39fe5b87c41d8f235f1d00",
     "grade": false,
     "grade_id": "cell-3b4a8c8f0f182a7b",
     "locked": true,
     "schema_version": 3,
     "solution": false,
     "task": false
    },
    "tags": []
   },
   "outputs": [],
   "source": [
    "URP = {('S', 'ab'), ('S', 'abS'), ('ab', 'ba'), ('ba', 'ab')} # Unrestricted productions: S → ab, S → abS, ab → ba, ba → ab\n",
    "assert derivable('S', URP, 'aabb')\n",
    "assert not derivable('S', URP, 'aa')"
   ]
  },
  {
   "cell_type": "markdown",
   "metadata": {
    "deletable": false,
    "editable": false,
    "nbgrader": {
     "cell_type": "markdown",
     "checksum": "fdd0dd4da114ca0476a496409b5a05d2",
     "grade": false,
     "grade_id": "cell-3ebb02a24e2eed19",
     "locked": true,
     "schema_version": 3,
     "solution": false,
     "task": false
    },
    "tags": []
   },
   "source": [
    "The functions `regular` and `contextfree` test if the productions of the grammar supplied to `derivable` are regular and context-free:"
   ]
  },
  {
   "cell_type": "code",
   "execution_count": null,
   "metadata": {
    "deletable": false,
    "editable": false,
    "nbgrader": {
     "cell_type": "code",
     "checksum": "60e8573eacd865956dc6a46f2bab86c7",
     "grade": false,
     "grade_id": "cell-3eed2a660729ca55",
     "locked": true,
     "schema_version": 3,
     "solution": false,
     "task": false
    },
    "tags": []
   },
   "outputs": [],
   "source": [
    "def regular(P) -> bool:\n",
    "    # P: productions, a set of pairs of strings\n",
    "    N = {σ for (σ, τ) in P} # nonterminals\n",
    "    return all(len(σ) == 1 and \\\n",
    "        (τ == '' or (len(τ) == 1 and τ[0] not in N) or (len(τ) == 2 and τ[0] not in N and τ[1] in N)) for (σ, τ) in P)"
   ]
  },
  {
   "cell_type": "code",
   "execution_count": null,
   "metadata": {
    "deletable": false,
    "editable": false,
    "nbgrader": {
     "cell_type": "code",
     "checksum": "c3e759d6cc8fb2b046898b3e000b2ad0",
     "grade": false,
     "grade_id": "cell-1747f7c570f79b72",
     "locked": true,
     "schema_version": 3,
     "solution": false,
     "task": false
    },
    "tags": []
   },
   "outputs": [],
   "source": [
    "def contextfree(P) -> bool:\n",
    "    # P: productions, a set of pairs of strings\n",
    "    return all(len(σ) == 1 for (σ, τ) in P)"
   ]
  },
  {
   "cell_type": "code",
   "execution_count": null,
   "metadata": {
    "deletable": false,
    "editable": false,
    "nbgrader": {
     "cell_type": "code",
     "checksum": "a95d569150355a5327d148038a95df2b",
     "grade": false,
     "grade_id": "cell-483ced944ef13324",
     "locked": true,
     "schema_version": 3,
     "solution": false,
     "task": false
    },
    "tags": []
   },
   "outputs": [],
   "source": [
    "assert regular(RP)\n",
    "assert not regular(CFP)\n",
    "assert contextfree(CFP)\n",
    "assert not contextfree(URP)"
   ]
  },
  {
   "cell_type": "markdown",
   "metadata": {
    "deletable": false,
    "editable": false,
    "nbgrader": {
     "cell_type": "markdown",
     "checksum": "cc504a2bb6c7db205cee524f1ffbe284",
     "grade": false,
     "grade_id": "cell-a52a99b7668e6a7c",
     "locked": true,
     "schema_version": 3,
     "solution": false,
     "task": false
    },
    "tags": []
   },
   "source": [
    "Consider the language `L0 = {aⁿb²ⁿ | n > 0}`, that is, a number of `a`'s followed by twice the number of `b`'s. Give a regular grammar if one exists; otherwise, give a context-free grammar if one exists; otherwise, give an unrestricted grammar! The grammar must not have ε-productions. Call the productions of the grammar `P0` and use `S` as the start symbol!"
   ]
  },
  {
   "cell_type": "code",
   "execution_count": null,
   "metadata": {
    "deletable": false,
    "nbgrader": {
     "cell_type": "code",
     "checksum": "6dc409fc4390ab3a620701c70c0d51fe",
     "grade": false,
     "grade_id": "cell-57698292496aa4a7",
     "locked": false,
     "schema_version": 3,
     "solution": true,
     "task": false
    },
    "tags": []
   },
   "outputs": [],
   "source": [
    "# YOUR CODE HERE\n",
    "raise NotImplementedError()"
   ]
  },
  {
   "cell_type": "markdown",
   "metadata": {
    "deletable": false,
    "editable": false,
    "nbgrader": {
     "cell_type": "markdown",
     "checksum": "12a0177e4e2afd2b626ba4dd3db01af3",
     "grade": false,
     "grade_id": "cell-095959a49717779c",
     "locked": true,
     "schema_version": 3,
     "solution": false,
     "task": false
    },
    "tags": []
   },
   "source": [
    "Here are some test cases; your solution is tested with more test cases [2 points]:"
   ]
  },
  {
   "cell_type": "code",
   "execution_count": null,
   "metadata": {
    "deletable": false,
    "editable": false,
    "nbgrader": {
     "cell_type": "code",
     "checksum": "82ba495ed3de192652cdaf598ee4d045",
     "grade": true,
     "grade_id": "cell-c30a0a803ca624bc",
     "locked": true,
     "points": 2,
     "schema_version": 3,
     "solution": false,
     "task": false
    },
    "tags": []
   },
   "outputs": [],
   "source": [
    "assert derivable('S', P0, 'abb')\n",
    "assert derivable('S', P0, 'aabbbb')\n",
    "assert derivable('S', P0, 'aaabbbbbb')\n",
    "assert not derivable('S', P0, '')\n",
    "assert not derivable('S', P0, 'aab')\n",
    "assert not derivable('S', P0, 'bba')"
   ]
  },
  {
   "cell_type": "markdown",
   "metadata": {
    "deletable": false,
    "editable": false,
    "nbgrader": {
     "cell_type": "markdown",
     "checksum": "4ca7ffe05610896d3c4128fd17731a29",
     "grade": false,
     "grade_id": "cell-a5666f1ecfb2933a",
     "locked": true,
     "schema_version": 3,
     "solution": false,
     "task": false
    },
    "tags": []
   },
   "source": [
    "You can check if your grammar is regular or context-free [1 point]:"
   ]
  },
  {
   "cell_type": "code",
   "execution_count": null,
   "metadata": {
    "deletable": false,
    "editable": false,
    "nbgrader": {
     "cell_type": "code",
     "checksum": "1384de7b0b2a522652210c7e5e242c42",
     "grade": true,
     "grade_id": "cell-72fc2e53ac5f0a21",
     "locked": true,
     "points": 1,
     "schema_version": 3,
     "solution": false,
     "task": false
    },
    "tags": []
   },
   "outputs": [],
   "source": [
    "regular(P0), contextfree(P0)"
   ]
  },
  {
   "cell_type": "markdown",
   "metadata": {
    "deletable": false,
    "editable": false,
    "nbgrader": {
     "cell_type": "markdown",
     "checksum": "6d1952d29b08016b70b1cd9f68bd3bcb",
     "grade": false,
     "grade_id": "cell-ad35927884d2fd02",
     "locked": true,
     "schema_version": 3,
     "solution": false,
     "task": false
    },
    "tags": []
   },
   "source": [
    "The notation `x#σ` stands for the number of occurrences of symbol `x` in sequence `σ`. Consider the language `L1 = {σ | b#σ = 2 × a#σ ∧ σ ≠ ε}`, that is, all non-empty sequences with twice as many `b`'s as `a`'s. Give a regular grammar if one exists; otherwise, give a context-free grammar if one exists; otherwise, give an unrestricted grammar! The grammar must not have ε-productions. Call the productions of the grammar `P1` and use `S` as the start symbol!"
   ]
  },
  {
   "cell_type": "code",
   "execution_count": null,
   "metadata": {
    "deletable": false,
    "nbgrader": {
     "cell_type": "code",
     "checksum": "281806102be95a47b5abac329a89b8ac",
     "grade": false,
     "grade_id": "cell-3dfa186e78cf76b3",
     "locked": false,
     "schema_version": 3,
     "solution": true,
     "task": false
    },
    "tags": []
   },
   "outputs": [],
   "source": [
    "# YOUR CODE HERE\n",
    "raise NotImplementedError()"
   ]
  },
  {
   "cell_type": "markdown",
   "metadata": {
    "deletable": false,
    "editable": false,
    "nbgrader": {
     "cell_type": "markdown",
     "checksum": "bbc4a8de2163054c050b4ed5a3323bf1",
     "grade": false,
     "grade_id": "cell-aec89913388b97f0",
     "locked": true,
     "schema_version": 3,
     "solution": false,
     "task": false
    },
    "tags": []
   },
   "source": [
    "Here are some test cases; your solution is tested with more test cases [2 points]:"
   ]
  },
  {
   "cell_type": "code",
   "execution_count": null,
   "metadata": {
    "deletable": false,
    "editable": false,
    "nbgrader": {
     "cell_type": "code",
     "checksum": "2df82e2c8dae81ff5467a9e286da2993",
     "grade": true,
     "grade_id": "cell-f3b8a0c245170b4f",
     "locked": true,
     "points": 2,
     "schema_version": 3,
     "solution": false,
     "task": false
    },
    "tags": []
   },
   "outputs": [],
   "source": [
    "assert derivable('S', P1, 'abb')\n",
    "assert derivable('S', P1, 'bab')\n",
    "assert derivable('S', P1, 'bba')\n",
    "assert derivable('S', P1, 'bababb')\n",
    "assert not derivable('S', P1, '')\n",
    "assert not derivable('S', P1, 'aa')\n",
    "assert not derivable('S', P1, 'ab')"
   ]
  },
  {
   "cell_type": "markdown",
   "metadata": {
    "deletable": false,
    "editable": false,
    "nbgrader": {
     "cell_type": "markdown",
     "checksum": "8104d61d2eafa75b19bc661b3d8c6042",
     "grade": false,
     "grade_id": "cell-3843b027e061586f",
     "locked": true,
     "schema_version": 3,
     "solution": false,
     "task": false
    },
    "tags": []
   },
   "source": [
    "You can check if your grammar is regular or context-free [1 point]:"
   ]
  },
  {
   "cell_type": "code",
   "execution_count": null,
   "metadata": {
    "deletable": false,
    "editable": false,
    "nbgrader": {
     "cell_type": "code",
     "checksum": "fdf1e241824c6616f826f22794b5185a",
     "grade": true,
     "grade_id": "cell-af261122eb77eea0",
     "locked": true,
     "points": 1,
     "schema_version": 3,
     "solution": false,
     "task": false
    },
    "tags": []
   },
   "outputs": [],
   "source": [
    "regular(P1), contextfree(P1)"
   ]
  },
  {
   "cell_type": "markdown",
   "metadata": {
    "deletable": false,
    "editable": false,
    "nbgrader": {
     "cell_type": "markdown",
     "checksum": "3caa777e20be56d59a6f858915de433f",
     "grade": false,
     "grade_id": "cell-6a735adc3b79babc",
     "locked": true,
     "schema_version": 3,
     "solution": false,
     "task": false
    },
    "tags": []
   },
   "source": [
    "Consider the language `L2 = {aⁿb²ⁿcⁿ | n > 0}`, that is, a number of `a`'s followed by twice the number of `b`'s followed by the same number of `c`'s as `a`'s. Give a regular grammar if one exists; otherwise, give a context-free grammar if one exists; otherwise, give an unrestricted grammar! The grammar must not have ε-productions. Call the productions of the grammar `P2` and use `S` as the start symbol!"
   ]
  },
  {
   "cell_type": "code",
   "execution_count": null,
   "metadata": {
    "deletable": false,
    "nbgrader": {
     "cell_type": "code",
     "checksum": "5ce71fa080f1a76b1821d6d55f0e87a8",
     "grade": false,
     "grade_id": "cell-84b5ab1ec9d427b7",
     "locked": false,
     "schema_version": 3,
     "solution": true,
     "task": false
    },
    "tags": []
   },
   "outputs": [],
   "source": [
    "# YOUR CODE HERE\n",
    "raise NotImplementedError()"
   ]
  },
  {
   "cell_type": "markdown",
   "metadata": {
    "deletable": false,
    "editable": false,
    "nbgrader": {
     "cell_type": "markdown",
     "checksum": "7ece4818b402911d0a5db89292fce64d",
     "grade": false,
     "grade_id": "cell-a6b14f38370e6997",
     "locked": true,
     "schema_version": 3,
     "solution": false,
     "task": false
    },
    "tags": []
   },
   "source": [
    "Here are some test cases; your solution is tested with more test cases [3 points]:"
   ]
  },
  {
   "cell_type": "code",
   "execution_count": null,
   "metadata": {
    "deletable": false,
    "editable": false,
    "nbgrader": {
     "cell_type": "code",
     "checksum": "9133a9cb493e8b1a5c91db19956ac5e6",
     "grade": true,
     "grade_id": "cell-a262062d3efc1e12",
     "locked": true,
     "points": 3,
     "schema_version": 3,
     "solution": false,
     "task": false
    },
    "tags": []
   },
   "outputs": [],
   "source": [
    "assert derivable('S', P2, 'abbc')\n",
    "assert derivable('S', P2, 'aabbbbcc')\n",
    "assert derivable('S', P2, 'aaabbbbbbccc')\n",
    "assert not derivable('S', P2, '')\n",
    "assert not derivable('S', P2, 'abc')\n",
    "assert not derivable('S', P2, 'acbb')"
   ]
  },
  {
   "cell_type": "markdown",
   "metadata": {
    "deletable": false,
    "editable": false,
    "nbgrader": {
     "cell_type": "markdown",
     "checksum": "6f5a153ca892664b05dde47cc15dee4b",
     "grade": false,
     "grade_id": "cell-4178c4f4bead9ee5",
     "locked": true,
     "schema_version": 3,
     "solution": false,
     "task": false
    },
    "tags": []
   },
   "source": [
    "You can check if your grammar is regular or context-free [1 point]:"
   ]
  },
  {
   "cell_type": "code",
   "execution_count": null,
   "metadata": {
    "deletable": false,
    "editable": false,
    "nbgrader": {
     "cell_type": "code",
     "checksum": "3a347424251ef28ca90574fc9864fc38",
     "grade": true,
     "grade_id": "cell-977f088e43202ee1",
     "locked": true,
     "points": 1,
     "schema_version": 3,
     "solution": false,
     "task": false
    },
    "tags": []
   },
   "outputs": [],
   "source": [
    "regular(P2), contextfree(P2)"
   ]
  }
 ],
 "metadata": {
  "kernelspec": {
   "display_name": "Python 3 (ipykernel)",
   "language": "python",
   "name": "python3"
  },
  "language_info": {
   "codemirror_mode": {
    "name": "ipython",
    "version": 3
   },
   "file_extension": ".py",
   "mimetype": "text/x-python",
   "name": "python",
   "nbconvert_exporter": "python",
   "pygments_lexer": "ipython3",
   "version": "3.11.1"
  }
 },
 "nbformat": 4,
 "nbformat_minor": 4
}
