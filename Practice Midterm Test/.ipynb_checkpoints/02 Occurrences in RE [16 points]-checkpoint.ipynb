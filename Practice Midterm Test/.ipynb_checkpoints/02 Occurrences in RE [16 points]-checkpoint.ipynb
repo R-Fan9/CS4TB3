{
 "cells": [
  {
   "cell_type": "markdown",
   "metadata": {
    "deletable": false,
    "editable": false,
    "nbgrader": {
     "cell_type": "markdown",
     "checksum": "ea1f31bae0aeb62cdb4d63c404c2356b",
     "grade": false,
     "grade_id": "cell-67718090ffda445e",
     "locked": true,
     "schema_version": 3,
     "solution": false,
     "task": false
    }
   },
   "source": [
    "Math symbols to copy and paste:\n",
    "```\n",
    "· × ∑\n",
    "≤ ≥ ≠ ≡ ≢\n",
    "¬ ∧ ∨ ∀ ∃ \n",
    "⇐ ⇒ →\n",
    "∩ ∪ ⊂ ⊆ ∈ ∉ ∅ ∁ ε\n",
    "₀ ₁ ₂ ₃ ₄ ₅ ₆ ₇ ₈ ₉ ᵢ ⱼ ₘ ⁰ ¹ ² ³ ⁴ ⁵ ⁶ ⁷ ⁸ ⁹ ⁱ ⁿ \n",
    "«»\n",
    "```"
   ]
  },
  {
   "cell_type": "markdown",
   "metadata": {
    "deletable": false,
    "editable": false,
    "nbgrader": {
     "cell_type": "markdown",
     "checksum": "283263b1c9432d3d4b169d0bf589bf43",
     "grade": false,
     "grade_id": "cell-4f8f41889504ce04",
     "locked": true,
     "schema_version": 3,
     "solution": false,
     "task": false
    },
    "tags": []
   },
   "source": [
    "#### Occurrences in Regular Expressions"
   ]
  },
  {
   "cell_type": "markdown",
   "metadata": {
    "deletable": false,
    "editable": false,
    "nbgrader": {
     "cell_type": "markdown",
     "checksum": "ef0ff6cf77b1ebf3792dc2f2c4ec9983",
     "grade": false,
     "grade_id": "cell-7fd0628b19e8f8e7",
     "locked": true,
     "schema_version": 3,
     "solution": false,
     "task": false
    }
   },
   "source": [
    "Consider following grammar for regular expressions with choice (`|`), concatenation, repetition (`*`), option (`?`). \n",
    "\n",
    "    expression  →  term { '|' term }\n",
    "    term  →  factor { factor }\n",
    "    factor → atom [ '*' | '?' ]\n",
    "    atom  →  plainchar | escapedchar | '(' expression ')'\n",
    "    plainchar  →  ' ' | ... | '~'\n",
    "    escapedchar  → '\\\\' ( '(' | ... | '|' )\n",
    "    \n",
    "In `aba|b`, there are 4 *occurrences* of symbols. Add attribute rules that compute the total number of occurrences of symbols! [2 points]"
   ]
  },
  {
   "cell_type": "markdown",
   "metadata": {
    "deletable": false,
    "nbgrader": {
     "cell_type": "markdown",
     "checksum": "5833de21e8b6e3624759a2209aca97c9",
     "grade": true,
     "grade_id": "cell-b58182ea6124c1b6",
     "locked": false,
     "points": 2,
     "schema_version": 3,
     "solution": true,
     "task": false
    }
   },
   "source": [
    "    expression(e)  →  term(e) { '|' term(f) « e := e + f »}\n",
    "    term(e)  →  factor(e) { factor(f) « e := e + f »}\n",
    "    factor(e) → atom(e) [ '*' | '?' ]\n",
    "    atom(e)  →  plainchar(e) | escapedchar(e) | '(' expression(e) ')'\n",
    "    plainchar(e)  →  ' ' « e := 1 » | ... | '~' « e := 1 »\n",
    "    escapedchar(e)  → '\\\\' ( '(' « e := 1 » | ... | '|' « e := 1 » )"
   ]
  },
  {
   "cell_type": "markdown",
   "metadata": {
    "deletable": false,
    "editable": false,
    "nbgrader": {
     "cell_type": "markdown",
     "checksum": "8c1dc4b57711fc4e811365593d422f66",
     "grade": false,
     "grade_id": "cell-0ca6aaeeae03b26a",
     "locked": true,
     "schema_version": 3,
     "solution": false,
     "task": false
    }
   },
   "source": [
    "Here is a parser for above grammar:"
   ]
  },
  {
   "cell_type": "code",
   "execution_count": 2,
   "metadata": {
    "deletable": false,
    "editable": false,
    "nbgrader": {
     "cell_type": "code",
     "checksum": "7b82ebdce3cbc6d57562000777a521dc",
     "grade": false,
     "grade_id": "cell-de5b7053257bd7ef",
     "locked": true,
     "schema_version": 3,
     "solution": false,
     "task": false
    },
    "tags": []
   },
   "outputs": [],
   "source": [
    "PlainChars = ' !\"#$%&\\',-./0123456789:;<=>@ABCDEFGHIJKLMNO' + \\\n",
    "             'PQRSTUVWXYZ[]^_`abcdefghijklmnopqrstuvwxyz{}~'\n",
    "EscapedChars = '()*+?\\\\|'\n",
    "FirstFactor = PlainChars + '\\\\('\n",
    "\n",
    "def nxt():\n",
    "    global pos, sym\n",
    "    if pos < len(src): sym, pos = src[pos], pos+1\n",
    "    else: sym = chr(0) # end of input symbol\n",
    "\n",
    "def expression():\n",
    "    term()\n",
    "    while sym == '|': nxt(); term()\n",
    "\n",
    "def term():\n",
    "    factor()\n",
    "    while sym in FirstFactor: factor()\n",
    "\n",
    "def factor():\n",
    "    atom()\n",
    "    if sym in '*?': nxt()\n",
    "\n",
    "def atom():\n",
    "    if sym in PlainChars: nxt()\n",
    "    elif sym == '\\\\':\n",
    "        nxt()\n",
    "        if sym in EscapedChars: nxt()\n",
    "        else: raise Exception(\"invalid escaped character at \" + str(pos))\n",
    "    elif sym == '(':\n",
    "        nxt(); expression()\n",
    "        if sym == ')': nxt()\n",
    "        else: raise Exception(\"')' expected at \" + str(pos))\n",
    "    else: raise Exception(\"invalid character at \" + str(pos))\n",
    "\n",
    "def occurrences(s: str):\n",
    "    global src, pos;\n",
    "    src, pos = s, 0; nxt(); expression()\n",
    "    if sym != chr(0): raise Exception(\"unexpected character at \" + str(pos))"
   ]
  },
  {
   "cell_type": "markdown",
   "metadata": {
    "deletable": false,
    "editable": false,
    "nbgrader": {
     "cell_type": "markdown",
     "checksum": "722856c0e44d56c5ec9787f5ce71eeee",
     "grade": false,
     "grade_id": "cell-bd6d601be63f2793",
     "locked": true,
     "schema_version": 3,
     "solution": false,
     "task": false
    }
   },
   "source": [
    "Modify the parser according to your attribute grammar such that `occurrences` returns the number of occurrences! [2 points]"
   ]
  },
  {
   "cell_type": "code",
   "execution_count": 8,
   "metadata": {
    "deletable": false,
    "nbgrader": {
     "cell_type": "code",
     "checksum": "35b98582e1408e9afabe9489fc7ebadd",
     "grade": true,
     "grade_id": "cell-1d02609ff97e1bf9",
     "locked": false,
     "points": 2,
     "schema_version": 3,
     "solution": true,
     "task": false
    }
   },
   "outputs": [],
   "source": [
    "def expression():\n",
    "    n = term()\n",
    "    while sym == '|': nxt(); n += term()\n",
    "    return n\n",
    "\n",
    "def term():\n",
    "    n = factor()\n",
    "    while sym in FirstFactor: n += factor()\n",
    "    return n\n",
    "\n",
    "def factor():\n",
    "    n = atom()\n",
    "    if sym in '*?': nxt()\n",
    "    return n\n",
    "\n",
    "def atom():\n",
    "    n = 0\n",
    "    if sym in PlainChars: nxt(); n += 1\n",
    "    elif sym == '\\\\':\n",
    "        nxt()\n",
    "        if sym in EscapedChars: nxt(); n += 1\n",
    "        else: raise Exception(\"invalid escaped character at \" + str(pos))\n",
    "    elif sym == '(':\n",
    "        nxt(); n += expression()\n",
    "        if sym == ')': nxt()\n",
    "        else: raise Exception(\"')' expected at \" + str(pos))\n",
    "    else: raise Exception(\"invalid character at \" + str(pos))\n",
    "    return n\n",
    "\n",
    "def occurrences(s: str):\n",
    "    global src, pos;\n",
    "    src, pos = s, 0; nxt(); n = expression()\n",
    "    if sym != chr(0): raise Exception(\"unexpected character at \" + str(pos))\n",
    "    return n"
   ]
  },
  {
   "cell_type": "markdown",
   "metadata": {
    "deletable": false,
    "editable": false,
    "nbgrader": {
     "cell_type": "markdown",
     "checksum": "89d72492cb98f1da80318420fdf6aa57",
     "grade": false,
     "grade_id": "cell-f24d09bd58fcfe33",
     "locked": true,
     "schema_version": 3,
     "solution": false,
     "task": false
    }
   },
   "source": [
    "Here are some test cases [2 points]:"
   ]
  },
  {
   "cell_type": "code",
   "execution_count": 9,
   "metadata": {
    "deletable": false,
    "editable": false,
    "nbgrader": {
     "cell_type": "code",
     "checksum": "98246d0feee9a8100268240f39a88ea2",
     "grade": true,
     "grade_id": "cell-5466dd60dc9c2ee8",
     "locked": true,
     "points": 2,
     "schema_version": 3,
     "solution": false,
     "task": false
    }
   },
   "outputs": [],
   "source": [
    "assert occurrences('aba') == 3\n",
    "assert occurrences('ab|ac') == 4\n",
    "assert occurrences('(ab)?aa*') == 4\n",
    "assert occurrences('\\(a*\\)') == 3"
   ]
  },
  {
   "cell_type": "markdown",
   "metadata": {
    "deletable": false,
    "editable": false,
    "nbgrader": {
     "cell_type": "markdown",
     "checksum": "1eabbc2b996b4045cfce470816d26dba",
     "grade": false,
     "grade_id": "cell-5e517ea7277fa7dd",
     "locked": true,
     "schema_version": 3,
     "solution": false,
     "task": false
    }
   },
   "source": [
    "Consider regular expressions with choice (`|`), concatenation, repetition (`*`), option (`?`). Given a regular expressions with `n` occurrences of symbols, how many states does an equivalent finite state automaton have at most when constructed as in the course notes? Give a brief explanation! [3 points]"
   ]
  },
  {
   "cell_type": "markdown",
   "metadata": {
    "deletable": false,
    "nbgrader": {
     "cell_type": "markdown",
     "checksum": "48e5e3d304189dd79ec15b9664b4f0ba",
     "grade": true,
     "grade_id": "cell-8d31a6aac4e49cd2",
     "locked": false,
     "points": 3,
     "schema_version": 3,
     "solution": true,
     "task": false
    }
   },
   "source": [
    "Given a regular expressions with `n` occurrences of symbols, an equivalent finite state automaton will have at most `n + 1` states\n",
    "\n",
    "    - a terminal symbol has two states\n",
    "    - case E|F:\n",
    "        - it has at most (n + 1) + (m + 1) - 1 = n + m + 1 states, the -1 is because the initial states of E and F are merged\n",
    "    - case EF:\n",
    "        - it has at most (n + 1) + (m + 1) - 1 = n + m + 1 states, the -1 is because the initial state of F is replaced by the final states of E\n",
    "    - case E?:\n",
    "        - E? = E|ε, ε makes the initial state of E to be final, no additional state is added. Therefore, the number of states of E? is the same as E, which is n + 1\n",
    "    - case E*:\n",
    "        - E* makes the initial state of E to be final, it also adds transition that loop from the final state to initial state. However, no additional state added. Therefore, the number of state E* is the same as E, which is n + 1"
   ]
  },
  {
   "cell_type": "markdown",
   "metadata": {
    "deletable": false,
    "editable": false,
    "nbgrader": {
     "cell_type": "markdown",
     "checksum": "f67067a777a9826bcecea169daf60a3d",
     "grade": false,
     "grade_id": "cell-e389d984e90e74f8",
     "locked": true,
     "schema_version": 3,
     "solution": false,
     "task": false
    }
   },
   "source": [
    "Given a finite state automaton with `n` states, how many states does an equivalent deterministic finite state automaton have at most, when constructed as in the course notes? Give a brief explanation! [2 points]"
   ]
  },
  {
   "cell_type": "markdown",
   "metadata": {
    "deletable": false,
    "nbgrader": {
     "cell_type": "markdown",
     "checksum": "43c94b405a74bca983075604f78d785c",
     "grade": true,
     "grade_id": "cell-7e95f818ca411c1c",
     "locked": false,
     "points": 2,
     "schema_version": 3,
     "solution": true,
     "task": false
    }
   },
   "source": [
    "An equivalent deterministic finite state automaton will have at most`2ⁿ` states, the new states are constructed from a set of old states. For a set of `n` old states, there can be `2ⁿ` states constructed"
   ]
  },
  {
   "cell_type": "markdown",
   "metadata": {
    "deletable": false,
    "editable": false,
    "nbgrader": {
     "cell_type": "markdown",
     "checksum": "562e78773f81bea571d3c5390873b19e",
     "grade": false,
     "grade_id": "cell-3f5b88d1b0e954af",
     "locked": true,
     "schema_version": 3,
     "solution": false,
     "task": false
    },
    "tags": []
   },
   "source": [
    "Given a finite state automaton with `n` states, how many states does an equivalent total finite state automaton have at most, when constructed as in the course notes? Give a brief explanation! [2 points]"
   ]
  },
  {
   "cell_type": "markdown",
   "metadata": {
    "deletable": false,
    "nbgrader": {
     "cell_type": "markdown",
     "checksum": "f7eb484d3183ca3959c3eefd52b81695",
     "grade": true,
     "grade_id": "cell-6472b685485f0078",
     "locked": false,
     "points": 2,
     "schema_version": 3,
     "solution": true,
     "task": false
    }
   },
   "source": [
    "An equivalent total finite state will have at most `n + 1` states as it only adds a trap state."
   ]
  },
  {
   "cell_type": "markdown",
   "metadata": {
    "deletable": false,
    "editable": false,
    "nbgrader": {
     "cell_type": "markdown",
     "checksum": "5606f623f8f0be4ad3cf44ec67bc942b",
     "grade": false,
     "grade_id": "cell-8dd2a7c512fc1e0d",
     "locked": true,
     "schema_version": 3,
     "solution": false,
     "task": false
    }
   },
   "source": [
    "Given a deterministic and total finite state automaton with `n` states, how many states does an equivalent minimal finite state automaton have at most, when constructed as in the course notes? Give a brief explanation! [2 points]"
   ]
  },
  {
   "cell_type": "markdown",
   "metadata": {
    "deletable": false,
    "nbgrader": {
     "cell_type": "markdown",
     "checksum": "a5aed4dcbfb50498fb4c8ffd7b47f9df",
     "grade": true,
     "grade_id": "cell-6614f7fbb4c41121",
     "locked": false,
     "points": 2,
     "schema_version": 3,
     "solution": true,
     "task": false
    }
   },
   "source": [
    "An equivalent minimal finite state automaton have at most `n` states as the number of equivalent classes can be the same as the number of states in the worst case."
   ]
  },
  {
   "cell_type": "markdown",
   "metadata": {
    "deletable": false,
    "editable": false,
    "nbgrader": {
     "cell_type": "markdown",
     "checksum": "3c40a5cf5ce83baae93e60f455272899",
     "grade": false,
     "grade_id": "cell-ffad0b41796fffe2",
     "locked": true,
     "schema_version": 3,
     "solution": false,
     "task": false
    }
   },
   "source": [
    "Summarizing the previous answers, given a regular expression with `n` occurrences of symbols, how many states does a deterministic, total, and minimal finite state automaton have at most? [1 point]"
   ]
  },
  {
   "cell_type": "markdown",
   "metadata": {
    "deletable": false,
    "nbgrader": {
     "cell_type": "markdown",
     "checksum": "3f3966ea9ce9bd443fdea6de6eee4adc",
     "grade": true,
     "grade_id": "cell-931fd955dd541344",
     "locked": false,
     "points": 1,
     "schema_version": 3,
     "solution": true,
     "task": false
    }
   },
   "source": [
    " - `n` occurences of symbols indicates there can `n + 1` states. \n",
    " - making the FSA deterministic, it will result in `2^(n + 1)` states.\n",
    " - making the FSA total, it will result in `2^(n + 1) + 1` states.\n",
    " - making the FSA minimal, the number of states stay the same."
   ]
  },
  {
   "cell_type": "code",
   "execution_count": null,
   "metadata": {},
   "outputs": [],
   "source": []
  }
 ],
 "metadata": {
  "kernelspec": {
   "display_name": "Python 3 (ipykernel)",
   "language": "python",
   "name": "python3"
  },
  "language_info": {
   "codemirror_mode": {
    "name": "ipython",
    "version": 3
   },
   "file_extension": ".py",
   "mimetype": "text/x-python",
   "name": "python",
   "nbconvert_exporter": "python",
   "pygments_lexer": "ipython3",
   "version": "3.11.1"
  }
 },
 "nbformat": 4,
 "nbformat_minor": 4
}
