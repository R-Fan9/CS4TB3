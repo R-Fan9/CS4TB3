{
 "cells": [
  {
   "cell_type": "markdown",
   "metadata": {
    "tags": []
   },
   "source": [
    "### COMPSCI 3TB3/4TB3/6TB3 Syntax-Directed Tools and Compilers, 2023/24, McMaster University, Lab 6 & Assignment 6"
   ]
  },
  {
   "cell_type": "markdown",
   "metadata": {
    "tags": []
   },
   "source": [
    "**Emil Sekerinski (instructor), Sana Ishtiaq, Angel Li (TAs)**\n",
    "\n",
    "Lab 6 is covered, and Assignment 6 is introduced at the following sessions:\n",
    "- L01 on Wednesday, February 14\n",
    "- L05 on Thursday, February 15\n",
    "- L02 on Friday, February 16\n",
    "- L04 on Friday, February 16\n",
    "- L03 on Monday, February 12\n",
    "\n",
    "**Lab 6 is due at the end of your lab session [4 bonus points].** \n",
    "- You can collaborate during the lab session on the lab questions.\n",
    "- You receive 4 bonus points for attempting all questions. You must submit the lab folder during the lab session and sign the attendance sheet at the beginning of the lab session to receive the bonus points.\n",
    "  \n",
    "**Assignment 6 is due Wednesday, February 28, 11 pm [24 points].**\n",
    "- You must work on this assignment on your own. You are encouraged to get a common understanding with fellow students, but the submission must be yours.\n",
    "- The following week's labs present answers to the assignment questions.\n",
    "- The bonus points of the lab count towards the points of the assignment, up to a maximum of 24 points.\n",
    "    \n",
    "The purpose of this lab is for you to\n",
    "- understand how dynamic binding works and why interpreted languages typically use dynamic binding and compiled languages use static binding,\n",
    "- familiarize with constructing an abstract syntax tree for a simple functional language,\n",
    "- see how an interpreter for a functional language with dynamic binding is implemented,\n",
    "- understand how errors are reported in parsers and interpreters.\n",
    "\n",
    "*Instructions:*\n",
    "- Do not copy and paste graded cells, as that corrupts the notebook's metadata. You may add cells and copy the text of an existing cell to those, for example, if you would like to add test code or modify the given code. However, when the notebook is graded, all code is automatically executed from top to bottom, so you should remove or comment out extra code.\n",
    "- Write answers to questions only in the graded text or code cells.\n",
    "- Edit code only where it says YOUR CODE HERE; do not change the names of functions, methods, and classes; do not change the number or types of parameters; remove `raise NotImplementedError()`. Otherwise, the automatic grading fails, which may result in a deduction.\n",
    "- Before submitting, \"Restart Kernel\" and run the notebook code from the top to clear the state of the kernel and to check that the output is as expected. When notebooks are graded, they are run with a freshly initialized kernel.\n",
    "- Log files may be created when your program crashes. These log files may become so large that they prevent submission. Delete all log files and submit a cleaned-up folder.\n",
    "- You are asked to write well-structured and readable source code. The source code is always used for grading in addition to the test results. Your program passing the provided does not guarantee that your program is correct and that you will receive full (or any) marks."
   ]
  },
  {
   "cell_type": "markdown",
   "metadata": {},
   "source": [
    "The cell below is for grading purposes only; please ignore it."
   ]
  },
  {
   "cell_type": "markdown",
   "metadata": {
    "deletable": false,
    "nbgrader": {
     "cell_type": "markdown",
     "checksum": "74797a6038c106305d04d14ced9e265a",
     "grade": true,
     "grade_id": "cell-d24dcceaed859b31",
     "locked": false,
     "points": 0,
     "schema_version": 3,
     "solution": true,
     "task": false
    }
   },
   "source": [
    "YOUR ANSWER HERE"
   ]
  }
 ],
 "metadata": {
  "kernelspec": {
   "display_name": "Python 3 (ipykernel)",
   "language": "python",
   "name": "python3"
  },
  "language_info": {
   "codemirror_mode": {
    "name": "ipython",
    "version": 3
   },
   "file_extension": ".py",
   "mimetype": "text/x-python",
   "name": "python",
   "nbconvert_exporter": "python",
   "pygments_lexer": "ipython3",
   "version": "3.11.1"
  }
 },
 "nbformat": 4,
 "nbformat_minor": 4
}
