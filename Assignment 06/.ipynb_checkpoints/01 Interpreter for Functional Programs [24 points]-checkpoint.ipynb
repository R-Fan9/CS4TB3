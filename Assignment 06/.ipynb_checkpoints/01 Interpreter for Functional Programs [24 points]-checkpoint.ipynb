{
 "cells": [
  {
   "cell_type": "markdown",
   "metadata": {
    "tags": []
   },
   "source": [
    "#### An Interpreter for Functional Programs"
   ]
  },
  {
   "cell_type": "markdown",
   "metadata": {
    "tags": []
   },
   "source": [
    "This assignment is about an interpreter for a functional programming language with recursive function definitions, if-expressions, and arithmetic expressions, as in:\n",
    "```\n",
    "let gcd(x, y) =\n",
    "    if y ≠ 0 then gcd(y, x mod y) else x\n",
    "in\n",
    "    gcd(25, 15)\n",
    "```\n",
    "The language has _dynamic binding_, meaning that identifiers are resolved at the time of execution, not compilation. Dynamic binding is used in Python and other interpreted languages. Some examples below illustrate the effect of dynamic binding."
   ]
  },
  {
   "cell_type": "markdown",
   "metadata": {
    "tags": []
   },
   "source": [
    "#### Scanner"
   ]
  },
  {
   "cell_type": "markdown",
   "metadata": {
    "tags": []
   },
   "source": [
    "    symbol ::=\n",
    "        {' '} (identifier | number | 'true' | 'false' | 'let' | 'in' |\n",
    "        'if' | 'then' | 'else' | 'div' | 'mod' | 'not' | 'and' | 'or' |\n",
    "        '×' | '+' | '-' | '=' | '≠' | '<' | '>' | '≤' | '≥' | '(' | ')' | ',')\n",
    "    identifier ::= letter {letter | digit}\n",
    "    number ::= digit {digit}\n",
    "    letter ::= 'a' | ... | 'z'\n",
    "    digit ::= '0' | ... | '9'\n",
    "\n",
    "Procedure `getChar()` reads the next character of global variable `src` into global variable `ch`. When it reaches the end of `scr`, variable `ch` is set to `chr(0)`. The current position is maintained in the global variable `pos`. Procedure `error(msg)` reports an error as position `pos`."
   ]
  },
  {
   "cell_type": "code",
   "execution_count": 67,
   "metadata": {},
   "outputs": [],
   "source": [
    "def getChar():\n",
    "    global pos, ch\n",
    "    if pos < len(src): ch, pos = src[pos], pos + 1\n",
    "    else: ch, pos = chr(0), pos + 1\n",
    "\n",
    "def error(msg):\n",
    "    raise Exception(src + '\\n' + (pos - 1) * ' ' + '^ ' + msg)"
   ]
  },
  {
   "cell_type": "code",
   "execution_count": 68,
   "metadata": {},
   "outputs": [],
   "source": [
    "IDENT = 0; NUMBER = 1; TRUE = 2; FALSE = 3; LET = 4; IN = 5; IF = 6\n",
    "THEN = 7; ELSE = 8; DIV = 9; MOD = 10; NOT = 11; AND = 12; OR = 13\n",
    "TIMES = 14; PLUS = 15; MINUS = 16; EQ = 17; NEQ = 18; LT= 19; GT = 20\n",
    "LE = 21; GE = 22; LPAREN = 23; RPAREN = 24; COMMA = 25; EOF = 26\n",
    "\n",
    "KEYWORDS = \\\n",
    "    {'true': TRUE, 'false': FALSE, 'let': LET, 'in': IN, 'if': IF,\n",
    "    'then': THEN, 'else': ELSE, 'div': DIV, 'mod': MOD, 'not': NOT,\n",
    "    'and': AND, 'or': OR}\n",
    "\n",
    "def getSym():\n",
    "    global sym, val\n",
    "    while ch in ' ': getChar()\n",
    "    if 'A' <= ch <= 'Z' or 'a' <= ch <= 'z':\n",
    "        start = pos - 1\n",
    "        while ('A' <= ch <= 'Z') or ('a' <= ch <= 'z') or \\\n",
    "              ('0' <= ch <= '9'): getChar()\n",
    "        val = src[start: pos - 1]\n",
    "        sym = KEYWORDS[val] if val in KEYWORDS else IDENT\n",
    "    elif '0' <= ch <= '9':\n",
    "        val = int(ch); getChar()\n",
    "        while '0' <= ch <= '9':\n",
    "            val = 10 * val + int(ch); getChar()\n",
    "        sym = NUMBER\n",
    "    elif ch == '×': getChar(); sym = TIMES\n",
    "    elif ch == '+': getChar(); sym = PLUS\n",
    "    elif ch == '-': getChar(); sym = MINUS\n",
    "    elif ch == '=': getChar(); sym = EQ\n",
    "    elif ch == '≠': getChar(); sym = NEQ\n",
    "    elif ch == '<': getChar(); sym = LT\n",
    "    elif ch == '>': getChar(); sym = GT\n",
    "    elif ch == '≤': getChar(); sym = LE\n",
    "    elif ch == '≥': getChar(); sym = GE\n",
    "    elif ch == '(': getChar(); sym = LPAREN\n",
    "    elif ch == ')': getChar(); sym = RPAREN\n",
    "    elif ch == ',': getChar(); sym = COMMA\n",
    "    elif ch == chr(0): sym = EOF\n",
    "    else: error('unexpected character')"
   ]
  },
  {
   "cell_type": "markdown",
   "metadata": {},
   "source": [
    "#### Parser"
   ]
  },
  {
   "cell_type": "markdown",
   "metadata": {
    "tags": []
   },
   "source": [
    "    expression ::= relation \n",
    "        | \"let\" identifier idList \"=\" expression \"in\" expression \n",
    "        | \"if\" expression \"then\" expression \"else\" expression\n",
    "    relation ::= arithmetic [(\"=\" | \"≠\" | \"<\" | \">\" | \"≤\" | \"≥\") arithmetic]\n",
    "    arithmetic ::= [\"+\" | \"-\"] term {(\"+\" | \"-\" | \"or\") term)}\n",
    "    term ::= factor {(\"×\" | \"div\" | \"mod\" | \"and\") factor}\n",
    "    factor ::= integer \n",
    "        | \"true\" \n",
    "        | \"false\" \n",
    "        | \"(\" expression \")\" \n",
    "        | \"not\" expression \n",
    "        | identifier exprList\n",
    "    exprList ::= [\"(\" expression {\",\" expression} \")\"]\n",
    "    idList ::= [\"(\" identifier {\",\" identifier} \")\"]\n",
    "\n",
    "The abstract syntax tree consists of _nodes_ of the following types:\n",
    "\n",
    "- **`int`** for integer constants,\n",
    "- **`bool`** for boolean constants,\n",
    "- **`Call(name, args)`** with `name` of type `str`, the function name, and list `args` of nodes for the arguments,\n",
    "- **`UnaryExpr(op, arg)`** where `op` is `MINUS` or `NOT` and `arg` is a node for arguments,\n",
    "- **`BinaryExpr(op, left, right)`** where `op` is one of `DIV`, `MOD`, `TIMES`, `PLUS`, `MINUS`, `EQ`, `NEQ`, `LT`, `GT`, `LE`, `GE`, `AND`, or `OR` and `left` and `right` are nodes for the left and right argument,\n",
    "- **`If(cond, th, el)`** where `cond`, `th`, `el` are nodes for the condition, then-branch, else-branch,\n",
    "- **`Let(name, par, body, scope)`** where `name` is of type `str` is being defined, parameters `par` is a possibly empty list of `str`, the parameter names, and `body`, `scope` are nodes.\n",
    "\n",
    "In the abstract syntax tree, a constant is treated as a null-ary (parameterless) function, e.g. `let c = 1 in c + 2`, declares a null-ary function `c` and \"calls\" it."
   ]
  },
  {
   "cell_type": "code",
   "execution_count": 69,
   "metadata": {},
   "outputs": [],
   "source": [
    "class Call:\n",
    "    def __init__(self, name, args):\n",
    "        self.name, self.args = name, args\n",
    "    def __repr__(self):\n",
    "        return 'Call(' + self.name + ', [' + \\\n",
    "               ', '.join([str(x) for x in self.args]) + '])'\n",
    "\n",
    "class Unary:\n",
    "    def __init__(self, op, operand):\n",
    "        self.op, self.operand = op, operand\n",
    "    def __repr__(self):\n",
    "        return 'Unary(' + str(self.op) + ', ' + str(self.operand) + ')'\n",
    "\n",
    "class Binary:\n",
    "    def __init__(self, op, left, right):\n",
    "        self.op, self.left, self.right = op, left, right\n",
    "    def __repr__(self):\n",
    "        return 'Binary(' + str(self.op) + ', ' + str(self.left) + \\\n",
    "               ', ' + str(self.right) + ')'\n",
    "\n",
    "class If:\n",
    "    def __init__(self, cond, th, el):\n",
    "        self.cond, self.th, self.el = cond, th, el\n",
    "    def __repr__(self):\n",
    "        return 'If(' + str(self.cond) + ', ' + str(self.th) + \\\n",
    "               ', ' + str(self.el) + ')'\n",
    "\n",
    "class Let:\n",
    "    def __init__(self, name, par, body, scope):\n",
    "        self.name, self.par, self.body, self.scope = \\\n",
    "            name, par, body, scope\n",
    "    def __repr__(self):\n",
    "        return 'Let(' + self.name + ', ' + str(self.par) + \\\n",
    "               ', ' + str(self.body) + ', ' + str(self.scope) + ')'"
   ]
  },
  {
   "cell_type": "markdown",
   "metadata": {
    "tags": []
   },
   "source": [
    "Procedure `expression()` parses\n",
    "\n",
    "    expression(e) ::=\n",
    "        relation(e) |\n",
    "        \"let\" identifier(name) idList(par) \"=\" expression(body)\n",
    "            \"in\" expression(scope) «e := Let(name, par, body, scope)» |\n",
    "        \"if\" expression(cond) \"then\" expression(th) \"else\" expression(el)\n",
    "            «e := If(cond, th, el)»\n",
    "\n",
    "and returns an abstract syntax tree node or raises an exception with an error message."
   ]
  },
  {
   "cell_type": "code",
   "execution_count": 70,
   "metadata": {},
   "outputs": [],
   "source": [
    "def expression():\n",
    "    if sym in (PLUS, MINUS, NUMBER, TRUE, FALSE, LPAREN, NOT, IDENT):\n",
    "        return relation()\n",
    "    elif sym == LET:\n",
    "        getSym()\n",
    "        if sym == IDENT: getSym()\n",
    "        else: error(\"identifier expected\")\n",
    "        name = val; par = idList();\n",
    "        if sym == EQ: getSym()\n",
    "        else: error(\"'=' expected\")\n",
    "        body = expression()\n",
    "        if sym == IN: getSym()\n",
    "        else: error(\"'in' expected\")\n",
    "        scope = expression()\n",
    "        return Let(name, par, body, scope)\n",
    "#### implementation of \"if\" missing\n",
    "    else: error(\"expression expected\")"
   ]
  },
  {
   "cell_type": "markdown",
   "metadata": {
    "tags": []
   },
   "source": [
    "Procedure `relation()` parses\n",
    "\n",
    "    relation(r) ::=\n",
    "        arithmetic(r)\n",
    "        [\"=\" arithmetic(a) «r := Binary(EQ, r, a)» |\n",
    "          \"≠\" arithmetic(a) «r := Binary(NEQ, r, a)» |\n",
    "          \"<\" arithmetic(a) «r := Binary(LT, r, a)» |\n",
    "          \">\" arithmetic(a) «r := Binary(GT, r, a)» |\n",
    "          \"≤\" arithmetic(a) «r := Binary(LE, r, a)» |\n",
    "          \"≥\" arithmetic(a) «r := Binary(GE, r, a)» ]\n",
    "\n",
    "and returns an abstract syntax tree node or raises an exception with an error message."
   ]
  },
  {
   "cell_type": "code",
   "execution_count": 71,
   "metadata": {},
   "outputs": [],
   "source": [
    "def relation():\n",
    "    r = arithmetic()\n",
    "    if sym in (EQ, NEQ, LT, GT, LE, GE):\n",
    "        op = sym; getSym(); r = Binary(op, r, arithmetic())\n",
    "    return r"
   ]
  },
  {
   "cell_type": "markdown",
   "metadata": {
    "tags": []
   },
   "source": [
    "Procedure `arithmetic()` parses\n",
    "\n",
    "    arithmetic(a) ::=\n",
    "        (\"+\" term(a) | \"-\" term(a) «a := Unary(MINUS, a)» | term(a))\n",
    "        { \"+\" term(t) «a := Binary(PLUS, a, t)» |\n",
    "          \"-\" term(t) «a := Binary(MINUS, a, t)» |\n",
    "          \"or\" term(t) «a := Binary(OR, a, t)» }\n",
    "\n",
    "and returns an abstract syntax tree node or raises an exception with an error message."
   ]
  },
  {
   "cell_type": "code",
   "execution_count": 72,
   "metadata": {},
   "outputs": [],
   "source": [
    "def arithmetic():\n",
    "    if sym == PLUS:\n",
    "        getSym(); a = term();\n",
    "    elif sym == MINUS:\n",
    "        getSym(); a = Unary(MINUS, term())\n",
    "    else: a = term()\n",
    "    while sym in (PLUS, MINUS, OR):\n",
    "        op = sym; getSym(); a = Binary(op, a, term())\n",
    "    return a"
   ]
  },
  {
   "cell_type": "markdown",
   "metadata": {
    "tags": []
   },
   "source": [
    "Procedure `term()` parses\n",
    "\n",
    "    term(t) ::=\n",
    "        factor(t)\n",
    "        { \"×\" factor(f) «t := Binary(TIMES, t, f)» |\n",
    "          \"div\" factor(f) «t := Binary(DIV, t, f)» |\n",
    "          \"mod\" factor(f) «t := Binary(MOD, t, f)» |\n",
    "          \"and\" factor(f) «t := Binary(MOD, t, f)» }\n",
    "\n",
    "and returns an abstract syntax tree node or raises an exception with an error message."
   ]
  },
  {
   "cell_type": "code",
   "execution_count": 73,
   "metadata": {},
   "outputs": [],
   "source": [
    "def term():\n",
    "    t = factor()\n",
    "    while sym in (TIMES, DIV, MOD, AND):\n",
    "        op = sym; getSym(); t = Binary(op, t, factor())\n",
    "    return t"
   ]
  },
  {
   "cell_type": "markdown",
   "metadata": {
    "tags": []
   },
   "source": [
    "Procedure `factor()` parses\n",
    "\n",
    "    factor(f) ::=\n",
    "        integer(val) «f := val» |\n",
    "        \"true\" «f := true» |\n",
    "        \"false\" «f := false» |\n",
    "        \"(\" expression(f) \")\" |\n",
    "        \"not\" expression(f) «f := not f» |\n",
    "        identifier(name) exprList(para) «f := Call(name, para)»\n",
    "\n",
    "and returns an abstract syntax tree node or raises an exception with an error message."
   ]
  },
  {
   "cell_type": "code",
   "execution_count": 74,
   "metadata": {},
   "outputs": [],
   "source": [
    "def factor():\n",
    "    if sym == NUMBER: f = val; getSym()\n",
    "    elif sym == TRUE: f = True; getSym()\n",
    "    elif sym == FALSE: f = False; getSym()\n",
    "    elif sym == LPAREN:\n",
    "        getSym(); f = expression()\n",
    "        if sym == RPAREN: getSym()\n",
    "        else: error(') missing')\n",
    "    elif sym == NOT:\n",
    "        getSym(); f = Unary(NOT, expression())\n",
    "    elif sym == IDENT:\n",
    "        name = val; getSym()\n",
    "        para = exprList()\n",
    "        f = Call(name, para)\n",
    "    else: error('unexpected symbol')\n",
    "    return f"
   ]
  },
  {
   "cell_type": "markdown",
   "metadata": {
    "tags": []
   },
   "source": [
    "Procedure `exprList()` parses\n",
    "\n",
    "    exprList(el) ::=\n",
    "        (\"(\" expression(e) «el := [e]» {\",\" expression(e) «el := el + [e]»} \")\") |\n",
    "        «el := []»\n",
    "\n",
    "and returns an abstract syntax tree node or raises an exception with an error message."
   ]
  },
  {
   "cell_type": "code",
   "execution_count": 75,
   "metadata": {},
   "outputs": [],
   "source": [
    "def exprList():\n",
    "    if sym == LPAREN:\n",
    "        getSym(); el = [expression()]\n",
    "        while sym == COMMA:\n",
    "            getSym(); el.append(expression())\n",
    "        if sym == RPAREN: getSym()\n",
    "        else: error(') expected')\n",
    "    else: el = []\n",
    "    return el"
   ]
  },
  {
   "cell_type": "markdown",
   "metadata": {
    "tags": []
   },
   "source": [
    "Procedure `idList()` parses\n",
    "\n",
    "    idList(il) ::=\n",
    "        (\"(\" identifer(i) «il := [i]» {\",\" identifier(i) «il := il + [i]»} \")\") |\n",
    "        «il := []»\n",
    "\n",
    "and returns an abstract syntax tree node or raises an exception with an error message."
   ]
  },
  {
   "cell_type": "code",
   "execution_count": 76,
   "metadata": {},
   "outputs": [],
   "source": [
    "def idList():\n",
    "    if sym == LPAREN:\n",
    "        getSym()\n",
    "        if sym == IDENT: il = [val]; getSym()\n",
    "        else: error('identifier expected')\n",
    "        while sym == COMMA:\n",
    "            getSym();\n",
    "            if sym == IDENT: il.append(val); getSym()\n",
    "            else: error('identifier expected')\n",
    "        if sym == RPAREN: getSym()\n",
    "        else: error(') expected')\n",
    "    else: il = []\n",
    "    return il"
   ]
  },
  {
   "cell_type": "markdown",
   "metadata": {},
   "source": [
    "Procedure `ast(s)` takes string `s` as input and returns the abstract syntax tree of `s` or raises an exception with an error message."
   ]
  },
  {
   "cell_type": "code",
   "execution_count": 77,
   "metadata": {
    "tags": []
   },
   "outputs": [],
   "source": [
    "def ast(s):\n",
    "    global src, pos, linepos;\n",
    "    src, pos, linepos = s, 0, 0; getChar(); getSym();\n",
    "    return expression()"
   ]
  },
  {
   "cell_type": "markdown",
   "metadata": {
    "tags": []
   },
   "source": [
    "####  Abstract Syntax Tree Tests\n",
    "\n",
    "Following tests should succeed."
   ]
  },
  {
   "cell_type": "code",
   "execution_count": 78,
   "metadata": {
    "tags": []
   },
   "outputs": [],
   "source": [
    "assert str(ast('(a)')) == 'Call(a, [])'"
   ]
  },
  {
   "cell_type": "code",
   "execution_count": 79,
   "metadata": {
    "tags": []
   },
   "outputs": [],
   "source": [
    "assert str(ast('-a')) == 'Unary(16, Call(a, []))'"
   ]
  },
  {
   "cell_type": "code",
   "execution_count": 80,
   "metadata": {
    "tags": []
   },
   "outputs": [],
   "source": [
    "assert str(ast('a+2')) == 'Binary(15, Call(a, []), 2)'"
   ]
  },
  {
   "cell_type": "code",
   "execution_count": 81,
   "metadata": {
    "tags": []
   },
   "outputs": [],
   "source": [
    "assert str(ast('a+2 ×  c')) == 'Binary(15, Call(a, []), Binary(14, 2, Call(c, [])))'"
   ]
  },
  {
   "cell_type": "code",
   "execution_count": 82,
   "metadata": {
    "tags": []
   },
   "outputs": [],
   "source": [
    "assert str(ast('(a + b) × (c mod d)')) == \\\n",
    "    'Binary(14, Binary(15, Call(a, []), Call(b, [])), Binary(10, Call(c, []), Call(d, [])))'"
   ]
  },
  {
   "cell_type": "code",
   "execution_count": 83,
   "metadata": {
    "tags": []
   },
   "outputs": [],
   "source": [
    "assert str(ast('-a-b')) == 'Binary(16, Unary(16, Call(a, [])), Call(b, []))'"
   ]
  },
  {
   "cell_type": "code",
   "execution_count": 84,
   "metadata": {
    "tags": []
   },
   "outputs": [],
   "source": [
    "assert str(ast('f(3, 4)')) == 'Call(f, [3, 4])'"
   ]
  },
  {
   "cell_type": "code",
   "execution_count": 85,
   "metadata": {
    "tags": []
   },
   "outputs": [],
   "source": [
    "assert str(ast('let f(a) = a + 1 in f(2)')) == \\\n",
    "    \"Let(f, ['a'], Binary(15, Call(a, []), 1), Call(f, [2]))\""
   ]
  },
  {
   "cell_type": "markdown",
   "metadata": {
    "tags": []
   },
   "source": [
    "Following tests should produce an error message."
   ]
  },
  {
   "cell_type": "code",
   "execution_count": 86,
   "metadata": {
    "tags": []
   },
   "outputs": [],
   "source": [
    "def asterr(s):\n",
    "    try: ast(s); return ''\n",
    "    except Exception as e:\n",
    "        print(e); return str(e)"
   ]
  },
  {
   "cell_type": "code",
   "execution_count": 87,
   "metadata": {},
   "outputs": [
    {
     "name": "stdout",
     "output_type": "stream",
     "text": [
      "a $\n",
      "  ^ unexpected character\n"
     ]
    }
   ],
   "source": [
    "assert \"unexpected character\" in asterr('a $')"
   ]
  },
  {
   "cell_type": "code",
   "execution_count": 88,
   "metadata": {
    "tags": []
   },
   "outputs": [
    {
     "name": "stdout",
     "output_type": "stream",
     "text": [
      "-a × -b\n",
      "      ^ unexpected symbol\n"
     ]
    }
   ],
   "source": [
    "assert \"unexpected symbol\" in asterr('-a × -b')"
   ]
  },
  {
   "cell_type": "code",
   "execution_count": 89,
   "metadata": {
    "tags": []
   },
   "outputs": [
    {
     "name": "stdout",
     "output_type": "stream",
     "text": [
      "a + ×\n",
      "     ^ unexpected symbol\n"
     ]
    }
   ],
   "source": [
    "assert \"unexpected symbol\" in asterr('a + ×')"
   ]
  },
  {
   "cell_type": "code",
   "execution_count": 90,
   "metadata": {
    "tags": []
   },
   "outputs": [
    {
     "name": "stdout",
     "output_type": "stream",
     "text": [
      "(a+b\n",
      "    ^ ) missing\n"
     ]
    }
   ],
   "source": [
    "assert \") missing\" in asterr('(a+b')"
   ]
  },
  {
   "cell_type": "code",
   "execution_count": 91,
   "metadata": {},
   "outputs": [
    {
     "name": "stdout",
     "output_type": "stream",
     "text": [
      "let double(a) = a + a then double(7)\n",
      "                          ^ 'in' expected\n"
     ]
    }
   ],
   "source": [
    "assert \"'in' expected\" in asterr('let double(a) = a + a then double(7)')"
   ]
  },
  {
   "cell_type": "markdown",
   "metadata": {
    "tags": []
   },
   "source": [
    "#### Evaluator\n",
    "\n",
    "The interpreter is realized by the function `eval(e, env)`, which evaluates expression `e` in environment `env`. An environment is a mapping from identifiers to either constants or pairs with function parameters and a function body. Function `eval` is defined recursively over the structure of expressions:\n",
    "\n",
    "| `e`                            |`eval(e, env)`     |                           |\n",
    "|:-------------------------------|:------------------|:--------------------------|\n",
    "| `e`                            | `e`               | if `e` is `int` or `bool` |\n",
    "|`UnaryExpr(MINUS, e)`           |`- eval(e, env)`   |\n",
    "|`UnaryExpr(NOT, e)`             |`¬ eval(e, env)`   |\n",
    "|`BinaryExpr(DIV, left, right)`  |`eval(left, env) div eval(right, env)` |\n",
    "|`BinaryExpr(MOD, left, right)`  |`eval(left, env) mod eval(right, env)` |\n",
    "|`BinaryExpr(TIMES, left, right)`|`eval(left, env) × eval(right, env)` |\n",
    "|`BinaryExpr(PLUS, left, right)` |`eval(left, env) + eval(right, env)` |\n",
    "|`BinaryExpr(MINUS, left, right)`|`eval(left, env) - eval(right, env)` |\n",
    "|`BinaryExpr(EQ, left, right)`   |`eval(left, env) = eval(right, env)` |\n",
    "|`BinaryExpr(NEQ, left, right)`  |`eval(left, env) ≠ eval(right, env)` |\n",
    "|`BinaryExpr(LT, left, right)`   |`eval(left, env) < eval(right, env)` |\n",
    "|`BinaryExpr(GT, left, right)`   |`eval(left, env) > eval(right, env)` |\n",
    "|`BinaryExpr(LE, left, right)`   |`eval(left, env) ≤ eval(right, env)` |\n",
    "|`BinaryExpr(GE, left, right)`   |`eval(left, env) ≥ eval(right, env)` |\n",
    "|`BinaryExpr(AND, left, right)`  |`eval(left, env) and eval(right, env)` |\n",
    "|`BinaryExpr(OR, left, right)`   |`eval(left, env) or eval(right, env)` |\n",
    "|`Call(name, args)`              |`env(name)`        | if `env(name)` is `int` or `bool` |\n",
    "|`Call(name, args)`              |`eval(body, envʹ)` | if `env(name) = (par, body)` and <br>  `envʹ` is `env` updated with `par(i)` <br> mapping to `eval(args(i), env)` for all `i` |\n",
    "|`If(cond, th, el)`              |`eval(th, env)`    | if `eval(cond, env)` |\n",
    "|`If(cond, th, el)`              |`eval(el, env)`    | if `¬eval(cond, env)`|\n",
    "|`Let(name, par, body, scope)`   |`eval(scope, envʹ)`| where `envʹ` is `env` updated <br> with `name` mapping to `(par, body)` |"
   ]
  },
  {
   "cell_type": "markdown",
   "metadata": {
    "tags": []
   },
   "source": [
    "For example,\n",
    "\n",
    "       ast('let f(a) = a + 1 in f(2)')\n",
    "    = Let(f, ['a'], Binary(15, Call(a, []), 1), Call(f, [2]))\n",
    "\n",
    "therefore\n",
    "\n",
    "        eval(ast('let f(a) = a + 1 in f(2)'), {})\n",
    "    =  eval(Let(f, ['a'], Binary(15, Call(a, []), 1), Call(f, [2])), {})\n",
    "    =  eval(Call(f, [2]), {'f': (['a'], Binary(15, Call(a, []), 1))})\n",
    "    =  eval(Binary(15, Call(a, []), 1), envʹ)\n",
    "    =  eval(Call(a, []), envʹ) + eval(1, envʹ)\n",
    "    =  2 + 1\n",
    "    =  3\n",
    "\n",
    "where:\n",
    "\n",
    "       envʹ\n",
    "    = {'f': (['a'], Binary(15, Call(a, []), 1)), 'a': eval(2, {'f': (['a'], Binary(15, Call(a, []), 1))})}\n",
    "    = {'f': (['a'], Binary(15, Call(a, []), 1)), 'a': 2}`"
   ]
  },
  {
   "cell_type": "code",
   "execution_count": 92,
   "metadata": {},
   "outputs": [],
   "source": [
    "def eval(e, env):\n",
    "#### type-checking missing\n",
    "    if type(e) in (int, bool): return e \n",
    "    elif type(e) == Call:\n",
    "        if e.name in env:\n",
    "            if type(env[e.name]) in {int, bool}: # constant\n",
    "                return env[e.name]\n",
    "            else: # call\n",
    "                par, body = env[e.name]\n",
    "                env2 = env.copy()\n",
    "                env2.update(zip(par, [eval(a, env) for a in e.args]))\n",
    "                return eval(body, env2)\n",
    "        else: error('identifier not defined')\n",
    "    elif type(e) == Unary:\n",
    "        if e.op == MINUS:\n",
    "            return - eval(e.operand, env)\n",
    "        elif e.op == NOT:\n",
    "            return not eval(e.operand, env)\n",
    "        else: assert False\n",
    "    elif type(e) == Binary:\n",
    "        l, r = eval(e.left, env), eval(e.right, env)\n",
    "        if e.op in (DIV, MOD, TIMES, PLUS, MINUS, LT, GT, LE, GE):\n",
    "            if e.op == DIV: return l // r\n",
    "            elif e.op == MOD: return l % r\n",
    "            elif e.op == TIMES: return l * r\n",
    "            elif e.op == PLUS: return l + r\n",
    "            elif e.op == MINUS: return l - r\n",
    "            elif e.op == LT: return l < r\n",
    "            elif e.op == GT: return l > r\n",
    "            elif e.op == LE: return l <= r\n",
    "            elif e.op == GE: return l >= r\n",
    "        elif e.op in (AND, OR):\n",
    "            if e.op == AND: return l and r\n",
    "            elif e.op == OR: return l or r\n",
    "        elif e.op in (EQ, NEQ):\n",
    "            if e.op == EQ: return l == r\n",
    "            elif e.op == NEQ: return l != r\n",
    "        else: assert False\n",
    "#### implementation of \"if\" missing\n",
    "    elif type(e) == Let:\n",
    "        env2 = env.copy(); env2.update({e.name: (e.par, e.body)})\n",
    "        return eval(e.scope, env2)\n",
    "    else: assert False"
   ]
  },
  {
   "cell_type": "markdown",
   "metadata": {
    "tags": []
   },
   "source": [
    "#### Evaluation Tests"
   ]
  },
  {
   "cell_type": "markdown",
   "metadata": {
    "tags": []
   },
   "source": [
    "The following tests should succeed."
   ]
  },
  {
   "cell_type": "code",
   "execution_count": 93,
   "metadata": {
    "tags": []
   },
   "outputs": [],
   "source": [
    "def evaluate(s):\n",
    "    return eval(ast(s), {})"
   ]
  },
  {
   "cell_type": "code",
   "execution_count": 94,
   "metadata": {
    "tags": []
   },
   "outputs": [],
   "source": [
    "assert evaluate('4 + 2 × 3 mod 5') == 5"
   ]
  },
  {
   "cell_type": "code",
   "execution_count": 95,
   "metadata": {
    "tags": []
   },
   "outputs": [],
   "source": [
    "assert evaluate('let x = 3 in x + x') == 6"
   ]
  },
  {
   "cell_type": "code",
   "execution_count": 96,
   "metadata": {
    "tags": []
   },
   "outputs": [],
   "source": [
    "assert evaluate('let f(p) = p + p in f(3)') == 6"
   ]
  },
  {
   "cell_type": "markdown",
   "metadata": {
    "tags": []
   },
   "source": [
    "The following example illustrates dynamic binding: when the expression `f(4)` is evaluated, the environment has definitions of both `f` and `x`; hence, the programs are well-defined. In case there are multiple definitions, the last dynamic definition is taken."
   ]
  },
  {
   "cell_type": "code",
   "execution_count": 97,
   "metadata": {
    "tags": []
   },
   "outputs": [],
   "source": [
    "assert evaluate('let x = 7 in let f(p) = p - x in f(4)') == -3"
   ]
  },
  {
   "cell_type": "code",
   "execution_count": 98,
   "metadata": {
    "tags": []
   },
   "outputs": [],
   "source": [
    "assert evaluate('let f(p) = p - x in let x = 7 in f(4)') == -3"
   ]
  },
  {
   "cell_type": "code",
   "execution_count": 99,
   "metadata": {
    "tags": []
   },
   "outputs": [],
   "source": [
    "assert evaluate('let x = 1 in let f(p) = p - x in let x = 7 in f(4)') == -3"
   ]
  },
  {
   "cell_type": "markdown",
   "metadata": {
    "tags": []
   },
   "source": [
    "The following tests should procedure an error message."
   ]
  },
  {
   "cell_type": "code",
   "execution_count": 100,
   "metadata": {},
   "outputs": [],
   "source": [
    "def evalerr(s):\n",
    "    try: eval(ast(s), {}); return ''\n",
    "    except Exception as e:\n",
    "        print(e); return str(e)"
   ]
  },
  {
   "cell_type": "code",
   "execution_count": 101,
   "metadata": {
    "tags": []
   },
   "outputs": [
    {
     "name": "stdout",
     "output_type": "stream",
     "text": [
      "let f(p) = x + 3 in f(2)\n",
      "                        ^ identifier not defined\n"
     ]
    }
   ],
   "source": [
    "assert \"identifier not defined\" in evalerr('let f(p) = x + 3 in f(2)')"
   ]
  },
  {
   "cell_type": "markdown",
   "metadata": {
    "tags": []
   },
   "source": [
    "##### Part 1: Completing if-expressions [8 points]"
   ]
  },
  {
   "cell_type": "markdown",
   "metadata": {
    "tags": []
   },
   "source": [
    "The implementation above is missing if-expressions. Hence, the test cases below fail. Copy `expression()` above to the cell below and add parsing of if-expressions according to the given grammar."
   ]
  },
  {
   "cell_type": "code",
   "execution_count": 102,
   "metadata": {
    "deletable": false,
    "nbgrader": {
     "cell_type": "code",
     "checksum": "3fa5360b52d31a64c0ca45f239a9a35b",
     "grade": true,
     "grade_id": "cell-96b1c7f3191bd752",
     "locked": false,
     "points": 2,
     "schema_version": 3,
     "solution": true,
     "task": false
    }
   },
   "outputs": [],
   "source": [
    "def expression():\n",
    "    if sym in (PLUS, MINUS, NUMBER, TRUE, FALSE, LPAREN, NOT, IDENT):\n",
    "        return relation()\n",
    "    elif sym == LET:\n",
    "        getSym()\n",
    "        if sym == IDENT: getSym()\n",
    "        else: error(\"identifier expected\")\n",
    "        name = val; par = idList();\n",
    "        if sym == EQ: getSym()\n",
    "        else: error(\"'=' expected\")\n",
    "        body = expression()\n",
    "        if sym == IN: getSym()\n",
    "        else: error(\"'in' expected\")\n",
    "        scope = expression()\n",
    "        return Let(name, par, body, scope)\n",
    "    elif sym == IF:\n",
    "        getSym()\n",
    "        cond = expression()\n",
    "        if sym == THEN: getSym()\n",
    "        else: error(\"'then' expected\")\n",
    "        th = expression()\n",
    "        if sym == ELSE: getSym()\n",
    "        else: error(\"'else' expected\")\n",
    "        el = expression()\n",
    "        return If(cond, th, el)\n",
    "    else: error(\"expression expected\")"
   ]
  },
  {
   "cell_type": "code",
   "execution_count": 103,
   "metadata": {
    "deletable": false,
    "editable": false,
    "nbgrader": {
     "cell_type": "code",
     "checksum": "606003bcf24aca4597f8bf03819c7004",
     "grade": true,
     "grade_id": "cell-d799c45f1fce4caa",
     "locked": true,
     "points": 2,
     "schema_version": 3,
     "solution": false,
     "task": false
    }
   },
   "outputs": [
    {
     "name": "stdout",
     "output_type": "stream",
     "text": [
      "if (a > b) a else b\n",
      "            ^ 'then' expected\n",
      "if a > b then a\n",
      "               ^ 'else' expected\n"
     ]
    }
   ],
   "source": [
    "assert str(ast('if x = 3 then b + x else d')) == \\\n",
    "    'If(Binary(17, Call(x, []), 3), Binary(15, Call(b, []), Call(x, [])), Call(d, []))'\n",
    "assert \"'then' expected\" in asterr('if (a > b) a else b')\n",
    "assert \"'else' expected\" in asterr('if a > b then a')"
   ]
  },
  {
   "cell_type": "markdown",
   "metadata": {
    "tags": []
   },
   "source": [
    "Copy `eval` above to the cell below and add the evaluation of if-expressions according to the attribute grammar."
   ]
  },
  {
   "cell_type": "code",
   "execution_count": 104,
   "metadata": {
    "deletable": false,
    "nbgrader": {
     "cell_type": "code",
     "checksum": "56cf5e547c21ddb71ad239509bf9741a",
     "grade": true,
     "grade_id": "cell-72be05ab921b47c7",
     "locked": false,
     "points": 2,
     "schema_version": 3,
     "solution": true
    }
   },
   "outputs": [],
   "source": [
    "def eval(e, env):\n",
    "#### type-checking missing\n",
    "    if type(e) in (int, bool): return e \n",
    "    elif type(e) == Call:\n",
    "        if e.name in env:\n",
    "            if type(env[e.name]) in {int, bool}: # constant\n",
    "                return env[e.name]\n",
    "            else: # call\n",
    "                par, body = env[e.name]\n",
    "                env2 = env.copy()\n",
    "                env2.update(zip(par, [eval(a, env) for a in e.args]))\n",
    "                return eval(body, env2)\n",
    "        else: error('identifier not defined')\n",
    "    elif type(e) == Unary:\n",
    "        if e.op == MINUS:\n",
    "            return - eval(e.operand, env)\n",
    "        elif e.op == NOT:\n",
    "            return not eval(e.operand, env)\n",
    "        else: assert False\n",
    "    elif type(e) == Binary:\n",
    "        l, r = eval(e.left, env), eval(e.right, env)\n",
    "        if e.op in (DIV, MOD, TIMES, PLUS, MINUS, LT, GT, LE, GE):\n",
    "            if e.op == DIV: return l // r\n",
    "            elif e.op == MOD: return l % r\n",
    "            elif e.op == TIMES: return l * r\n",
    "            elif e.op == PLUS: return l + r\n",
    "            elif e.op == MINUS: return l - r\n",
    "            elif e.op == LT: return l < r\n",
    "            elif e.op == GT: return l > r\n",
    "            elif e.op == LE: return l <= r\n",
    "            elif e.op == GE: return l >= r\n",
    "        elif e.op in (AND, OR):\n",
    "            if e.op == AND: return l and r\n",
    "            elif e.op == OR: return l or r\n",
    "        elif e.op in (EQ, NEQ):\n",
    "            if e.op == EQ: return l == r\n",
    "            elif e.op == NEQ: return l != r\n",
    "        else: assert False\n",
    "    elif type(e) == If:\n",
    "        if eval(e.cond, env): return eval(e.th, env)\n",
    "        else: return eval(e.el, env)\n",
    "    elif type(e) == Let:\n",
    "        env2 = env.copy(); env2.update({e.name: (e.par, e.body)})\n",
    "        return eval(e.scope, env2)\n",
    "    else: assert False"
   ]
  },
  {
   "cell_type": "code",
   "execution_count": 105,
   "metadata": {
    "deletable": false,
    "editable": false,
    "nbgrader": {
     "cell_type": "code",
     "checksum": "1e69e5da99a77529ff2bda8aa8a360c2",
     "grade": true,
     "grade_id": "cell-025f09ccdb6ec639",
     "locked": true,
     "points": 2,
     "schema_version": 3,
     "solution": false,
     "task": false
    }
   },
   "outputs": [],
   "source": [
    "assert evaluate('if 2 < 5 then 7 else 8') == 7\n",
    "assert evaluate('let x = 3 > 5 in if x or (3 < 5) then x else not x') == False\n",
    "assert evaluate('let mult(x, y) = if y = 0 then 0 else x + mult(x, y - 1) in mult(2, 3)') == 6\n",
    "assert evaluate('let gcd(x, y) = if y ≠ 0 then gcd(y, x mod y) else x in gcd(25, 15)') == 5"
   ]
  },
  {
   "cell_type": "markdown",
   "metadata": {
    "tags": []
   },
   "source": [
    "#### Part 2: Dynamic Type Checking [8 points]"
   ]
  },
  {
   "cell_type": "markdown",
   "metadata": {
    "tags": []
   },
   "source": [
    "The implementation above lacks dynamic type checks. In case there is a type error, a random result is returned, e.g.:"
   ]
  },
  {
   "cell_type": "code",
   "execution_count": 106,
   "metadata": {},
   "outputs": [
    {
     "data": {
      "text/plain": [
       "3"
      ]
     },
     "execution_count": 106,
     "metadata": {},
     "output_type": "execute_result"
    }
   ],
   "source": [
    "evaluate('5 and 3')"
   ]
  },
  {
   "cell_type": "code",
   "execution_count": 107,
   "metadata": {},
   "outputs": [
    {
     "data": {
      "text/plain": [
       "False"
      ]
     },
     "execution_count": 107,
     "metadata": {},
     "output_type": "execute_result"
    }
   ],
   "source": [
    "evaluate('5 < (3 = 7)')"
   ]
  },
  {
   "cell_type": "markdown",
   "metadata": {
    "tags": []
   },
   "source": [
    "Copy `eval` from Part 1 and add type checking according to the tests below."
   ]
  },
  {
   "cell_type": "code",
   "execution_count": 108,
   "metadata": {
    "deletable": false,
    "nbgrader": {
     "cell_type": "code",
     "checksum": "db37c62ea0b541902aa187f8e9cc63eb",
     "grade": true,
     "grade_id": "cell-4693ed593f30d4da",
     "locked": false,
     "points": 4,
     "schema_version": 3,
     "solution": true
    }
   },
   "outputs": [],
   "source": [
    "def eval(e, env):\n",
    "    if type(e) in (int, bool): return e \n",
    "    elif type(e) == Call:\n",
    "        if e.name in env:\n",
    "            if type(env[e.name]) in {int, bool}: # constant\n",
    "                return env[e.name]\n",
    "            else: # call\n",
    "                par, body = env[e.name]\n",
    "                if len(par) != len(e.args): error(\"number of parameters does not match\")\n",
    "                env2 = env.copy()\n",
    "                env2.update(zip(par, [eval(a, env) for a in e.args]))\n",
    "                return eval(body, env2)\n",
    "        else: error('identifier not defined')\n",
    "    elif type(e) == Unary:\n",
    "        if e.op == MINUS:\n",
    "            if type(e.operand) != int: error(\"operand not integer\")\n",
    "            return - eval(e.operand, env)\n",
    "        elif e.op == NOT:\n",
    "            if type(e.operand) != bool: error(\"operand not boolean\")\n",
    "            return not eval(e.operand, env)\n",
    "        else: assert False\n",
    "    elif type(e) == Binary:\n",
    "        l, r = eval(e.left, env), eval(e.right, env)\n",
    "        if e.op in (DIV, MOD, TIMES, PLUS, MINUS, LT, GT, LE, GE):\n",
    "            if type(l) != int or type(r) != int: error(\"incompatible operands\")\n",
    "            if e.op == DIV: return l // r\n",
    "            elif e.op == MOD: return l % r\n",
    "            elif e.op == TIMES: return l * r\n",
    "            elif e.op == PLUS: return l + r\n",
    "            elif e.op == MINUS: return l - r\n",
    "            elif e.op == LT: return l < r\n",
    "            elif e.op == GT: return l > r\n",
    "            elif e.op == LE: return l <= r\n",
    "            elif e.op == GE: return l >= r\n",
    "        elif e.op in (AND, OR):\n",
    "            if type(l) != bool or type(r) != bool: error(\"incompatible operands\")\n",
    "            if e.op == AND: return l and r\n",
    "            elif e.op == OR: return l or r\n",
    "        elif e.op in (EQ, NEQ):\n",
    "            if type(l) != type(r): error(\"incompatible operands\")\n",
    "            if e.op == EQ: return l == r\n",
    "            elif e.op == NEQ: return l != r\n",
    "        else: assert False\n",
    "    elif type(e) == If:\n",
    "        cond = eval(e.cond, env)\n",
    "        if type(cond) != bool: error(\"condition not boolean\")\n",
    "        if eval(e.cond, env): return eval(e.th, env)\n",
    "        else: return eval(e.el, env)\n",
    "    elif type(e) == Let:\n",
    "        env2 = env.copy(); env2.update({e.name: (e.par, e.body)})\n",
    "        return eval(e.scope, env2)\n",
    "    else: assert False"
   ]
  },
  {
   "cell_type": "markdown",
   "metadata": {
    "tags": []
   },
   "source": [
    "Arithmetic operators must have integer operands; boolean operators must have boolean operands; `=` and `≠` must have both operands of the same type."
   ]
  },
  {
   "cell_type": "code",
   "execution_count": 109,
   "metadata": {
    "deletable": false,
    "editable": false,
    "nbgrader": {
     "cell_type": "code",
     "checksum": "2c257ab305ee1f6d1e93dd2fad8eb361",
     "grade": true,
     "grade_id": "cell-7f61ce02e17e8212",
     "locked": true,
     "points": 2,
     "schema_version": 3,
     "solution": false,
     "task": false
    }
   },
   "outputs": [
    {
     "name": "stdout",
     "output_type": "stream",
     "text": [
      "- true\n",
      "      ^ operand not integer\n",
      "not 4\n",
      "     ^ operand not boolean\n",
      "3 + true\n",
      "        ^ incompatible operands\n",
      "true and 3\n",
      "          ^ incompatible operands\n",
      "true = 3\n",
      "        ^ incompatible operands\n"
     ]
    }
   ],
   "source": [
    "assert \"operand not integer\" in evalerr('- true')\n",
    "assert \"operand not boolean\" in evalerr('not 4')\n",
    "assert \"incompatible operands\" in evalerr('3 + true')\n",
    "assert \"incompatible operands\" in evalerr('true and 3')\n",
    "assert \"incompatible operands\" in evalerr('true = 3')"
   ]
  },
  {
   "cell_type": "markdown",
   "metadata": {
    "tags": []
   },
   "source": [
    "The condition of \"if\" must be boolean. The definition and call of a function must have a matching number of parameters."
   ]
  },
  {
   "cell_type": "code",
   "execution_count": 110,
   "metadata": {
    "deletable": false,
    "editable": false,
    "nbgrader": {
     "cell_type": "code",
     "checksum": "58d04763f46c1fb192c3d5bfddab7b87",
     "grade": true,
     "grade_id": "cell-73d238b72708bee7",
     "locked": true,
     "points": 2,
     "schema_version": 3,
     "solution": false,
     "task": false
    }
   },
   "outputs": [
    {
     "name": "stdout",
     "output_type": "stream",
     "text": [
      "if 4 then 3 else 7\n",
      "                  ^ condition not boolean\n",
      "let f(a) = a + 1 in f(3, 4)\n",
      "                           ^ number of parameters does not match\n",
      "let c = 4 in c(5)\n",
      "                 ^ number of parameters does not match\n"
     ]
    }
   ],
   "source": [
    "assert \"condition not boolean\" in evalerr('if 4 then 3 else 7')\n",
    "assert \"number of parameters does not match\" in evalerr('let f(a) = a + 1 in f(3, 4)')\n",
    "assert \"number of parameters does not match\" in evalerr('let c = 4 in c(5)')"
   ]
  },
  {
   "cell_type": "markdown",
   "metadata": {
    "tags": []
   },
   "source": [
    "#### Part 3: Error Reporting [8 points]"
   ]
  },
  {
   "cell_type": "markdown",
   "metadata": {
    "tags": []
   },
   "source": [
    "The parser reports errors at the proper position in the source text, but the evaluator reports errors at the end of the source text:"
   ]
  },
  {
   "cell_type": "code",
   "execution_count": 111,
   "metadata": {},
   "outputs": [
    {
     "name": "stdout",
     "output_type": "stream",
     "text": [
      "- true + 3\n",
      "          ^ operand not integer\n",
      "(true = 3) or false\n",
      "                   ^ incompatible operands\n"
     ]
    }
   ],
   "source": [
    "assert \"operand not integer\" in evalerr('- true + 3')\n",
    "assert \"incompatible operands\" in evalerr('(true = 3) or false')"
   ]
  },
  {
   "cell_type": "markdown",
   "metadata": {
    "tags": []
   },
   "source": [
    "Modify the parser and evaluator to report better positions. Copy the cells with the code of the abstract syntax tree, the parsing procedures, and the evaluation procedure to the cell below. The nodes in the abstract syntax tree have to be augmented with the position where the operator in question occurred in the source text. When an error is reported, that position can then be passed to procedure `error`. Some tests are below."
   ]
  },
  {
   "cell_type": "code",
   "execution_count": 168,
   "metadata": {},
   "outputs": [],
   "source": [
    "def error(msg, pos = pos):\n",
    "    raise Exception(src + '\\n' + (pos - 1) * ' ' + '^ ' + msg)"
   ]
  },
  {
   "cell_type": "code",
   "execution_count": 169,
   "metadata": {
    "deletable": false,
    "nbgrader": {
     "cell_type": "code",
     "checksum": "8f9f8061573aee648fc4c0ad30011871",
     "grade": true,
     "grade_id": "cell-2b2ef08900d738e7",
     "locked": false,
     "points": 8,
     "schema_version": 3,
     "solution": true
    }
   },
   "outputs": [],
   "source": [
    "class Expr:\n",
    "    def __init__(self, pos = pos):\n",
    "        self.pos = pos\n",
    "        \n",
    "class Call(Expr):\n",
    "    def __init__(self, name, args, start_pos):\n",
    "        super().__init__(start_pos)\n",
    "        self.name, self.args = name, args\n",
    "    def __repr__(self):\n",
    "        return 'Call(' + self.name + ', [' + \\\n",
    "               ', '.join([str(x) for x in self.args]) + '])'\n",
    "\n",
    "class Unary(Expr):\n",
    "    def __init__(self, op, operand, start_pos):\n",
    "        super().__init__(start_pos)\n",
    "        self.op, self.operand = op, operand\n",
    "    def __repr__(self):\n",
    "        return 'Unary(' + str(self.op) + ', ' + str(self.operand) + ')' + str(self.pos)\n",
    "\n",
    "class Binary(Expr):\n",
    "    def __init__(self, op, left, right, start_pos):\n",
    "        super().__init__(start_pos)\n",
    "        self.op, self.left, self.right = op, left, right\n",
    "    def __repr__(self):\n",
    "        return 'Binary(' + str(self.op) + ', ' + str(self.left) + \\\n",
    "               ', ' + str(self.right) + ')'\n",
    "\n",
    "class If(Expr):\n",
    "    def __init__(self, cond, th, el, start_pos):\n",
    "        super().__init__(start_pos)\n",
    "        self.cond, self.th, self.el = cond, th, el\n",
    "    def __repr__(self):\n",
    "        return 'If(' + str(self.cond) + ', ' + str(self.th) + \\\n",
    "               ', ' + str(self.el) + ')'\n",
    "\n",
    "class Let(Expr):\n",
    "    def __init__(self, name, par, body, scope):\n",
    "        self.name, self.par, self.body, self.scope = \\\n",
    "            name, par, body, scope\n",
    "    def __repr__(self):\n",
    "        return 'Let(' + self.name + ', ' + str(self.par) + \\\n",
    "               ', ' + str(self.body) + ', ' + str(self.scope) + ')'\n",
    "\n",
    "def relation():\n",
    "    r = arithmetic()\n",
    "    if sym in (EQ, NEQ, LT, GT, LE, GE):\n",
    "        op = sym; p = pos; getSym(); r = Binary(op, r, arithmetic(), p)\n",
    "    return r\n",
    "    \n",
    "def arithmetic():\n",
    "    if sym == PLUS:\n",
    "        getSym(); a = term();\n",
    "    elif sym == MINUS:\n",
    "        p = pos; getSym(); a = Unary(MINUS, term(), p)\n",
    "    else: a = term()\n",
    "    while sym in (PLUS, MINUS, OR):\n",
    "        op = sym; p = pos; getSym(); a = Binary(op, a, term(), p)\n",
    "    return a\n",
    "    \n",
    "def term():\n",
    "    t = factor()\n",
    "    while sym in (TIMES, DIV, MOD, AND):\n",
    "        op = sym; p = pos; getSym(); t = Binary(op, t, factor(), p)\n",
    "    return t\n",
    "    \n",
    "def factor():\n",
    "    if sym == NUMBER: f = val; getSym()\n",
    "    elif sym == TRUE: f = True; getSym()\n",
    "    elif sym == FALSE: f = False; getSym()\n",
    "    elif sym == LPAREN:\n",
    "        getSym(); f = expression()\n",
    "        if sym == RPAREN: getSym()\n",
    "        else: error(') missing')\n",
    "    elif sym == NOT:\n",
    "        p = pos; getSym(); f = Unary(NOT, expression(), p)\n",
    "    elif sym == IDENT:\n",
    "        name = val; p = pos; getSym()\n",
    "        para = exprList()\n",
    "        f = Call(name, para, p)\n",
    "    else: error('unexpected symbol')\n",
    "    return f\n",
    "    \n",
    "def expression():\n",
    "    if sym in (PLUS, MINUS, NUMBER, TRUE, FALSE, LPAREN, NOT, IDENT):\n",
    "        return relation()\n",
    "    elif sym == LET:\n",
    "        getSym()\n",
    "        if sym == IDENT: getSym()\n",
    "        else: error(\"identifier expected\")\n",
    "        name = val; par = idList();\n",
    "        if sym == EQ: getSym()\n",
    "        else: error(\"'=' expected\")\n",
    "        body = expression()\n",
    "        if sym == IN: getSym()\n",
    "        else: error(\"'in' expected\")\n",
    "        scope = expression()\n",
    "        return Let(name, par, body, scope)\n",
    "    elif sym == IF:\n",
    "        p = pos\n",
    "        getSym()\n",
    "        cond = expression()\n",
    "        if sym == THEN: getSym()\n",
    "        else: error(\"'then' expected\")\n",
    "        th = expression()\n",
    "        if sym == ELSE: getSym()\n",
    "        else: error(\"'else' expected\")\n",
    "        el = expression()\n",
    "        return If(cond, th, el, p)\n",
    "    else: error(\"expression expected\")\n",
    "\n",
    "def ast(s):\n",
    "    global src, pos, linepos;\n",
    "    src, pos, linepos = s, 0, 0; getChar(); getSym();\n",
    "    return expression()\n",
    "\n",
    "def eval(e, env):\n",
    "    if type(e) in (int, bool): return e \n",
    "    elif type(e) == Call:\n",
    "        if e.name in env:\n",
    "            if type(env[e.name]) in {int, bool}: # constant\n",
    "                return env[e.name]\n",
    "            else: # call\n",
    "                par, body = env[e.name]\n",
    "                if len(par) != len(e.args): error(\"number of parameters does not match\", e.pos)\n",
    "                env2 = env.copy()\n",
    "                env2.update(zip(par, [eval(a, env) for a in e.args]))\n",
    "                return eval(body, env2)\n",
    "        else: error('identifier not defined')\n",
    "    elif type(e) == Unary:\n",
    "        if e.op == MINUS:\n",
    "            if type(e.operand) != int: error(\"operand not integer\", e.pos)\n",
    "            return - eval(e.operand, env)\n",
    "        elif e.op == NOT:\n",
    "            if type(e.operand) != bool: error(\"operand not boolean\", e.pos)\n",
    "            return not eval(e.operand, env)\n",
    "        else: assert False\n",
    "    elif type(e) == Binary:\n",
    "        l, r = eval(e.left, env), eval(e.right, env)\n",
    "        if e.op in (DIV, MOD, TIMES, PLUS, MINUS, LT, GT, LE, GE):\n",
    "            if type(l) != int or type(r) != int: error(\"incompatible operands\", e.pos)\n",
    "            if e.op == DIV: return l // r\n",
    "            elif e.op == MOD: return l % r\n",
    "            elif e.op == TIMES: return l * r\n",
    "            elif e.op == PLUS: return l + r\n",
    "            elif e.op == MINUS: return l - r\n",
    "            elif e.op == LT: return l < r\n",
    "            elif e.op == GT: return l > r\n",
    "            elif e.op == LE: return l <= r\n",
    "            elif e.op == GE: return l >= r\n",
    "        elif e.op in (AND, OR):\n",
    "            if type(l) != bool or type(r) != bool: error(\"incompatible operands\", e.pos)\n",
    "            if e.op == AND: return l and r\n",
    "            elif e.op == OR: return l or r\n",
    "        elif e.op in (EQ, NEQ):\n",
    "            if type(l) != type(r): error(\"incompatible operands\", e.pos)\n",
    "            if e.op == EQ: return l == r\n",
    "            elif e.op == NEQ: return l != r\n",
    "        else: assert False\n",
    "    elif type(e) == If:\n",
    "        cond = eval(e.cond, env)\n",
    "        if type(cond) != bool: error(\"condition not boolean\", e.pos)\n",
    "        if eval(e.cond, env): return eval(e.th, env)\n",
    "        else: return eval(e.el, env)\n",
    "    elif type(e) == Let:\n",
    "        env2 = env.copy(); env2.update({e.name: (e.par, e.body)})\n",
    "        return eval(e.scope, env2)\n",
    "    else: assert False"
   ]
  },
  {
   "cell_type": "code",
   "execution_count": 170,
   "metadata": {
    "tags": []
   },
   "outputs": [
    {
     "name": "stdout",
     "output_type": "stream",
     "text": [
      "- true + 3\n",
      " ^ operand not integer\n",
      "(true = 3) or false\n",
      "       ^ incompatible operands\n",
      "if 4 then 3 else 7\n",
      "  ^ condition not boolean\n",
      "let f(a) = a + 1 in f(3, 4)\n",
      "                     ^ number of parameters does not match\n"
     ]
    }
   ],
   "source": [
    "assert \"operand not integer\" in evalerr('- true + 3')\n",
    "assert \"incompatible operands\" in evalerr('(true = 3) or false')\n",
    "assert \"condition not boolean\" in evalerr('if 4 then 3 else 7')\n",
    "assert \"number of parameters does not match\" in evalerr('let f(a) = a + 1 in f(3, 4)')"
   ]
  },
  {
   "cell_type": "markdown",
   "metadata": {},
   "source": [
    "For the above test cases, a reasonable output would be:\n",
    "\n",
    "<pre style=\"font-family:monospace\">\n",
    "- true + 3\n",
    " ^ operand not integer\n",
    "(true = 3) or false\n",
    "       ^ incompatible operands\n",
    "if 4 then 3 else 7\n",
    "  ^ condition not boolean\n",
    "let f(a) = a + 1 in f(3, 4)\n",
    "                     ^ number of parameters does not match\n",
    "</pre>"
   ]
  }
 ],
 "metadata": {
  "kernelspec": {
   "display_name": "Python 3 (ipykernel)",
   "language": "python",
   "name": "python3"
  },
  "language_info": {
   "codemirror_mode": {
    "name": "ipython",
    "version": 3
   },
   "file_extension": ".py",
   "mimetype": "text/x-python",
   "name": "python",
   "nbconvert_exporter": "python",
   "pygments_lexer": "ipython3",
   "version": "3.11.1"
  }
 },
 "nbformat": 4,
 "nbformat_minor": 4
}
