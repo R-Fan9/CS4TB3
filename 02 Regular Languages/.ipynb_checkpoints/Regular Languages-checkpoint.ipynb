{
 "cells": [
  {
   "cell_type": "markdown",
   "metadata": {
    "slideshow": {
     "slide_type": "slide"
    }
   },
   "source": [
    "---\n",
    "\n",
    "# 2. Regular Languages\n",
    "**[Emil Sekerinski](http://www.cas.mcmaster.ca/~emil/), McMaster University, January 2024**\n",
    "\n",
    "---"
   ]
  },
  {
   "cell_type": "markdown",
   "metadata": {
    "slideshow": {
     "slide_type": "slide"
    }
   },
   "source": [
    "### Regular Expressions"
   ]
  },
  {
   "cell_type": "markdown",
   "metadata": {},
   "source": [
    "Regular expressions are closely related to regular languages and finite state automata."
   ]
  },
  {
   "cell_type": "markdown",
   "metadata": {
    "slideshow": {
     "slide_type": "-"
    }
   },
   "source": [
    "The _regular expressions_ over set `T` of symbols consist of\n",
    "\n",
    "- any symbol `a ∈ T ∪ {ε}`,\n",
    "- `E₁ | E₂`, where `E₁`, `E₂` are regular expressions (*choice*),\n",
    "- `E₁ E₂`, where `E₁`, `E₂` are regular expressions (*concatenation*),\n",
    "- `E*`, where `E` is a regular expression (*repetition*).\n",
    "\n",
    "The operator for repetition is also called the Kleene star. Using EBNF, the abstract syntax of regular expressions is\n",
    "\n",
    "    expr → 'ε' | sym | expr '|' expr | expr expr | expr '*'\n",
    "\n",
    "where `sym` is an element of `T`. When writing regular expressions, parentheses `(E)` are used for grouping. By convention, repetition binds tighter than concatenation, which binds tighter than choice. That is, `ab*|c` is understood as `(a(b*))|c`. "
   ]
  },
  {
   "cell_type": "markdown",
   "metadata": {
    "slideshow": {
     "slide_type": "slide"
    },
    "tags": []
   },
   "source": [
    "The language `L(E)` _described_ by regular expression `E` over set `T` of symbols is defined recursively over the structure of `E`. Assuming `a ∈ T ∪ {ε}` and `E`, `E₁`, `E₂` are regular expressions,\n",
    "\n",
    "<div style=\"float:right;background-color:lightgrey;border-left:2em solid white\">\n",
    "\n",
    "**Example.**  \n",
    "\n",
    " `L(ab*|c)`  \n",
    "`=  L(ab*) ∪ L(c)`  \n",
    "`=  (L(a) L(b*)) ∪ L(c)`  \n",
    "`=  ({a} (⋃ n ≥ 0 • Lⁿ(b))) ∪ {c}`  \n",
    "`=  ({a} (⋃ n ≥ 0 • {b}ⁿ)) ∪ {c}`  \n",
    "`=  (⋃ n ≥ 0 • {a}{b}ⁿ) ∪ {c}`  \n",
    "</div>\n",
    "\n",
    "| E | L(E)          |\n",
    "|:-------------------|:------------------|\n",
    "| `a`                | `{a}`             |\n",
    "| `E₁│E₂`          | `L(E₁) ∪ L(E₂)`   |\n",
    "| `E₁ E₂`            | `L(E₁) L(E₂)`     |\n",
    "| `E*`               | `⋃ n ≥ 0 • Lⁿ(E)` |\n",
    "\n",
    "where for sets `A`, `B` of sequences over `T`:\n",
    "\n",
    "  `A B = {ab | a ∈ A ∧ b ∈ B}`  \n",
    "  `A⁰ = {ε}`  \n",
    "  `Aⁿ = A Aⁿ⁻¹, n > 0`\n",
    "\n",
    "For example, if `U = {u, v}` and `X = {x, y}`, then `U X = {ux, uy, vx, vy}`. Since `A¹ = A A⁰ = A {ε} = A`:\n",
    "\n",
    "    L(E*) = {ε} ∪ L(E) ∪ L²(E) ∪ …"
   ]
  },
  {
   "cell_type": "markdown",
   "metadata": {
    "slideshow": {
     "slide_type": "slide"
    }
   },
   "source": [
    "<div style=\"float:right;background-color:lightgrey;border-left:2em solid white\">\n",
    "\n",
    "**Example.**  \n",
    "\n",
    " `L([a | b])`  \n",
    "`=  {ε} ∪ L(a | b)`  \n",
    "`=  {ε} ∪ L(a) ∪ L(b)`  \n",
    "`=  {ε} ∪ {a} ∪ {b}`  \n",
    "`=  {ε, a, b}`\n",
    "</div>\n",
    "\n",
    "The notation `[E] = ε | E` is used to avoid writing `ε`. Consequently:\n",
    "\n",
    "  `L([E]) = {ε} ∪ L(E)`\n",
    "\n",
    "Sometimes `{E} = E*` is used, as in EBNF."
   ]
  },
  {
   "cell_type": "markdown",
   "metadata": {
    "solution": "shown",
    "solution_first": true
   },
   "source": [
    "**Question.** What language does `[a a*]` describe? How can the expression be simplified? Give a formal proof!"
   ]
  },
  {
   "cell_type": "markdown",
   "metadata": {
    "slideshow": {
     "slide_type": "fragment"
    },
    "solution": "shown",
    "tags": []
   },
   "source": [
    "_Answer._\n",
    "\n",
    "     L([a a*])\n",
    "    =  {ε} ∪ L(a a*)\n",
    "    =  {ε} ∪ (L(a) L(a*))\n",
    "    =  {ε} ∪ ({a} (⋃ n ≥ 0 • Lⁿ(a)))\n",
    "    =  {ε} ∪ ({a} (⋃ n ≥ 0 • {a}ⁿ))\n",
    "    =  {ε} ∪ (⋃ n ≥ 0 • {a}{a}ⁿ)\n",
    "    =  {a}⁰ ∪ (⋃ n > 0 • {a}ⁿ)\n",
    "    =  ⋃ n ≥ 0 • {a}ⁿ\n",
    "    =  ⋃ n ≥ 0 • L(a)ⁿ\n",
    "    =  L(a*)\n",
    "\n",
    "That is, `[a a*]` describes the same language as `a*`."
   ]
  },
  {
   "cell_type": "markdown",
   "metadata": {
    "slideshow": {
     "slide_type": "slide"
    }
   },
   "source": [
    "<div style=\"float:right;background-color:lightgrey;border-left:2em solid white\">\n",
    "\n",
    "**Example.**  Taking `ab*|c`,  \n",
    "  \n",
    " `L(ab*|c) = L(G)`  \n",
    "  \n",
    "where `G = (T, N, S, P}`  \n",
    "with `T = {a, b, c}`, `N = {S}`,  \n",
    "and `P = {S → a{b}|c}`\n",
    "</div>\n",
    "\n",
    "The similarity in the notation of regular expression and productions in EBNF is justified by following theorem, given without proof:\n",
    "\n",
    "**Theorem.** For regular expression `E` over `T` and grammar `G` with the single non-recursive production `S → E`, the language described by `E` and the language generated by `G` are the same, `L(E) = L(G)`."
   ]
  },
  {
   "cell_type": "markdown",
   "metadata": {
    "slideshow": {
     "slide_type": "slide"
    }
   },
   "source": [
    "For regular expressions, equivalence is of fundamental importance. Regular expressions `E`, `E'` are *equal*, `E = E'`, if `L(E) = L(E')`; that is, a regular expression is identified with the set of sentences it describes. Given regular expressions `E`, `F`, `G` , the basic rules of choice and concatenation are:\n",
    "\n",
    "- *Identity:* `E ε = ε E = E`\n",
    "- *Idempotence:* `E | E = E`\n",
    "- *Commutativity:* `E | F = F | E`\n",
    "- *Associativity:* `(E | F) | G = E | (F | G)` and `(E F) G = E (F G)`\n",
    "- *Distributivity:* `E (F | G) = E F | E G` and `(E | F) G = E G | F G`\n",
    "\n",
    "Some of the basic rules of `*` are:\n",
    "- `E* = [E E*]`\n",
    "- `E E* = E* E`\n",
    "- `E** = E*`\n",
    "- `E* E* = E*`\n",
    "- `(E | F)* = E* (F E*)*`\n",
    "- `(E F)* E = E (F E)*`"
   ]
  },
  {
   "cell_type": "markdown",
   "metadata": {
    "slideshow": {
     "slide_type": "fragment"
    },
    "solution": "shown",
    "tags": []
   },
   "source": [
    "Here is the proof of `E | F = F | E`:\n",
    "\n",
    "     L(E | F)\n",
    "    =  L(E) ∪ L(F)\n",
    "    =  L(F) ∪ L(E)\n",
    "    =  L(F | E)\n",
    "\n",
    "That is, the proof of the commutativity of choice relies on the commutativity of union. Here is the proof of `E (F | G) = E F | E G`:\n",
    "\n",
    "     L(E (F | G))\n",
    "    =  L(E) L(F | G)\n",
    "    =  L(E) (L(F) ∪ L(G))\n",
    "    =  L(E) {b | b ∈ L(F) ∨ b ∈ L(G)}\n",
    "    =  {a b | a ∈ L(E) ∧ (b ∈ L(F) ∨ b ∈ L(G))}\n",
    "    =  {a b | (a ∈ L(E) ∧ b ∈ L(F)) ∨ (a ∈ L(E) ∧ b ∈ L(G))}\n",
    "    =  {a b | a ∈ L(E) ∧ b ∈ L(F)} ∪ {a b | a ∈ L(E) ∧ b ∈ L(G)}\n",
    "    =  L(E F) ∪ L(E G)\n",
    "    =  L(E F | E G)\n",
    "\n",
    "That is, the proof of distributivity of concatenation over choice relies on the distributivity of conjunction over disjunction."
   ]
  },
  {
   "cell_type": "markdown",
   "metadata": {
    "slideshow": {
     "slide_type": "slide"
    }
   },
   "source": [
    "*Aside.* If one adds `∅` with `L(∅) = {}` as the empty language, the regular expressions form a [Kleene algebra](https://en.wikipedia.org/wiki/Kleene_algebra) with following properties of `∅`:\n",
    "\n",
    "- *Identity:* `E | ∅ = ∅ | E = E`\n",
    "- *Annihilation:* `E ∅ = ∅ E = ∅`\n",
    "\n",
    "Having `∅` in regular expressions for searching text is not intuitive and is not used. However, Kleene algebras have applications to programming, with `∅`, `ε` corresponding to `stop`, `skip` and with concatenation, choice, and repetition (star) corresponding to sequential composition, nondeterministic choice, and repetition. In that case, the underlying model is that of relations, with sequential composition being relational composition and nondeterministic choice being union. _Kleene algebras with tests_ distinguish between statements and guards (tests) and allow while-programs to be expressed; see Kozen's tutorial [Part 1](https://www.cl.cam.ac.uk/events/ramics13/KozenTutorial1.pdf) and [Part 2](https://www.cl.cam.ac.uk/events/ramics13/KozenTutorial2.pdf)."
   ]
  },
  {
   "cell_type": "markdown",
   "metadata": {
    "slideshow": {
     "slide_type": "slide"
    }
   },
   "source": [
    "### Regular Grammar to Regular Expression"
   ]
  },
  {
   "cell_type": "markdown",
   "metadata": {
    "slideshow": {
     "slide_type": "-"
    },
    "tags": []
   },
   "source": [
    "For every regular grammar `G`, we can construct a regular expression `E` such that `L(G) = L(E)` by transforming the productions of the grammar. The assumption is that the grammar is in BNF, with one production for everyone nonterminal, including one for the start symbol `S`. The grammar is transformed by several steps with intermediate grammars in EBNF. An EBNF production of the form\n",
    "\n",
    "    A → E A | F\n",
    "\n",
    "where `A` does not occur in `E`, `F`, is equivalent to (*Arden's Rule*)\n",
    "\n",
    "    A → E* F\n",
    "\n",
    "which can be used to replace `A` with `E* F` in all other productions. This is repeated until a single production for `S` is left, whose right-hand side is the equivalent regular expression."
   ]
  },
  {
   "cell_type": "markdown",
   "metadata": {
    "slideshow": {
     "slide_type": "slide"
    }
   },
   "source": [
    "**Example.** Given regular grammar with productions\n",
    "\n",
    "    S → a | b X    X → b X | c Y    Y → c\n",
    "\n",
    "first, the last production can be eliminated by replacing `Y` with `c` in all other productions:\n",
    "\n",
    "    S → a | b X    X → b X | c c\n",
    "\n",
    "An equivalent production for `X` is `X → b* c c`, which allows `X` to be replaced by `b* c c`:\n",
    "\n",
    "    S → a | b b* c c\n",
    "\n",
    "Thus, an equivalent regular expression is `a | bᐩ c c`."
   ]
  },
  {
   "cell_type": "markdown",
   "metadata": {
    "slideshow": {
     "slide_type": "slide"
    },
    "solution": "shown",
    "solution_first": true
   },
   "source": [
    "**Question.** What is an equivalent regular expression for the grammar with productions:\n",
    "\n",
    "    S → a S | b X\n",
    "    X → a X | b Y | a\n",
    "    Y → a Y | a"
   ]
  },
  {
   "cell_type": "markdown",
   "metadata": {
    "slideshow": {
     "slide_type": "fragment"
    },
    "solution": "shown",
    "tags": []
   },
   "source": [
    "_Answer._\n",
    "\n",
    "    S → a S | b X    X → a X | b Y | a    Y → a Y | a\n",
    "\n",
    "An equivalent production for `Y` is `Y → a* a`, which allows `Y` to be replaced by `aᐩ`:\n",
    "\n",
    "    S → a S | b X    X → a X | b aᐩ | a\n",
    "\n",
    "The production for `X` can be written as `X → a X | (b aᐩ | a)`, which matches the form that is needed for it to be rewritten as `X → a* (b aᐩ | a)`, which in turn allows `X` to be eliminated from the other productions:\n",
    "\n",
    "    S → a S | b (a* (b aᐩ | a))\n",
    "\n",
    "Now, `S` can be equivalently defined by `S → a* b (a* (b aᐩ | a))`. The regular expression equivalent to the grammar is therefore:\n",
    "\n",
    "    a* b (a* (b aᐩ | a))"
   ]
  },
  {
   "cell_type": "markdown",
   "metadata": {
    "slideshow": {
     "slide_type": "slide"
    }
   },
   "source": [
    "### Finite State Automata"
   ]
  },
  {
   "cell_type": "markdown",
   "metadata": {
    "slideshow": {
     "slide_type": "-"
    }
   },
   "source": [
    "<div style=\"float:right;background-color:lightgrey;border-left:2em solid white\">\n",
    "\n",
    "**Example.** `A₀ = (T, Q, R, q₀, F)`  \n",
    "with `T = {a, b, c}`, `Q = {q₀, q₁, f}`,<br>\n",
    "`F = {f}` and transitions `R`:<br>\n",
    "`q₀ a → q₁`  \n",
    "`q₁ b → q₁`  \n",
    "`q₁ c → f`  \n",
    "`q₀ c → f`\n",
    "</div>\n",
    "\n",
    "A finite state automaton `A = (T, Q, R, q₀, F)` is specified by\n",
    "- a finite set `T` of *symbols*,\n",
    "- a finite set `Q` of *states*,\n",
    "- a finite set `R` of *transitions*,\n",
    "- an _initial state_ `q₀ ∈ Q`,\n",
    "- a set of _final states_ `F ⊆ Q`,\n",
    "\n",
    "where each transition is a triple with a state `q ∈ Q`, a symbol `t ∈ T`, and a state `q' ∈ Q`, written:\n",
    "\n",
    "\t q t → q'\n",
    "\n",
    "A finite state automaton is given a sequence `τ ∈ T*` as input and starts in its initial state. A transition `q t → q'` allows it to move from `q` to `q'` while consuming `t` from the input.\n",
    "\n",
    "In some treatments of finite state automata, `ε`-transitions are allowed, i.e. transitions of the form `q → q'`, which can be taken without consuming a symbol from the input."
   ]
  },
  {
   "cell_type": "markdown",
   "metadata": {
    "slideshow": {
     "slide_type": "slide"
    }
   },
   "source": [
    "<img style=\"width:16em;float:right\" src=\"./img/A0.svg\"></img>\n",
    "Finite state automata can be graphically represented by *finite state diagrams*:\n",
    "- States are enclosed in a circle.\n",
    "- Transitions are arrows between states labelled with a symbol.\n",
    "- One arrow points to the initial state.\n",
    "- Each final state is enclosed in a double circle.\n",
    "\n",
    "Sequence `τ ∈ T*` is _accepted_ in state `q` leading to state `q'`, written `q τ ⇒* q'`, if `q'` can be reached in zero or more steps, each step accepting the next element from the input,\n",
    "\n",
    "<div style=\"float:right;background-color:lightgrey;border-left:20px solid white\">\n",
    "\n",
    "**Example.** `q₀ abc ⇒* f` in `A₀`:  \n",
    "\n",
    "`q₀ abc ⇒* f as q₀ a → q₁ and q₁ bc ⇒* f`  \n",
    "`q₁ bc ⇒* f as q₁ b → q₁ and q₁ c ⇒* f`  \n",
    "`q₁ c ⇒* f as q₁ c → f and f ⇒* f`\n",
    "\n",
    "</div>\n",
    "\n",
    "- `q ⇒* q`\n",
    "- `q tσ ⇒* q'` if\t`q t → r` and `r σ ⇒* q'` for some state `r`."
   ]
  },
  {
   "cell_type": "markdown",
   "metadata": {
    "slideshow": {
     "slide_type": "slide"
    }
   },
   "source": [
    "The language `L(A)` accepted by finite state automaton `A = (T, Q, R, q₀, F)` is the set of all sequences of symbols which can be recognized when starting from the initial state:\n",
    "\n",
    "\tL(A) = {τ ∈ T* | q₀ τ ⇒* q, q ∈ F}\n",
    "\n",
    "Automata `A` and `A'` are _equivalent_ if they accept the same language, `L(A) = L(A')`. By extension, grammars, regular expressions, and automata are equivalent if they generate, describe, and accept the same language."
   ]
  },
  {
   "cell_type": "markdown",
   "metadata": {
    "slideshow": {
     "slide_type": "fragment"
    },
    "solution": "shown",
    "solution_first": true
   },
   "source": [
    "**Question.** What is the language accepted by `A₀`? What is an equivalent regular expression? What is an equivalent regular grammar?"
   ]
  },
  {
   "cell_type": "markdown",
   "metadata": {
    "slideshow": {
     "slide_type": "fragment"
    },
    "solution": "shown",
    "tags": []
   },
   "source": [
    "_Answer._\n",
    "- Accepted language: `{abⁿc | n ≥ 0} ∪ {c}`\n",
    "- Regular expression: `ab*c | c`\n",
    "- Productions of regular grammar: `A → a B | c`, `B → b B | c`"
   ]
  },
  {
   "cell_type": "markdown",
   "metadata": {
    "slideshow": {
     "slide_type": "slide"
    }
   },
   "source": [
    "### Regular Expression to Finite State Automaton"
   ]
  },
  {
   "cell_type": "markdown",
   "metadata": {
    "slideshow": {
     "slide_type": "-"
    }
   },
   "source": [
    "For every regular expression, an equivalent finite state automaton can be constructed recursively over the structure of the expression. Recall that the abstract syntax of regular expressions is\n",
    "\n",
    "    expr → 'ε' | sym | expr '|' expr | expr expr | expr '*'\n",
    "\n",
    "where `sym` is any symbol."
   ]
  },
  {
   "cell_type": "markdown",
   "metadata": {
    "slideshow": {
     "slide_type": "slide"
    },
    "tags": []
   },
   "source": [
    "<div style=\"float:right;border-left:2em solid white\">\n",
    "\n",
    "| RE        | automaton                                                        |\n",
    "|:----------|:-----------------------------------------------------------------|\n",
    "| `ε`       | <img align=\"left\" style=\"width:4em\" src=\"./img/fsaeps.svg\"/>     |\n",
    "| `a`       | <img align=\"left\" style=\"width:10em\" src=\"./img/fsaa.svg\"/>      |\n",
    "| `E₁ │ E₂` | <img align=\"left\" style=\"width:12em\" src=\"./img/fsaE1orE2.svg\"/> |\n",
    "| `E₁ E₂`   | <img align=\"left\" style=\"width:20em\" src=\"./img/fsaE1E2.svg\"/>   |\n",
    "| `E*`      | <img align=\"left\" style=\"width:13em\" src=\"./img/fsaEstar.svg\"/>  |\n",
    "</div>\n",
    "\n",
    "An automaton recognizing regular expression `E` is visualized with a dashed arrow representing all transitions leaving the initial state and a dotted arrow to each of the final states representing all transitions targeting that final state:\n",
    "\n",
    "<img style=\"width:12em\" src=\"./img/fsaE.svg\"/>\n",
    "\n",
    "The table to the right illustrates the construction:\n",
    "\n",
    "- The automaton for `ε` consists only of an initial state, which is also the final state.\n",
    "- The automaton for `a` consists of a transition on `a` from the initial to the final state.\n",
    "- The automaton for `E₁ │ E₂` consists of all transitions of the automata for `E₁` and `E₂` with the initial states merged.\n",
    "- The automaton for `E₁ E₂` consists of all transitions of the automata for `E₁` and `E₂` but with the transitions leaving the initial state of `E₂` replicated to leave all final states of `E₁`. If the initial state of `E₂` was final, then the final states of `E₁` become final.\n",
    "- The automaton for `E*` consists of all transitions of the automaton for `E` but with the transitions leaving the initial state of `E` replicated to leave all final states of `E`. The initial state of `E` becomes also a final state."
   ]
  },
  {
   "cell_type": "markdown",
   "metadata": {
    "slideshow": {
     "slide_type": "slide"
    }
   },
   "source": [
    "**Question.** What are the steps to construct an automaton for `(ab)*|c`?"
   ]
  },
  {
   "cell_type": "markdown",
   "metadata": {
    "slideshow": {
     "slide_type": "slide"
    }
   },
   "source": [
    "With the execution of finite state automata in mind, we define a Python class `FiniteStateAutomaton` and a procedure for creating a `FiniteStateAutomaton` object from a textual representation of the following form, where state names are strings without space:\n",
    "\n",
    "    initial\n",
    "    final, final, ...\n",
    "    source symbol → target\n",
    "    source symbol → target\n",
    "    ...\n",
    "\n",
    "The vocabulary becomes all the symbols that appear in the transitions. The set of states becomes all the initial states, final states, and states mentioned in transitions. Empty lines are allowed. Symbols must be individual characters. States can be arbitrary strings. Later on, sets of sets of states will be considered. Python does not allow a `set` object with `set` elements to be constructured: elements have to have a hash method defined to allow fast checking of membership, but that is only defined for immutable data types like `str` and `frozenset`, not for `set`. Therefore `frozenset` is used throughout. To make the programs use the more readable notation for `set`, the class `set` is redefined to be `frozenset`:"
   ]
  },
  {
   "cell_type": "code",
   "execution_count": null,
   "metadata": {
    "slideshow": {
     "slide_type": "slide"
    }
   },
   "outputs": [],
   "source": [
    "class set(frozenset):\n",
    "    def __repr__(self):\n",
    "        return '{' + ', '.join(str(e) for e in self) + '}'\n",
    "\n",
    "class FiniteStateAutomaton:\n",
    "    def __init__(self, T, Q, R, q0, F):\n",
    "        self.T, self.Q, self.R, self.q0, self.F = T, Q, R, q0, F\n",
    "    def __repr__(self):\n",
    "        return str(self.q0) + '\\n' + ' '.join(str(f) for f in self.F) + '\\n' + \\\n",
    "               '\\n'.join(str(q) + ' ' + a + ' → ' + str(r) for (q, a, r) in self.R)\n",
    "\n",
    "def parseFSA(fsa: str) -> FiniteStateAutomaton:\n",
    "    fsa = [line for line in fsa.split('\\n') if line.strip() != '']\n",
    "    q0 = fsa[0] # first line: initial\n",
    "    F = set(fsa[1].split()) # second line: final, final, ...\n",
    "    R = set()\n",
    "    for line in fsa[2:]: # all subsequent lines: \"source symbol → target\"\n",
    "        l, r = line.split('→')\n",
    "        R |= {(l.split()[0], l.split()[1], r.split()[0])}\n",
    "    T = {r[1] for r in R}\n",
    "    Q = {q0} | F | {r[0] for r in R} | {r[2] for r in R}\n",
    "    return FiniteStateAutomaton(T, Q, R, q0, F)"
   ]
  },
  {
   "cell_type": "markdown",
   "metadata": {},
   "source": [
    "For example, for `A₀` as earlier:"
   ]
  },
  {
   "cell_type": "code",
   "execution_count": null,
   "metadata": {},
   "outputs": [],
   "source": [
    "A0 = parseFSA(\"\"\"\n",
    "q₀\n",
    "f\n",
    "q₀ a → q₁\n",
    "q₁ b → q₁\n",
    "q₁ c → f\n",
    "q₀ c → f\n",
    "\"\"\"); A0"
   ]
  },
  {
   "cell_type": "markdown",
   "metadata": {
    "slideshow": {
     "slide_type": "slide"
    }
   },
   "source": [
    "In Python, we use classes to construct regular expressions: constructors `Choice(e1, e2)`, `Conc(e1, e2)`, and `Star(e)` create objects that represent `e1 | e2`, `e1 e2`, and `e*`, respectively:"
   ]
  },
  {
   "cell_type": "code",
   "execution_count": null,
   "metadata": {
    "slideshow": {
     "slide_type": "-"
    }
   },
   "outputs": [],
   "source": [
    "class Choice:\n",
    "    def __init__(self, e1, e2): self.e1, self.e2 = e1, e2\n",
    "    def __repr__(self): return '(' + str(self.e1) + '|' + str(self.e2) + ')'\n",
    "\n",
    "class Conc:\n",
    "    def __init__(self, e1, e2): self.e1, self.e2 = e1, e2\n",
    "    def __repr__(self): return '(' + str(self.e1) + str(self.e2) + ')'\n",
    "\n",
    "class Star:\n",
    "    def __init__(self, e): self.e = e\n",
    "    def __repr__(self): return '(' + str(self.e) + ')*'"
   ]
  },
  {
   "cell_type": "markdown",
   "metadata": {
    "slideshow": {
     "slide_type": "-"
    }
   },
   "source": [
    "Symbols are represented by characters, with `''` representing `ε`. For example, `(ab)*|c` is represented as:"
   ]
  },
  {
   "cell_type": "code",
   "execution_count": null,
   "metadata": {
    "slideshow": {
     "slide_type": "-"
    }
   },
   "outputs": [],
   "source": [
    "E1 = Choice(Star(Conc('a', 'b')), 'c'); E1"
   ]
  },
  {
   "cell_type": "markdown",
   "metadata": {
    "slideshow": {
     "slide_type": "slide"
    }
   },
   "source": [
    "The Python implementation below closely follows the algorithm. All states are given unique numbers by maintaining a global counter, `QC`, with the next state's name. In the case of `Choice`, the initial states are unified by taking that of one of the automata and renaming the initial state in the other automaton."
   ]
  },
  {
   "cell_type": "code",
   "execution_count": null,
   "metadata": {},
   "outputs": [],
   "source": [
    "def REToFSA(re) -> FiniteStateAutomaton:\n",
    "    global QC\n",
    "    if re == '': q = QC; QC += 1; return FiniteStateAutomaton(set(), {q}, set(), q, {q})\n",
    "    elif type(re) == str:\n",
    "        q = QC; QC += 1; r = QC; QC += 1\n",
    "        return FiniteStateAutomaton({re}, {q, r}, {(q, re, r)}, q, {r})\n",
    "    elif type(re) == Choice:\n",
    "        A1, A2 = REToFSA(re.e1), REToFSA(re.e2)\n",
    "        R2 = {(A1.q0 if q == A2.q0 else q, a, r) for (q, a, r) in A2.R} # A2.q0 renamed to A1.q0 in A2.R\n",
    "        F2 = {A1.q0 if q == A2.q0 else q for q in A2.F} # A2.q0 renamed to A1.q0 in A2.F\n",
    "        return FiniteStateAutomaton(A1.T | A2.T, A1.Q | A2.Q, A1.R | R2, A1.q0, A1.F | F2)\n",
    "    elif type(re) == Conc:\n",
    "        A1, A2 = REToFSA(re.e1), REToFSA(re.e2)\n",
    "        R = A1.R | {(f, a, r) for (q, a, r) in A2.R if q == A2.q0 for f in A1.F} | \\\n",
    "            {(q, a, r) for (q, a, r) in A2.R if q != A2.q0}\n",
    "        F = (A2.F - {A2.q0}) | (A1.F if A2.q0 in A2.F else set())\n",
    "        return FiniteStateAutomaton(A1.T | A2.T, A1.Q | A2.Q, R, A1.q0, F)\n",
    "    elif type(re) == Star:\n",
    "        A = REToFSA(re.e)\n",
    "        R = A.R | {(f, a, r) for (q, a, r) in A.R if q == A.q0 for f in A.F}\n",
    "        return FiniteStateAutomaton(A.T, A.Q, R, A.q0, {A.q0} | A.F)\n",
    "    else: raise Exception('not a regular expression')\n",
    "\n",
    "def convertRegExToFSA(re) -> FiniteStateAutomaton:\n",
    "    global QC; QC = 0\n",
    "    return REToFSA(re)"
   ]
  },
  {
   "cell_type": "markdown",
   "metadata": {
    "slideshow": {
     "slide_type": "slide"
    }
   },
   "source": [
    "For example, revisiting `E₁ = (ab)*|c`:"
   ]
  },
  {
   "cell_type": "code",
   "execution_count": null,
   "metadata": {},
   "outputs": [],
   "source": [
    "convertRegExToFSA(E1)"
   ]
  },
  {
   "cell_type": "markdown",
   "metadata": {
    "slideshow": {
     "slide_type": "slide"
    },
    "solution": "shown",
    "solution_first": true
   },
   "source": [
    "**Question.** What is a finite state automaton for `((a|b)c)*`? What is one for `ab|ac`? Analyze the results of applying `convertRegExToFSA`!"
   ]
  },
  {
   "cell_type": "code",
   "execution_count": null,
   "metadata": {
    "slideshow": {
     "slide_type": "fragment"
    },
    "solution": "shown",
    "tags": []
   },
   "outputs": [],
   "source": [
    "E2 = Star(Conc(Choice('a', 'b'), 'c')); A2 = convertRegExToFSA(E2); A2"
   ]
  },
  {
   "cell_type": "code",
   "execution_count": null,
   "metadata": {
    "slideshow": {
     "slide_type": "fragment"
    },
    "solution": "shown",
    "tags": []
   },
   "outputs": [],
   "source": [
    "E3 = Choice(Conc('a', 'b'), Conc('a', 'c')); A3 = convertRegExToFSA(E3); A3"
   ]
  },
  {
   "cell_type": "markdown",
   "metadata": {
    "solution": "shown"
   },
   "source": [
    "Note that there are two possible transitions in state `0` on `a`."
   ]
  },
  {
   "cell_type": "markdown",
   "metadata": {
    "slideshow": {
     "slide_type": "slide"
    }
   },
   "source": [
    "### Nondeterministic to Deterministic Finite State Automaton"
   ]
  },
  {
   "cell_type": "markdown",
   "metadata": {
    "slideshow": {
     "slide_type": "-"
    }
   },
   "source": [
    "<img style=\"width:18em;float:right\" src=\"./img/nfa.svg\"/>\n",
    "\n",
    "A finite state automaton `A` is _deterministic_ if, in every state and for any input, there is at most one transition which can be taken; otherwise, it is _nondeterministic._ In the example to the right, if the automaton is in state `0` and the next input symbol is `a`, the transition to `1` or to `2` can be taken. If the whole input is `ac` and the transition to `1` was taken, the automaton would need to backtrack to state `0` and take the transition to `2` instead. If the input is `aⁿc`, the automaton must backtrack `n` transitions. As in general nondeterminism can arise with every state, backtracking may require in the order of `2ⁿ` paths to be explored for an input of length `n`, thus is undesirable. "
   ]
  },
  {
   "cell_type": "markdown",
   "metadata": {
    "slideshow": {
     "slide_type": "-"
    },
    "solution": "shown",
    "solution_first": true
   },
   "source": [
    "**Question.** What is an equivalent deterministic finite state automaton? How is it constructed?"
   ]
  },
  {
   "cell_type": "markdown",
   "metadata": {
    "slideshow": {
     "slide_type": "fragment"
    },
    "solution": "shown",
    "tags": []
   },
   "source": [
    "<img style=\"width:18em;float:right\" src=\"./img/dfa.svg\"/>\n",
    "\n",
    "*Answer.* A deterministic finite state automaton can be constructed by unifying the states `1` and `2` of the original automaton."
   ]
  },
  {
   "cell_type": "markdown",
   "metadata": {
    "slideshow": {
     "slide_type": "slide"
    }
   },
   "source": [
    "For finite state automaton `A = (T, Q, R, q₀, F)`, we can construct an equivalent, deterministic finite state automaton `A' = (T, Q', R', q'₀, F')` over the same symbols `T` by the _subset construction_ algorithm, called so as the states `Q'` become sets of states of `Q`. The algorithm iteratively visits all states of `Q` and adds states to `Q'` by merging states of `Q` and adds transitions to `R'` by transforming those of `R`:\n",
    "\n",
    "```\n",
    "procedure deterministicFSA(T, Q, R, q₀, F) → (T, Q', R', q'₀, F')\n",
    "    q'₀ := {q₀}\n",
    "    Q', R', visited := {q'₀}, {}, {}\n",
    "    while Q' ≠ visited do\n",
    "        q' :∈ Q' – visited ; visited := visited ∪ {q'}\n",
    "        for t ∈ T do\n",
    "            r' := {r | q t → r ∈ R, q ∈ q'}\n",
    "            if r' ≠ {} then Q', R' := Q' ∪ {r'}, R' ∪ {q' t → r'}\n",
    "    F' := {q' | f ∈ q', f ∈ F}\n",
    "```\n",
    "\n",
    "The nondeterministic assignment `x :∈ S` assigns to `x` an arbitrary element of set `S`."
   ]
  },
  {
   "cell_type": "markdown",
   "metadata": {
    "slideshow": {
     "slide_type": "slide"
    }
   },
   "source": [
    "<img style=\"width:18em;float:right\" src=\"./img/nfa.svg\"/>\n",
    "\n",
    "Applied to the example, `q'₀` becomes `{0}`. Variables `Q'`, `R'`, `visited` successively become:\n",
    "\n",
    "| `Q'`                      | `R'`               | `visited`  |\n",
    "|:--------------------------|:-------------------|:-----------|\n",
    "| `{{0}}`                   | `{}`               | `{}`       |\n",
    "| `{{0}, {1, 2}}`           | `{{0} a → {1, 2}}` | `{{0}}`    |\n",
    "| `{{0}, {1, 2}, {3}, {4}}` | `{{0} a → {1, 2}, {1, 2} a → {1, 2}, {1, 2} b → {3}, {1, 2} c → {4}}` | `{{0}, {1, 2}}` |\n",
    "| `{{0}, {1, 2}, {3}, {4}}` | `{{0} a → {1, 2}, {1, 2} a → {1, 2}, {1, 2} b → {3}, {1, 2} c → {4}}` | `{{0}, {1, 2}, {3}}` |\n",
    "| `{{0}, {1, 2}, {3}, {4}}` | `{{0} a → {1, 2}, {1, 2} a → {1, 2}, {1, 2} b → {3}, {1, 2} c → {4}}` | `{{0}, {1, 2}, {3}, {4}}` |\n",
    "\n",
    "<img style=\"width:18em;float:right\" src=\"./img/dfa.svg\"/>\n",
    "\n",
    "In the second last step, `{3}` or `{4}` can be visited first. Finally, `F'` becomes `{{3}, {4}}`."
   ]
  },
  {
   "cell_type": "markdown",
   "metadata": {
    "slideshow": {
     "slide_type": "skip"
    },
    "solution": "hidden",
    "solution_first": true
   },
   "source": [
    "**Question.** What are the steps in making the finite state automaton accepting `ab|ac` deterministic?"
   ]
  },
  {
   "cell_type": "markdown",
   "metadata": {
    "slideshow": {
     "slide_type": "skip"
    },
    "solution": "hidden",
    "tags": []
   },
   "source": [
    "*Answer.* The finite state automaton has `T = {a, b, c}`, `Q = {0, 1, 2, 3, 4}`, `q₀ = 0`, `F = {2, 4}` and has rules `R` consisting of `0 a → 1`, `0 a → 3`, `1 b → 2`, `3 c → 4` according to `A₃` above. Then `q'₀` becomes `{0}` and `Q'`, `R'`, `visited` successively become:\n",
    "\n",
    "\n",
    "| `Q'`                      | `R'`               | `visited`  |\n",
    "|:--------------------------|:-------------------|:-----------|\n",
    "| `{{0}}`                   | `{}`               | `{}`       |\n",
    "| `{{0}, {1, 3}}`           | `{{0} a → {1, 3}}` | `{{0}}`    |\n",
    "| `{{0}, {1, 3}, {2}, {4}}` | `{{0} a → {1, 3}, {1, 3} b → {2}, {1, 3} c → {4}}` | `{{0}, {1, 3}}` |\n",
    "| `{{0}, {1, 3}, {2}, {4}}` | `{{0} a → {1, 3}, {1, 3} b → {2}, {1, 3} c → {4}}` | `{{0}, {1, 3}, {4}}` |\n",
    "| `{{0}, {1, 3}, {2}, {4}}` | `{{0} a → {1, 3}, {1, 3} b → {2}, {1, 3} c → {4}}` | `{{0}, {1, 3}, {2}, {4}}` |\n",
    "\n",
    "In the second last step, either `{2}` or `{4}` would be visited first. Finally, `F'` becomes `{{2}, {4}}`."
   ]
  },
  {
   "cell_type": "markdown",
   "metadata": {
    "slideshow": {
     "slide_type": "slide"
    }
   },
   "source": [
    "In general, if the number of states of `A` is `n`, then `A'` will have at most `2ⁿ` states. The resulting deterministic finite state automaton does not require backtracking. The subset construction trades exponential run-time (in the length of the input) for exponential memory (in the size of the original automaton)."
   ]
  },
  {
   "cell_type": "markdown",
   "metadata": {},
   "source": [
    "The implementation of the subset construction in Python follows closely the algorithm. As Python does not allow sets of sets, `frozenset` is used for the new states (elements of sets have to have a hash method defined to allow fast checking of membership; the hash method is only defined for immutable data types like `str` and `frozenset` but sets are mutable):"
   ]
  },
  {
   "cell_type": "code",
   "execution_count": null,
   "metadata": {},
   "outputs": [],
   "source": [
    "def deterministicFSA(fsa: FiniteStateAutomaton, trace = False) -> FiniteStateAutomaton:\n",
    "    qʹ0 = set({fsa.q0})\n",
    "    Qʹ, Rʹ, visited = {qʹ0}, set(), set()\n",
    "    if trace: print(Qʹ, Rʹ, visited)\n",
    "    while visited != Qʹ:\n",
    "        qʹ = (Qʹ - visited).pop(); visited |= {qʹ}\n",
    "        for t in fsa.T:\n",
    "            rʹ = {r for (q, u, r) in fsa.R if u == t and q in qʹ}\n",
    "            if rʹ != set(): Qʹ |= {set(rʹ)}; Rʹ |= {(qʹ, t, set(rʹ))}\n",
    "        if trace: print(Qʹ, Rʹ, visited)\n",
    "    Fʹ = {qʹ for qʹ in Qʹ for f in fsa.F if f in qʹ}\n",
    "    return FiniteStateAutomaton(fsa.T, Qʹ, Rʹ, qʹ0, Fʹ)"
   ]
  },
  {
   "cell_type": "code",
   "execution_count": null,
   "metadata": {
    "slideshow": {
     "slide_type": "slide"
    }
   },
   "outputs": [],
   "source": [
    "A0 = parseFSA(\"\"\"\n",
    "0\n",
    "2\n",
    "0 a → 1\n",
    "1 a → 0\n",
    "1 a → 2\n",
    "\"\"\"); A0"
   ]
  },
  {
   "cell_type": "code",
   "execution_count": null,
   "metadata": {},
   "outputs": [],
   "source": [
    "A0det = deterministicFSA(A0); A0det"
   ]
  },
  {
   "cell_type": "markdown",
   "metadata": {},
   "source": [
    "For example, continuing with `E₃ = ab|ac`:"
   ]
  },
  {
   "cell_type": "code",
   "execution_count": null,
   "metadata": {},
   "outputs": [],
   "source": [
    "E3 = Choice(Conc('a', 'b'), Conc('a', 'c'))\n",
    "A3 = convertRegExToFSA(E3); A3"
   ]
  },
  {
   "cell_type": "code",
   "execution_count": null,
   "metadata": {},
   "outputs": [],
   "source": [
    "A3det = deterministicFSA(A3); A3det"
   ]
  },
  {
   "cell_type": "markdown",
   "metadata": {
    "slideshow": {
     "slide_type": "slide"
    }
   },
   "source": [
    "As another example, let us revisit `aa*b|aa*c`"
   ]
  },
  {
   "cell_type": "code",
   "execution_count": null,
   "metadata": {},
   "outputs": [],
   "source": [
    "E4 = Choice(Conc(Conc('a', Star('a')), 'b'), Conc(Conc('a', Star('a')), 'c'))\n",
    "A4 = convertRegExToFSA(E4); A4"
   ]
  },
  {
   "cell_type": "code",
   "execution_count": null,
   "metadata": {},
   "outputs": [],
   "source": [
    "A4det = deterministicFSA(A4); A4det"
   ]
  },
  {
   "cell_type": "markdown",
   "metadata": {
    "slideshow": {
     "slide_type": "slide"
    }
   },
   "source": [
    "If `A` is deterministic, for every `q` and `u`, there exists at most one `r` such that `(q, u, r) ∈ R`. Thus, we can define a partial _next-state function_ `δ` that, for a given state and input in its domain, returns the unique next state:\n",
    "\n",
    "    δ(q, u) = r  ≡  (q, u, r) ∈ R          (q, u) ∈ dom δ  ≡  (∃ r • (q, u, r) ∈ R)\n",
    "\n",
    "A deterministic finite state automaton can be executed without backtracking. A simple way is by a _universal interpreter_ that takes the finite state automaton and looks up successively the symbols of the input in `δ` to determine the next state from the current state:"
   ]
  },
  {
   "cell_type": "code",
   "execution_count": null,
   "metadata": {},
   "outputs": [],
   "source": [
    "def accepts(fsa: FiniteStateAutomaton, τ: str) -> bool:\n",
    "    δ = {(q, a): r for (q, a, r) in fsa.R}\n",
    "    q = fsa.q0\n",
    "    for t in τ:\n",
    "        if (q, t) in δ: q = δ[q, t]\n",
    "        else: return False\n",
    "    return q in fsa.F"
   ]
  },
  {
   "cell_type": "code",
   "execution_count": null,
   "metadata": {},
   "outputs": [],
   "source": [
    "accepts(A4det, 'aac')"
   ]
  },
  {
   "cell_type": "markdown",
   "metadata": {
    "slideshow": {
     "slide_type": "slide"
    }
   },
   "source": [
    "With readability and efficiency in mind, the states of a (deterministic or nondeterministic) finite state automaton can _renamed_ by numbering them `0`, `1`, etc. A mapping `m` is constructed that maps the original names to the new names:"
   ]
  },
  {
   "cell_type": "code",
   "execution_count": null,
   "metadata": {},
   "outputs": [],
   "source": [
    "def renameFSA(fsa: FiniteStateAutomaton) -> FiniteStateAutomaton:\n",
    "    m, c = {}, 0\n",
    "    for q in fsa.Q:\n",
    "        m[q] = c; c = c + 1\n",
    "    Qʹ = {i for i in range(c)}\n",
    "    Rʹ = {(m[q], u, m[r]) for (q, u, r) in fsa.R}\n",
    "    qʹ0 = m[fsa.q0]\n",
    "    Fʹ = {m[q] for q in fsa.F}\n",
    "    return FiniteStateAutomaton(fsa.T, Qʹ, Rʹ, qʹ0, Fʹ)"
   ]
  },
  {
   "cell_type": "code",
   "execution_count": null,
   "metadata": {},
   "outputs": [],
   "source": [
    "A4simp = renameFSA(A4det); A4simp"
   ]
  },
  {
   "cell_type": "markdown",
   "metadata": {
    "slideshow": {
     "slide_type": "slide"
    }
   },
   "source": [
    "### Finite State Automaton to Regular Grammar"
   ]
  },
  {
   "cell_type": "markdown",
   "metadata": {},
   "source": [
    "For every (deterministic or nondeterministic) finite state automaton `A`, an equivalent regular grammar `G` over the same symbols can be constructed, `L(A) = L(G)`."
   ]
  },
  {
   "cell_type": "markdown",
   "metadata": {
    "slideshow": {
     "slide_type": "-"
    }
   },
   "source": [
    "<img style=\"width:18em;float:right;margin-left:2em\" src=\"./img/A13.svg\"/>\n",
    "\n",
    "For example, for the automaton to the right, a regular grammar is `G = (T, N, P, S)` with `T = {a, b, c}`, `N = {0, 1, 2, 3}`, `S = 0`, and `P` consisting of:\n",
    "\n",
    "  `0 → a 1`  \n",
    "  `0 → c 3`  \n",
    "  `0 → ε`  \n",
    "  `1 → b 2`  \n",
    "  `2 → a 1`  \n",
    "  `2 → ε`  \n",
    "  `3 → ε`"
   ]
  },
  {
   "cell_type": "markdown",
   "metadata": {
    "slideshow": {
     "slide_type": "slide"
    }
   },
   "source": [
    "In general, a grammar `G = (T, N, P, S)` that is equivalent to `A = (T, Q, R, q₀, F)` is:\n",
    "- `N = Q`\n",
    "- `P = {q → t q' | q t → q' ∈ R} ∪ {q → ε | q ∈ F)`\n",
    "- `S = q₀`"
   ]
  },
  {
   "cell_type": "markdown",
   "metadata": {
    "solution": "hidden",
    "solution_first": true
   },
   "source": [
    "<img style=\"width:16em;float:right;margin-top:-.5em;margin-bottom:-.5em\" src=\"./img/nfa.svg\"></img>\n",
    "\n",
    "**Question.** What is an equivalent grammar for the automaton to the right?"
   ]
  },
  {
   "cell_type": "markdown",
   "metadata": {
    "jupyter": {
     "source_hidden": true
    },
    "slideshow": {
     "slide_type": "fragment"
    },
    "solution": "hidden"
   },
   "source": [
    "_Answer._ An equivalent regular grammar is `G = (T, N, P, S)` with `T = {a, b}`, `N = {0, 1, 2, 3, 4}`, `S = 0`, and `P` consisting of:  \n",
    "\n",
    "    0 → a 1\n",
    "    0 → a 2\n",
    "    1 → a 1\n",
    "    1 → b 3\n",
    "    2 → a 2\n",
    "    2 → c 4\n",
    "    3 → ε \n",
    "    4 → ε"
   ]
  },
  {
   "cell_type": "markdown",
   "metadata": {
    "slideshow": {
     "slide_type": "slide"
    }
   },
   "source": [
    "To summarize,\n",
    "- from every regular grammar, an equivalent regular expression can be constructed,\n",
    "- from every regular expression, an equivalent finite state automaton can be constructed, and\n",
    "- from every finite state automaton, an equivalent regular grammar can be constructed.\n",
    "\n",
    "That is, all three define the same set of languages, the _regular languages_. They are particularly interesting since _deterministic acceptors with finite states_ can be constructed for them. These acceptors run in time linear to the length of the input.\n",
    "\n",
    "Acceptors with finite states cannot generally be constructed for larger classes of languages, like context-free languages."
   ]
  },
  {
   "cell_type": "markdown",
   "metadata": {
    "slideshow": {
     "slide_type": "slide"
    }
   },
   "source": [
    "### Minimizing a Finite State Automaton"
   ]
  },
  {
   "cell_type": "markdown",
   "metadata": {
    "slideshow": {
     "slide_type": "-"
    }
   },
   "source": [
    "For a deterministic finite state automaton `A`, an equivalent _minimal_ and deterministic finite state automaton `Aʹ` over the same symbols can be constructed by \"merging\" equivalent states of `A`. The resulting automaton has the least possible number of states and is unique up to the naming of the states.\n",
    "\n",
    "The algorithm partitions states into equivalent states, starting with the coarsest partitioning and refining it as needed. Initially, it is assumed that only the final and non-final states are distinct, i.e., only two equivalence classes exist. The algorithm uses the next-state function `δ`: two states, say `q`, `r` become distinct if on some input `u ∈ T`,\n",
    "- `δ(q, u)` is defined and `δ(r, u)` not, or vice versa, or\n",
    "- in case both `δ(q, u)` and `δ(r, u)` are defined, their values are states previously identified as distinct.\n",
    "\n",
    "This is repeated until no two states can be further distinguished."
   ]
  },
  {
   "cell_type": "markdown",
   "metadata": {
    "slideshow": {
     "slide_type": "slide"
    }
   },
   "source": [
    "<div style=\"float:right;background-color:lightgrey;border-left:20px solid white\">\n",
    "\n",
    "**Example.** <br> `A₄ = (T, Q, R, q₀, F)`  \n",
    "with `T = {a, b, c}`, <br>`Q = {0, 1, 2, 3, 4}`,<br>\n",
    "`q₀ = 0`, `F = {2, 4}`,  <br>\n",
    "and transitions `R`:  \n",
    " \n",
    "  `0 a → 1`  \n",
    "  `1 a → 3`  \n",
    "  `1 b → 4`  \n",
    "  `1 c → 2`  \n",
    "  `3 a → 3`  \n",
    "  `3 b → 4`  \n",
    "  `3 c → 2`  \n",
    "</div>\n",
    "\n",
    "Consider `A₄` to the right. A table is used to show which states are distinct. Initially, `2` and `4`, the final states, are distinct from all other states, indicated by `⓪`. Going over all pairs of states, the first round distinguishes `0` from `1`, as there are transitions on `b` and `c` in `1` but not in `0`, and distinguishes `0` from `3`, for the same reason; this is indicated by `①`. The next round does not distinguish any more states, so the process stops; `1` and `3` are equivalent, and so are `2` and `4`:\n",
    "\n",
    "<div style=\"float:left;background-color:lightgrey;border-right:20px solid white\">\n",
    "\n",
    "|     | `0` | `1` | `2` | `3` | `4` |\n",
    "|:---:|:---:|:---:|:---:|:---:|:---:|\n",
    "| `0` |     | `①` | `⓪` | `①` | `⓪` |\n",
    "| `1` | `①` |     | `⓪` |     | `⓪` |\n",
    "| `2` | `⓪` | `⓪` |     | `⓪` |     |\n",
    "| `3` | `①` |     | `⓪` |     | `⓪` |\n",
    "| `4` | `⓪` | `⓪` |     | `⓪` |     |\n",
    "\n",
    "</div>\n",
    "\n",
    "The new states `Q'` are `{0}`, `{1, 3}`, and `{2, 4}`. For each transition of `R`, there must be a new transition in `Rʹ` that subsumes the source and target states of `R`; these would be:\n",
    "\n",
    "  `{0} a → {3, 1}`  \n",
    "  `{3, 1} a → {3, 1}`  \n",
    "  `{3, 1} b → {2, 4}`  \n",
    "  `{3, 1} c → {2, 4}`  \n",
    "\n",
    "The new initial state `qʹ₀` is that state that contains the old initial state `q₀`, here `{0}`. The new final states `Fʹ` are those that contain a final state of `F`, here `{2, 4}`."
   ]
  },
  {
   "cell_type": "markdown",
   "metadata": {
    "slideshow": {
     "slide_type": "slide"
    }
   },
   "source": [
    "In the _minimization algorithm_, the table is represented as a set of pairs, `dist`, which is modified only by adding pairs. New states `Qʹ` are sets of old states that, according to `dist`, are not distinct:\n",
    "\n",
    "```\n",
    "procedure minimizeFSA(T, Q, R, q₀, F) → (T, Q', R', q'₀, F')\n",
    "    dist := {(q, r) | q, r ∈ Q, (q ∈ F) ≠ (r ∈ F)}\n",
    "    done := false\n",
    "    while ¬done do\n",
    "        done := true\n",
    "        for q, r ∈ Q do\n",
    "            if q ≠ r ∧ (q, r) ∉ dist ∧\n",
    "                (∃ u ∈ T • ((q, u) ∈ dom δ ≠ (r, u) ∈ dom δ) ∨ ((q, u) ∈ dom δ ∧ (δ(q, u), δ(r, u)) ∈ dist)) then\n",
    "                dist := dist ∪ {(q, r)} ; done := false\n",
    "    Qʹ := {{q} ∪ {r | (q, r) ∉ dist} | q ∈ Q}\n",
    "    Rʹ := {(qʹ, u, rʹ) | (q, u, r) ∈ R for some q ∈ qʹ, r ∈ rʹ}\n",
    "    qʹ₀ :∈ Qʹ such that q₀ ∈ qʹ₀\n",
    "    Fʹ := {qʹ ∈ Q' | qʹ ∩ F ≠ {}}\n",
    "```"
   ]
  },
  {
   "cell_type": "markdown",
   "metadata": {
    "slideshow": {
     "slide_type": "slide"
    }
   },
   "source": [
    "The Python implementation closely follows the algorithm. A `dict` is used for `δ`: "
   ]
  },
  {
   "cell_type": "code",
   "execution_count": null,
   "metadata": {},
   "outputs": [],
   "source": [
    "def minimizeFSA(fsa: FiniteStateAutomaton) -> FiniteStateAutomaton:\n",
    "    δ = {(q, a): r for (q, a, r) in fsa.R}\n",
    "    dist = {(q, r) for q in fsa.Q for r in fsa.Q if q != r and (q in fsa.F) != (r in fsa.F)}\n",
    "    done = False\n",
    "    while not done:\n",
    "        done = True #; print(dist)\n",
    "        for q in fsa.Q:\n",
    "            for r in fsa.Q:\n",
    "                if q != r and (q, r) not in dist and any(((q, u) in δ) != ((r, u) in δ) or \\\n",
    "                    ((q, u) in δ) and ((δ[(q, u)], δ[(r, u)]) in dist) for u in fsa.T):\n",
    "                    dist |= {(q, r)}; done = False #; print('adding', q, r)\n",
    "    Qʹ = {set({q} | {r for r in fsa.Q if (q, r) not in dist}) for q in fsa.Q}\n",
    "    Rʹ = {(qʹ, u, rʹ) for qʹ in Qʹ for rʹ in Qʹ for u in fsa.T if any((q, u, r) in fsa.R for q in qʹ for r in rʹ)}\n",
    "    qʹ0 = {qʹ for qʹ in Qʹ if fsa.q0 in qʹ}.pop()\n",
    "    Fʹ = {qʹ for qʹ in Qʹ if (qʹ & fsa.F) != set()}\n",
    "    return FiniteStateAutomaton(fsa.T, Qʹ, Rʹ, qʹ0, Fʹ)"
   ]
  },
  {
   "cell_type": "markdown",
   "metadata": {
    "slideshow": {
     "slide_type": "slide"
    }
   },
   "source": [
    "Let us minimize `A₄`, the automaton accepting `aa*b|aa*c`, and then rename the states for readability:"
   ]
  },
  {
   "cell_type": "code",
   "execution_count": null,
   "metadata": {},
   "outputs": [],
   "source": [
    "A4simp"
   ]
  },
  {
   "cell_type": "code",
   "execution_count": null,
   "metadata": {},
   "outputs": [],
   "source": [
    "A4min = minimizeFSA(A4simp); A4min"
   ]
  },
  {
   "cell_type": "code",
   "execution_count": null,
   "metadata": {},
   "outputs": [],
   "source": [
    "A4opt = renameFSA(A4min); A4opt"
   ]
  },
  {
   "cell_type": "markdown",
   "metadata": {
    "slideshow": {
     "slide_type": "slide"
    },
    "solution": "shown",
    "solution_first": true
   },
   "source": [
    "**Question.** Consider `A₅ = (T, Q, R, q₀, F)` with `T = {a}`, `Q = {0, 1, 2, 3, 4, 5}`, `q₀ = 0`, `F = {1, 4}`, and transitions as below. What is the accepted language? Minimize `A₅`!\n",
    "\n",
    "    0 a → 1\n",
    "    1 a → 2\n",
    "    2 a → 3\n",
    "    3 a → 4\n",
    "    4 a → 5\n",
    "    5 a → 0"
   ]
  },
  {
   "cell_type": "markdown",
   "metadata": {
    "slideshow": {
     "slide_type": "fragment"
    },
    "solution": "shown"
   },
   "source": [
    "*Answer.* The language is the set of all sequences over `a` of length 1, 4, 7, 10, ..., i.e. multiples of 3 plus 1. Minimization results in:"
   ]
  },
  {
   "cell_type": "code",
   "execution_count": null,
   "metadata": {
    "solution": "shown",
    "tags": []
   },
   "outputs": [],
   "source": [
    "A5 = parseFSA(\"\"\"\n",
    "0\n",
    "1 4\n",
    "0 a → 1\n",
    "1 a → 2\n",
    "2 a → 3\n",
    "3 a → 4\n",
    "4 a → 5\n",
    "5 a → 0\n",
    "\"\"\"); minimizeFSA(A5)"
   ]
  },
  {
   "cell_type": "markdown",
   "metadata": {
    "slideshow": {
     "slide_type": "slide"
    },
    "solution": "shown",
    "tags": []
   },
   "source": [
    "### Equivalence of Finite State Automata"
   ]
  },
  {
   "cell_type": "markdown",
   "metadata": {
    "slideshow": {
     "slide_type": "-"
    }
   },
   "source": [
    "The fact that minimal finite state automata are unique, up to the naming of states, can be used for checking their equivalence. For this, additionally, their next-state function has to be *total*, i.e. there exists a transition for all `a ∈ T` in each state `q ∈ Q`. Every automaton can be made total by adding a *trap state*, say `t`, a non-final state with transitions to itself on all symbols. If in a state `q` there is no transition on `a`, the transition `q a → t` is added. As the vocabulary of the completed automaton, we use all lower-case letters. A trap state is only added if the next-state function is not already total:"
   ]
  },
  {
   "cell_type": "code",
   "execution_count": null,
   "metadata": {},
   "outputs": [],
   "source": [
    "def totalFSA(A: FiniteStateAutomaton, t = -1) -> FiniteStateAutomaton:\n",
    "    T = set('abcdefghijklmnopqrstuvwxyz') # T is vocabulary, t is trap state\n",
    "    R = A.R | {(q, a, t) for q in A.Q for a in T if all((q, a, r) not in A.R for r in A.Q)}\n",
    "    if any(r == t for (q, a, r) in R): # transition to t exists\n",
    "        Q = A.Q | {t}\n",
    "        R = R | {(t, a, t) for a in T}\n",
    "    else: Q = A.Q\n",
    "    return FiniteStateAutomaton(T, Q, R, A.q0, A.F)"
   ]
  },
  {
   "cell_type": "markdown",
   "metadata": {
    "slideshow": {
     "slide_type": "-"
    }
   },
   "source": [
    "Suppose `A = (T, Q, R, q₀, F)` and `Aʹ = (T, Qʹ, Rʹ, q₀ʹ, Fʹ)` over the same symbols `T` are given. The _equivalence checking algorithm_ uses a bijection, called `m` below, that maps states of `Q` to states of `Qʹ`. It is successively constructed by visiting all states of `A` that are reachable from `q₀`. For each visited state `q` of `A` and corresponding state `m(q)` of `Aʹ`, transitions on all symbols `u ∈ T` are considered:\n",
    "- if `A` has a transition on `u` and `Aʹ` not, or vice versa, `A` and `Aʹ` are not equivalent;\n",
    "- if `A` and `Aʹ` have transitions on `u` to states that are not related by `m`, then `A` and `Aʹ` are not equivalent; if the transitions lead to states that are not yet in the domain and range of `m`, respectively, then `m` is extended."
   ]
  },
  {
   "cell_type": "markdown",
   "metadata": {
    "slideshow": {
     "slide_type": "slide"
    }
   },
   "source": [
    "A set `v` of states that need to be visited is maintained; the notation `{a → b}` is used for a function that maps `a` to `b`:\n",
    "\n",
    "```\n",
    "procedure equivalentFSA(T, Q, R, q₀, F, Qʹ, Rʹ, q₀ʹ, Fʹ): boolean\n",
    "    m, v := {q₀ → q₀ʹ}, {q₀}\n",
    "    while v ≠ {} do\n",
    "        q :∈ v; qʹ := m(q)\n",
    "        for u ∈ T do\n",
    "            if (q, u) ∈ dom δ ≠ (qʹ, u) ∈ dom δʹ then return false\n",
    "            else if (q, u) ∈ δ then\n",
    "                r, rʹ := δ(q, u), δʹ(q, u)\n",
    "                if r ∈ dom m then\n",
    "                    if m(r) ≠ rʹ then return false\n",
    "                else if rʹ ∈ ran m then return false\n",
    "                else v := v ∪ {r} ; m(r) := rʹ\n",
    "    return Fʹ = {m(q) | q ∈ F}\n",
    "```\n",
    "\n",
    "The last line checks that the final states are equivalent. The algorithm traverses all states of `A` in a tree-like fashion; using a set for `v` leaves it open if the traversal is depth-first or breadth-first.  "
   ]
  },
  {
   "cell_type": "markdown",
   "metadata": {
    "slideshow": {
     "slide_type": "slide"
    }
   },
   "source": [
    "The Python implementation follows the algorithm closely; it checks that the symbols of both automata are the same and assumes that the automata are deterministic and minimal:"
   ]
  },
  {
   "cell_type": "code",
   "execution_count": null,
   "metadata": {},
   "outputs": [],
   "source": [
    "def equivalentFSA(a: FiniteStateAutomaton, aʹ: FiniteStateAutomaton, printMap = False) -> bool:\n",
    "    a = minimizeFSA(totalFSA(a))\n",
    "    aʹ = minimizeFSA(totalFSA(aʹ))\n",
    "    δ = {(q, u): r for (q, u, r) in a.R}\n",
    "    δʹ = {(q, u): r for (q, u, r) in aʹ.R}\n",
    "    m, v = {a.q0: aʹ.q0}, {a.q0}\n",
    "    while v != set():\n",
    "        q = v.pop(); qʹ = m[q]\n",
    "        for u in a.T:\n",
    "            if ((q, u) in δ) != ((qʹ, u) in δʹ): return False\n",
    "            elif (q, u) in δ: # (qʹ, u) in δʹ\n",
    "                r, rʹ = δ[(q, u)], δʹ[(qʹ, u)]\n",
    "                if r in m:\n",
    "                    if m[r] != rʹ: return False\n",
    "                elif rʹ in m.values(): return False\n",
    "                else: v.add(r); m[r] = rʹ\n",
    "    if printMap: print(m) \n",
    "    return aʹ.F == {m[q] for q in a.F}"
   ]
  },
  {
   "cell_type": "markdown",
   "metadata": {},
   "source": [
    "We expect that `A₄` minimized is equivalent to the minimized and renamed version: "
   ]
  },
  {
   "cell_type": "code",
   "execution_count": null,
   "metadata": {},
   "outputs": [],
   "source": [
    "A4min"
   ]
  },
  {
   "cell_type": "code",
   "execution_count": null,
   "metadata": {},
   "outputs": [],
   "source": [
    "A4opt"
   ]
  },
  {
   "cell_type": "code",
   "execution_count": null,
   "metadata": {},
   "outputs": [],
   "source": [
    "equivalentFSA(A4min, A4opt, True) # modify to True"
   ]
  },
  {
   "cell_type": "markdown",
   "metadata": {
    "slideshow": {
     "slide_type": "slide"
    }
   },
   "source": [
    "Checking the equivalence of two regular expressions can be reduced to checking the equivalence of two finite-state automata by first converting the regular expressions to finite-state automata and then making them deterministic. Following checks if `ac | bc` is the same as `(a | b) c`:"
   ]
  },
  {
   "cell_type": "code",
   "execution_count": null,
   "metadata": {},
   "outputs": [],
   "source": [
    "E7 = Choice(Conc('a', 'c'), Conc('b', 'c')) # ac | bc\n",
    "A7 = deterministicFSA(convertRegExToFSA(E7)); A7 "
   ]
  },
  {
   "cell_type": "code",
   "execution_count": null,
   "metadata": {},
   "outputs": [],
   "source": [
    "E8 = Conc(Choice('a', 'b'), 'c') # (a | b) c\n",
    "A8 = deterministicFSA(convertRegExToFSA(E8)); A8 "
   ]
  },
  {
   "cell_type": "code",
   "execution_count": null,
   "metadata": {},
   "outputs": [],
   "source": [
    "equivalentFSA(A7, A8, True)"
   ]
  },
  {
   "cell_type": "markdown",
   "metadata": {
    "slideshow": {
     "slide_type": "slide"
    }
   },
   "source": [
    "Let us define `equalRegEx(e1, e2)` as follows:"
   ]
  },
  {
   "cell_type": "code",
   "execution_count": null,
   "metadata": {
    "slideshow": {
     "slide_type": "-"
    }
   },
   "outputs": [],
   "source": [
    "def equalRegEx(e1, e2) -> bool:\n",
    "    a1 = deterministicFSA(convertRegExToFSA(e1))\n",
    "    a2 = deterministicFSA(convertRegExToFSA(e2))\n",
    "    return equivalentFSA(a1, a2)"
   ]
  },
  {
   "cell_type": "markdown",
   "metadata": {},
   "source": [
    "For example, `[a a*] = a*`:"
   ]
  },
  {
   "cell_type": "code",
   "execution_count": null,
   "metadata": {},
   "outputs": [],
   "source": [
    "equalRegEx(Choice(Conc('a', Star('a')), ''), Star('a'))"
   ]
  },
  {
   "cell_type": "markdown",
   "metadata": {
    "solution": "shown",
    "solution_first": true
   },
   "source": [
    "**Question.** How can you simplify `(a|b*)*`? Make a guess and check it!"
   ]
  },
  {
   "cell_type": "markdown",
   "metadata": {
    "jupyter": {
     "source_hidden": true
    },
    "slideshow": {
     "slide_type": "fragment"
    },
    "solution": "shown",
    "tags": []
   },
   "source": [
    "*Answer.* This can be simplified to `(a|b)*`:"
   ]
  },
  {
   "cell_type": "code",
   "execution_count": null,
   "metadata": {
    "solution": "shown",
    "tags": []
   },
   "outputs": [],
   "source": [
    "equalRegEx(Star(Choice('a', Star('b'))), Star(Choice('a', 'b')))"
   ]
  },
  {
   "cell_type": "markdown",
   "metadata": {
    "heading_collapsed": true,
    "slideshow": {
     "slide_type": "slide"
    }
   },
   "source": [
    "### Historic Notes and Further Reading"
   ]
  },
  {
   "cell_type": "markdown",
   "metadata": {
    "hidden": true
   },
   "source": [
    "Nondeterminism arises in programming languages with concurrency, abstracting from the specifics of scheduling on single or multiple processors (e.g. \"Threads can write the variable in any order\"). Nondeterminism also arises as abstractions in sequential programs (e.g. \"An arbitrary element of the set is removed\"). This is expressed through guarded commands or, more generally, through nondeterministic assignments like `x :∈ S`. This kind of nondeterminism is called _demonic_ as the programmer must be prepared for an arbitrary choice. By contrast, the nondeterminism of finite state automata is called _angelic_ as it will accept an input whenever some choice between nondeterministic transitions exists. Demonic nondeterminism can be implemented by making an arbitrary choice, and angelic nondeterminism can only be through backtracking. Finite state automata are sometimes called *finite state machines*; we use the term finite state automata to distinguish them from finite state machines with demonic nondeterminism."
   ]
  },
  {
   "cell_type": "markdown",
   "metadata": {
    "slideshow": {
     "slide_type": "slide"
    }
   },
   "source": [
    "### Bibliography\n",
    "\n",
    "<div class=\"cite2c-biblio\"></div>"
   ]
  },
  {
   "cell_type": "markdown",
   "metadata": {
    "tags": []
   },
   "source": [
    "<div class=\"cite2c-biblio\"></div>"
   ]
  }
 ],
 "metadata": {
  "kernelspec": {
   "display_name": "Python 3 (ipykernel)",
   "language": "python",
   "name": "python3"
  },
  "language_info": {
   "codemirror_mode": {
    "name": "ipython",
    "version": 3
   },
   "file_extension": ".py",
   "mimetype": "text/x-python",
   "name": "python",
   "nbconvert_exporter": "python",
   "pygments_lexer": "ipython3",
   "version": "3.11.1"
  },
  "livereveal": {
   "scroll": true
  },
  "rise": {
   "enable_chalkboard": true
  }
 },
 "nbformat": 4,
 "nbformat_minor": 4
}
