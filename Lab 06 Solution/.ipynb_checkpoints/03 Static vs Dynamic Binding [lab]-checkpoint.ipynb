{
 "cells": [
  {
   "cell_type": "markdown",
   "metadata": {
    "tags": []
   },
   "source": [
    "### Static vs Dynamic Binding"
   ]
  },
  {
   "cell_type": "markdown",
   "metadata": {
    "tags": []
   },
   "source": [
    "Explain the difference between static and dynamic binding with programming languages you are familiar with! Give examples!"
   ]
  },
  {
   "cell_type": "markdown",
   "metadata": {
    "solution": "hidden",
    "solution_first": true
   },
   "source": [
    "Your solution here"
   ]
  },
  {
   "cell_type": "markdown",
   "metadata": {},
   "source": [
    "*Instructor's Solution:*"
   ]
  },
  {
   "cell_type": "markdown",
   "metadata": {
    "solution": "hidden"
   },
   "source": [
    "In Python, functions are dynamically bound. The call to `f()` in `g()` below is not resolved to the definition of `f` that is valid when `g` is compiled but when `g` is executed. In Python, the declaration of a function is just an assignment of the function body to a variable, the function name. The value of a variable is looked up at execution, hence leads to dynamic binding of functions:"
   ]
  },
  {
   "cell_type": "code",
   "execution_count": null,
   "metadata": {
    "solution": "hidden"
   },
   "outputs": [],
   "source": [
    "def f(): return 3\n",
    "def g(): return f()\n",
    "def f(): return 5\n",
    "g()"
   ]
  },
  {
   "cell_type": "code",
   "execution_count": null,
   "metadata": {
    "solution": "hidden"
   },
   "outputs": [],
   "source": [
    "x = 3\n",
    "def f(): return x\n",
    "x = 5\n",
    "f()"
   ]
  },
  {
   "cell_type": "markdown",
   "metadata": {
    "solution": "hidden"
   },
   "source": [
    "In Java, fields are bound statically but methods are bound dynamically. The difference is observable when inheriting:"
   ]
  },
  {
   "cell_type": "code",
   "execution_count": null,
   "metadata": {
    "solution": "hidden"
   },
   "outputs": [],
   "source": [
    "%%writefile Binding.java\n",
    "class A {\n",
    "    int f = 3;\n",
    "    int m() {return 3;}\n",
    "}\n",
    "class B extends A{\n",
    "    int f = 5;\n",
    "    int m() {return 5;}\n",
    "}\n",
    "class Binding {\n",
    "    public static void main(String[] args) {\n",
    "        A x = new B(); // static (declared) type of x is A, the dynamic (actual) is B\n",
    "        System.out.println(\"x.f:   \" + x.f);   // prints 3: fields are bound statically\n",
    "        System.out.println(\"x.m(): \" + x.m()); // prints 5: methods are bound dynamically\n",
    "    }\n",
    "}"
   ]
  },
  {
   "cell_type": "code",
   "execution_count": null,
   "metadata": {
    "solution": "hidden"
   },
   "outputs": [],
   "source": [
    "!javac Binding.java"
   ]
  },
  {
   "cell_type": "code",
   "execution_count": null,
   "metadata": {
    "solution": "hidden"
   },
   "outputs": [],
   "source": [
    "!java Binding"
   ]
  },
  {
   "cell_type": "markdown",
   "metadata": {
    "tags": []
   },
   "source": [
    "Dynamic binding can in general more easily lead to errors as the textually closest definiton may not be the one that is taken when executing. To make programming safer, Python binds differently when scopes are involved. Explain with the examples below how dynamic binding in Python works! What is the algorithm for resolving functions (or variables in general)?"
   ]
  },
  {
   "cell_type": "code",
   "execution_count": null,
   "metadata": {},
   "outputs": [],
   "source": [
    "def f(): return 5\n",
    "e = f\n",
    "def g(): return f()\n",
    "def f(): return 7\n",
    "e(), g()"
   ]
  },
  {
   "cell_type": "code",
   "execution_count": null,
   "metadata": {},
   "outputs": [],
   "source": [
    "def f(): return 5\n",
    "def g(): return f()\n",
    "def h():\n",
    "    def f(): return 7\n",
    "    return g(), f()\n",
    "h()"
   ]
  },
  {
   "cell_type": "code",
   "execution_count": null,
   "metadata": {},
   "outputs": [],
   "source": [
    "def f(): return y\n",
    "def g(): y = 3; return f()\n",
    "g()"
   ]
  },
  {
   "cell_type": "code",
   "execution_count": null,
   "metadata": {},
   "outputs": [],
   "source": [
    "x = 1\n",
    "def f(): return x\n",
    "def g(): x = 3; return f() + x\n",
    "x = 2\n",
    "g()"
   ]
  },
  {
   "cell_type": "markdown",
   "metadata": {
    "solution": "hidden",
    "solution_first": true
   },
   "source": [
    "Your soluton here"
   ]
  },
  {
   "cell_type": "markdown",
   "metadata": {},
   "source": [
    "*Instructor's Solution:*"
   ]
  },
  {
   "cell_type": "markdown",
   "metadata": {
    "solution": "hidden",
    "tags": []
   },
   "source": [
    "The Python interpreter maintains a list of global definitions and a list of definitions local to each function. If a variable or function is referenced, the definition in the current function is taken. If no such definition exists, the global definition is taken, or an error is reported if that does not exist. "
   ]
  }
 ],
 "metadata": {
  "kernelspec": {
   "display_name": "Python 3 (ipykernel)",
   "language": "python",
   "name": "python3"
  },
  "language_info": {
   "codemirror_mode": {
    "name": "ipython",
    "version": 3
   },
   "file_extension": ".py",
   "mimetype": "text/x-python",
   "name": "python",
   "nbconvert_exporter": "python",
   "pygments_lexer": "ipython3",
   "version": "3.11.1"
  }
 },
 "nbformat": 4,
 "nbformat_minor": 4
}
