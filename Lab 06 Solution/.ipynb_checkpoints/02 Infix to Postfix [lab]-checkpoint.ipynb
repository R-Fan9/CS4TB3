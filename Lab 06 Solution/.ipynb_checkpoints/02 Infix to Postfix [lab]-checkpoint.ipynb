{
 "cells": [
  {
   "cell_type": "markdown",
   "id": "036609c7-45cf-46ed-bc30-fb23d9fb97b3",
   "metadata": {},
   "source": [
    "### Infix to Postfix"
   ]
  },
  {
   "cell_type": "markdown",
   "id": "dbd88b6a-84bd-46fa-a56a-8c02b7463900",
   "metadata": {},
   "source": [
    "Consider the following attribute grammar for converting infix expressions to postfix expressions:\n",
    "\n",
    "    expression(p) → term(p) { '+' ws term(q) « p := p + ' ' + q + ' +' » }\n",
    "    term(p) → factor(p) { '*' ws factor(q) « p := p + ' ' + q + ' *' » }\n",
    "    factor(p) → (integer(p) | '(' expression(p) ')' ) ws\n",
    "    integer(p) → digit(p) { digit(q) « q := q + p» } ws\n",
    "    digit(p) → '0' « p := '0' » | ... | '9' « p := '9' »\n",
    "    ws → { ' ' }\n",
    "\n",
    "Here is an implementation:"
   ]
  },
  {
   "cell_type": "code",
   "execution_count": null,
   "id": "caee988f-9931-48d7-bfaa-fa541dd62d05",
   "metadata": {},
   "outputs": [],
   "source": [
    "pos: int; sym: str; src: str\n",
    "\n",
    "def nxt():\n",
    "    global pos, sym\n",
    "    if pos < len(src): sym, pos = src[pos], pos + 1\n",
    "    else: sym = chr(0) # end of input symbol\n",
    "\n",
    "def expression() -> str:\n",
    "    # expression(p) → term(p) { '+' ws term(q) « p := p + ' ' + q + ' +' » }\n",
    "    ws(); p = term()\n",
    "    while sym == '+': nxt(); ws(); p += ' ' + term() + ' +'\n",
    "    return p\n",
    "\n",
    "def term() -> str:\n",
    "    # term(p) → factor(p) { '*' ws factor(q) « p := p + ' ' + q + ' *' » }\n",
    "    p = factor()\n",
    "    while sym == '*': nxt(); ws(); p += ' ' + factor() + ' *'\n",
    "    return p\n",
    "\n",
    "def factor() -> str:\n",
    "    # factor(p) → (integer(p) | '(' expression(p) ')' ) ws\n",
    "    if '0' <= sym <= '9': p = integer()\n",
    "    elif sym == '(':\n",
    "        nxt(); p = expression()\n",
    "        if sym == ')': nxt(); ws()\n",
    "        else: raise Exception(\"')' expected at \" + str(pos))\n",
    "    else: raise Exception(\"invalid character at \" + str(pos))\n",
    "    return p\n",
    "\n",
    "def integer() -> str:\n",
    "    # integer(p) → digit(p) { digit(q) « q := q + p» } ws\n",
    "    p = digit()\n",
    "    while '0' <= sym <= '9': p += digit()\n",
    "    ws()\n",
    "    return p\n",
    "\n",
    "def digit() -> str:\n",
    "    # digit(p) → '0' « p := '0' » | ... | '9' « p := '9' »\n",
    "    # '0' <= sym <= '9'\n",
    "    p = sym; nxt()\n",
    "    return p\n",
    "\n",
    "def ws():\n",
    "    # ws → { ' ' }\n",
    "    while sym == ' ': nxt()\n",
    "\n",
    "def convert(s) -> str:\n",
    "    global src, pos;\n",
    "    src, pos = s, 0; nxt(); p = expression()\n",
    "    if sym != chr(0): raise Exception(\"unexpected character at \" + str(pos))\n",
    "    return p"
   ]
  },
  {
   "cell_type": "markdown",
   "id": "99b91d48-0d07-4d7e-a177-01642865d657",
   "metadata": {},
   "source": [
    "Extend the translator with unary and binary minus (`-`), integer division `/`, and exponentiation (`^`). First, extend the attribute grammar. Define operator precedence such that\n",
    "- unary `-` binds tighter than all other binary operators, e.g., `-2^2` is converted to `2 ~ 2 ^`,\n",
    "- binary `-` binds as tight as `+` and is left-associative, e.g. `3 - 2 - 1` is converted to `3 2 - 1 -`,\n",
    "- `/` binds as right as `*` and is left-associative, e.g. `2 * 3 / 2 = 3` is converted to `2 3 * 2 /`,\n",
    "- `^` binds tighter than all other binary operators and is right-associative, e.g. `2^2^3` is converted to `2 2 3 ^ ^`.\n",
    "\n",
    "Note that the translation uses `~` for unary minus to distinguish it from `-` for binary minus."
   ]
  },
  {
   "cell_type": "markdown",
   "id": "cc520939-86c9-4b51-aa14-52075d05f942",
   "metadata": {},
   "source": [
    "Your attribute grammar"
   ]
  },
  {
   "cell_type": "markdown",
   "id": "b2b8f0c8-be10-447a-94a2-779a07f7324d",
   "metadata": {},
   "source": [
    "*Instructor's Solution:*"
   ]
  },
  {
   "cell_type": "markdown",
   "id": "90ef57cb-ce94-4eed-99f9-8d321d4652b2",
   "metadata": {},
   "source": [
    "    expression(p) → term(p) { '+' ws term(q) « p := p + ' ' + q + ' +' » | '-' ws term(w) « p := p + ' ' + q + ' -' »}\n",
    "    term(p) → factor(p) { '*' ws factor(q) « p := p + ' ' + q + ' *' » | '/' ws exp(w) « p := p + ' ' + q + ' /' » }\n",
    "    factor(p) → base(p) ['^' ws factor(q)  « p := p + ' ' + q + ' ^' »]\n",
    "    base(p) → integer(p) | '(' expression(p) ')' ws | '-' ws (integer(p) | '(' expression(p) ')' ws) « p := p + ' ~' »\n",
    "    integer(p) → digit(p) { digit(q) « q := q + p» } ws\n",
    "    digit(p) → '0' « p := '0' » | ... | '9' « p := '9' »\n",
    "    ws → { ' ' }"
   ]
  },
  {
   "cell_type": "code",
   "execution_count": null,
   "id": "f6f85aaf-3c11-4e51-ac9d-45674a0243e9",
   "metadata": {},
   "outputs": [],
   "source": [
    "# Your code"
   ]
  },
  {
   "cell_type": "markdown",
   "id": "bc84eb87-d7a2-4813-b148-e611bc21b32b",
   "metadata": {},
   "source": [
    "*Instructor's Code:*"
   ]
  },
  {
   "cell_type": "code",
   "execution_count": null,
   "id": "3f77b623-a7b1-4a0b-807e-7b07f3e9c133",
   "metadata": {},
   "outputs": [],
   "source": [
    "src: str; pos: int; sym: str\n",
    "\n",
    "def nxt():\n",
    "    global pos, sym\n",
    "    if pos < len(src): sym, pos = src[pos], pos + 1\n",
    "    else: sym = chr(0) # end of input symbol\n",
    "\n",
    "def expression() -> int:\n",
    "    # expression(p) → term(p) { '+' ws term(q) « p := p + ' ' + q + ' +' » | '-' ws term(w) « p := p + ' ' + q + ' -' »}\n",
    "    ws(); p = term()\n",
    "    while sym in '+-':\n",
    "        if sym == '+': nxt(); ws(); q = term(); p = p + ' ' + q + ' +'\n",
    "        else: nxt(); ws(); q = term(); p = p + ' ' + q + ' -' \n",
    "    return p\n",
    "\n",
    "def term() -> int:\n",
    "    # term(p) → factor(p) { '*' ws factor(q) « p := p + ' ' + q + ' *' » | '/' ws exp(w) « p := p + ' ' + q + ' /' » }\n",
    "    p = factor()\n",
    "    while sym in '*/':\n",
    "        if sym == '*': nxt(); ws(); q = factor(); p = p + ' ' + q + ' *' \n",
    "        else: nxt(); ws(); q = factor(); p = p + ' ' + q + ' /' \n",
    "    return p\n",
    "\n",
    "def factor() -> int:\n",
    "    # factor(p) → base(p) ['^' ws factor(q)  « p := p + ' ' + q + ' ^' »]\n",
    "    p = base()\n",
    "    if sym == '^': nxt(); ws(); q = factor(); p = p + ' ' + q + ' ^' \n",
    "    return p\n",
    "\n",
    "def base() -> int:\n",
    "    # base(p) → integer(p) | '(' expression(p) ')' ws | '-' ws (integer(p) | '(' expression(p) ')' ws) « p := p + ' ~' »\n",
    "    if '0' <= sym <= '9': p = integer()\n",
    "    elif sym == '(':\n",
    "        nxt(); p = expression()\n",
    "        if sym == ')': nxt(); ws()\n",
    "        else: raise Exception(\"')' expected at \" + str(pos))\n",
    "    elif sym == '-':\n",
    "        nxt()\n",
    "        if '0' <= sym <= '9': p = integer()\n",
    "        elif sym == '(':\n",
    "            nxt(); p = expression()\n",
    "            if sym == ')': nxt(); ws()\n",
    "            else: raise Exception(\"')' expected at \" + str(pos))\n",
    "        p = p + ' ~' \n",
    "    else: raise Exception(\"invalid character at \" + str(pos))\n",
    "    return p\n",
    "\n",
    "def integer() -> int:\n",
    "    # integer(p) → digit(p) { digit(q) « q := q + p» } ws\n",
    "    # '0' <= sym <= '9'\n",
    "    p = digit()\n",
    "    while '0' <= sym <= '9': p = p + digit()\n",
    "    ws()\n",
    "    return p\n",
    "\n",
    "def digit() -> int:\n",
    "    # digit(p) → '0' « p := '0' » | ... | '9' « p := '9' »\n",
    "    # '0' <= sym <= '9'\n",
    "    p = sym; nxt()\n",
    "    return p\n",
    "\n",
    "def ws():\n",
    "    # ws → { ' ' }\n",
    "    while sym == ' ': nxt()\n",
    "\n",
    "def evaluate(s: str) -> int:\n",
    "    global src, pos;\n",
    "    src, pos = s, 0; nxt(); v = expression()\n",
    "    if sym != chr(0): raise Exception(\"unexpected character at \" + str(pos))\n",
    "    return v"
   ]
  },
  {
   "cell_type": "markdown",
   "id": "253ee447-778c-4b1d-a12a-b540364d5dcb",
   "metadata": {},
   "source": [
    "Here are some test cases:"
   ]
  },
  {
   "cell_type": "code",
   "execution_count": null,
   "id": "5b8509bc-3c8b-4f28-9a88-58be57b50734",
   "metadata": {},
   "outputs": [],
   "source": [
    "assert evaluate(\"-2^2\") == \"2 ~ 2 ^\"\n",
    "assert evaluate(\"3 - 2 - 1\") == \"3 2 - 1 -\"\n",
    "assert evaluate(\"2 * 3 / 2\") == \"2 3 * 2 /\"\n",
    "assert evaluate(\"2 ^ 2 ^ 3\") == \"2 2 3 ^ ^\""
   ]
  }
 ],
 "metadata": {
  "kernelspec": {
   "display_name": "Python 3 (ipykernel)",
   "language": "python",
   "name": "python3"
  },
  "language_info": {
   "codemirror_mode": {
    "name": "ipython",
    "version": 3
   },
   "file_extension": ".py",
   "mimetype": "text/x-python",
   "name": "python",
   "nbconvert_exporter": "python",
   "pygments_lexer": "ipython3",
   "version": "3.11.1"
  }
 },
 "nbformat": 4,
 "nbformat_minor": 5
}
