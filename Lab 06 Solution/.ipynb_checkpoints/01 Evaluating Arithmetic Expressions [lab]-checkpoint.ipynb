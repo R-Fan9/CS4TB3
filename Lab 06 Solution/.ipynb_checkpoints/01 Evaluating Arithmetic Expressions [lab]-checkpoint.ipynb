{
 "cells": [
  {
   "cell_type": "markdown",
   "id": "036609c7-45cf-46ed-bc30-fb23d9fb97b3",
   "metadata": {},
   "source": [
    "### Evaluating Arithmetic Expressions"
   ]
  },
  {
   "cell_type": "markdown",
   "id": "99b91d48-0d07-4d7e-a177-01642865d657",
   "metadata": {},
   "source": [
    "Consider the following attribute grammar for evaluating arithmetic expressions:\n",
    "\n",
    "    expression(v) → ws term(v) { '+' ws term(w) « v := v + w » }\n",
    "    term(v) → factor(v) { '*' ws factor(w) « v := v × w » }\n",
    "    factor(v) → integer(v) | '(' expression(v) ')' ws\n",
    "    integer(v) → digit(v) { digit(w) « v := 10 × v + w » } ws\n",
    "    digit(v) → '0' « v := 0 » | … | '9' « v := 9 » \n",
    "    ws → { ' ' }\n",
    "\n",
    "The implementation below contains several simplifications:\n",
    "- the test `sym ∈ {'0', '1', … '9'}` is implemented by `'0' <= sym <= '9'`,\n",
    "- if `sym` is a digit, it is converted to an integer by `ord(sym) - ord('0')`."
   ]
  },
  {
   "cell_type": "code",
   "execution_count": null,
   "id": "cf4648db-de0e-4335-a394-d75478ad1a34",
   "metadata": {},
   "outputs": [],
   "source": [
    "src: str; pos: int; sym: str\n",
    "\n",
    "def nxt():\n",
    "    global pos, sym\n",
    "    if pos < len(src): sym, pos = src[pos], pos + 1\n",
    "    else: sym = chr(0) # end of input symbol\n",
    "\n",
    "def expression() -> int:\n",
    "    # expression(v) → ws term(v) { '+' ws term(w) « v := v + w » }\n",
    "    ws(); v = term()\n",
    "    while sym == '+': nxt(); ws(); w = term(); v = v + w\n",
    "    return v\n",
    "\n",
    "def term() -> int:\n",
    "    # term(v) → factor(v) { '*' ws factor(w) « v := v × w » }\n",
    "    v = factor()\n",
    "    while sym == '*': nxt(); ws(); w = factor(); v = v * w\n",
    "    return v\n",
    "\n",
    "def factor() -> int:\n",
    "    # factor(v) → integer(v) | '(' expression(v) ')' ws\n",
    "    if '0' <= sym <= '9': v = integer()\n",
    "    elif sym == '(':\n",
    "        nxt(); v = expression()\n",
    "        if sym == ')': nxt(); ws()\n",
    "        else: raise Exception(\"')' expected at \" + str(pos))\n",
    "    else: raise Exception(\"invalid character at \" + str(pos))\n",
    "    return v\n",
    "\n",
    "def integer() -> int:\n",
    "    # integer(v) → digit(v) { digit(w) « v := 10 * v + w » } ws\n",
    "    # '0' <= sym <= '9'\n",
    "    v = digit()\n",
    "    while '0' <= sym <= '9': v = 10 * v + digit()\n",
    "    ws()\n",
    "    return v\n",
    "\n",
    "def digit() -> int:\n",
    "    # digit(v) → '0' « v := 0 » | … | '9' « v := 9 »\n",
    "    # '0' <= sym <= '9'\n",
    "    v = ord(sym) - ord('0'); nxt()\n",
    "    return v\n",
    "\n",
    "def ws():\n",
    "    # ws → { ' ' }\n",
    "    while sym == ' ': nxt()\n",
    "\n",
    "def evaluate(s: str) -> int:\n",
    "    global src, pos;\n",
    "    src, pos = s, 0; nxt(); v = expression()\n",
    "    if sym != chr(0): raise Exception(\"unexpected character at \" + str(pos))\n",
    "    return v"
   ]
  },
  {
   "cell_type": "code",
   "execution_count": null,
   "id": "db360a3b-ff9d-4f36-9f49-b21ebb887b45",
   "metadata": {},
   "outputs": [],
   "source": [
    "#evaluate(\"(2 + 3\") # ')' expected at 6\n",
    "#evaluate(\"2 + x\") # invalid character at 5\n",
    "#evaluate(\"2 + 3!\") # unexpected character at 6\n",
    "assert evaluate(\"(2 + 3) * 4 + 5\") == 25"
   ]
  },
  {
   "cell_type": "markdown",
   "id": "ec532824-6333-40ce-926f-8ba3554c7ac3",
   "metadata": {},
   "source": [
    "Extend the evaluator with unary and binary minus (`-`), integer division `/`, and exponentiation (`^`). First, extend the attribute grammar. Define operator precedence such that\n",
    "- unary `-` binds tighter than all other binary operators, e.g., `-2^2 = 4`,\n",
    "- binary `-` binds as tight as `+` and is left-associative, e.g. `3 - 2 - 1= 0`,\n",
    "- `/` binds as tight as `*` and is left-associative, e.g. `2 * 3 / 2 = 3`,\n",
    "- `^` binds tighter than all other binary operators and is right-associative, e.g. `2^2^3 = 256`."
   ]
  },
  {
   "cell_type": "markdown",
   "id": "7ab69742-43c9-4914-80ff-6779424874bd",
   "metadata": {},
   "source": [
    "Your attribute grammar"
   ]
  },
  {
   "cell_type": "markdown",
   "id": "6b63f148-568f-4313-87eb-6d3b981f1d76",
   "metadata": {},
   "source": [
    "*Instructor's Solution:*"
   ]
  },
  {
   "cell_type": "markdown",
   "id": "dee5f6c8-75c3-4718-b789-bbf0c2eba8cd",
   "metadata": {},
   "source": [
    "    expression(v) → ws term(v) { '+' ws term(w) « v := v + w » | '-' ws term(w) « v := v - w » }\n",
    "    term(v) → factor(v) { '*' ws factor(w) « v := v × w » | '/' ws factor(w) « v := v div w »}\n",
    "    factor(v) → base(v) ['^' ws factor(w)  « v := v ^ w »]\n",
    "    base(v) → integer(v) | '(' expression(v) ')' ws | '-' ws (integer(v) | '(' expression(v) ')' ws) « v := -v »\n",
    "    integer(v) → digit(v) { digit(w) « v := 10 × v + w » } ws\n",
    "    digit(v) → '0' « v := 0 » | … | '9' « v := 9 » \n",
    "    ws → { ' ' }"
   ]
  },
  {
   "cell_type": "code",
   "execution_count": null,
   "id": "17f1de44-77e2-48e1-b362-410e82eefff5",
   "metadata": {},
   "outputs": [],
   "source": [
    "# Your code"
   ]
  },
  {
   "cell_type": "markdown",
   "id": "6e42c2f6-7e4e-421b-8a4e-804c5bc482d8",
   "metadata": {},
   "source": [
    "*Instructor's Code:*"
   ]
  },
  {
   "cell_type": "code",
   "execution_count": null,
   "id": "893de811-f354-49a7-bd8f-f9c32ece8ee5",
   "metadata": {},
   "outputs": [],
   "source": [
    "src: str; pos: int; sym: str\n",
    "\n",
    "def nxt():\n",
    "    global pos, sym\n",
    "    if pos < len(src): sym, pos = src[pos], pos + 1\n",
    "    else: sym = chr(0) # end of input symbol\n",
    "\n",
    "def expression() -> int:\n",
    "    # expression(v) → ws term(v) { '+' ws term(w) « v := v + w » | '-' ws term(w) « v := v - w » }\n",
    "    ws(); v = term()\n",
    "    while sym in '+-':\n",
    "        if sym == '+': nxt(); ws(); w = term(); v = v + w\n",
    "        else: nxt(); ws(); w = term(); v = v - w\n",
    "    return v\n",
    "\n",
    "def term() -> int:\n",
    "    # term(v) → factor(v) { '*' ws exp(w) « v := v × w » |  '/' ws exp(w) « v := v div w »}\n",
    "    v = factor()\n",
    "    while sym in '*/':\n",
    "        if sym == '*': nxt(); ws(); w = factor(); v = v * w\n",
    "        else: nxt(); ws(); w = factor(); v = v // w\n",
    "    return v\n",
    "\n",
    "def factor() -> int:\n",
    "    # factor(v) → base(v) ['^' ws factor(w)  « v := v ^ w »]\n",
    "    v = base()\n",
    "    if sym == '^': nxt(); ws(); w = factor(); v = v ** w\n",
    "    return v\n",
    "\n",
    "def base() -> int:\n",
    "    # base(v) → integer(v) | '(' expression(v) ')' ws | '-' ws (integer(v) | '(' expression(v) ')' ws) « v := -v »\n",
    "    if '0' <= sym <= '9': v = integer()\n",
    "    elif sym == '(':\n",
    "        nxt(); v = expression()\n",
    "        if sym == ')': nxt(); ws()\n",
    "        else: raise Exception(\"')' expected at \" + str(pos))\n",
    "    elif sym == '-':\n",
    "        nxt()\n",
    "        if '0' <= sym <= '9': v = integer()\n",
    "        elif sym == '(':\n",
    "            nxt(); v = expression()\n",
    "            if sym == ')': nxt(); ws()\n",
    "            else: raise Exception(\"')' expected at \" + str(pos))\n",
    "        v = -v\n",
    "    else: raise Exception(\"invalid character at \" + str(pos))\n",
    "    return v\n",
    "\n",
    "def integer() -> int:\n",
    "    # integer(v) → digit(v) { digit(w) « v := 10 * v + w » } ws\n",
    "    # '0' <= sym <= '9'\n",
    "    v = digit()\n",
    "    while '0' <= sym <= '9': v = 10 * v + digit()\n",
    "    ws()\n",
    "    return v\n",
    "\n",
    "def digit() -> int:\n",
    "    # digit(v) → '0' « v := 0 » | … | '9' « v := 9 »\n",
    "    # '0' <= sym <= '9'\n",
    "    v = ord(sym) - ord('0'); nxt()\n",
    "    return v\n",
    "\n",
    "def ws():\n",
    "    # ws → { ' ' }\n",
    "    while sym == ' ': nxt()\n",
    "\n",
    "def evaluate(s: str) -> int:\n",
    "    global src, pos;\n",
    "    src, pos = s, 0; nxt(); v = expression()\n",
    "    if sym != chr(0): raise Exception(\"unexpected character at \" + str(pos))\n",
    "    return v"
   ]
  },
  {
   "cell_type": "markdown",
   "id": "a2d2123b-a3b4-4ca0-bccb-a5226a262d0f",
   "metadata": {},
   "source": [
    "Here are some test cases:"
   ]
  },
  {
   "cell_type": "code",
   "execution_count": null,
   "id": "f99afa9b-182c-4050-9b2c-5dae64580ac2",
   "metadata": {},
   "outputs": [],
   "source": [
    "assert evaluate(\"-2^2\") == 4\n",
    "assert evaluate(\"3 - 2 - 1\") == 0\n",
    "assert evaluate(\"2 * 3 / 2\") == 3\n",
    "assert evaluate(\"2 ^ 2 ^ 3\") == 256"
   ]
  }
 ],
 "metadata": {
  "kernelspec": {
   "display_name": "Python 3 (ipykernel)",
   "language": "python",
   "name": "python3"
  },
  "language_info": {
   "codemirror_mode": {
    "name": "ipython",
    "version": 3
   },
   "file_extension": ".py",
   "mimetype": "text/x-python",
   "name": "python",
   "nbconvert_exporter": "python",
   "pygments_lexer": "ipython3",
   "version": "3.11.1"
  }
 },
 "nbformat": 4,
 "nbformat_minor": 5
}
