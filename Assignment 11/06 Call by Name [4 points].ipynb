{
 "cells": [
  {
   "cell_type": "markdown",
   "metadata": {
    "tags": []
   },
   "source": [
    "### Call by Name"
   ]
  },
  {
   "cell_type": "markdown",
   "metadata": {
    "tags": []
   },
   "source": [
    "Consider the following program:\n",
    "```Pascal\n",
    "var s: integer\n",
    "procedure sum(i, l, h, x: integer)\n",
    "  s := 0; i := l\n",
    "  while i < h do\n",
    "    s := s + x; i := i + 1\n",
    "```\n",
    "\n",
    "If all parameters are passed by name, what is the final value of `s` after the call\n",
    "```Pascal\n",
    "sum(a, 1, n, a × a)\n",
    "```\n",
    "assuming that `a` and `n` are integer variables? Use the definitions to argue!"
   ]
  },
  {
   "cell_type": "markdown",
   "metadata": {
    "deletable": false,
    "nbgrader": {
     "cell_type": "markdown",
     "checksum": "cf5b7ce5ae776ac523b08c9e2cc24d12",
     "grade": true,
     "grade_id": "cell-fbaaa3292235c4e5",
     "locked": false,
     "points": 4,
     "schema_version": 3,
     "solution": true,
     "task": false
    }
   },
   "source": [
    "- Call by name:\n",
    "```Pascal\n",
    "sum(a, 1, n, a × a)   =   \n",
    "  (s := 0; i := l\n",
    "  while i < h do\n",
    "    s := s + x; i := i + 1)[i := a, l := 1, h := n, x := a × a] =\n",
    "  s := 0; a := 1\n",
    "  while a < n do\n",
    "    s := s + a × a; a := a + 1\n",
    "```\n",
    "\n",
    "Here, every occurrence of the formal parameter `i` is replaced by the actual parameter `a`, `l` is replaced by `1`, `h` is replaced by `n` and `x` is replaced by `a × a`. `a := 1` assigns `1` to `a`, `while a < n do` iterates through the loop from `1` to `n - 1`. Within each iteration, `s := s + a × a` increments `s` with the value of `a × a`, and `a := a + 1` increments `a` by `1`. Since the while loop executes `n - 1` times, the final value of `s` is \n",
    "\n",
    "if `a < n`: $$s = \\sum_{a=1}^{n-1} a^2$$ Otherwise: $$s = 0$$"
   ]
  },
  {
   "cell_type": "code",
   "execution_count": null,
   "metadata": {},
   "outputs": [],
   "source": []
  }
 ],
 "metadata": {
  "kernelspec": {
   "display_name": "Python 3 (ipykernel)",
   "language": "python",
   "name": "python3"
  },
  "language_info": {
   "codemirror_mode": {
    "name": "ipython",
    "version": 3
   },
   "file_extension": ".py",
   "mimetype": "text/x-python",
   "name": "python",
   "nbconvert_exporter": "python",
   "pygments_lexer": "ipython3",
   "version": "3.11.1"
  }
 },
 "nbformat": 4,
 "nbformat_minor": 4
}
