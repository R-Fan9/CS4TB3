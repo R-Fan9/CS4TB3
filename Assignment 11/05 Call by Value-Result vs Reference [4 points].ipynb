{
 "cells": [
  {
   "cell_type": "markdown",
   "metadata": {
    "tags": []
   },
   "source": [
    "### Call by Value-Result vs Reference"
   ]
  },
  {
   "cell_type": "markdown",
   "metadata": {
    "tags": []
   },
   "source": [
    "Consider the following program:\n",
    "```Pascal\n",
    "var a, b: integer\n",
    "procedure q(x: integer)\n",
    "  x := a + 1; b := a\n",
    "```\n",
    "\n",
    "Suppose initially `a = 1` and `b = 3`. What are the final values of `a` and `b` after the separate calls\n",
    "```Pascal\n",
    "q(a)\n",
    "```\n",
    "and\n",
    "```Pascal\n",
    "q(b)\n",
    "```\n",
    "if the sole parameter of `q` is passed by value/result and by reference? Use the formal definitions to argue!"
   ]
  },
  {
   "cell_type": "markdown",
   "metadata": {
    "deletable": false,
    "nbgrader": {
     "cell_type": "markdown",
     "checksum": "6b8cf9ab5beb079e118ca7a3dc8446c8",
     "grade": true,
     "grade_id": "cell-97dbd5ed65ea3e6c",
     "locked": false,
     "points": 4,
     "schema_version": 3,
     "solution": true,
     "task": false
    }
   },
   "source": [
    "- Call by value/result:\n",
    "```Pascal\n",
    "q(a)   =   var x: integer; x := a̅; x := a + 1; b := a; a̅ := x\n",
    "```\n",
    "Here, `x := a̅` assigns `1` to `x`, `x := a + 1` assigns `2` to `x`. So finally, `b = 1` and `a = 2`.\n",
    "\n",
    "```Pascal\n",
    "q(b)   =   var x: integer; x := b̅; x := a + 1; b := a; b̅ := x\n",
    "```\n",
    "Here, `x := b̅` assigns `1` to `x`, `x := a + 1` assigns `3` to `x`. So finally, `b = 3` and `a = 2`.\n",
    "\n",
    "\n",
    "- Call by reference:\n",
    "```Pascal\n",
    "q(a)   =   (x := a + 1; b := a)[x := a̅]\n",
    "       =   a̅ := a + 1; b := a\n",
    "```\n",
    "Here, `a̅ := a + 1` assigns `2` to `a` and `b := a` assign `2` to `b`. So finally, `b = 2` and `a = 2`.\n",
    "\n",
    "```Pascal\n",
    "q(b)   =   (x := a + 1; b := a)[x := b̅]\n",
    "       =   b̅ := a + 1; b := a\n",
    "```\n",
    "Here, `b̅ := a + 1` assigns `3` to `b` and `b := a` assign `2` to `b`. So finally, `b = 2` and `a = 2`."
   ]
  }
 ],
 "metadata": {
  "kernelspec": {
   "display_name": "Python 3 (ipykernel)",
   "language": "python",
   "name": "python3"
  },
  "language_info": {
   "codemirror_mode": {
    "name": "ipython",
    "version": 3
   },
   "file_extension": ".py",
   "mimetype": "text/x-python",
   "name": "python",
   "nbconvert_exporter": "python",
   "pygments_lexer": "ipython3",
   "version": "3.11.1"
  }
 },
 "nbformat": 4,
 "nbformat_minor": 4
}
