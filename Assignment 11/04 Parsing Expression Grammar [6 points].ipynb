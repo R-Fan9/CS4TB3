{
 "cells": [
  {
   "cell_type": "markdown",
   "metadata": {
    "tags": []
   },
   "source": [
    "### Arithmetic Expressions with Parsing Expression Grammar"
   ]
  },
  {
   "cell_type": "markdown",
   "metadata": {
    "tags": []
   },
   "source": [
    "Consider the following PEG for arithmetic expressions:\n",
    "\n",
    "    S ← E !.\n",
    "    E ← T ('+' T)*\n",
    "    T ← F ('×' F)*\n",
    "    F ← P'²' / P\n",
    "    P ← 'a' / '(' E ')'\n",
    "\n",
    "Implement it as a backtracking parser, following the rules from the course notes. You may use the commented version of method `literal`."
   ]
  },
  {
   "cell_type": "code",
   "execution_count": 43,
   "metadata": {
    "deletable": false,
    "nbgrader": {
     "cell_type": "code",
     "checksum": "eb3644451f18848baf296a53346f1834",
     "grade": true,
     "grade_id": "cell-d26520c7eddbab9b",
     "locked": false,
     "points": 3,
     "schema_version": 3,
     "solution": true,
     "task": false
    }
   },
   "outputs": [],
   "source": [
    "class Backtrack:\n",
    "    src: str\n",
    "\n",
    "    def literal(self, k: int, a: str):\n",
    "        if self.src.startswith(a, k): return k + len(a)\n",
    "        # if self.src.startswith(a, k): print('match', a, 'at', k); return k + len(a)\n",
    "        # else: print('fail', a, 'at', k); return None\n",
    "\n",
    "    def S(self, k: int):\n",
    "        k = self.E(k)\n",
    "        r = k; k = self.literal(k, '.')\n",
    "        k = r if k == None else None\n",
    "        if k != None and k < len(self.src):\n",
    "            k = None\n",
    "        return k\n",
    "\n",
    "    def E(self, k: int):\n",
    "        k = self.T(k)\n",
    "        r = k\n",
    "        while k != None:\n",
    "            r = k\n",
    "            k = self.literal(k, '+')\n",
    "            if k != None: k = self.T(k)\n",
    "        k = r\n",
    "        return k\n",
    "\n",
    "    def T(self, k: int):\n",
    "        k = self.F(k)\n",
    "        r = k\n",
    "        while k != None:\n",
    "            r = k\n",
    "            k = self.literal(k, '×')\n",
    "            if k != None: k = self.F(k)\n",
    "        k = r\n",
    "        return k\n",
    "        \n",
    "    def F(self, k: int):\n",
    "        r = k\n",
    "        k = self.P(k)\n",
    "        k = self.literal(k, '²')\n",
    "        if k == None:\n",
    "            k = r\n",
    "            k = self.P(k)\n",
    "        return k\n",
    "\n",
    "    def P(self, k: int):\n",
    "        r = k\n",
    "        k = self.literal(k, 'a')\n",
    "        if k == None:\n",
    "            k = r\n",
    "            k = self.literal(k, '(')\n",
    "            if k != None: k = self.E(k)\n",
    "            if k != None: k = self.literal(k, ')')\n",
    "        return k\n",
    "    \n",
    "    def parse(self, s: str):\n",
    "        self.src = s; return self.S(0)\n",
    "        "
   ]
  },
  {
   "cell_type": "code",
   "execution_count": 44,
   "metadata": {},
   "outputs": [],
   "source": [
    "p = Backtrack()"
   ]
  },
  {
   "cell_type": "code",
   "execution_count": 45,
   "metadata": {
    "deletable": false,
    "editable": false,
    "nbgrader": {
     "cell_type": "code",
     "checksum": "8998f821831cdc9ecf36944c204126a1",
     "grade": true,
     "grade_id": "cell-2defb949e3f95c23",
     "locked": true,
     "points": 1,
     "schema_version": 3,
     "solution": false,
     "task": false
    }
   },
   "outputs": [],
   "source": [
    "assert p.parse('a²') == 2\n",
    "assert p.parse('a²+a²') == 5\n",
    "assert p.parse('a²+a+a²') == 7"
   ]
  },
  {
   "cell_type": "code",
   "execution_count": 46,
   "metadata": {
    "deletable": false,
    "editable": false,
    "nbgrader": {
     "cell_type": "code",
     "checksum": "e6874b96d3c9c26b3c85bf324df35ff8",
     "grade": true,
     "grade_id": "cell-100652ba17ebb90d",
     "locked": true,
     "points": 1,
     "schema_version": 3,
     "solution": false,
     "task": false
    }
   },
   "outputs": [],
   "source": [
    "assert p.parse('((a)²)') == 6\n",
    "assert p.parse('(a²+a)×a') == 8\n",
    "assert p.parse('a×a²×a') == 6"
   ]
  },
  {
   "cell_type": "code",
   "execution_count": 47,
   "metadata": {
    "deletable": false,
    "editable": false,
    "nbgrader": {
     "cell_type": "code",
     "checksum": "9702e16e89eb9b5af1156358c42db7dc",
     "grade": true,
     "grade_id": "cell-35c67e76c99ad61e",
     "locked": true,
     "points": 1,
     "schema_version": 3,
     "solution": false,
     "task": false
    }
   },
   "outputs": [],
   "source": [
    "assert p.parse('a²²') == None\n",
    "assert p.parse('a+²a') == None\n",
    "assert p.parse('a(+)a') == None"
   ]
  }
 ],
 "metadata": {
  "kernelspec": {
   "display_name": "Python 3 (ipykernel)",
   "language": "python",
   "name": "python3"
  },
  "language_info": {
   "codemirror_mode": {
    "name": "ipython",
    "version": 3
   },
   "file_extension": ".py",
   "mimetype": "text/x-python",
   "name": "python",
   "nbconvert_exporter": "python",
   "pygments_lexer": "ipython3",
   "version": "3.11.1"
  }
 },
 "nbformat": 4,
 "nbformat_minor": 4
}
