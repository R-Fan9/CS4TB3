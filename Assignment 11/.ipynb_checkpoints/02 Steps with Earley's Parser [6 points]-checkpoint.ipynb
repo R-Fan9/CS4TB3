{
 "cells": [
  {
   "cell_type": "markdown",
   "metadata": {
    "tags": []
   },
   "source": [
    "#### Steps with Earley's Parser"
   ]
  },
  {
   "cell_type": "markdown",
   "metadata": {
    "tags": []
   },
   "source": [
    "Consider Earley's parser from the course notes:"
   ]
  },
  {
   "cell_type": "code",
   "execution_count": 6,
   "metadata": {},
   "outputs": [],
   "source": [
    "def parse(g: \"grammar\", x: \"input\"):\n",
    "    global s\n",
    "    n = len(x); x = '^' + x + '$'; S, π = g[0][0], g[0][2:]\n",
    "    s = [{(S, '', π, 0)}] + [set() for _ in range(n)]; print('   s[ 0 ]:', S, '→ •', π, ', 0')\n",
    "    for i in range(n + 1):\n",
    "        v = set() # visited items\n",
    "        while v != s[i]:\n",
    "            e = (s[i] - v).pop(); v.add(e) # pick an arbirary un-visited item\n",
    "            A, σ, τ, j = e\n",
    "            if len(τ) > 0 and τ[0] == x[i + 1]: # match, a == τ[0]\n",
    "                f = (A, σ + τ[0], τ[1:], j)\n",
    "                s[i + 1].add(f); print('M  s[', i + 1, ']:', f[0], '→', f[1], '•', f[2], ',', f[3])\n",
    "            elif len(τ) > 0: # predict, B == ω[0]\n",
    "                for f in ((r[0], '', r[2:], i) for r in g if r[0] == τ[0]):\n",
    "                    s[i].add(f); print('P  s[', i, ']:', f[0], '→', f[1], '•', f[2], ',', f[3])\n",
    "            else: # complete, len(τ) == 0\n",
    "                for f in ((B, μ + ν[0], ν[1:], k) for (B, μ, ν, k) in s[j] if len(ν) > 0 and ν[0] == A):\n",
    "                    s[i].add(f); print('C  s[', i, ']:', f[0], '→', f[1], '•', f[2], ',', f[3])\n",
    "    return (S, π, '', 0) in s[n]"
   ]
  },
  {
   "cell_type": "markdown",
   "metadata": {
    "tags": []
   },
   "source": [
    "In grammar `G0`, the sentence `a+a+a` is accepted:"
   ]
  },
  {
   "cell_type": "code",
   "execution_count": 7,
   "metadata": {},
   "outputs": [],
   "source": [
    "G0 = (\"S→E\", \"E→a\", \"E→a+E\")"
   ]
  },
  {
   "cell_type": "code",
   "execution_count": 8,
   "metadata": {},
   "outputs": [
    {
     "name": "stdout",
     "output_type": "stream",
     "text": [
      "   s[ 0 ]: S → • E , 0\n",
      "P  s[ 0 ]: E →  • a , 0\n",
      "P  s[ 0 ]: E →  • a+E , 0\n",
      "M  s[ 1 ]: E → a •  , 0\n",
      "M  s[ 1 ]: E → a • +E , 0\n",
      "C  s[ 1 ]: S → E •  , 0\n",
      "M  s[ 2 ]: E → a+ • E , 0\n",
      "P  s[ 2 ]: E →  • a , 2\n",
      "P  s[ 2 ]: E →  • a+E , 2\n",
      "M  s[ 3 ]: E → a • +E , 2\n",
      "M  s[ 3 ]: E → a •  , 2\n",
      "C  s[ 3 ]: E → a+E •  , 0\n",
      "M  s[ 4 ]: E → a+ • E , 2\n",
      "C  s[ 3 ]: S → E •  , 0\n",
      "P  s[ 4 ]: E →  • a , 4\n",
      "P  s[ 4 ]: E →  • a+E , 4\n",
      "M  s[ 5 ]: E → a • +E , 4\n",
      "M  s[ 5 ]: E → a •  , 4\n",
      "C  s[ 5 ]: E → a+E •  , 2\n",
      "C  s[ 5 ]: E → a+E •  , 0\n",
      "C  s[ 5 ]: S → E •  , 0\n"
     ]
    }
   ],
   "source": [
    "assert parse(G0, \"a+a+a\")"
   ]
  },
  {
   "cell_type": "markdown",
   "metadata": {
    "tags": []
   },
   "source": [
    "Now consider grammar `G1`, which also generates `a+a+a`, but is ambiguous:"
   ]
  },
  {
   "cell_type": "code",
   "execution_count": 9,
   "metadata": {},
   "outputs": [],
   "source": [
    "G1 = (\"S→E\", \"E→a\", \"E→E+E\")"
   ]
  },
  {
   "cell_type": "code",
   "execution_count": 10,
   "metadata": {},
   "outputs": [
    {
     "name": "stdout",
     "output_type": "stream",
     "text": [
      "   s[ 0 ]: S → • E , 0\n",
      "P  s[ 0 ]: E →  • a , 0\n",
      "P  s[ 0 ]: E →  • E+E , 0\n",
      "M  s[ 1 ]: E → a •  , 0\n",
      "P  s[ 0 ]: E →  • a , 0\n",
      "P  s[ 0 ]: E →  • E+E , 0\n",
      "C  s[ 1 ]: E → E • +E , 0\n",
      "C  s[ 1 ]: S → E •  , 0\n",
      "M  s[ 2 ]: E → E+ • E , 0\n",
      "P  s[ 2 ]: E →  • a , 2\n",
      "P  s[ 2 ]: E →  • E+E , 2\n",
      "M  s[ 3 ]: E → a •  , 2\n",
      "P  s[ 2 ]: E →  • a , 2\n",
      "P  s[ 2 ]: E →  • E+E , 2\n",
      "C  s[ 3 ]: E → E+E •  , 0\n",
      "C  s[ 3 ]: E → E • +E , 2\n",
      "C  s[ 3 ]: E → E • +E , 0\n",
      "C  s[ 3 ]: S → E •  , 0\n",
      "M  s[ 4 ]: E → E+ • E , 0\n",
      "M  s[ 4 ]: E → E+ • E , 2\n",
      "P  s[ 4 ]: E →  • a , 4\n",
      "P  s[ 4 ]: E →  • E+E , 4\n",
      "P  s[ 4 ]: E →  • a , 4\n",
      "P  s[ 4 ]: E →  • E+E , 4\n",
      "P  s[ 4 ]: E →  • a , 4\n",
      "P  s[ 4 ]: E →  • E+E , 4\n",
      "M  s[ 5 ]: E → a •  , 4\n",
      "C  s[ 5 ]: E → E+E •  , 2\n",
      "C  s[ 5 ]: E → E • +E , 4\n",
      "C  s[ 5 ]: E → E+E •  , 0\n",
      "C  s[ 5 ]: E → E • +E , 0\n",
      "C  s[ 5 ]: S → E •  , 0\n",
      "C  s[ 5 ]: E → E+E •  , 0\n",
      "C  s[ 5 ]: E → E • +E , 2\n"
     ]
    }
   ],
   "source": [
    "assert parse(G1, \"a+a+a\")"
   ]
  },
  {
   "cell_type": "markdown",
   "metadata": {
    "tags": []
   },
   "source": [
    "Complete the table below for `a+a+a` to be accepted with grammar `G1`!"
   ]
  },
  {
   "cell_type": "markdown",
   "metadata": {
    "deletable": false,
    "nbgrader": {
     "cell_type": "markdown",
     "checksum": "7d9e85ce0c45dc7c2f2aabcc88569ad6",
     "grade": true,
     "grade_id": "cell-5244bdce119b1c9c",
     "locked": false,
     "points": 6,
     "schema_version": 3,
     "solution": true,
     "task": false
    }
   },
   "source": [
    "|            | item                | step      |\n",
    "|:-----------|:--------------------|:----------|\n",
    "| `s₀`:      | `S → • E, 0`        |           |\n",
    "| `(x₁ = a)` | `E → • a, 0`        | P         |\n",
    "|            | `E → • E + E, 0`    | P         |\n",
    "| `s₁`:      | `E → a •, 0`        | **M at `0`**  |\n",
    "| `(x₂ = +)` | `S → E •, 0`        | C         |\n",
    "|            | `E → E • + E, 0`    | C         |\n",
    "| `s₂`:      | `E → E + • E, 0`    | **M at `1`**  |\n",
    "| `(x₃ = a)` | `E → • a, 2`        | P  |\n",
    "|            | `E → • E + E, 2`    | P  |\n",
    "| `s₃`:      | `E → a •, 2`        | **M at `2`**  |\n",
    "| `(x₄ = +)` | `E → E + E •, 0`    | C         |\n",
    "|            | `E → E • + E, 2`    | C         |\n",
    "|            | `S → E •, 0`        | C         |\n",
    "|            | `E → E • + E, 0`    | C         |\n",
    "| `s₄`:      | `E → E + • E, 2`    | **M at `3`**  |\n",
    "|            | `E → E + • E, 0`    | **M at `3`**  |\n",
    "| `(x₅ = a)` | `E → • a, 4`        | P         |\n",
    "|            | `E → • E + E, 4`    | P         |\n",
    "| `s₅`:      | `E → a •, 4`        | **M at `4`**  |\n",
    "| `(x₆ = $)` | `E → E + E •, 2`    | C        |\n",
    "|            | `E → E • + E, 4`    | C        |\n",
    "|            | `E → E + E •, 0`    | C        |\n",
    "|            | `E → E • + E , 2`   | C        |\n",
    "|            | **`S → E •, 0`**    | **C**    |\n",
    "|            | `E → E • + E, 0`    | C        |"
   ]
  },
  {
   "cell_type": "code",
   "execution_count": null,
   "metadata": {},
   "outputs": [],
   "source": []
  }
 ],
 "metadata": {
  "kernelspec": {
   "display_name": "Python 3 (ipykernel)",
   "language": "python",
   "name": "python3"
  },
  "language_info": {
   "codemirror_mode": {
    "name": "ipython",
    "version": 3
   },
   "file_extension": ".py",
   "mimetype": "text/x-python",
   "name": "python",
   "nbconvert_exporter": "python",
   "pygments_lexer": "ipython3",
   "version": "3.11.1"
  }
 },
 "nbformat": 4,
 "nbformat_minor": 4
}
