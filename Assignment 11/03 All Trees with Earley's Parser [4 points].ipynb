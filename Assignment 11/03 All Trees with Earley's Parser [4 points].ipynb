{
 "cells": [
  {
   "cell_type": "markdown",
   "metadata": {
    "tags": []
   },
   "source": [
    "#### All Trees with Earley's Parser"
   ]
  },
  {
   "cell_type": "markdown",
   "metadata": {},
   "source": [
    "Consider Earley's parser from the course notes:"
   ]
  },
  {
   "cell_type": "code",
   "execution_count": 7,
   "metadata": {},
   "outputs": [],
   "source": [
    "def parse(g: \"grammar\", x: \"input\"):\n",
    "    global s\n",
    "    n = len(x); x = '^' + x + '$'; S, π = g[0][0], g[0][2:]\n",
    "    s = [{(S, '', π, 0)}] + [set() for _ in range(n)]#; print('   s[ 0 ]:', S, '→ •', π, ', 0')\n",
    "    for i in range(n + 1):\n",
    "        v = set() # visited items\n",
    "        while v != s[i]:\n",
    "            e = (s[i] - v).pop(); v.add(e) # pick an arbirary un-visited item\n",
    "            A, σ, τ, j = e\n",
    "            if len(τ) > 0 and τ[0] == x[i + 1]: # match, a == τ[0]\n",
    "                f = (A, σ + τ[0], τ[1:], j)\n",
    "                s[i + 1].add(f)#; print('M  s[', i + 1, ']:', f[0], '→', f[1], '•', f[2], ',', f[3])\n",
    "            elif len(τ) > 0: # predict, B == ω[0]\n",
    "                for f in ((r[0], '', r[2:], i) for r in g if r[0] == τ[0]):\n",
    "                    s[i].add(f)#; print('P  s[', i, ']:', f[0], '→', f[1], '•', f[2], ',', f[3])\n",
    "            else: # complete, len(τ) == 0\n",
    "                for f in ((B, μ + ν[0], ν[1:], k) for (B, μ, ν, k) in s[j] if len(ν) > 0 and ν[0] == A):\n",
    "                    s[i].add(f)#; print('C  s[', i, ']:', f[0], '→', f[1], '•', f[2], ',', f[3])\n",
    "    return (S, π, '', 0) in s[n]"
   ]
  },
  {
   "cell_type": "markdown",
   "metadata": {
    "tags": []
   },
   "source": [
    "In grammar `G0`, the sentence `a+a+a` is accepted:"
   ]
  },
  {
   "cell_type": "code",
   "execution_count": 8,
   "metadata": {},
   "outputs": [],
   "source": [
    "G0 = (\"S→E\", \"E→a\", \"E→a+E\")"
   ]
  },
  {
   "cell_type": "code",
   "execution_count": 9,
   "metadata": {
    "tags": []
   },
   "outputs": [],
   "source": [
    "assert parse(G0, \"a+a+a\")"
   ]
  },
  {
   "cell_type": "code",
   "execution_count": 10,
   "metadata": {},
   "outputs": [],
   "source": [
    "G1 = (\"S→E\", \"E→a\", \"E→E+E\")"
   ]
  },
  {
   "cell_type": "code",
   "execution_count": 11,
   "metadata": {},
   "outputs": [],
   "source": [
    "assert parse(G1, \"a+a+a\")"
   ]
  },
  {
   "cell_type": "markdown",
   "metadata": {
    "tags": []
   },
   "source": [
    "Modify Earley's parser to return the set of all parse trees instead of returning only if the input is accepted."
   ]
  },
  {
   "cell_type": "code",
   "execution_count": 24,
   "metadata": {
    "deletable": false,
    "nbgrader": {
     "cell_type": "code",
     "checksum": "52c5527741ab7c1accaca8fec9c85a41",
     "grade": true,
     "grade_id": "cell-3e096e792c5b12f0",
     "locked": false,
     "points": 0,
     "schema_version": 3,
     "solution": true,
     "task": false
    }
   },
   "outputs": [],
   "source": [
    "def parse(g: \"grammar\", x: \"input\"):\n",
    "    global s\n",
    "    n = len(x); x = '^' + x + '$'; S, π = g[0][0], g[0][2:]\n",
    "    s = [{(S, '', π, 0)}] + [set() for _ in range(n)]\n",
    "    for i in range(n + 1):\n",
    "        v = set()\n",
    "        while v != s[i]:\n",
    "            e = (s[i] - v).pop(); v.add(e)\n",
    "            A, σ, τ, j = e\n",
    "            if len(τ) > 0 and τ[0] == x[i + 1]: # match, a == τ[0]\n",
    "                f = (A, σ + τ[0], τ[1:], j)\n",
    "                s[i + 1].add(f)\n",
    "            elif len(τ) > 0: # predict, B == ω[0]\n",
    "                for f in ((r[0], '', r[2:], i) for r in g if r[0] == τ[0]):\n",
    "                    s[i].add(f)\n",
    "            else: # complete, len(τ) == 0\n",
    "                for f in ((B, μ + ν[0] + '(' + σ + ')', ν[1:], k) for (B, μ, ν, k) in s[j] if len(ν) > 0 and ν[0] == A):\n",
    "                    s[i].add(f)\n",
    "\n",
    "    return {π for (a, π, c, d) in s[n] if a == S and c == '' and d == 0}"
   ]
  },
  {
   "cell_type": "markdown",
   "metadata": {
    "tags": []
   },
   "source": [
    "A node `A` with children `x` and `y` can be represented by the string `A(xy)`. A simple way to construct a parse tree is inside Earley items: in `(A → σ • ω, j)`, the sequence `σ` corresponds to the part that has been recognized (starting at `j + 1`). That can now be replaced with the tree of the part that has been recognized. The completion step, upon recognizing `(A → σ •, j)`, replaces `(B → μ • A ξ, k)` with `(B → μ A • ξ, k)`. This can now be modified such that the new item represents the tree, `(B → μ A(σ) • ξ, k)`. The final set of items will then contain items of the form `(S → π •, 0)` where `π` is the tree. Then, all the different `π` can be returned. This requires only two lines to be modified. Here are some test cases:"
   ]
  },
  {
   "cell_type": "code",
   "execution_count": 25,
   "metadata": {
    "deletable": false,
    "editable": false,
    "nbgrader": {
     "cell_type": "code",
     "checksum": "3aedd675d70441290453f5043132cf3c",
     "grade": true,
     "grade_id": "cell-b7c97dfbb0da1ed6",
     "locked": true,
     "points": 1,
     "schema_version": 3,
     "solution": false,
     "task": false
    }
   },
   "outputs": [],
   "source": [
    "assert parse(G0, \"a+a+a\") == {'E(a+E(a+E(a)))'}"
   ]
  },
  {
   "cell_type": "code",
   "execution_count": 26,
   "metadata": {
    "deletable": false,
    "editable": false,
    "nbgrader": {
     "cell_type": "code",
     "checksum": "7ae328325fc8c08573e8496fc994d488",
     "grade": true,
     "grade_id": "cell-4bdebcf575a52249",
     "locked": true,
     "points": 1,
     "schema_version": 3,
     "solution": false,
     "task": false
    }
   },
   "outputs": [],
   "source": [
    "assert parse(G1, \"a+a+a\") == {'E(E(E(a)+E(a))+E(a))', 'E(E(a)+E(E(a)+E(a)))'}"
   ]
  },
  {
   "cell_type": "code",
   "execution_count": 27,
   "metadata": {},
   "outputs": [],
   "source": [
    "G3 = (\"S→E\", \"E→T\", \"E→E+T\", \"T→F\", \"T→T×F\", \"F→a\")"
   ]
  },
  {
   "cell_type": "code",
   "execution_count": 28,
   "metadata": {
    "deletable": false,
    "editable": false,
    "nbgrader": {
     "cell_type": "code",
     "checksum": "cf64ee1ad4b5a9a07cbe699613d60281",
     "grade": true,
     "grade_id": "cell-50ac563df768e28c",
     "locked": true,
     "points": 1,
     "schema_version": 3,
     "solution": false,
     "task": false
    }
   },
   "outputs": [],
   "source": [
    "assert parse(G3, \"a+a×a\") == {'E(E(T(F(a)))+T(T(F(a))×F(a)))'}"
   ]
  },
  {
   "cell_type": "markdown",
   "metadata": {},
   "source": [
    "Recall the grammar from Chapter Language and Syntax:\n",
    "```EBNF\n",
    "S → NP VP\n",
    "PP → P NP\n",
    "NP → D N | D N PP | 'I'\n",
    "VP → V NP | VP PP\n",
    "D → 'an' | 'my'\n",
    "N → 'elephant' | 'pajamas'\n",
    "V → 'shot'\n",
    "P → 'in'\n",
    "```\n",
    "\n",
    "Since the symbols in the parser are only single characters, we use `𝒮`, `𝒫`, `𝒩`, `𝒱` for `S` (sentence), `PP` (prepositional phrase), `NP` (noun phrase), `VP` (verb phrase). As the grammar has characters as terminals, extra space characters are added at the end of words:"
   ]
  },
  {
   "cell_type": "code",
   "execution_count": 29,
   "metadata": {},
   "outputs": [],
   "source": [
    "G4 = (\"𝒮→𝒩𝒱\", \"𝒫→P𝒩\", \"𝒩→DN\", \"𝒩→DN𝒫\", \"𝒩→I \", \"𝒱→V𝒩\", \"𝒱→𝒱𝒫\", \\\n",
    "      \"D→an \", \"D→my \", \"N→elephant \", \"N→pajamas \", \"V→shot \", \"P→in \")"
   ]
  },
  {
   "cell_type": "code",
   "execution_count": 30,
   "metadata": {
    "deletable": false,
    "editable": false,
    "nbgrader": {
     "cell_type": "code",
     "checksum": "1698905052721ae969a625dc242509ba",
     "grade": true,
     "grade_id": "cell-edaeca23b38510ef",
     "locked": true,
     "points": 1,
     "schema_version": 3,
     "solution": false,
     "task": false
    }
   },
   "outputs": [],
   "source": [
    "assert parse(G4, \"I shot an elephant in my pajamas \") == \\\n",
    "    {'𝒩(I )𝒱(V(shot )𝒩(D(an )N(elephant )𝒫(P(in )𝒩(D(my )N(pajamas )))))',\n",
    "     '𝒩(I )𝒱(𝒱(V(shot )𝒩(D(an )N(elephant )))𝒫(P(in )𝒩(D(my )N(pajamas ))))'}"
   ]
  }
 ],
 "metadata": {
  "kernelspec": {
   "display_name": "Python 3 (ipykernel)",
   "language": "python",
   "name": "python3"
  },
  "language_info": {
   "codemirror_mode": {
    "name": "ipython",
    "version": 3
   },
   "file_extension": ".py",
   "mimetype": "text/x-python",
   "name": "python",
   "nbconvert_exporter": "python",
   "pygments_lexer": "ipython3",
   "version": "3.11.1"
  }
 },
 "nbformat": 4,
 "nbformat_minor": 4
}
